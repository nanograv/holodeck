{
 "cells": [
  {
   "cell_type": "code",
   "execution_count": null,
   "metadata": {},
   "outputs": [],
   "source": [
    "# %load ./init.ipy\n",
    "%reload_ext autoreload\n",
    "%autoreload 2\n",
    "from importlib import reload\n",
    "\n",
    "import os\n",
    "import sys\n",
    "import logging\n",
    "import warnings\n",
    "import numpy as np\n",
    "import astropy as ap\n",
    "import scipy as sp\n",
    "import scipy.stats\n",
    "import matplotlib as mpl\n",
    "import matplotlib.pyplot as plt\n",
    "\n",
    "import h5py\n",
    "import tqdm.notebook as tqdm\n",
    "\n",
    "import kalepy as kale\n",
    "import kalepy.utils\n",
    "import kalepy.plot\n",
    "\n",
    "import holodeck as holo\n",
    "import holodeck.sam\n",
    "import holodeck.gravwaves\n",
    "from holodeck import cosmo, utils, plot\n",
    "from holodeck.constants import MSOL, PC, YR, MPC, GYR, SPLC\n",
    "\n",
    "# Silence annoying numpy errors\n",
    "np.seterr(divide='ignore', invalid='ignore', over='ignore')\n",
    "warnings.filterwarnings(\"ignore\", category=UserWarning)\n",
    "\n",
    "# Plotting settings\n",
    "mpl.rc('font', **{'family': 'serif', 'sans-serif': ['Times'], 'size': 15})\n",
    "mpl.rc('lines', solid_capstyle='round')\n",
    "mpl.rc('mathtext', fontset='cm')\n",
    "plt.rcParams.update({'grid.alpha': 0.5})\n",
    "mpl.style.use('default')   # avoid dark backgrounds from dark theme vscode\n",
    "\n",
    "log = holo.log\n",
    "log.setLevel(logging.INFO)"
   ]
  },
  {
   "cell_type": "code",
   "execution_count": null,
   "metadata": {},
   "outputs": [],
   "source": [
    "resamp = holo.population.PM_Resample(0.5)    # downsample for faster execution\n",
    "ecc = holo.population.PM_Eccentricity()\n",
    "pop = holo.population.Pop_Illustris(mods=[ecc, resamp])"
   ]
  },
  {
   "cell_type": "markdown",
   "metadata": {},
   "source": [
    "# `Fixed_Time` phenomenological hardening model"
   ]
  },
  {
   "cell_type": "code",
   "execution_count": null,
   "metadata": {},
   "outputs": [],
   "source": [
    "Fixed_Time = holo.evolution.Fixed_Time"
   ]
  },
  {
   "cell_type": "markdown",
   "metadata": {},
   "source": [
    "## Basic Example"
   ]
  },
  {
   "cell_type": "markdown",
   "metadata": {},
   "source": [
    "Choose a set time interval over which binaries should coalesce, and evolve the population"
   ]
  },
  {
   "cell_type": "code",
   "execution_count": null,
   "metadata": {},
   "outputs": [],
   "source": [
    "time = 6.0 * GYR\n",
    "fixed = holo.evolution.Fixed_Time.from_pop(pop, time, gamma_sc=-0.5, gamma_df=+1.5)\n",
    "evo = holo.evolution.Evolution(pop, fixed)\n",
    "evo.evolve()"
   ]
  },
  {
   "cell_type": "markdown",
   "metadata": {},
   "source": [
    "Plot the distribution of actual lifetimes, which will differ slightly due to the approximations being used."
   ]
  },
  {
   "cell_type": "code",
   "execution_count": null,
   "metadata": {},
   "outputs": [],
   "source": [
    "tage = evo.tage   #: Age of the universe for each binary and time-step, shaped (B, T)\n",
    "dt = tage[:, -1] - tage[:, 0]   #: Difference in time from start to end, for each binary\n",
    "\n",
    "fig, ax = plot.figax(scale='lin', xlabel='Coalescence Time $[\\mathrm{Gyr}]$', ylabel='density')\n",
    "# plot distribution using `kalepy`\n",
    "kale.dist1d(dt/GYR, density=True)\n",
    "ax.axvline(time/GYR, ls='--', color='k', alpha=0.35, lw=2.0)\n",
    "plt.show()"
   ]
  },
  {
   "cell_type": "markdown",
   "metadata": {},
   "source": [
    "## Plot evolutionary tracks (hardening timescale vs separation)"
   ]
  },
  {
   "cell_type": "code",
   "execution_count": null,
   "metadata": {},
   "outputs": [],
   "source": [
    "NUM = 30\n",
    "xname = ['sepa', 'fobs']\n",
    "xvals = [np.logspace(-4, 4, NUM), np.logspace(-2, 2, NUM)] \n",
    "units = [PC, 1/YR]\n",
    "\n",
    "fig, axes = plot.figax(\n",
    "    ncols=2, wspace=0.25,\n",
    "    ylabel='Hardening Time $a/\\\\left(da/dt\\\\right)$ $[\\mathrm{Gyr}]$',\n",
    "    xlabel=['Separation $[\\mathrm{pc}]$', 'Frequecy $[\\mathrm{yr}^{-1}]$'],                    \n",
    ")\n",
    "\n",
    "for ax, nn, xx, uu in zip(axes, xname, xvals, units):\n",
    "    data = evo.at(nn, xx*uu, params='dadt', lin_interp=True)\n",
    "    tt = xvals[0] / -(data['dadt']*GYR/PC)\n",
    "\n",
    "    # med, *conf = np.percentile(tt, [50, 25, 75], axis=0)\n",
    "    med, *conf = utils.quantile_filtered(tt, percs=[0.5, 0.25, 0.75], axis=0)\n",
    "    hh, = ax.plot(xx, med)\n",
    "    ax.fill_between(xx, *conf, alpha=0.25, color=hh.get_color())\n",
    "    \n",
    "plt.show()"
   ]
  },
  {
   "cell_type": "markdown",
   "metadata": {},
   "source": [
    "## Functional Form of the hardening model"
   ]
  },
  {
   "cell_type": "code",
   "execution_count": null,
   "metadata": {},
   "outputs": [],
   "source": [
    "rads = np.logspace(-3, 4, 100)\n",
    "mtot = 1.0e9 * MSOL\n",
    "mrat = 0.2\n",
    "rchar = 30.0 * PC\n",
    "g1 = -1.0\n",
    "g2 = +2.5\n",
    "norm = 1e5\n",
    "\n",
    "fig, axes = plot.figax(\n",
    "    figsize=[12, 3], ncols=3, wspace=0.3, \n",
    "    xlabel='Separation $[\\mathrm{pc}]$', ylabel='Hardening Time $[\\mathrm{yr}]$',\n",
    ")\n",
    "\n",
    "kw_vline = dict(alpha=0.4, ls='--')\n",
    "\n",
    "# ---- Vary the normalization\n",
    "ax = axes[0]\n",
    "ax.set(title=\"Normalization\")\n",
    "for nn in [1e3, 1e5, 1e7]:\n",
    "    yy, _ = Fixed_Time._dadt_dedt(mtot, mrat, rads*PC, nn, rchar, g1, g2)\n",
    "    yy = np.fabs(yy)\n",
    "    yy = rads / yy\n",
    "    ax.plot(rads, yy, label=f\"$10^{{{np.log10(nn):.1f}}}$\")\n",
    "\n",
    "ax.axvline(rchar/PC, color='k', **kw_vline)\n",
    "ax.legend(title='norm')\n",
    "\n",
    "# ---- Vary the transition radius\n",
    "ax = axes[1]\n",
    "ax.set(title=\"Transition Radius\")\n",
    "for rc in [3e-1, 1e1, 3e2]:\n",
    "    yy, _ = Fixed_Time._dadt_dedt(mtot, mrat, rads*PC, norm, rc*PC, g1, g2)\n",
    "    yy = np.fabs(yy)\n",
    "    yy = rads / yy\n",
    "    lab = f\"$10^{{{np.log10(rc):.1f}}}$\"\n",
    "    hh, = ax.plot(rads, yy, label=lab)\n",
    "    ax.axvline(rc, color=hh.get_color(), **kw_vline)\n",
    "    \n",
    "ax.legend(title='rchar $[\\mathrm{pc}]$')\n",
    "\n",
    "# ---- Vary power-law indices\n",
    "ax = axes[2]\n",
    "ax.set(title=\"Power-Law Indices\")\n",
    "for gg in [[-2.0, 2.5], [-0.5, 0.0], [+0.0, 3.5]]:\n",
    "    yy, _ = Fixed_Time._dadt_dedt(mtot, mrat, rads*PC, norm, rchar, *gg)\n",
    "    yy = np.fabs(yy)\n",
    "    yy = rads / yy\n",
    "    lab = \"${:+.1f}, {:+.1f}$\".format(*gg)\n",
    "    ax.plot(rads, yy, label=lab)\n",
    "    ax.axvline(rchar/PC, color='k', **kw_vline)\n",
    "    \n",
    "ax.legend(title='$\\gamma_1$, $\\gamma_2$')\n",
    "\n",
    "\n",
    "plt.show()"
   ]
  },
  {
   "cell_type": "markdown",
   "metadata": {},
   "source": [
    "# Physical Processes"
   ]
  },
  {
   "cell_type": "markdown",
   "metadata": {},
   "source": [
    "## Dynamical Friction"
   ]
  },
  {
   "cell_type": "code",
   "execution_count": null,
   "metadata": {},
   "outputs": [],
   "source": [
    "df = holo.evolution.Dynamical_Friction_NFW()"
   ]
  },
  {
   "cell_type": "code",
   "execution_count": null,
   "metadata": {},
   "outputs": [],
   "source": [
    "mtot = 1e9*MSOL\n",
    "mrat = 0.2\n",
    "redz = 0.5\n",
    "sepa = 1e-2 * PC\n",
    "dt = GYR\n",
    "# dt = 0\n",
    "# times = np.arange(sepa.size)[::-1] * dt\n",
    "m1m2 = utils.m1m2_from_mtmr(mtot, mrat)\n",
    "\n",
    "mstar = df._mmbulge.mstar_from_mbh(m1m2.sum(axis=-1), scatter=False)\n",
    "mhalo = df._smhm.halo_mass(mstar, redz, clip=True)\n",
    "\n",
    "dadt_df_atten, _ = df._dadt_dedt(m1m2, sepa, redz, dt, None, True)\n",
    "dadt_df_noatt, _ = df._dadt_dedt(m1m2, sepa, redz, dt, None, False)\n",
    "\n",
    "tau = (sepa * PC) / -dadt_df\n",
    "tau *= GYR/PC\n",
    "\n"
   ]
  },
  {
   "cell_type": "code",
   "execution_count": null,
   "metadata": {},
   "outputs": [],
   "source": [
    "mtot = 1e9*MSOL\n",
    "mrat = 0.2\n",
    "redz = 0.5\n",
    "sepa = np.logspace(-5, 5, 100)\n",
    "m1m2 = utils.m1m2_from_mtmr(mtot, mrat)\n",
    "\n",
    "def plot_df_dadt(m1m2, sepa, redz, times, eccen, atten, **kwargs):\n",
    "    dadt_df, _ = df._dadt_dedt(m1m2, sepa, redz, times, eccen, atten)\n",
    "    tau = sepa / -dadt_df\n",
    "    tau /= GYR\n",
    "    return ax.plot(sepa/PC, tau, **kwargs)\n",
    "\n",
    "\n",
    "fig, ax = plot.figax(xlabel='Separation $[\\mathrm{pc}]$', ylabel='Hardening Time $[\\mathrm{Gyr}]$')\n",
    "title = [\n",
    "    rf\"M = 10^{{{np.log10(mtot/MSOL):.1f}}} \\, M_\\odot\",\n",
    "    # rf\"q = 10^{{{np.log10(mrat):.1f}}}\",\n",
    "    rf\"q = {mrat:.2f}\",\n",
    "    rf\"z = {redz:.2f}\",\n",
    "]\n",
    "title = ['$' + tt + '$' for tt in title]\n",
    "title = \" , \".join(title)\n",
    "\n",
    "ax.set_title(title, fontsize=12)\n",
    "colors = [ax._get_lines.get_next_color() for ii in range(2)]\n",
    "lines = [':', '--']\n",
    "\n",
    "for ii, atten in enumerate([True, False]):\n",
    "    for jj, time in enumerate([0.0, np.inf]):\n",
    "        lab = f'a={atten}, t={time}'\n",
    "        col = colors[ii]\n",
    "        ls = lines[jj]\n",
    "        kw = dict(color=col, ls=ls, label=lab, alpha=0.5, lw=2.0)\n",
    "        plot_df_dadt(m1m2, sepa*PC, redz, time, eccen=0.0, atten=atten, **kw)\n",
    "\n",
    "ax.legend(title='Attenuated')\n",
    "plt.show()\n"
   ]
  },
  {
   "cell_type": "markdown",
   "metadata": {},
   "source": [
    "# Composite Hardening Model"
   ]
  },
  {
   "cell_type": "code",
   "execution_count": null,
   "metadata": {},
   "outputs": [],
   "source": [
    "hards = [\n",
    "    holo.evolution.Hard_GW,\n",
    "    holo.evolution.Sesana_Scattering(),\n",
    "    holo.evolution.Dynamical_Friction_NFW(),\n",
    "]"
   ]
  },
  {
   "cell_type": "markdown",
   "metadata": {},
   "source": [
    "Construct `Evolution` instance and run"
   ]
  },
  {
   "cell_type": "code",
   "execution_count": null,
   "metadata": {},
   "outputs": [],
   "source": [
    "evo = holo.evolution.Evolution(pop, hards, debug=True)\n",
    "evo.evolve()"
   ]
  },
  {
   "cell_type": "markdown",
   "metadata": {},
   "source": [
    "Interpolate evolutionary tracks to regular intervals for plotting"
   ]
  },
  {
   "cell_type": "code",
   "execution_count": null,
   "metadata": {},
   "outputs": [],
   "source": [
    "rads = np.logspace(-4, 4, 100) * PC\n",
    "num_hard = len(hards)\n",
    "params = ['eccen', 'dadt', 'dedt',]\n",
    "params += [f'_dadt_{ii}' for ii in range(num_hard)]\n",
    "params += [f'_dedt_{ii}' for ii in range(num_hard)]\n",
    "\n",
    "# lin_interp_list = evo._LIN_INTERP_PARS + params\n",
    "lin_interp_list = params\n",
    "data = evo.at('sepa', rads, params=params, lin_interp=lin_interp_list)"
   ]
  },
  {
   "cell_type": "markdown",
   "metadata": {},
   "source": [
    "Plot evolutionary tracks"
   ]
  },
  {
   "cell_type": "code",
   "execution_count": null,
   "metadata": {},
   "outputs": [],
   "source": [
    "fig, axes = plot.figax(\n",
    "    figsize=[10, 6], nrows=2,\n",
    "    xlabel=r\"Separation $[\\mathrm{pc}]$\", ylabel=r'Timescale $[\\mathrm{yr}]$',\n",
    ")\n",
    "\n",
    "\n",
    "frac = utils.frac_str(evo.scafa[:, -1] < 1.0, )\n",
    "xx = rads / PC\n",
    "\n",
    "ax = axes[0]\n",
    "ax.set(title=f\"coalescing = {frac}\", ylim=[1e2, 1e12])\n",
    "dadt = data['dadt']\n",
    "vals = np.fabs(dadt)\n",
    "vals = rads / vals\n",
    "vals = vals / YR\n",
    "confs = utils.quantiles(vals, sigmas=[-1, 0, 1], axis=0)\n",
    "confs = confs.T\n",
    "med, *confs = confs[[1, 0, 2]]\n",
    "\n",
    "ax.plot(xx, med, 'k-')\n",
    "ax.fill_between(xx, *confs, color='k', alpha=0.2)\n",
    "\n",
    "ax = axes[1]\n",
    "ax.set_yscale('symlog', linthresh=1e3)\n",
    "ax.set(ylim=[-1e12, 1e12])\n",
    "vals = data[\"dedt\"]\n",
    "vals = data['eccen'] / vals\n",
    "vals = vals / YR\n",
    "confs = utils.quantiles(vals, sigmas=[-1, 0, 1], axis=0)\n",
    "confs = confs.T\n",
    "med, *confs = confs[[1, 0, 2]]\n",
    "ax.plot(xx, med, 'k-', alpha=0.25)\n",
    "ax.fill_between(xx, *confs, color='k', alpha=0.1)\n",
    "\n",
    "vals = data['eccen']\n",
    "xx = rads / PC\n",
    "confs = utils.quantiles(vals, sigmas=[-1, 0, 1], axis=0)\n",
    "confs = confs.T\n",
    "med, *confs = confs[[1, 0, 2]]\n",
    "\n",
    "tw = ax.twinx()\n",
    "tw.set(yscale='linear', label='eccentricity')\n",
    "col = 'r'\n",
    "tw.plot(xx, med, ls='--', color=col, alpha=0.2)\n",
    "tw.plot(xx, confs[0], ls=':', color=col, alpha=0.1)\n",
    "tw.plot(xx, confs[-1], ls=':', color=col, alpha=0.1)\n",
    "tw.fill_between(xx, *confs, color=col, alpha=0.05)\n",
    "\n",
    "for ii in range(num_hard):\n",
    "    try:\n",
    "        lab = hards[ii].__name__\n",
    "    except AttributeError:\n",
    "        lab = hards[ii].__class__.__name__\n",
    "        \n",
    "    vals = np.fabs(data[f\"_dadt_{ii}\"])\n",
    "    vals = rads / vals\n",
    "    vals = vals / YR\n",
    "\n",
    "    confs = utils.quantiles(vals, sigmas=[-1, 1], axis=0).T\n",
    "    axes[0].fill_between(xx, *confs, alpha=0.2, label=lab)\n",
    "\n",
    "    # eccentricity\n",
    "    if evo.eccen is None:\n",
    "        continue\n",
    "\n",
    "    vals = data[f\"_dedt_{ii}\"]\n",
    "    vals = data['eccen'] / vals\n",
    "    vals = vals / YR\n",
    "\n",
    "    confs = utils.quantiles(vals, sigmas=[-1, 1], axis=0).T\n",
    "    axes[1].fill_between(xx, *confs, alpha=0.2)\n",
    "\n",
    "axes[0].legend(loc='lower right')\n",
    "plt.show()"
   ]
  },
  {
   "cell_type": "markdown",
   "metadata": {},
   "source": [
    "# Simplest Custom Population and Hardening Model"
   ]
  },
  {
   "cell_type": "code",
   "execution_count": null,
   "metadata": {},
   "outputs": [],
   "source": [
    "SIZE = 100\n",
    "\n",
    "class Pop(holo.population._Population_Discrete):\n",
    "\n",
    "    def _init(self):\n",
    "        self.mass = (10.0 ** np.random.uniform(6, 10, (SIZE, 2))) * MSOL\n",
    "        self.sepa = (10.0 ** np.random.uniform(1, 3, SIZE)) * 1e3 * PC\n",
    "        self.scafa = np.random.uniform(0.25, 0.75, SIZE)\n",
    "        return\n",
    "\n",
    "class Hard(holo.evolution._Hardening):\n",
    "\n",
    "    def dadt_dedt(self, evo, step, *args, **kwargs):\n",
    "        dadt = -(PC/YR) * np.ones(evo.size)\n",
    "        dedt = None\n",
    "        return dadt, dedt\n",
    "\n",
    "# Construct instances\n",
    "pop = Pop()\n",
    "hard = Hard()\n",
    "evo = holo.evolution.Evolution(pop, hard)\n",
    "# evolve population\n",
    "evo.evolve()"
   ]
  },
  {
   "cell_type": "markdown",
   "metadata": {},
   "source": [
    "Plot the resulting evolution of each binary showing coalescences"
   ]
  },
  {
   "cell_type": "code",
   "execution_count": null,
   "metadata": {},
   "outputs": [],
   "source": [
    "fig, ax = plot.figax()\n",
    "\n",
    "idx = ()\n",
    "xx = evo.tage[idx]/GYR\n",
    "xx = xx - xx[:, 0, np.newaxis]\n",
    "yy = evo.sepa[idx]/PC\n",
    "\n",
    "ax.plot(xx.T, yy.T)\n",
    "\n",
    "plt.show()"
   ]
  },
  {
   "cell_type": "markdown",
   "metadata": {},
   "source": [
    "# Dynamical_Friction_NFW"
   ]
  },
  {
   "cell_type": "code",
   "execution_count": null,
   "metadata": {},
   "outputs": [],
   "source": [
    "resamp = holo.population.PM_Resample(0.1)    # downsample for faster execution\n",
    "ecc = holo.population.PM_Eccentricity()\n",
    "pop = holo.population.Pop_Illustris(mods=[ecc, resamp])\n",
    "\n",
    "df = holo.evolution.Dynamical_Friction_NFW(attenuate=False)"
   ]
  },
  {
   "cell_type": "code",
   "execution_count": null,
   "metadata": {},
   "outputs": [],
   "source": [
    "log.setLevel(logging.DEBUG)\n",
    "\n",
    "evo = holo.evolution.Evolution(pop, [df, holo.evolution.Hard_GW()], nsteps=20)\n",
    "evo.evolve()"
   ]
  },
  {
   "cell_type": "code",
   "execution_count": null,
   "metadata": {},
   "outputs": [],
   "source": [
    "xx = np.logspace(-4, 4, 100)\n",
    "\n",
    "sepa = xx * PC\n",
    "\n",
    "data = evo.at('sepa', sepa)\n",
    "\n",
    "\n",
    "redz = cosmo.a_to_z(data['scafa'])\n",
    "bads = ~np.isfinite(redz)\n",
    "\n",
    "mstar = df._mmbulge.mstar_from_mbh(data['mass'].sum(axis=-1), scatter=False)   # use total bh-mass\n",
    "ms = mstar.flatten()\n",
    "rz = redz.flatten()\n",
    "sel = np.isfinite(ms)\n",
    "mhalo = np.zeros_like(ms)\n",
    "mhalo[sel] = df._smhm.halo_mass(ms[sel], rz[sel], clip=True)\n",
    "# mhalo = mhalo.reshape(mstar.shape)\n",
    "\n",
    "# model tidal-stripping of secondary's bulge (see: [Kelley2017a]_ Eq.6)\n",
    "velo = np.zeros_like(ms)\n",
    "aa = np.ones_like(redz) * sepa[np.newaxis, :]\n",
    "velo[sel] = df._NFW.velocity_circular(aa.flatten()[sel], mhalo[sel], rz[sel])\n",
    "velo = velo.reshape(redz.shape)\n",
    "\n",
    "\n",
    "fig, ax = plot.figax()\n",
    "\n",
    "med, *conf = np.percentile(np.fabs(data['dadt']), [50, 25, 75], axis=0)\n",
    "hh, = ax.plot(xx, med)\n",
    "col = hh.get_color()\n",
    "ax.fill_between(xx, *conf, color=col, alpha=0.25)\n",
    "\n",
    "med, *conf = np.percentile(velo, [50, 25, 75], axis=0)\n",
    "hh, = ax.plot(xx, med)\n",
    "col = hh.get_color()\n",
    "ax.fill_between(xx, *conf, color=col, alpha=0.25)\n",
    "\n",
    "plt.show()"
   ]
  }
 ],
 "metadata": {
  "kernelspec": {
   "display_name": "Python 3.10.2 ('py310')",
   "language": "python",
   "name": "python3"
  },
  "language_info": {
   "codemirror_mode": {
    "name": "ipython",
    "version": 3
   },
   "file_extension": ".py",
   "mimetype": "text/x-python",
   "name": "python",
   "nbconvert_exporter": "python",
   "pygments_lexer": "ipython3",
   "version": "3.10.2"
  },
  "toc": {
   "base_numbering": 1,
   "nav_menu": {},
   "number_sections": true,
   "sideBar": true,
   "skip_h1_title": false,
   "title_cell": "Table of Contents",
   "title_sidebar": "Contents",
   "toc_cell": false,
   "toc_position": {},
   "toc_section_display": true,
   "toc_window_display": true
  },
  "varInspector": {
   "cols": {
    "lenName": 16,
    "lenType": 16,
    "lenVar": 40
   },
   "kernels_config": {
    "python": {
     "delete_cmd_postfix": "",
     "delete_cmd_prefix": "del ",
     "library": "var_list.py",
     "varRefreshCmd": "print(var_dic_list())"
    },
    "r": {
     "delete_cmd_postfix": ") ",
     "delete_cmd_prefix": "rm(",
     "library": "var_list.r",
     "varRefreshCmd": "cat(var_dic_list()) "
    }
   },
   "types_to_exclude": [
    "module",
    "function",
    "builtin_function_or_method",
    "instance",
    "_Feature"
   ],
   "window_display": false
  },
  "vscode": {
   "interpreter": {
    "hash": "1f0c7602c82e39efa19a01e5e068584db7a6d17aff8711ab06660aac81377393"
   }
  }
 },
 "nbformat": 4,
 "nbformat_minor": 4
}
