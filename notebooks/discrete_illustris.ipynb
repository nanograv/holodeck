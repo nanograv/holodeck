{
 "cells": [
  {
   "cell_type": "code",
   "execution_count": null,
   "metadata": {},
   "outputs": [],
   "source": [
    "# %load ./init.ipy\n",
    "%reload_ext autoreload\n",
    "%autoreload 2\n",
    "from importlib import reload\n",
    "\n",
    "import os\n",
    "import sys\n",
    "import logging\n",
    "import warnings\n",
    "import numpy as np\n",
    "import astropy as ap\n",
    "import scipy as sp\n",
    "import scipy.stats\n",
    "import matplotlib as mpl\n",
    "import matplotlib.pyplot as plt\n",
    "\n",
    "import h5py\n",
    "import tqdm.notebook as tqdm\n",
    "\n",
    "import kalepy as kale\n",
    "import kalepy.utils\n",
    "import kalepy.plot\n",
    "\n",
    "import holodeck as holo\n",
    "import holodeck.sam\n",
    "import holodeck.gravwaves\n",
    "from holodeck import cosmo, utils, plot\n",
    "from holodeck.constants import MSOL, PC, YR, MPC, GYR, SPLC\n",
    "\n",
    "# Silence annoying numpy errors\n",
    "np.seterr(divide='ignore', invalid='ignore', over='ignore')\n",
    "warnings.filterwarnings(\"ignore\", category=UserWarning)\n",
    "\n",
    "# Plotting settings\n",
    "mpl.rc('font', **{'family': 'serif', 'sans-serif': ['Times'], 'size': 15})\n",
    "mpl.rc('lines', solid_capstyle='round')\n",
    "mpl.rc('mathtext', fontset='cm')\n",
    "plt.rcParams.update({'grid.alpha': 0.5})\n",
    "mpl.style.use('default')   # avoid dark backgrounds from dark theme vscode\n",
    "\n",
    "log = holo.log\n",
    "log.setLevel(logging.INFO)"
   ]
  },
  {
   "cell_type": "markdown",
   "metadata": {},
   "source": [
    "# Quick-Start"
   ]
  },
  {
   "cell_type": "markdown",
   "metadata": {},
   "source": [
    "Create an Illustris-Based Population, and a simple binary-evolution model"
   ]
  },
  {
   "cell_type": "code",
   "execution_count": null,
   "metadata": {},
   "outputs": [],
   "source": [
    "# ---- Create initial population\n",
    "\n",
    "pop = holo.population.Pop_Illustris()\n",
    "\n",
    "# ---- Evolve binary population\n",
    "\n",
    "# create a fixed-total-time hardening mechanism\n",
    "fixed = holo.evolution.Fixed_Time.from_pop(pop, 2.0 * GYR)\n",
    "# Create an evolution instance using population and hardening mechanism\n",
    "evo = holo.evolution.Evolution(pop, fixed)\n",
    "# evolve binary population\n",
    "evo.evolve()"
   ]
  },
  {
   "cell_type": "markdown",
   "metadata": {},
   "source": [
    "Calculate GWB"
   ]
  },
  {
   "cell_type": "code",
   "execution_count": null,
   "metadata": {},
   "outputs": [],
   "source": [
    "# construct sampling frequencies\n",
    "freqs = holo.utils.nyquist_freqs(dur=20.0*YR, cad=0.3*YR)\n",
    "# calculate discretized GW signals\n",
    "gwb = holo.gravwaves.GW_Discrete(evo, freqs, nreals=30)\n",
    "gwb.emit()"
   ]
  },
  {
   "cell_type": "markdown",
   "metadata": {},
   "source": [
    "Plot GWB"
   ]
  },
  {
   "cell_type": "code",
   "execution_count": null,
   "metadata": {},
   "outputs": [],
   "source": [
    "plot.plot_gwb(gwb)\n",
    "plt.show()"
   ]
  },
  {
   "cell_type": "markdown",
   "metadata": {},
   "source": [
    "# Population Modifiers (`_Population_Modifier`)"
   ]
  },
  {
   "cell_type": "markdown",
   "metadata": {},
   "source": [
    "## Resample (`PM_Resample`)"
   ]
  },
  {
   "cell_type": "markdown",
   "metadata": {},
   "source": [
    "Apply a modifier to resample binary population by some factor, increasing the number of sample points"
   ]
  },
  {
   "cell_type": "code",
   "execution_count": null,
   "metadata": {},
   "outputs": [],
   "source": [
    "mod_resamp = holo.population.PM_Resample(resample=2.0)\n",
    "old_size = pop.size\n",
    "pop.modify(mod_resamp)\n",
    "print(f\"Population size increased from {old_size} to {pop.size} elements\")"
   ]
  },
  {
   "cell_type": "markdown",
   "metadata": {},
   "source": [
    "Plot resampled population, now with many more points"
   ]
  },
  {
   "cell_type": "code",
   "execution_count": null,
   "metadata": {},
   "outputs": [],
   "source": [
    "plot.plot_bin_pop(pop)\n",
    "plt.show()"
   ]
  },
  {
   "cell_type": "markdown",
   "metadata": {},
   "source": [
    "## Mass Reset (`PM_Mass_Reset`)"
   ]
  },
  {
   "cell_type": "markdown",
   "metadata": {},
   "source": [
    "Apply another `Modifier` to change the MBH masses to match a particular M-Mbulge relation"
   ]
  },
  {
   "cell_type": "code",
   "execution_count": null,
   "metadata": {},
   "outputs": [],
   "source": [
    "# Create the modifier using M-Mbulge relation\n",
    "mmbulge = holo.relations.MMBulge_KH2013()\n",
    "mod_KH2013 = holo.population.PM_Mass_Reset(mmbulge, scatter=True)\n",
    "\n",
    "# Choose percentiles for reporting statistical properties\n",
    "percs = 100*sp.stats.norm.cdf([-1, 0, 1])\n",
    "percs = [0,] + percs.tolist() + [100,]\n",
    "\n",
    "# Format nicely\n",
    "str_array = lambda xx: \", \".join([\"{:.2e}\".format(yy) for yy in xx])\n",
    "str_masses = lambda xx: str_array(np.percentile(xx/MSOL, percs))\n",
    "\n",
    "# Modify population\n",
    "print(f\"                {0:7.0f}% {16:7.0f}% {50:7.0f}% {84:7.0f}% {100:7.0f}%\")\n",
    "print(\"Masses before: \", str_masses(pop.mass))\n",
    "pop.modify(mod_KH2013)\n",
    "print(\"Masses after : \", str_masses(pop.mass))"
   ]
  },
  {
   "cell_type": "markdown",
   "metadata": {},
   "source": [
    "Plot MBH-Galaxy scaling relationship, showing old and new masses (i.e. before and after modification)"
   ]
  },
  {
   "cell_type": "code",
   "execution_count": null,
   "metadata": {},
   "outputs": [],
   "source": [
    "plot.plot_mbh_scaling_relations(pop)\n",
    "plt.show()"
   ]
  },
  {
   "cell_type": "markdown",
   "metadata": {},
   "source": [
    "## Eccentricity (`PM_Eccentricity`)"
   ]
  },
  {
   "cell_type": "markdown",
   "metadata": {},
   "source": [
    "Demonstrate the eccentricity function"
   ]
  },
  {
   "cell_type": "code",
   "execution_count": null,
   "metadata": {},
   "outputs": [],
   "source": [
    "DEF_VALS = [1.0, 0.2]\n",
    "NUM = 1e3\n",
    "\n",
    "edges = np.linspace(0.0, 1.0, 61)\n",
    "kw = dict(hist=False, density=True, edges=edges)\n",
    "\n",
    "fig, axes = plt.subplots(figsize=[10, 6], nrows=2)\n",
    "for ax in axes:\n",
    "    ax.grid(alpha=0.15)\n",
    "    \n",
    "ax = axes[0]\n",
    "handles = []\n",
    "labels = []\n",
    "for cent in [0.1, 0.2, 0.5, 1.0, 2.0, 5.0, 10.0]:\n",
    "    vals = [vv for vv in DEF_VALS]\n",
    "    vals[0] = cent\n",
    "    ecc = holo.population.PM_Eccentricity(vals)\n",
    "    xx = ecc._random_eccentricities(NUM)\n",
    "    hh = kale.dist1d(xx, ax=ax, **kw)\n",
    "    handles.append(hh)\n",
    "    labels.append(vals)\n",
    "    \n",
    "ax.legend(handles, labels, fontsize=8)\n",
    "\n",
    "\n",
    "ax = axes[1]\n",
    "kw = dict(hist=True, density=False, edges=edges)\n",
    "handles = []\n",
    "labels = []\n",
    "for wid in [0.01, 0.05, 0.1, 0.5, 2]:\n",
    "    vals = [vv for vv in DEF_VALS]\n",
    "    vals[1] = wid\n",
    "    ecc = holo.population.PM_Eccentricity(vals)\n",
    "    xx = ecc._random_eccentricities(NUM)\n",
    "    hh = kale.dist1d(xx, ax=ax, **kw)\n",
    "    handles.append(hh)\n",
    "    labels.append(vals)\n",
    "    \n",
    "ax.legend(handles, labels, fontsize=8)\n",
    "\n",
    "plt.show()"
   ]
  },
  {
   "cell_type": "markdown",
   "metadata": {},
   "source": [
    "Add eccentricity to binary population, plot all initial binary parameters"
   ]
  },
  {
   "cell_type": "code",
   "execution_count": null,
   "metadata": {},
   "outputs": [],
   "source": [
    "ecc = holo.population.PM_Eccentricity()\n",
    "pop.modify(ecc)\n",
    "plot.plot_bin_pop(pop)\n",
    "plt.show()"
   ]
  },
  {
   "cell_type": "markdown",
   "metadata": {},
   "source": [
    "# Binary Evolution Models"
   ]
  },
  {
   "cell_type": "markdown",
   "metadata": {},
   "source": [
    "## Phenomenological 'Fixed Time' Evolution Model"
   ]
  },
  {
   "cell_type": "markdown",
   "metadata": {},
   "source": [
    "The `holodeck.evolution.Fixed_Time` class uses a simple parametrized hardening model that forces all binaries to coalesce in a given total amount of time.  It uses a double power-law in hardening timescale [i.e. $\\tau_a \\equiv a / (da/dt) = dt/d\\ln a$], with two power-law indices, and a transition binary-separation, as the parameters.  Based on those three parameters, it constructs a complete binary evolution history for each binary (including GW emission), and chooses a normalization such that the total evolution time matches the desired value."
   ]
  },
  {
   "cell_type": "markdown",
   "metadata": {},
   "source": [
    "Construct an `Evolution` instance using a `Fixed_Time` model for the given lifetime."
   ]
  },
  {
   "cell_type": "code",
   "execution_count": null,
   "metadata": {},
   "outputs": [],
   "source": [
    "# Set timescale for all binaries to merge over\n",
    "fix_time = 3.0 * GYR\n",
    "# ---- Construct hardening model with this desired merging time\n",
    "# When this instance is created, it calculates the appropriate hardening normalization for each\n",
    "# binary to reach the desired coalescing time\n",
    "fixed = holo.evolution.Fixed_Time.from_pop(pop, fix_time)\n",
    "# Construct evolution instance using fixed time hardening\n",
    "evo = holo.evolution.Evolution(pop, fixed)\n",
    "# Evolve population\n",
    "evo.evolve()"
   ]
  },
  {
   "cell_type": "markdown",
   "metadata": {},
   "source": [
    "Compare resulting lifetimes to the targeted lifetime.  The match won't be perfect, but it should be within a few percent of the desired timescale (`fix_time`)."
   ]
  },
  {
   "cell_type": "code",
   "execution_count": null,
   "metadata": {},
   "outputs": [],
   "source": [
    "# Calculate the total lifetime of each binary\n",
    "time = evo.tlook\n",
    "dt = time[:, 0] - time[:, -1]\n",
    "\n",
    "# Create figure\n",
    "fig, ax = plot.figax(scale='lin', xlabel='Time: actual/specified', ylabel='density')\n",
    "# use kalepy to plot distribution\n",
    "kale.dist1d(dt/fix_time, density=True)\n",
    "\n",
    "plt.show()"
   ]
  },
  {
   "cell_type": "markdown",
   "metadata": {},
   "source": [
    "Plot the hardening timescale ($\\tau_a$) vs. binary separation ($a$)."
   ]
  },
  {
   "cell_type": "code",
   "execution_count": null,
   "metadata": {},
   "outputs": [],
   "source": [
    "# Create spacing in separation (xaxis) to plot against\n",
    "sepa = np.logspace(-4, 4, 100) * PC\n",
    "# Plot hardening rates\n",
    "plot.plot_evo(evo, sepa=sepa)\n",
    "\n",
    "plt.show()"
   ]
  },
  {
   "cell_type": "markdown",
   "metadata": {},
   "source": [
    "Plot the hardening timescale ($\\tau_f$) vs. binary frequency ($f$)."
   ]
  },
  {
   "cell_type": "code",
   "execution_count": null,
   "metadata": {},
   "outputs": [],
   "source": [
    "# Create frequency spacing (xaxis) to plot against\n",
    "freqs = np.logspace(-3, 1, 30) / YR\n",
    "# plot evolution\n",
    "plot.plot_evo(evo, freqs=freqs)\n",
    "plt.show()"
   ]
  },
  {
   "cell_type": "markdown",
   "metadata": {},
   "source": [
    "Calculate GWB from the `evolution` instance, which takes into account the fixed-time hardening model"
   ]
  },
  {
   "cell_type": "code",
   "execution_count": null,
   "metadata": {},
   "outputs": [],
   "source": [
    "gwb = holo.gravwaves.GW_Discrete(evo, freqs, nreals=5)\n",
    "gwb.emit()"
   ]
  },
  {
   "cell_type": "markdown",
   "metadata": {},
   "source": [
    "Plot GWB."
   ]
  },
  {
   "cell_type": "code",
   "execution_count": null,
   "metadata": {},
   "outputs": [],
   "source": [
    "plot.plot_gwb(gwb)\n",
    "plt.show()"
   ]
  }
 ],
 "metadata": {
  "kernelspec": {
   "display_name": "Python 3.10.2 ('py310')",
   "language": "python",
   "name": "python3"
  },
  "language_info": {
   "codemirror_mode": {
    "name": "ipython",
    "version": 3
   },
   "file_extension": ".py",
   "mimetype": "text/x-python",
   "name": "python",
   "nbconvert_exporter": "python",
   "pygments_lexer": "ipython3",
   "version": "3.10.2"
  },
  "toc": {
   "base_numbering": 1,
   "nav_menu": {},
   "number_sections": true,
   "sideBar": true,
   "skip_h1_title": false,
   "title_cell": "Table of Contents",
   "title_sidebar": "Contents",
   "toc_cell": false,
   "toc_position": {},
   "toc_section_display": true,
   "toc_window_display": true
  },
  "varInspector": {
   "cols": {
    "lenName": 16,
    "lenType": 16,
    "lenVar": 40
   },
   "kernels_config": {
    "python": {
     "delete_cmd_postfix": "",
     "delete_cmd_prefix": "del ",
     "library": "var_list.py",
     "varRefreshCmd": "print(var_dic_list())"
    },
    "r": {
     "delete_cmd_postfix": ") ",
     "delete_cmd_prefix": "rm(",
     "library": "var_list.r",
     "varRefreshCmd": "cat(var_dic_list()) "
    }
   },
   "types_to_exclude": [
    "module",
    "function",
    "builtin_function_or_method",
    "instance",
    "_Feature"
   ],
   "window_display": false
  },
  "vscode": {
   "interpreter": {
    "hash": "1f0c7602c82e39efa19a01e5e068584db7a6d17aff8711ab06660aac81377393"
   }
  }
 },
 "nbformat": 4,
 "nbformat_minor": 4
}
