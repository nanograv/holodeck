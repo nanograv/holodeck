{
 "cells": [
  {
   "cell_type": "code",
   "execution_count": null,
   "metadata": {},
   "outputs": [],
   "source": [
    "# %load ../init.ipy\n",
    "%reload_ext autoreload\n",
    "%autoreload 2\n",
    "from importlib import reload\n",
    "\n",
    "import numpy as np\n",
    "import matplotlib.cm as cm\n",
    "\n",
    "import holodeck as holo\n",
    "from holodeck import plot, utils\n",
    "from holodeck.constants import YR"
   ]
  },
  {
   "attachments": {},
   "cell_type": "markdown",
   "metadata": {},
   "source": [
    "# Build Semi-Analytic Model, sam\n",
    "Select a shape (smaller for speed, larger for accuracy, best with None) and use defaults for all other parameters (GSMF, GMT, MMbulge) in sam"
   ]
  },
  {
   "cell_type": "code",
   "execution_count": null,
   "metadata": {},
   "outputs": [],
   "source": [
    "# SHAPE = None # default shape, if None, is 91,81,101.\n",
    "SHAPE = 40  # make this smaller to run faster, for debugging\n",
    "\n",
    "# get PTA frequencies\n",
    "fobs_gw_cents, fobs_gw_edges = utils.pta_freqs()\n",
    "\n",
    "# build Semi-Analytic Model\n",
    "sam = holo.sams.Semi_Analytic_Model(shape=SHAPE)  "
   ]
  },
  {
   "attachments": {},
   "cell_type": "markdown",
   "metadata": {},
   "source": [
    "# Calculate SS and GWB strain with sam.gwb()\n",
    "This function calls single_sources.ss_gws_redz().\n",
    "\n",
    "### Choose a hardening model"
   ]
  },
  {
   "cell_type": "code",
   "execution_count": null,
   "metadata": {},
   "outputs": [],
   "source": [
    "# uncomment one of the following hardening models\n",
    "\n",
    "# # GW only hardening\n",
    "hard=holo.hardening.Hard_GW()\n",
    "\n",
    "# # Fixed Time (phenomenological) hardening\n",
    "# hard = holo.hardening.Fixed_Time_2PL_SAM(sam, 3*GYR)\n",
    "\n",
    "assert isinstance(hard, (holo.hardening.Fixed_Time_2PL_SAM, holo.hardening.Hard_GW))"
   ]
  },
  {
   "cell_type": "markdown",
   "metadata": {},
   "source": [
    "### Set the number of realizations and loudest sources"
   ]
  },
  {
   "cell_type": "code",
   "execution_count": null,
   "metadata": {},
   "outputs": [],
   "source": [
    "NREALS = 30 # Set the number of strain realizations\n",
    "NLOUDEST = 10 # set the number of loudest single sources to distinguish at each frequency"
   ]
  },
  {
   "cell_type": "markdown",
   "metadata": {},
   "source": [
    "### Calculate the characteristic strain of the single sources and background\n",
    "* hc_ss is shape [F,R,L] = [nfrequencies, nreals, nloudest], and gives the characteristic strain of each individual loudest source\n",
    "* hc_bg is shape [F,R] and gives the sum of the char strain from all other sources at each frequency"
   ]
  },
  {
   "cell_type": "code",
   "execution_count": null,
   "metadata": {},
   "outputs": [],
   "source": [
    "\n",
    "hc_ss, hc_bg, = sam.gwb(fobs_gw_edges, hard=hard, \n",
    "                        realize = NREALS, loudest = NLOUDEST)"
   ]
  },
  {
   "cell_type": "markdown",
   "metadata": {},
   "source": [
    "### Plot"
   ]
  },
  {
   "cell_type": "code",
   "execution_count": null,
   "metadata": {},
   "outputs": [],
   "source": [
    "nsamp = 5\n",
    "\n",
    "fig, ax = plot.figax(xlabel=plot.LABEL_GW_FREQUENCY_YR, ylabel = plot.LABEL_CHARACTERISTIC_STRAIN)\n",
    "\n",
    "xx = fobs_gw_cents*YR\n",
    "yy = 1e-15 * np.power(xx, -2.0/3.0)\n",
    "\n",
    "# plot power law, for comparison\n",
    "ax.plot(xx, yy, 'k--', alpha=0.5, lw=2.0)\n",
    "\n",
    "# plot background median and confidence intervals\n",
    "ax.plot(xx, np.median(hc_bg, axis=-1), color='tab:blue', alpha = 0.9)\n",
    "for pp in [50, 95]:\n",
    "    percs = [50-pp/2, 50+pp/2]\n",
    "    ax.fill_between(xx, *np.percentile(hc_bg, percs, axis=-1), alpha=0.25, color='tab:blue')\n",
    "\n",
    "# plot random realizations\n",
    "nsamp = np.min([nsamp, NREALS])\n",
    "colors = cm.rainbow(np.linspace(0,1,nsamp))\n",
    "idx = np.random.choice(NREALS, nsamp, replace=False)\n",
    "\n",
    "ci = 0\n",
    "for ii in idx:\n",
    "    # background\n",
    "    ax.plot(xx, hc_bg[:,ii], ':', color=colors[ci], alpha=0.75)\n",
    "\n",
    "    # single sources\n",
    "    ax.scatter(np.repeat(xx, NLOUDEST), hc_ss[:,ii,:].flatten(), alpha=0.25, color=colors[ci])\n",
    "    ci += 1\n",
    "\n",
    "# Add nHz axis\n",
    "plot._twin_hz(ax, nano=True)"
   ]
  },
  {
   "cell_type": "code",
   "execution_count": null,
   "metadata": {},
   "outputs": [],
   "source": []
  }
 ],
 "metadata": {
  "kernelspec": {
   "display_name": "holo310",
   "language": "python",
   "name": "python3"
  },
  "language_info": {
   "codemirror_mode": {
    "name": "ipython",
    "version": 3
   },
   "file_extension": ".py",
   "mimetype": "text/x-python",
   "name": "python",
   "nbconvert_exporter": "python",
   "pygments_lexer": "ipython3",
   "version": "3.10.10"
  },
  "vscode": {
   "interpreter": {
    "hash": "b691867a38f678e88325b7be712686862775b0bc37454cc33917ba725d804d99"
   }
  }
 },
 "nbformat": 4,
 "nbformat_minor": 2
}
