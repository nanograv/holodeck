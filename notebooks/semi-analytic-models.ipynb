{
 "cells": [
  {
   "cell_type": "code",
   "execution_count": 1,
   "id": "f9a9d9bc",
   "metadata": {},
   "outputs": [],
   "source": [
    "#%load ../init.ipy\n",
    "%reload_ext autoreload\n",
    "%autoreload 2\n",
    "from importlib import reload\n",
    "\n",
    "import os\n",
    "import sys\n",
    "import logging\n",
    "import warnings\n",
    "import numpy as np\n",
    "import astropy as ap\n",
    "import scipy as sp\n",
    "import scipy.stats\n",
    "import matplotlib as mpl\n",
    "import matplotlib.pyplot as plt\n",
    "\n",
    "import h5py\n",
    "import tqdm.notebook as tqdm\n",
    "\n",
    "import kalepy as kale\n",
    "import kalepy.utils\n",
    "import kalepy.plot\n",
    "\n",
    "import holodeck as holo\n",
    "import holodeck.sam\n",
    "from holodeck import cosmo, utils, plot\n",
    "from holodeck.constants import MSOL, PC, YR, MPC, GYR\n",
    "\n",
    "# Silence annoying numpy errors\n",
    "np.seterr(divide='ignore', invalid='ignore', over='ignore')\n",
    "warnings.filterwarnings(\"ignore\", category=UserWarning)\n",
    "\n",
    "# Plotting settings\n",
    "mpl.rc('font', **{'family': 'serif', 'sans-serif': ['Times'], 'size': 15})\n",
    "mpl.rc('lines', solid_capstyle='round')\n",
    "mpl.rc('mathtext', fontset='cm')\n",
    "mpl.style.use('default')   # avoid dark backgrounds from dark theme vscode\n",
    "plt.rcParams.update({'grid.alpha': 0.5})\n",
    "\n",
    "log = holo.log\n",
    "log.setLevel(logging.INFO)"
   ]
  },
  {
   "cell_type": "markdown",
   "id": "630dd2a1",
   "metadata": {},
   "source": [
    "# Quick Start"
   ]
  },
  {
   "cell_type": "markdown",
   "id": "f691ee46",
   "metadata": {},
   "source": [
    "Construct a Semi-Analytic Model (SAM) using all of the default parameters"
   ]
  },
  {
   "cell_type": "code",
   "execution_count": 2,
   "id": "4f80bc42",
   "metadata": {},
   "outputs": [],
   "source": [
    "sam = holo.sam.Semi_Analytic_Model(shape=40)"
   ]
  },
  {
   "cell_type": "code",
   "execution_count": 6,
   "id": "abbbc2ff-b98e-4c62-9649-b7b300f29208",
   "metadata": {
    "tags": []
   },
   "outputs": [],
   "source": [
    "hard = holo.hardening.Hard_GW()"
   ]
  },
  {
   "cell_type": "markdown",
   "id": "5bb4f96a",
   "metadata": {},
   "source": [
    "Choose the edges of the frequency bins at which to calculate the GWB"
   ]
  },
  {
   "cell_type": "code",
   "execution_count": 7,
   "id": "a4e14d8e",
   "metadata": {},
   "outputs": [
    {
     "name": "stdout",
     "output_type": "stream",
     "text": [
      "Number of frequency bins: 24\n",
      "  between [0.10, 2.50] 1/yr\n",
      "          [3.17, 79.22] nHz\n"
     ]
    }
   ],
   "source": [
    "fobs = utils.nyquist_freqs(10.0*YR, 0.2*YR)\n",
    "fobs_edges = utils.nyquist_freqs_edges(10.0*YR, 0.2*YR)\n",
    "print(f\"Number of frequency bins: {fobs.size-1}\")\n",
    "print(f\"  between [{fobs[0]*YR:.2f}, {fobs[-1]*YR:.2f}] 1/yr\")\n",
    "print(f\"          [{fobs[0]*1e9:.2f}, {fobs[-1]*1e9:.2f}] nHz\")"
   ]
  },
  {
   "cell_type": "markdown",
   "id": "34f11e96",
   "metadata": {},
   "source": [
    "Calculate GWB at given observed GW frequencies (`fobs`) for many different realizations to get a distribution of spectra"
   ]
  },
  {
   "cell_type": "code",
   "execution_count": 8,
   "id": "abde3ae2",
   "metadata": {},
   "outputs": [
    {
     "name": "stdout",
     "output_type": "stream",
     "text": [
      "16:44:08 INFO : Stalled SAM bins based on GMT: 2.56e+04/6.40e+04 = 4.00e-01 [sam.py:static_binary_density]\n",
      "16:44:08 INFO : Adding MMbulge scatter (3.4000e-01) [sam.py:static_binary_density]\n",
      "16:44:08 INFO : \tdens bef: (0.00e+00, 0.00e+00, 3.02e-67, 7.47e-04, 1.51e-02, 2.88e-02, 4.47e-02) [sam.py:static_binary_density]\n",
      "16:44:09 INFO : Scatter added after 1.254063 sec [sam.py:static_binary_density]\n",
      "16:44:09 INFO : \tdens aft: (3.80e-28, 7.16e-14, 2.29e-09, 1.02e-03, 1.54e-02, 2.89e-02, 4.26e-02) [sam.py:static_binary_density]\n",
      "16:44:09 INFO : \tmass: 8.63e-02 ==> 8.62e-02 || change = -1.9166e-03 [sam.py:static_binary_density]\n",
      "16:44:09 INFO : zeroing out 2.56e+04/6.40e+04 = 4.00e-01 systems stalled from GMT [sam.py:static_binary_density]\n"
     ]
    }
   ],
   "source": [
    "gwb = sam.gwb(fobs_edges, hard, realize=30)    # calculate many different realizations"
   ]
  },
  {
   "cell_type": "code",
   "execution_count": 18,
   "id": "0dac3aef-05d6-4a8a-88dc-37857aa9bfce",
   "metadata": {
    "tags": []
   },
   "outputs": [
    {
     "name": "stdout",
     "output_type": "stream",
     "text": [
      "(25, 30, 1)\n",
      "(25, 30)\n"
     ]
    }
   ],
   "source": [
    "print(gwb[0].shape)\n",
    "print(gwb[1].shape)"
   ]
  },
  {
   "cell_type": "markdown",
   "id": "ebc65eca",
   "metadata": {},
   "source": [
    "Plot GWB over multiple realizations"
   ]
  },
  {
   "cell_type": "code",
   "execution_count": 9,
   "id": "b69aed2a",
   "metadata": {},
   "outputs": [
    {
     "ename": "ValueError",
     "evalue": "setting an array element with a sequence. The requested array has an inhomogeneous shape after 3 dimensions. The detected shape was (2, 25, 30) + inhomogeneous part.",
     "output_type": "error",
     "traceback": [
      "\u001b[0;31m---------------------------------------------------------------------------\u001b[0m",
      "\u001b[0;31mValueError\u001b[0m                                Traceback (most recent call last)",
      "Cell \u001b[0;32mIn[9], line 12\u001b[0m\n\u001b[1;32m      9\u001b[0m ax\u001b[38;5;241m.\u001b[39mplot(xx, yy, \u001b[38;5;124m'\u001b[39m\u001b[38;5;124mk--\u001b[39m\u001b[38;5;124m'\u001b[39m, alpha\u001b[38;5;241m=\u001b[39m\u001b[38;5;241m0.25\u001b[39m, lw\u001b[38;5;241m=\u001b[39m\u001b[38;5;241m2.0\u001b[39m)\n\u001b[1;32m     11\u001b[0m \u001b[38;5;66;03m# Plot the median GWB spectrum\u001b[39;00m\n\u001b[0;32m---> 12\u001b[0m ax\u001b[38;5;241m.\u001b[39mplot(xx, \u001b[43mnp\u001b[49m\u001b[38;5;241;43m.\u001b[39;49m\u001b[43mmedian\u001b[49m\u001b[43m(\u001b[49m\u001b[43mgwb\u001b[49m\u001b[43m,\u001b[49m\u001b[43m \u001b[49m\u001b[43maxis\u001b[49m\u001b[38;5;241;43m=\u001b[39;49m\u001b[38;5;241;43m-\u001b[39;49m\u001b[38;5;241;43m1\u001b[39;49m\u001b[43m)\u001b[49m, \u001b[38;5;124m'\u001b[39m\u001b[38;5;124mk-\u001b[39m\u001b[38;5;124m'\u001b[39m)\n\u001b[1;32m     14\u001b[0m \u001b[38;5;66;03m# Plot `nsamp` random spectra \u001b[39;00m\n\u001b[1;32m     15\u001b[0m nsamp \u001b[38;5;241m=\u001b[39m np\u001b[38;5;241m.\u001b[39mmin([nsamp, gwb\u001b[38;5;241m.\u001b[39mshape[\u001b[38;5;241m1\u001b[39m]])\n",
      "File \u001b[0;32m<__array_function__ internals>:200\u001b[0m, in \u001b[0;36mmedian\u001b[0;34m(*args, **kwargs)\u001b[0m\n",
      "File \u001b[0;32m~/.conda/envs/holo310/lib/python3.10/site-packages/numpy/lib/function_base.py:3856\u001b[0m, in \u001b[0;36mmedian\u001b[0;34m(a, axis, out, overwrite_input, keepdims)\u001b[0m\n\u001b[1;32m   3774\u001b[0m \u001b[38;5;129m@array_function_dispatch\u001b[39m(_median_dispatcher)\n\u001b[1;32m   3775\u001b[0m \u001b[38;5;28;01mdef\u001b[39;00m \u001b[38;5;21mmedian\u001b[39m(a, axis\u001b[38;5;241m=\u001b[39m\u001b[38;5;28;01mNone\u001b[39;00m, out\u001b[38;5;241m=\u001b[39m\u001b[38;5;28;01mNone\u001b[39;00m, overwrite_input\u001b[38;5;241m=\u001b[39m\u001b[38;5;28;01mFalse\u001b[39;00m, keepdims\u001b[38;5;241m=\u001b[39m\u001b[38;5;28;01mFalse\u001b[39;00m):\n\u001b[1;32m   3776\u001b[0m \u001b[38;5;250m    \u001b[39m\u001b[38;5;124;03m\"\"\"\u001b[39;00m\n\u001b[1;32m   3777\u001b[0m \u001b[38;5;124;03m    Compute the median along the specified axis.\u001b[39;00m\n\u001b[1;32m   3778\u001b[0m \n\u001b[0;32m   (...)\u001b[0m\n\u001b[1;32m   3854\u001b[0m \n\u001b[1;32m   3855\u001b[0m \u001b[38;5;124;03m    \"\"\"\u001b[39;00m\n\u001b[0;32m-> 3856\u001b[0m     \u001b[38;5;28;01mreturn\u001b[39;00m \u001b[43m_ureduce\u001b[49m\u001b[43m(\u001b[49m\u001b[43ma\u001b[49m\u001b[43m,\u001b[49m\u001b[43m \u001b[49m\u001b[43mfunc\u001b[49m\u001b[38;5;241;43m=\u001b[39;49m\u001b[43m_median\u001b[49m\u001b[43m,\u001b[49m\u001b[43m \u001b[49m\u001b[43mkeepdims\u001b[49m\u001b[38;5;241;43m=\u001b[39;49m\u001b[43mkeepdims\u001b[49m\u001b[43m,\u001b[49m\u001b[43m \u001b[49m\u001b[43maxis\u001b[49m\u001b[38;5;241;43m=\u001b[39;49m\u001b[43maxis\u001b[49m\u001b[43m,\u001b[49m\u001b[43m \u001b[49m\u001b[43mout\u001b[49m\u001b[38;5;241;43m=\u001b[39;49m\u001b[43mout\u001b[49m\u001b[43m,\u001b[49m\n\u001b[1;32m   3857\u001b[0m \u001b[43m                    \u001b[49m\u001b[43moverwrite_input\u001b[49m\u001b[38;5;241;43m=\u001b[39;49m\u001b[43moverwrite_input\u001b[49m\u001b[43m)\u001b[49m\n",
      "File \u001b[0;32m~/.conda/envs/holo310/lib/python3.10/site-packages/numpy/lib/function_base.py:3718\u001b[0m, in \u001b[0;36m_ureduce\u001b[0;34m(a, func, keepdims, **kwargs)\u001b[0m\n\u001b[1;32m   3692\u001b[0m \u001b[38;5;28;01mdef\u001b[39;00m \u001b[38;5;21m_ureduce\u001b[39m(a, func, keepdims\u001b[38;5;241m=\u001b[39m\u001b[38;5;28;01mFalse\u001b[39;00m, \u001b[38;5;241m*\u001b[39m\u001b[38;5;241m*\u001b[39mkwargs):\n\u001b[1;32m   3693\u001b[0m \u001b[38;5;250m    \u001b[39m\u001b[38;5;124;03m\"\"\"\u001b[39;00m\n\u001b[1;32m   3694\u001b[0m \u001b[38;5;124;03m    Internal Function.\u001b[39;00m\n\u001b[1;32m   3695\u001b[0m \u001b[38;5;124;03m    Call `func` with `a` as first argument swapping the axes to use extended\u001b[39;00m\n\u001b[0;32m   (...)\u001b[0m\n\u001b[1;32m   3716\u001b[0m \n\u001b[1;32m   3717\u001b[0m \u001b[38;5;124;03m    \"\"\"\u001b[39;00m\n\u001b[0;32m-> 3718\u001b[0m     a \u001b[38;5;241m=\u001b[39m \u001b[43mnp\u001b[49m\u001b[38;5;241;43m.\u001b[39;49m\u001b[43masanyarray\u001b[49m\u001b[43m(\u001b[49m\u001b[43ma\u001b[49m\u001b[43m)\u001b[49m\n\u001b[1;32m   3719\u001b[0m     axis \u001b[38;5;241m=\u001b[39m kwargs\u001b[38;5;241m.\u001b[39mget(\u001b[38;5;124m'\u001b[39m\u001b[38;5;124maxis\u001b[39m\u001b[38;5;124m'\u001b[39m, \u001b[38;5;28;01mNone\u001b[39;00m)\n\u001b[1;32m   3720\u001b[0m     out \u001b[38;5;241m=\u001b[39m kwargs\u001b[38;5;241m.\u001b[39mget(\u001b[38;5;124m'\u001b[39m\u001b[38;5;124mout\u001b[39m\u001b[38;5;124m'\u001b[39m, \u001b[38;5;28;01mNone\u001b[39;00m)\n",
      "\u001b[0;31mValueError\u001b[0m: setting an array element with a sequence. The requested array has an inhomogeneous shape after 3 dimensions. The detected shape was (2, 25, 30) + inhomogeneous part."
     ]
    },
    {
     "data": {
      "image/png": "[encoded data removed]",
      "text/plain": [
       "<Figure size 700x500 with 1 Axes>"
      ]
     },
     "metadata": {},
     "output_type": "display_data"
    }
   ],
   "source": [
    "nsamp = 5    # number of sample GWB spectra to plot\n",
    "fig, ax = plot.figax(xlabel='Frequency $f_\\mathrm{obs}$ [1/yr]', ylabel='Characteristic Strain $h_c$')\n",
    "\n",
    "# `fobs` are bin centers in CGS units, convert to [1/yr]\n",
    "xx = fobs * YR\n",
    "\n",
    "# plot a reference, pure power-law  strain spectrum:   h_c(f) = 1e-15 * (f * yr) ^ -2/3\n",
    "yy = 1e-15 * np.power(xx, -2.0/3.0)\n",
    "ax.plot(xx, yy, 'k--', alpha=0.25, lw=2.0)\n",
    "\n",
    "# Plot the median GWB spectrum\n",
    "ax.plot(xx, np.median(gwb, axis=-1), 'k-')\n",
    "\n",
    "# Plot `nsamp` random spectra \n",
    "nsamp = np.min([nsamp, gwb.shape[1]])\n",
    "idx = np.random.choice(gwb.shape[1], nsamp, replace=False)\n",
    "ax.plot(xx, gwb[:, idx], 'k-', lw=1.0, alpha=0.1)\n",
    "\n",
    "# plot contours at 50% and 98% confidence intervals\n",
    "for pp in [50, 98]:\n",
    "    percs = pp / 2\n",
    "    percs = [50 - percs, 50 + percs]\n",
    "    ax.fill_between(xx, *np.percentile(gwb, percs, axis=-1), alpha=0.25, color='b')\n",
    "    \n",
    "plt.show()"
   ]
  },
  {
   "cell_type": "markdown",
   "id": "835aec19",
   "metadata": {},
   "source": [
    "# build SAM component-by-component"
   ]
  },
  {
   "cell_type": "markdown",
   "id": "566169af",
   "metadata": {},
   "source": [
    "Construct the four components required for all SAM models:\n",
    "\n",
    "1) **Galaxy Stellar Mass Function (GSMF)**: number-density of galaxies as a function of stellar mass\n",
    "2) **Galaxy Pair Fraction (GPF)**: fraction of galaxies that are in pairs\n",
    "3) **Galaxy Merger Time (GMT)**: time it takes for galaxies to merge\n",
    "4) **MBH––Galaxy Scaling Relationship (e.g. Mbh-Mbulge)**: mapping between galaxy properties (i.e. stellar mass) and BH mass"
   ]
  },
  {
   "cell_type": "code",
   "execution_count": null,
   "id": "7dacb18d",
   "metadata": {},
   "outputs": [],
   "source": [
    "gsmf = holo.sam.GSMF_Schechter()        # Galaxy Stellar-Mass Function (GSMF)\n",
    "gpf = holo.sam.GPF_Power_Law()          # Galaxy Pair Fraction         (GPF)\n",
    "gmt = holo.sam.GMT_Power_Law()          # Galaxy Merger Time           (GMT)\n",
    "mmbulge = holo.relations.MMBulge_MM2013() # M-MBulge Relation            (MMB)"
   ]
  },
  {
   "cell_type": "markdown",
   "id": "24566260",
   "metadata": {},
   "source": [
    "Build SAM using these components"
   ]
  },
  {
   "cell_type": "code",
   "execution_count": null,
   "id": "a667fecd",
   "metadata": {},
   "outputs": [],
   "source": [
    "sam = holo.sam.Semi_Analytic_Model(gsmf=gsmf, gpf=gpf, gmt=gmt, mmbulge=mmbulge, shape=40)"
   ]
  },
  {
   "cell_type": "markdown",
   "id": "526f1ed3",
   "metadata": {},
   "source": [
    "Calculate the distribution of GWB Amplitudes at 1/yr"
   ]
  },
  {
   "cell_type": "code",
   "execution_count": null,
   "id": "e9fc9e99",
   "metadata": {},
   "outputs": [],
   "source": [
    "fobs_yr = 1.0/YR\n",
    "fobs_yr = fobs_yr * (1.0 + np.array([-0.05, 0.05]))\n",
    "ayr = sam.gwb(fobs_yr, realize=100).flatten()\n",
    "gwb_ref = sam.gwb_ideal(1.0/YR)"
   ]
  },
  {
   "cell_type": "markdown",
   "id": "0584c3b6",
   "metadata": {},
   "source": [
    "Plot the distribution"
   ]
  },
  {
   "cell_type": "code",
   "execution_count": null,
   "id": "e56708aa",
   "metadata": {},
   "outputs": [],
   "source": [
    "fig, ax = plt.subplots(figsize=[8, 4])\n",
    "ax.set(xlabel=r'$\\log_{10}(A_\\mathrm{yr})$', ylabel='Probability Density')\n",
    "ax.grid(alpha=0.2)\n",
    "\n",
    "# use `kalepy` do draw the 1D distribution\n",
    "kale.dist1d(np.log10(ayr), density=True, confidence=True)\n",
    "ax.axvline(np.log10(gwb_ref), ls='--', color='k')\n",
    "\n",
    "plt.show()"
   ]
  },
  {
   "cell_type": "markdown",
   "id": "4b567f98",
   "metadata": {},
   "source": [
    "## Plot GWB Amplitude Distribution vs. M-MBulge parameters"
   ]
  },
  {
   "cell_type": "markdown",
   "id": "20f4383b",
   "metadata": {},
   "source": [
    "Calculate GWB amplitudes at $f = 1/yr$ over a grid of M-Mbulge parameters, specifically the amplitude and power-law."
   ]
  },
  {
   "cell_type": "code",
   "execution_count": null,
   "id": "99f01130",
   "metadata": {},
   "outputs": [],
   "source": [
    "# Choose parameters to explore\n",
    "NREALS = 30     # number of realizations at each parameter combination\n",
    "alpha_list = [0.75, 1.0, 1.25, 1.5]     # M-Mbulge power-law index\n",
    "norm_list = np.logspace(8, 9.5, 4)     # M-Mbulge normalization, units of [Msol]\n",
    "\n",
    "dist_mmb = np.zeros((len(alpha_list), norm_list.size, NREALS))\n",
    "\n",
    "# Iterate over a grid of both paremeters\n",
    "for aa, alpha in enumerate(tqdm.tqdm(alpha_list)):\n",
    "    for nn, norm in enumerate(tqdm.tqdm(norm_list, leave=False)):\n",
    "        # Create the M-Mbulge relationship for these parameters\n",
    "        mmbulge = holo.relations.MMBulge_Standard(mamp=norm*MSOL, mplaw=alpha)\n",
    "        # Build a new sam\n",
    "        sam = holo.sam.Semi_Analytic_Model(gsmf=gsmf, gpf=gpf, gmt=gmt, mmbulge=mmbulge, shape=30)\n",
    "        # Calculate the distribution of GWB amplitudes\n",
    "        dist_mmb[aa, nn, :] = sam.gwb(fobs_yr, realize=NREALS)"
   ]
  },
  {
   "cell_type": "markdown",
   "id": "cc13e780",
   "metadata": {},
   "source": [
    "Plot the interquartile ranges for each power-law, as a function of normalization"
   ]
  },
  {
   "cell_type": "code",
   "execution_count": null,
   "id": "22a7c9c1",
   "metadata": {},
   "outputs": [],
   "source": [
    "fig, ax = plt.subplots(figsize=[6, 4])\n",
    "ax.set(xscale='log', xlabel='M-MBulge Mass Normalization', yscale='log', ylabel=r'GWB Amplitude $A_\\mathrm{yr}$')\n",
    "ax.grid(alpha=0.2)\n",
    "\n",
    "for aa, dd in zip(alpha_list, dist_mmb):\n",
    "    med = np.median(dd, axis=-1)\n",
    "    cc, = ax.plot(norm_list, med, label=aa)\n",
    "    cc = cc.get_color()\n",
    "    ax.fill_between(norm_list, *np.percentile(dd, [25, 75], axis=-1), color=cc, alpha=0.15)\n",
    "    \n",
    "plt.legend(title='M-MBulge Slope')\n",
    "plt.show()"
   ]
  }
 ],
 "metadata": {
  "interpreter": {
   "hash": "61b4062b24dfb1010f420dad5aa3bd73a4d2af47d0ec44eafec465a35a9d7239"
  },
  "kernelspec": {
   "display_name": "holodeck python-3.10",
   "language": "python",
   "name": "holo310-jupy-kern"
  },
  "language_info": {
   "codemirror_mode": {
    "name": "ipython",
    "version": 3
   },
   "file_extension": ".py",
   "mimetype": "text/x-python",
   "name": "python",
   "nbconvert_exporter": "python",
   "pygments_lexer": "ipython3",
   "version": "3.10.11"
  },
  "toc": {
   "base_numbering": 1,
   "nav_menu": {},
   "number_sections": true,
   "sideBar": true,
   "skip_h1_title": false,
   "title_cell": "Table of Contents",
   "title_sidebar": "Contents",
   "toc_cell": false,
   "toc_position": {
    "height": "calc(100% - 180px)",
    "left": "10px",
    "top": "150px",
    "width": "165px"
   },
   "toc_section_display": true,
   "toc_window_display": true
  },
  "varInspector": {
   "cols": {
    "lenName": 16,
    "lenType": 16,
    "lenVar": 40
   },
   "kernels_config": {
    "python": {
     "delete_cmd_postfix": "",
     "delete_cmd_prefix": "del ",
     "library": "var_list.py",
     "varRefreshCmd": "print(var_dic_list())"
    },
    "r": {
     "delete_cmd_postfix": ") ",
     "delete_cmd_prefix": "rm(",
     "library": "var_list.r",
     "varRefreshCmd": "cat(var_dic_list()) "
    }
   },
   "types_to_exclude": [
    "module",
    "function",
    "builtin_function_or_method",
    "instance",
    "_Feature"
   ],
   "window_display": false
  }
 },
 "nbformat": 4,
 "nbformat_minor": 5
}
