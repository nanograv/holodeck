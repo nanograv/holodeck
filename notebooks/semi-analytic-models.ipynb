{
 "cells": [
  {
   "cell_type": "code",
   "execution_count": null,
   "id": "f9a9d9bc",
   "metadata": {},
   "outputs": [],
   "source": [
    "# %load ../init.ipy\n",
    "%reload_ext autoreload\n",
    "%autoreload 2\n",
    "from importlib import reload\n",
    "\n",
    "import os\n",
    "import sys\n",
    "import logging\n",
    "import warnings\n",
    "import numpy as np\n",
    "import astropy as ap\n",
    "import scipy as sp\n",
    "import scipy.stats\n",
    "import matplotlib as mpl\n",
    "import matplotlib.pyplot as plt\n",
    "\n",
    "import h5py\n",
    "import tqdm.notebook as tqdm\n",
    "\n",
    "import kalepy as kale\n",
    "import kalepy.utils\n",
    "import kalepy.plot\n",
    "\n",
    "import holodeck as holo\n",
    "import holodeck.sam\n",
    "from holodeck import cosmo, utils, plot\n",
    "from holodeck.constants import MSOL, PC, YR, MPC, GYR\n",
    "\n",
    "# Silence annoying numpy errors\n",
    "np.seterr(divide='ignore', invalid='ignore', over='ignore')\n",
    "warnings.filterwarnings(\"ignore\", category=UserWarning)\n",
    "\n",
    "# Plotting settings\n",
    "mpl.rc('font', **{'family': 'serif', 'sans-serif': ['Times'], 'size': 15})\n",
    "mpl.rc('lines', solid_capstyle='round')\n",
    "mpl.rc('mathtext', fontset='cm')\n",
    "mpl.style.use('default')   # avoid dark backgrounds from dark theme vscode\n",
    "plt.rcParams.update({'grid.alpha': 0.5})\n",
    "\n",
    "log = holo.log\n",
    "log.setLevel(logging.INFO)"
   ]
  },
  {
   "cell_type": "markdown",
   "id": "630dd2a1",
   "metadata": {},
   "source": [
    "# Quick Start"
   ]
  },
  {
   "cell_type": "markdown",
   "id": "f691ee46",
   "metadata": {},
   "source": [
    "Construct a Semi-Analytic Model (SAM) using all of the default parameters"
   ]
  },
  {
   "cell_type": "code",
   "execution_count": null,
   "id": "4f80bc42",
   "metadata": {},
   "outputs": [],
   "source": [
    "sam = holo.sam.Semi_Analytic_Model()"
   ]
  },
  {
   "cell_type": "markdown",
   "id": "5bb4f96a",
   "metadata": {},
   "source": [
    "Choose the edges of the frequency bins at which to calculate the GWB"
   ]
  },
  {
   "cell_type": "code",
   "execution_count": null,
   "id": "a4e14d8e",
   "metadata": {},
   "outputs": [],
   "source": [
    "fobs = utils.nyquist_freqs(10.0*YR, 0.2*YR)\n",
    "fobs_edges = utils.nyquist_freqs_edges(10.0*YR, 0.2*YR)\n",
    "print(f\"Number of frequency bins: {fobs.size-1}\")\n",
    "print(f\"  between [{fobs[0]*YR:.2f}, {fobs[-1]*YR:.2f}] 1/yr\")\n",
    "print(f\"          [{fobs[0]*1e9:.2f}, {fobs[-1]*1e9:.2f}] nHz\")"
   ]
  },
  {
   "cell_type": "markdown",
   "id": "34f11e96",
   "metadata": {},
   "source": [
    "Calculate GWB at given observed GW frequencies (`fobs`) for many different realizations to get a distribution of spectra"
   ]
  },
  {
   "cell_type": "code",
   "execution_count": null,
   "id": "abde3ae2",
   "metadata": {},
   "outputs": [],
   "source": [
    "gwb = sam.gwb(fobs_edges, realize=10)    # calculate many different realizations"
   ]
  },
  {
   "cell_type": "markdown",
   "id": "ebc65eca",
   "metadata": {},
   "source": [
    "Plot GWB over multiple realizations"
   ]
  },
  {
   "cell_type": "code",
   "execution_count": null,
   "id": "b69aed2a",
   "metadata": {},
   "outputs": [],
   "source": [
    "nsamp = 5    # number of sample GWB spectra to plot\n",
    "fig, ax = plot.figax(xlabel='Frequency $f_\\mathrm{obs}$ [1/yr]', ylabel='Characteristic Strain $h_c$')\n",
    "\n",
    "# `fobs` are bin centers in CGS units, convert to [1/yr]\n",
    "xx = fobs * YR\n",
    "\n",
    "# plot a reference, pure power-law  strain spectrum:   h_c(f) = 1e-15 * (f * yr) ^ -2/3\n",
    "yy = 1e-15 * np.power(xx, -2.0/3.0)\n",
    "ax.plot(xx, yy, 'k--', alpha=0.25, lw=2.0)\n",
    "\n",
    "# Plot the median GWB spectrum\n",
    "ax.plot(xx, np.median(gwb, axis=-1), 'k-')\n",
    "\n",
    "# Plot `nsamp` random spectra \n",
    "nsamp = np.min([nsamp, gwb.shape[1]])\n",
    "idx = np.random.choice(gwb.shape[1], nsamp, replace=False)\n",
    "ax.plot(xx, gwb[:, idx], 'k-', lw=1.0, alpha=0.1)\n",
    "\n",
    "# plot contours at 50% and 98% confidence intervals\n",
    "for pp in [50, 98]:\n",
    "    percs = pp / 2\n",
    "    percs = [50 - percs, 50 + percs]\n",
    "    ax.fill_between(xx, *np.percentile(gwb, percs, axis=-1), alpha=0.25, color='b')\n",
    "    \n",
    "plt.show()"
   ]
  },
  {
   "cell_type": "markdown",
   "id": "835aec19",
   "metadata": {},
   "source": [
    "# build SAM component-by-component"
   ]
  },
  {
   "cell_type": "markdown",
   "id": "566169af",
   "metadata": {},
   "source": [
    "Construct the four components required for all SAM models:\n",
    "\n",
    "1) **Galaxy Stellar Mass Function (GSMF)**: number-density of galaxies as a function of stellar mass\n",
    "2) **Galaxy Pair Fraction (GPF)**: fraction of galaxies that are in pairs\n",
    "3) **Galaxy Merger Time (GMT)**: time it takes for galaxies to merge\n",
    "4) **MBH––Galaxy Scaling Relationship (e.g. Mbh-Mbulge)**: mapping between galaxy properties (i.e. stellar mass) and BH mass"
   ]
  },
  {
   "cell_type": "code",
   "execution_count": null,
   "id": "7dacb18d",
   "metadata": {},
   "outputs": [],
   "source": [
    "gsmf = holo.sam.GSMF_Schechter()        # Galaxy Stellar-Mass Function (GSMF)\n",
    "gpf = holo.sam.GPF_Power_Law()          # Galaxy Pair Fraction         (GPF)\n",
    "gmt = holo.sam.GMT_Power_Law()          # Galaxy Merger Time           (GMT)\n",
    "mmbulge = holo.relations.MMBulge_MM2013() # M-MBulge Relation            (MMB)"
   ]
  },
  {
   "cell_type": "markdown",
   "id": "24566260",
   "metadata": {},
   "source": [
    "Build SAM using these components"
   ]
  },
  {
   "cell_type": "code",
   "execution_count": null,
   "id": "a667fecd",
   "metadata": {},
   "outputs": [],
   "source": [
    "sam = holo.sam.Semi_Analytic_Model(gsmf=gsmf, gpf=gpf, gmt=gmt, mmbulge=mmbulge)"
   ]
  },
  {
   "cell_type": "markdown",
   "id": "526f1ed3",
   "metadata": {},
   "source": [
    "Calculate the distribution of GWB Amplitudes at 1/yr"
   ]
  },
  {
   "cell_type": "code",
   "execution_count": null,
   "id": "e9fc9e99",
   "metadata": {},
   "outputs": [],
   "source": [
    "fobs_yr = 1.0/YR\n",
    "fobs_yr = fobs_yr * (1.0 + np.array([-0.05, 0.05]))\n",
    "ayr = sam.gwb(fobs_yr, realize=100)\n",
    "gwb_ref = sam.gwb_ideal(1.0/YR)"
   ]
  },
  {
   "cell_type": "markdown",
   "id": "0584c3b6",
   "metadata": {},
   "source": [
    "Plot the distribution"
   ]
  },
  {
   "cell_type": "code",
   "execution_count": null,
   "id": "e56708aa",
   "metadata": {},
   "outputs": [],
   "source": [
    "fig, ax = plt.subplots(figsize=[8, 4])\n",
    "ax.set(xlabel=r'$\\log_{10}(A_\\mathrm{yr})$', ylabel='Probability Density')\n",
    "ax.grid(alpha=0.2)\n",
    "\n",
    "# use `kalepy` do draw the 1D distribution\n",
    "kale.dist1d(np.log10(ayr), density=True, confidence=True)\n",
    "ax.axvline(np.log10(gwb_ref), ls='--', color='k')\n",
    "\n",
    "plt.show()"
   ]
  },
  {
   "cell_type": "markdown",
   "id": "4b567f98",
   "metadata": {},
   "source": [
    "## Plot GWB Amplitude Distribution vs. M-MBulge parameters"
   ]
  },
  {
   "cell_type": "markdown",
   "id": "20f4383b",
   "metadata": {},
   "source": [
    "Calculate GWB amplitudes at $f = 1/yr$ over a grid of M-Mbulge parameters, specifically the amplitude and power-law."
   ]
  },
  {
   "cell_type": "code",
   "execution_count": null,
   "id": "99f01130",
   "metadata": {},
   "outputs": [],
   "source": [
    "# Choose parameters to explore\n",
    "NREALS = 30     # number of realizations at each parameter combination\n",
    "alpha_list = [0.75, 1.0, 1.25, 1.5]     # M-Mbulge power-law index\n",
    "norm_list = np.logspace(8, 9.5, 4)     # M-Mbulge normalization, units of [Msol]\n",
    "\n",
    "dist_mmb = np.zeros((len(alpha_list), norm_list.size, NREALS))\n",
    "\n",
    "# Iterate over a grid of both paremeters\n",
    "for aa, alpha in enumerate(tqdm.tqdm(alpha_list)):\n",
    "    for nn, norm in enumerate(tqdm.tqdm(norm_list, leave=False)):\n",
    "        # Create the M-Mbulge relationship for these parameters\n",
    "        mmbulge = holo.relations.MMBulge_Standard(mamp=norm*MSOL, mplaw=alpha)\n",
    "        # Build a new sam\n",
    "        sam = holo.sam.Semi_Analytic_Model(gsmf=gsmf, gpf=gpf, gmt=gmt, mmbulge=mmbulge, shape=30)\n",
    "        # Calculate the distribution of GWB amplitudes\n",
    "        dist_mmb[aa, nn, :] = sam.gwb(fobs_yr, realize=NREALS)"
   ]
  },
  {
   "cell_type": "markdown",
   "id": "cc13e780",
   "metadata": {},
   "source": [
    "Plot the interquartile ranges for each power-law, as a function of normalization"
   ]
  },
  {
   "cell_type": "code",
   "execution_count": null,
   "id": "22a7c9c1",
   "metadata": {},
   "outputs": [],
   "source": [
    "fig, ax = plt.subplots(figsize=[6, 4])\n",
    "ax.set(xscale='log', xlabel='M-MBulge Mass Normalization', yscale='log', ylabel=r'GWB Amplitude $A_\\mathrm{yr}$')\n",
    "ax.grid(alpha=0.2)\n",
    "\n",
    "for aa, dd in zip(alpha_list, dist_mmb):\n",
    "    med = np.median(dd, axis=-1)\n",
    "    cc, = ax.plot(norm_list, med, label=aa)\n",
    "    cc = cc.get_color()\n",
    "    ax.fill_between(norm_list, *np.percentile(dd, [25, 75], axis=-1), color=cc, alpha=0.15)\n",
    "    \n",
    "plt.legend(title='M-MBulge Slope')\n",
    "plt.show()"
   ]
  },
  {
   "cell_type": "markdown",
   "id": "d946c755",
   "metadata": {},
   "source": [
    "# Generate Full Population of Binaries"
   ]
  },
  {
   "cell_type": "code",
   "execution_count": null,
   "id": "5c0a7d8a",
   "metadata": {},
   "outputs": [],
   "source": [
    "# Choose a hardening model (determines number of binaries in each frequency bin)\n",
    "hard = holo.evolution.Hard_GW()"
   ]
  },
  {
   "cell_type": "code",
   "execution_count": null,
   "id": "7ee6bca0",
   "metadata": {},
   "outputs": [],
   "source": [
    "# Sample the SAM population using 'outlier sampling'\n",
    "# use orbital frequency\n",
    "fobs_orb_edges = fobs_edges / 2.0\n",
    "vals, weights, edges, dens, mass = holo.sam.sample_sam_with_hardening(sam, hard, fobs_orb=fobs_orb_edges, sample_threshold=1e2, poisson_inside=True, poisson_outside=True)"
   ]
  },
  {
   "cell_type": "code",
   "execution_count": null,
   "id": "d58f8458",
   "metadata": {},
   "outputs": [],
   "source": [
    "# use GW frequency\n",
    "gff, gwf, gwb = holo.gravwaves._gws_from_samples(vals, weights, fobs_edges)"
   ]
  },
  {
   "cell_type": "code",
   "execution_count": null,
   "id": "9ac901c4",
   "metadata": {},
   "outputs": [],
   "source": [
    "fig, ax = plot.figax(figsize=[12, 8], xlabel='Frequency [yr$^{-1}$]', ylabel='c-Strain')\n",
    "ax.scatter(gff, gwf)\n",
    "plot.draw_hist_steps(ax, fobs_edges, gwb, yfilter=lambda xx: np.greater(xx, 0.0))\n",
    "\n",
    "plt.show()"
   ]
  },
  {
   "cell_type": "code",
   "execution_count": null,
   "id": "388be70d",
   "metadata": {},
   "outputs": [],
   "source": [
    "hs, fo = holo.gravwaves._strains_from_samples(vals)"
   ]
  },
  {
   "cell_type": "code",
   "execution_count": null,
   "id": "864f4b3a",
   "metadata": {},
   "outputs": [],
   "source": [
    "nloud = 5\n",
    "colors = plot._get_cmap('plasma')(np.linspace(0.05, 0.95, nloud))# print(colors)\n",
    "\n",
    "fig, ax = plot.figax(figsize=[12, 8], xlabel='Frequency [yr$^{-1}$]', ylabel='c-Strain')\n",
    "for ii in range(fobs_edges.size-1):\n",
    "    # if ii < 10 or ii > 16:\n",
    "    #     continue\n",
    "    \n",
    "    fextr = [fobs_edges[ii+jj] for jj in range(2)]\n",
    "    fextr = np.asarray(fextr)\n",
    "    cycles = 1.0 / np.diff(np.log(fextr))[0]\n",
    "\n",
    "    idx = (fextr[0] <= fo) & (fo < fextr[1])\n",
    "    hs_bin = hs[idx]\n",
    "    fo_bin = fo[idx]    \n",
    "    ww_bin = weights[idx]\n",
    "    ww = ww_bin * cycles\n",
    "\n",
    "    tot = np.sqrt(np.sum(ww * hs_bin**2))\n",
    "    ax.plot(fextr*YR, tot * np.ones_like(fextr), 'k--')\n",
    "\n",
    "    idx = np.argsort(hs_bin)[::-1]\n",
    "    if any(ww_bin[idx[:nloud]] > 1):\n",
    "        raise\n",
    "    \n",
    "    for jj, cc in enumerate(colors):\n",
    "        if jj >= len(idx):\n",
    "            break\n",
    "        hi = idx[jj]\n",
    "        lo = idx[jj+1:]\n",
    "        gw_hi = np.sqrt(np.sum(ww[hi] * hs_bin[hi]**2))\n",
    "        gw_lo = np.sqrt(np.sum(ww[lo] * hs_bin[lo]**2))\n",
    "\n",
    "        fave = np.average(fo_bin[hi], weights=hs_bin[hi])\n",
    "        ax.plot(fextr*YR, gw_lo * np.ones_like(fextr), color=cc, lw=0.5)\n",
    "        ax.scatter(fave*YR, gw_hi, marker='.', color=cc, alpha=0.5)\n",
    "\n",
    "plt.show()"
   ]
  },
  {
   "cell_type": "code",
   "execution_count": null,
   "id": "7e4c2f11",
   "metadata": {},
   "outputs": [],
   "source": []
  }
 ],
 "metadata": {
  "interpreter": {
   "hash": "61b4062b24dfb1010f420dad5aa3bd73a4d2af47d0ec44eafec465a35a9d7239"
  },
  "kernelspec": {
   "display_name": "Python 3 (ipykernel)",
   "language": "python",
   "name": "python3"
  },
  "language_info": {
   "codemirror_mode": {
    "name": "ipython",
    "version": 3
   },
   "file_extension": ".py",
   "mimetype": "text/x-python",
   "name": "python",
   "nbconvert_exporter": "python",
   "pygments_lexer": "ipython3",
   "version": "3.9.13"
  },
  "toc": {
   "base_numbering": 1,
   "nav_menu": {},
   "number_sections": true,
   "sideBar": true,
   "skip_h1_title": false,
   "title_cell": "Table of Contents",
   "title_sidebar": "Contents",
   "toc_cell": false,
   "toc_position": {
    "height": "calc(100% - 180px)",
    "left": "10px",
    "top": "150px",
    "width": "165px"
   },
   "toc_section_display": true,
   "toc_window_display": true
  },
  "varInspector": {
   "cols": {
    "lenName": 16,
    "lenType": 16,
    "lenVar": 40
   },
   "kernels_config": {
    "python": {
     "delete_cmd_postfix": "",
     "delete_cmd_prefix": "del ",
     "library": "var_list.py",
     "varRefreshCmd": "print(var_dic_list())"
    },
    "r": {
     "delete_cmd_postfix": ") ",
     "delete_cmd_prefix": "rm(",
     "library": "var_list.r",
     "varRefreshCmd": "cat(var_dic_list()) "
    }
   },
   "types_to_exclude": [
    "module",
    "function",
    "builtin_function_or_method",
    "instance",
    "_Feature"
   ],
   "window_display": false
  }
 },
 "nbformat": 4,
 "nbformat_minor": 5
}
