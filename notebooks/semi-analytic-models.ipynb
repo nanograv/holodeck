{
 "cells": [
  {
   "cell_type": "markdown",
   "id": "0",
   "metadata": {},
   "source": [
    "# `holodeck` - Semi-Analytic Models"
   ]
  },
  {
   "cell_type": "markdown",
   "id": "1",
   "metadata": {},
   "source": [
    "For more information on the holodeck SAMs, see the [holodeck getting started guide](https://holodeck-gw.readthedocs.io/en/main/getting_started/index.html)."
   ]
  },
  {
   "cell_type": "code",
<<<<<<< HEAD
   "execution_count": 1,
   "id": "f9a9d9bc",
   "metadata": {},
   "outputs": [],
   "source": [
    "#%load ../init.ipy\n",
=======
   "execution_count": null,
   "id": "2",
   "metadata": {},
   "outputs": [],
   "source": [
>>>>>>> main
    "%reload_ext autoreload\n",
    "%autoreload 2\n",
    "\n",
    "import numpy as np\n",
    "import matplotlib.pyplot as plt\n",
    "import tqdm.notebook as tqdm\n",
    "\n",
    "import holodeck as holo\n",
    "from holodeck import sams\n",
    "from holodeck import utils, plot\n",
    "from holodeck.constants import MSOL, YR\n",
    "\n",
    "holo.log.setLevel(holo.log.ERROR)"
   ]
  },
  {
   "cell_type": "markdown",
   "id": "3",
   "metadata": {},
   "source": [
    "## Quick Start"
   ]
  },
  {
   "cell_type": "markdown",
   "id": "4",
   "metadata": {},
   "source": [
    "Construct a Semi-Analytic Model (SAM) using all of the default components"
   ]
  },
  {
   "cell_type": "code",
<<<<<<< HEAD
   "execution_count": 2,
   "id": "4f80bc42",
=======
   "execution_count": null,
   "id": "5",
>>>>>>> main
   "metadata": {},
   "outputs": [],
   "source": [
    "# Specify the shape of the SAM grid to be a small number (e.g. `30`), so that this example runs quickly\n",
    "# (although with low accuracy).\n",
    "sam = sams.Semi_Analytic_Model(shape=30)"
   ]
  },
  {
   "cell_type": "code",
   "execution_count": 6,
   "id": "abbbc2ff-b98e-4c62-9649-b7b300f29208",
   "metadata": {
    "tags": []
   },
   "outputs": [],
   "source": [
    "hard = holo.hardening.Hard_GW()"
   ]
  },
  {
   "cell_type": "markdown",
   "id": "6",
   "metadata": {},
   "source": [
    "Choose the edges of the frequency bins at which to calculate the GWB"
   ]
  },
  {
   "cell_type": "code",
<<<<<<< HEAD
   "execution_count": 7,
   "id": "a4e14d8e",
=======
   "execution_count": null,
   "id": "7",
>>>>>>> main
   "metadata": {},
   "outputs": [
    {
     "name": "stdout",
     "output_type": "stream",
     "text": [
      "Number of frequency bins: 24\n",
      "  between [0.10, 2.50] 1/yr\n",
      "          [3.17, 79.22] nHz\n"
     ]
    }
   ],
   "source": [
    "OBS_DUR = 10.0 * YR    # duration of PTA observations in [sec], which determines the Fourier frequency basis\n",
    "NUM_FREQS = 20         # number of frequency bins\n",
    "fobs, fobs_edges = utils.pta_freqs(dur=OBS_DUR, num=NUM_FREQS)\n",
    "print(f\"Number of frequency bins: {fobs.size}\")\n",
    "print(f\"  between [{fobs[0]*YR:.2f}, {fobs[-1]*YR:.2f}] 1/yr\")\n",
    "print(f\"          [{fobs[0]*1e9:.2f}, {fobs[-1]*1e9:.2f}] nHz\")"
   ]
  },
  {
   "cell_type": "markdown",
   "id": "8",
   "metadata": {},
   "source": [
    "Calculate GWB from this SAM.  \n",
    "We need to specify the edges of the frequency bins that are being observed (`fobs_edges`).  \n",
    "We also ask for many different 'realizations' of the universe to get a distribution of expected amplitudes.  \n",
    "And finally we will obtain a handful of the 'loudest' binaries in each frequency bin, ('single sources'),  in addition to the sum of the characteristic strains of all remaining binaries (the background).\n"
   ]
  },
  {
   "cell_type": "code",
<<<<<<< HEAD
   "execution_count": 8,
   "id": "abde3ae2",
=======
   "execution_count": null,
   "id": "9",
>>>>>>> main
   "metadata": {},
   "outputs": [
    {
     "name": "stdout",
     "output_type": "stream",
     "text": [
      "16:44:08 INFO : Stalled SAM bins based on GMT: 2.56e+04/6.40e+04 = 4.00e-01 [sam.py:static_binary_density]\n",
      "16:44:08 INFO : Adding MMbulge scatter (3.4000e-01) [sam.py:static_binary_density]\n",
      "16:44:08 INFO : \tdens bef: (0.00e+00, 0.00e+00, 3.02e-67, 7.47e-04, 1.51e-02, 2.88e-02, 4.47e-02) [sam.py:static_binary_density]\n",
      "16:44:09 INFO : Scatter added after 1.254063 sec [sam.py:static_binary_density]\n",
      "16:44:09 INFO : \tdens aft: (3.80e-28, 7.16e-14, 2.29e-09, 1.02e-03, 1.54e-02, 2.89e-02, 4.26e-02) [sam.py:static_binary_density]\n",
      "16:44:09 INFO : \tmass: 8.63e-02 ==> 8.62e-02 || change = -1.9166e-03 [sam.py:static_binary_density]\n",
      "16:44:09 INFO : zeroing out 2.56e+04/6.40e+04 = 4.00e-01 systems stalled from GMT [sam.py:static_binary_density]\n"
     ]
    }
   ],
   "source": [
<<<<<<< HEAD
    "gwb = sam.gwb(fobs_edges, hard, realize=30)    # calculate many different realizations"
   ]
  },
  {
   "cell_type": "code",
   "execution_count": 18,
   "id": "0dac3aef-05d6-4a8a-88dc-37857aa9bfce",
   "metadata": {
    "tags": []
   },
   "outputs": [
    {
     "name": "stdout",
     "output_type": "stream",
     "text": [
      "(25, 30, 1)\n",
      "(25, 30)\n"
     ]
    }
   ],
   "source": [
    "print(gwb[0].shape)\n",
    "print(gwb[1].shape)"
=======
    "NUM_REALS = 100    # Number of 'realizations' to generate\n",
    "NUM_LOUDEST = 2   # Number of 'loudest' binaries to generate in each frequency bin\n",
    "hc_ss, hc_bg = sam.gwb(fobs_edges, realize=NUM_REALS, loudest=NUM_LOUDEST)"
>>>>>>> main
   ]
  },
  {
   "cell_type": "markdown",
   "id": "10",
   "metadata": {},
   "source": [
    "Plot GWB over multiple realizations"
   ]
  },
  {
   "cell_type": "code",
<<<<<<< HEAD
   "execution_count": 9,
   "id": "b69aed2a",
=======
   "execution_count": null,
   "id": "11",
>>>>>>> main
   "metadata": {},
   "outputs": [
    {
     "ename": "ValueError",
     "evalue": "setting an array element with a sequence. The requested array has an inhomogeneous shape after 3 dimensions. The detected shape was (2, 25, 30) + inhomogeneous part.",
     "output_type": "error",
     "traceback": [
      "\u001b[0;31m---------------------------------------------------------------------------\u001b[0m",
      "\u001b[0;31mValueError\u001b[0m                                Traceback (most recent call last)",
      "Cell \u001b[0;32mIn[9], line 12\u001b[0m\n\u001b[1;32m      9\u001b[0m ax\u001b[38;5;241m.\u001b[39mplot(xx, yy, \u001b[38;5;124m'\u001b[39m\u001b[38;5;124mk--\u001b[39m\u001b[38;5;124m'\u001b[39m, alpha\u001b[38;5;241m=\u001b[39m\u001b[38;5;241m0.25\u001b[39m, lw\u001b[38;5;241m=\u001b[39m\u001b[38;5;241m2.0\u001b[39m)\n\u001b[1;32m     11\u001b[0m \u001b[38;5;66;03m# Plot the median GWB spectrum\u001b[39;00m\n\u001b[0;32m---> 12\u001b[0m ax\u001b[38;5;241m.\u001b[39mplot(xx, \u001b[43mnp\u001b[49m\u001b[38;5;241;43m.\u001b[39;49m\u001b[43mmedian\u001b[49m\u001b[43m(\u001b[49m\u001b[43mgwb\u001b[49m\u001b[43m,\u001b[49m\u001b[43m \u001b[49m\u001b[43maxis\u001b[49m\u001b[38;5;241;43m=\u001b[39;49m\u001b[38;5;241;43m-\u001b[39;49m\u001b[38;5;241;43m1\u001b[39;49m\u001b[43m)\u001b[49m, \u001b[38;5;124m'\u001b[39m\u001b[38;5;124mk-\u001b[39m\u001b[38;5;124m'\u001b[39m)\n\u001b[1;32m     14\u001b[0m \u001b[38;5;66;03m# Plot `nsamp` random spectra \u001b[39;00m\n\u001b[1;32m     15\u001b[0m nsamp \u001b[38;5;241m=\u001b[39m np\u001b[38;5;241m.\u001b[39mmin([nsamp, gwb\u001b[38;5;241m.\u001b[39mshape[\u001b[38;5;241m1\u001b[39m]])\n",
      "File \u001b[0;32m<__array_function__ internals>:200\u001b[0m, in \u001b[0;36mmedian\u001b[0;34m(*args, **kwargs)\u001b[0m\n",
      "File \u001b[0;32m~/.conda/envs/holo310/lib/python3.10/site-packages/numpy/lib/function_base.py:3856\u001b[0m, in \u001b[0;36mmedian\u001b[0;34m(a, axis, out, overwrite_input, keepdims)\u001b[0m\n\u001b[1;32m   3774\u001b[0m \u001b[38;5;129m@array_function_dispatch\u001b[39m(_median_dispatcher)\n\u001b[1;32m   3775\u001b[0m \u001b[38;5;28;01mdef\u001b[39;00m \u001b[38;5;21mmedian\u001b[39m(a, axis\u001b[38;5;241m=\u001b[39m\u001b[38;5;28;01mNone\u001b[39;00m, out\u001b[38;5;241m=\u001b[39m\u001b[38;5;28;01mNone\u001b[39;00m, overwrite_input\u001b[38;5;241m=\u001b[39m\u001b[38;5;28;01mFalse\u001b[39;00m, keepdims\u001b[38;5;241m=\u001b[39m\u001b[38;5;28;01mFalse\u001b[39;00m):\n\u001b[1;32m   3776\u001b[0m \u001b[38;5;250m    \u001b[39m\u001b[38;5;124;03m\"\"\"\u001b[39;00m\n\u001b[1;32m   3777\u001b[0m \u001b[38;5;124;03m    Compute the median along the specified axis.\u001b[39;00m\n\u001b[1;32m   3778\u001b[0m \n\u001b[0;32m   (...)\u001b[0m\n\u001b[1;32m   3854\u001b[0m \n\u001b[1;32m   3855\u001b[0m \u001b[38;5;124;03m    \"\"\"\u001b[39;00m\n\u001b[0;32m-> 3856\u001b[0m     \u001b[38;5;28;01mreturn\u001b[39;00m \u001b[43m_ureduce\u001b[49m\u001b[43m(\u001b[49m\u001b[43ma\u001b[49m\u001b[43m,\u001b[49m\u001b[43m \u001b[49m\u001b[43mfunc\u001b[49m\u001b[38;5;241;43m=\u001b[39;49m\u001b[43m_median\u001b[49m\u001b[43m,\u001b[49m\u001b[43m \u001b[49m\u001b[43mkeepdims\u001b[49m\u001b[38;5;241;43m=\u001b[39;49m\u001b[43mkeepdims\u001b[49m\u001b[43m,\u001b[49m\u001b[43m \u001b[49m\u001b[43maxis\u001b[49m\u001b[38;5;241;43m=\u001b[39;49m\u001b[43maxis\u001b[49m\u001b[43m,\u001b[49m\u001b[43m \u001b[49m\u001b[43mout\u001b[49m\u001b[38;5;241;43m=\u001b[39;49m\u001b[43mout\u001b[49m\u001b[43m,\u001b[49m\n\u001b[1;32m   3857\u001b[0m \u001b[43m                    \u001b[49m\u001b[43moverwrite_input\u001b[49m\u001b[38;5;241;43m=\u001b[39;49m\u001b[43moverwrite_input\u001b[49m\u001b[43m)\u001b[49m\n",
      "File \u001b[0;32m~/.conda/envs/holo310/lib/python3.10/site-packages/numpy/lib/function_base.py:3718\u001b[0m, in \u001b[0;36m_ureduce\u001b[0;34m(a, func, keepdims, **kwargs)\u001b[0m\n\u001b[1;32m   3692\u001b[0m \u001b[38;5;28;01mdef\u001b[39;00m \u001b[38;5;21m_ureduce\u001b[39m(a, func, keepdims\u001b[38;5;241m=\u001b[39m\u001b[38;5;28;01mFalse\u001b[39;00m, \u001b[38;5;241m*\u001b[39m\u001b[38;5;241m*\u001b[39mkwargs):\n\u001b[1;32m   3693\u001b[0m \u001b[38;5;250m    \u001b[39m\u001b[38;5;124;03m\"\"\"\u001b[39;00m\n\u001b[1;32m   3694\u001b[0m \u001b[38;5;124;03m    Internal Function.\u001b[39;00m\n\u001b[1;32m   3695\u001b[0m \u001b[38;5;124;03m    Call `func` with `a` as first argument swapping the axes to use extended\u001b[39;00m\n\u001b[0;32m   (...)\u001b[0m\n\u001b[1;32m   3716\u001b[0m \n\u001b[1;32m   3717\u001b[0m \u001b[38;5;124;03m    \"\"\"\u001b[39;00m\n\u001b[0;32m-> 3718\u001b[0m     a \u001b[38;5;241m=\u001b[39m \u001b[43mnp\u001b[49m\u001b[38;5;241;43m.\u001b[39;49m\u001b[43masanyarray\u001b[49m\u001b[43m(\u001b[49m\u001b[43ma\u001b[49m\u001b[43m)\u001b[49m\n\u001b[1;32m   3719\u001b[0m     axis \u001b[38;5;241m=\u001b[39m kwargs\u001b[38;5;241m.\u001b[39mget(\u001b[38;5;124m'\u001b[39m\u001b[38;5;124maxis\u001b[39m\u001b[38;5;124m'\u001b[39m, \u001b[38;5;28;01mNone\u001b[39;00m)\n\u001b[1;32m   3720\u001b[0m     out \u001b[38;5;241m=\u001b[39m kwargs\u001b[38;5;241m.\u001b[39mget(\u001b[38;5;124m'\u001b[39m\u001b[38;5;124mout\u001b[39m\u001b[38;5;124m'\u001b[39m, \u001b[38;5;28;01mNone\u001b[39;00m)\n",
      "\u001b[0;31mValueError\u001b[0m: setting an array element with a sequence. The requested array has an inhomogeneous shape after 3 dimensions. The detected shape was (2, 25, 30) + inhomogeneous part."
     ]
    },
    {
     "data": {
      "image/png": "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",
      "text/plain": [
       "<Figure size 700x500 with 1 Axes>"
      ]
     },
     "metadata": {},
     "output_type": "display_data"
    }
   ],
   "source": [
    "plt.loglog(fobs*1e9, hc_bg, lw=0.5, alpha=0.5);\n",
    "plt.gca().set(ylabel='Characteristic Strain ($h_c$)', xlabel='GW Frequency [nHz]')\n",
    "plt.show()"
   ]
  },
  {
   "cell_type": "markdown",
   "id": "12",
   "metadata": {},
   "source": [
    "Slightly fancier plot:"
   ]
  },
  {
   "cell_type": "code",
   "execution_count": null,
   "id": "13",
   "metadata": {},
   "outputs": [],
   "source": [
    "fig, ax = plot.figax(xlabel='GW Frequency $f_\\mathrm{obs}$ [1/yr]', ylabel='Characteristic Strain $h_c$')\n",
    "\n",
    "# `fobs` are bin centers in CGS units, convert to [1/yr]\n",
    "xx = fobs * YR\n",
    "\n",
    "# Get the median over all the realizations\n",
    "med = np.median(hc_bg, axis=-1)\n",
    "\n",
    "# plot a reference, pure power-law  strain spectrum:   h_c(f) = A * (f * yr) ^ -2/3\n",
    "yy = med[0] * np.power(xx/xx[0], -2.0/3.0)\n",
    "ax.plot(xx, yy, 'k--', alpha=0.25, lw=2.0)\n",
    "\n",
    "# Plot the median GWB spectrum\n",
    "ax.plot(xx, med, 'k-', alpha=0.5)\n",
    "\n",
    "# Combine the `loudest` binaries in all realizations, to get distributions of their strains\n",
    "singles = hc_ss.reshape((hc_ss.shape[0], -1))\n",
    "\n",
    "# Plot distributions of GWB and Continuous Wave (CW) strains over all realizations\n",
    "# contours at 50% and 98% confidence intervals\n",
    "for pp in [50, 98]:\n",
    "    percs = pp / 2\n",
    "    percs = [50 - percs, 50 + percs]\n",
    "    h1 = ax.fill_between(xx, *np.percentile(hc_bg, percs, axis=-1), alpha=0.25, color='#7100d4')\n",
    "    h2 = ax.fill_between(xx, *np.percentile(singles, percs, axis=-1), alpha=0.25, color='orangered')\n",
    "\n",
    "ax.legend([h1, h2], ['GWB', 'CWs'])\n",
    "plt.show()"
   ]
  },
  {
   "cell_type": "markdown",
   "id": "14",
   "metadata": {},
   "source": [
    "## Specifics"
   ]
  },
  {
   "cell_type": "markdown",
   "id": "15",
   "metadata": {},
   "source": [
    "### Constructing a SAM"
   ]
  },
  {
   "cell_type": "markdown",
   "id": "16",
   "metadata": {},
   "source": [
    "SAMs are built from simple analytic models to derive the number-density of MBH binaries.\n",
    "To do this, we start with a **galaxy stellar-mass function (GSMF; $\\psi$)** which determines the number of \n",
    "galaxies as a function of stellar mass.  We then multiply by a **galaxy merger rate (GMR; $R$)** to get\n",
    "the rate of galaxy-galaxy mergers:\n",
    "\n",
    "$$\\frac{\\partial^3 n_{\\star\\star}(M_\\star, q_\\star, z)}{\\partial \\log_{10}(M_\\star) \\, \\partial q_\\star \\, \\partial z} = \\psi(m_{1,\\star}) \\cdot R(M_\\star, q_\\star, z).$$\n",
    "\n",
    "Here, the total stellar-mass of both galaxies is $M_\\star \\equiv m_{1,\\star} + m_{2,\\star}$, and the stellar mass ratio is $q_\\star \\equiv m_{2,\\star} / m_{1,\\star}.$\n",
    "\n",
    "To convert from galaxy-galaxy to MBH–MBH mergers, we use a relationship between host-galaxy and MBHs, typically in the form of an **M-Mbulge (MMB)** relationship: the MBH mass as a function of galaxy stellar-bulge mass, $M = M_{BH}(M_\\star)$, so that we can write:\n",
    "\n",
    "$$\\frac{\\partial^3 n(M, q, z)}{\\partial \\log_{10}(M) \\, \\partial q \\, \\partial z}  = \\psi(m_{1,\\star}) \\cdot R(M_\\star, q_\\star, z) \\cdot \\frac{\\partial M_\\star}{\\partial M} \\frac{\\partial q_\\star}{\\partial q}.$$\n",
    "\n",
    "The GMR is very hard to determine observationally, so it's common to approximate it as the ratio of a **galaxy pair-fraction (GPF; $P$)**, and a **galaxy merger time (GMT; $T$)**, i.e. $$R(M_\\star, q_\\star, z) \\approx \\frac{P(m_{1,\\star}, q_\\star, z)}{T(M_\\star, q_\\star, z)}.$$"
   ]
  },
  {
   "cell_type": "markdown",
   "id": "17",
   "metadata": {},
   "source": [
    "The SAMs are initialized over a 3-dimensional parameter space of total MBH mass ($M = m_1 + m_2$), MBH mass ratio ($q = m_2 / m_1 \\leq 1$), and redshift ($z$).  The `holodeck` code typically refers to the number of bins in each of these dimensions as `M`, `Q`, and `Z`; for example, the shape of the number-density of galaxy mergers will be `(M, Q, Z)`."
   ]
  },
  {
   "cell_type": "code",
   "execution_count": null,
   "id": "18",
   "metadata": {},
   "outputs": [],
   "source": [
    "# Specify the size of the SAM grid, with shape (M, Q, Z) for a grid of (total-mass, mass-ratio, redshift).\n",
    "# We'll use a small grid so that calculations are fast (but not very accurate).\n",
    "SAM_SHAPE = (30, 31, 32)\n",
    "\n",
    "\n",
    "# ---- Build SAM using Galaxy Merger-Rate:\n",
    "\n",
    "# gsmf = holo.sams.GSMF_Schechter()               # Galaxy Stellar-Mass Function (GSMF)\n",
    "# gmr = holo.sams.GMR_Illustris()                 # Galaxy Merger Rate           (GMR)\n",
    "# mmbulge = holo.host_relations.MMBulge_MM2013()       # M-MBulge Relation            (MMB)\n",
    "\n",
    "# sam = holo.sams.Semi_Analytic_Model(gsmf=gsmf, gmr=gmr, mmbulge=mmbulge, shape=SAM_SHAPE)\n",
    "\n",
    "\n",
    "# ---- Build SAM using Galaxy Pair-Fraction and Galaxy Merger-Time:\n",
    "\n",
    "gsmf = holo.sams.GSMF_Schechter()               # Galaxy Stellar-Mass Function (GSMF)\n",
    "gpf = holo.sams.GPF_Power_Law()                 # Galaxy Pair Fraction         (GPF)\n",
    "gmt = holo.sams.GMT_Power_Law()                 # Galaxy Merger Time           (GMT)\n",
    "mmbulge = holo.host_relations.MMBulge_MM2013()       # M-MBulge Relation            (MMB)\n",
    "\n",
    "sam = holo.sams.Semi_Analytic_Model(gsmf=gsmf, gpf=gpf, gmt=gmt, mmbulge=mmbulge, shape=SAM_SHAPE)"
   ]
  },
  {
   "cell_type": "markdown",
   "id": "19",
   "metadata": {},
   "source": [
    "### number density and the SAM grid"
   ]
  },
  {
   "cell_type": "markdown",
   "id": "20",
   "metadata": {},
   "source": [
    "The formation rate of MBH-MBH 'binaries' is calculated in `Semi_Analytic_Model.static_binary_density`, evaluated at the edges of the grid so that it's shape is the number of bins in each dimension, plus one, i.e. `(M+1, Q+1, Z+1)`.  `static_binary_density` is implemented as a `@property` so that the first time the value is accessed it is calculated and cached, and then returned immediately on subsequent calls. \n",
    "\n",
    "NOTE: at this point, these are not necessarily gravitationally-bound MBH 'binaries', but instead pairs of two MBHs coming together in a galaxy-galaxy merger."
   ]
  },
  {
   "cell_type": "code",
   "execution_count": null,
   "id": "21",
   "metadata": {},
   "outputs": [],
   "source": [
    "print(f\"Calculated `static_binary_density` for the first time... (you can probably ignore all of the messages, including non-fatal 'ERROR's.)\")\n",
    "nden = sam.static_binary_density  # this will trigger the variable to be calculated and cached.\n",
    "print(f\"Shape of number density: {nden.shape}\")\n",
    "\n",
    "# `sam.edges` returns a tuple with each of the grid-edges\n",
    "print(f\"SAM `mtot` edges: [{sam.mtot[0]/MSOL:.1e}, {sam.mtot[-1]/MSOL:.1e}] with {sam.mtot.size} edges.\")\n",
    "print(f\"SAM `mrat` edges: [{sam.mrat[0]:.1e}, {sam.mrat[-1]:.1e}] with {sam.mrat.size} edges.\")\n",
    "print(f\"SAM `redz` edges: [{sam.redz[0]:.1e}, {sam.redz[-1]:.1e}] with {sam.redz.size} edges.\")\n",
    "# The shape of the edges is stored as `sam.shape`\n",
    "print(f\"SAM `shape` (variable): {sam.shape}\")\n",
    "# All three of the grid edges are returned as a tuple when called `sam.edges`\n",
    "print(f\"SAM shape (from `edges`): {[ee.size for ee in sam.edges]}\")"
   ]
  },
  {
   "cell_type": "code",
   "execution_count": null,
   "id": "22",
   "metadata": {},
   "outputs": [],
   "source": [
    "# Let's look at the number-density of binaries in `(M, Q)` space at a particular redshift slice\n",
    "# ---------------------------------------------------------------------------------------------\n",
    "redz_indx = 15   # randomly chosen redshift index number\n",
    "\n",
    "# because `static_binary_density` was already accessed above, this call does NOT recalculate\n",
    "# the density, it just returns the cached values\n",
    "nden = sam.static_binary_density[:, :, redz_indx]\n",
    "print(f\"Shape of number density slice at fixed redz: {nden.shape}\")\n",
    "\n",
    "fig, ax = holo.plot.figax(xlabel='Total Mass $[M_\\odot]$', ylabel='Mass Ratio')\n",
    "# we transpose the number-density because matplotlib thinks in terms of images instead of arrays\n",
    "# we're manually setting the lower-limit for the colorbar because some values are often ~0\n",
    "pcm = ax.pcolormesh(sam.mtot / MSOL, sam.mrat, np.log10(nden).T, vmin=-10)\n",
    "\n",
    "# Note that this is a distribution function (the values are ``d^3n / dlog10(M) dq dz``),\n",
    "# of a volumentric number density (n = Number/Volume) and\n",
    "# a rate (per unit redshfit: 1/dz).  So the units are a bit complicated:\n",
    "label_units = (\n",
    "    r'$\\log_{10}\\left['\n",
    "    r'(\\partial^3 n / \\partial \\log_{10} M \\, \\partial q \\, \\partial z)'\n",
    "    r'/'\n",
    "    r'(\\mathrm{Mpc}^{-3} \\, \\mathrm{dex}^{-1})'\n",
    "    r'\\right]$'\n",
    ")\n",
    "plt.colorbar(pcm, ax=ax, label=label_units)\n",
    "plt.show()"
   ]
  },
  {
   "cell_type": "markdown",
   "id": "23",
   "metadata": {},
   "source": [
    "### total number of binaries in a universe"
   ]
  },
  {
   "cell_type": "markdown",
   "id": "24",
   "metadata": {},
   "source": [
    "Above, we calculated the volumetric number-density rate of binary mergers.  Here, we calculate the total number of binaries in a simulated universe at particular GW frequencies of interest.  The SAM models currently assume circular binary orbits, so that the GW frequency is exactly twice the orbital frequency.\n",
    "\n",
    "To calculate the number of binaries over frequency, we basically just use the chain rule (but note that this glances over a lot of subtle physics):\n",
    "\n",
    "$$\\frac{\\partial^3 N(M, q, z, f)}{\\partial \\log_{10}\\! M \\, \\partial q \\, \\partial z \\, \\partial \\ln\\! f} = \n",
    "\\frac{\\partial^3 n(M, q, z)}{\\partial \\log_{10}\\! M \\, \\partial q \\, \\partial z}\n",
    "\\left( \\frac{\\partial V_c}{\\partial z} \\right) \n",
    "\\left( \\frac{\\partial z}{\\partial t} \\right)\n",
    "\\left( \\frac{\\partial t}{\\partial \\ln\\! f} \\right).$$\n",
    "\n",
    "The left-hand side is what we want.  The right-hand side has four terms.  The first is the `static_number_density` that we calculated previously.  The second is the differential comoving-volume of the universe as a function of redshift, and the third converts between the rate of time- and redshift- evolution of the universe.  The important term is the last one, called the **residence time** or **hardening time** of binaries:\n",
    "\n",
    "$$\\frac{\\partial t}{\\partial \\ln\\! f} = \\frac{f}{\\left( \\partial f / \\partial t \\right)} \\equiv \\tau_f.$$\n",
    "\n",
    "The way to understand this term, is that the longer binaries spend in a given frequency interval, the more likely binaries are to be found at those frequencies, and thus in a random snapshot of the universe, the more binaries will be found there.  This term requires some model for **binary evolution** (often referred to as **binary 'hardening'**)."
   ]
  },
  {
   "cell_type": "code",
   "execution_count": null,
   "id": "25",
   "metadata": {},
   "outputs": [],
   "source": [
    "# Choose frequency bins over which to calculate binaries.\n",
    "# Construct frequency-bin edges\n",
    "fobs_gw_edges = np.logspace(-1, 2, 31) / YR\n",
    "# Calculate the mid-points of each pair of edges to use as bin-centers\n",
    "fobs_gw_cents = holo.utils.midpoints(fobs_gw_edges, log=True)\n",
    "print(f\"{fobs_gw_cents.size} frequency bins between [{fobs_gw_edges[0]*YR:.1e}, {fobs_gw_edges[-1]*YR:.1e} 1/yr]\")\n",
    "print(f\"{fobs_gw_cents.size} frequency bins between [{fobs_gw_edges[0]*1e9:.1e}, {fobs_gw_edges[-1]*1e9:.1e} nHz]\")"
   ]
  },
  {
   "cell_type": "markdown",
   "id": "26",
   "metadata": {},
   "source": [
    "For each point in the 3-dimensional SAM grid, we will be calculating the number of binaries at each frequency.  So the returned values will be 4-dimensional with an additional axis with `F` frequency bins added: `(M, Q, Z, F)`."
   ]
  },
  {
   "cell_type": "markdown",
   "id": "27",
   "metadata": {},
   "source": [
    "**GW-Only Binary Evolution**"
   ]
  },
  {
   "cell_type": "code",
   "execution_count": null,
   "id": "28",
   "metadata": {},
   "outputs": [],
   "source": [
    "# construct an instance of the GW-Hardening class `Hard_GW`\n",
    "hard_gw = holo.hardening.Hard_GW()\n",
    "\n",
    "# Calculate the differential number of binaries, ``dN/[dlog10M dq qz dlnf]``\n",
    "# convert from GW frequencies to orbital frequencies (still observer-frame)\n",
    "fobs_orb_edges = fobs_gw_edges / 2.0\n",
    "fobs_orb_cents = fobs_gw_cents / 2.0\n",
    "# `diff_num` is a 4D array with shape (M+1, Q+1, Z+1, F)\n",
    "# these values are evaluated at bin edges for total-mass, mass-ratio, redshift, but freq bin-centers\n",
    "_edges, diff_num_gw, redz_final = sam.dynamic_binary_number_at_fobs(hard_gw, fobs_orb_cents, use_cython=False)"
   ]
  },
  {
   "cell_type": "code",
   "execution_count": null,
   "id": "29",
   "metadata": {},
   "outputs": [],
   "source": [
    "# Choose parameter bounds\n",
    "mtot_extr = [1e7*MSOL, 1e11*MSOL]\n",
    "mrat_extr = [0.1, np.inf]\n",
    "redz_extr = [-np.inf, +np.inf]\n",
    "fobs_gw_extr = [-np.inf, +np.inf]\n",
    "\n",
    "# make some lists\n",
    "extrema = [mtot_extr, mrat_extr, redz_extr, fobs_gw_extr]\n",
    "# we need to compare to values at bin-centers, instead of bin-edges\n",
    "centers = [holo.utils.midpoints(ee, log=True) for ee in edges]\n",
    "select = [(extr[0] < cent) & (cent < extr[1]) for extr, cent in zip(extrema, centers)]\n",
    "num = number_gw.copy()\n",
    "# slice along each dimension\n",
    "for ii in range(num.ndim):\n",
    "    num = np.moveaxis(num, ii, 0)\n",
    "    num = num[select[ii]]\n",
    "    num = np.moveaxis(num, 0, ii)\n",
    "\n",
    "print(f\"Number of binaries = {num.sum():.2e}  |  with parameters: \")\n",
    "print(f\"\\t{mtot_extr[0]/MSOL:.1e} < M/Msol < {mtot_extr[1]/MSOL:.1e}\")\n",
    "print(f\"\\t{mrat_extr[0]:.1e} < q < {mrat_extr[1]:.1e}\")\n",
    "print(f\"\\t{redz_extr[0]:.1e} < z < {redz_extr[1]:.1e}\")\n",
    "print(f\"\\t{fobs_gw_extr[0]:.1e} < f < {fobs_gw_extr[1]:.1e}\")"
   ]
  },
  {
   "cell_type": "markdown",
   "id": "35",
   "metadata": {},
   "source": [
    "### Self-Consistent Binary Evolution (Phenomenological Model)"
   ]
  },
  {
   "cell_type": "code",
   "execution_count": null,
   "id": "36",
   "metadata": {},
   "outputs": [],
   "source": [
    "# Choose a total binary lifetime (from formation to coalescence)\n",
    "lifetime = 0.1e9 * YR\n",
    "# construct an instance of the 'Phenomenological' Hardening class `Fixed_Time_2PL_SAM`\n",
    "hard_ph = holo.hardening.Fixed_Time_2PL_SAM(sam, lifetime)\n",
    "\n",
    "# Calculate the differential number of binaries, ``dN/[dlog10M dq qz dlnf]``\n",
    "_edges, diff_num_ph, redz_final = sam.dynamic_binary_number_at_fobs(hard_ph, fobs_orb_cents)"
   ]
  },
  {
   "cell_type": "code",
   "execution_count": null,
   "id": "37",
   "metadata": {},
   "outputs": [],
   "source": [
    "mrat_indx = -1   # choose mass-ratio index near unity\n",
    "redz_indx = 20   # choose redshift index\n",
    "\n",
    "# choose a few different frequency indices\n",
    "fobs_indx = [0, -1]\n",
    "\n",
    "# The 'number' of binaries is still a differential number\n",
    "units = 'Number [$d^4 N/ d\\log_{10}\\! M \\, dq \\, dz \\, d\\ln \\! f$]'\n",
    "\n",
    "fig, ax = holo.plot.figax(xlabel='Total Mass [$M_\\odot$]', ylabel=units, ylim=[1e-2, 1e12])\n",
    "for fidx in fobs_indx:\n",
    "    fo = fobs_gw_cents[fidx]\n",
    "\n",
    "    # plot GW evolution\n",
    "    num = diff_num_gw[:, mrat_indx, redz_indx, fidx]\n",
    "    h1, = ax.plot(sam.mtot/MSOL, num, label=f'{fo*1e9:.1f} nHz')\n",
    "\n",
    "    # plot phenomenological evolution\n",
    "    num = diff_num_ph[:, mrat_indx, redz_indx, fidx]\n",
    "    h2, = ax.plot(sam.mtot/MSOL, num, ls='--', color=h1.get_color())\n",
    "\n",
    "leg = ax.legend(title='GW frequency', loc='upper right')\n",
    "ax.legend([h1, h2], ['GW', 'Phenom'], title='hardening', loc='lower right')\n",
    "ax.add_artist(leg)\n",
    "\n",
    "plt.show()"
   ]
  },
  {
   "cell_type": "markdown",
   "id": "38",
   "metadata": {},
   "source": [
    "## Gravitational Waves"
   ]
  },
  {
   "cell_type": "markdown",
   "id": "39",
   "metadata": {},
   "source": [
    "### Compare GWB and CW"
   ]
  },
  {
   "cell_type": "code",
   "execution_count": null,
   "id": "40",
   "metadata": {},
   "outputs": [],
   "source": [
    "NUM_REALS = 100    # Number of 'realizations' to generate\n",
    "NUM_LOUDEST = 6   # Number of 'loudest' binaries to generate in each frequency bin\n",
    "\n",
    "PTA_DUR = 40.0 * YR\n",
    "NUM_FREQS = 50\n",
    "\n",
    "fobs_gw_cents, fobs_gw_edges = holo.utils.pta_freqs(PTA_DUR, NUM_FREQS)\n",
    "\n",
    "# GW evolution\n",
    "hc_ss_gw, hc_bg_gw = sam.gwb(fobs_gw_edges, hard=hard_gw, realize=NUM_REALS, loudest=NUM_LOUDEST)\n",
    "# Phenomenological evolution\n",
    "hc_ss_ph, hc_bg_ph = sam.gwb(fobs_gw_edges, hard=hard_ph, realize=NUM_REALS, loudest=NUM_LOUDEST)"
   ]
  },
  {
   "cell_type": "code",
   "execution_count": null,
   "id": "41",
   "metadata": {},
   "outputs": [],
   "source": [
    "ax = plt.gca()\n",
    "xx = fobs_gw_cents * 1e9\n",
    "for ss, bg, lab in zip([hc_ss_gw, hc_ss_ph], [hc_bg_gw, hc_bg_ph], ['GW-only', 'phenom']):\n",
    "    yy = np.median(bg, axis=1)\n",
    "    h1, = ax.loglog(xx, yy, label=lab)\n",
    "\n",
    "    # combine 'loudest' binaries with realizations, and take median over both\n",
    "    ss = ss.reshape(ss.shape[0], -1)\n",
    "    yy = np.median(ss, axis=1)\n",
    "    h2, = ax.loglog(xx, yy, ls='--', color=h1.get_color())\n",
    "\n",
    "leg = ax.legend(loc='upper right')\n",
    "ax.legend([h1, h2], ['GWB', 'CW'], loc='lower left')\n",
    "ax.add_artist(leg)\n",
    "plt.show()"
   ]
  },
  {
   "attachments": {},
   "cell_type": "markdown",
   "id": "42",
   "metadata": {},
   "source": [
    "Calculate the distribution of GWB Amplitudes at 1/yr"
   ]
  },
  {
   "cell_type": "code",
   "execution_count": null,
   "id": "43",
   "metadata": {},
   "outputs": [],
   "source": [
    "# Choose our target GW frequency\n",
    "fobs = 1.0/YR\n",
    "# Choose an appropriate bin width\n",
    "fobs_width = fobs/16.0\n",
    "fobs_edges = np.array([fobs - 0.5*fobs_width, fobs + 0.5*fobs_width])\n",
    "hc_ss, hc_bg = sam.gwb(fobs_edges, hard=hard_gw, realize=300, loudest=1)\n",
    "# Calculate the idealized GWB amplitude from this population\n",
    "gwb_ref = sam.gwb_ideal(fobs)\n",
    "\n",
    "amp_bg = hc_bg.flatten()\n",
    "# combine the single-sources and background sources into total amplitude\n",
    "amp_tot = np.sum(hc_ss**2, axis=-1) + hc_bg**2\n",
    "amp_tot = np.sqrt(amp_tot).flatten()\n",
    "\n",
    "fig, ax = plt.subplots(figsize=[8, 4])\n",
    "ax.set(xlabel=r'$\\log_{10}(A_\\mathrm{yr})$', ylabel='Probability Density')\n",
    "ax.grid(alpha=0.2)\n",
    "\n",
    "try:\n",
    "    # use `kalepy` do draw the 1D distribution\n",
    "    import kalepy as kale\n",
    "    h1 = kale.dist1d(np.log10(amp_tot), density=True, confidence=True)\n",
    "    h2 = kale.dist1d(np.log10(amp_bg), density=True, confidence=False)\n",
    "except ImportError:\n",
    "    kw = dict(bins=20, density=True, histtype='step')\n",
    "    *_, h1 = ax.hist(np.log10(amp_tot), **kw)\n",
    "    *_, h2 = ax.hist(np.log10(amp_bg), **kw)\n",
    "    h1 = h1[0]\n",
    "    h2 = h2[0]\n",
    "\n",
    "h3 = ax.axvline(np.log10(gwb_ref), ls='--', color='k')\n",
    "ax.legend([h1, h2, h3], ['Total', 'BG only', 'idealized'])\n",
    "\n",
    "plt.show()"
   ]
  },
  {
   "cell_type": "markdown",
   "id": "44",
   "metadata": {},
   "source": [
    "## Plot GWB Amplitude Distribution vs. M-MBulge parameters"
   ]
  },
  {
   "cell_type": "markdown",
   "id": "45",
   "metadata": {},
   "source": [
    "Calculate GWB amplitudes at $f = 1/yr$ over a grid of M-Mbulge parameters, specifically the amplitude and power-law."
   ]
  },
  {
   "cell_type": "code",
   "execution_count": null,
   "id": "46",
   "metadata": {},
   "outputs": [],
   "source": [
    "# Choose parameters to explore\n",
    "NREALS = 10     # number of realizations at each parameter combination\n",
    "alpha_list = [1.0, 1.5]     # M-Mbulge power-law index\n",
    "norm_list = [3e8, 3e9]\n",
    "# norm_list = np.logspace(8, 9.5, 4)     # M-Mbulge normalization, units of [Msol]\n",
    "\n",
    "dist_mmb = np.zeros((len(alpha_list), len(norm_list), NREALS))\n",
    "\n",
    "# Iterate over a grid of both paremeters\n",
    "for aa, alpha in enumerate(tqdm.tqdm(alpha_list)):\n",
    "    for nn, norm in enumerate(tqdm.tqdm(norm_list, leave=False)):\n",
    "        # Create the M-Mbulge relationship for these parameters\n",
    "        mmbulge = holo.host_relations.MMBulge_Standard(mamp=norm*MSOL, mplaw=alpha)\n",
    "        # Build a new sam\n",
    "        sam = holo.sams.Semi_Analytic_Model(gsmf=gsmf, gpf=gpf, gmt=gmt, mmbulge=mmbulge, shape=20)\n",
    "        # Calculate the distribution of GWB amplitudes\n",
    "        cw, dist_mmb[aa, nn, :] = sam.gwb(fobs_edges, realize=NREALS, loudest=0)\n",
    "        if nn == 0:\n",
    "            print(f\"{aa=} {alpha=} {np.median(dist_mmb[aa, nn, :]):.4e}\")\n",
    "        # break"
   ]
  },
  {
   "cell_type": "markdown",
   "id": "47",
   "metadata": {},
   "source": [
    "Plot the interquartile ranges for each power-law, as a function of normalization"
   ]
  },
  {
   "cell_type": "code",
   "execution_count": null,
   "id": "48",
   "metadata": {},
   "outputs": [],
   "source": [
    "fig, ax = plt.subplots(figsize=[6, 4])\n",
    "ax.set(xscale='log', xlabel='M-MBulge Mass Normalization', yscale='log', ylabel=r'GWB Amplitude $A_\\mathrm{yr}$')\n",
    "ax.grid(alpha=0.2)\n",
    "\n",
    "for aa, dd in zip(alpha_list, dist_mmb):\n",
    "    med = np.median(dd, axis=-1)\n",
    "    cc, = ax.plot(norm_list, med, label=aa)\n",
    "    cc = cc.get_color()\n",
    "    ax.fill_between(norm_list, *np.percentile(dd, [25, 75], axis=-1), color=cc, alpha=0.15)\n",
    "\n",
    "plt.legend(title='M-MBulge Slope')\n",
    "plt.show()"
   ]
  },
  {
   "cell_type": "code",
   "execution_count": null,
   "id": "49",
   "metadata": {},
   "outputs": [],
   "source": []
  },
  {
   "cell_type": "code",
   "execution_count": null,
   "id": "50",
   "metadata": {},
   "outputs": [],
   "source": []
  },
  {
   "cell_type": "code",
   "execution_count": null,
   "id": "51",
   "metadata": {},
   "outputs": [],
   "source": [
    "\n",
    "sam = holo.sams.Semi_Analytic_Model(shape=(10, 11, 12))\n",
    "print(f\"{sam.shape=}\")\n",
    "hard_gw = holo.hardening.Hard_GW()\n",
    "\n",
    "nden = sam.static_binary_density\n",
    "\n",
    "PTA_DUR = 20.0 * YR\n",
    "NUM_FREQS = 9\n",
    "fobs_gw_cents, fobs_gw_edges = holo.utils.pta_freqs(PTA_DUR, NUM_FREQS)\n",
    "fobs_orb_cents = fobs_gw_cents / 2.0\n",
    "fobs_orb_edges = fobs_gw_edges / 2.0\n",
    "\n",
    "grid_py, dnum_py, redz_final_py = sam.dynamic_binary_number_at_fobs(hard_gw, fobs_orb_cents, use_cython=False)\n",
    "grid_cy, dnum_cy, redz_final_cy = sam.dynamic_binary_number_at_fobs(hard_gw, fobs_orb_cents, use_cython=True)"
   ]
  },
  {
   "cell_type": "code",
   "execution_count": null,
   "id": "52",
   "metadata": {},
   "outputs": [],
   "source": [
    "print(\"grid\")\n",
    "for ii in range(4):\n",
    "    print(ii, np.allclose(grid_py[ii], grid_cy[ii]))\n",
    "\n",
    "print(\"redz\", np.allclose(redz_final_py, redz_final_cy))"
   ]
  },
  {
   "cell_type": "code",
   "execution_count": null,
   "id": "53",
   "metadata": {},
   "outputs": [],
   "source": [
    "diff_redz = (redz_final_py - redz_final_cy)\n",
    "# idx_redz = (redz_final_cy > 0.0)\n",
    "idx_redz = (redz_final_py > 0.0)\n",
    "diff_redz[idx_redz] = diff_redz[idx_redz] / redz_final_cy[idx_redz]\n",
    "\n",
    "print(f\"{utils.frac_str(idx_redz)=}\")\n",
    "print(f\"{utils.stats(diff_redz[~idx_redz])=}\")\n",
    "print(f\"{utils.stats(diff_redz[idx_redz])=}\")\n",
    "print(f\"{utils.stats(diff_redz)=}\")\n",
    "\n",
    "print()\n",
    "\n",
    "diff_dnum = (dnum_py - dnum_cy)\n",
    "idx_dnum = (dnum_cy > 0.0)\n",
    "diff_dnum[idx_dnum] = diff_dnum[idx_dnum] / dnum_cy[idx_dnum]\n",
    "\n",
    "print(f\"{utils.frac_str(idx_dnum)=}\")\n",
    "print(f\"{utils.stats(diff_dnum[~idx_dnum])=}\")\n",
    "print(f\"{utils.stats(diff_dnum[idx_dnum])=}\")\n",
    "print(f\"{utils.stats(diff_dnum)=}\")\n",
    "\n",
    "print()\n",
    "\n",
    "print(f\"{utils.frac_str(idx_redz == idx_dnum)=}\")"
   ]
  },
  {
   "cell_type": "markdown",
   "id": "54",
   "metadata": {},
   "source": [
    "## Different Redshifts"
   ]
  },
  {
   "cell_type": "code",
   "execution_count": null,
   "id": "55",
   "metadata": {},
   "outputs": [],
   "source": [
    "bads_redz = ~np.isclose(redz_final_py, redz_final_cy)\n",
    "print(f\"{utils.frac_str(bads_redz)=}\")\n",
    "\n",
    "print(redz_final_py[bads_redz][:10])\n",
    "print(redz_final_cy[bads_redz][:10])"
   ]
  },
  {
   "cell_type": "code",
   "execution_count": null,
   "id": "56",
   "metadata": {},
   "outputs": [],
   "source": [
    "# np.where(bads_redz)[0]"
   ]
  },
  {
   "cell_type": "code",
   "execution_count": null,
   "id": "57",
   "metadata": {},
   "outputs": [],
   "source": [
    "SEL = 0\n",
    "vals = np.meshgrid(*grid_py, indexing='ij')[SEL][bads_redz]\n",
    "np.unique(vals/MSOL)"
   ]
  },
  {
   "cell_type": "markdown",
   "id": "58",
   "metadata": {},
   "source": [
    "## Different Numbers"
   ]
  },
  {
   "cell_type": "code",
   "execution_count": null,
   "id": "59",
   "metadata": {},
   "outputs": [],
   "source": [
    "bads_dnum = ~np.isclose(dnum_py, dnum_cy)\n",
    "print(f\"{utils.frac_str(bads_dnum)=}\")\n",
    "\n",
    "print(dnum_py[bads_dnum][:10])\n",
    "print(dnum_cy[bads_dnum][:10])"
   ]
  }
 ],
 "metadata": {
  "interpreter": {
   "hash": "61b4062b24dfb1010f420dad5aa3bd73a4d2af47d0ec44eafec465a35a9d7239"
  },
  "kernelspec": {
   "display_name": "holodeck python-3.10",
   "language": "python",
   "name": "holo310-jupy-kern"
  },
  "language_info": {
   "codemirror_mode": {
    "name": "ipython",
    "version": 3
   },
   "file_extension": ".py",
   "mimetype": "text/x-python",
   "name": "python",
   "nbconvert_exporter": "python",
   "pygments_lexer": "ipython3",
   "version": "3.11.7"
  },
  "toc": {
   "base_numbering": 1,
   "nav_menu": {},
   "number_sections": true,
   "sideBar": true,
   "skip_h1_title": false,
   "title_cell": "Table of Contents",
   "title_sidebar": "Contents",
   "toc_cell": false,
   "toc_position": {
    "height": "calc(100% - 180px)",
    "left": "10px",
    "top": "150px",
    "width": "165px"
   },
   "toc_section_display": true,
   "toc_window_display": true
  },
  "varInspector": {
   "cols": {
    "lenName": 16,
    "lenType": 16,
    "lenVar": 40
   },
   "kernels_config": {
    "python": {
     "delete_cmd_postfix": "",
     "delete_cmd_prefix": "del ",
     "library": "var_list.py",
     "varRefreshCmd": "print(var_dic_list())"
    },
    "r": {
     "delete_cmd_postfix": ") ",
     "delete_cmd_prefix": "rm(",
     "library": "var_list.r",
     "varRefreshCmd": "cat(var_dic_list()) "
    }
   },
   "types_to_exclude": [
    "module",
    "function",
    "builtin_function_or_method",
    "instance",
    "_Feature"
   ],
   "window_display": false
  }
 },
 "nbformat": 4,
 "nbformat_minor": 5
}
