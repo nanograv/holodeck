{
 "cells": [
  {
   "cell_type": "code",
   "execution_count": null,
   "metadata": {},
   "outputs": [],
   "source": [
    "# %load ../../notebooks/init.ipy\n",
    "%reload_ext autoreload\n",
    "%autoreload 2\n",
    "\n",
    "# Builtin packages\n",
    "from datetime import datetime\n",
    "from importlib import reload\n",
    "import logging\n",
    "import os\n",
    "from pathlib import Path\n",
    "import sys\n",
    "import warnings\n",
    "\n",
    "# standard secondary packages\n",
    "import astropy as ap\n",
    "import h5py\n",
    "import matplotlib as mpl\n",
    "import matplotlib.pyplot as plt\n",
    "import numpy as np\n",
    "import scipy as sp\n",
    "import scipy.stats\n",
    "import tqdm.notebook as tqdm\n",
    "\n",
    "# development packages\n",
    "import kalepy as kale\n",
    "import kalepy.utils\n",
    "import kalepy.plot\n",
    "\n",
    "# --- Holodeck ----\n",
    "import holodeck as holo\n",
    "import holodeck.sam\n",
    "from holodeck import cosmo, utils, plot\n",
    "from holodeck.constants import MSOL, PC, YR, MPC, GYR, SPLC, NWTG\n",
    "import holodeck.gravwaves\n",
    "import holodeck.evolution\n",
    "import holodeck.population\n",
    "\n",
    "# Silence annoying numpy errors\n",
    "np.seterr(divide='ignore', invalid='ignore', over='ignore')\n",
    "warnings.filterwarnings(\"ignore\", category=UserWarning)\n",
    "\n",
    "# Plotting settings\n",
    "mpl.rc('font', **{'family': 'serif', 'sans-serif': ['Times'], 'size': 15})\n",
    "mpl.rc('lines', solid_capstyle='round')\n",
    "mpl.rc('mathtext', fontset='cm')\n",
    "mpl.style.use('default')   # avoid dark backgrounds from dark theme vscode\n",
    "plt.rcParams.update({'grid.alpha': 0.5})\n",
    "\n",
    "# Load log and set logging level\n",
    "log = holo.log\n",
    "log.setLevel(logging.INFO)"
   ]
  },
  {
   "cell_type": "code",
   "execution_count": null,
   "metadata": {},
   "outputs": [],
   "source": [
    "import zcode.math as zmath\n",
    "import zcode.plot as zplot\n",
    "\n",
    "def draw_gwb(ax, xx, gwb, nsamp=10, color=None, label=None, plot_kwargs={}):\n",
    "    if color is None:\n",
    "        color = ax._get_lines.get_next_color()\n",
    "\n",
    "    mm, *conf = np.percentile(gwb, [50, 25, 75], axis=1)\n",
    "    hh, = ax.plot(xx, mm, alpha=0.5, color=color, label=label, **plot_kwargs)\n",
    "    ax.fill_between(xx, *conf, color=color, alpha=0.15)\n",
    "\n",
    "    if (nsamp is not None) and (nsamp > 0):\n",
    "        nsamp_max = gwb.shape[1]\n",
    "        idx = np.random.choice(nsamp_max, np.min([nsamp, nsamp_max]), replace=False)\n",
    "        for ii in idx:\n",
    "            ax.plot(xx, gwb[:, ii], color=color, alpha=0.25, lw=1.0, ls='-')\n",
    "            \n",
    "    return hh\n"
   ]
  },
  {
   "cell_type": "code",
   "execution_count": null,
   "metadata": {},
   "outputs": [],
   "source": [
    "SHAPE = 20\n",
    "TIME = 3 * GYR\n",
    "\n",
    "gsmf = holo.sam.GSMF_Schechter()               # Galaxy Stellar-Mass Function (GSMF)\n",
    "gpf = holo.sam.GPF_Power_Law()                 # Galaxy Pair Fraction         (GPF)\n",
    "gmt = holo.sam.GMT_Power_Law()                 # Galaxy Merger Time           (GMT)\n",
    "mmbulge = holo.host_relations.MMBulge_Standard()    # M-MBulge Relation            (MMB)\n",
    "\n",
    "# hard = holo.hardening.Hard_GW()\n",
    "\n",
    "sam = holo.sam.Semi_Analytic_Model(gsmf=gsmf, gpf=gpf, gmt=gmt, mmbulge=mmbulge, shape=SHAPE)\n",
    "hard = holo.hardening.Fixed_Time.from_sam(sam, TIME)"
   ]
  },
  {
   "cell_type": "code",
   "execution_count": null,
   "metadata": {},
   "outputs": [],
   "source": [
    "fobs_edges = utils.nyquist_freqs_edges(20*YR, 0.2*YR)\n",
    "fobs = utils.midpoints(fobs_edges, log=True)\n",
    "gwb = sam.gwb(fobs_edges, hard=hard, realize=30, )    # calculate many different realizations"
   ]
  },
  {
   "cell_type": "code",
   "execution_count": null,
   "metadata": {},
   "outputs": [],
   "source": [
    "xx = fobs * YR\n",
    "fig, ax = plot.figax(\n",
    "    xlabel=plot.LABEL_GW_FREQUENCY_YR,\n",
    "    ylabel=plot.LABEL_CHARACTERISTIC_STRAIN\n",
    ")\n",
    "draw_gwb(ax, xx, gwb)\n",
    "\n",
    "plot._twin_hz(ax)\n",
    "plt.show()\n",
    "fname = Path(\"~/test.png\").expanduser().resolve()\n",
    "fig.savefig(fname, dpi=300)\n",
    "print(fname, utils.get_file_size(fname))"
   ]
  },
  {
   "attachments": {},
   "cell_type": "markdown",
   "metadata": {},
   "source": [
    "# Calculate age during evolution from hardening model"
   ]
  },
  {
   "cell_type": "code",
   "execution_count": null,
   "metadata": {},
   "outputs": [],
   "source": [
    "sam = holo.sam.Semi_Analytic_Model(gsmf=gsmf, gpf=gpf, gmt=gmt, mmbulge=mmbulge, shape=11)\n",
    "# hard = holo.hardening.Fixed_Time.from_sam(sam, GYR, exact=True)\n",
    "hard = holo.hardening.Fixed_Time.from_sam(sam, GYR, exact=False)\n",
    "\n",
    "STEPS = 22\n",
    "# ()\n",
    "rmax = hard._sepa_init\n",
    "# (M,)\n",
    "rmin = utils.rad_isco(sam.mtot)\n",
    "\n",
    "extr = np.log10([rmax * np.ones_like(rmin), rmin])\n",
    "rads = np.linspace(0.0, 1.0, STEPS)[np.newaxis, :]\n",
    "# (M, X)\n",
    "rads = extr[0][:, np.newaxis] + (extr[1] - extr[0])[:, np.newaxis] * rads\n",
    "rads = 10.0 ** rads\n",
    "# (M, Q, Z, X)\n",
    "mt, mr, rz, rads = np.broadcast_arrays(sam.mtot[:, np.newaxis, np.newaxis, np.newaxis], sam.mrat[np.newaxis, :, np.newaxis, np.newaxis], sam.redz[np.newaxis, np.newaxis, :, np.newaxis], rads[:, np.newaxis, np.newaxis, :])\n",
    "\n",
    "# (X, M*Q*Z)\n",
    "mt, mr, rz, rads = [mm.reshape(-1, STEPS).T for mm in [mt, mr, rz, rads]]\n",
    "# (X, M*Q*Z) --- `Fixed_Time.dadt` will only accept this shape\n",
    "dadt = hard.dadt(mt, mr, rads)\n",
    "# Integrate (inverse) hardening rates to calculate total lifetime\n",
    "times = -utils.trapz_loglog(-1.0 / dadt, rads, axis=0, cumsum=True)\n",
    "print(utils.stats(times[-1, :]/GYR))"
   ]
  },
  {
   "attachments": {},
   "cell_type": "markdown",
   "metadata": {},
   "source": [
    "## Interpolate to target frequencies"
   ]
  },
  {
   "cell_type": "code",
   "execution_count": null,
   "metadata": {},
   "outputs": [],
   "source": [
    "# (X, M*Q*Z)\n",
    "frst_orb_evo = utils.kepler_freq_from_sepa(mt, rads)\n",
    "\n",
    "# `rz` is shaped (X, M*Q*Z) and is constant for all X\n",
    "frst_gw = fobs[:, np.newaxis] * (1.0 + rz[0, np.newaxis, :])\n",
    "\n",
    "xx = frst_orb_evo[1:, :]*2.0\n",
    "yy = times\n",
    "xnew = frst_gw\n",
    "times_new = utils.ndinterp(frst_gw.T, xx.T, yy.T, xlog=True, ylog=True).T\n",
    "\n",
    "fig, ax = plot.figax()\n",
    "\n",
    "print(f\"{frst_gw.shape=}, {times_new.shape=}\")\n",
    "\n",
    "nbins = times.shape[-1]\n",
    "for ii in np.random.choice(nbins, 3, replace=False):\n",
    "    cc, = ax.plot(2*frst_orb_evo[1:, ii]*YR, times[:, ii]/GYR, alpha=0.5, marker='.')\n",
    "    cc = cc.get_color()\n",
    "    ax.scatter(frst_gw[:, ii]*YR, times_new[:, ii]/GYR, color=cc, marker='x', alpha=0.5)\n",
    "    \n",
    "plt.show()\n"
   ]
  },
  {
   "cell_type": "code",
   "execution_count": null,
   "metadata": {},
   "outputs": [],
   "source": [
    "# np.random.seed(12345)\n",
    "xx = np.random.uniform(0.0, 1.0, size=(3, 4))\n",
    "xx = np.sort(xx, axis=-1)\n",
    "yy = np.random.uniform(0.0, 1.0, size=xx.shape)\n",
    "\n",
    "fig, ax = plt.subplots()\n",
    "\n",
    "# xnew = sorted(np.random.uniform(0.0, 1.0, 2))\n",
    "# ynew = utils.ndinterp(xnew, xx, yy)\n",
    "# for ii in range(xx.shape[0]):\n",
    "#     cc, = ax.plot(xx[ii, :], yy[ii, :])\n",
    "#     cc = cc.get_color()\n",
    "#     ax.scatter(xnew, ynew[ii, :], color=cc, alpha=0.5, marker='x')\n",
    "    \n",
    "xnew = np.sort(np.random.uniform(0.0, 1.0, (xx.shape[0], 2)), axis=1)\n",
    "print(xnew)\n",
    "ynew = utils.ndinterp(xnew, xx, yy)\n",
    "for ii in range(xx.shape[0]):\n",
    "    cc, = ax.plot(xx[ii, :], yy[ii, :])\n",
    "    cc = cc.get_color()\n",
    "    ax.scatter(xnew[ii], ynew[ii, :], color=cc, alpha=0.5, marker='x')\n",
    "    \n",
    "plt.show()"
   ]
  },
  {
   "attachments": {},
   "cell_type": "markdown",
   "metadata": {},
   "source": [
    "# Compare GWBs with different stalling/coalescing cuts"
   ]
  },
  {
   "cell_type": "code",
   "execution_count": null,
   "metadata": {},
   "outputs": [],
   "source": [
    "SHAPE = 30\n",
    "TIME = 5 * GYR\n",
    "REALS = 100\n",
    "\n",
    "fobs_edges = utils.nyquist_freqs_edges(10*YR, 0.02*YR)\n",
    "fobs = utils.midpoints(fobs_edges, log=True)\n",
    "\n",
    "sam = holo.sam.Semi_Analytic_Model(gsmf=gsmf, gpf=gpf, gmt=gmt, mmbulge=mmbulge, shape=SHAPE)\n",
    "# hard = holo.hardening.Fixed_Time.from_sam(sam, GYR, exact=True)\n",
    "hard = holo.hardening.Fixed_Time.from_sam(sam, TIME, exact=False)"
   ]
  },
  {
   "cell_type": "code",
   "execution_count": null,
   "metadata": {},
   "outputs": [],
   "source": [
    "gwbs = []\n",
    "flags = []\n",
    "for vv in np.ndindex(2, 2):\n",
    "    print()\n",
    "    _flags = [bool(ff) for ff in vv]\n",
    "    flags.append(_flags)\n",
    "    kw = dict(zero_coalesced=_flags[0], zero_stalled=_flags[1])\n",
    "    _gwb = sam.gwb(fobs_edges, hard, realize=REALS, **kw)\n",
    "    gwbs.append(_gwb)\n",
    "    print()"
   ]
  },
  {
   "cell_type": "code",
   "execution_count": null,
   "metadata": {},
   "outputs": [],
   "source": [
    "fig, ax = plot.figax(\n",
    "    xlabel=plot.LABEL_GW_FREQUENCY_YR,\n",
    "    ylabel=plot.LABEL_CHARACTERISTIC_STRAIN,\n",
    ")\n",
    "fig.text(0.99, 0.99, f\"lifetime = {TIME/GYR:.1f} [Gyr]\", ha='right', va='top', fontsize=10)\n",
    "\n",
    "xx = fobs * YR\n",
    "for gwb, flag in zip(gwbs, flags):\n",
    "    lab = f\"{str(flag[0])}, {str(flag[1])}\"\n",
    "    plot_kwargs = dict(ls='--') if flag[1] else {}\n",
    "    draw_gwb(ax, xx, gwb, nsamp=None, label=lab, plot_kwargs=plot_kwargs)\n",
    "\n",
    "ax.legend(title='Coalesced, Stalled')\n",
    "plot._twin_hz(ax)\n",
    "plt.show()\n",
    "\n",
    "fname = Path(\"~/coal-stall.png\").expanduser()\n",
    "fig.savefig(fname, dpi=400)\n",
    "print(f\"Saved to {fname}, size {utils.get_file_size(fname)}\")"
   ]
  },
  {
   "cell_type": "code",
   "execution_count": null,
   "metadata": {},
   "outputs": [],
   "source": []
  },
  {
   "cell_type": "code",
   "execution_count": null,
   "metadata": {},
   "outputs": [],
   "source": [
    "SHAPE = 30\n",
    "REALS = 100\n",
    "\n",
    "fobs_edges = utils.nyquist_freqs_edges()\n",
    "fobs = utils.midpoints(fobs_edges, log=True)\n",
    "\n",
    "sam = holo.sam.Semi_Analytic_Model(gsmf=gsmf, gpf=gpf, gmt=gmt, mmbulge=mmbulge, shape=SHAPE)"
   ]
  },
  {
   "cell_type": "code",
   "execution_count": null,
   "metadata": {},
   "outputs": [],
   "source": [
    "times_list = [1e-1, 1.0, 5.0, 10.0]\n",
    "gwb_times = []\n",
    "flag_times = []\n",
    "for time in times_list:\n",
    "    hard = holo.hardening.Fixed_Time.from_sam(sam, time * GYR, exact=False)\n",
    "    \n",
    "    gwbs = []\n",
    "    flags = []\n",
    "    for flag in [True, False]:\n",
    "        flags.append(flag)\n",
    "        _gwb = sam.gwb(fobs_edges, hard, realize=REALS, zero_stalled=flag)\n",
    "        gwbs.append(_gwb)\n",
    "        \n",
    "    gwb_times.append(gwbs)\n",
    "    flag_times.append(flags)\n",
    "       "
   ]
  },
  {
   "cell_type": "code",
   "execution_count": null,
   "metadata": {},
   "outputs": [],
   "source": [
    "fig, ax = plot.figax(\n",
    "    xlabel=plot.LABEL_GW_FREQUENCY_YR,\n",
    "    ylabel=plot.LABEL_CHARACTERISTIC_STRAIN,\n",
    ")\n",
    "\n",
    "xx = fobs * YR\n",
    "time_lines = []\n",
    "time_labels = []\n",
    "for jj, (time, gwbs, flags) in enumerate(zip(times_list, gwb_times, flag_times)):\n",
    "    # if jj == 1:\n",
    "    #     continue\n",
    "    color = None\n",
    "    flag_lines = []\n",
    "    flag_labels = []\n",
    "    for ii, (gwb, flag) in enumerate(zip(gwbs, flags)):\n",
    "        plot_kwargs = dict(ls='--') if flag else {}\n",
    "        hh = draw_gwb(ax, xx, gwb, nsamp=None, plot_kwargs=plot_kwargs, color=color)\n",
    "        flag_lines.append(hh)\n",
    "        flag_labels.append(str(flag))\n",
    "        if color is None:\n",
    "            color = hh.get_color()\n",
    "        if ii == 1:\n",
    "            time_lines.append(hh)\n",
    "            time_labels.append(f\"{time:5.2f}\")\n",
    "\n",
    "leg = zplot.legend(ax, time_lines, time_labels, loc='ur', title='lifetime [Gyr]')\n",
    "zplot.legend(ax, flag_lines, flag_labels, prev=leg, loc='ll', title='stalled')\n",
    "plot._twin_hz(ax)\n",
    "plt.show()\n",
    "\n",
    "fname = Path(\"~/stall.png\").expanduser()\n",
    "fig.savefig(fname, dpi=400)\n",
    "print(f\"Saved to {fname}, size {utils.get_file_size(fname)}\")"
   ]
  }
 ],
 "metadata": {
  "kernelspec": {
   "display_name": "py310",
   "language": "python",
   "name": "python3"
  },
  "language_info": {
   "codemirror_mode": {
    "name": "ipython",
    "version": 3
   },
   "file_extension": ".py",
   "mimetype": "text/x-python",
   "name": "python",
   "nbconvert_exporter": "python",
   "pygments_lexer": "ipython3",
   "version": "3.10.8"
  },
  "vscode": {
   "interpreter": {
    "hash": "1f0c7602c82e39efa19a01e5e068584db7a6d17aff8711ab06660aac81377393"
   }
  }
 },
 "nbformat": 4,
 "nbformat_minor": 2
}
