{
 "cells": [
  {
   "cell_type": "code",
   "execution_count": null,
   "metadata": {},
   "outputs": [],
   "source": [
    "import numpy as np\n",
    "import matplotlib.pyplot as plt\n",
    "\n",
    "import holodeck as holo\n",
    "import holodeck.sams\n",
    "from holodeck import utils, plot\n",
    "from holodeck.constants import MSOL, GYR"
   ]
  },
  {
   "cell_type": "markdown",
   "metadata": {},
   "source": [
    "## Illustris Galaxy Merger Rate [Rodriguez-Gomez+2015]"
   ]
  },
  {
   "cell_type": "code",
   "execution_count": null,
   "metadata": {},
   "outputs": [],
   "source": [
    "gmr = holo.sams.GMR_Illustris()"
   ]
  },
  {
   "cell_type": "markdown",
   "metadata": {},
   "source": [
    "Reproduce Rodriguez-Gomez+2015 Fig.6, upper panel"
   ]
  },
  {
   "cell_type": "code",
   "execution_count": null,
   "metadata": {},
   "outputs": [],
   "source": [
    "redz_list = [0.1, 1.0, 2.0]\n",
    "mrat_list = [1e-3, 1e-2, 1e-1, 0.25]\n",
    "mcuts = [5e10, 5e9, 5e8, 0.0]\n",
    "\n",
    "mtot = np.logspace(8, 12, 101) * MSOL\n",
    "\n",
    "fig, axes = plot.figax(figsize=[15, 5], ncols=3, wspace=0.0, ylim=[1e-2, 1e4], sharey=True)\n",
    "for ii, (ax, redz) in enumerate(zip(axes, redz_list)):\n",
    "    for jj, mrat in enumerate(mrat_list):\n",
    "        rate = gmr(mtot, mrat, redz)\n",
    "        hh, = ax.plot(mtot/MSOL, rate * GYR, alpha=0.25)\n",
    "        sel = (mtot/MSOL > mcuts[jj])\n",
    "        hh, = ax.plot(mtot[sel]/MSOL, rate[sel] * GYR, color=hh.get_color(), label=fr\"$q_\\star \\approx 1/{1/mrat:.0f}$\")\n",
    "\n",
    "    if ii == 0:\n",
    "        ax.legend(loc='center left', fontsize=12)\n",
    "    elif ii == 1:\n",
    "        ax.set(xlabel='Descendent (Total) Mass ($M_\\star \\, [M_\\odot]$)')\n",
    "\n",
    "plt.show()\n"
   ]
  },
  {
   "cell_type": "markdown",
   "metadata": {},
   "source": [
    "Reproduce Rodriguez-Gomez+2015 Fig.6, lower panel"
   ]
  },
  {
   "cell_type": "code",
   "execution_count": null,
   "metadata": {},
   "outputs": [],
   "source": [
    "redz_list = [0.1, 1.0, 2.0]\n",
    "mtot_list = [1e11, 1e10, 1e9]\n",
    "qcuts = [2e-4, 2e-3, 2e-2]\n",
    "\n",
    "mrat = np.logspace(-4, 0, 101)\n",
    "\n",
    "fig, axes = plot.figax(figsize=[15, 5], ncols=3, wspace=0.0, ylim=[2e-3, 1e5], sharey=True)\n",
    "for ii, (ax, redz) in enumerate(zip(axes, redz_list)):\n",
    "    for jj, mtot in enumerate(mtot_list):\n",
    "        rate = gmr(mtot*MSOL, mrat, redz)\n",
    "        sel = (mrat > qcuts[jj])\n",
    "        hh, = ax.plot(mrat, rate * GYR, alpha=0.25)\n",
    "        ax.plot(mrat[sel], rate[sel] * GYR, color=hh.get_color(), label=fr\"$M_\\star \\approx 10^{{{np.log10(mtot):.0f}}} \\, M_\\odot$\")\n",
    "\n",
    "    if ii == 0:\n",
    "        ax.legend(loc='lower left', fontsize=12)\n",
    "    elif ii == 1:\n",
    "        ax.set(xlabel='Mass Ratio ($q_\\star$)')\n",
    "\n",
    "plt.show()\n"
   ]
  }
 ],
 "metadata": {
  "kernelspec": {
   "display_name": "py311",
   "language": "python",
   "name": "python3"
  },
  "language_info": {
   "codemirror_mode": {
    "name": "ipython",
    "version": 3
   },
   "file_extension": ".py",
   "mimetype": "text/x-python",
   "name": "python",
   "nbconvert_exporter": "python",
   "pygments_lexer": "ipython3",
   "version": "3.11.7"
  }
 },
 "nbformat": 4,
 "nbformat_minor": 2
}
