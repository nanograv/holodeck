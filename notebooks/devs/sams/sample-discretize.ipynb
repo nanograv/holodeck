{
 "cells": [
  {
   "cell_type": "code",
   "execution_count": null,
   "metadata": {},
   "outputs": [],
   "source": [
    "# %load ../../notebooks/init.ipy\n",
    "%reload_ext autoreload\n",
    "%autoreload 2\n",
    "\n",
    "# Builtin packages\n",
    "from datetime import datetime\n",
    "from importlib import reload\n",
    "import logging\n",
    "import os\n",
    "from pathlib import Path\n",
    "import sys\n",
    "import warnings\n",
    "\n",
    "# standard secondary packages\n",
    "import astropy as ap\n",
    "import h5py\n",
    "import matplotlib as mpl\n",
    "import matplotlib.pyplot as plt\n",
    "import numpy as np\n",
    "import scipy as sp\n",
    "import scipy.stats\n",
    "import tqdm.notebook as tqdm\n",
    "\n",
    "# development packages\n",
    "import kalepy as kale\n",
    "import kalepy.utils\n",
    "import kalepy.plot\n",
    "\n",
    "# --- Holodeck ----\n",
    "import holodeck as holo\n",
    "import holodeck.sam\n",
    "from holodeck import cosmo, utils, plot\n",
    "from holodeck.constants import MSOL, PC, YR, MPC, GYR, SPLC, NWTG\n",
    "import holodeck.gravwaves\n",
    "import holodeck.evolution\n",
    "import holodeck.population\n",
    "\n",
    "# Silence annoying numpy errors\n",
    "np.seterr(divide='ignore', invalid='ignore', over='ignore')\n",
    "warnings.filterwarnings(\"ignore\", category=UserWarning)\n",
    "\n",
    "# Plotting settings\n",
    "mpl.rc('font', **{'family': 'serif', 'sans-serif': ['Times'], 'size': 15})\n",
    "mpl.rc('lines', solid_capstyle='round')\n",
    "mpl.rc('mathtext', fontset='cm')\n",
    "mpl.style.use('default')   # avoid dark backgrounds from dark theme vscode\n",
    "plt.rcParams.update({'grid.alpha': 0.5})\n",
    "\n",
    "# Load log and set logging level\n",
    "log = holo.log\n",
    "log.setLevel(logging.INFO)"
   ]
  },
  {
   "cell_type": "code",
   "execution_count": null,
   "metadata": {},
   "outputs": [],
   "source": [
    "sam = holo.sam.Semi_Analytic_Model(shape=30)\n",
    "hard = holo.hardening.Hard_GW()\n",
    "\n",
    "fobs = utils.nyquist_freqs(10.0*YR, 0.2*YR)\n",
    "fobs_edges = utils.nyquist_freqs_edges(10.0*YR, 0.2*YR)\n"
   ]
  },
  {
   "cell_type": "code",
   "execution_count": null,
   "metadata": {},
   "outputs": [],
   "source": [
    "# Sample the SAM population using 'outlier sampling'\n",
    "# use orbital frequency\n",
    "fobs_orb_edges = fobs_edges / 2.0\n",
    "vals, weights, edges, dens, mass = holo.sam.sample_sam_with_hardening(sam, hard, fobs_orb=fobs_orb_edges, sample_threshold=1e2, poisson_inside=True, poisson_outside=True)"
   ]
  },
  {
   "cell_type": "code",
   "execution_count": null,
   "metadata": {},
   "outputs": [],
   "source": [
    "# use GW frequency\n",
    "gff, gwf, gwb = holo.gravwaves._gws_from_samples(vals, weights, fobs_edges)"
   ]
  },
  {
   "cell_type": "code",
   "execution_count": null,
   "metadata": {},
   "outputs": [],
   "source": [
    "fig, ax = plot.figax(figsize=[12, 8], xlabel='Frequency [yr$^{-1}$]', ylabel='c-Strain')\n",
    "ax.scatter(gff, gwf)\n",
    "plot.draw_hist_steps(ax, fobs_edges, gwb, yfilter=lambda xx: np.greater(xx, 0.0))\n",
    "\n",
    "plt.show()"
   ]
  },
  {
   "cell_type": "code",
   "execution_count": null,
   "metadata": {},
   "outputs": [],
   "source": [
    "hs, fo = holo.gravwaves._strains_from_samples(vals)"
   ]
  },
  {
   "cell_type": "code",
   "execution_count": null,
   "metadata": {},
   "outputs": [],
   "source": [
    "nloud = 5\n",
    "colors = plot._get_cmap('plasma')(np.linspace(0.05, 0.95, nloud))# print(colors)\n",
    "\n",
    "fig, ax = plot.figax(figsize=[12, 8], xlabel='Frequency [yr$^{-1}$]', ylabel='c-Strain')\n",
    "for ii in range(fobs_edges.size-1):\n",
    "    # if ii < 10 or ii > 16:\n",
    "    #     continue\n",
    "    \n",
    "    fextr = [fobs_edges[ii+jj] for jj in range(2)]\n",
    "    fextr = np.asarray(fextr)\n",
    "    cycles = 1.0 / np.diff(np.log(fextr))[0]\n",
    "\n",
    "    idx = (fextr[0] <= fo) & (fo < fextr[1])\n",
    "    hs_bin = hs[idx]\n",
    "    fo_bin = fo[idx]    \n",
    "    ww_bin = weights[idx]\n",
    "    ww = ww_bin * cycles\n",
    "\n",
    "    tot = np.sqrt(np.sum(ww * hs_bin**2))\n",
    "    ax.plot(fextr*YR, tot * np.ones_like(fextr), 'k--')\n",
    "\n",
    "    idx = np.argsort(hs_bin)[::-1]\n",
    "    if any(ww_bin[idx[:nloud]] > 1):\n",
    "        raise\n",
    "    \n",
    "    for jj, cc in enumerate(colors):\n",
    "        if jj >= len(idx):\n",
    "            break\n",
    "        hi = idx[jj]\n",
    "        lo = idx[jj+1:]\n",
    "        gw_hi = np.sqrt(np.sum(ww[hi] * hs_bin[hi]**2))\n",
    "        gw_lo = np.sqrt(np.sum(ww[lo] * hs_bin[lo]**2))\n",
    "\n",
    "        fave = np.average(fo_bin[hi], weights=hs_bin[hi])\n",
    "        ax.plot(fextr*YR, gw_lo * np.ones_like(fextr), color=cc, lw=0.5)\n",
    "        ax.scatter(fave*YR, gw_hi, marker='.', color=cc, alpha=0.5)\n",
    "\n",
    "plt.show()"
   ]
  }
 ],
 "metadata": {
  "kernelspec": {
   "display_name": "py310",
   "language": "python",
   "name": "python3"
  },
  "language_info": {
   "codemirror_mode": {
    "name": "ipython",
    "version": 3
   },
   "file_extension": ".py",
   "mimetype": "text/x-python",
   "name": "python",
   "nbconvert_exporter": "python",
   "pygments_lexer": "ipython3",
   "version": "3.10.11"
  }
 },
 "nbformat": 4,
 "nbformat_minor": 2
}
