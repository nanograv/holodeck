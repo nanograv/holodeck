{
 "cells": [
  {
   "attachments": {},
   "cell_type": "markdown",
   "metadata": {},
   "source": [
    "# Semi-Analytic Model - Parameter Selection"
   ]
  },
  {
   "attachments": {},
   "cell_type": "markdown",
   "metadata": {},
   "source": [
    "## Initialization"
   ]
  },
  {
   "cell_type": "code",
   "execution_count": null,
   "metadata": {},
   "outputs": [],
   "source": [
    "import os\n",
    "# import warnings\n",
    "from pathlib import Path\n",
    "import numpy as np\n",
    "import scipy as sp\n",
    "import scipy.optimize\n",
    "import matplotlib.pyplot as plt\n",
    "import matplotlib as mpl\n",
    "\n",
    "import kalepy as kale\n",
    "\n",
    "# Silence annoying numpy errors\n",
    "np.seterr(divide='ignore', invalid='ignore', over='ignore')\n",
    "# warnings.filterwarnings(\"ignore\", category=UserWarning)\n",
    "\n",
    "# Plotting settings\n",
    "mpl.rc('font', **{'family': 'serif', 'sans-serif': ['Times'], 'size': 15})\n",
    "mpl.rc('lines', solid_capstyle='round')\n",
    "mpl.rc('mathtext', fontset='cm')\n",
    "mpl.style.use('default')   # avoid dark backgrounds from dark theme vscode\n",
    "plt.rcParams.update({'grid.alpha': 0.5})\n"
   ]
  },
  {
   "cell_type": "code",
   "execution_count": null,
   "metadata": {},
   "outputs": [],
   "source": [
    "def func_line(xx, mm, bb):\n",
    "        yy = mm * xx + bb\n",
    "        return yy\n",
    "\n",
    "\n",
    "def fit_values_linear(xx, yy, guess=[-1.0, 1.0]):\n",
    "    popt, pcov = sp.optimize.curve_fit(func_line, xx, yy, p0=guess, maxfev=10000)\n",
    "    return popt\n",
    "\n",
    "\n",
    "def func_gauss(xx, aa, mm, ss):\n",
    "    yy = aa * np.exp(-(xx - mm)**2 / (2.0 * ss**2))\n",
    "    return yy\n",
    "\n",
    "\n",
    "def fit_values_gaussian(xx, yy, guess=[1.0, 0.0, 1.0]):\n",
    "    popt, pcov = sp.optimize.curve_fit(func_gauss, xx, yy, p0=guess, maxfev=10000)\n",
    "    return popt"
   ]
  },
  {
   "attachments": {},
   "cell_type": "markdown",
   "metadata": {},
   "source": [
    "## Galaxy Stellar-Mass Function (GSMF)"
   ]
  },
  {
   "attachments": {},
   "cell_type": "markdown",
   "metadata": {},
   "source": [
    "### [Tomczak+2014](https://ui.adsabs.harvard.edu/abs/2014ApJ...783...85T/exportcitation)"
   ]
  },
  {
   "attachments": {},
   "cell_type": "markdown",
   "metadata": {},
   "source": [
    "- Includes single & double Schechter fits for various redshift bins, no fit to redshift evolution"
   ]
  },
  {
   "cell_type": "code",
   "execution_count": null,
   "metadata": {},
   "outputs": [],
   "source": [
    "data = {\n",
    "    0: {\n",
    "        'z': [0.2, 0.5],\n",
    "        'log10mstar': [11.05, 0.1],    # log10(M/Msol)\n",
    "        'alpha': [-1.35, 0.04],\n",
    "        'log10phistar': [-2.96, 0.10]  # log10(Phi / Mpc^-3 / dex)\n",
    "    },\n",
    "    1: {\n",
    "        'z': [0.5, 0.75],\n",
    "        'log10mstar': [11.00, 0.06],    # log10(M/Msol)\n",
    "        'alpha': [-1.35, 0.04],\n",
    "        'log10phistar': [-2.93, 0.07]  # log10(Phi / Mpc^-3 / dex)\n",
    "    },\n",
    "    2: {\n",
    "        'z': [0.75, 1.00],\n",
    "        'log10mstar': [11.16, 0.12],    # log10(M/Msol)\n",
    "        'alpha': [-1.38, 0.04],\n",
    "        'log10phistar': [-3.17, 0.11]  # log10(Phi / Mpc^-3 / dex)\n",
    "    },\n",
    "    3: {\n",
    "        'z': [1.00, 1.25],\n",
    "        'log10mstar': [11.09, 0.10],    # log10(M/Msol)\n",
    "        'alpha': [-1.33, 0.05],\n",
    "        'log10phistar': [-3.19, 0.11]  # log10(Phi / Mpc^-3 / dex)\n",
    "    },\n",
    "    4: {\n",
    "        'z': [1.25, 1.50],\n",
    "        'log10mstar': [10.88, 0.05],    # log10(M/Msol)\n",
    "        'alpha': [-1.29, 0.05],\n",
    "        'log10phistar': [-3.11, 0.08]  # log10(Phi / Mpc^-3 / dex)\n",
    "    },\n",
    "    5: {\n",
    "        'z': [1.50, 2.00],\n",
    "        'log10mstar': [10.97, 0.05],    # log10(M/Msol)\n",
    "        'alpha': [-1.45, 0.05],\n",
    "        'log10phistar': [-3.44, 0.08]  # log10(Phi / Mpc^-3 / dex)\n",
    "    },\n",
    "    6: {\n",
    "        'z': [2.00, 2.50],\n",
    "        'log10mstar': [11.28, 0.19],    # log10(M/Msol)\n",
    "        'alpha': [-1.60, 0.08],\n",
    "        'log10phistar': [-3.96, 0.19]  # log10(Phi / Mpc^-3 / dex)\n",
    "    },\n",
    "    7: {\n",
    "        'z': [2.50, 3.00],\n",
    "        'log10mstar': [11.35, 0.33],    # log10(M/Msol)\n",
    "        'alpha': [-1.74, 0.12],\n",
    "        'log10phistar': [-4.36, 0.29]  # log10(Phi / Mpc^-3 / dex)\n",
    "    },\n",
    "}"
   ]
  },
  {
   "cell_type": "code",
   "execution_count": null,
   "metadata": {},
   "outputs": [],
   "source": [
    "keys = list(data[0].keys())\n",
    "print(f\"{keys=}\")\n",
    "keys.pop(keys.index('z'))\n",
    "fig, axes = plt.subplots(figsize=[10, 5], ncols=3)\n",
    "\n",
    "nz = len(data)\n",
    "redz = np.zeros((nz, 2))\n",
    "values = np.zeros((3, nz, 2))\n",
    "\n",
    "for ii, vals in enumerate(data.values()):\n",
    "    zbin = vals['z']\n",
    "    zave = np.mean(zbin)\n",
    "    zwid = np.diff(zbin)/2.0\n",
    "    redz[ii, 0] = zave\n",
    "    redz[ii, 1] = zwid\n",
    "    for jj, (key, ax) in enumerate(zip(keys, axes)):\n",
    "        val = vals[key]\n",
    "        values[jj, ii, :] = val[:]\n",
    "        ax.errorbar(zave, val[0], xerr=zwid, yerr=val[1])\n",
    "        if ii == 0:\n",
    "            ax.set(xlabel='Redshift', title=key)\n",
    "            ax.grid(True, alpha=0.25)\n",
    "\n",
    "plt.show()"
   ]
  },
  {
   "cell_type": "code",
   "execution_count": null,
   "metadata": {},
   "outputs": [],
   "source": [
    "keys = list(data[0].keys())\n",
    "keys.pop(keys.index('z'))\n",
    "\n",
    "\n",
    "fig, axes = plt.subplots(figsize=[10, 5], ncols=3)\n",
    "nz = len(data)\n",
    "\n",
    "for ax, vals in zip(axes, values):\n",
    "    ax.set(xlabel='Redshift', title=key)\n",
    "    ax.grid(True, alpha=0.25)\n",
    "    xx = redz[:, 0]\n",
    "    yy = vals[:, 0]\n",
    "    ax.errorbar(xx, yy, xerr=redz[:, 1], yerr=vals[:, 1], ls='none')\n",
    "    ax.plot(xx, yy, 'k--', alpha=0.5)\n",
    "\n",
    "    fit = fit_values_linear(xx, yy)\n",
    "    yy = xx * fit[0] + fit[1]\n",
    "    print(fit)\n",
    "    ax.plot(xx, yy, 'r--', alpha=0.5)\n",
    "\n",
    "plt.show()"
   ]
  },
  {
   "cell_type": "code",
   "execution_count": null,
   "metadata": {},
   "outputs": [],
   "source": [
    "NSAMPS = 1000\n",
    "NSHOW = 20\n",
    "\n",
    "keys = list(data[0].keys())\n",
    "keys.pop(keys.index('z'))\n",
    "\n",
    "fig, axes = plt.subplots(figsize=[10, 10], ncols=3, nrows=3)\n",
    "plt.subplots_adjust(hspace=0.35)\n",
    "nz = len(data)\n",
    "\n",
    "fits = np.zeros((3, 2, NSAMPS))\n",
    "\n",
    "for ii, (axrow, vals) in enumerate(zip(axes, values)):\n",
    "    xx = redz[:, 0]\n",
    "    # yy = vals[:, 0]\n",
    "    yy = np.random.normal(vals[:, 0][:, np.newaxis], vals[:, 1][:, np.newaxis], size=(nz, NSAMPS))\n",
    "\n",
    "    ax = axrow[0]\n",
    "    ax.set(xlabel='Redshift', title=keys[ii])\n",
    "    ax.grid(True, alpha=0.25)\n",
    "\n",
    "    ax.errorbar(xx, vals[:, 0], xerr=redz[:, 1], yerr=vals[:, 1], ls='none')\n",
    "    # ax.plot(xx, yy, 'k--', alpha=0.5)\n",
    "\n",
    "    for jj in range(NSAMPS):\n",
    "        fit = fit_values_linear(xx, yy[:, jj])\n",
    "        fits[ii, 0, jj] = fit[0]\n",
    "        fits[ii, 1, jj] = fit[1]\n",
    "\n",
    "        if jj%(NSAMPS//NSHOW) == 0:\n",
    "            # cc, = ax.plot(xx, yy[:, jj], alpha=0.5, lw=0.5)\n",
    "            # cc.get_color()\n",
    "            cc = None\n",
    "            zz = xx * fit[0] + fit[1]\n",
    "            ax.plot(xx, zz, ls='--', alpha=0.5, color=cc, lw=0.5)\n",
    "\n",
    "    for jj, (ax, lab) in enumerate(zip(axrow[1:], ['slope', 'intercept'])):\n",
    "        ax.set(xlabel=lab)\n",
    "        ax.grid(True, alpha=0.25)\n",
    "        kale.dist1d(fits[ii, jj], ax=ax, density=True)\n",
    "\n",
    "plt.show()"
   ]
  },
  {
   "cell_type": "code",
   "execution_count": null,
   "metadata": {},
   "outputs": [],
   "source": [
    "fig, axes = plt.subplots(figsize=[10, 7], nrows=3, ncols=2)\n",
    "plt.subplots_adjust(hspace=0.4)\n",
    "\n",
    "labels = ['slope', 'intercept']\n",
    "\n",
    "for (jj, ii), ax in np.ndenumerate(axes):\n",
    "    ax.grid(True, alpha=0.25)\n",
    "    ff = fits[jj, ii]\n",
    "    kale.carpet(ff, ax=ax)\n",
    "\n",
    "    xx = kale.utils.spacing(ff, scale='lin', num=100, stretch=0.0)\n",
    "    xx, yy = kale.density(ff, points=xx, probability=True)\n",
    "    ax.plot(xx, yy, 'k-', alpha=0.5)\n",
    "\n",
    "    fit = fit_values_gaussian(xx, yy, [np.max(yy), np.mean(ff), np.std(ff)])\n",
    "    yy = func_gauss(xx, *fit)\n",
    "    ax.plot(xx, yy, 'r--', alpha=0.5)\n",
    "    ax.set_title(f\"{keys[jj]} - {labels[ii]} :: \" + f\"${fit[1]:.2f} \\pm {fit[2]:.2f}$\", fontsize=8)\n",
    "\n",
    "plt.show()"
   ]
  },
  {
   "attachments": {},
   "cell_type": "markdown",
   "metadata": {},
   "source": [
    "### [Leja+2020](https://ui.adsabs.harvard.edu/abs/2020ApJ...893..111L/abstract)\n",
    "\n",
    "- Uses a double-Schechter function with parametrized redshift evolution"
   ]
  },
  {
   "attachments": {},
   "cell_type": "markdown",
   "metadata": {},
   "source": [
    "## Galaxy Pair Fraction (GPF)"
   ]
  },
  {
   "attachments": {},
   "cell_type": "markdown",
   "metadata": {},
   "source": [
    "### [Conselice+2003](https://ui.adsabs.harvard.edu/abs/2003AJ....126.1183C/abstract)\n",
    "\n",
    "- No significant dependence on total mass, consistent with Duncan+2019"
   ]
  },
  {
   "attachments": {},
   "cell_type": "markdown",
   "metadata": {},
   "source": [
    "### [Gluck+2012](https://ui.adsabs.harvard.edu/abs/2012ApJ...747...34B/abstract)\n",
    "\n",
    "- Strong mass-ratio dependence, but paramtrized in a very strange way with \"mass range\" (e.g. Eq.11), based on brightness ratio (??)"
   ]
  },
  {
   "attachments": {},
   "cell_type": "markdown",
   "metadata": {},
   "source": [
    "### [Mundy+2017](https://ui.adsabs.harvard.edu/abs/2017MNRAS.470.3507M/abstract)\n",
    "\n",
    "- No significant dependence on total mass.\n",
    "- Massive galaxies ($M_\\star > 10^{11} M_\\odot$): $f_0 = 0.025 \\pm 0.004$, and $m=0.78\\pm0.20$\n",
    "- Intermediate galaxies ($M_\\star > 10^{10} M_\\odot$): $f_0 = 0.028 \\pm 0.002$, and $m=0.80\\pm0.09$"
   ]
  },
  {
   "attachments": {},
   "cell_type": "markdown",
   "metadata": {},
   "source": [
    "### [Duncan+2019](https://ui.adsabs.harvard.edu/abs/2019ApJ...876..110D/abstract)\n",
    "\n",
    "- Thorough examination of pair fractions vs. redshift, some discussion of mass ratio.\n",
    "- Use Snyder+2017 merger timescale to convert between fractions and merger rates.\n",
    "- Parametrize merger rate as a function of redshift as $f = f_0 \\, \\left(1+z\\right)^m$\n",
    "    - For mass bin $\\log_{10}(M_\\star) > 10.3$, they find $f_0 = 0.032^{+0.009}_{-0.007}$ and $m=0.844^{+0.216}_{-0.235}$\n",
    "- Parametrize merger rate as a function of mass-ratio as $f_p(>\\mu) = A \\, \\left(q^{-1} - 1\\right)^B$\n",
    "    - Fits vary with redshift, $\\log_{10}A = \\{-1.472, -1.522, -1.291, -1.299, -1.346\\}$, and $B = \\{0.413, 0.540, 0.515, 0.491, 0.582\\}$"
   ]
  },
  {
   "cell_type": "code",
   "execution_count": null,
   "metadata": {},
   "outputs": [],
   "source": [
    "bb = 0.5\n",
    "qq = np.logspace(-4, 0, 100)\n",
    "yy = np.power(1/qq - 1, bb)\n",
    "plt.loglog(qq, yy)\n",
    "\n",
    "zz = np.power(qq, -bb)\n",
    "plt.loglog(qq, zz, 'k--')\n",
    "\n",
    "zz = np.power((1-qq)/qq, bb)\n",
    "plt.loglog(qq, zz, 'r--')\n",
    "\n",
    "plt.show()"
   ]
  },
  {
   "attachments": {},
   "cell_type": "markdown",
   "metadata": {},
   "source": [
    "## Galaxy Merger Timescales (GMT)"
   ]
  },
  {
   "cell_type": "markdown",
   "metadata": {},
   "source": [
    "### [Snyder+2017](https://ui.adsabs.harvard.edu/abs/2017MNRAS.468..207S/abstract)\n",
    "\n",
    "- $\\tau = 2.5 \\left(1+z\\right)^{-2} {\\rm Gyr}$ leads to a good match between pairs and intrinsic merger rates"
   ]
  },
  {
   "attachments": {},
   "cell_type": "markdown",
   "metadata": {},
   "source": [
    "### [Conselice+2008](https://ui.adsabs.harvard.edu/abs/2008MNRAS.386..909C/abstract)\n",
    "\n",
    "- Merger timescale with redshift dependence of $5.5\\pm 2.5$ for highest mass bin, and more gradual for lower masses"
   ]
  },
  {
   "attachments": {},
   "cell_type": "markdown",
   "metadata": {},
   "source": [
    "### [Conselice+2009](https://ui.adsabs.harvard.edu/abs/2009MNRAS.399L..16C/abstract)\n",
    "\n",
    "- Merger timescales with normalization between $0.6 \\pm 0.3$ Gyr, and up to $1.1 \\pm 0.3$ Gyr."
   ]
  },
  {
   "attachments": {},
   "cell_type": "markdown",
   "metadata": {},
   "source": [
    "### [Boylan-Kolchin+2008](https://ui.adsabs.harvard.edu/abs/2008MNRAS.383...93B/abstract)\n",
    "\n",
    "Theory & Simulations for fitting function of dynamical-friction time-scale.  End up with\n",
    "$$\\tau_{\\rm merge} / \\tau_{\\rm dyn} =\n",
    "    A \\frac{q^{-b}}{\\ln\\left(1 + q^{-1}\\right)} \\left[ \\frac{r_c(E)}{r_{\\rm vir}} \\right]^d \\exp\\left[c \\cdot \\eta\\right]$$\n",
    "finding: $A = 0.216$, $b=1.3$, $c=1.9$, and $d=1.0$.\n",
    "\n",
    "Here $t_{\\rm dyn} = 0.1 H(z)^{-1}$ is the dynamical time at the virial radius,\n",
    "$q \\equiv M_{\\rm sat}/M_{\\rm host}$ is the mass-ratio,\n",
    "$\\eta = j / j_c(E)$ is the orbital circularly (angular momentum relative to that of a circular orbit with the same energy),\n",
    "and $r_c(E)$ is the radius of a circular orbit of the given energy."
   ]
  },
  {
   "attachments": {},
   "cell_type": "markdown",
   "metadata": {},
   "source": [
    "## Fixed_Time Model"
   ]
  },
  {
   "cell_type": "code",
   "execution_count": null,
   "metadata": {},
   "outputs": [],
   "source": [
    "import holodeck as holo\n",
    "from holodeck.constants import MSOL, PC, NWTG, YR\n",
    "mmbulge = holo.host_relations.MMBulge_Standard()\n",
    "smhm = holo.host_relations.Behroozi_2013()\n"
   ]
  },
  {
   "cell_type": "code",
   "execution_count": null,
   "metadata": {},
   "outputs": [],
   "source": [
    "mbh = np.logspace(6, 10, 10)*MSOL\n",
    "redz = 1.0"
   ]
  },
  {
   "cell_type": "code",
   "execution_count": null,
   "metadata": {},
   "outputs": [],
   "source": [
    "rad_infl = 10 * PC\n",
    "dens = (4.0/3.0) * np.pi * rad_infl ** 3\n",
    "dens = mbh / dens\n",
    "time = np.power(NWTG * dens, -0.5)\n",
    "plt.loglog(mbh/MSOL, time/YR)\n",
    "plt.show()"
   ]
  },
  {
   "cell_type": "code",
   "execution_count": null,
   "metadata": {},
   "outputs": [],
   "source": [
    "mstar = mmbulge.mstar_from_mbh(mbh, scatter=False)\n",
    "print(mstar/MSOL)\n",
    "mhalo = smhm.halo_mass(mstar, redz * np.ones_like(mstar))\n",
    "print(mhalo/MSOL)\n",
    "mass = nfw.mass(10.0 * PC, mhalo, redz)"
   ]
  },
  {
   "cell_type": "code",
   "execution_count": null,
   "metadata": {},
   "outputs": [],
   "source": [
    "plt.loglog(mbh, mass/MSOL)\n",
    "plt.show()"
   ]
  }
 ],
 "metadata": {
  "kernelspec": {
   "display_name": "py310",
   "language": "python",
   "name": "python3"
  },
  "language_info": {
   "codemirror_mode": {
    "name": "ipython",
    "version": 3
   },
   "file_extension": ".py",
   "mimetype": "text/x-python",
   "name": "python",
   "nbconvert_exporter": "python",
   "pygments_lexer": "ipython3",
   "version": "3.11.7"
  },
  "vscode": {
   "interpreter": {
    "hash": "1f0c7602c82e39efa19a01e5e068584db7a6d17aff8711ab06660aac81377393"
   }
  }
 },
 "nbformat": 4,
 "nbformat_minor": 2
}
