{
 "cells": [
  {
   "cell_type": "code",
   "execution_count": null,
   "id": "0",
   "metadata": {},
   "outputs": [],
   "source": [
    "# %load ../init.ipy\n",
    "%reload_ext autoreload\n",
    "%autoreload 2\n",
    "from importlib import reload\n",
    "\n",
    "import os\n",
    "import sys\n",
    "import logging\n",
    "import warnings\n",
    "import numpy as np\n",
    "import astropy as ap\n",
    "import scipy as sp\n",
    "import scipy.stats\n",
    "import matplotlib as mpl\n",
    "import matplotlib.pyplot as plt\n",
    "\n",
    "import h5py\n",
    "import tqdm.notebook as tqdm\n",
    "\n",
    "import kalepy as kale\n",
    "import kalepy.utils\n",
    "import kalepy.plot\n",
    "\n",
    "import holodeck as holo\n",
    "import holodeck.sam\n",
    "from holodeck import cosmo, utils, plot\n",
    "from holodeck.constants import MSOL, PC, YR, MPC, GYR\n",
    "\n",
    "# Silence annoying numpy errors\n",
    "np.seterr(divide='ignore', invalid='ignore', over='ignore')\n",
    "warnings.filterwarnings(\"ignore\", category=UserWarning)\n",
    "\n",
    "# Plotting settings\n",
    "mpl.rc('font', **{'family': 'serif', 'sans-serif': ['Times'], 'size': 15})\n",
    "mpl.rc('lines', solid_capstyle='round')\n",
    "mpl.rc('mathtext', fontset='cm')\n",
    "mpl.style.use('default')   # avoid dark backgrounds from dark theme vscode\n",
    "plt.rcParams.update({'grid.alpha': 0.5})\n",
    "\n",
    "log = holo.log\n",
    "log.setLevel(logging.INFO)"
   ]
  },
  {
   "cell_type": "markdown",
   "id": "1",
   "metadata": {},
   "source": [
    "# Quick Start"
   ]
  },
  {
   "cell_type": "markdown",
   "id": "2",
   "metadata": {},
   "source": [
    "Construct a Semi-Analytic Model (SAM) using all of the default parameters"
   ]
  },
  {
   "cell_type": "code",
   "execution_count": null,
   "id": "3",
   "metadata": {},
   "outputs": [],
   "source": [
    "sam = holo.sam.Semi_Analytic_Model()"
   ]
  },
  {
   "cell_type": "markdown",
   "id": "4",
   "metadata": {},
   "source": [
    "Choose the edges of the frequency bins at which to calculate the GWB"
   ]
  },
  {
   "cell_type": "code",
   "execution_count": null,
   "id": "5",
   "metadata": {},
   "outputs": [],
   "source": [
    "fobs = utils.nyquist_freqs(10.0*YR, 0.2*YR)\n",
    "print(f\"Number of frequency bins: {fobs.size-1}\")\n",
    "print(f\"  between [{fobs[0]*YR:.2f}, {fobs[-1]*YR:.2f}] 1/yr\")\n",
    "print(f\"          [{fobs[0]*1e9:.2f}, {fobs[-1]*1e9:.2f}] nHz\")"
   ]
  },
  {
   "cell_type": "markdown",
   "id": "6",
   "metadata": {},
   "source": [
    "Calculate GWB at given observed GW frequencies (`fobs`) for many different realizations to get a distribution of spectra"
   ]
  },
  {
   "cell_type": "code",
   "execution_count": null,
   "id": "7",
   "metadata": {},
   "outputs": [],
   "source": [
    "gwb = sam.gwb(fobs, realize=500)    # calculate many different realizations"
   ]
  },
  {
   "cell_type": "markdown",
   "id": "8",
   "metadata": {},
   "source": [
    "Plot GWB over multiple realizations"
   ]
  },
  {
   "cell_type": "code",
   "execution_count": null,
   "id": "9",
   "metadata": {},
   "outputs": [],
   "source": [
    "nsamp = 5    # number of sample GWB spectra to plot\n",
    "fig, ax = plot.figax(xlabel='Frequency $f_\\mathrm{obs}$ [1/yr]', ylabel='Characteristic Strain $h_c$')\n",
    "\n",
    "# `fobs` are bin edges in CGS units, convert to [1/yr], and get midpoints for plotting\n",
    "xx = fobs * YR\n",
    "xx = 0.5 * (xx[1:] + xx[:-1])\n",
    "\n",
    "# plot a reference, pure power-law  strain spectrum:   h_c(f) = 1e-15 * (f * yr) ^ -2/3\n",
    "yy = 1e-15 * np.power(xx, -2.0/3.0)\n",
    "ax.plot(xx, yy, 'k--', alpha=0.25, lw=2.0)\n",
    "\n",
    "# Plot the median GWB spectrum\n",
    "ax.plot(xx, np.median(gwb, axis=-1), 'k-')\n",
    "\n",
    "# Plot `nsamp` random spectra \n",
    "nsamp = np.min([nsamp, gwb.shape[1]])\n",
    "idx = np.random.choice(gwb.shape[1], nsamp, replace=False)\n",
    "ax.plot(xx, gwb[:, idx], 'k-', lw=1.0, alpha=0.1)\n",
    "\n",
    "# plot contours at 50% and 98% confidence intervals\n",
    "for pp in [50, 98]:\n",
    "    percs = pp / 2\n",
    "    percs = [50 - percs, 50 + percs]\n",
    "    ax.fill_between(xx, *np.percentile(gwb, percs, axis=-1), alpha=0.25, color='b')\n",
    "\n",
    "plt.show()"
   ]
  },
  {
   "cell_type": "markdown",
   "id": "10",
   "metadata": {},
   "source": [
    "# build SAM component-by-component"
   ]
  },
  {
   "cell_type": "markdown",
   "id": "11",
   "metadata": {},
   "source": [
    "Construct the four components required for all SAM models:\n",
    "\n",
    "1) **Galaxy Stellar Mass Function (GSMF)**: number-density of galaxies as a function of stellar mass\n",
    "2) **Galaxy Pair Fraction (GPF)**: fraction of galaxies that are in pairs\n",
    "3) **Galaxy Merger Time (GMT)**: time it takes for galaxies to merge\n",
    "4) **MBH––Galaxy Scaling Relationship (e.g. Mbh-Mbulge)**: mapping between galaxy properties (i.e. stellar mass) and BH mass"
   ]
  },
  {
   "cell_type": "code",
   "execution_count": null,
   "id": "12",
   "metadata": {},
   "outputs": [],
   "source": [
    "gsmf = holo.sam.GSMF_Schechter()        # Galaxy Stellar-Mass Function (GSMF)\n",
    "gpf = holo.sam.GPF_Power_Law()          # Galaxy Pair Fraction         (GPF)\n",
    "gmt = holo.sam.GMT_Power_Law()          # Galaxy Merger Time           (GMT)\n",
    "mmbulge = holo.relations.MMBulge_MM2013() # M-MBulge Relation            (MMB)"
   ]
  },
  {
   "cell_type": "markdown",
   "id": "13",
   "metadata": {},
   "source": [
    "Build SAM using these components"
   ]
  },
  {
   "cell_type": "code",
   "execution_count": null,
   "id": "14",
   "metadata": {},
   "outputs": [],
   "source": [
    "sam_bycomp = holo.sam.Semi_Analytic_Model(gsmf=gsmf, gpf=gpf, gmt=gmt, mmbulge=mmbulge)"
   ]
  },
  {
   "cell_type": "code",
   "execution_count": null,
   "id": "15",
   "metadata": {},
   "outputs": [],
   "source": [
    "np.allclose(sam.grid,sam_bycomp.grid)"
   ]
  },
  {
   "cell_type": "markdown",
   "id": "16",
   "metadata": {},
   "source": [
    "### Calculate the distribution of GWB Amplitudes at 1/yr"
   ]
  },
  {
   "cell_type": "code",
   "execution_count": null,
   "id": "17",
   "metadata": {},
   "outputs": [],
   "source": [
    "fobs_yr = 1.0/YR\n",
    "fobs_yr = fobs_yr * (1.0 + np.array([-0.05, 0.05]))\n",
    "ayr = sam.gwb(fobs_yr, realize=500)\n",
    "#ayr_bycomp = sam_bycomp.gwb(fobs_yr, realize=500)"
   ]
  },
  {
   "cell_type": "markdown",
   "id": "18",
   "metadata": {},
   "source": [
    "Plot the distribution"
   ]
  },
  {
   "cell_type": "code",
   "execution_count": null,
   "id": "19",
   "metadata": {},
   "outputs": [],
   "source": [
    "fig, ax = plt.subplots(figsize=[8, 4])\n",
    "ax.set(xlabel=r'$\\log_{10}(A_\\mathrm{yr})$', ylabel='Probability Density')\n",
    "ax.grid(alpha=0.2)\n",
    "\n",
    "# use `kalepy` do draw the 1D distribution\n",
    "kale.dist1d(np.log10(ayr), density=True, confidence=True)\n",
    "#kale.dist1d(np.log10(ayr_bycomp), density=True, confidence=True)\n",
    "\n",
    "plt.show()"
   ]
  },
  {
   "cell_type": "markdown",
   "id": "20",
   "metadata": {},
   "source": [
    "# Generate Full Population of Binaries"
   ]
  },
  {
   "cell_type": "code",
   "execution_count": null,
   "id": "21",
   "metadata": {},
   "outputs": [],
   "source": [
    "# Choose a hardening model (determines number of binaries in each frequency bin)\n",
    "hard = holo.evolution.Hard_GW()"
   ]
  },
  {
   "cell_type": "code",
   "execution_count": null,
   "id": "22",
   "metadata": {},
   "outputs": [],
   "source": [
    "# Sample the SAM population using 'outlier sampling'\n",
    "#vals, weights, edges, dens, mass = holo.sam.sample_sam_with_hardening(sam, hard, fobs=fobs, sample_threshold=1e2, poisson_inside=True, poisson_outside=True)\n",
    "nsamples=500\n",
    "gwtot_samp_yr = np.zeros(nsamples)\n",
    "for i in range(nsamples):\n",
    "    vals, weights, edges, dens, mass = holo.sam.sample_sam_with_hardening(sam, hard, fobs=fobs_yr, sample_threshold=1e2, poisson_inside=True, poisson_outside=True)\n",
    "    # multiplying by 2 here b/c of inconsistency between observed frequencies and gw frequencies -- need to fix\n",
    "    gff_samp, gwf_samp, gwb_samp = holo.gravwaves._gws_from_samples(vals, weights, fobs_yr*2)\n",
    "    #print(fobs_yr)\n",
    "    #print(gwf_samp,gwb_samp)\n",
    "    # add foreground and background in quadrature to get total amplitude\n",
    "    gwtot_samp_yr[i] = np.sqrt(gwf_samp**2 + gwb_samp**2)\n",
    "    #print(np.log10(gwtot_samp))"
   ]
  },
  {
   "cell_type": "code",
   "execution_count": null,
   "id": "23",
   "metadata": {},
   "outputs": [],
   "source": [
    "fig, ax = plt.subplots(figsize=[12, 6])\n",
    "ax.set(xlabel=r'$\\log_{10}(A_\\mathrm{yr})$', ylabel='Probability Density')\n",
    "ax.grid(alpha=0.2)\n",
    "\n",
    "# use `kalepy` do draw the 1D distribution\n",
    "kale.dist1d(np.log10(ayr), density=True, confidence=True)\n",
    "#comparing the SAM and the full binary population at a single frequency (yr^-1)\n",
    "kale.dist1d(np.log10(gwtot_samp_yr), density=True, confidence=True)\n",
    "plt.show()"
   ]
  },
  {
   "cell_type": "code",
   "execution_count": null,
   "id": "24",
   "metadata": {},
   "outputs": [],
   "source": []
  },
  {
   "cell_type": "markdown",
   "id": "25",
   "metadata": {},
   "source": [
    "### Calculate the distribution of GWB Amplitudes at 1/(3 yr)"
   ]
  },
  {
   "cell_type": "code",
   "execution_count": null,
   "id": "26",
   "metadata": {},
   "outputs": [],
   "source": [
    "fobs_3yr = 1.0/(3.0*YR)\n",
    "fobs_3yr = fobs_3yr * (1.0 + np.array([-0.05, 0.05]))\n",
    "a3yr = sam.gwb(fobs_3yr, realize=500)"
   ]
  },
  {
   "cell_type": "code",
   "execution_count": null,
   "id": "27",
   "metadata": {},
   "outputs": [],
   "source": [
    "fig, ax = plt.subplots(figsize=[8, 4])\n",
    "ax.set(xlabel=r'$\\log_{10}(A_\\mathrm{yr})$', ylabel='Probability Density')\n",
    "ax.grid(alpha=0.2)\n",
    "\n",
    "# use `kalepy` do draw the 1D distribution\n",
    "kale.dist1d(np.log10(a3yr), density=True, confidence=True)\n",
    "#kale.dist1d(np.log10(ayr_bycomp), density=True, confidence=True)\n",
    "\n",
    "plt.show()"
   ]
  },
  {
   "cell_type": "code",
   "execution_count": null,
   "id": "28",
   "metadata": {},
   "outputs": [],
   "source": [
    "# Sample the SAM population using 'outlier sampling'\n",
    "#vals, weights, edges, dens, mass = holo.sam.sample_sam_with_hardening(sam, hard, fobs=fobs, sample_threshold=1e2, poisson_inside=True, poisson_outside=True)\n",
    "nsamples=500\n",
    "gwtot_samp_3yr = np.zeros(nsamples)\n",
    "for i in range(nsamples):\n",
    "    vals, weights, edges, dens, mass = holo.sam.sample_sam_with_hardening(sam, hard, fobs=fobs_3yr, sample_threshold=1e2, poisson_inside=True, poisson_outside=True)\n",
    "    # multiplying by 2 here b/c of inconsistency between observed frequencies and gw frequencies -- need to fix\n",
    "    gff_samp, gwf_samp, gwb_samp = holo.gravwaves._gws_from_samples(vals, weights, fobs_3yr*2)\n",
    "    # add foreground and background in quadrature to get total amplitude\n",
    "    gwtot_samp_3yr[i] = np.sqrt(gwf_samp**2 + gwb_samp**2)"
   ]
  },
  {
   "cell_type": "code",
   "execution_count": null,
   "id": "29",
   "metadata": {},
   "outputs": [],
   "source": [
    "fig, ax = plt.subplots(figsize=[12, 6])\n",
    "ax.set(xlabel=r'$\\log_{10}(A_\\mathrm{yr})$', ylabel='Probability Density')\n",
    "ax.grid(alpha=0.2)\n",
    "\n",
    "# use `kalepy` do draw the 1D distribution\n",
    "kale.dist1d(np.log10(a3yr), density=True, confidence=True)\n",
    "#comparing the SAM and the full binary population at a single frequency (yr^-1)\n",
    "kale.dist1d(np.log10(gwtot_samp_3yr), density=True, confidence=True)\n",
    "plt.show()"
   ]
  },
  {
   "cell_type": "code",
   "execution_count": null,
   "id": "30",
   "metadata": {},
   "outputs": [],
   "source": []
  },
  {
   "cell_type": "markdown",
   "id": "31",
   "metadata": {},
   "source": [
    "### Calculate the distribution of GWB Amplitudes at 1/(0.3 yr)"
   ]
  },
  {
   "cell_type": "code",
   "execution_count": null,
   "id": "32",
   "metadata": {},
   "outputs": [],
   "source": [
    "fobs_pt3yr = 1.0/(0.3*YR)\n",
    "fobs_pt3yr = fobs_pt3yr * (1.0 + np.array([-0.05, 0.05]))\n",
    "apt3yr = sam.gwb(fobs_pt3yr, realize=500)"
   ]
  },
  {
   "cell_type": "code",
   "execution_count": null,
   "id": "33",
   "metadata": {},
   "outputs": [],
   "source": [
    "fig, ax = plt.subplots(figsize=[8, 4])\n",
    "ax.set(xlabel=r'$\\log_{10}(A_\\mathrm{yr})$', ylabel='Probability Density')\n",
    "ax.grid(alpha=0.2)\n",
    "\n",
    "# use `kalepy` do draw the 1D distribution\n",
    "kale.dist1d(np.log10(apt3yr), density=True, confidence=True)\n",
    "#kale.dist1d(np.log10(ayr_bycomp), density=True, confidence=True)\n",
    "\n",
    "plt.show()"
   ]
  },
  {
   "cell_type": "code",
   "execution_count": null,
   "id": "34",
   "metadata": {},
   "outputs": [],
   "source": [
    "# Sample the SAM population using 'outlier sampling'\n",
    "nsamples=500\n",
    "gwtot_samp_pt3yr = np.zeros(nsamples)\n",
    "for i in range(nsamples):\n",
    "    vals, weights, edges, dens, mass = holo.sam.sample_sam_with_hardening(sam, hard, fobs=fobs_pt3yr, sample_threshold=1e2, poisson_inside=True, poisson_outside=True)\n",
    "    # multiplying by 2 here b/c of inconsistency between observed frequencies and gw frequencies -- need to fix\n",
    "    gff_samp, gwf_samp, gwb_samp = holo.gravwaves._gws_from_samples(vals, weights, fobs_pt3yr*2)\n",
    "    # add foreground and background in quadrature to get total amplitude\n",
    "    gwtot_samp_pt3yr[i] = np.sqrt(gwf_samp**2 + gwb_samp**2)"
   ]
  },
  {
   "cell_type": "code",
   "execution_count": null,
   "id": "35",
   "metadata": {},
   "outputs": [],
   "source": [
    "fig, ax = plt.subplots(figsize=[12, 6])\n",
    "ax.set(xlabel=r'$\\log_{10}(A_\\mathrm{yr})$', ylabel='Probability Density')\n",
    "ax.grid(alpha=0.2)\n",
    "\n",
    "# use `kalepy` do draw the 1D distribution\n",
    "kale.dist1d(np.log10(apt3yr), density=True, confidence=True)\n",
    "#comparing the SAM and the full binary population at a single frequency (yr^-1)\n",
    "kale.dist1d(np.log10(gwtot_samp_pt3yr), density=True, confidence=True)\n",
    "plt.show()"
   ]
  },
  {
   "cell_type": "code",
   "execution_count": null,
   "id": "36",
   "metadata": {},
   "outputs": [],
   "source": []
  },
  {
   "cell_type": "code",
   "execution_count": null,
   "id": "37",
   "metadata": {},
   "outputs": [],
   "source": [
    "fig, ax = plt.subplots(figsize=[12, 6])\n",
    "ax.set(xlabel=r'$\\log_{10}(A_\\mathrm{yr})$', ylabel='Probability Density')\n",
    "ax.grid(alpha=0.2)\n",
    "\n",
    "# use `kalepy` do draw the 1D distribution\n",
    "kale.dist1d(np.log10(apt3yr), density=True, confidence=True, label='pt3yrSAM')\n",
    "kale.dist1d(np.log10(ayr), density=True, confidence=True, label='yrSAM')\n",
    "kale.dist1d(np.log10(a3yr), density=True, confidence=True, label='3yrSAM')\n",
    "\n",
    "#comparing the SAM and the full binary population at a single frequency (yr^-1)\n",
    "kale.dist1d(np.log10(gwtot_samp_pt3yr), density=True, confidence=True, label='pt3yrFP')\n",
    "kale.dist1d(np.log10(gwtot_samp_yr), density=True, confidence=True, label='1yrFP')\n",
    "kale.dist1d(np.log10(gwtot_samp_3yr), density=True, confidence=True, label='3yrFP')\n",
    "plt.legend()\n",
    "plt.show()"
   ]
  },
  {
   "cell_type": "code",
   "execution_count": null,
   "id": "38",
   "metadata": {},
   "outputs": [],
   "source": []
  }
 ],
 "metadata": {
  "interpreter": {
   "hash": "61b4062b24dfb1010f420dad5aa3bd73a4d2af47d0ec44eafec465a35a9d7239"
  },
  "kernelspec": {
   "display_name": "Python 3 (ipykernel)",
   "language": "python",
   "name": "python3"
  },
  "language_info": {
   "codemirror_mode": {
    "name": "ipython",
    "version": 3
   },
   "file_extension": ".py",
   "mimetype": "text/x-python",
   "name": "python",
   "nbconvert_exporter": "python",
   "pygments_lexer": "ipython3",
   "version": "3.10.12"
  },
  "toc": {
   "base_numbering": 1,
   "nav_menu": {},
   "number_sections": true,
   "sideBar": true,
   "skip_h1_title": false,
   "title_cell": "Table of Contents",
   "title_sidebar": "Contents",
   "toc_cell": false,
   "toc_position": {
    "height": "calc(100% - 180px)",
    "left": "10px",
    "top": "150px",
    "width": "165px"
   },
   "toc_section_display": true,
   "toc_window_display": true
  },
  "varInspector": {
   "cols": {
    "lenName": 16,
    "lenType": 16,
    "lenVar": 40
   },
   "kernels_config": {
    "python": {
     "delete_cmd_postfix": "",
     "delete_cmd_prefix": "del ",
     "library": "var_list.py",
     "varRefreshCmd": "print(var_dic_list())"
    },
    "r": {
     "delete_cmd_postfix": ") ",
     "delete_cmd_prefix": "rm(",
     "library": "var_list.r",
     "varRefreshCmd": "cat(var_dic_list()) "
    }
   },
   "types_to_exclude": [
    "module",
    "function",
    "builtin_function_or_method",
    "instance",
    "_Feature"
   ],
   "window_display": false
  }
 },
 "nbformat": 4,
 "nbformat_minor": 5
}
