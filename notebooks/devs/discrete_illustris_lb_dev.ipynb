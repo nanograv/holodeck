{
 "cells": [
  {
   "cell_type": "code",
   "execution_count": 2,
   "metadata": {},
   "outputs": [],
   "source": [
    "# %load ./init.ipy\n",
    "%reload_ext autoreload\n",
    "%autoreload 2\n",
    "from importlib import reload\n",
    "\n",
    "import os\n",
    "import sys\n",
    "import logging\n",
    "import warnings\n",
    "import numpy as np\n",
    "import astropy as ap\n",
    "import scipy as sp\n",
    "import scipy.stats\n",
    "import matplotlib as mpl\n",
    "import matplotlib.pyplot as plt\n",
    "\n",
    "import h5py\n",
    "import tqdm.notebook as tqdm\n",
    "\n",
    "import kalepy as kale\n",
    "import kalepy.utils\n",
    "import kalepy.plot\n",
    "\n",
    "import holodeck as holo\n",
    "import holodeck.sams\n",
    "import holodeck.gravwaves\n",
    "from holodeck import cosmo, utils, plot\n",
    "from holodeck.constants import MSOL, PC, YR, MPC, GYR, SPLC\n",
    "\n",
    "# Silence annoying numpy errors\n",
    "np.seterr(divide='ignore', invalid='ignore', over='ignore')\n",
    "warnings.filterwarnings(\"ignore\", category=UserWarning)\n",
    "\n",
    "# Plotting settings\n",
    "mpl.rc('font', **{'family': 'serif', 'sans-serif': ['Times'], 'size': 15})\n",
    "mpl.rc('lines', solid_capstyle='round')\n",
    "mpl.rc('mathtext', fontset='cm')\n",
    "plt.rcParams.update({'grid.alpha': 0.5})\n",
    "mpl.style.use('default')   # avoid dark backgrounds from dark theme vscode\n",
    "\n",
    "log = holo.log\n",
    "log.setLevel(logging.INFO)"
   ]
  },
  {
   "cell_type": "markdown",
   "metadata": {},
   "source": [
    "# Plotting Methods"
   ]
  },
  {
   "cell_type": "code",
   "execution_count": 3,
   "metadata": {},
   "outputs": [],
   "source": [
    "def plot_bin_pop(pop):\n",
    "    mt, mr = utils.mtmr_from_m1m2(pop.mass)\n",
    "    redz = cosmo.a_to_z(pop.scafa)\n",
    "    data = [mt/MSOL, mr, pop.sepa/PC, 1+redz]\n",
    "    data = [np.log10(dd) for dd in data]\n",
    "    reflect = [None, [None, 0], None, [0, None]]\n",
    "    labels = [r'M/M_\\odot', 'q', r'a/\\mathrm{{pc}}', '1+z']\n",
    "    labels = [r'${{\\log_{{10}}}} \\left({}\\right)$'.format(ll) for ll in labels]\n",
    "\n",
    "    if pop.eccen is not None:\n",
    "        data.append(pop.eccen)\n",
    "        reflect.append([0.0, 1.0])\n",
    "        labels.append('e')\n",
    "\n",
    "    kde = kale.KDE(data, reflect=reflect)\n",
    "    corner = kale.Corner(kde, labels=labels, figsize=[8, 8])\n",
    "    corner.plot_data(kde)\n",
    "    return corner\n",
    "\n",
    "\n",
    "def plot_mbh_scaling_relations(pop, fname=None, color='r'):\n",
    "    units = r\"$[\\log_{10}(M/M_\\odot)]$\"\n",
    "    fig, ax = plt.subplots(figsize=[8, 5])\n",
    "    ax.set(xlabel=f'Stellar Mass {units}', ylabel=f'BH Mass {units}')\n",
    "\n",
    "    #   ====    Plot McConnell+Ma-2013 Data    ====\n",
    "    handles = []\n",
    "    names = []\n",
    "    if fname is not None:\n",
    "        hh = _draw_MM2013_data(ax, fname)\n",
    "        handles.append(hh)\n",
    "        names.append('McConnell+Ma')\n",
    "\n",
    "    #   ====    Plot MBH Merger Data    ====\n",
    "    hh, nn = _draw_pop_masses(ax, pop, color)\n",
    "    handles = handles + hh\n",
    "    names = names + nn\n",
    "    ax.legend(handles, names)\n",
    "\n",
    "    return fig\n",
    "\n",
    "\n",
    "def _draw_MM2013_data(ax):\n",
    "    data = holo.observations.load_mcconnell_ma_2013()\n",
    "    data = {kk: data[kk] if kk == 'name' else np.log10(data[kk]) for kk in data.keys()}\n",
    "    key = 'mbulge'\n",
    "    mass = data['mass']\n",
    "    yy = mass[:, 1]\n",
    "    yerr = np.array([yy - mass[:, 0], mass[:, 2] - yy])\n",
    "    vals = data[key]\n",
    "    if np.ndim(vals) == 1:\n",
    "        xx = vals\n",
    "        xerr = None\n",
    "    elif vals.shape[1] == 2:\n",
    "        xx = vals[:, 0]\n",
    "        xerr = vals[:, 1]\n",
    "    elif vals.shape[1] == 3:\n",
    "        xx = vals[:, 1]\n",
    "        xerr = np.array([xx-vals[:, 0], vals[:, 2]-xx])\n",
    "    else:\n",
    "        raise ValueError()\n",
    "\n",
    "    idx = (xx > 0.0) & (yy > 0.0)\n",
    "    if xerr is not None:\n",
    "        xerr = xerr[:, idx]\n",
    "    ax.errorbar(xx[idx], yy[idx], xerr=xerr, yerr=yerr[:, idx], fmt='none', zorder=10)\n",
    "    handle = ax.scatter(xx[idx], yy[idx], zorder=10)\n",
    "    ax.set(ylabel='MBH Mass', xlabel=key)\n",
    "\n",
    "    return handle\n",
    "\n",
    "\n",
    "def _draw_pop_masses(ax, pop, color='r', nplot=3e3):\n",
    "    xx = pop.mbulge.flatten() / MSOL\n",
    "    yy_list = [pop.mass]\n",
    "    names = ['new']\n",
    "    if hasattr(pop, '_mass'):\n",
    "        yy_list.append(pop._mass)\n",
    "        names.append('old')\n",
    "\n",
    "    colors = [color, '0.5']\n",
    "    handles = []\n",
    "    if xx.size > nplot:\n",
    "        cut = np.random.choice(xx.size, int(nplot), replace=False)\n",
    "        print(\"Plotting {:.1e}/{:.1e} data-points\".format(nplot, xx.size))\n",
    "    else:\n",
    "        cut = slice(None)\n",
    "\n",
    "    for ii, yy in enumerate(yy_list):\n",
    "        yy = yy.flatten() / MSOL\n",
    "        data = np.log10([xx[cut], yy[cut]])\n",
    "        kale.plot.dist2d(\n",
    "            data, ax=ax, color=colors[ii], hist=False, contour=True,\n",
    "            median=True, mask_dense=True,\n",
    "        )\n",
    "        hh, = plt.plot([], [], color=colors[ii])\n",
    "        handles.append(hh)\n",
    "\n",
    "    return handles, names\n",
    "\n",
    "\n",
    "def plot_gwb(gwb, color=None, uniform=False, nreals=5):\n",
    "    \"\"\"Plot a GW background from the given `Grav_Waves` instance.\n",
    "\n",
    "    Plots samples, confidence intervals, power-law, and adds twin-Hz axis (x2).\n",
    "\n",
    "    Parameters\n",
    "    ----------\n",
    "    gwb : `gravwaves.Grav_Waves` (subclass) instance\n",
    "\n",
    "    Returns\n",
    "    -------\n",
    "    fig : `mpl.figure.Figure`\n",
    "        New matplotlib figure instance.\n",
    "\n",
    "    \"\"\"\n",
    "\n",
    "    fig, ax = plot.figax(\n",
    "        scale='log',\n",
    "        xlabel=r'frequency $[\\mathrm{yr}^{-1}]$',\n",
    "        ylabel=r'characteristic strain $[\\mathrm{h}_c]$'\n",
    "    )\n",
    "\n",
    "    if uniform:\n",
    "        color = ax._get_lines.get_next_color()\n",
    "\n",
    "    _draw_gwb_sample(ax, gwb, color=color, num=nreals)\n",
    "    _draw_gwb_conf(ax, gwb, color=color)\n",
    "    plot._draw_plaw(ax, gwb.freqs*YR, f0=1, color='0.5', lw=2.0, ls='--')\n",
    "\n",
    "    plot._twin_hz(ax, nano=True, fs=12)\n",
    "    return fig\n",
    "\n",
    "\n",
    "def _draw_gwb_sample(ax, gwb, num=10, back=True, fore=True, color=None):\n",
    "    back_flag = back\n",
    "    fore_flag = fore\n",
    "    back = gwb.back\n",
    "    fore = gwb.fore\n",
    "\n",
    "    freqs = gwb.freqs * YR\n",
    "    pl = dict(alpha=0.5, color=color, lw=0.8)\n",
    "    plsel = dict(alpha=0.85, color=color, lw=1.6)\n",
    "    sc = dict(alpha=0.25, s=20, fc=color, lw=0.0, ec='none')\n",
    "    scsel = dict(alpha=0.50, s=40, ec='k', fc=color, lw=1.0)\n",
    "\n",
    "    cut = np.random.choice(back.shape[1], num, replace=False)\n",
    "    sel = cut[0]\n",
    "    cut = cut[1:]\n",
    "\n",
    "    color_gen = None\n",
    "    color_sel = None\n",
    "    if back_flag:\n",
    "        hands_gen = ax.plot(freqs, back[:, cut], **pl)\n",
    "        hands_sel, = ax.plot(freqs, back[:, sel], **plsel)\n",
    "        color_gen = [hh.get_color() for hh in hands_gen]\n",
    "        color_sel = hands_sel.get_color()\n",
    "\n",
    "    if color is None:\n",
    "        sc['fc'] = color_gen\n",
    "        scsel['fc'] = color_sel\n",
    "\n",
    "    if fore_flag:\n",
    "        yy = fore[:, cut]\n",
    "        xx = freqs[:, np.newaxis] * np.ones_like(yy)\n",
    "        dx = np.diff(freqs)\n",
    "        dx = np.concatenate([[dx[0]], dx])[:, np.newaxis]\n",
    "\n",
    "        dx *= 0.2\n",
    "        xx += np.random.normal(0, dx, np.shape(xx))\n",
    "        # xx += np.random.uniform(-dx, dx, np.shape(xx))\n",
    "        xx = np.clip(xx, freqs[0]*0.75, None)\n",
    "        ax.scatter(xx, yy, **sc)\n",
    "\n",
    "        yy = fore[:, sel]\n",
    "        xx = freqs\n",
    "        ax.scatter(xx, yy, **scsel)\n",
    "\n",
    "    return\n",
    "\n",
    "\n",
    "def _draw_gwb_conf(ax, gwb, **kwargs):\n",
    "    conf = [0.25, 0.50, 0.75]\n",
    "    freqs = gwb.freqs * YR\n",
    "    back = gwb.back\n",
    "    kwargs.setdefault('alpha', 0.5)\n",
    "    kwargs.setdefault('lw', 0.5)\n",
    "    conf = np.percentile(back, 100*np.array(conf), axis=-1)\n",
    "    ax.fill_between(freqs, conf[0], conf[-1], **kwargs)\n",
    "    kwargs['alpha'] = 1.0 - 0.5*(1.0 - kwargs['alpha'])\n",
    "    ax.plot(freqs, conf[1], **kwargs)\n",
    "    return\n",
    "\n",
    "\n",
    "def plot_evo(evo, freqs=None, sepa=None, ax=None):\n",
    "    if (freqs is None) and (sepa is None):\n",
    "        err = \"Either `freqs` or `sepa` must be provided!\"\n",
    "        log.exception(err)\n",
    "        raise ValueError(err)\n",
    "\n",
    "    if freqs is not None:\n",
    "        data = evo.at('fobs', freqs)\n",
    "        xx = freqs * YR\n",
    "        xlabel = 'GW Frequency [1/yr]'\n",
    "    else:\n",
    "        data = evo.at('sepa', sepa)\n",
    "        xx = sepa / PC\n",
    "        xlabel = 'Binary Separation [pc]'\n",
    "\n",
    "    if ax is None:\n",
    "        fig, ax = plot.figax(xlabel=xlabel)\n",
    "    else:\n",
    "        fig = ax.get_figure()\n",
    "\n",
    "    def _draw_vals_conf(ax, xx, vals, color=None, label=None):\n",
    "        if color is None:\n",
    "            color = ax._get_lines.get_next_color()\n",
    "        if label is not None:\n",
    "            ax.set_ylabel(label, color=color)\n",
    "            ax.tick_params(axis='y', which='both', colors=color)\n",
    "        # vals = np.percentile(vals, [25, 50, 75], axis=0) / units\n",
    "        vals = utils.quantiles(vals, [0.25, 0.50, 0.75], axis=0).T\n",
    "        h1 = ax.fill_between(xx, vals[0], vals[-1], alpha=0.25, color=color)\n",
    "        h2, = ax.plot(xx, vals[1], alpha=0.75, lw=2.0, color=color)\n",
    "        return (h1, h2)\n",
    "\n",
    "    # handles = []\n",
    "    # labels = []\n",
    "\n",
    "    name = 'Hardening Time [yr]'\n",
    "    vals = np.fabs(data['sepa'] / data['dadt']) / YR\n",
    "    _draw_vals_conf(ax, xx, vals, label=name)\n",
    "    # handles.append(hh)\n",
    "    # labels.append(name)\n",
    "\n",
    "    # name = 'eccen'\n",
    "    # tw = ax.twinx()\n",
    "    # hh, nn = _draw_vals_conf(tw, freqs*YR, name, 'green')\n",
    "    # if hh is not None:\n",
    "    #     handles.append(hh)\n",
    "    #     labels.append(nn)\n",
    "\n",
    "    # ax.legend(handles, labels)\n",
    "    return fig"
   ]
  },
  {
   "cell_type": "markdown",
   "metadata": {},
   "source": [
    "# Quick-Start"
   ]
  },
  {
   "cell_type": "markdown",
   "metadata": {},
   "source": [
    "Create an Illustris-Based Population, and a simple binary-evolution model"
   ]
  },
  {
   "cell_type": "code",
   "execution_count": 4,
   "metadata": {},
   "outputs": [
    {
     "ename": "AttributeError",
     "evalue": "module 'holodeck' has no attribute 'population'",
     "output_type": "error",
     "traceback": [
      "\u001b[0;31m---------------------------------------------------------------------------\u001b[0m",
      "\u001b[0;31mAttributeError\u001b[0m                            Traceback (most recent call last)",
      "Cell \u001b[0;32mIn[4], line 3\u001b[0m\n\u001b[1;32m      1\u001b[0m \u001b[38;5;66;03m# ---- Create initial population\u001b[39;00m\n\u001b[0;32m----> 3\u001b[0m pop \u001b[38;5;241m=\u001b[39m \u001b[43mholo\u001b[49m\u001b[38;5;241;43m.\u001b[39;49m\u001b[43mpopulation\u001b[49m\u001b[38;5;241m.\u001b[39mPop_Illustris()\n\u001b[1;32m      5\u001b[0m \u001b[38;5;66;03m# ---- Evolve binary population\u001b[39;00m\n\u001b[1;32m      6\u001b[0m \n\u001b[1;32m      7\u001b[0m \u001b[38;5;66;03m# create a fixed-total-time hardening mechanism\u001b[39;00m\n\u001b[1;32m      8\u001b[0m fixed \u001b[38;5;241m=\u001b[39m holo\u001b[38;5;241m.\u001b[39mhardening\u001b[38;5;241m.\u001b[39mFixed_Time_2PL\u001b[38;5;241m.\u001b[39mfrom_pop(pop, \u001b[38;5;241m2.0\u001b[39m \u001b[38;5;241m*\u001b[39m GYR)\n",
      "\u001b[0;31mAttributeError\u001b[0m: module 'holodeck' has no attribute 'population'"
     ]
    }
   ],
   "source": [
    "# ---- Create initial population\n",
    "\n",
    "pop = holo.population.Pop_Illustris()\n",
    "\n",
    "# ---- Evolve binary population\n",
    "\n",
    "# create a fixed-total-time hardening mechanism\n",
    "fixed = holo.hardening.Fixed_Time_2PL.from_pop(pop, 2.0 * GYR)\n",
    "# Create an evolution instance using population and hardening mechanism\n",
    "evo = holo.evolution.Evolution(pop, fixed)\n",
    "# evolve binary population\n",
    "evo.evolve()"
   ]
  },
  {
   "cell_type": "markdown",
   "metadata": {},
   "source": [
    "Calculate GWB"
   ]
  },
  {
   "cell_type": "code",
   "execution_count": null,
   "metadata": {
    "tags": []
   },
   "outputs": [],
   "source": [
    "#fmin = 1.0 / (20.0*YR)\n",
    "#fmax = 1.0 / (0.3*YR) * 0.5\n",
    "#df = fmin\n",
    "#linfreqs = np.arange(fmin, fmax + df/10.0, df)\n",
    "#print(f\"assigning {linfreqs.size} linfreqs: {linfreqs}\")\n",
    "#print(f\"min, max, binsize: {fmin}, {fmax}, {df}\")\n",
    "#print(f\"Log frequencies: {np.log10(linfreqs)}\")\n",
    "#print(f\"log spacing: {np.diff(np.log10(linfreqs))}\")\n",
    "\n",
    "#print(fmax/fmin)"
   ]
  },
  {
   "cell_type": "code",
   "execution_count": null,
   "metadata": {},
   "outputs": [],
   "source": [
    "# construct sampling frequencies\n",
    "#freqs = holo.utils.nyquist_freqs(dur=20.0*YR, cad=0.3*YR)\n",
    "\n",
    "## the code wants evenly log-spaced frequencies, doing this manually for the moment\n",
    "#fmin = 1.0 / (20.0*YR)\n",
    "#fmax = 1.0 / (0.3*YR) * 0.5\n",
    "#freqs = np.logspace(np.log10(fmin), np.log10(fmax), int(fmax/fmin))\n",
    "#lgdf = np.diff(np.log10(freqs))[0] # log bin width                                                                                             \n",
    "#lg_freqs_edges = np.log10(freqs) - lgdf/2.0 # shift to edges                                                                                   \n",
    "#lg_freqs_edges = np.concatenate([lg_freqs_edges, [lg_freqs_edges[-1] + lgdf]])\n",
    "#freqs_edges = 10.0**lg_freqs_edges\n",
    "\n",
    "\n",
    "#print(f\"Created {freqs.size} evenly log-spaced sampling frequencies in range {fmin} - {fmax}\")\n",
    "#print(f\"log min, max: {np.log10(fmin)}, {np.log10(fmax)}\")\n",
    "#print(f\"Frequencies: {freqs}\")\n",
    "#print(f\"Log frequencies: {np.log10(freqs)}\")\n",
    "#print(f\"log spacing: {np.diff(np.log10(freqs))}\")\n",
    "#print(f\"lin spacing: {np.diff(freqs)}\")\n",
    "#print(f\"lg_freqs_edges: {lg_freqs_edges}\")\n",
    "#print(freqs.size, lg_freqs_edges.size)\n",
    "\n",
    "# calculate discretized GW signals\n",
    "#gwb = holo.gravwaves.GW_Discrete(evo, freqs, nreals=1000)\n",
    "#gwb.emit()"
   ]
  },
  {
   "cell_type": "code",
   "execution_count": null,
   "metadata": {
    "tags": []
   },
   "outputs": [],
   "source": [
    "# construct sampling frequencies\n",
    "freqs = holo.utils.nyquist_freqs(dur=20.0*YR, cad=0.3*YR, lgspace=True)\n"
   ]
  },
  {
   "cell_type": "code",
   "execution_count": null,
   "metadata": {
    "tags": []
   },
   "outputs": [],
   "source": [
    "print(freqs)\n",
    "print(np.log10(freqs))"
   ]
  },
  {
   "cell_type": "code",
   "execution_count": null,
   "metadata": {
    "tags": []
   },
   "outputs": [],
   "source": [
    "# calculate discretized GW signals\n",
    "gwb = holo.gravwaves.GW_Discrete(evo, freqs, nreals=1000)\n",
    "gwb.emit()"
   ]
  },
  {
   "cell_type": "markdown",
   "metadata": {},
   "source": [
    "Plot GWB"
   ]
  },
  {
   "cell_type": "code",
   "execution_count": null,
   "metadata": {},
   "outputs": [],
   "source": [
    "plot.plot_gwb(freqs, gwb.back)\n",
    "plt.show()"
   ]
  },
  {
   "cell_type": "markdown",
   "metadata": {},
   "source": [
    "# Population Modifiers (`_Population_Modifier`)"
   ]
  },
  {
   "cell_type": "markdown",
   "metadata": {},
   "source": [
    "## Resample (`PM_Resample`)"
   ]
  },
  {
   "cell_type": "markdown",
   "metadata": {},
   "source": [
    "Apply a modifier to resample binary population by some factor, increasing the number of sample points"
   ]
  },
  {
   "cell_type": "code",
   "execution_count": null,
   "metadata": {},
   "outputs": [],
   "source": [
    "mod_resamp = holo.population.PM_Resample(resample=0.5)\n",
    "old_size = pop.size\n",
    "pop.modify(mod_resamp)\n",
    "print(f\"Population size increased from {old_size} to {pop.size} elements\")"
   ]
  },
  {
   "cell_type": "markdown",
   "metadata": {},
   "source": [
    "Plot resampled population, now with many more points"
   ]
  },
  {
   "cell_type": "code",
   "execution_count": null,
   "metadata": {},
   "outputs": [],
   "source": [
    "plot_bin_pop(pop)\n",
    "plt.show()"
   ]
  },
  {
   "cell_type": "markdown",
   "metadata": {},
   "source": [
    "## Mass Reset (`PM_Mass_Reset`)"
   ]
  },
  {
   "cell_type": "markdown",
   "metadata": {},
   "source": [
    "Apply another `Modifier` to change the MBH masses to match a particular M-Mbulge relation"
   ]
  },
  {
   "cell_type": "code",
   "execution_count": null,
   "metadata": {},
   "outputs": [],
   "source": [
    "# Create the modifier using M-Mbulge relation\n",
    "mmbulge = holo.relations.MMBulge_KH2013()\n",
    "mod_KH2013 = holo.population.PM_Mass_Reset(mmbulge, scatter=True)\n",
    "\n",
    "# Choose percentiles for reporting statistical properties\n",
    "percs = 100*sp.stats.norm.cdf([-1, 0, 1])\n",
    "percs = [0,] + percs.tolist() + [100,]\n",
    "\n",
    "# Format nicely\n",
    "str_array = lambda xx: \", \".join([\"{:.2e}\".format(yy) for yy in xx])\n",
    "str_masses = lambda xx: str_array(np.percentile(xx/MSOL, percs))\n",
    "\n",
    "# Modify population\n",
    "print(f\"                {0:7.0f}% {16:7.0f}% {50:7.0f}% {84:7.0f}% {100:7.0f}%\")\n",
    "print(\"Masses before: \", str_masses(pop.mass))\n",
    "pop.modify(mod_KH2013)\n",
    "print(\"Masses after : \", str_masses(pop.mass))"
   ]
  },
  {
   "cell_type": "markdown",
   "metadata": {},
   "source": [
    "Plot MBH-Galaxy scaling relationship, showing old and new masses (i.e. before and after modification)"
   ]
  },
  {
   "cell_type": "code",
   "execution_count": null,
   "metadata": {},
   "outputs": [],
   "source": [
    "plot_mbh_scaling_relations(pop)\n",
    "plt.show()"
   ]
  },
  {
   "cell_type": "markdown",
   "metadata": {},
   "source": [
    "## Eccentricity (`PM_Eccentricity`)"
   ]
  },
  {
   "cell_type": "markdown",
   "metadata": {},
   "source": [
    "Demonstrate the eccentricity function"
   ]
  },
  {
   "cell_type": "code",
   "execution_count": null,
   "metadata": {},
   "outputs": [],
   "source": [
    "DEF_VALS = [1.0, 0.2]\n",
    "NUM = 1e3\n",
    "\n",
    "edges = np.linspace(0.0, 1.0, 61)\n",
    "kw = dict(hist=False, density=True, edges=edges)\n",
    "\n",
    "fig, axes = plt.subplots(figsize=[10, 6], nrows=2)\n",
    "for ax in axes:\n",
    "    ax.grid(alpha=0.15)\n",
    "    \n",
    "ax = axes[0]\n",
    "handles = []\n",
    "labels = []\n",
    "for cent in [0.1, 0.2, 0.5, 1.0, 2.0, 5.0, 10.0]:\n",
    "    vals = [vv for vv in DEF_VALS]\n",
    "    vals[0] = cent\n",
    "    ecc = holo.population.PM_Eccentricity(vals)\n",
    "    xx = ecc._random_eccentricities(NUM)\n",
    "    hh = kale.dist1d(xx, ax=ax, **kw)\n",
    "    handles.append(hh)\n",
    "    labels.append(vals)\n",
    "    \n",
    "ax.legend(handles, labels, fontsize=8)\n",
    "\n",
    "\n",
    "ax = axes[1]\n",
    "kw = dict(hist=True, density=False, edges=edges)\n",
    "handles = []\n",
    "labels = []\n",
    "for wid in [0.01, 0.05, 0.1, 0.5, 2]:\n",
    "    vals = [vv for vv in DEF_VALS]\n",
    "    vals[1] = wid\n",
    "    ecc = holo.population.PM_Eccentricity(vals)\n",
    "    xx = ecc._random_eccentricities(NUM)\n",
    "    hh = kale.dist1d(xx, ax=ax, **kw)\n",
    "    handles.append(hh)\n",
    "    labels.append(vals)\n",
    "    \n",
    "ax.legend(handles, labels, fontsize=8)\n",
    "\n",
    "plt.show()"
   ]
  },
  {
   "cell_type": "markdown",
   "metadata": {},
   "source": [
    "Add eccentricity to binary population, plot all initial binary parameters"
   ]
  },
  {
   "cell_type": "code",
   "execution_count": null,
   "metadata": {},
   "outputs": [],
   "source": [
    "ecc = holo.population.PM_Eccentricity()\n",
    "pop.modify(ecc)\n",
    "plot_bin_pop(pop)\n",
    "plt.show()"
   ]
  },
  {
   "cell_type": "markdown",
   "metadata": {},
   "source": [
    "# Binary Evolution Models"
   ]
  },
  {
   "cell_type": "markdown",
   "metadata": {},
   "source": [
    "## Phenomenological 'Fixed Time' Evolution Model"
   ]
  },
  {
   "cell_type": "markdown",
   "metadata": {},
   "source": [
    "The `holodeck.evolution.Fixed_Time` class uses a simple parametrized hardening model that forces all binaries to coalesce in a given total amount of time.  It uses a double power-law in hardening timescale [i.e. $\\tau_a \\equiv a / (da/dt) = dt/d\\ln a$], with two power-law indices, and a transition binary-separation, as the parameters.  Based on those three parameters, it constructs a complete binary evolution history for each binary (including GW emission), and chooses a normalization such that the total evolution time matches the desired value."
   ]
  },
  {
   "cell_type": "markdown",
   "metadata": {},
   "source": [
    "Construct an `Evolution` instance using a `Fixed_Time` model for the given lifetime."
   ]
  },
  {
   "cell_type": "code",
   "execution_count": null,
   "metadata": {},
   "outputs": [],
   "source": [
    "# Set timescale for all binaries to merge over\n",
    "fix_time = 2.0 * GYR\n",
    "# ---- Construct hardening model with this desired merging time\n",
    "# When this instance is created, it calculates the appropriate hardening normalization for each\n",
    "# binary to reach the desired coalescing time\n",
    "fixed = holo.hardening.Fixed_Time_2PL.from_pop(pop, fix_time)\n",
    "# Construct evolution instance using fixed time hardening\n",
    "evo = holo.evolution.Evolution(pop, fixed)\n",
    "# Evolve population\n",
    "evo.evolve()"
   ]
  },
  {
   "cell_type": "markdown",
   "metadata": {},
   "source": [
    "Compare resulting lifetimes to the targeted lifetime.  The match won't be perfect, but it should be within a few percent of the desired timescale (`fix_time`)."
   ]
  },
  {
   "cell_type": "code",
   "execution_count": null,
   "metadata": {},
   "outputs": [],
   "source": [
    "# Calculate the total lifetime of each binary\n",
    "time = evo.tlook\n",
    "dt = time[:, 0] - time[:, -1]\n",
    "\n",
    "# Create figure\n",
    "fig, ax = plot.figax(scale='lin', xlabel='Time: actual/specified', ylabel='density')\n",
    "# use kalepy to plot distribution\n",
    "kale.dist1d(dt/fix_time, density=True)\n",
    "\n",
    "plt.show()"
   ]
  },
  {
   "cell_type": "markdown",
   "metadata": {},
   "source": [
    "Plot the hardening timescale ($\\tau_a$) vs. binary separation ($a$)."
   ]
  },
  {
   "cell_type": "code",
   "execution_count": null,
   "metadata": {},
   "outputs": [],
   "source": [
    "# Create spacing in separation (xaxis) to plot against\n",
    "sepa = np.logspace(-4, 4, 100) * PC\n",
    "# Plot hardening rates\n",
    "plot_evo(evo, sepa=sepa)\n",
    "\n",
    "plt.show()"
   ]
  },
  {
   "cell_type": "markdown",
   "metadata": {},
   "source": [
    "Plot the hardening timescale ($\\tau_f$) vs. binary frequency ($f$)."
   ]
  },
  {
   "cell_type": "code",
   "execution_count": null,
   "metadata": {},
   "outputs": [],
   "source": [
    "# Create frequency spacing (xaxis) to plot against\n",
    "freqs = np.logspace(-3, 1, 30) / YR\n",
    "# plot evolution\n",
    "plot_evo(evo, freqs=freqs)\n",
    "plt.show()"
   ]
  },
  {
   "cell_type": "markdown",
   "metadata": {},
   "source": [
    "Calculate GWB from the `evolution` instance, which takes into account the fixed-time hardening model"
   ]
  },
  {
   "cell_type": "code",
   "execution_count": null,
   "metadata": {},
   "outputs": [],
   "source": [
    "gwb = holo.gravwaves.GW_Discrete(evo, freqs, nreals=5)\n",
    "gwb.emit()"
   ]
  },
  {
   "cell_type": "markdown",
   "metadata": {},
   "source": [
    "Plot GWB."
   ]
  },
  {
   "cell_type": "code",
   "execution_count": null,
   "metadata": {},
   "outputs": [],
   "source": [
    "plot_gwb(gwb)\n",
    "plt.show()"
   ]
  },
  {
   "cell_type": "code",
   "execution_count": null,
   "metadata": {},
   "outputs": [],
   "source": []
  }
 ],
 "metadata": {
  "kernelspec": {
   "display_name": "Python 3",
   "language": "python",
   "name": "python3"
  },
  "language_info": {
   "codemirror_mode": {
    "name": "ipython",
    "version": 3
   },
   "file_extension": ".py",
   "mimetype": "text/x-python",
   "name": "python",
   "nbconvert_exporter": "python",
   "pygments_lexer": "ipython3",
   "version": "3.10.15"
  },
  "toc": {
   "base_numbering": 1,
   "nav_menu": {},
   "number_sections": true,
   "sideBar": true,
   "skip_h1_title": false,
   "title_cell": "Table of Contents",
   "title_sidebar": "Contents",
   "toc_cell": false,
   "toc_position": {},
   "toc_section_display": true,
   "toc_window_display": true
  },
  "varInspector": {
   "cols": {
    "lenName": 16,
    "lenType": 16,
    "lenVar": 40
   },
   "kernels_config": {
    "python": {
     "delete_cmd_postfix": "",
     "delete_cmd_prefix": "del ",
     "library": "var_list.py",
     "varRefreshCmd": "print(var_dic_list())"
    },
    "r": {
     "delete_cmd_postfix": ") ",
     "delete_cmd_prefix": "rm(",
     "library": "var_list.r",
     "varRefreshCmd": "cat(var_dic_list()) "
    }
   },
   "types_to_exclude": [
    "module",
    "function",
    "builtin_function_or_method",
    "instance",
    "_Feature"
   ],
   "window_display": false
  }
 },
 "nbformat": 4,
 "nbformat_minor": 4
}
