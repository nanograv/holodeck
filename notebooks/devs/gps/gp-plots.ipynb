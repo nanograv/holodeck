{
 "cells": [
  {
   "cell_type": "markdown",
   "id": "90a15d9e-e816-4c92-9b43-30481dcdff1a",
   "metadata": {},
   "source": [
    "# Overview\n",
    "This notebook will walk you through how to use trained GPs. \n"
   ]
  },
  {
   "cell_type": "code",
   "execution_count": null,
   "id": "9b5d5305-37fe-4bc7-941a-3d7f7a8f9fce",
   "metadata": {},
   "outputs": [],
   "source": [
    "import pickle\n",
    "from pathlib import Path\n",
    "from pprint import pp\n",
    "\n",
    "import gp_utils as gu\n",
    "import h5py\n",
    "import holodeck as holo\n",
    "import matplotlib.pyplot as plt\n",
    "import plotting_utils as pu\n",
    "import sam_utils as su\n",
    "from gp_utils import GaussProc\n",
    "\n",
    "%load_ext autoreload\n",
    "%autoreload 2"
   ]
  },
  {
   "cell_type": "markdown",
   "id": "93ee12c5-4049-4024-8b1f-d6d3d3feee42",
   "metadata": {},
   "source": [
    "### First, we need to read in the library"
   ]
  },
  {
   "cell_type": "code",
   "execution_count": null,
   "id": "cecf7aaa-467e-4e6a-93a4-278d8cc14bad",
   "metadata": {},
   "outputs": [],
   "source": [
    "spectra_file = Path(\n",
    "    \"./spec_libraries/hard04b_n1000_g100_s40_r50_f40/sam-lib_hard04b_2023-01-23_01_n1000_g100_s40_r50_f40.hdf5\"\n",
    ")\n",
    "\n",
    "\n",
    "spectra = h5py.File(spectra_file, \"r\")"
   ]
  },
  {
   "cell_type": "markdown",
   "id": "9e1f1c0b-5aec-4e6a-ac4a-eb6583c938b4",
   "metadata": {},
   "source": [
    "### Loading the trained GPs\n",
    "We'll load in the .PKL of trained GPs. Note that the `gaussproc` class was renamed to `GaussProc` to follow camel case standards for class names.\n",
    "\n",
    "The GPs should be named programmatically based on the library's name, so we'll use that."
   ]
  },
  {
   "cell_type": "code",
   "execution_count": null,
   "id": "24663e32-91e1-42ec-831f-3e089f80a85a",
   "metadata": {},
   "outputs": [],
   "source": [
    "gaussproc = GaussProc  # For backwards compatibility before change to camel-case\n",
    "\n",
    "gp_file = \"trained_gp_\" + spectra_file.parent.name + \".pkl\"\n",
    "with open(spectra_file.parent / gp_file, \"rb\") as f:\n",
    "    gp_george = pickle.load(f)"
   ]
  },
  {
   "cell_type": "markdown",
   "id": "16eecdda-6192-4236-9d24-35932149e551",
   "metadata": {},
   "source": [
    "### Setting up GP predictions\n",
    "Here we prepare the GPs for predictions.\n",
    "It's possible that the older models have byte strings instead of strings as their dictionary keys. If so, copy the below code and run it immediately after this cell.\n",
    "```python\n",
    "for gp in gp_george:\n",
    "    gp.par_dict = { key.decode('ascii'): gp.par_dict.get(key) for key in gp.par_dict.keys() }\n",
    "```"
   ]
  },
  {
   "cell_type": "code",
   "execution_count": null,
   "id": "ca6f9e36-a7d5-4293-81fb-8fff71503eb4",
   "metadata": {},
   "outputs": [],
   "source": [
    "gp = gu.set_up_predictions(spectra, gp_george)"
   ]
  },
  {
   "cell_type": "markdown",
   "id": "46f3ba5d-20c4-4e0d-91c6-49bb98fff05b",
   "metadata": {},
   "source": [
    "### Choosing what to hold constant\n",
    "In the following cell, a `mean_pars` dictionary is created. This contains the mean value of the parameter over its allowed range. This values in this dictionary tell the plotting routines what constant values to use. Feel free to construct your own with different values. Each `gp_george` has a `gp_george.par_dict` that contains each parameter and its allowed range. \n",
    "\n",
    "Another example constant dictionary you could create is one of the minimum values\n",
    "```python\n",
    "min_pars = {key:gp_george[0].par_dict[key]['min'] for key in gp_george[0].par_dict.keys()}\n",
    "```"
   ]
  },
  {
   "cell_type": "code",
   "execution_count": null,
   "id": "71bae266-e4d3-4e05-84e2-574643dfadc7",
   "metadata": {},
   "outputs": [],
   "source": [
    "mean_pars = gu.mean_par_dict(gp_george)\n",
    "\n",
    "pp(mean_pars)"
   ]
  },
  {
   "cell_type": "code",
   "execution_count": null,
   "id": "9f7b0b4c-816c-4359-a480-3147544f3153",
   "metadata": {},
   "outputs": [],
   "source": [
    "pp(gp_george[0].par_dict)"
   ]
  },
  {
   "cell_type": "markdown",
   "id": "b5c6652d-4d0f-4568-ac98-2b6f28216b7d",
   "metadata": {},
   "source": [
    "### Plotting individual parameters\n",
    "The following cell will plot GWBs while varying the parameter of interest with other parameters held constant. You may choose whether to calculate smoothed-mean GWBs from a SAM to overlay. The avaiable SAM configurations are in `sam_utils.py`\n",
    "\n"
   ]
  },
  {
   "cell_type": "code",
   "execution_count": null,
   "id": "0b337775-a4cc-408b-8173-160ebfcf5e45",
   "metadata": {},
   "outputs": [],
   "source": [
    "sam_model = su.Hard04()"
   ]
  },
  {
   "cell_type": "code",
   "execution_count": null,
   "id": "919fb121-e63e-4fe0-b220-cedfc5c0c877",
   "metadata": {},
   "outputs": [],
   "source": [
    "sam_model.param_names"
   ]
  },
  {
   "cell_type": "code",
   "execution_count": null,
   "id": "05993866-5f18-43c4-8d27-33acff651c30",
   "metadata": {
    "tags": []
   },
   "outputs": [],
   "source": [
    "pu.plot_individual_parameter(\n",
    "    gp_george,\n",
    "    gp,\n",
    "    mean_pars,\n",
    "    \"hard_rchar\",\n",
    "    spectra,\n",
    "    find_sam_mean=True,\n",
    "    model=sam_model.sam_for_params,\n",
    "    plot_dir=\"plots\",\n",
    "    nreal=10,\n",
    "    num_points=5\n",
    ")"
   ]
  },
  {
   "cell_type": "markdown",
   "id": "8c97fd8f-eb9d-4b52-b76b-9862a6e12c89",
   "metadata": {},
   "source": [
    "### Getting back numerical values\n",
    "`plotting_utils.plot_individual_parameter()` can optionally return numerical results"
   ]
  },
  {
   "cell_type": "code",
   "execution_count": null,
   "id": "2a6147d5-fd37-4752-8ffc-0bf4001c150b",
   "metadata": {},
   "outputs": [],
   "source": [
    "?pu.plot_individual_parameter"
   ]
  },
  {
   "cell_type": "markdown",
   "id": "2acf008e-a2cd-4100-8a3b-ab7ee395df01",
   "metadata": {},
   "source": [
    "### Plotting all parameters\n",
    "The following cell will plot GWBs for each paramter, shading the regions in between the extrema. Once again, the values held constant are specified by `mean_pars`, but you can supply your own."
   ]
  },
  {
   "cell_type": "code",
   "execution_count": null,
   "id": "e971d0cb-6a3f-4f64-a98b-5b62838b5f48",
   "metadata": {},
   "outputs": [],
   "source": [
    "pu.plot_parameter_variances(\n",
    "    gp_george, gp, mean_pars, spectra, alpha=0.65, plot_dir=\"plots\"\n",
    ")"
   ]
  },
  {
   "cell_type": "markdown",
   "id": "1788980c-0193-42d0-8996-b38604dadecc",
   "metadata": {},
   "source": [
    "### Plotting prediction over the data from the library\n",
    "In the following cell, you can plot the GP's prediction on top of all of the realizations for a given parameter combination from the training data. If you reserved a training set, this would be a good place to choose an index that lies within the training set."
   ]
  },
  {
   "cell_type": "code",
   "execution_count": null,
   "id": "80c2f60f-a7f9-4ded-b012-0bd54d6cc687",
   "metadata": {},
   "outputs": [],
   "source": [
    "index = 300\n",
    "pu.plot_over_realizations(index, spectra, gp_george, gp)"
   ]
  },
  {
   "cell_type": "markdown",
   "id": "a0558eae-0391-450f-9223-bdee1391dc0c",
   "metadata": {},
   "source": [
    "### Drawing from the emcee chain\n",
    "Below, you'll see an example of drawing $h_\\rm{c}(f)$ samples from the emcee chain. "
   ]
  },
  {
   "cell_type": "code",
   "execution_count": null,
   "id": "0fd6347b-2e46-4652-8c9f-97e2b7ff25ee",
   "metadata": {},
   "outputs": [],
   "source": [
    "# Parameters from above plot\n",
    "use_pars = [-4.95E-01, -6.01E-01, 2.13E+00, 1.57E+00, -2.03E+00, 8.48E+00]\n",
    "\n",
    "# To use mean_pars, see below\n",
    "#hc = gu.sample_hc_from_gp(gp_george, gp, list(mean_pars.values()), 100)\n",
    "\n",
    "\n",
    "# I'm using the parameters from above because the spectra for the mean parameters are rather simple\n",
    "hc = gu.sample_hc_from_gp(gp_george, gp, use_pars, 100)"
   ]
  },
  {
   "cell_type": "code",
   "execution_count": null,
   "id": "da37fa7b-f2d1-48a9-b41d-6a5d5debf2a7",
   "metadata": {},
   "outputs": [],
   "source": [
    "?gu.sample_hc_from_gp"
   ]
  },
  {
   "cell_type": "code",
   "execution_count": null,
   "id": "b5d79a42-4741-4ec2-90c1-84547a9a7110",
   "metadata": {},
   "outputs": [],
   "source": [
    "freqs = spectra[\"fobs\"][: hc.shape[1]]\n",
    "for i in range(hc.shape[0]):\n",
    "    plt.loglog(freqs, hc[i, :], color=\"#4682b4\", alpha=0.3)\n",
    "\n",
    "plt.xlabel(\"Observed GW Frequency [Hz]\")\n",
    "plt.ylabel(r\"$h_{c} (f)$\")"
   ]
  }
 ],
 "metadata": {
  "kernelspec": {
   "display_name": "Python [conda env:holodeck]",
   "language": "python",
   "name": "conda-env-holodeck-py"
  },
  "language_info": {
   "codemirror_mode": {
    "name": "ipython",
    "version": 3
   },
   "file_extension": ".py",
   "mimetype": "text/x-python",
   "name": "python",
   "nbconvert_exporter": "python",
   "pygments_lexer": "ipython3",
   "version": "3.10.6"
  }
 },
 "nbformat": 4,
 "nbformat_minor": 5
}
