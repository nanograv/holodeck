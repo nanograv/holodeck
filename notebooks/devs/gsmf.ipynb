{
 "cells": [
  {
   "cell_type": "code",
   "execution_count": null,
   "id": "0",
   "metadata": {},
   "outputs": [],
   "source": [
    "import numpy as np\n",
    "import matplotlib.pyplot as plt\n",
    "import illustris_python as il\n"
   ]
  },
  {
   "cell_type": "code",
   "execution_count": null,
   "id": "1",
   "metadata": {
    "tags": []
   },
   "outputs": [],
   "source": [
    "def calc_from_snap(basePath,snapNum):\n",
    "    subs = il.groupcat.loadSubhalos(basePath,snapNum,fields=['SubhaloLenType','SubhaloMassType',\n",
    "                                                             'SubhaloMassInHalfRadType','SubhaloMassInRadType'])\n",
    "    mstar = subs['SubhaloMassType'][:,4]*1.0e10/0.704\n",
    "    Ngas = subs['SubhaloLenType'][:,0]\n",
    "    Ndm = subs['SubhaloLenType'][:,1]\n",
    "    Nstar = subs['SubhaloLenType'][:,4]\n",
    "    Nbh = subs['SubhaloLenType'][:,5]\n",
    "    \n",
    "    mstar = mstar[(Ngas>100)&(Ndm>100)&(Nstar>100)&(Nbh>0)]\n",
    "    lgmstar = np.log10(mstar)\n",
    "    print(lgmstar.min(),lgmstar.max())\n",
    "    mstar_hist, bin_edges = np.histogram(lgmstar, bins=20)\n",
    "    binsize = bin_edges[1:] - bin_edges[:-1]\n",
    "    box_vol_mpc = 1357213.6324803103 # TNG100\n",
    "    gsmf = mstar_hist / binsize / box_vol_mpc\n",
    "    print(gsmf)\n",
    "    print(bin_edges)\n",
    "    return gsmf, bin_edges"
   ]
  },
  {
   "cell_type": "code",
   "execution_count": null,
   "id": "2",
   "metadata": {
    "tags": []
   },
   "outputs": [],
   "source": [
    "basePath = '/orange/lblecha/IllustrisTNG/Runs/TNG100-1/output/'\n",
    "snapNum = 99\n",
    "gsmf_snap99, bin_edges_snap99 = calc_from_snap(basePath,snapNum)"
   ]
  },
  {
   "cell_type": "code",
   "execution_count": null,
   "id": "3",
   "metadata": {
    "tags": []
   },
   "outputs": [],
   "source": [
    "plt.yscale('log')\n",
    "plt.plot(bin_edges_snap99[:-1],gsmf_snap99)"
   ]
  },
  {
   "cell_type": "code",
   "execution_count": null,
   "id": "4",
   "metadata": {
    "tags": []
   },
   "outputs": [],
   "source": [
    "from holodeck import cosmo, utils   # , log\n",
    "import matplotlib.pyplot as plt"
   ]
  },
  {
   "cell_type": "code",
   "execution_count": null,
   "id": "5",
   "metadata": {},
   "outputs": [],
   "source": [
    "x = np.arange(0,5,1)\n",
    "print(x)\n",
    "#y = np.arange(0,7,0.5)\n",
    "#z = np.arange(0,8,0.5)\n",
    "#f = x[:, np.newaxis, np.newaxis]**2 + y[np.newaxis, :, np.newaxis]**2 +z[np.newaxis, np.newaxis, :]**2\n",
    "#print(f.shape)\n",
    "#integ = utils.trapz(f, x, axis=0, cumsum=False)\n",
    "integ = utils.trapz(x, x, axis=0, cumsum=False) # cumsum=False gives integral just in this x bin\n",
    "print(integ.shape)\n",
    "#integ = utils.trapz(integ, y, axis=1, cumsum=True)\n",
    "#print(integ.shape)\n",
    "#integ = utils.trapz(integ, z, axis=2, cumsum=True)\n",
    "print(integ)\n",
    "integ2 = utils.trapz(x, x, cumsum=True) #cumsum=True gives total integral from xmin to x\n",
    "integ3 = np.trapz(x, x)\n",
    "print(integ2)\n",
    "print(integ3)"
   ]
  },
  {
   "cell_type": "code",
   "execution_count": null,
   "id": "6",
   "metadata": {
    "tags": []
   },
   "outputs": [],
   "source": [
    "plt.plot(x[:-1],f[:-1,0,0],'k')\n",
    "plt.plot(x[:-1],integ[:,0,0],'b')\n",
    "plt.plot(x[:-1],x[:-1]**3/3,'r')\n",
    "plt.plot(x[:-1],x[:-1]**2,'g')\n",
    "plt.plot(x[:-1],integ2,'m')\n",
    "plt.plot(x[:-1],integ3,'darkorange')"
   ]
  },
  {
   "cell_type": "code",
   "execution_count": null,
   "id": "7",
   "metadata": {
    "tags": []
   },
   "outputs": [],
   "source": [
    "np.log(10)"
   ]
  },
  {
   "cell_type": "code",
   "execution_count": null,
   "id": "8",
   "metadata": {},
   "outputs": [],
   "source": []
  }
 ],
 "metadata": {
  "kernelspec": {
   "display_name": "holodeck python-3.10",
   "language": "python",
   "name": "holo310-jupy-kern"
  },
  "language_info": {
   "codemirror_mode": {
    "name": "ipython",
    "version": 3
   },
   "file_extension": ".py",
   "mimetype": "text/x-python",
   "name": "python",
   "nbconvert_exporter": "python",
   "pygments_lexer": "ipython3",
   "version": "3.10.11"
  }
 },
 "nbformat": 4,
 "nbformat_minor": 5
}
