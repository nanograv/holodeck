{
 "cells": [
  {
   "cell_type": "code",
   "execution_count": null,
   "metadata": {},
   "outputs": [],
   "source": [
    "# %load ../init.ipy\n",
    "%reload_ext autoreload\n",
    "%autoreload 2\n",
    "from importlib import reload\n",
    "\n",
    "import numpy as np\n",
    "import holodeck as holo\n",
    "import holodeck.single_sources as ss\n",
    "import holodeck.cyutils as cy\n",
    "import matplotlib.pyplot as plt\n",
    "import kalepy as kale\n",
    "\n",
    "\n",
    "import matplotlib.cm as cm\n",
    "from holodeck import plot, utils\n",
    "from holodeck.constants import YR, MSOL, GYR, PC, MPC"
   ]
  },
  {
   "attachments": {},
   "cell_type": "markdown",
   "metadata": {},
   "source": [
    "# Build Semi-Analytic Model"
   ]
  },
  {
   "cell_type": "code",
   "execution_count": null,
   "metadata": {},
   "outputs": [],
   "source": [
    "dur, cad = 17.5*YR, 0.2*YR\n",
    "fobs_gw_cents = utils.nyquist_freqs(dur,cad)\n",
    "fobs_gw_edges = utils.nyquist_freqs_edges(dur,cad)\n",
    "# sam = holo.sam.Semi_Analytic_Model()\n",
    "sam = holo.sam.Semi_Analytic_Model(mtot=(1.0e4*MSOL, 1.0e11*MSOL, 20), mrat=(1e-3, 1.0, 20), redz=(1e-3, 10.0, 20))  # faster version"
   ]
  },
  {
   "attachments": {},
   "cell_type": "markdown",
   "metadata": {},
   "source": [
    "## Test GWB calculation with default Hard_GW"
   ]
  },
  {
   "cell_type": "code",
   "execution_count": null,
   "metadata": {},
   "outputs": [],
   "source": [
    "# just using gwb() function\n",
    "gwb = sam.gwb_old(fobs_gw_edges, hard=holo.hardening.Hard_GW, realize=10)\n",
    "fig = plot.plot_gwb(fobs_gw_cents, gwb)"
   ]
  },
  {
   "attachments": {},
   "cell_type": "markdown",
   "metadata": {},
   "source": [
    "## Test GWB calculation with Fixed_Time model"
   ]
  },
  {
   "cell_type": "code",
   "execution_count": null,
   "metadata": {},
   "outputs": [],
   "source": [
    "# just using gwb() function\n",
    "\n",
    "gwb = sam.new_gwb(fobs_gw_edges, hard=holo.hardening.Fixed_Time_2PL_SAM(sam, 3*GYR), realize=10)\n",
    "fig = plot.plot_gwb(fobs_gw_cents, gwb)"
   ]
  },
  {
   "attachments": {},
   "cell_type": "markdown",
   "metadata": {},
   "source": [
    "# Calculate SS and GWB strain with sam.gwb()\n",
    "This function calls single_sources.ss_gws_redz()\n",
    "## using Hard_GW\n",
    "### with params"
   ]
  },
  {
   "cell_type": "code",
   "execution_count": null,
   "metadata": {},
   "outputs": [],
   "source": [
    "hard=holo.hardening.Hard_GW()\n",
    "assert isinstance(hard, (holo.hardening.Fixed_Time_2PL_SAM, holo.hardening.Hard_GW))"
   ]
  },
  {
   "cell_type": "code",
   "execution_count": null,
   "metadata": {},
   "outputs": [],
   "source": [
    "hc_ss, hc_bg, sspar, bgpar = sam.gwb(fobs_gw_edges, hard=holo.hardening.Hard_GW(), realize = 10, loudest = 5, params = True)\n",
    "print(bgpar.shape, sspar.shape)"
   ]
  },
  {
   "cell_type": "code",
   "execution_count": null,
   "metadata": {},
   "outputs": [],
   "source": [
    "fig = plot.plot_bg_ss(fobs_gw_cents, hc_bg, hc_ss)"
   ]
  },
  {
   "cell_type": "code",
   "execution_count": null,
   "metadata": {},
   "outputs": [],
   "source": [
    "fig = plot.plot_pars(fobs_gw_cents, sspar, bgpar)"
   ]
  },
  {
   "attachments": {},
   "cell_type": "markdown",
   "metadata": {},
   "source": [
    "### without params"
   ]
  },
  {
   "cell_type": "code",
   "execution_count": null,
   "metadata": {},
   "outputs": [],
   "source": [
    "hc_ss, hc_bg = sam.gwb(fobs_gw_edges, hard=holo.hardening.Hard_GW(), realize=30, loudest=5, params=False)\n",
    "fig = plot.plot_bg_ss(fobs_gw_cents, hc_bg, hc_ss)"
   ]
  },
  {
   "attachments": {},
   "cell_type": "markdown",
   "metadata": {},
   "source": [
    "## using Fixed_Time\n",
    "### with params"
   ]
  },
  {
   "cell_type": "code",
   "execution_count": null,
   "metadata": {},
   "outputs": [],
   "source": [
    "hard = holo.hardening.Fixed_Time_2PL_SAM(sam, 3*GYR)\n",
    "hc_ss, hc_bg, sspar, bgpar = sam.gwb(fobs_gw_edges, hard=hard, realize = 10, loudest = 5, params = True)\n",
    "fig = plot.plot_bg_ss(fobs_gw_cents, hc_bg, hc_ss)\n",
    "fig = plot.plot_pars(fobs_gw_cents, sspar, bgpar )"
   ]
  },
  {
   "attachments": {},
   "cell_type": "markdown",
   "metadata": {},
   "source": [
    "### without params"
   ]
  },
  {
   "cell_type": "code",
   "execution_count": null,
   "metadata": {},
   "outputs": [],
   "source": [
    "hc_ss, hc_bg = sam.gwb(fobs_gw_edges, hard=hard, realize = 10, loudest = 5, params = False)\n",
    "fig = plot.plot_bg_ss(fobs_gw_cents, hc_bg, hc_ss)"
   ]
  },
  {
   "attachments": {},
   "cell_type": "markdown",
   "metadata": {},
   "source": [
    "# Plot Initial Redshifts and Pair Fractions"
   ]
  },
  {
   "cell_type": "code",
   "execution_count": null,
   "metadata": {},
   "outputs": [],
   "source": [
    "fig = plot.plot_bg_ss(fobs_gw_cents, bgpar[2,...], sspar[2,...])\n",
    "ax = fig.axes[0]\n",
    "ax.set_ylabel('Initial Redshift, $z$')\n"
   ]
  },
  {
   "cell_type": "code",
   "execution_count": null,
   "metadata": {},
   "outputs": [],
   "source": [
    "def P_of_z(z):\n",
    "    return (0.03*(1+z)*0.8)\n",
    "\n",
    "fig = plot.plot_bg_ss(fobs_gw_cents, P_of_z(bgpar[2,...]), P_of_z(sspar[2,...]))\n",
    "ax = fig.axes[0]\n",
    "ax.set_ylabel('Pair Fraction, $P(z)$')"
   ]
  },
  {
   "attachments": {},
   "cell_type": "markdown",
   "metadata": {},
   "source": [
    "# Plot New BG Pars"
   ]
  },
  {
   "cell_type": "code",
   "execution_count": null,
   "metadata": {},
   "outputs": [],
   "source": [
    "print(bgpar.shape)\n",
    "par_names = holo.single_sources.par_names\n",
    "print(par_names)\n",
    "\n",
    "print(sspar.shape)\n",
    "sspar_all = holo.single_sources.all_sspars(fobs_gw_cents, sspar)\n",
    "print(sspar_all.shape)"
   ]
  },
  {
   "cell_type": "code",
   "execution_count": null,
   "metadata": {},
   "outputs": [],
   "source": [
    "print(sam.mrat)"
   ]
  },
  {
   "cell_type": "code",
   "execution_count": null,
   "metadata": {},
   "outputs": [],
   "source": [
    "labels = holo.single_sources.par_labels\n",
    "units = holo.single_sources.par_units\n",
    "\n",
    "for ii in range(len(bgpar)):\n",
    "    fig = plot.plot_bg_ss(fobs_gw_cents, bgpar[ii,...]*units[ii], sspar_all[ii,...]*units[ii], ylabel=labels[ii])"
   ]
  },
  {
   "attachments": {},
   "cell_type": "markdown",
   "metadata": {},
   "source": [
    "Get rest of single source params for comparison"
   ]
  },
  {
   "cell_type": "code",
   "execution_count": null,
   "metadata": {},
   "outputs": [],
   "source": [
    "\n"
   ]
  },
  {
   "cell_type": "code",
   "execution_count": null,
   "metadata": {},
   "outputs": [],
   "source": []
  },
  {
   "cell_type": "code",
   "execution_count": null,
   "metadata": {},
   "outputs": [],
   "source": []
  }
 ],
 "metadata": {
  "kernelspec": {
   "display_name": "holo310",
   "language": "python",
   "name": "python3"
  },
  "language_info": {
   "codemirror_mode": {
    "name": "ipython",
    "version": 3
   },
   "file_extension": ".py",
   "mimetype": "text/x-python",
   "name": "python",
   "nbconvert_exporter": "python",
   "pygments_lexer": "ipython3",
   "version": "3.10.10"
  },
  "vscode": {
   "interpreter": {
    "hash": "b691867a38f678e88325b7be712686862775b0bc37454cc33917ba725d804d99"
   }
  }
 },
 "nbformat": 4,
 "nbformat_minor": 2
}
