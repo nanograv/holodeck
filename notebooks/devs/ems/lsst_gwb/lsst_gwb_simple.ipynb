{
 "cells": [
  {
   "cell_type": "code",
   "execution_count": null,
   "metadata": {},
   "outputs": [],
   "source": [
    "from pathlib import Path\n",
    "\n",
    "import numpy as np\n",
    "import scipy as sp\n",
    "import matplotlib.pyplot as plt\n",
    "import h5py\n",
    "\n",
    "import kalepy as kale\n",
    "\n",
    "import holodeck as holo\n",
    "from holodeck.constants import MSOL, PC, YR, GYR, SPLC, EDDT"
   ]
  },
  {
   "cell_type": "markdown",
   "metadata": {},
   "source": [
    "# 15yr Population Posteriors"
   ]
  },
  {
   "cell_type": "markdown",
   "metadata": {},
   "source": [
    "Load chains from 15yr Binary Astrophysics analysis to get population parameter posteriors"
   ]
  },
  {
   "cell_type": "code",
   "execution_count": null,
   "metadata": {},
   "outputs": [],
   "source": [
    "path_data = Path(\"./data/astroprior_hdall\").resolve()\n",
    "print(path_data)\n",
    "assert path_data.is_dir()\n",
    "fname_pars = path_data.joinpath(\"pars.txt\")\n",
    "fname_chains = path_data.joinpath(\"chain_1.0.txt\")\n",
    "print(fname_pars)\n",
    "print(fname_chains)\n",
    "assert fname_chains.is_file() and fname_pars.is_file()"
   ]
  },
  {
   "cell_type": "code",
   "execution_count": null,
   "metadata": {},
   "outputs": [],
   "source": [
    "chain_pars = np.loadtxt(fname_pars, dtype=str)\n",
    "chains = np.loadtxt(fname_chains)\n",
    "npars = len(chain_pars)\n",
    "\n",
    "# Get maximum likelihood parameters (estimate using KDE)\n",
    "mlpars = {}\n",
    "fig, axes = plt.subplots(figsize=[10, 1.5*npars], nrows=npars)\n",
    "plt.subplots_adjust(hspace=0.75)\n",
    "for ii, ax in enumerate(axes):\n",
    "    ax.set(xlabel=chain_pars[ii])\n",
    "    vals = chains[:, ii]\n",
    "    extr = holo.utils.minmax(vals)\n",
    "    xx, yy = kale.density(vals, reflect=extr)\n",
    "    kale.dist1d(chains[:, ii], ax=ax, density=True, carpet=1000)\n",
    "    idx = np.argmax(yy)\n",
    "    xmax = xx[idx]\n",
    "    ax.axvline(xmax, color='firebrick')\n",
    "    mlpars[chain_pars[ii]] = xmax\n",
    "\n",
    "plt.show()\n"
   ]
  },
  {
   "cell_type": "code",
   "execution_count": null,
   "metadata": {},
   "outputs": [],
   "source": [
    "print(f\"Maximum Likelihood binary population parameters:\")\n",
    "for kk, vv in mlpars.items():\n",
    "    print(f\"\\t{kk:>20s}: {vv:+.2e}\")"
   ]
  },
  {
   "cell_type": "markdown",
   "metadata": {},
   "source": [
    "## Generate Population with ML Parameters"
   ]
  },
  {
   "cell_type": "markdown",
   "metadata": {},
   "source": [
    "Construct model"
   ]
  },
  {
   "cell_type": "code",
   "execution_count": null,
   "metadata": {},
   "outputs": [],
   "source": [
    "# Choose the appropriate Parameter Space (from 15yr astro analysis)\n",
    "pspace = holo.param_spaces.PS_Uniform_09B\n",
    "# Load SAM and hardening model for desired parameters\n",
    "sam, hard = pspace.model_for_params(mlpars)"
   ]
  },
  {
   "cell_type": "code",
   "execution_count": null,
   "metadata": {},
   "outputs": [],
   "source": [
    "# compare a couple of the parameters to make sure things look right\n",
    "print(hard._target_time/GYR, mlpars['hard_time'])\n",
    "assert np.isclose(hard._target_time/GYR, mlpars['hard_time'])\n",
    "print(sam._gsmf._phi0, mlpars['gsmf_phi0'])\n",
    "assert np.isclose(sam._gsmf._phi0, mlpars['gsmf_phi0'])"
   ]
  },
  {
   "cell_type": "markdown",
   "metadata": {},
   "source": [
    "Calculate number of binaries in a target frequency (period) range.\n",
    "Takes about 1 minute"
   ]
  },
  {
   "cell_type": "code",
   "execution_count": null,
   "metadata": {},
   "outputs": [],
   "source": [
    "# Choose range of orbital periods of interest\n",
    "tvals = [10.0, 0.1]   # yr\n",
    "NFBINS = 10\n",
    "print(f\"Considering orbital periods between {tvals} yrs, {NFBINS} bins\")\n",
    "# convert to frequencies\n",
    "fobs_orb_edges = 1 / np.array(tvals)   # 1/yr\n",
    "# construct bins\n",
    "fobs_orb_edges = np.logspace(*np.log10(fobs_orb_edges/YR), NFBINS+1)  # 1/sec\n",
    "fobs_orb_cents = holo.utils.midpoints(fobs_orb_edges)\n",
    "fobs = fobs_orb_cents\n",
    "\n",
    "# calculate (differential) number of binaries\n",
    "redz_final, diff_num = holo.sams.cyutils.dynamic_binary_number_at_fobs(\n",
    "    fobs_orb_cents, sam, hard, holo.cosmo\n",
    ")\n",
    "# integrate to find total number of binaries in each bin\n",
    "edges = [sam.mtot, sam.mrat, sam.redz, fobs_orb_edges]\n",
    "number = holo.sams.cyutils.integrate_differential_number_3dx1d(edges, diff_num)\n",
    "print(f\"Loaded {number.sum():.1e} binaries across frequency range\")"
   ]
  },
  {
   "cell_type": "code",
   "execution_count": null,
   "metadata": {},
   "outputs": [],
   "source": [
    "temp = number.sum(axis=(0, 1, 2))\n",
    "fig, ax = plt.subplots()\n",
    "\n",
    "xx = fobs_orb_cents*YR\n",
    "yy = temp/np.diff(fobs_orb_edges*YR)\n",
    "ax.plot(xx, yy)\n",
    "\n",
    "ax.set(xscale='log', yscale='log', ylabel='Number of Binaries ($dN/df$)', xlabel='Orbial Frequency [1/yr]')\n",
    "tw = holo.plot._twin_hz(ax)\n",
    "tw.set_xlabel('orbital frequency [nHz]')\n",
    "plt.show()"
   ]
  },
  {
   "cell_type": "markdown",
   "metadata": {},
   "source": [
    "## Variability Models and Observability Cuts\n",
    "\n",
    "Choose which bins of SAM population are 'observable'"
   ]
  },
  {
   "cell_type": "code",
   "execution_count": null,
   "metadata": {},
   "outputs": [],
   "source": [
    "fedd = 0.1   # eddington fraction\n",
    "bcorr = 0.1  # bolometric correction, bolometric ==> optical\n",
    "\n",
    "# LSST V-band sensitivity [erg/s/cm^2/Hz]\n",
    "#    see: https://ui.adsabs.harvard.edu/abs/2019MNRAS.485.1579K/abstract\n",
    "flux_sens_lsst = 3.0e-30\n",
    "vband_wlen = 551.0e-7   # [cm]\n",
    "\n",
    "# get V-band frequency\n",
    "vband_freq = SPLC/(vband_wlen)   # [Hz]\n",
    "\n",
    "# get bin-center values for population\n",
    "mtot = holo.utils.midpoints(sam.mtot)\n",
    "mrat = holo.utils.midpoints(sam.mrat)\n",
    "redz = holo.utils.midpoints(sam.redz)\n",
    "# convert redshift to luminosity-distance\n",
    "dlum = holo.cosmo.z_to_dlum(redz)\n",
    "\n",
    "# calculate luminosity of binaries based on Eddington fraction and bolometric correction\n",
    "lum = EDDT * mtot * fedd * bcorr    # [erg/s]\n",
    "\n",
    "# calculate flux at observer\n",
    "# TODO: should really divide by the width of the V-band\n",
    "flux_tot = lum[:, np.newaxis] / (4*np.pi*dlum[np.newaxis, :]**2) / vband_freq\n",
    "# get the flux of the secondary, assume that it is what's needed\n",
    "flux_sec = flux_tot[:, np.newaxis, :] * (mrat / (1.0 + mrat))[np.newaxis, :, np.newaxis]\n",
    "\n",
    "# select \"observable\" systems\n",
    "obs_flag = (flux_sec > flux_sens_lsst)\n",
    "num_obs = np.sum(obs_flag[..., np.newaxis]*number)\n",
    "num_all = np.sum(number)\n",
    "frac_obs = num_obs / num_all\n",
    "print(f\"observable: {num_obs:.2e}/{num_all:.2e} = {frac_obs:.2e}\")"
   ]
  },
  {
   "cell_type": "markdown",
   "metadata": {},
   "source": [
    "# Detectability (Test) Data from Caitlin "
   ]
  },
  {
   "cell_type": "code",
   "execution_count": null,
   "metadata": {},
   "outputs": [],
   "source": [
    "fname_data = Path(\"./data/export_for_gwb_test.txt\")\n",
    "fname_data = fname_data.absolute().resolve()\n",
    "print(fname_data, fname_data.exists())\n",
    "with open(fname_data, 'r') as input:\n",
    "    det_header = None\n",
    "    for ii, line in enumerate(input.readlines()):\n",
    "        line = line.strip()\n",
    "        print(line)\n",
    "        if det_header is None:\n",
    "            if not line.startswith('#'):\n",
    "                raise ValueError(\n",
    "                    \"First line of file should have stared with a comment including header \"\n",
    "                    \"information about the columns!\"\n",
    "                )\n",
    "            det_header = line.strip(' #').split(\"  \")\n",
    "            det_header = [head.strip() for head in det_header]\n",
    "            print(len(det_header), det_header)\n",
    "\n",
    "        if ii > 3:\n",
    "            break\n",
    "\n",
    "det_data = np.loadtxt(fname_data)\n",
    "print(f\"{det_data.shape=}\")\n",
    "\n",
    "injected = (det_data[:, 11] > 0)\n",
    "print(\"injected: \", holo.utils.frac_str(injected))\n",
    "detected = (det_data[:, 12] > 0)\n",
    "print(\"detected: \", holo.utils.frac_str(detected))\n",
    "print(\" both   : \", holo.utils.frac_str(detected & injected))"
   ]
  },
  {
   "cell_type": "markdown",
   "metadata": {},
   "source": [
    "## Look at the data"
   ]
  },
  {
   "cell_type": "code",
   "execution_count": null,
   "metadata": {},
   "outputs": [],
   "source": [
    "indices = [0, 2, 4, 6, 8]\n",
    "\n",
    "num = len(indices)\n",
    "fig, axes = plt.subplots(figsize=[20, num*5], ncols=4, nrows=num, sharex='row')\n",
    "\n",
    "for ii, axrow in enumerate(axes):\n",
    "    idx = indices[ii]\n",
    "\n",
    "    xx = det_data[:, idx]\n",
    "    yy = det_data[:, idx+1]\n",
    "\n",
    "    for ax in axrow:\n",
    "        ax.set(xlabel=det_header[idx], ylabel=det_header[idx+1])\n",
    "\n",
    "    ax = axrow[0]\n",
    "    if ii == 0:\n",
    "        ax.set(title='all')\n",
    "    ax.scatter(xx, yy, alpha=0.2, s=5)\n",
    "\n",
    "    ax = axrow[1]\n",
    "    if ii == 0:\n",
    "        ax.set(title='injected')\n",
    "    ax.scatter(xx, yy, alpha=0.2, s=14)\n",
    "    ax.scatter(xx[injected], yy[injected], alpha=0.75, marker='x', s=8, lw=0.5)\n",
    "\n",
    "    ax = axrow[2]\n",
    "    if ii == 0:\n",
    "        ax.set(title='detected')\n",
    "    ax.scatter(xx, yy, alpha=0.2, s=14)\n",
    "    ax.scatter(xx[detected], yy[detected], alpha=0.75, marker='x', s=8, lw=0.5)\n",
    "\n",
    "    ax = axrow[3]\n",
    "    if ii == 0:\n",
    "        ax.set(title='both')\n",
    "    ax.scatter(xx, yy, alpha=0.2, s=14)\n",
    "    ax.scatter(xx[detected & injected], yy[detected & injected], alpha=0.75, marker='x', s=8, lw=0.5)\n",
    "\n",
    "plt.show()"
   ]
  },
  {
   "cell_type": "code",
   "execution_count": null,
   "metadata": {},
   "outputs": [],
   "source": [
    "indices = [0, 2, 4, 6, 8]\n",
    "\n",
    "num = len(indices)\n",
    "fig, axes = plt.subplots(figsize=[20, num*5], ncols=2, nrows=num, sharex='row')\n",
    "kwargs = dict(alpha=0.5, lw=2.0, density=True, histtype='step')\n",
    "\n",
    "for ii, axrow in enumerate(axes):\n",
    "    idx = indices[ii]\n",
    "    bins = 20\n",
    "\n",
    "    for jj, ax in enumerate(axrow):\n",
    "        ax.set(yscale='log', xlabel=det_header[idx+jj], ylabel='Number')\n",
    "        vals = det_data[:, idx+jj]\n",
    "        hist, bins, patches = ax.hist(vals, bins=bins, label='all', **kwargs)\n",
    "        hist, bins, patches = ax.hist(vals[injected], bins=bins, label='injected', **kwargs)\n",
    "        hist, bins, patches = ax.hist(vals[detected], bins=bins, label='detected', **kwargs)\n",
    "        hist, bins, patches = ax.hist(vals[injected & detected], bins=bins, label='both', **kwargs)\n",
    "\n",
    "        ax.legend()\n",
    "\n",
    "plt.show()"
   ]
  },
  {
   "cell_type": "markdown",
   "metadata": {},
   "source": [
    "## Calculate a 'detectability' metric"
   ]
  },
  {
   "cell_type": "code",
   "execution_count": null,
   "metadata": {},
   "outputs": [],
   "source": [
    "NAMPS = 7\n",
    "NPERS = 9\n",
    "\n",
    "def get_idx(key, header):\n",
    "    for ii, hh in enumerate(header):\n",
    "        if key.lower() in hh.lower():\n",
    "            return ii\n",
    "    else:\n",
    "        return None\n",
    "\n",
    "# grab amplitude and period data\n",
    "amp_idx = get_idx('amp_in', det_header)\n",
    "period_idx = get_idx('period_in', det_header)\n",
    "det_amps = det_data[:, amp_idx]\n",
    "# convert periods from [day] to [yr]\n",
    "det_pers = det_data[:, period_idx]*24*60*60/YR\n",
    "\n",
    "# Choose a 2D grid of bin-edges based on the detected amplitudes and periods\n",
    "sel_flag = injected & detected\n",
    "amp_edges = np.linspace(*holo.utils.minmax(det_amps[sel_flag]), NAMPS)\n",
    "per_edges = np.linspace(*holo.utils.minmax(det_pers[sel_flag]), NPERS)\n",
    "print(f\"{amp_edges=}\")\n",
    "print(f\"{per_edges=}\")\n",
    "bins = [amp_edges, per_edges]\n",
    "\n",
    "# find the number of points in each bin\n",
    "num_all, *_ = sp.stats.binned_statistic_2d(\n",
    "    det_amps, det_pers, np.ones_like(det_amps), statistic='sum', bins=bins\n",
    ")\n",
    "# find the number of injected & detected points in each bin\n",
    "num_det, *_ = sp.stats.binned_statistic_2d(\n",
    "    det_amps, det_pers, sel_flag*np.ones_like(det_amps), statistic='sum', bins=bins\n",
    ")\n",
    "# The detection fraction is the number of injected & detected points divided by all points\n",
    "# TODO: should denominator just be the number of injected points???  How to handle false-positives???\n",
    "det_frac = num_det / num_all\n",
    "\n",
    "fig, ax = plt.subplots(figsize=[10, 7])\n",
    "ax.set(xlabel='amplitude [frac]', ylabel='period [yr]')\n",
    "pcm = ax.pcolormesh(*bins, det_frac.T, shading='auto')\n",
    "plt.colorbar(pcm, ax=ax, label='detection fraction')\n",
    "\n",
    "plt.show()\n"
   ]
  },
  {
   "cell_type": "markdown",
   "metadata": {},
   "source": [
    "# Calculate LSST Detections"
   ]
  },
  {
   "cell_type": "markdown",
   "metadata": {},
   "source": [
    "We have a number of binaries `number` over a grid of total-mass, mass-ratio, redshift, and orbital frequency.  The shape is (M, Q, Z, F).  The bin-center values for each dimension are given in:\n",
    " * `mtot` (M,) [gram]\n",
    " * `mrat` (Q,) [-]\n",
    " * `redz` (Z,) [-]\n",
    " * `fobs` (F,) [1/sec]\n",
    "\n",
    "There is a boolean grid of which bins are observable given in `obs_flag`, with the same shape as `number`.\n",
    "\n",
    "We want to determine what fraction of binaries in each bin are detectable in LSST variability surveys."
   ]
  },
  {
   "cell_type": "markdown",
   "metadata": {},
   "source": [
    "We have a grid of detectability fractions for periodic variable AGN in `det_frac` with shape (A, P).  This is over a grid of variability amplitudes given by the array `amp_edges` shaped (A+1,), and orbital periods `per_edges` shaped (P+1,).  We need to map the simulated binaries to this parameter space."
   ]
  },
  {
   "cell_type": "code",
   "execution_count": null,
   "metadata": {},
   "outputs": [],
   "source": [
    "# assume that the variability amplitude exactly equals the mass-ratio\n",
    "bin_amp = mrat[np.newaxis, :, np.newaxis, np.newaxis] * np.ones_like(number)\n",
    "\n",
    "# assume that the variability period is exactly the orbital period\n",
    "_per = (1/fobs/YR)\n",
    "bin_per = _per[np.newaxis, np.newaxis, np.newaxis, :] * np.ones_like(number)\n",
    "\n",
    "# convert to 1D arrays, and select out the 'observable' binaries\n",
    "bin_amp = bin_amp[obs_flag].flatten()\n",
    "bin_per = bin_per[obs_flag].flatten()\n",
    "bin_num = number[obs_flag].flatten()"
   ]
  },
  {
   "cell_type": "markdown",
   "metadata": {},
   "source": [
    "We have the binaries in terms of the variable-detectability parameter space.  So we just need to find the detectability fraction (`det_frac`) for each binary grid-point now."
   ]
  },
  {
   "cell_type": "code",
   "execution_count": null,
   "metadata": {},
   "outputs": [],
   "source": [
    "# returned indices `idx` give the bin number\n",
    "amp_idx = np.digitize(bin_amp, amp_edges) - 1\n",
    "per_idx = np.digitize(bin_per, per_edges) - 1\n",
    "# idx values of -1 mean the value is below the lowest bin, values of B+1 (for B bins) are above the highest bin\n",
    "# put amplitudes above the highest bin into the highest bin\n",
    "nbins = amp_edges.size - 1\n",
    "amp_idx[amp_idx >= nbins] = nbins - 1\n",
    "# set amplitudes below smallest bin to be invalid, i.e. select only values above the lowest bin\n",
    "sel_amp = (amp_idx >= 0)\n",
    "# put periods below the lowest bin, into the lowest bin\n",
    "per_idx[per_idx < 0] = 0\n",
    "# set periods above highest bin to be invalid, i.e. select only values below the highest bin\n",
    "nbins = per_edges.size - 1\n",
    "print(per_edges.size, holo.utils.stats(per_idx))\n",
    "sel_per = (per_idx < nbins)\n",
    "\n",
    "# select valid entires\n",
    "sel = sel_amp & sel_per\n",
    "amp_idx = amp_idx[sel]\n",
    "per_idx = per_idx[sel]\n",
    "# grab the corresponding numbers of binaries in each of these 'selected' bins\n",
    "sel_bin_num = bin_num[sel]\n",
    "print(f\"{holo.utils.stats(sel_bin_num)=}\")\n",
    "\n",
    "# convert from indices in each dimension, to an index for the flattened array\n",
    "sel_dfracs = det_frac[(amp_idx, per_idx)]\n",
    "print(f\"{holo.utils.stats(sel_dfracs)=}\")\n",
    "\n",
    "# find the total number of detectable binaries\n",
    "# multiply the number of binaries in each bin, by the detection fraction in that bin\n",
    "num_det_bins = sel_bin_num * sel_dfracs\n",
    "print(f\"{num_det_bins.sum()=:.2e}\")\n",
    "num_all_bins = number.sum()\n",
    "frac_det_bins = num_det_bins.sum() / num_all_bins\n",
    "print(f\"Total detection fraction: {frac_det_bins:.2e}\")\n",
    "\n",
    "# remind us the fraction of binaries that were 'observable'\n",
    "print(f\"Total 'observability' fraction: {frac_obs:.2e}\")\n",
    "\n",
    "frac_obs_det = num_det_bins.sum() / num_obs\n",
    "print(f\"Det frac of observable: {frac_obs_det:.2e}\")"
   ]
  }
 ],
 "metadata": {
  "kernelspec": {
   "display_name": "py311",
   "language": "python",
   "name": "python3"
  },
  "language_info": {
   "codemirror_mode": {
    "name": "ipython",
    "version": 3
   },
   "file_extension": ".py",
   "mimetype": "text/x-python",
   "name": "python",
   "nbconvert_exporter": "python",
   "pygments_lexer": "ipython3",
   "version": "3.11.7"
  }
 },
 "nbformat": 4,
 "nbformat_minor": 2
}
