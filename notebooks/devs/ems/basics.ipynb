{
 "cells": [
  {
   "cell_type": "code",
   "execution_count": null,
   "metadata": {},
   "outputs": [],
   "source": [
    "import numpy as np\n",
    "import astropy as ap\n",
    "import astropy.units\n",
    "import matplotlib.pyplot as plt\n",
    "\n",
    "import holodeck as holo\n",
    "import holodeck.ems"
   ]
  },
  {
   "cell_type": "code",
   "execution_count": null,
   "metadata": {},
   "outputs": [],
   "source": [
    "bands = holo.ems.basics.SDSS_Bands()"
   ]
  },
  {
   "cell_type": "code",
   "execution_count": null,
   "metadata": {},
   "outputs": [],
   "source": [
    "lum = (ap.units.Quantity(\"3631.0 Jansky\") * (4.0 * np.pi * (10.0 * ap.units.parsec)**2)).to('erg / s / Hz')\n",
    "lum"
   ]
  },
  {
   "cell_type": "code",
   "execution_count": null,
   "metadata": {},
   "outputs": [],
   "source": [
    "bands('u').flux_to_mag(3631.0, type='f', units='jansky')"
   ]
  },
  {
   "cell_type": "code",
   "execution_count": null,
   "metadata": {},
   "outputs": [],
   "source": [
    "bands('u').lum_to_abs_mag(lum, type='f')"
   ]
  },
  {
   "cell_type": "markdown",
   "metadata": {},
   "source": [
    "# Generate Regression-Test data for basics.SDSS_Bands"
   ]
  },
  {
   "cell_type": "code",
   "execution_count": null,
   "metadata": {},
   "outputs": [],
   "source": [
    "# from pathlib import Path\n",
    "# import zcode.inout as zio\n",
    "\n",
    "# results = {}\n",
    "\n",
    "# units_hz = 'erg/(s cm2 Hz)'\n",
    "# units_angstrom = 'erg/(s cm2 Angstrom)'\n",
    "\n",
    "# for band in \"ugriz\":\n",
    "#     flux = 10.0 ** np.random.uniform(-36, -30, 3)\n",
    "#     b1 = bands[band].flux_to_mag(flux, 'f', units=units_hz).value\n",
    "#     b2 = bands[band].flux_to_mag(flux, 'w', units=units_angstrom).value\n",
    "#     results[band] = dict(flux=flux, mag_hz=b1, mag_angstrom=b2, units_hz=units_hz, units_angstrom=units_angstrom)\n",
    "    \n",
    "# fname = 'basics_sdss_bands_2023-09-05.json'\n",
    "# path = Path(holo.ems.basics.__file__).parent.resolve()\n",
    "# print(path)\n",
    "# print(results)\n",
    "# # rv = zio.str_format_dict(results, file=open(path.joinpath(\"tests\", fname), 'w'))\n",
    "# print(zio.str_format_dict(results))"
   ]
  }
 ],
 "metadata": {
  "kernelspec": {
   "display_name": "py311",
   "language": "python",
   "name": "python3"
  },
  "language_info": {
   "codemirror_mode": {
    "name": "ipython",
    "version": 3
   },
   "file_extension": ".py",
   "mimetype": "text/x-python",
   "name": "python",
   "nbconvert_exporter": "python",
   "pygments_lexer": "ipython3",
   "version": "3.11.4"
  }
 },
 "nbformat": 4,
 "nbformat_minor": 2
}
