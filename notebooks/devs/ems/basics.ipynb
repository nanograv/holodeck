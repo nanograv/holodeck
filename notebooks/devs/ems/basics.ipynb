{
 "cells": [
  {
   "cell_type": "code",
   "execution_count": null,
   "metadata": {},
   "outputs": [],
   "source": [
    "import numpy as np"
   ]
  },
  {
   "cell_type": "code",
   "execution_count": null,
   "metadata": {},
   "outputs": [],
   "source": [
    "a = np.random.uniform(0.0, 1.0, (4, 10))\n",
    "b = np.arange(5)\n",
    "c = [\"Hello\", \"there\"]\n",
    "\n",
    "fname = \"test.npz\"\n",
    "np.savez(fname, a=a, b=b, other=c)\n",
    "print(f\"saved to {fname}\")\n",
    "print()\n",
    "data = np.load(fname)\n",
    "print(list(data.keys()))\n",
    "for kk, vv in data.items():\n",
    "    print(kk, vv)\n"
   ]
  },
  {
   "cell_type": "code",
   "execution_count": null,
   "metadata": {},
   "outputs": [],
   "source": [
    "a = np.random.uniform(0.0, 1.0, (3, 4, 5))\n",
    "print(a.shape)\n",
    "b = 10.0 ** np.random.uniform(-1.0, 1.0, a.shape)\n",
    "\n",
    "# a * b * sin(b)\n",
    "c1 = np.zeros_like(a)\n",
    "for ii in range(a.shape[0]):\n",
    "    for jj in range(a.shape[1]):\n",
    "        c1[ii, jj] = a[ii, jj] * b[ii, jj] * np.sin(b[ii, jj])\n",
    "\n",
    "c2 = np.zeros_like(a)\n",
    "for ii in range(a.shape[0]):\n",
    "    c2[ii, :] = a[ii, :] * b[ii, :] * np.sin(b[ii, :])\n",
    "\n",
    "c3 = np.zeros_like(a)\n",
    "c3[:, :] = a[:, :] * b[:, :] * np.sin(b[:, :])\n",
    "\n",
    "print(np.all(c1 == c2))\n",
    "print(np.all(c1 == c3))\n"
   ]
  },
  {
   "cell_type": "code",
   "execution_count": null,
   "metadata": {},
   "outputs": [],
   "source": [
    "a = np.random.uniform(0.0, 1.0, (3, 4))\n",
    "print(f\"{a.shape=}\")\n",
    "b = 10.0 ** np.random.uniform(-1.0, 1.0, (4, 5))\n",
    "print(f\"{b.shape=}\")\n",
    "\n",
    "# c_ijk = a_ij * b_jk * sin(b_jk)\n",
    "\n",
    "# a * b * sin(b)\n",
    "c1 = np.zeros((3, 4, 5))\n",
    "for ii in range(a.shape[0]):  # 3\n",
    "    for jj in range(a.shape[1]): # 4\n",
    "        for kk in range(b.shape[1]): # 5\n",
    "            c1[ii, jj, kk] = a[ii, jj] * b[jj, kk] * np.sin(b[jj, kk])\n",
    "\n",
    "c2 = np.zeros((3, 4, 5))\n",
    "for ii in range(a.shape[0]):  # 3\n",
    "\n",
    "    c2[ii, :, :] = a[ii, :, np.newaxis] * b[:, :] * np.sin(b[:, :])\n",
    "\n",
    "print(f\"{c1.shape=}\")\n",
    "print(f\"{np.all(c1 == c2)=}\")\n"
   ]
  },
  {
   "cell_type": "code",
   "execution_count": null,
   "metadata": {},
   "outputs": [],
   "source": [
    "import numpy as np\n",
    "import astropy as ap\n",
    "import astropy.units\n",
    "import matplotlib.pyplot as plt\n",
    "\n",
    "import holodeck as holo\n",
    "import holodeck.ems"
   ]
  },
  {
   "cell_type": "code",
   "execution_count": null,
   "metadata": {},
   "outputs": [],
   "source": [
    "bands = holo.ems.basics.SDSS_Bands()"
   ]
  },
  {
   "cell_type": "code",
   "execution_count": null,
   "metadata": {},
   "outputs": [],
   "source": [
    "holo.ems.runnoe2012.lband_from_lbol(\"2to10\", 1.392e46)"
   ]
  },
  {
   "cell_type": "code",
   "execution_count": null,
   "metadata": {},
   "outputs": [],
   "source": [
    "lum = (ap.units.Quantity(\"3631.0 Jansky\") * (4.0 * np.pi * (10.0 * ap.units.parsec)**2)).to('erg / s / Hz')\n",
    "lum"
   ]
  },
  {
   "cell_type": "code",
   "execution_count": null,
   "metadata": {},
   "outputs": [],
   "source": [
    "bands('u').flux_to_mag(3631.0, type='f', units='jansky')"
   ]
  },
  {
   "cell_type": "code",
   "execution_count": null,
   "metadata": {},
   "outputs": [],
   "source": [
    "bands('u').lum_to_abs_mag(lum, type='f')"
   ]
  },
  {
   "cell_type": "markdown",
   "metadata": {},
   "source": [
    "# Generate Regression-Test data for basics.SDSS_Bands"
   ]
  },
  {
   "cell_type": "code",
   "execution_count": null,
   "metadata": {},
   "outputs": [],
   "source": [
    "# from pathlib import Path\n",
    "# import zcode.inout as zio\n",
    "\n",
    "# results = {}\n",
    "\n",
    "# units_hz = 'erg/(s cm2 Hz)'\n",
    "# units_angstrom = 'erg/(s cm2 Angstrom)'\n",
    "\n",
    "# for band in \"ugriz\":\n",
    "#     flux = 10.0 ** np.random.uniform(-36, -30, 3)\n",
    "#     b1 = bands[band].flux_to_mag(flux, 'f', units=units_hz).value\n",
    "#     b2 = bands[band].flux_to_mag(flux, 'w', units=units_angstrom).value\n",
    "#     results[band] = dict(flux=flux, mag_hz=b1, mag_angstrom=b2, units_hz=units_hz, units_angstrom=units_angstrom)\n",
    "\n",
    "# fname = 'basics_sdss_bands_2023-09-05.json'\n",
    "# path = Path(holo.ems.basics.__file__).parent.resolve()\n",
    "# print(path)\n",
    "# print(results)\n",
    "# # rv = zio.str_format_dict(results, file=open(path.joinpath(\"tests\", fname), 'w'))\n",
    "# print(zio.str_format_dict(results))"
   ]
  }
 ],
 "metadata": {
  "kernelspec": {
   "display_name": "py311",
   "language": "python",
   "name": "python3"
  },
  "language_info": {
   "codemirror_mode": {
    "name": "ipython",
    "version": 3
   },
   "file_extension": ".py",
   "mimetype": "text/x-python",
   "name": "python",
   "nbconvert_exporter": "python",
   "pygments_lexer": "ipython3",
   "version": "3.12.3"
  }
 },
 "nbformat": 4,
 "nbformat_minor": 2
}
