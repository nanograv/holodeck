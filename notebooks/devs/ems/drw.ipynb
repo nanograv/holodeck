{
 "cells": [
  {
   "cell_type": "code",
   "execution_count": null,
   "metadata": {},
   "outputs": [],
   "source": [
    "import numpy as np\n",
    "import matplotlib.pyplot as plt\n",
    "\n",
    "import holodeck as holo\n",
    "import holodeck.ems\n",
    "import holodeck.plot\n",
    "from holodeck.constants import MSOL"
   ]
  },
  {
   "cell_type": "code",
   "execution_count": null,
   "metadata": {},
   "outputs": [],
   "source": [
    "num = 3000\n",
    "mass = (10.0**np.random.uniform(6, 10, num)) * MSOL\n",
    "fedd = np.random.uniform(0.0, 1.0, num)\n",
    "imag, taus, sfis = holo.ems.drw.drw_params(mass, fedd, eps=1.0, samples=False)\n"
   ]
  },
  {
   "cell_type": "code",
   "execution_count": null,
   "metadata": {},
   "outputs": [],
   "source": [
    "num = 3\n",
    "mass = (10.0**np.random.uniform(6, 10, num)) * MSOL\n",
    "# fedd = np.random.uniform(0.0, 1.0, num)\n",
    "fedd = np.ones_like(mass)\n",
    "imag, taus, sfis = holo.ems.drw.drw_params(mass, fedd, eps=1.0, samples=False)\n",
    "print(mass/MSOL)\n",
    "print(imag)"
   ]
  },
  {
   "cell_type": "code",
   "execution_count": null,
   "metadata": {},
   "outputs": [],
   "source": [
    "fig, axes = holo.plot.figax(figsize=[12, 4], ncols=3, xlabel='Mass [Msol]', wspace=0.35, yscale='lin')\n",
    "\n",
    "values = [imag, np.log10(taus), np.log10(sfis)]\n",
    "smap = holo.plot.smap(fedd, log=False)\n",
    "colors = smap.to_rgba(fedd)\n",
    "\n",
    "labels = ['$M_i$', r'$\\tau$ [days]', 'SF$_\\infty$ [mag]']\n",
    "for ii, (val, ax) in enumerate(zip(values, axes)):\n",
    "    ax.scatter(mass/MSOL, val, color=colors)\n",
    "    ax.set(ylabel=labels[ii])\n",
    "    plt.colorbar(smap, ax=ax, orientation='horizontal', label='Fedd')\n",
    "\n",
    "axes[0].set(yscale='linear')\n",
    "axes[0].invert_yaxis()\n",
    "axes[0].set(ylim=[-25, -33])\n",
    "plt.show()"
   ]
  },
  {
   "cell_type": "code",
   "execution_count": null,
   "metadata": {},
   "outputs": [],
   "source": [
    "fig, axes = holo.plot.figax(figsize=[12, 4], ncols=2, wspace=0.35, \n",
    "                            xlabel='Mass [Msol]', yscale='lin', ylim=[-23, -30], xlim=[1e8, 1e10])\n",
    "\n",
    "values = [np.log10(taus), np.log10(sfis)]\n",
    "\n",
    "labels = [r'$\\tau$ [days]', 'SF$_\\infty$ [mag]']\n",
    "for ii, (val, ax) in enumerate(zip(values, axes)):\n",
    "    print(holo.utils.stats(val))\n",
    "    smap = holo.plot.smap(val, log=False, cmap='Spectral_r')\n",
    "    colors = smap.to_rgba(val)\n",
    "    ax.scatter(mass/MSOL, imag, color=colors)\n",
    "    ax.set(ylabel=\"$M_i$\")\n",
    "    plt.colorbar(smap, ax=ax, orientation='horizontal', label=labels[ii])\n",
    "\n",
    "axes[0].invert_yaxis()\n",
    "plt.show()"
   ]
  }
 ],
 "metadata": {
  "kernelspec": {
   "display_name": "py311",
   "language": "python",
   "name": "python3"
  },
  "language_info": {
   "codemirror_mode": {
    "name": "ipython",
    "version": 3
   },
   "file_extension": ".py",
   "mimetype": "text/x-python",
   "name": "python",
   "nbconvert_exporter": "python",
   "pygments_lexer": "ipython3",
   "version": "3.11.4"
  }
 },
 "nbformat": 4,
 "nbformat_minor": 2
}
