{
 "cells": [
  {
   "cell_type": "code",
   "execution_count": null,
   "metadata": {},
   "outputs": [],
   "source": [
    "# %load ../init.ipy\n",
    "%reload_ext autoreload\n",
    "%autoreload 2\n",
    "from importlib import reload\n",
    "\n",
    "import numpy as np\n",
    "import matplotlib.pyplot as plt\n",
    "import matplotlib.cm as cm\n",
    "\n",
    "\n",
    "import holodeck as holo\n",
    "import holodeck.single_sources as ss\n",
    "from holodeck import utils, plot\n",
    "from holodeck.constants import MSOL, PC, YR, MPC, GYR"
   ]
  },
  {
   "attachments": {},
   "cell_type": "markdown",
   "metadata": {},
   "source": [
    "### Build the default semi-analytic model.\n",
    "* 60 mass bins between [1.0e4, 1.0e11] $M_\\odot$\n",
    "* 80 ratio bins between [1e-3, 1.0]\n",
    "* 100 redshift bins between [1e-3, 10.0]\n",
    "* 24 frequency bins between [0.10, 2.50] 1/yr\n",
    "          [3.17, 79.22] nHz\n",
    "* hardening model: HARD_GW"
   ]
  },
  {
   "cell_type": "code",
   "execution_count": null,
   "metadata": {},
   "outputs": [],
   "source": [
    "edges, number, fobs, exname = ss.example5(print_test=True)\n",
    "exname = str(number.shape)+' Grid Example'"
   ]
  },
  {
   "attachments": {},
   "cell_type": "markdown",
   "metadata": {},
   "source": [
    "## Calculate strain using ss.ss_gws()\n",
    "This allows for multiple loudest sources and binary parameters calculation, using cython."
   ]
  },
  {
   "cell_type": "code",
   "execution_count": null,
   "metadata": {},
   "outputs": [],
   "source": [
    "hc_ss, hc_bg, sspar, bgpar = ss.ss_gws(edges, number, realize=30, \n",
    "                                        loudest = 100, params = True) "
   ]
  },
  {
   "attachments": {},
   "cell_type": "markdown",
   "metadata": {},
   "source": [
    "### Plot strain"
   ]
  },
  {
   "cell_type": "code",
   "execution_count": null,
   "metadata": {},
   "outputs": [],
   "source": [
    "fig = plot.plot_bg_ss(fobs, hc_bg, hc_ss)"
   ]
  },
  {
   "attachments": {},
   "cell_type": "markdown",
   "metadata": {},
   "source": [
    "### Plot Binary Parameters\n",
    "bgpar contains the average strain-weighted mass, ratio, and redshift of the background. \n",
    "\n",
    "sspar contains the indivudal mass, ratio, and redshift of each loudest single source."
   ]
  },
  {
   "cell_type": "code",
   "execution_count": null,
   "metadata": {},
   "outputs": [],
   "source": [
    "fig = plot.plot_pars(fobs, hc_ss, hc_bg, sspar, bgpar)"
   ]
  },
  {
   "attachments": {},
   "cell_type": "markdown",
   "metadata": {},
   "source": [
    "# Older Version"
   ]
  },
  {
   "attachments": {},
   "cell_type": "markdown",
   "metadata": {},
   "source": [
    "### Calculate strains using the ss cython function"
   ]
  },
  {
   "cell_type": "code",
   "execution_count": null,
   "metadata": {},
   "outputs": [],
   "source": [
    "hc_bg, hc_ss, ssidx, hsamp = ss.ss_by_cdefs(edges, number, realize=50)"
   ]
  },
  {
   "attachments": {},
   "cell_type": "markdown",
   "metadata": {},
   "source": [
    "## Combination Plot"
   ]
  },
  {
   "cell_type": "code",
   "execution_count": null,
   "metadata": {},
   "outputs": [],
   "source": [
    "#optional:\n",
    "INCLUDE_MEDIANS = True\n",
    "\n",
    "\n",
    "fig, ax = plot.figax(xlabel='Frequency $f_\\mathrm{obs}$ [1/yr]', \n",
    "                    ylabel='Characteristic Strain $h_c$', figsize=[10,4.5])\n",
    "ax.set_title(exname)\n",
    "xx = fobs * YR\n",
    "\n",
    "# plot a reference, pure power-law  strain spectrum:   h_c(f) = 1e-15 * (f * yr) ^ -2/3\n",
    "yy = 1e-15 * np.power(xx, -2.0/3.0)\n",
    "ax.plot(xx, yy, 'k--', alpha=0.25, lw=2.0, label = 'pure power law')\n",
    "\n",
    "\n",
    "# plot the background contours \n",
    "ss.plot_BG(ax, xx, hc_bg, LABEL='background contours', COLOR='k',\n",
    "           REALS=0, median = True)\n",
    "\n",
    "# plot the first 5 realizations\n",
    "ss.plot_samples(ax, xx, SS = hc_ss, BG = hc_bg, REALS=5, LABEL=' (5 reals)')\n",
    "\n",
    "\n",
    "# plot medians and errorbars\n",
    "ss.plot_medians(ax, xx, BG=hc_bg, SS=hc_ss, \n",
    "                BG_ERRORS=True, BG_COLOR='k',\n",
    "                SS_ERRORS=True, SS_COLOR='mediumorchid')\n",
    "\n",
    "\n",
    "legend_gwb = ax.legend(bbox_to_anchor=(.1,.15), \n",
    "                       bbox_transform=fig.transFigure, loc='lower left',\n",
    "                       fontsize=8)\n",
    "\n",
    "# ax.set_ylim(1e-16, 3e-15)\n",
    "fig.tight_layout()"
   ]
  },
  {
   "attachments": {},
   "cell_type": "markdown",
   "metadata": {},
   "source": [
    "# plot_medians()"
   ]
  },
  {
   "cell_type": "code",
   "execution_count": null,
   "metadata": {},
   "outputs": [],
   "source": [
    "import holodeck.single_sources as ss"
   ]
  },
  {
   "cell_type": "code",
   "execution_count": null,
   "metadata": {},
   "outputs": [],
   "source": [
    "fig, ax = plot.figax(xlabel='Frequency $f_\\mathrm{obs}$ [1/yr]', \n",
    "                    ylabel='Characteristic Strain $h_c$', figsize=[10,4.5])\n",
    "ax.set_title(exname)\n",
    "xx = fobs * YR\n",
    "\n",
    "# plot medians without errorbars\n",
    "# ss.plot_medians(ax, xx, BG=hc_bg, SS=hc_ss,SS_COLOR='b',\n",
    "#                 BG_ERRORS=False, SS_ERRORS=False)\n",
    "\n",
    "# plot medians with errorbars\n",
    "ss.plot_medians(ax, xx, BG=hc_bg, SS=hc_ss, \n",
    "                BG_ERRORS=True, BG_COLOR='black',\n",
    "                SS_ERRORS=True, SS_COLOR='darkslateblue')\n",
    "\n",
    "legend_gwb = ax.legend(bbox_to_anchor=(.1,.15), \n",
    "                       bbox_transform=fig.transFigure, loc='lower left',\n",
    "                       fontsize=8)\n",
    "\n",
    "\n",
    "# ax.set_ylim(1e-16, 3e-15)\n",
    "fig.tight_layout()"
   ]
  },
  {
   "attachments": {},
   "cell_type": "markdown",
   "metadata": {},
   "source": [
    "# plot_BG()"
   ]
  },
  {
   "cell_type": "code",
   "execution_count": null,
   "metadata": {},
   "outputs": [],
   "source": [
    "fig, ax = plot.figax(xlabel='Frequency $f_\\mathrm{obs}$ [1/yr]', \n",
    "                    ylabel='Characteristic Strain $h_c$', figsize=[10,4.5])\n",
    "fig.suptitle(exname+' for %d Realizations' % hc_bg[1].shape)\n",
    "xx = fobs * YR\n",
    "\n",
    "# plot a reference, pure power-law  strain spectrum:   h_c(f) = 1e-15 * (f * yr) ^ -2/3\n",
    "yy = 1e-15 * np.power(xx, -2.0/3.0)\n",
    "ax.plot(xx, yy, 'k--', alpha=0.25, lw=2.0, label = 'pure power law')\n",
    "\n",
    "# plot the model without sampling\n",
    "hc_bg_exp = ss.ss_by_cdefs(edges, number, realize=False, round=False)[0]\n",
    "ax.plot(xx, hc_bg_exp, color='k', lw=4, ls = 'dotted', label='unsampled bg (ss subtracted)')\n",
    "\n",
    "# plot the model with Poisson sampling\n",
    "# ss.plot_GWB(ax, xx, hc_bg, LABEL='hc_bg, median of %d realizations' % hc_bg.shape[1], COLOR='b')\n",
    "ss.plot_BG(ax, xx, hc_bg, LABEL='hc_bg, median of %d realizations'% hc_bg.shape[1], REALS=hc_bg.shape[1], COLOR='b')\n",
    "\n",
    "\n",
    "legend_gwb = ax.legend(bbox_to_anchor=(.1,.15), bbox_transform=fig.transFigure, loc='lower left')\n",
    "fig.tight_layout()"
   ]
  },
  {
   "attachments": {},
   "cell_type": "markdown",
   "metadata": {},
   "source": [
    "# plot_samples()"
   ]
  },
  {
   "cell_type": "code",
   "execution_count": null,
   "metadata": {},
   "outputs": [],
   "source": [
    "import holodeck.single_sources as ss"
   ]
  },
  {
   "cell_type": "code",
   "execution_count": null,
   "metadata": {},
   "outputs": [],
   "source": [
    "fig, ax = plot.figax(xlabel='Frequency $f_\\mathrm{obs}$ [1/yr]', \n",
    "                    ylabel='Characteristic Strain $h_c$', figsize=[10,4.5])\n",
    "\n",
    "xx = fobs * YR\n",
    "\n",
    "# plot a reference, pure power-law  strain spectrum:   h_c(f) = 1e-15 * (f * yr) ^ -2/3\n",
    "yy = 1e-15 * np.power(xx, -2.0/3.0)\n",
    "ax.plot(xx, yy, 'k--', alpha=0.25, lw=2.0, label = 'pure power law')\n",
    "\n",
    "# plot the model without sampling\n",
    "hc_bg_exp = ss.ss_by_cdefs(edges, number, realize=False, round=False)[0]\n",
    "ax.plot(xx, hc_bg_exp, color='k', lw=4, ls = 'dotted', label='unsampled background')\n",
    "\n",
    "# plot the model with Poisson sampling\n",
    "# ss.plot_BG(ax, xx, hc_bg, LABEL='hc_bg, median of %d realizations'% hc_bg.shape[1], REALS=1, COLOR='b')\n",
    "ss.plot_samples(ax, xx, hc_bg, hc_ss, REALS=5)\n",
    "\n",
    "legend_gwb = ax.legend(bbox_to_anchor=(.1,.15), bbox_transform=fig.transFigure, loc='lower left')\n",
    "fig.tight_layout()"
   ]
  },
  {
   "attachments": {},
   "cell_type": "markdown",
   "metadata": {},
   "source": [
    "# plot_std() / plot_IQR()"
   ]
  },
  {
   "cell_type": "code",
   "execution_count": null,
   "metadata": {},
   "outputs": [],
   "source": [
    "# IQR and Stdev \n",
    "fig, ax = plot.figax(xlabel='Frequency $f_\\mathrm{obs}$ [1/yr]', \n",
    "                    ylabel=r'$h_c$ b/t 30 realizations', figsize=[10,4.5])\n",
    "ax.set_title(exname+' IQR and Stdev over 30 Realizations')\n",
    "xx = fobs * YR\n",
    "\n",
    "ss.plot_std(ax, xx, hc_bg, hc_ss, COLOR='black')\n",
    "ss.plot_IQR(ax, xx, hc_bg, hc_ss, COLOR='mediumorchid')\n",
    "\n",
    "legend_gwb = ax.legend(bbox_to_anchor=(.11,.93), bbox_transform=fig.transFigure, \n",
    "        loc='upper left', ncol = 2)\n",
    "fig.tight_layout()"
   ]
  },
  {
   "cell_type": "markdown",
   "metadata": {},
   "source": [
    "# Percentiles"
   ]
  },
  {
   "cell_type": "code",
   "execution_count": null,
   "metadata": {},
   "outputs": [],
   "source": [
    "# Plot percentiles\n",
    "fig, ax = plot.figax(xlabel='Frequency $f_\\mathrm{obs}$ [1/yr]', \n",
    "                    ylabel='Characteristic Strain $h_c$', figsize=[10,4.5])\n",
    "ax.set_title(exname+', 25th-75th Percentiles')\n",
    "xx = fobs * YR\n",
    "\n",
    "# plot a reference, pure power-law  strain spectrum:   h_c(f) = 1e-15 * (f * yr) ^ -2/3\n",
    "yy = 1e-15 * np.power(xx, -2.0/3.0)\n",
    "ax.plot(xx, yy, 'k--', alpha=0.25, lw=2.0, label = 'pure power law')\n",
    "\n",
    "# plot the 25th-75th percentiles of both\n",
    "ss.plot_percentiles(ax, xx, BG=hc_bg, SS=hc_ss, LABEL='50%',\n",
    "                    BG_COLOR='black', SS_COLOR='mediumorchid')\n",
    "\n",
    "\n",
    "legend_gwb = ax.legend(bbox_to_anchor=(.13,.15), bbox_transform=fig.transFigure, loc='lower left')\n",
    "fig.tight_layout()"
   ]
  },
  {
   "attachments": {},
   "cell_type": "markdown",
   "metadata": {},
   "source": [
    "# plot_params()"
   ]
  },
  {
   "cell_type": "code",
   "execution_count": null,
   "metadata": {},
   "outputs": [],
   "source": [
    "hc_ss, hc_bg, ssidx, hsamp, bgpar, sspar = ss.ss_by_cdefs(edges, number, 30, params=True)"
   ]
  },
  {
   "cell_type": "markdown",
   "metadata": {},
   "source": [
    "showing everything, full chaos"
   ]
  },
  {
   "cell_type": "code",
   "execution_count": null,
   "metadata": {},
   "outputs": [],
   "source": [
    "fig, axs = plt.subplots(2, 2, figsize=(10,6), sharex=True)\n",
    "fig.suptitle(('Parameters of Loudest Single Sources in %d Realizations of ' % hc_bg.shape[1])\n",
    "             +exname)\n",
    "\n",
    "grid = np.empty((2,2), dtype=list)\n",
    "grid[0,0] = edges[0]/MSOL\n",
    "grid[0,1] = edges[1]\n",
    "grid[1,0] = edges[2]\n",
    "grid[1,1] = edges[3]\n",
    "xx = fobs * YR\n",
    "\n",
    "bg_marr = bgpar[0,:,:]\n",
    "bg_qarr = bgpar[1,:,:]\n",
    "bg_zarr = bgpar[2,:,:]\n",
    "bg_params = np.array([[bg_marr/MSOL, bg_qarr], [bg_zarr, hc_bg]])\n",
    "\n",
    "ss_marr = sspar[0,:,:]\n",
    "ss_qarr = sspar[1,:,:]\n",
    "ss_zarr = sspar[2,:,:]\n",
    "ss_params = np.array([[ss_marr/MSOL, ss_qarr], [ss_zarr, hc_ss]])\n",
    "\n",
    "\n",
    "ss.plot_params(axs, xx, grid=grid, REALS=5, \n",
    "               BG_PARAMS=bg_params, SS_PARAMS=ss_params)\n",
    "\n",
    "\n",
    "\n",
    "fig.tight_layout()"
   ]
  },
  {
   "cell_type": "markdown",
   "metadata": {},
   "source": [
    "remove grid -> zoom"
   ]
  },
  {
   "cell_type": "code",
   "execution_count": null,
   "metadata": {},
   "outputs": [],
   "source": [
    "fig, axs = plt.subplots(2, 2, figsize=(10,6), sharex=True)\n",
    "fig.suptitle(('Parameters of Loudest Single Sources in %d Realizations of ' % hc_bg.shape[1])\n",
    "             +exname)\n",
    "\n",
    "grid = np.empty((2,2), dtype=list)\n",
    "grid[0,0] = edges[0]/MSOL\n",
    "grid[0,1] = edges[1]\n",
    "grid[1,0] = edges[2]\n",
    "grid[1,1] = edges[3]\n",
    "xx = fobs * YR\n",
    "\n",
    "bg_marr = bgpar[0,:,:]\n",
    "bg_qarr = bgpar[1,:,:]\n",
    "bg_zarr = bgpar[2,:,:]\n",
    "bg_params = np.array([[bg_marr/MSOL, bg_qarr], [bg_zarr, hc_bg]])\n",
    "\n",
    "ss_marr = sspar[0,:,:]\n",
    "ss_qarr = sspar[1,:,:]\n",
    "ss_zarr = sspar[2,:,:]\n",
    "ss_params = np.array([[ss_marr/MSOL, ss_qarr], [ss_zarr, hc_ss]])\n",
    "\n",
    "\n",
    "ss.plot_params(axs, xx, grid=grid, REALS=5, \n",
    "               BG_PARAMS=bg_params, SS_PARAMS=ss_params)\n",
    "\n",
    "\n",
    "fig.tight_layout()"
   ]
  },
  {
   "cell_type": "markdown",
   "metadata": {},
   "source": [
    "remove errorbars"
   ]
  },
  {
   "cell_type": "code",
   "execution_count": null,
   "metadata": {},
   "outputs": [],
   "source": [
    "fig, axs = plt.subplots(2, 2, figsize=(10,6), sharex=True)\n",
    "fig.suptitle(('Paremeters of Loudest Single Sources in %d Realizations of ' % hc_bg.shape[1])\n",
    "             +exname)\n",
    "\n",
    "grid = np.empty((2,2), dtype=list)\n",
    "grid[0,0] = edges[0]/MSOL\n",
    "grid[0,1] = edges[1]\n",
    "grid[1,0] = edges[2]\n",
    "grid[1,1] = edges[3]\n",
    "xx = fobs * YR\n",
    "\n",
    "bg_marr = bgpar[0,:,:]\n",
    "bg_qarr = bgpar[1,:,:]\n",
    "bg_zarr = bgpar[2,:,:]\n",
    "bg_params = np.array([[bg_marr/MSOL, bg_qarr], [bg_zarr, hc_bg]])\n",
    "\n",
    "ss_marr = sspar[0,:,:]\n",
    "ss_qarr = sspar[1,:,:]\n",
    "ss_zarr = sspar[2,:,:]\n",
    "ss_params = np.array([[ss_marr/MSOL, ss_qarr], [ss_zarr, hc_ss]])\n",
    "\n",
    "\n",
    "ss.plot_params(axs, xx, REALS=5, \n",
    "               BG_PARAMS=bg_params, SS_PARAMS=ss_params,\n",
    "               BG_ERRORS=False, SS_ERRORS=False,\n",
    "               BG_COLOR='k', SS_COLOR='k')\n",
    "\n",
    "\n",
    "fig.tight_layout()"
   ]
  },
  {
   "cell_type": "markdown",
   "metadata": {},
   "source": [
    "just medians & errors, no reals"
   ]
  },
  {
   "cell_type": "code",
   "execution_count": null,
   "metadata": {},
   "outputs": [],
   "source": [
    "fig, axs = plt.subplots(2, 2, figsize=(10,6), sharex=True)\n",
    "fig.suptitle(('Parameters of Loudest Single Sources in %d Realizations of ' % hc_bg.shape[1])\n",
    "             +exname)\n",
    "\n",
    "grid = np.empty((2,2), dtype=list)\n",
    "grid[0,0] = edges[0]/MSOL\n",
    "grid[0,1] = edges[1]\n",
    "grid[1,0] = edges[2]\n",
    "grid[1,1] = edges[3]\n",
    "xx = fobs * YR\n",
    "\n",
    "bg_marr = bgpar[0,:,:]\n",
    "bg_qarr = bgpar[1,:,:]\n",
    "bg_zarr = bgpar[2,:,:]\n",
    "bg_params = np.array([[bg_marr/MSOL, bg_qarr], [bg_zarr, hc_bg]])\n",
    "\n",
    "ss_marr = sspar[0,:,:]\n",
    "ss_qarr = sspar[1,:,:]\n",
    "ss_zarr = sspar[2,:,:]\n",
    "ss_params = np.array([[ss_marr/MSOL, ss_qarr], [ss_zarr, hc_ss]])\n",
    "\n",
    "\n",
    "ss.plot_params(axs, xx, REALS=0, \n",
    "               BG_PARAMS=bg_params, SS_PARAMS=ss_params,\n",
    "               BG_ERRORS=True, SS_ERRORS=True)\n",
    "\n",
    "\n",
    "fig.tight_layout()"
   ]
  },
  {
   "cell_type": "markdown",
   "metadata": {},
   "source": [
    "just reals, no errorbars or medians"
   ]
  },
  {
   "cell_type": "code",
   "execution_count": null,
   "metadata": {},
   "outputs": [],
   "source": [
    "fig, axs = plt.subplots(2, 2, figsize=(10,6), sharex=True)\n",
    "fig.suptitle(('Parameters of Loudest Single Sources in %d Realizations of ' % hc_bg.shape[1])\n",
    "             +exname)\n",
    "\n",
    "grid = np.empty((2,2), dtype=list)\n",
    "grid[0,0] = edges[0]/MSOL\n",
    "grid[0,1] = edges[1]\n",
    "grid[1,0] = edges[2]\n",
    "grid[1,1] = edges[3]\n",
    "xx = fobs * YR\n",
    "\n",
    "bg_marr = bgpar[0,:,:]\n",
    "bg_qarr = bgpar[1,:,:]\n",
    "bg_zarr = bgpar[2,:,:]\n",
    "bg_params = np.array([[bg_marr/MSOL, bg_qarr], [bg_zarr, hc_bg]])\n",
    "\n",
    "ss_marr = sspar[0,:,:]\n",
    "ss_qarr = sspar[1,:,:]\n",
    "ss_zarr = sspar[2,:,:]\n",
    "ss_params = np.array([[ss_marr/MSOL, ss_qarr], [ss_zarr, hc_ss]])\n",
    "\n",
    "\n",
    "ss.plot_params(axs, xx, REALS=5, \n",
    "               BG_PARAMS=bg_params, SS_PARAMS=ss_params,\n",
    "               BG_MEDIAN=False, SS_MEDIAN=False)\n",
    "\n",
    "\n",
    "fig.tight_layout()"
   ]
  }
 ],
 "metadata": {
  "kernelspec": {
   "display_name": "holo310",
   "language": "python",
   "name": "python3"
  },
  "language_info": {
   "codemirror_mode": {
    "name": "ipython",
    "version": 3
   },
   "file_extension": ".py",
   "mimetype": "text/x-python",
   "name": "python",
   "nbconvert_exporter": "python",
   "pygments_lexer": "ipython3",
   "version": "3.10.10"
  }
 },
 "nbformat": 4,
 "nbformat_minor": 2
}
