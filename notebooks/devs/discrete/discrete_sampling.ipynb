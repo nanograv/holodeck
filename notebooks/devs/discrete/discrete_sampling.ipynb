{
 "cells": [
  {
   "cell_type": "markdown",
   "metadata": {},
   "source": [
    "This notebook is for testing/developing the sampling of `_Population_Discrete` models, typically the `Discrete_Illustris` population model.  (Re)Sampling of the population is performed using `kalepy`."
   ]
  },
  {
   "cell_type": "code",
   "execution_count": null,
   "metadata": {},
   "outputs": [],
   "source": [
    "# %load ../notebooks/init.ipy\n",
    "%reload_ext autoreload\n",
    "%autoreload 2\n",
    "\n",
    "# Builtin packages\n",
    "from importlib import reload\n",
    "import logging\n",
    "import os\n",
    "from pathlib import Path\n",
    "import sys\n",
    "import warnings\n",
    "\n",
    "# standard secondary packages\n",
    "import astropy as ap\n",
    "import h5py\n",
    "import matplotlib as mpl\n",
    "import matplotlib.pyplot as plt\n",
    "import numpy as np\n",
    "import scipy as sp\n",
    "import scipy.stats\n",
    "import tqdm.notebook as tqdm\n",
    "\n",
    "# development packages\n",
    "import kalepy as kale\n",
    "import kalepy.utils\n",
    "import kalepy.plot\n",
    "\n",
    "# --- Holodeck ----\n",
    "import holodeck as holo\n",
    "import holodeck.sam\n",
    "from holodeck import cosmo, utils, plot\n",
    "from holodeck.constants import MSOL, PC, YR, MPC, GYR\n",
    "import holodeck.gravwaves\n",
    "\n",
    "# Silence annoying numpy errors\n",
    "np.seterr(divide='ignore', invalid='ignore', over='ignore')\n",
    "warnings.filterwarnings(\"ignore\", category=UserWarning)\n",
    "\n",
    "# Plotting settings\n",
    "mpl.rc('font', **{'family': 'serif', 'sans-serif': ['Times'], 'size': 15})\n",
    "mpl.rc('lines', solid_capstyle='round')\n",
    "mpl.rc('mathtext', fontset='cm')\n",
    "mpl.style.use('default')   # avoid dark backgrounds from dark theme vscode\n",
    "plt.rcParams.update({'grid.alpha': 0.5})\n",
    "\n",
    "# Load log and set logging level\n",
    "log = holo.log\n",
    "log.setLevel(logging.INFO)"
   ]
  },
  {
   "cell_type": "code",
   "execution_count": null,
   "metadata": {},
   "outputs": [],
   "source": [
    "import holodeck.extensions\n",
    "\n",
    "fobs_gw = holo.utils.nyquist_freqs(dur=10.0*YR, cad=0.1*YR)\n",
    "\n",
    "fobs_orb = fobs_gw / 2.0\n",
    "realizer = holo.extensions.Realizer(fobs_orb)"
   ]
  },
  {
   "cell_type": "code",
   "execution_count": null,
   "metadata": {},
   "outputs": [],
   "source": [
    "samples = []\n",
    "for ii in tqdm.trange(4):\n",
    "    nn, samps = realizer()\n",
    "    samples.append(samps)"
   ]
  },
  {
   "cell_type": "markdown",
   "metadata": {},
   "source": [
    "## Calculate GWB Without fully sampling the Universe"
   ]
  },
  {
   "cell_type": "code",
   "execution_count": null,
   "metadata": {},
   "outputs": [],
   "source": [
    "resamp = holo.population.PM_Resample(1.0)\n",
    "pop = holo.population.Pop_Illustris(mods=resamp)\n",
    "print(f\"{pop.size=}\")\n",
    "\n",
    "fixed = holo.hardening.Fixed_Time.from_pop(pop, 2.0 * GYR)\n",
    "evo = holo.evolution.Evolution(pop, fixed)\n",
    "evo.evolve()"
   ]
  },
  {
   "cell_type": "code",
   "execution_count": null,
   "metadata": {},
   "outputs": [],
   "source": [
    "# construct sampling frequencies\n",
    "freqs_volumetric = holo.utils.nyquist_freqs(dur=10.0*YR, cad=0.1*YR)\n",
    "# calculate discretized GW signals\n",
    "gwb_volumetric = holo.gravwaves.GW_Discrete(evo, freqs_volumetric, nreals=100)\n",
    "gwb_volumetric.emit()"
   ]
  },
  {
   "cell_type": "markdown",
   "metadata": {},
   "source": [
    "# Compare Different GWB Calculation methods"
   ]
  },
  {
   "cell_type": "code",
   "execution_count": null,
   "metadata": {},
   "outputs": [],
   "source": [
    "def _calc(fobs_gw_edges, evo):\n",
    "    fobs_gw_cents = kale.utils.midpoints(fobs_gw_edges, log=False)\n",
    "    dlnf = np.diff(np.log(fobs_gw_edges))\n",
    "\n",
    "    PARAMS = ['mass', 'sepa', 'dadt', 'scafa']\n",
    "    # convert from GW to orbital frequencies\n",
    "    fobs_orb_cents = fobs_gw_cents / 2.0\n",
    "    fobs_orb_edges = fobs_gw_edges / 2.0\n",
    "    data_fobs = evo.at('fobs', fobs_orb_cents, params=PARAMS)\n",
    "    \n",
    "    redz = cosmo.a_to_z(data_fobs['scafa'])\n",
    "    valid = (redz > 0.0)\n",
    "    # rest-frame GW-frequencies\n",
    "    frst_gw_cents = utils.frst_from_fobs(fobs_gw_cents[np.newaxis, :], redz)\n",
    "    frst_orb_cents = frst_gw_cents / 2.0\n",
    "    dcom = cosmo.z_to_dcom(redz)\n",
    "    m1, m2 = np.moveaxis(data_fobs['mass'], -1, 0)\n",
    "    # convert from GW- to orbital-fequencies\n",
    "    dfdt, _ = utils.dfdt_from_dadt(data_fobs['dadt'], data_fobs['sepa'], frst_orb=frst_orb_cents)\n",
    "\n",
    "    _lambda_factor = utils.lambda_factor_dlnf(frst_orb_cents, dfdt, redz, dcom=dcom) / evo._sample_volume\n",
    "    num_binaries = _lambda_factor * dlnf[np.newaxis, :]\n",
    "\n",
    "    # ! ---- Direct ----\n",
    "    mchirp = utils.chirp_mass(m1, m2)\n",
    "    hs2 = utils.gw_strain_source(mchirp, dcom, frst_orb_cents)**2\n",
    "    gwb_direct = np.zeros_like(hs2)\n",
    "    gwb_direct[valid] = hs2[valid] * np.random.poisson(num_binaries[valid])\n",
    "    gwb_direct = np.sum(gwb_direct, axis=0) / dlnf\n",
    "    gwb_direct = np.sqrt(gwb_direct)\n",
    "\n",
    "\n",
    "    # ! ---- Sample Values ----\n",
    "    # select only valid entries\n",
    "    mt, mr = utils.mtmr_from_m1m2(m1[valid], m2[valid])\n",
    "    # broadcast `fobs` to match the shape of binaries, then select valid entries\n",
    "    fo = (fobs_orb_cents[np.newaxis, :] * np.ones_like(redz))[valid]\n",
    "    redz = redz[valid]\n",
    "    weights = num_binaries[valid]\n",
    "\n",
    "    vals = np.asarray([mt, mr, redz, fo])\n",
    "    weights = np.random.poisson(weights)\n",
    "    *_, gwb_vals = holo.gravwaves._gws_from_samples(vals, weights, fobs_gw_edges)\n",
    "    \n",
    "\n",
    "    # ! ---- Sample Full Universe ---- ! #    \n",
    "    names, samples, other_direct, _vals, _vals_weights = evo._sample_universe(fobs_orb_edges, down_sample=None)\n",
    "    # fo = samples[-1]\n",
    "    # print(f\"{freqs[0]*YR=}, {freqs[1]*YR=}\")\n",
    "    # print(f\"{utils.stats(fo*YR)=}\")\n",
    "    # print(f\"{utils.frac_str(fo < freqs[1])=}\")\n",
    "    # raise\n",
    "\n",
    "    weights = np.ones_like(samples[0])\n",
    "    _, _gwf, _gwb = holo.gravwaves._gws_from_samples(samples, weights, freqs)\n",
    "    gwb_samples = np.linalg.norm([_gwf, _gwb], axis=0)    \n",
    "    \n",
    "    return gwb_direct, gwb_vals, other_direct, gwb_samples\n",
    "\n",
    "\n",
    "def calc(fobs_gw_edges, evo, nreals):\n",
    "    shape = (fobs_gw_edges.size - 1, nreals)\n",
    "    gwb_direct = np.zeros(shape)\n",
    "    other_direct = np.zeros(shape)\n",
    "    gwb_samples = np.zeros(shape)\n",
    "    gwb_vals = np.zeros(shape)\n",
    "    for rr in tqdm.trange(nreals):\n",
    "        gwb_direct[:, rr], gwb_vals[:, rr], other_direct[:, rr], gwb_samples[:, rr] = _calc(fobs_gw_edges, evo)\n",
    "\n",
    "    return gwb_direct, gwb_vals, other_direct, gwb_samples\n",
    "\n",
    "freqs = holo.utils.nyquist_freqs(dur=1*YR, cad=0.01*YR)\n",
    "gwb_direct, gwb_vals, other_direct, gwb_samples = calc(freqs, evo, nreals=30)\n",
    "gwb_volumetric = holo.gravwaves.GW_Discrete(evo, freqs, nreals=100)\n",
    "gwb_volumetric.emit()"
   ]
  },
  {
   "cell_type": "code",
   "execution_count": null,
   "metadata": {},
   "outputs": [],
   "source": [
    "fig, ax = plot.figax(figsize=[10, 8], xlabel='Frequency $[\\mathrm{yr}^{-1}]$', ylabel='Characteristic Strain')\n",
    "plot._twin_hz(ax)\n",
    "\n",
    "\n",
    "# ---- Discrete\n",
    "gwb_list = [gwb_direct, gwb_vals, gwb_samples, gwb_volumetric.both]\n",
    "gwb_names = ['gwb_direct', 'gwb_vals', 'samples', 'gwb_volumetric']\n",
    "# gwb_list = [gwb_samples, gwb_volumetric.both]\n",
    "# gwb_names = ['samples', 'gwb_volumetric']\n",
    "xvals_list = [freqs*YR] * len(gwb_list)\n",
    "xx = utils.minmax(np.concatenate(xvals_list))\n",
    "plot._draw_plaw(ax, xx, 1e-15, 1)\n",
    "kw = dict(yfilter=True, percs=[10, 90])\n",
    "for xx, gwb, lab in zip(xvals_list, gwb_list, gwb_names):\n",
    "    hh, _ = plot.draw_med_conf(ax, xx, gwb, label=lab, **kw)\n",
    "    col = hh.get_color()\n",
    "    size = gwb.shape[1]\n",
    "    sel = np.min([size, 5])\n",
    "    sel = np.random.choice(size, sel, replace=False)\n",
    "\n",
    "    xx = kale.utils.midpoints(xx) if xx.size == gwb.shape[0]+1 else xx\n",
    "    ax.plot(xx, gwb[:, sel], color=col, alpha=0.35, lw=0.5)\n",
    "\n",
    "# ax.set(xlim=[1, 10], ylim=[1e-17, 2e-15])\n",
    "ax.legend()\n",
    "plt.show()"
   ]
  },
  {
   "cell_type": "markdown",
   "metadata": {},
   "source": [
    "## Fully sample Universe"
   ]
  },
  {
   "cell_type": "code",
   "execution_count": null,
   "metadata": {},
   "outputs": [],
   "source": [
    "NUM = 10\n",
    "freqs_samples = np.logspace(0, 1, NUM) / YR\n",
    "\n",
    "names, samples_10 = evo._sample_universe(freqs_samples)\n",
    "num_samp_10 = samples_10[0].size\n",
    "print(names, samples_10[0].shape, f\"{num_samp_10:.4e}\")"
   ]
  },
  {
   "cell_type": "code",
   "execution_count": null,
   "metadata": {},
   "outputs": [],
   "source": [
    "print(names, samples_10[0].shape, f\"{num_samp_10:.4e}\")"
   ]
  },
  {
   "cell_type": "code",
   "execution_count": null,
   "metadata": {},
   "outputs": [],
   "source": [
    "fobs = holo.utils.nyquist_freqs(dur=1.0*YR, cad=0.1*YR)"
   ]
  },
  {
   "cell_type": "code",
   "execution_count": null,
   "metadata": {},
   "outputs": [],
   "source": [
    "weights_10 = np.ones_like(samples_10[0])\n",
    "gff_10, gwf_10, gwb_10 = holo.sam._gws_from_samples(samples_10, weights_10, fobs)"
   ]
  },
  {
   "cell_type": "code",
   "execution_count": null,
   "metadata": {},
   "outputs": [],
   "source": [
    "NUM = 100\n",
    "freqs_samples = np.logspace(0, 1, NUM) / YR\n",
    "\n",
    "names, samples_100 = evo._sample_universe(freqs_samples)\n",
    "num_samp_100 = samples_100[0].size\n",
    "print(names, samples_100[0].shape, f\"{num_samp_100:.4e}\")"
   ]
  },
  {
   "cell_type": "code",
   "execution_count": null,
   "metadata": {},
   "outputs": [],
   "source": [
    "print(names, samples_100[0].shape, f\"{num_samp_100:.4e}\")"
   ]
  },
  {
   "cell_type": "code",
   "execution_count": null,
   "metadata": {},
   "outputs": [],
   "source": [
    "weights_100 = np.ones_like(samples_100[0])\n",
    "gff_100, gwf_100, gwb_100 = holo.sam._gws_from_samples(samples_100, weights_100, fobs)"
   ]
  },
  {
   "cell_type": "code",
   "execution_count": null,
   "metadata": {},
   "outputs": [],
   "source": [
    "fig, ax = plot.figax(xlabel='Frequency $[\\mathrm{yr}^{-1}]$', ylabel='Characteristic Strain')\n",
    "plot._twin_hz(ax)\n",
    "\n",
    "xx = freqs_volumetric * YR\n",
    "med, *conf = np.percentile(gwb_volumetric.back, [50, 25, 75], axis=-1)\n",
    "hh, = ax.plot(xx, med, 'k--')\n",
    "ax.fill_between(xx, *conf, alpha=0.1, color=hh.get_color())\n",
    "\n",
    "xx = gff_10 * YR\n",
    "hh = ax.scatter(xx, gwf_10)\n",
    "plot.draw_hist_steps(ax, fobs*YR, gwb_10, color=hh.get_facecolor())\n",
    "\n",
    "xx = gff_100 * YR\n",
    "hh = ax.scatter(xx, gwf_100)\n",
    "plot.draw_hist_steps(ax, fobs*YR, gwb_100, color=hh.get_facecolor())\n",
    "\n",
    "\n",
    "plt.show()"
   ]
  },
  {
   "cell_type": "markdown",
   "metadata": {},
   "source": [
    "## Test"
   ]
  },
  {
   "cell_type": "code",
   "execution_count": null,
   "metadata": {},
   "outputs": [],
   "source": [
    "# construct sampling frequencies\n",
    "freqs_volumetric = holo.utils.nyquist_freqs(dur=10.0*YR, cad=0.1*YR)\n",
    "# calculate discretized GW signals\n",
    "gwb_volumetric = holo.gravwaves.GW_Discrete(evo, freqs_volumetric, nreals=100)\n",
    "gwb_volumetric.emit()"
   ]
  },
  {
   "cell_type": "code",
   "execution_count": null,
   "metadata": {},
   "outputs": [],
   "source": [
    "# NUM = 10\n",
    "# DOWN = None\n",
    "DOWN = 1e2\n",
    "# freqs = np.logspace(0, 1, NUM) / YR\n",
    "# fobs = holo.utils.nyquist_freqs(dur=10.0*YR, cad=0.1*YR)\n",
    "fobs = holo.utils.nyquist_freqs(dur=10.0*YR, cad=2*YR)\n",
    "# fobs = holo.utils.nyquist_freqs(dur=1.0*YR, cad=0.1*YR)\n",
    "freqs = fobs\n",
    "\n",
    "REALS = 10\n",
    "gff = np.zeros((fobs.size - 1, REALS))\n",
    "gwf = np.zeros_like(gff)\n",
    "gwb = np.zeros_like(gff)\n",
    "check_direct = np.zeros_like(gff)\n",
    "check_vals = np.zeros_like(gff)\n",
    "for rr in tqdm.trange(REALS):\n",
    "    names, samples, check_direct[:, rr], vals, vals_weights = evo._sample_universe(freqs, down_sample=DOWN)\n",
    "    weights = np.ones_like(samples[0])\n",
    "    if DOWN is not None:\n",
    "        weights *= DOWN\n",
    "        vals_weights *= DOWN\n",
    "    gff[:, rr], gwf[:, rr], gwb[:, rr] = holo.gravwaves._gws_from_samples(samples, weights, fobs)\n",
    "    _gff, _gwf, check_vals[:, rr] = holo.gravwaves._gws_from_samples(vals, np.random.poisson(vals_weights), fobs)\n",
    "    check_vals[:, rr] = np.sqrt(check_vals[:, rr]**2 + _gwf**2)"
   ]
  },
  {
   "cell_type": "code",
   "execution_count": null,
   "metadata": {},
   "outputs": [],
   "source": [
    "fig, ax = plot.figax(xlabel='Frequency $[\\mathrm{yr}^{-1}]$', ylabel='Characteristic Strain')\n",
    "plot._twin_hz(ax)\n",
    "plot._draw_plaw(ax, [0.1, 10], 1e-15, 1)\n",
    "\n",
    "xx = freqs_volumetric * YR\n",
    "plot.draw_med_conf(ax, xx, gwb_volumetric.back, color='k', label='volumetric')\n",
    "\n",
    "xx = fobs * YR\n",
    "plot.draw_med_conf(ax, xx, check_direct, label='direct')\n",
    "plot.draw_med_conf(ax, xx, check_vals, label='vals')\n",
    "\n",
    "gwb_both = np.sqrt(gwb**2 + gwf**2)\n",
    "plot.draw_med_conf(ax, xx, gwb_both, label='samples')\n",
    "\n",
    "ax.legend()\n",
    "plt.show()"
   ]
  },
  {
   "cell_type": "code",
   "execution_count": null,
   "metadata": {},
   "outputs": [],
   "source": [
    "NUM = 10\n",
    "DOWN = None\n",
    "freqs = np.logspace(0, 1, NUM) / YR\n",
    "fobs = holo.utils.nyquist_freqs(dur=1.0*YR, cad=0.1*YR)\n",
    "\n",
    "names, samples = evo._sample_universe(freqs, down_sample=DOWN)\n",
    "num_samp = samples[0].size\n",
    "print(names, samples[0].shape, f\"{num_samp:.4e}\")\n",
    "\n",
    "weights = np.ones_like(samples[0])\n",
    "if DOWN is not None:\n",
    "    weights *= DOWN\n",
    "gff, gwf, gwb = holo.sam._gws_from_samples(samples, weights, fobs)\n",
    "\n",
    "\n",
    "fig, ax = plot.figax(xlabel='Frequency $[\\mathrm{yr}^{-1}]$', ylabel='Characteristic Strain')\n",
    "plot._twin_hz(ax)\n",
    "\n",
    "xx = freqs_volumetric * YR\n",
    "med, *conf = np.percentile(gwb_volumetric.back, [50, 25, 75], axis=-1)\n",
    "hh, = ax.plot(xx, med, 'k--')\n",
    "ax.fill_between(xx, *conf, alpha=0.1, color=hh.get_color())\n",
    "\n",
    "xx = gff * YR\n",
    "hh = ax.scatter(xx, gwf)\n",
    "plot.draw_hist_steps(ax, fobs*YR, gwb, color=hh.get_facecolor())\n",
    "\n",
    "plt.show()"
   ]
  },
  {
   "cell_type": "code",
   "execution_count": null,
   "metadata": {},
   "outputs": [],
   "source": [
    "NUM = 100\n",
    "DOWN = None\n",
    "freqs = np.logspace(0, 1, NUM) / YR\n",
    "fobs = holo.utils.nyquist_freqs(dur=1.0*YR, cad=0.1*YR)\n",
    "\n",
    "names, samples = evo._sample_universe(freqs, down_sample=DOWN)\n",
    "num_samp = samples[0].size\n",
    "print(names, samples[0].shape, f\"{num_samp:.4e}\")\n",
    "\n",
    "weights = np.ones_like(samples[0])\n",
    "if DOWN is not None:\n",
    "    weights *= DOWN\n",
    "gff, gwf, gwb = holo.sam._gws_from_samples(samples, weights, fobs)\n",
    "\n",
    "\n",
    "fig, ax = plot.figax(xlabel='Frequency $[\\mathrm{yr}^{-1}]$', ylabel='Characteristic Strain')\n",
    "plot._twin_hz(ax)\n",
    "\n",
    "xx = freqs_volumetric * YR\n",
    "med, *conf = np.percentile(gwb_volumetric.back, [50, 25, 75], axis=-1)\n",
    "hh, = ax.plot(xx, med, 'k--')\n",
    "ax.fill_between(xx, *conf, alpha=0.1, color=hh.get_color())\n",
    "\n",
    "xx = gff * YR\n",
    "hh = ax.scatter(xx, gwf)\n",
    "plot.draw_hist_steps(ax, fobs*YR, gwb, color=hh.get_facecolor())\n",
    "\n",
    "plt.show()"
   ]
  },
  {
   "cell_type": "code",
   "execution_count": null,
   "metadata": {},
   "outputs": [],
   "source": [
    "NUM = 100\n",
    "DOWN = None\n",
    "freqs = np.logspace(0, 1, NUM) / YR\n",
    "fobs = holo.utils.nyquist_freqs(dur=1.0*YR, cad=0.1*YR)\n",
    "\n",
    "names, samples = evo._sample_universe(freqs, down_sample=DOWN)\n",
    "num_samp = samples[0].size\n",
    "print(names, samples[0].shape, f\"{num_samp:.4e}\")\n",
    "\n",
    "weights = np.ones_like(samples[0])\n",
    "if DOWN is not None:\n",
    "    weights *= DOWN\n",
    "gff, gwf, gwb = holo.sam._gws_from_samples(samples, weights, fobs)\n",
    "\n",
    "\n",
    "fig, ax = plot.figax(xlabel='Frequency $[\\mathrm{yr}^{-1}]$', ylabel='Characteristic Strain')\n",
    "plot._twin_hz(ax)\n",
    "\n",
    "xx = freqs_volumetric * YR\n",
    "med, *conf = np.percentile(gwb_volumetric.back, [50, 25, 75], axis=-1)\n",
    "hh, = ax.plot(xx, med, 'k--')\n",
    "ax.fill_between(xx, *conf, alpha=0.1, color=hh.get_color())\n",
    "\n",
    "xx = gff * YR\n",
    "hh = ax.scatter(xx, gwf)\n",
    "plot.draw_hist_steps(ax, freqs*YR, gwb, color=hh.get_facecolor())\n",
    "\n",
    "plt.show()"
   ]
  },
  {
   "cell_type": "markdown",
   "metadata": {},
   "source": [
    "## Other"
   ]
  },
  {
   "cell_type": "markdown",
   "metadata": {},
   "source": [
    "There should be a better way to sample in frequencies because we know the power-law index of the hardening rate (and thus the expected number) of sources vs. frequencies.\n",
    "* Do normal `kalepy` resampling, and then override the frequencies manually?\n",
    "* Do grid-resampling in frequency, and KDE resampling for other parameters?"
   ]
  }
 ],
 "metadata": {
  "kernelspec": {
   "display_name": "Python 3.10.2 ('py310')",
   "language": "python",
   "name": "python3"
  },
  "language_info": {
   "codemirror_mode": {
    "name": "ipython",
    "version": 3
   },
   "file_extension": ".py",
   "mimetype": "text/x-python",
   "name": "python",
   "nbconvert_exporter": "python",
   "pygments_lexer": "ipython3",
   "version": "3.10.2"
  },
  "vscode": {
   "interpreter": {
    "hash": "1f0c7602c82e39efa19a01e5e068584db7a6d17aff8711ab06660aac81377393"
   }
  }
 },
 "nbformat": 4,
 "nbformat_minor": 2
}
