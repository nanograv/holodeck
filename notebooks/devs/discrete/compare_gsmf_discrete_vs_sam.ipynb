{
 "cells": [
  {
   "cell_type": "code",
   "execution_count": null,
   "id": "0",
   "metadata": {
    "tags": []
   },
   "outputs": [],
   "source": [
    "%reload_ext autoreload\n",
    "%autoreload 2\n",
    "from importlib import reload\n",
    "\n",
    "import os\n",
    "import sys\n",
    "\n",
    "import logging\n",
    "import warnings\n",
    "import numpy as np\n",
    "import astropy as ap\n",
    "import scipy as sp\n",
    "import scipy.stats\n",
    "import matplotlib as mpl\n",
    "import matplotlib.pyplot as plt\n",
    "\n",
    "import h5py\n",
    "import tqdm.notebook as tqdm\n",
    "\n",
    "import kalepy as kale\n",
    "import kalepy.utils\n",
    "import kalepy.plot\n",
    "\n",
    "import holodeck as holo\n",
    "import holodeck.sams\n",
    "import holodeck.gravwaves\n",
    "from holodeck import cosmo, utils, plot, discrete, sams, host_relations, _PATH_DATA\n",
    "from holodeck.constants import MSOL, PC, YR, MPC, GYR, SPLC\n",
    "from pathlib import Path\n",
    "\n",
    "# Silence annoying numpy errors\n",
    "np.seterr(divide='ignore', invalid='ignore', over='ignore')\n",
    "warnings.filterwarnings(\"ignore\", category=UserWarning)\n",
    "\n",
    "# Plotting settings\n",
    "mpl.rc('font', **{'family': 'serif', 'sans-serif': ['Times'], 'size': 15})\n",
    "mpl.rc('lines', solid_capstyle='round')\n",
    "mpl.rc('mathtext', fontset='cm')\n",
    "plt.rcParams.update({'grid.alpha': 0.5})\n",
    "mpl.style.use('default')   # avoid dark backgrounds from dark theme vscode\n",
    "\n",
    "log = holo.log\n",
    "log.setLevel(logging.INFO)\n",
    "\n",
    "# ---- Define filepath containing simulation galaxy merger data files ----#\n",
    "# ---- (if using files not in _PATH_DATA) ---- #\n",
    "_HOME_PATH = Path('~/').expanduser()\n",
    "p = os.path.join(_HOME_PATH, 'cosmo_sim_merger_data')\n",
    "if os.path.exists(p):\n",
    "    _SIM_MERGER_PATH = p\n",
    "else:\n",
    "    p = os.path.join(_HOME_PATH, 'nanograv/cosmo_sim_merger_data')\n",
    "    if os.path.exists(p):\n",
    "        _SIM_MERGER_PATH = p\n",
    "    else:\n",
    "        _SIM_MERGER_PATH = _PATH_DATA\n",
    "print(f\"{_SIM_MERGER_PATH=}\")\n",
    "# ------------------------------------------------------------------------ #"
   ]
  },
  {
   "cell_type": "code",
   "execution_count": null,
   "id": "1",
   "metadata": {
    "tags": []
   },
   "outputs": [],
   "source": [
    "def calc_sim_merging_gsmf(dpop, mass_type='all', req_z=None, req_dz=None, mask=None, verbose=False):\n",
    "    \n",
    "    mstar = dpop.pop.mbulge/MSOL\n",
    "    if verbose: print(f\"in calc_sim_merging_gsmf: {mstar.shape=}\")\n",
    "\n",
    "    if req_z is None:\n",
    "        if verbose: print(\"calculating gsmf for all redshifts.\")\n",
    "        if mask is not None:\n",
    "            mstar = mstar[mask]\n",
    "    else:\n",
    "        if req_dz is None:\n",
    "            req_dz = 0.1\n",
    "        z = dpop.pop.redz\n",
    "        zmask = (np.abs(z-req_z)<req_dz)\n",
    "        if mask is not None:\n",
    "            mstar = mstar[mask&zmask]\n",
    "        else:\n",
    "            mstar = mstar[zmask]\n",
    "    print(f\"after masking, in calc_sim_merging_gsmf: {mstar.shape=}\")\n",
    "        \n",
    "        \n",
    "    if mass_type == 'tot':\n",
    "        mstar = mstar[:,0] + mstar[:,1]\n",
    "    elif mass_type == 'pri':\n",
    "        mstar = mstar.max(axis = 1)\n",
    "    elif mass_type not in ('tot','pri','all'):\n",
    "        err = \"`mass_type` must be 'tot', 'pri', or 'all'\"\n",
    "        raise ValueError(err)\n",
    "\n",
    "    if verbose: print(f\"after setting mass_type, in calc_sim_merging_gsmf: {mstar.shape=}\")\n",
    "\n",
    "    mstar = np.log10(mstar)\n",
    "    box_vol_mpc = dpop.pop._sample_volume / (1.0e6*PC)**3\n",
    "\n",
    "    mhist, mbin_edges = np.histogram(mstar, range=(7.25,15.25), bins=16)\n",
    "    mbinsize = mbin_edges[1]-mbin_edges[0]\n",
    "    mbins = mbin_edges[:-1]+mbinsize\n",
    "        \n",
    "    #return mbins, mhist/mbinsize/np.log(10)/box_vol_mpc, mhist\n",
    "    return mbins, mhist/mbinsize/box_vol_mpc, mhist\n",
    "\n",
    "def compare_sim_merging_gsmfs(dpops, req_z=None, req_dz=None):\n",
    "    \n",
    "    assert isinstance(dpops, list), '`dpops` must be a list of binary populations'\n",
    "\n",
    "    fig, ax = plt.subplots(figsize=[10, 5])\n",
    "    ax.set(ylabel='Probability Density')\n",
    "    ax.grid(alpha=0.01)\n",
    "    ax.set(yscale='log')\n",
    "    \n",
    "    if req_z is None:\n",
    "        lbl_extra = ' (mergers, all z)'\n",
    "    else:\n",
    "        lbl_extra = f' (mergers, {np.maximum(0,req_z-req_dz):.2g}<z<{req_z+req_dz:.2g})'\n",
    "    \n",
    "    for i,dp in enumerate(dpops):\n",
    "        xlab = r'$\\log_{10}(M_{*})$' \n",
    "        ax.set(xlabel=xlab)\n",
    "        ax.set(ylabel=r'GSMF [$(dex^{-1} Mpc^{-3}$]')\n",
    "\n",
    "        mbins, gsmf, mhist = calc_sim_merging_gsmf(dp, req_z=req_z, req_dz=req_dz)\n",
    "        plt.plot(mbins, gsmf, ':', alpha=0.5, color=dp.color, lw=dp.lw)\n",
    "        plt.plot(mbins[mhist>10], gsmf[mhist>10], color=dp.color, lw=dp.lw,label=dp.lbl+lbl_extra)\n",
    "\n",
    "    return fig, ax\n"
   ]
  },
  {
   "cell_type": "code",
   "execution_count": null,
   "id": "2",
   "metadata": {
    "tags": []
   },
   "outputs": [],
   "source": [
    "import compare_discrete"
   ]
  },
  {
   "cell_type": "code",
   "execution_count": null,
   "id": "3",
   "metadata": {
    "tags": []
   },
   "outputs": [],
   "source": [
    "tmp = compare_discrete.create_dpops(allow_mbh0=True, mod_mmbulge=False, skip_evo=True, fpath=_SIM_MERGER_PATH)\n",
    "all_dpops, tng_dpops, all_fsa_dpops, tng_fsa_dpops = tmp"
   ]
  },
  {
   "cell_type": "code",
   "execution_count": null,
   "id": "4",
   "metadata": {
    "tags": []
   },
   "outputs": [],
   "source": [
    "print(\"creating SAM using Galaxy Pair Fraction (GPF) + Galaxy Merger Timescale (GMT)...\")\n",
    "\n",
    "sam = sams.Semi_Analytic_Model(gpf = sams.GPF_Power_Law())\n",
    "\n",
    "print(\"SKIPPING HARDENING\")\n",
    "\n",
    "#print(\"    ...calculating hardening\")\n",
    "#hard = holo.hardening.Fixed_Time_2PL_SAM(sam, all_fsa_dpops[0].tau, sepa_init=1.0e4*PC)\n",
    "#print(\"    ...creating gwb\")\n",
    "#gwb_sam = sam.gwb_new(all_fsa_dpops[0].freqs_edges, hard, realize=500)"
   ]
  },
  {
   "cell_type": "code",
   "execution_count": null,
   "id": "5",
   "metadata": {
    "tags": []
   },
   "outputs": [],
   "source": [
    "print(\"creating 'no-GPF' SAM using Galaxy Merger Rate (GMR) \"\n",
    "      \"    (uses galaxy merger rates directly from RG15 instead of GPF+GMT)...\")\n",
    "\n",
    "sam_no_gpf = sams.Semi_Analytic_Model()\n",
    "\n",
    "print(\"SKIPPING HARDENING\")\n",
    "\n",
    "#print(\"    ...calculating hardening for no-GPF SAM\")\n",
    "#hard_no_gpf = holo.hardening.Fixed_Time_2PL_SAM(sam_no_gpf, all_fsa_dpops[0].tau, sepa_init=1.0e4*PC)\n",
    "#print(\"    ...creating gwb for no-GPF SAM\")\n",
    "#gwb_sam_no_gpf = sam_no_gpf.gwb_new(all_fsa_dpops[0].freqs_edges, hard_no_gpf, realize=50)"
   ]
  },
  {
   "cell_type": "code",
   "execution_count": null,
   "id": "6",
   "metadata": {
    "tags": []
   },
   "outputs": [],
   "source": [
    "compare_sim_merging_gsmfs(all_dpops)\n",
    "plt.legend()\n",
    "plt.show()"
   ]
  },
  {
   "cell_type": "code",
   "execution_count": null,
   "id": "7",
   "metadata": {},
   "outputs": [],
   "source": [
    "compare_sim_merging_gsmfs(all_fsa_dpops)\n",
    "plt.legend()\n",
    "plt.show()"
   ]
  },
  {
   "cell_type": "code",
   "execution_count": null,
   "id": "8",
   "metadata": {},
   "outputs": [],
   "source": [
    "compare_sim_merging_gsmfs(tng_dpops)\n",
    "plt.legend()\n",
    "plt.show()"
   ]
  },
  {
   "cell_type": "code",
   "execution_count": null,
   "id": "9",
   "metadata": {
    "tags": []
   },
   "outputs": [],
   "source": [
    "nrows = 2\n",
    "ncols = 2\n",
    "mass_type = 'tot'\n",
    "fig, axes = plt.subplots(nrows=nrows, ncols=ncols, sharex='all', sharey='all', figsize=[10,9])\n",
    "#print(axes.shape)\n",
    "#print(axes.dtype)\n",
    "#print(axes[0].shape)\n",
    "\n",
    "if mass_type == 'pri':\n",
    "    xlab = r'$\\log_{10}(M_{*,pri})$'\n",
    "elif mass_type == 'tot':\n",
    "    xlab = r'$\\log_{10}(M_{*,tot})$'\n",
    "elif mass_type == 'all':\n",
    "    xlab = r'$\\log_{10}(M_{*}) (all progenitors)$'\n",
    "\n",
    "axes[0,0].set(yscale='log', \n",
    "              ylabel=r'GSMF [$(\\log_{10} M)^{-1} Mpc^{-3}$]',\n",
    "              xlim=(7.25,15.5), ylim=(1.0e-6,1.0))\n",
    "axes[1,0].set(yscale='log',xlabel=xlab,\n",
    "              ylabel=r'GSMF [$(\\log_{10} M)^{-1} Mpc^{-3}$]',\n",
    "              xlim=(7.25,15.5), ylim=(1.0e-6,1.0))\n",
    "axes[1,1].set(yscale='log',xlabel=xlab,\n",
    "              #ylabel=r'BHMF [$(\\log_{10} M)^{-1} Mpc^{-3}$]',\n",
    "              xlim=(7.25,15.5), ylim=(1.0e-6,1.0))\n",
    "    \n",
    "#dpop_lists = [t50_hires_fid_and_fsa_dpops, t100_hires_fid_and_fsa_dpops, ill_hires_fid_and_fsa_dpops]\n",
    "#dpop_lists = [ \n",
    "#    [ d for d in all_hires_fid_and_fsa_dpops if d.lbl in ['TNG50-1', 'fsa-TNG50-1', 'fsa-TNG50-1-bh0'] ],\n",
    "#    [ d for d in all_hires_fid_and_fsa_dpops if d.lbl in ['TNG50-1-N100', 'fsa-TNG50-1-N100', 'fsa-TNG50-1-N100-bh0'] ],\n",
    "#    [ d for d in all_hires_fid_and_fsa_dpops if d.lbl in ['TNG100-1', 'fsa-TNG100-1', 'fsa-TNG100-1-bh0'] ],\n",
    "#    ill_hires_fid_and_fsa_dpops\n",
    "#    ]\n",
    "dpop_lists = [d for d in [all_fsa_dpops]]\n",
    "print(len(dpop_lists))\n",
    "for i in range(nrows):\n",
    "    for j in range(ncols):\n",
    "        \n",
    "        if i+2*j >= np.minimum((nrows*ncols),len(dpop_lists)): \n",
    "            break\n",
    "\n",
    "        for dp in dpop_lists[i+2*j]:\n",
    "            qbulge = dp.pop.mbulge[:,0] / dp.pop.mbulge[:,1]\n",
    "            qbulge[qbulge>1] = 1.0/qbulge[qbulge>1]\n",
    "            #print(f\"{qbulge.min()=} {qbulge.max()=}\")\n",
    "            \n",
    "            x,y,mh = calc_sim_merging_gsmf(dp, mass_type=mass_type)\n",
    "            axes[i,j].plot(x,y, lw=dp.lw, label=dp.lbl)\n",
    "            \n",
    "            xqcut,yqcut,mhqcut = calc_sim_merging_gsmf(dp, mask = (qbulge>0.1), \n",
    "                                                       mass_type=mass_type)\n",
    "            axes[i,j].plot(xqcut,yqcut, lw=dp.lw, label=dp.lbl+' q>0.1', alpha=0.4)\n",
    "            \n",
    "            axes[i,j].legend()\n",
    "\n",
    "    else:\n",
    "        continue  # only executed if the inner loop did NOT break\n",
    "    break  # only executed if the inner loop DID break\n",
    "\n",
    "fig.suptitle(f\"GSMF for merging galaxies (mass type = {mass_type})\")\n",
    "fig.subplots_adjust(top=0.95, wspace=0.1, hspace=0.1)\n",
    "plt.show()"
   ]
  },
  {
   "cell_type": "markdown",
   "id": "10",
   "metadata": {},
   "source": [
    "### Load data for all subhalos & compare with merging subhalos"
   ]
  },
  {
   "cell_type": "code",
   "execution_count": null,
   "id": "11",
   "metadata": {
    "tags": []
   },
   "outputs": [],
   "source": [
    "def load_sim_gsmf_file(dpop, basePath):\n",
    "\n",
    "    for s in ['Ill-1', 'TNG50-1', 'TNG100-1', 'TNG300-1']:\n",
    "        if s in dpop.lbl: \n",
    "            print(f\"{s=}\")\n",
    "            gsmf_fpath = os.path.join(basePath, f\"gsmf_all_snaps_Nmin1_{s}.hdf5\")\n",
    "            print(f\"{gsmf_fpath=}\")\n",
    "    try:                \n",
    "        f = h5py.File(gsmf_fpath,\"r\")\n",
    "    except:\n",
    "        raise Exception(f\"Could not open GSMF file {gsmf_fpath}.\")\n",
    "\n",
    "    return f\n",
    "\n",
    "def calc_sim_gsmf_from_snaps(dpop, req_z, req_binsize=0.05, verbose=False):\n",
    "    \n",
    "\n",
    "    f = load_sim_gsmf_file(dpop, dpop.basepath)\n",
    "\n",
    "    box_vol_mpc = f.attrs['box_volume_mpc']\n",
    "    snapnums = f.attrs['SnapshotNums']\n",
    "    scalefacs = f.attrs['SnapshotScaleFacs']\n",
    "    zsnaps = 1.0 / scalefacs - 1.0\n",
    "    \n",
    "    diff = np.abs(zsnaps-req_z)\n",
    "    snapNum = snapnums[diff==diff.min()][0]\n",
    "    zsnap = zsnaps[diff==diff.min()][0]\n",
    "    if verbose or (diff.min()>0.01):\n",
    "        print(f\"{req_z=}, {snapNum=}, {zsnap=}, {diff.min()=}\")\n",
    "\n",
    "    dlgm_orig = f.attrs['LogMassBinWidth']\n",
    "    mbin_edges_orig = np.array(f['StellarMassBinEdges'])\n",
    "    nbins_orig = mbin_edges_orig.size - 1\n",
    "    mhist_all_snaps = np.array(f['StellarMassHistograms'])\n",
    "    \n",
    "    mhist_snap_orig = mhist_all_snaps[:,(snapnums==snapNum)].flatten()\n",
    "    if verbose: print(f\"{mhist_snap_orig.shape=}, {mbin_edges_orig.shape=}\")\n",
    "    if mhist_snap_orig.size != nbins_orig:\n",
    "        print('whoops')\n",
    "        return\n",
    "\n",
    "\n",
    "    if req_binsize < dlgm_orig:\n",
    "        raise ValueError(f\"{req_binsize=} requested, but min allowed is {dlgm_orig=}\")\n",
    "    if int(req_binsize/dlgm_orig) > nbins_orig/2:\n",
    "        raise ValueError(f\"{req_binsize=} requested, but max allowed is {dlgm_orig*nbins_orig/2=}\")\n",
    "\n",
    "    ncomb = int(req_binsize/dlgm_orig)\n",
    "    dlgm = dlgm_orig * ncomb\n",
    "    mbin_edges = mbin_edges_orig[::ncomb]\n",
    "    nbins = mbin_edges.size\n",
    "    if ncomb > 1:\n",
    "        mbin_edges = np.append(mbin_edges, mbin_edges[-1]+dlgm)\n",
    "        mhist_snap = np.zeros((nbins))\n",
    "        if verbose: print(f\"{mbin_edges.size=}\")\n",
    "        for i in range(mbin_edges.size-1):\n",
    "            mhist_snap[i] = mhist_snap_orig[i*ncomb:i*ncomb+ncomb].sum()\n",
    "        if verbose:\n",
    "            print(f\"{mbin_edges_orig=}\")\n",
    "            print(f\"{mbin_edges=}\")\n",
    "    else:\n",
    "        if verbose:\n",
    "            print(f\"WARNING: {req_binsize=}, {ncomb=}; retaining original binsize {dlgm_orig=}\")\n",
    "        assert mbin_edges.all() == mbin_edges_orig.all() and dlgm == dlgm_orig, \"Error in setting ncomb=1!\"\n",
    "        mhist_snap = mhist_snap_orig\n",
    "        \n",
    "    if verbose:\n",
    "        print(f\"{mhist_all_snaps.shape=}, {mhist_all_snaps.min()=}, {mhist_all_snaps.max()=}\")\n",
    "        print(f\"{mhist_snap.shape=}, {mhist_snap.min()=}, {mhist_snap.max()=}\")\n",
    "        print(f\"{snapnums=}\")\n",
    "        print(f\"{dlgm=}, {mbin_edges.shape=}\")\n",
    "        print(f\"{mbin_edges=}\")\n",
    "\n",
    "    ##gsmf = mhist_snap / dlgm / np.log(10) / box_vol_mpc  # dex^-1 Mpc^-3\n",
    "    gsmf = mhist_snap / dlgm / box_vol_mpc  # dex^-1 Mpc^-3\n",
    "    return mbin_edges[:-1]+0.5*dlgm, gsmf, mhist_snap #mbin_edges, dlgm\n"
   ]
  },
  {
   "cell_type": "code",
   "execution_count": null,
   "id": "12",
   "metadata": {},
   "outputs": [],
   "source": [
    "print([d.lbl for d in all_fsa_dpops])"
   ]
  },
  {
   "cell_type": "code",
   "execution_count": null,
   "id": "13",
   "metadata": {
    "tags": []
   },
   "outputs": [],
   "source": [
    "##tng100_basePath = '/orange/lblecha/IllustrisTNG/Runs/TNG100-1/output/'\n",
    "##tng50_basePath = '/orange/lblecha/IllustrisTNG/Runs/TNG50-1/output/'\n",
    "##ill_basePath = '/orange/lblecha/Illustris/Illustris-1/output/'\n",
    "#basePath = '/Users/lblecha/holodeck/holodeck/data/'\n",
    "#tng100_basePath = basePath\n",
    "#tng50_basePath = basePath\n",
    "#ill_basePath = basePath\n",
    "\n",
    "z_arr = np.array([0, 0.1, 0.15, 0.2, 0.25, 0.3, 0.35, 0.4, 0.5, 0.75, 1, 1.5, 2, 3, 4, 5])\n",
    "binsize = 0.2\n",
    "gsmf_sam = {}\n",
    "\n",
    "sam_lgmstar_arr = np.arange(7.0,13.1,0.05)\n",
    "sam_mstar_arr = 10**sam_lgmstar_arr * MSOL\n",
    "\n",
    "for z in z_arr:\n",
    "    for d in all_dpops:\n",
    "        print(f\"calculating GSMF at {z=} for {d.lbl=}\")\n",
    "        d.calc_sim_gsmf_from_snaps(z, req_binsize=binsize)\n",
    "        print(f\"{d.mhist_bins=}\")\n",
    "        print(f\"{d.gsmf=}\")\n",
    "        print(f\"{d.mhist=}\")\n",
    "\n",
    "    gsmf_sam[z] = sam._gsmf(sam_mstar_arr, z) ##/ np.log(10)  # units of dex^-1 Mpc^-3\n",
    "print(f\"{gsmf_sam[1]=}\")\n",
    "print(f\"{sam_lgmstar_arr=}\")"
   ]
  },
  {
   "cell_type": "code",
   "execution_count": null,
   "id": "14",
   "metadata": {
    "tags": []
   },
   "outputs": [],
   "source": [
    "plt.yscale('log')\n",
    "#plt.plot(bins_tng100[0.5], gsmf_tng100[0.5],'c--',label='TNG100-1 (all gals, z=0.5)')\n",
    "#plt.plot(bins_tng100[5], gsmf_tng100[5],'c--',label='TNG100-1 (all gals, z=5)')\n",
    "for z in [0.5, 5]:\n",
    "    plt.plot(all_dpops[0].mhist_bins[z], all_dpops[0].gsmf[z],'c--',label=f'{all_dpops[0].lbl} (all gals, z={z})')\n"
   ]
  },
  {
   "cell_type": "code",
   "execution_count": null,
   "id": "15",
   "metadata": {
    "tags": []
   },
   "outputs": [],
   "source": [
    "mstar_pri,mstar_rat,mstar_tot,redz = sam.mass_stellar() \n",
    "print(mstar_pri.shape)\n",
    "print(mstar_pri.min()/MSOL, mstar_pri.max()/MSOL)\n",
    "\n",
    "print(f\"phi0={sam._gsmf._phi0}, phiz={sam._gsmf._phiz}\")\n",
    "print(f\"log10(mchar0/msun)={np.log10(sam._gsmf._mchar0/MSOL):g}, log10(mcharz/msun)={np.log10(sam._gsmf._mcharz/MSOL):g}\")\n",
    "print(f\"alpha0={sam._gsmf._alpha0}, alphaz={sam._gsmf._alphaz}\")\n",
    "#plt.xscale('log')\n",
    "plt.yscale('log')\n",
    "#plt.xlim(5.0e7,2.0e12)\n",
    "plt.ylim(1.0e-6,0.01)\n",
    "plt.plot(sam_lgmstar_arr, gsmf_sam[0], lw=3)\n",
    "plt.plot(sam_lgmstar_arr, gsmf_sam[0.5], lw=3)\n",
    "plt.plot(sam_lgmstar_arr, gsmf_sam[5], lw=3)\n",
    "#plt.plot(mstar_pri.flatten()/MSOL, sam._gsmf(mstar_pri.flatten(), 0.0)/ np.log(10) ,'.',lw=0,ms=0.1,alpha=0.2)\n",
    "#plt.plot(mstar_pri.flatten()/MSOL, sam._gsmf(mstar_pri.flatten(), 5.0)/ np.log(10) ,'.',lw=0,ms=0.1,alpha=0.2)\n",
    "#phi_check_z0 = np.power(10.0, sam._gsmf._phi0 + sam._gsmf._phiz * 0.0)\n",
    "#m0_check = sam._gsmf._mchar0 / MSOL\n",
    "#plt.plot([1.0e8,1.0e12], [phi_check_z0, phi_check_z0])\n",
    "#plt.plot([m0_check,m0_check],[1.0e-6,1.0e-2],)\n",
    "print(f\"{gsmf_sam[1]=}\")\n",
    "print(f\"{sam_lgmstar_arr=}\")"
   ]
  },
  {
   "cell_type": "code",
   "execution_count": null,
   "id": "16",
   "metadata": {},
   "outputs": [],
   "source": [
    "ab = {'Perez-Gonzalez+08': 'PG08', 'Muzzin+13': 'M13'}\n",
    "print(ab)\n",
    "print(ab['Perez-Gonzalez+08'])\n",
    "print(ab['Muzzin+13'])"
   ]
  },
  {
   "cell_type": "code",
   "execution_count": null,
   "id": "17",
   "metadata": {
    "tags": []
   },
   "outputs": [],
   "source": [
    "import parse_conselice2016_table1\n",
    "c16_zlo, c16_zhi, c16_lgm, c16_gsmfs, c16_lim, refs, short_refs = parse_conselice2016_table1.calc_c16_gsmfs()\n",
    "c16_zcen = (c16_zhi - c16_zlo) / 2 + c16_zlo\n",
    "for i in range(len(c16_zcen)):\n",
    "    print(f\"zcen={c16_zcen[i]} ({c16_zlo[i]}-{c16_zhi[i]}) {refs[i]}\")\n",
    "print(c16_zlo.shape, c16_zhi.shape, c16_zcen.shape, c16_lgm.shape, c16_gsmfs.shape, c16_lim.shape, refs.shape)"
   ]
  },
  {
   "cell_type": "code",
   "execution_count": null,
   "id": "18",
   "metadata": {},
   "outputs": [],
   "source": [
    "print([d.lbl for d in all_dpops])\n",
    "print([d.lbl for d in all_dpops[1::2]])"
   ]
  },
  {
   "cell_type": "code",
   "execution_count": null,
   "id": "19",
   "metadata": {
    "tags": []
   },
   "outputs": [],
   "source": [
    "def compare_sim_vs_sam_gsmfs(dpops, z=0, dz=0.1, c16_zrange=None, c16_zrange_strict=False,\n",
    "                             apply_mlim=False, plot_sam=True, plot_mergers=True, save=False, \n",
    "                             verbose=False): \n",
    "\n",
    "    #ax.set(ylabel='GSMF')\n",
    "    #ax.grid(alpha=0.01)\n",
    "    #ax.set(yscale='log')\n",
    "\n",
    "    plt.rcParams.update({'font.size': 14})\n",
    "    fig, ax = plt.subplots(figsize=[8.5, 6])\n",
    "    ax.set(ylabel=r'GSMF [$(dex^{-1} Mpc^{-3}$]')\n",
    "    xlab = r'$\\log_{10}(M_{*})$' \n",
    "    ax.set(xlabel=xlab)    \n",
    "    ax.grid(alpha=0.01)\n",
    "    ax.set(yscale='log')\n",
    "    plt.rcParams.update({'font.size': 9})\n",
    "\n",
    "    if plot_sam:\n",
    "        plt.plot(sam_lgmstar_arr, gsmf_sam[z],'k',lw=3,label=f'SAM (z={z:.2g})',alpha=0.8)\n",
    "    \n",
    "    lgm_min = None\n",
    "    for d in dpops:\n",
    "        bins = d.mhist_bins[z]\n",
    "        gsmf = d.gsmf[z]\n",
    "        mhist = d.mhist[z]\n",
    "        mk = '--' if plot_sam and c16_zrange is not None else '-'\n",
    "        plt.plot(bins, gsmf, mk, color=d.color, alpha=0.2,lw=d.lw-0.25)\n",
    "        if apply_mlim:\n",
    "            d.sim_mass_resolution() # get baryonic mass resolution for this sim (stored in d.mres_baryon)\n",
    "            lgm_min = np.log10(d.mres_baryon)+2\n",
    "            plt.plot(bins[(mhist>10)&(bins>lgm_min)], gsmf[(mhist>10)&(bins>lgm_min)], \n",
    "                     mk, color=d.color, label=f'{d.lbl} (all, z={z:.2g})',lw=d.lw-0.25)\n",
    "        else:\n",
    "            plt.plot(bins[mhist>=10], gsmf[mhist>=10], mk, color=d.color,\n",
    "                     label=f'{d.lbl} (all, z={z:.2g})',lw=d.lw-0.25)\n",
    "\n",
    "\n",
    "    if plot_mergers:\n",
    "        if z is None:\n",
    "            lbl_extra = ' (mergers, all z)'\n",
    "        else:\n",
    "            lbl_extra = f' (mrg, z={np.maximum(0,z-dz):.2g}-{z+dz:.2g})'\n",
    "\n",
    "        for i,dp in enumerate(dpops):\n",
    "            bins_mrg, gsmf_mrg, mhist_mrg = calc_sim_merging_gsmf(dp, req_z=z, req_dz=dz)\n",
    "            plt.plot(bins_mrg, gsmf_mrg, ':', alpha=0.2, color=dp.color, lw=dp.lw-0.5)\n",
    "            if apply_mlim:\n",
    "                if lgm_min is None:\n",
    "                    d.sim_mass_resolution() # get baryonic mass resolution for this sim (stored in d.mres_baryon)\n",
    "                    lgm_min = np.log10(d.mres_baryon)+2\n",
    "                plt.plot(bins_mrg[(mhist_mrg>10)&(bins_mrg>lgm_min)], gsmf_mrg[(mhist_mrg>10)&(bins_mrg>lgm_min)], \n",
    "                         ':', color=dp.color, lw=dp.lw-0.5,label=dp.lbl+lbl_extra)\n",
    "            else:\n",
    "                plt.plot(bins_mrg[mhist_mrg>10], gsmf_mrg[mhist_mrg>10], ':', color=dp.color, \n",
    "                         lw=dp.lw-0.5,label=dp.lbl+lbl_extra)\n",
    "            \n",
    "\n",
    "    plt.yscale('log')\n",
    "    plt.xlim(7.0,13.2)\n",
    "    plt.ylim(1.0e-8,0.1)\n",
    "    \n",
    "    if isinstance(c16_zrange, (tuple, list, np.ndarray)) and len(c16_zrange)==2:\n",
    "        c16_lines = []\n",
    "        \n",
    "        c16_zlo, c16_zhi, c16_lgm, c16_gsmfs, c16_lim, refs, short_refs = parse_conselice2016_table1.calc_c16_gsmfs()\n",
    "        c16_zcen = (c16_zhi - c16_zlo) / 2 + c16_zlo\n",
    "        if c16_zrange_strict:\n",
    "            ix = np.where((c16_zlo>=c16_zrange[0])&(c16_zhi<=c16_zrange[1]))[0]\n",
    "        else:\n",
    "            ix = np.where((c16_zcen>=c16_zrange[0])&(c16_zcen<=c16_zrange[1]))[0]\n",
    "        if apply_mlim:\n",
    "            # plot gray dashed line to extrapolate below lower mass limit of empirical GSMFs\n",
    "            plt.plot(c16_lgm, c16_gsmfs[:, ix],ls='--',lw=2,alpha=0.2,color='gray')\n",
    "            for ii in ix:\n",
    "                plt.plot(c16_lgm[c16_lgm>=c16_lim[ii]], c16_gsmfs[c16_lgm>=c16_lim[ii], ii],\n",
    "                         label=f\"{short_refs[ii]} (z={c16_zlo[ii]}-{c16_zhi[ii]})\")\n",
    "        else:\n",
    "            # don't show the lower mass limit of empirical GSMFs\n",
    "            for ii in ix:\n",
    "                plt.plot(c16_lgm, c16_gsmfs[:, ii],ls='--',alpha=0.8,\n",
    "                         label=f\"{short_refs[ii]} (z={c16_zlo[ii]}-{c16_zhi[ii]})\")\n",
    "\n",
    "    elif c16_zrange is not None:\n",
    "        raise ValueError(f\"Error: c16_zrange must be a len-2 tuple, list, or array. {c16_zrange=}\")\n",
    "\n",
    "\n",
    "    plt.legend(loc='lower left')\n",
    "\n",
    "    if save:\n",
    "        plt.savefig(f'gsmf_sim_vs_sam_z{z:.2g}.png', dpi=300)\n",
    "\n",
    "    plt.show()\n",
    "\n",
    "# fig, ax = plt.subplots()\n",
    "#line1, = ax.plot([1, 2, 3], label=\"Line 1\", linestyle='--')\n",
    "#line2, = ax.plot([3, 2, 1], label=\"Line 2\", linewidth=4)\n",
    "\n",
    "## Create a legend for the first line.\n",
    "#first_legend = ax.legend(handles=[line1], loc='upper right')\n",
    "\n",
    "## Add the legend manually to the Axes.\n",
    "#ax.add_artist(first_legend)\n",
    "\n",
    "## Create another legend for the second line.\n",
    "#ax.legend(handles=[line2], loc='lower right')\n",
    "\n",
    "#plt.show()\n",
    "        \n"
   ]
  },
  {
   "cell_type": "code",
   "execution_count": null,
   "id": "20",
   "metadata": {
    "tags": []
   },
   "outputs": [],
   "source": [
    "compare_sim_vs_sam_gsmfs(all_dpops[1::2], z=0.25, dz=0.1,c16_zrange=(.15,0.35),apply_mlim=True, save=True) #, plot_mergers=False)\n",
    "#plt.plot(c16_lgm, c16_gsmfs[:,c16_zcen<0.5])"
   ]
  },
  {
   "cell_type": "code",
   "execution_count": null,
   "id": "21",
   "metadata": {},
   "outputs": [],
   "source": [
    "compare_sim_vs_sam_gsmfs(all_dpops, z=0.25, dz=0.1, plot_sam=False,apply_mlim=True) #, plot_mergers=False)"
   ]
  },
  {
   "cell_type": "code",
   "execution_count": null,
   "id": "22",
   "metadata": {
    "tags": []
   },
   "outputs": [],
   "source": [
    "compare_sim_vs_sam_gsmfs(all_dpops[1::2], z=0.35, dz=0.1, c16_zrange=(0.3,0.4), apply_mlim=True, save=True)"
   ]
  },
  {
   "cell_type": "code",
   "execution_count": null,
   "id": "23",
   "metadata": {},
   "outputs": [],
   "source": [
    "compare_sim_vs_sam_gsmfs(all_dpops, z=0.35, dz=0.1, plot_sam=False, apply_mlim=True) #, save=True)"
   ]
  },
  {
   "cell_type": "code",
   "execution_count": null,
   "id": "24",
   "metadata": {},
   "outputs": [],
   "source": [
    "compare_sim_vs_sam_gsmfs(all_dpops[1::2], z=0.5, dz=0.05, c16_zrange=(0.45,0.55),apply_mlim=True, save=True) #,plot_mergers=False)"
   ]
  },
  {
   "cell_type": "code",
   "execution_count": null,
   "id": "25",
   "metadata": {},
   "outputs": [],
   "source": [
    "compare_sim_vs_sam_gsmfs(all_dpops, z=0.5, dz=0.05, plot_sam=False,apply_mlim=True) #,plot_mergers=False)"
   ]
  },
  {
   "cell_type": "code",
   "execution_count": null,
   "id": "26",
   "metadata": {},
   "outputs": [],
   "source": [
    "compare_sim_vs_sam_gsmfs(all_dpops[1::2], z=0.75, dz=0.1,c16_zrange=(0.65,0.85),apply_mlim=True, save=True)  #, plot_mergers=False)"
   ]
  },
  {
   "cell_type": "code",
   "execution_count": null,
   "id": "27",
   "metadata": {},
   "outputs": [],
   "source": [
    "compare_sim_vs_sam_gsmfs(all_dpops, z=0.75, dz=0.1,plot_sam=False,apply_mlim=True)  #, plot_mergers=False)"
   ]
  },
  {
   "cell_type": "code",
   "execution_count": null,
   "id": "28",
   "metadata": {
    "tags": []
   },
   "outputs": [],
   "source": [
    "compare_sim_vs_sam_gsmfs(all_dpops[1::2], z=1, dz=0.1, c16_zrange=(0.9,1.1), apply_mlim=True, save=True) # plot_mergers=False)"
   ]
  },
  {
   "cell_type": "code",
   "execution_count": null,
   "id": "29",
   "metadata": {},
   "outputs": [],
   "source": [
    "compare_sim_vs_sam_gsmfs(all_dpops, z=1, dz=0.1, plot_sam=False, apply_mlim=True, save=False) # plot_mergers=False)"
   ]
  },
  {
   "cell_type": "code",
   "execution_count": null,
   "id": "30",
   "metadata": {},
   "outputs": [],
   "source": [
    "compare_sim_vs_sam_gsmfs(all_dpops[1::2], z=1.5, dz=0.1, c16_zrange=(1.4,1.6), apply_mlim=True, save=True) # plot_mergers=False)"
   ]
  },
  {
   "cell_type": "code",
   "execution_count": null,
   "id": "31",
   "metadata": {},
   "outputs": [],
   "source": [
    "compare_sim_vs_sam_gsmfs(all_dpops, z=1.5, dz=0.1, plot_sam=False, apply_mlim=True, save=False) # plot_mergers=False)"
   ]
  },
  {
   "cell_type": "code",
   "execution_count": null,
   "id": "32",
   "metadata": {
    "tags": []
   },
   "outputs": [],
   "source": [
    "compare_sim_vs_sam_gsmfs(all_dpops[1::2], z=2, dz=0.25, c16_zrange=(1.8,2.2), apply_mlim=True, save=True) #plot_mergers=False, "
   ]
  },
  {
   "cell_type": "code",
   "execution_count": null,
   "id": "33",
   "metadata": {},
   "outputs": [],
   "source": [
    "compare_sim_vs_sam_gsmfs(all_dpops, z=2, dz=0.25, plot_sam=False, apply_mlim=True, save=False) #plot_mergers=False, "
   ]
  },
  {
   "cell_type": "code",
   "execution_count": null,
   "id": "34",
   "metadata": {
    "tags": []
   },
   "outputs": [],
   "source": [
    "compare_sim_vs_sam_gsmfs(all_dpops[1::2], z=3, dz=0.25, c16_zrange=(2.75,3.25),apply_mlim=True, save=True) #plot_mergers=False,"
   ]
  },
  {
   "cell_type": "code",
   "execution_count": null,
   "id": "35",
   "metadata": {},
   "outputs": [],
   "source": [
    "compare_sim_vs_sam_gsmfs(all_dpops, z=3, dz=0.25, plot_sam=False,apply_mlim=True, save=False) #plot_mergers=False,"
   ]
  },
  {
   "cell_type": "code",
   "execution_count": null,
   "id": "36",
   "metadata": {},
   "outputs": [],
   "source": [
    "compare_sim_vs_sam_gsmfs(all_dpops[1::2], z=4, dz=0.25, c16_zrange=(3.75,4.25),apply_mlim=True,save=True)"
   ]
  },
  {
   "cell_type": "code",
   "execution_count": null,
   "id": "37",
   "metadata": {},
   "outputs": [],
   "source": [
    "compare_sim_vs_sam_gsmfs(all_dpops, z=4, dz=0.25, plot_sam=False,apply_mlim=True,save=False)"
   ]
  },
  {
   "cell_type": "code",
   "execution_count": null,
   "id": "38",
   "metadata": {},
   "outputs": [],
   "source": []
  }
 ],
 "metadata": {
  "kernelspec": {
   "display_name": "holo311",
   "language": "python",
   "name": "holo311"
  },
  "language_info": {
   "codemirror_mode": {
    "name": "ipython",
    "version": 3
   },
   "file_extension": ".py",
   "mimetype": "text/x-python",
   "name": "python",
   "nbconvert_exporter": "python",
   "pygments_lexer": "ipython3",
   "version": "3.11.9"
  }
 },
 "nbformat": 4,
 "nbformat_minor": 5
}
