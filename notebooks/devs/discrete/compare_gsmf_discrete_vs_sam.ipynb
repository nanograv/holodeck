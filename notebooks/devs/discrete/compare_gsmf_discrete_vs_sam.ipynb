{
 "cells": [
  {
   "cell_type": "code",
   "execution_count": null,
   "id": "0",
   "metadata": {
    "tags": []
   },
   "outputs": [],
   "source": [
    "%reload_ext autoreload\n",
    "%autoreload 2\n",
    "from importlib import reload\n",
    "\n",
    "import os\n",
    "import sys\n",
    "\n",
    "import logging\n",
    "import warnings\n",
    "import numpy as np\n",
    "import astropy as ap\n",
    "import scipy as sp\n",
    "import scipy.stats\n",
    "import matplotlib as mpl\n",
    "import matplotlib.pyplot as plt\n",
    "\n",
    "import h5py\n",
    "import tqdm.notebook as tqdm\n",
    "\n",
    "import kalepy as kale\n",
    "import kalepy.utils\n",
    "import kalepy.plot\n",
    "\n",
    "import holodeck as holo\n",
    "import holodeck.sams\n",
    "import holodeck.gravwaves\n",
    "from holodeck import cosmo, utils, plot, discrete, sams, host_relations\n",
    "from holodeck.constants import MSOL, PC, YR, MPC, GYR, SPLC\n",
    "\n",
    "# Silence annoying numpy errors\n",
    "np.seterr(divide='ignore', invalid='ignore', over='ignore')\n",
    "warnings.filterwarnings(\"ignore\", category=UserWarning)\n",
    "\n",
    "# Plotting settings\n",
    "mpl.rc('font', **{'family': 'serif', 'sans-serif': ['Times'], 'size': 15})\n",
    "mpl.rc('lines', solid_capstyle='round')\n",
    "mpl.rc('mathtext', fontset='cm')\n",
    "plt.rcParams.update({'grid.alpha': 0.5})\n",
    "mpl.style.use('default')   # avoid dark backgrounds from dark theme vscode\n",
    "\n",
    "log = holo.log\n",
    "log.setLevel(logging.INFO)"
   ]
  },
  {
   "cell_type": "code",
   "execution_count": null,
   "id": "1",
   "metadata": {
    "tags": []
   },
   "outputs": [],
   "source": [
    "def calc_sim_merging_gsmf(dpop, mass_type='all', req_z=None, req_dz=None, mask=None, verbose=False):\n",
    "    \n",
    "    mstar = dpop.pop.mbulge/MSOL\n",
    "    if verbose: print(f\"in calc_sim_merging_gsmf: {mstar.shape=}\")\n",
    "\n",
    "    if req_z is None:\n",
    "        if verbose: print(\"calculating gsmf for all redshifts.\")\n",
    "        if mask is not None:\n",
    "            mstar = mstar[mask]\n",
    "    else:\n",
    "        if req_dz is None:\n",
    "            req_dz = 0.1\n",
    "        z = dpop.pop.redz\n",
    "        zmask = (np.abs(z-req_z)<req_dz)\n",
    "        if mask is not None:\n",
    "            mstar = mstar[mask&zmask]\n",
    "        else:\n",
    "            mstar = mstar[zmask]\n",
    "    print(f\"after masking, in calc_sim_merging_gsmf: {mstar.shape=}\")\n",
    "        \n",
    "        \n",
    "    if mass_type == 'tot':\n",
    "        mstar = mstar[:,0] + mstar[:,1]\n",
    "    elif mass_type == 'pri':\n",
    "        mstar = mstar.max(axis = 1)\n",
    "    elif mass_type not in ('tot','pri','all'):\n",
    "        err = \"`mass_type` must be 'tot', 'pri', or 'all'\"\n",
    "        raise ValueError(err)\n",
    "\n",
    "    if verbose: print(f\"after setting mass_type, in calc_sim_merging_gsmf: {mstar.shape=}\")\n",
    "\n",
    "    mstar = np.log10(mstar)\n",
    "    box_vol_mpc = dpop.pop._sample_volume / (1.0e6*PC)**3\n",
    "\n",
    "    mhist, mbin_edges = np.histogram(mstar, range=(7.25,15.25), bins=16)\n",
    "    mbinsize = mbin_edges[1]-mbin_edges[0]\n",
    "    mbins = mbin_edges[:-1]+mbinsize\n",
    "        \n",
    "    #return mbins, mhist/mbinsize/np.log(10)/box_vol_mpc, mhist\n",
    "    return mbins, mhist/mbinsize/box_vol_mpc, mhist\n",
    "\n",
    "def compare_sim_merging_gsmfs(dpops, req_z=None, req_dz=None):\n",
    "    \n",
    "    assert isinstance(dpops, list), '`dpops` must be a list of binary populations'\n",
    "\n",
    "    fig, ax = plt.subplots(figsize=[10, 5])\n",
    "    ax.set(ylabel='Probability Density')\n",
    "    ax.grid(alpha=0.01)\n",
    "    ax.set(yscale='log')\n",
    "    \n",
    "    if req_z is None:\n",
    "        lbl_extra = ' (mergers, all z)'\n",
    "    else:\n",
    "        lbl_extra = f' (mergers, {np.maximum(0,req_z-req_dz):.2g}<z<{req_z+req_dz:.2g})'\n",
    "    \n",
    "    for i,dp in enumerate(dpops):\n",
    "        xlab = r'$\\log_{10}(M_{*})$' \n",
    "        ax.set(xlabel=xlab)\n",
    "        ax.set(ylabel=r'GSMF [$(dex^{-1} Mpc^{-3}$]')\n",
    "\n",
    "        mbins, gsmf, mhist = calc_sim_merging_gsmf(dp, req_z=req_z, req_dz=req_dz)\n",
    "        plt.plot(mbins, gsmf, ':', alpha=0.5, color=dp.color, lw=dp.lw)\n",
    "        plt.plot(mbins[mhist>10], gsmf[mhist>10], color=dp.color, lw=dp.lw,label=dp.lbl+lbl_extra)\n",
    "\n",
    "    return fig, ax\n"
   ]
  },
  {
   "cell_type": "code",
   "execution_count": null,
   "id": "2",
   "metadata": {
    "tags": []
   },
   "outputs": [],
   "source": [
    "import compare_discrete"
   ]
  },
  {
   "cell_type": "code",
   "execution_count": null,
   "id": "3",
   "metadata": {
    "tags": []
   },
   "outputs": [],
   "source": [
    "tmp = compare_discrete.create_dpops(allow_mbh0=True, mod_mmbulge=False, skip_evo=True)\n",
    "all_dpops, tng_dpops, all_fsa_dpops, tng_fsa_dpops = tmp"
   ]
  },
  {
   "cell_type": "code",
   "execution_count": null,
   "id": "4",
   "metadata": {
    "tags": []
   },
   "outputs": [],
   "source": [
    "print(\"creating SAM using Galaxy Pair Fraction (GPF) + Galaxy Merger Timescale (GMT)...\")\n",
    "\n",
    "sam = sams.Semi_Analytic_Model(gpf = sams.GPF_Power_Law())\n",
    "\n",
    "print(\"SKIPPING HARDENING\")\n",
    "\n",
    "#print(\"    ...calculating hardening\")\n",
    "#hard = holo.hardening.Fixed_Time_2PL_SAM(sam, all_fsa_dpops[0].tau, sepa_init=1.0e4*PC)\n",
    "#print(\"    ...creating gwb\")\n",
    "#gwb_sam = sam.gwb_new(all_fsa_dpops[0].freqs_edges, hard, realize=500)"
   ]
  },
  {
   "cell_type": "code",
   "execution_count": null,
   "id": "5",
   "metadata": {
    "tags": []
   },
   "outputs": [],
   "source": [
    "print(\"creating 'no-GPF' SAM using Galaxy Merger Rate (GMR) \"\n",
    "      \"    (uses galaxy merger rates directly from RG15 instead of GPF+GMT)...\")\n",
    "\n",
    "sam_no_gpf = sams.Semi_Analytic_Model()\n",
    "\n",
    "print(\"SKIPPING HARDENING\")\n",
    "\n",
    "#print(\"    ...calculating hardening for no-GPF SAM\")\n",
    "#hard_no_gpf = holo.hardening.Fixed_Time_2PL_SAM(sam_no_gpf, all_fsa_dpops[0].tau, sepa_init=1.0e4*PC)\n",
    "#print(\"    ...creating gwb for no-GPF SAM\")\n",
    "#gwb_sam_no_gpf = sam_no_gpf.gwb_new(all_fsa_dpops[0].freqs_edges, hard_no_gpf, realize=50)"
   ]
  },
  {
   "cell_type": "code",
   "execution_count": null,
   "id": "6",
   "metadata": {
    "tags": []
   },
   "outputs": [],
   "source": [
    "compare_sim_merging_gsmfs(all_dpops)\n",
    "plt.legend()\n",
    "plt.show()"
   ]
  },
  {
   "cell_type": "code",
   "execution_count": null,
   "id": "7",
   "metadata": {
    "tags": []
   },
   "outputs": [],
   "source": [
    "nrows = 2\n",
    "ncols = 2\n",
    "mass_type = 'tot'\n",
    "fig, axes = plt.subplots(nrows=nrows, ncols=ncols, sharex='all', sharey='all', figsize=[10,9])\n",
    "#print(axes.shape)\n",
    "#print(axes.dtype)\n",
    "#print(axes[0].shape)\n",
    "\n",
    "if mass_type == 'pri':\n",
    "    xlab = r'$\\log_{10}(M_{*,pri})$'\n",
    "elif mass_type == 'tot':\n",
    "    xlab = r'$\\log_{10}(M_{*,tot})$'\n",
    "elif mass_type == 'all':\n",
    "    xlab = r'$\\log_{10}(M_{*}) (all progenitors)$'\n",
    "\n",
    "axes[0,0].set(yscale='log', \n",
    "              ylabel=r'GSMF [$(\\log_{10} M)^{-1} Mpc^{-3}$]',\n",
    "              xlim=(7.25,15.5), ylim=(1.0e-6,1.0))\n",
    "axes[1,0].set(yscale='log',xlabel=xlab,\n",
    "              ylabel=r'BHMF [$(\\log_{10} M)^{-1} Mpc^{-3}$]',\n",
    "              xlim=(7.25,15.5), ylim=(1.0e-6,1.0))\n",
    "axes[1,1].set(yscale='log',xlabel=xlab,\n",
    "              #ylabel=r'BHMF [$(\\log_{10} M)^{-1} Mpc^{-3}$]',\n",
    "              xlim=(7.25,15.5), ylim=(1.0e-6,1.0))\n",
    "    \n",
    "#dpop_lists = [t50_hires_fid_and_fsa_dpops, t100_hires_fid_and_fsa_dpops, ill_hires_fid_and_fsa_dpops]\n",
    "#dpop_lists = [ \n",
    "#    [ d for d in all_hires_fid_and_fsa_dpops if d.lbl in ['TNG50-1', 'fsa-TNG50-1', 'fsa-TNG50-1-bh0'] ],\n",
    "#    [ d for d in all_hires_fid_and_fsa_dpops if d.lbl in ['TNG50-1-N100', 'fsa-TNG50-1-N100', 'fsa-TNG50-1-N100-bh0'] ],\n",
    "#    [ d for d in all_hires_fid_and_fsa_dpops if d.lbl in ['TNG100-1', 'fsa-TNG100-1', 'fsa-TNG100-1-bh0'] ],\n",
    "#    ill_hires_fid_and_fsa_dpops\n",
    "#    ]\n",
    "dpop_lists = [d for d in [all_fsa_dpops]]\n",
    "print(len(dpop_lists))\n",
    "for i in range(nrows):\n",
    "    for j in range(ncols):\n",
    "        \n",
    "        if i+2*j >= np.minimum((nrows*ncols),len(dpop_lists)): \n",
    "            break\n",
    "\n",
    "        for dp in dpop_lists[i+2*j]:\n",
    "            qbulge = dp.pop.mbulge[:,0] / dp.pop.mbulge[:,1]\n",
    "            qbulge[qbulge>1] = 1.0/qbulge[qbulge>1]\n",
    "            #print(f\"{qbulge.min()=} {qbulge.max()=}\")\n",
    "            \n",
    "            x,y,mh = calc_sim_merging_gsmf(dp, mass_type=mass_type)\n",
    "            axes[i,j].plot(x,y, lw=dp.lw, label=dp.lbl)\n",
    "            \n",
    "            xqcut,yqcut,mhqcut = calc_sim_merging_gsmf(dp, mask = (qbulge>0.1), \n",
    "                                                       mass_type=mass_type)\n",
    "            axes[i,j].plot(xqcut,yqcut, lw=dp.lw, label=dp.lbl+' q>0.1', alpha=0.4)\n",
    "            \n",
    "            axes[i,j].legend()\n",
    "\n",
    "    else:\n",
    "        continue  # only executed if the inner loop did NOT break\n",
    "    break  # only executed if the inner loop DID break\n",
    "\n",
    "fig.suptitle(f\"GSMF for merging galaxies (mass type = {mass_type})\")\n",
    "fig.subplots_adjust(top=0.95, wspace=0.1, hspace=0.1)\n",
    "plt.show()"
   ]
  },
  {
   "cell_type": "markdown",
   "id": "8",
   "metadata": {},
   "source": [
    "### Load data for all subhalos & compare with merging subhalos"
   ]
  },
  {
   "cell_type": "code",
   "execution_count": null,
   "id": "9",
   "metadata": {
    "tags": []
   },
   "outputs": [],
   "source": [
    "def calc_gsmf_from_snap(basePath, req_z, req_binsize=0.05, verbose=False):\n",
    "\n",
    "    f = h5py.File(f\"{basePath}/gsmf_all_snaps_Nmin1.hdf5\",\"r\")\n",
    "\n",
    "    box_vol_mpc = f.attrs['box_volume_mpc']\n",
    "    snapnums = f.attrs['SnapshotNums']\n",
    "    scalefacs = f.attrs['SnapshotScaleFacs']\n",
    "    zsnaps = 1.0 / scalefacs - 1.0\n",
    "    \n",
    "    diff = np.abs(zsnaps-req_z)\n",
    "    snapNum = snapnums[diff==diff.min()][0]\n",
    "    zsnap = zsnaps[diff==diff.min()][0]\n",
    "    if verbose or (diff.min()>0.01):\n",
    "        print(f\"{req_z=}, {snapNum=}, {zsnap=}, {diff.min()=}\")\n",
    "\n",
    "    dlgm_orig = f.attrs['LogMassBinWidth']\n",
    "    mbin_edges_orig = np.array(f['StellarMassBinEdges'])\n",
    "    nbins_orig = mbin_edges_orig.size - 1\n",
    "    mhist_all_snaps = np.array(f['StellarMassHistograms'])\n",
    "    \n",
    "    mhist_snap_orig = mhist_all_snaps[:,(snapnums==snapNum)].flatten()\n",
    "    if verbose: print(f\"{mhist_snap_orig.shape=}, {mbin_edges_orig.shape=}\")\n",
    "    if mhist_snap_orig.size != nbins_orig:\n",
    "        print('whoops')\n",
    "        return\n",
    "\n",
    "\n",
    "    if req_binsize < dlgm_orig:\n",
    "        raise ValueError(f\"{req_binsize=} requested, but min allowed is {dlgm_orig=}\")\n",
    "    if int(req_binsize/dlgm_orig) > nbins_orig/2:\n",
    "        raise ValueError(f\"{req_binsize=} requested, but max allowed is {dlgm_orig*nbins_orig/2=}\")\n",
    "\n",
    "    ncomb = int(req_binsize/dlgm_orig)\n",
    "    dlgm = dlgm_orig * ncomb\n",
    "    mbin_edges = mbin_edges_orig[::ncomb]\n",
    "    nbins = mbin_edges.size\n",
    "    if ncomb > 1:\n",
    "        mbin_edges = np.append(mbin_edges, mbin_edges[-1]+dlgm)\n",
    "        mhist_snap = np.zeros((nbins))\n",
    "        if verbose: print(f\"{mbin_edges.size=}\")\n",
    "        for i in range(mbin_edges.size-1):\n",
    "            mhist_snap[i] = mhist_snap_orig[i*ncomb:i*ncomb+ncomb].sum()\n",
    "        if verbose:\n",
    "            print(f\"{mbin_edges_orig=}\")\n",
    "            print(f\"{mbin_edges=}\")\n",
    "    else:\n",
    "        if verbose:\n",
    "            print(f\"WARNING: {req_binsize=}, {ncomb=}; retaining original binsize {dlgm_orig=}\")\n",
    "        assert mbin_edges.all() == mbin_edges_orig.all() and dlgm == dlgm_orig, \"Error in setting ncomb=1!\"\n",
    "        mhist_snap = mhist_snap_orig\n",
    "        \n",
    "    if verbose:\n",
    "        print(f\"{mhist_all_snaps.shape=}, {mhist_all_snaps.min()=}, {mhist_all_snaps.max()=}\")\n",
    "        print(f\"{mhist_snap.shape=}, {mhist_snap.min()=}, {mhist_snap.max()=}\")\n",
    "        print(f\"{snapnums=}\")\n",
    "        print(f\"{dlgm=}, {mbin_edges.shape=}\")\n",
    "        print(f\"{mbin_edges=}\")\n",
    "\n",
    "    ##gsmf = mhist_snap / dlgm / np.log(10) / box_vol_mpc  # dex^-1 Mpc^-3\n",
    "    gsmf = mhist_snap / dlgm / box_vol_mpc  # dex^-1 Mpc^-3\n",
    "    return mbin_edges[:-1]+0.5*dlgm, gsmf, mhist_snap #mbin_edges, dlgm\n"
   ]
  },
  {
   "cell_type": "code",
   "execution_count": null,
   "id": "10",
   "metadata": {
    "tags": []
   },
   "outputs": [],
   "source": [
    "tng100_basePath = '/orange/lblecha/IllustrisTNG/Runs/TNG100-1/output/'\n",
    "tng50_basePath = '/orange/lblecha/IllustrisTNG/Runs/TNG50-1/output/'\n",
    "ill_basePath = '/orange/lblecha/Illustris/Illustris-1/output/'\n",
    "z_arr = np.array([0, 0.2, 0.4, 0.5, 1, 2, 3, 4, 5])\n",
    "binsize = 0.2\n",
    "mhist_tng100 = {}\n",
    "gsmf_tng100 = {}\n",
    "bins_tng100 = {}\n",
    "mhist_tng50 = {}\n",
    "gsmf_tng50 = {}\n",
    "bins_tng50 = {}\n",
    "mhist_ill = {}\n",
    "gsmf_ill = {}\n",
    "bins_ill = {}\n",
    "gsmf_sam = {}\n",
    "\n",
    "sam_lgmstar_arr = np.arange(8.0,13.1,0.05)\n",
    "sam_mstar_arr = 10**sam_lgmstar_arr * MSOL\n",
    "\n",
    "for z in z_arr:\n",
    "    #tmp = calc_gsmf_from_snap(tng100_basePath, z, req_binsize=binsize)\n",
    "    #bins_tng100[z] = tmp[0]\n",
    "    #gsmf_tng100[z] = tmp[1]\n",
    "    #mhist_tng100[z] = tmp[2]\n",
    "    bins_tng100[z],gsmf_tng100[z],mhist_tng100[z] = calc_gsmf_from_snap(tng100_basePath, \n",
    "                                                                        z, req_binsize=binsize)\n",
    "\n",
    "    bins_tng50[z],gsmf_tng50[z],mhist_tng50[z] = calc_gsmf_from_snap(tng50_basePath, \n",
    "                                                                     z, req_binsize=binsize)\n",
    "    \n",
    "    bins_ill[z],gsmf_ill[z],mhist_ill[z] = calc_gsmf_from_snap(tng50_basePath, \n",
    "                                                                     z, req_binsize=binsize)\n",
    "    \n",
    "    tmp = calc_gsmf_from_snap(tng50_basePath, z, req_binsize=binsize)\n",
    "    bins_tng50[z] = tmp[0]\n",
    "    gsmf_tng50[z] = tmp[1]\n",
    "    mhist_tng50[z] = tmp[2]\n",
    "\n",
    "    tmp = calc_gsmf_from_snap(ill_basePath, z, req_binsize=binsize)\n",
    "    bins_ill[z] = tmp[0]\n",
    "    gsmf_ill[z] = tmp[1]\n",
    "    mhist_ill[z] = tmp[2]\n",
    "    \n",
    "    gsmf_sam[z] = sam._gsmf(sam_mstar_arr, z) ##/ np.log(10)  # units of dex^-1 Mpc^-3\n",
    "print(f\"{gsmf_sam[1]=}\")\n",
    "print(f\"{sam_lgmstar_arr=}\")"
   ]
  },
  {
   "cell_type": "code",
   "execution_count": null,
   "id": "11",
   "metadata": {
    "tags": []
   },
   "outputs": [],
   "source": [
    "plt.yscale('log')\n",
    "plt.plot(bins_tng100[0.5], gsmf_tng100[0.5],'c--',label='TNG100-1 (all gals, z=0.5)')\n",
    "plt.plot(bins_tng100[5], gsmf_tng100[5],'c--',label='TNG100-1 (all gals, z=5)')"
   ]
  },
  {
   "cell_type": "code",
   "execution_count": null,
   "id": "12",
   "metadata": {
    "tags": []
   },
   "outputs": [],
   "source": [
    "mstar_pri,mstar_rat,mstar_tot,redz = sam.mass_stellar() \n",
    "print(mstar_pri.shape)\n",
    "print(mstar_pri.min()/MSOL, mstar_pri.max()/MSOL)\n",
    "\n",
    "print(f\"phi0={sam._gsmf._phi0}, phiz={sam._gsmf._phiz}\")\n",
    "print(f\"log10(mchar0/msun)={np.log10(sam._gsmf._mchar0/MSOL):g}, log10(mcharz/msun)={np.log10(sam._gsmf._mcharz/MSOL):g}\")\n",
    "print(f\"alpha0={sam._gsmf._alpha0}, alphaz={sam._gsmf._alphaz}\")\n",
    "#plt.xscale('log')\n",
    "plt.yscale('log')\n",
    "#plt.xlim(5.0e7,2.0e12)\n",
    "plt.ylim(1.0e-6,0.01)\n",
    "plt.plot(sam_lgmstar_arr, gsmf_sam[0], lw=3)\n",
    "plt.plot(sam_lgmstar_arr, gsmf_sam[0.5], lw=3)\n",
    "plt.plot(sam_lgmstar_arr, gsmf_sam[5], lw=3)\n",
    "#plt.plot(mstar_pri.flatten()/MSOL, sam._gsmf(mstar_pri.flatten(), 0.0)/ np.log(10) ,'.',lw=0,ms=0.1,alpha=0.2)\n",
    "#plt.plot(mstar_pri.flatten()/MSOL, sam._gsmf(mstar_pri.flatten(), 5.0)/ np.log(10) ,'.',lw=0,ms=0.1,alpha=0.2)\n",
    "#phi_check_z0 = np.power(10.0, sam._gsmf._phi0 + sam._gsmf._phiz * 0.0)\n",
    "#m0_check = sam._gsmf._mchar0 / MSOL\n",
    "#plt.plot([1.0e8,1.0e12], [phi_check_z0, phi_check_z0])\n",
    "#plt.plot([m0_check,m0_check],[1.0e-6,1.0e-2],)\n",
    "print(f\"{gsmf_sam[1]=}\")\n",
    "print(f\"{sam_lgmstar_arr=}\")"
   ]
  },
  {
   "cell_type": "code",
   "execution_count": null,
   "id": "13",
   "metadata": {
    "tags": []
   },
   "outputs": [],
   "source": [
    "import parse_conselice2016_table1\n",
    "c16_zlo, c16_zhi, c16_lgm, c16_gsmfs, c16_lim, refs = parse_conselice2016_table1.calc_c16_gsmfs()\n",
    "c16_zcen = (c16_zhi - c16_zlo) / 2 + c16_zlo\n",
    "for i in range(len(c16_zcen)):\n",
    "    print(f\"zcen={c16_zcen[i]} ({c16_zlo[i]}-{c16_zhi[i]}) {refs[i]}\")\n",
    "print(c16_zlo.shape, c16_zhi.shape, c16_zcen.shape, c16_lgm.shape, c16_gsmfs.shape, c16_lim.shape, refs.shape)"
   ]
  },
  {
   "cell_type": "code",
   "execution_count": null,
   "id": "14",
   "metadata": {
    "tags": []
   },
   "outputs": [],
   "source": [
    "def compare_sim_vs_sam_gsmfs(z=0, dz=0.1, c16_zrange=None, apply_lim=False, verbose=False): \n",
    "\n",
    "    compare_sim_merging_gsmfs(all_dpops[:3], req_z=z, req_dz=dz)\n",
    "    plt.xlim(7.8,13.2)\n",
    "    plt.ylim(1.0e-7,0.1)\n",
    "    \n",
    "    if isinstance(c16_zrange, (tuple, list, np.ndarray)) and len(c16_zrange)==2:\n",
    "        c16_zlo, c16_zhi, c16_lgm, c16_gsmfs, c16_lim, refs = parse_conselice2016_table1.calc_c16_gsmfs()\n",
    "        c16_zcen = (c16_zhi - c16_zlo) / 2 + c16_zlo\n",
    "        ix = np.where((c16_zcen>=c16_zrange[0])&(c16_zcen<c16_zrange[1]))[0]\n",
    "        if apply_lim:\n",
    "            plt.plot(c16_lgm, c16_gsmfs[:, ix],ls='--',alpha=0.5,color='k')\n",
    "            for ii in ix:\n",
    "                plt.plot(c16_lgm[c16_lgm>=c16_lim[ii]], c16_gsmfs[c16_lgm>=c16_lim[ii], ii],\n",
    "                         label=f\"{refs[ii]} (z={c16_zlo[ii]}-{c16_zhi[ii]})\")\n",
    "        else:\n",
    "            for ii in ix:\n",
    "                plt.plot(c16_lgm, c16_gsmfs[:, ii],ls='--',alpha=0.5,\n",
    "                         label=f\"{refs[ii]} (z={c16_zlo[ii]}-{c16_zhi[ii]})\")\n",
    "\n",
    "    elif c16_zrange is not None:\n",
    "        print(f\"Error: c16_zrange must be a len-2 tuple, list, or array. {c16_zrange=}\")\n",
    "\n",
    "    plt.plot(sam_lgmstar_arr, gsmf_sam[z],'k',lw=4,label=f'SAM (z={z:.2g})')\n",
    "    plt.plot(bins_tng50[z],gsmf_tng50[z],'r:',alpha=0.5,lw=3)\n",
    "    plt.plot(bins_tng50[z][mhist_tng50[z]>10],gsmf_tng50[z][mhist_tng50[z]>10],'r',\n",
    "             label=f'TNG50-1 (all gals, z={z:.2g})',lw=3)\n",
    "    plt.plot(bins_tng100[z],gsmf_tng100[z],':',color='orchid',alpha=0.5,lw=3)\n",
    "    plt.plot(bins_tng100[z][mhist_tng100[z]>10], gsmf_tng100[z][mhist_tng100[z]>10],\n",
    "             color='orchid',label=f'TNG100-1 (all gals, z={z:.2g})',lw=3)\n",
    "    plt.plot(bins_ill[z],gsmf_ill[z],'c:',alpha=0.5,lw=3)\n",
    "    plt.plot(bins_ill[z][mhist_ill[z]>10],gsmf_ill[z][mhist_ill[z]>10],'c',\n",
    "             label=f'Ill-1 (all gals, z={z:.2g})',lw=3)\n",
    "    \n",
    "        \n",
    "    plt.legend()\n",
    "    plt.show()"
   ]
  },
  {
   "cell_type": "code",
   "execution_count": null,
   "id": "15",
   "metadata": {
    "tags": []
   },
   "outputs": [],
   "source": [
    "compare_sim_vs_sam_gsmfs(z=0, dz=0.1,c16_zrange=(0,0.4))\n",
    "#plt.plot(c16_lgm, c16_gsmfs[:,c16_zcen<0.5])"
   ]
  },
  {
   "cell_type": "code",
   "execution_count": null,
   "id": "16",
   "metadata": {
    "tags": []
   },
   "outputs": [],
   "source": [
    "compare_sim_vs_sam_gsmfs(z=0.5, dz=0.1, c16_zrange=(0.3,0.39))"
   ]
  },
  {
   "cell_type": "code",
   "execution_count": null,
   "id": "17",
   "metadata": {
    "tags": []
   },
   "outputs": [],
   "source": [
    "compare_sim_vs_sam_gsmfs(z=1, dz=0.25, c16_zrange=(0.8,1.2), apply_lim=False)"
   ]
  },
  {
   "cell_type": "code",
   "execution_count": null,
   "id": "18",
   "metadata": {
    "tags": []
   },
   "outputs": [],
   "source": [
    "compare_sim_vs_sam_gsmfs(z=2, dz=0.5, c16_zrange=(1.7,2.3))"
   ]
  },
  {
   "cell_type": "code",
   "execution_count": null,
   "id": "19",
   "metadata": {
    "tags": []
   },
   "outputs": [],
   "source": [
    "compare_sim_vs_sam_gsmfs(z=3, dz=0.5, c16_zrange=(2.75,3.25))"
   ]
  },
  {
   "cell_type": "code",
   "execution_count": null,
   "id": "20",
   "metadata": {},
   "outputs": [],
   "source": [
    "compare_sim_vs_sam_gsmfs(z=4, dz=0.5, c16_zrange=(3.75,4.25))"
   ]
  },
  {
   "cell_type": "code",
   "execution_count": null,
   "id": "21",
   "metadata": {},
   "outputs": [],
   "source": []
  }
 ],
 "metadata": {
  "kernelspec": {
   "display_name": "holo311",
   "language": "python",
   "name": "holo311"
  },
  "language_info": {
   "codemirror_mode": {
    "name": "ipython",
    "version": 3
   },
   "file_extension": ".py",
   "mimetype": "text/x-python",
   "name": "python",
   "nbconvert_exporter": "python",
   "pygments_lexer": "ipython3",
   "version": "3.11.9"
  }
 },
 "nbformat": 4,
 "nbformat_minor": 5
}
