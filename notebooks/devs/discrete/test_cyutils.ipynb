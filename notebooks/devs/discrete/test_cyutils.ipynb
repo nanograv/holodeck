{
 "cells": [
  {
   "cell_type": "code",
   "execution_count": null,
   "metadata": {},
   "outputs": [],
   "source": [
    "# from importlib import reload\n",
    "import numpy as np\n",
    "import holodeck as holo\n",
    "import holodeck.cyutils\n",
    "# reload(holodeck.cyutils)"
   ]
  },
  {
   "attachments": {},
   "cell_type": "markdown",
   "metadata": {},
   "source": [
    "## interp_2d"
   ]
  },
  {
   "cell_type": "code",
   "execution_count": null,
   "metadata": {},
   "outputs": [],
   "source": [
    "NUM = 4\n",
    "OLD = 10\n",
    "NEW = 3\n",
    "POWER = False\n",
    "XLOG = True\n",
    "YLOG = True\n",
    "EXTRAP = True\n",
    "\n",
    "old_shape = (NUM, OLD)\n",
    "new_shape = (NUM, NEW)\n",
    "extr = [0.0, +1.0]\n",
    "\n",
    "xnew = np.random.uniform(*extr, size=new_shape)\n",
    "xold = np.random.uniform(*extr, size=old_shape)\n",
    "yold = np.random.uniform(*extr, size=old_shape)\n",
    "xnew, xold = [np.sort(xx, axis=1) for xx in [xnew, xold]]\n",
    "if POWER:\n",
    "    xnew, xold, yold = [10.0**xx for xx in [xnew, xold, yold]]"
   ]
  },
  {
   "cell_type": "code",
   "execution_count": null,
   "metadata": {},
   "outputs": [],
   "source": [
    "test = holo.cyutils.interp_2d(xnew, xold, yold, xlog=XLOG, ylog=YLOG, extrap=EXTRAP)\n",
    "test = np.asarray(test)"
   ]
  },
  {
   "cell_type": "code",
   "execution_count": null,
   "metadata": {},
   "outputs": [],
   "source": [
    "check = holo.utils.ndinterp(xnew, xold, yold, XLOG, YLOG)"
   ]
  },
  {
   "cell_type": "code",
   "execution_count": null,
   "metadata": {},
   "outputs": [],
   "source": [
    "for ii in range(NUM):\n",
    "    print(f\"\\n{ii=}\")\n",
    "    print(f\"{xnew[ii]=}\")\n",
    "    print(f\"{xold[ii]=}\")\n",
    "    print(f\"{yold[ii]=}\")\n",
    "    print(f\"{test[ii]}\")\n",
    "    print(f\"{check[ii]}\")\n",
    "    idx = np.isfinite(check[ii])\n",
    "    assert np.allclose(test[ii][idx], check[ii][idx])"
   ]
  },
  {
   "cell_type": "code",
   "execution_count": null,
   "metadata": {},
   "outputs": [],
   "source": []
  }
 ],
 "metadata": {
  "kernelspec": {
   "display_name": "py310",
   "language": "python",
   "name": "python3"
  },
  "language_info": {
   "codemirror_mode": {
    "name": "ipython",
    "version": 3
   },
   "file_extension": ".py",
   "mimetype": "text/x-python",
   "name": "python",
   "nbconvert_exporter": "python",
   "pygments_lexer": "ipython3",
   "version": "3.10.10"
  }
 },
 "nbformat": 4,
 "nbformat_minor": 2
}
