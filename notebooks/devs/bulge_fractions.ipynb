{
 "cells": [
  {
   "cell_type": "code",
   "execution_count": null,
   "metadata": {},
   "outputs": [],
   "source": [
    "import numpy as np\n",
    "import matplotlib.pyplot as plt\n",
    "\n",
    "import holodeck as holo\n",
    "import holodeck.plot\n",
    "import holodeck.host_relations\n",
    "from holodeck.constants import *"
   ]
  },
  {
   "cell_type": "markdown",
   "metadata": {},
   "source": [
    "## Sigmoid Bulge-Fraction"
   ]
  },
  {
   "cell_type": "markdown",
   "metadata": {},
   "source": [
    "### Analytic"
   ]
  },
  {
   "cell_type": "code",
   "execution_count": null,
   "metadata": {},
   "outputs": [],
   "source": [
    "def sigmoid(xx, frac_lo=1.0, frac_hi=1.0, width=2.0):\n",
    "    steep = 1.0 / width\n",
    "    yy = frac_lo + (frac_hi - frac_lo) / (1.0 + ((1.0 / xx) - 1.0)**steep)\n",
    "    yy[(xx >= 1.0) | (yy >= frac_hi)] = frac_hi\n",
    "    return yy\n",
    "\n",
    "# def inverse(yy, frac_lo=1.0, frac_hi=1.0, width=2.0):\n",
    "#     sel = (yy < 1.0)\n",
    "#     xx = np.ones_like(yy)\n",
    "\n",
    "#     zz = (frac_hi - yy[sel]) / (yy[sel] - frac_lo)\n",
    "#     xx[sel] = (np.power(yy, width) - 1.0) ** -1\n",
    "#     xx[~sel] =\n",
    "\n",
    "#     return xx\n",
    "\n",
    "def deriv(xx, frac_lo=1.0, frac_hi=1.0, width=2.0):\n",
    "    k = 1.0 / width\n",
    "    fl = frac_lo\n",
    "    fh = frac_hi\n",
    "    yy = sigmoid(xx, frac_lo=frac_lo, frac_hi=frac_hi, width=width)\n",
    "\n",
    "    yp = (fh - fl) / np.square(1.0 + np.power(1/xx - 1.0, k))\n",
    "    yp *= k * np.power(1/xx - 1, k-1)\n",
    "    yp *= np.power(xx, -2)\n",
    "    yp[(xx >= 1.0) | (yy >= frac_hi)] = 0.0\n",
    "\n",
    "    return yp\n",
    "\n",
    "xx = np.logspace(-4, 1, 100)"
   ]
  },
  {
   "cell_type": "code",
   "execution_count": null,
   "metadata": {},
   "outputs": [],
   "source": [
    "frac_hi = 0.5\n",
    "low_fractions = [0.01, 0.05, 0.1, 0.2, 0.3, 0.4, 0.5, 0.6, 0.7, 0.8, 0.9]\n",
    "low_fractions = np.array(low_fractions)\n",
    "\n",
    "fig, ax = holo.plot.figax(yscale='lin')\n",
    "limits = []\n",
    "for flo in low_fractions:\n",
    "    yy = sigmoid(xx, frac_lo=flo, frac_hi=frac_hi)\n",
    "    cc, = ax.plot(xx, yy, label=f'{flo:.2f}')\n",
    "    cc = cc.get_color()\n",
    "    ax.axhline(flo, alpha=0.75, ls='--', lw=0.5, color=cc)\n",
    "    limits.append(yy[0])\n",
    "\n",
    "ax.legend()\n",
    "\n",
    "plt.show()"
   ]
  },
  {
   "cell_type": "code",
   "execution_count": null,
   "metadata": {},
   "outputs": [],
   "source": [
    "widths = [0.5, 1.0, 2.0, 3.0]\n",
    "\n",
    "fig, ax = holo.plot.figax(xlabel='Stellar Mass [$M_\\star / M_0$]', yscale='lin', ylabel='Bulge Fraction')\n",
    "limits = []\n",
    "for wid in widths:\n",
    "    yy = sigmoid(xx, frac_lo=0.5, frac_hi=0.8, width=wid)\n",
    "    cc, = ax.plot(xx, yy, label=f'{wid:.2f}')\n",
    "    ax.axvline(10**-wid, color=cc.get_color(), ls='--', alpha=0.5)\n",
    "\n",
    "ax.legend()\n",
    "plt.show()"
   ]
  },
  {
   "cell_type": "code",
   "execution_count": null,
   "metadata": {},
   "outputs": [],
   "source": [
    "frac_hi = 0.5\n",
    "width = 1.5\n",
    "# low_fractions = [0.01, 0.05, 0.1, 0.2, 0.3, 0.4, 0.5, 0.6, 0.7, 0.8, 0.9]\n",
    "low_fractions = [0.05, 0.1, 0.2, 0.5, 0.8]\n",
    "low_fractions = np.array(low_fractions)\n",
    "\n",
    "fig, ax = holo.plot.figax(yscale='lin')\n",
    "fig, tw = holo.plot.figax(yscale='log')\n",
    "limits = []\n",
    "for flo in low_fractions:\n",
    "    kw = dict(frac_lo=flo, frac_hi=frac_hi, width=width)\n",
    "    # yy = sigmoid(xx, **kw)\n",
    "    # cc, = ax.plot(xx, yy, label=f'{flo:.2f}')\n",
    "    # cc = cc.get_color()\n",
    "\n",
    "    yp = deriv(xx, **kw)\n",
    "    xl = xx * (1.0 - 1e-2)\n",
    "    xh = xx * (1.0 + 1e-2)\n",
    "    yl = sigmoid(xl, **kw)\n",
    "    yh = sigmoid(xh, **kw)\n",
    "    dd = (yh - yl) / (xh - xl)\n",
    "    err = (yp - dd) / dd\n",
    "\n",
    "    cc, = ax.plot(xx, yp, ls='--', label=f\"{flo:.2f}\")\n",
    "    # cc = None\n",
    "    cc = cc.get_color()\n",
    "    ax.plot(xx, dd, ls='-', alpha=0.5, color=cc)\n",
    "    tw.plot(xx, np.fabs(err), alpha=0.5)\n",
    "\n",
    "\n",
    "ax.legend()\n",
    "\n",
    "plt.show()"
   ]
  },
  {
   "cell_type": "markdown",
   "metadata": {},
   "source": [
    "### Implementation"
   ]
  },
  {
   "cell_type": "code",
   "execution_count": null,
   "metadata": {},
   "outputs": [],
   "source": [
    "frac_lo = 0.3\n",
    "frac_hi = 0.9\n",
    "mchar = 10.5\n",
    "width = 1.0\n",
    "bf = holo.host_relations.BF_Sigmoid(\n",
    "    bulge_frac_lo=frac_lo, bulge_frac_hi=frac_hi, mstar_char_log10=mchar, width_dex=width\n",
    ")"
   ]
  },
  {
   "cell_type": "code",
   "execution_count": null,
   "metadata": {},
   "outputs": [],
   "source": []
  },
  {
   "cell_type": "code",
   "execution_count": null,
   "metadata": {},
   "outputs": [],
   "source": [
    "ms = np.logspace(9, 12, 100) * MSOL\n",
    "mb = bf.mbulge_from_mstar(ms)\n",
    "\n",
    "ms_test = bf.mstar_from_mbulge(mb)\n",
    "\n",
    "fig, ax = holo.plot.figax(xlabel='Stellar Mass [$M_\\odot$]', ylabel='Bulge Mass [$M_\\odot$]')\n",
    "ax.plot(ms/MSOL, mb/MSOL, '-')\n",
    "# ax.plot(ms_test/MSOL, mb/MSOL, '-', alpha=0.2)\n",
    "ax.plot(ms/MSOL, (ms/MSOL)*bf._bulge_frac_lo, 'k--', alpha=0.2)\n",
    "ax.plot(ms/MSOL, (ms/MSOL)*bf._bulge_frac_hi, 'k--', alpha=0.2)\n",
    "\n",
    "fig, ax = holo.plot.figax()\n",
    "err = np.fabs((ms_test - ms) / ms)\n",
    "ax.plot(ms/MSOL, err, '.-')\n",
    "\n",
    "plt.show()"
   ]
  },
  {
   "cell_type": "markdown",
   "metadata": {},
   "source": [
    "### Derivative: ``dmstar_dmbulge``"
   ]
  },
  {
   "cell_type": "code",
   "execution_count": null,
   "metadata": {},
   "outputs": [],
   "source": [
    "bf = holo.host_relations.BF_Sigmoid(\n",
    "    bulge_frac_lo=frac_lo, bulge_frac_hi=frac_hi, mstar_char_log10=mchar, width_dex=width\n",
    ")\n",
    "\n",
    "ms = np.logspace(8, 12, 1000) * MSOL\n",
    "# use forward relationship\n",
    "mb = bf.mbulge_from_mstar(ms)\n",
    "# get derivatives (numerical, internally)\n",
    "dms_dmb = bf.dmstar_dmbulge(mb)\n",
    "\n",
    "delta = 1.0e-4\n",
    "ms_hi = ms * (1.0 + delta/2.0)\n",
    "ms_lo = ms * (1.0 - delta/2.0)\n",
    "mb_hi = bf.mbulge_from_mstar(ms_hi)\n",
    "mb_lo = bf.mbulge_from_mstar(ms_lo)\n",
    "dms_dmb_numeric = (ms_hi - ms_lo) / (mb_hi - mb_lo)\n",
    "error = np.fabs(dms_dmb - dms_dmb_numeric) / dms_dmb_numeric\n",
    "print(holo.utils.stats(error))\n",
    "\n",
    "fig, axes = holo.plot.figax(figsize=[10, 8], nrows=2)\n",
    "axes[0].plot(mb/MSOL, dms_dmb/MSOL, '.-')\n",
    "axes[0].plot(mb/MSOL, dms_dmb_numeric/MSOL, 'x-', alpha=0.2)\n",
    "\n",
    "axes[1].plot(mb/MSOL, error, '.-')\n",
    "\n",
    "plt.show()"
   ]
  }
 ],
 "metadata": {
  "kernelspec": {
   "display_name": "py311",
   "language": "python",
   "name": "python3"
  },
  "language_info": {
   "codemirror_mode": {
    "name": "ipython",
    "version": 3
   },
   "file_extension": ".py",
   "mimetype": "text/x-python",
   "name": "python",
   "nbconvert_exporter": "python",
   "pygments_lexer": "ipython3",
   "version": "3.11.7"
  }
 },
 "nbformat": 4,
 "nbformat_minor": 2
}
