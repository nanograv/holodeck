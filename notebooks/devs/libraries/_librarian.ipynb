{
 "cells": [
  {
   "cell_type": "markdown",
   "metadata": {},
   "source": [
    "# `holodeck` - librarian\n",
    "\n",
    "Module for generating and managing simulation libraries.  Holodeck libraries are groups of simulations in which certain parameters are varied, for example parameters concerning the masses of black holes (e.g. through the M-Mbulge relationship), or parameters dictating the rate of binary evolution.  For more information, see the [holodeck getting started guide](https://holodeck-gw.readthedocs.io/en/main/getting_started/index.html), and specifically the page on [holodeck libraries](https://holodeck-gw.readthedocs.io/en/main/getting_started/libraries.html).\n",
    "\n",
    "Currently, libraries are only implemented from semi-analytic models (SAMs), which use the [`holodeck.sams.sam.Semi_Analytic_Model`](https://holodeck-gw.readthedocs.io/en/main/api_ref/holodeck.sams.html) class.  And binary evolution ('hardening') models implemented as subclasses of [`holodeck.hardening._Hardening`](https://holodeck-gw.readthedocs.io/en/main/api_ref/holodeck.hardening.html)."
   ]
  },
  {
   "cell_type": "code",
   "execution_count": null,
   "metadata": {},
   "outputs": [],
   "source": [
    "%reload_ext autoreload\n",
    "%autoreload 2\n",
    "\n",
    "from pathlib import Path\n",
    "\n",
    "import matplotlib.pyplot as plt\n",
    "import numpy as np\n",
    "\n",
    "import kalepy as kale\n",
    "\n",
    "# --- Holodeck ----\n",
    "import holodeck as holo\n",
    "import holodeck.librarian\n",
    "import holodeck.librarian.param_spaces\n",
    "from holodeck import cosmo, utils, plot\n",
    "\n",
    "log = holo.log\n",
    "log.setLevel(log.WARNING)"
   ]
  },
  {
   "cell_type": "markdown",
   "metadata": {},
   "source": [
    "## Parameter-Spaces (`_Param_Space` subclasses)"
   ]
  },
  {
   "cell_type": "markdown",
   "metadata": {},
   "source": [
    "Holodeck libraries are build around their parameter-spaces, which are implemented as subclasses of the [`holodeck.librarian.params._Param_Space`](https://holodeck-gw.readthedocs.io/en/main/api_ref/holodeck.librarian.params.html#holodeck.librarian.params._Param_Space) base class.  These subclasses should be named with `PS_` prefixes to denote that they are parameter spaces."
   ]
  },
  {
   "cell_type": "code",
   "execution_count": null,
   "metadata": {},
   "outputs": [],
   "source": [
    "PSPACE_CLASS = holo.librarian.param_spaces.PS_New_Test   #: Choose which parameter-space class to use\n",
    "# PSPACE_CLASS = holo.librarian.PS_Classic_Phenom_Uniform\n",
    "NSAMPLES = 10    #: Number of samples to draw\n",
    "SAM_SHAPE = (20, 21, 22)   #: Shape of the semi-analytic model grid (in the `Semi_Analytic_Model` class)"
   ]
  },
  {
   "cell_type": "code",
   "execution_count": null,
   "metadata": {},
   "outputs": [],
   "source": [
    "# construct an instance of the parameter-space class, which draws samples from the parameter space\n",
    "# using a latin hypercube\n",
    "pspace = PSPACE_CLASS(holo.log, nsamples=NSAMPLES, sam_shape=SAM_SHAPE)\n",
    "print(f\"pspace '{pspace.name}'\")\n",
    "print(f\"\\tlibrary shape={pspace.lib_shape} (samples, parameters)\")\n",
    "print(f\"\\tSAM grid shape={pspace.sam_shape}\")\n",
    "print(f\"\\tparameters ({pspace.nparameters}):\")\n",
    "for pp, dist, extr in zip(pspace.param_names, pspace._parameters, pspace.extrema):\n",
    "    print(f\"\\t\\t{pp} (distribution:{dist.__class__.__name__}): {extr}\")"
   ]
  },
  {
   "cell_type": "markdown",
   "metadata": {},
   "source": [
    "Create a corner plot showing where the samples are in each 1D and 2D slice of the parameter space."
   ]
  },
  {
   "cell_type": "code",
   "execution_count": null,
   "metadata": {},
   "outputs": [],
   "source": [
    "kale.corner(\n",
    "    pspace.param_samples.T, labels=pspace.param_names,\n",
    "    dist2d=dict(scatter=True, hist=False, contour=False),\n",
    "    dist1d=dict(carpet=True, hist=True, density=False),\n",
    ")\n",
    "plt.show()"
   ]
  },
  {
   "cell_type": "code",
   "execution_count": null,
   "metadata": {},
   "outputs": [],
   "source": [
    "# The sample parameters are stored as an array `param_samples`, which has a shape of `(S, P)` for\n",
    "# `S` random samples and `P` parameters\n",
    "SAMP = 4\n",
    "print(f\"Parameters for sample {SAMP}: {pspace.param_samples[SAMP]}\")\n",
    "# We can also obtain a dictionary of these parameters, with the parameter names as keys:\n",
    "params = pspace.param_dict(SAMP)\n",
    "for kk, vv in params.items():\n",
    "    print(f\"\\t{kk:20s}: {vv:+.2e}\")\n",
    "\n",
    "# We can load `Semi_Analytic_Model` and `_Hardening` class instances for this in two ways:\n",
    "# (1) by passing in this dictionary of parameters:\n",
    "sam, hard = pspace.model_for_params(params)\n",
    "# (2) by passing in the sample number\n",
    "sam, hard = pspace.model_for_sample_number(SAMP)"
   ]
  },
  {
   "attachments": {},
   "cell_type": "markdown",
   "metadata": {},
   "source": [
    "## Run the components for a single simulation"
   ]
  },
  {
   "cell_type": "code",
   "execution_count": null,
   "metadata": {},
   "outputs": [],
   "source": [
    "import holodeck.librarian.gen_lib\n",
    "args = holo.librarian.gen_lib._setup_argparse(\n",
    "\n",
    "    [\"PS_Test\", \"../output/test_librarian\", \"--gwb\", \"--ss\"],\n",
    "\n",
    "    nsamples=10,\n",
    "    nreals=12,\n",
    "    sam_shape=15,\n",
    "    recreate=True,\n",
    ")\n",
    "args.log = log\n",
    "print(args)\n",
    "\n",
    "# space = getattr(holo.param_spaces, args.param_space)\n",
    "# space_class = holo.librarian.param_spaces_dict[args.param_space]\n",
    "\n",
    "space_name = args.param_space.split(\".\")\n",
    "if len(space_name) > 1:\n",
    "    space_class = holo.librarian\n",
    "    for class_name in space_name:\n",
    "        space_class = getattr(space_class, class_name)\n",
    "else:\n",
    "    space_class = holo.librarian.param_spaces_dict[space_name[0]]\n",
    "\n",
    "space = space_class(args.log, args.nsamples, args.sam_shape, args.seed)\n",
    "np.random.seed(12345)\n",
    "pnum = np.random.choice(args.nsamples)\n",
    "print(f\"{pnum=}\")\n"
   ]
  },
  {
   "cell_type": "code",
   "execution_count": null,
   "metadata": {},
   "outputs": [],
   "source": [
    "# pta_dur = args.pta_dur * YR\n",
    "# nfreqs = args.nfreqs\n",
    "# hifr = nfreqs/pta_dur\n",
    "# pta_cad = 1.0 / (2 * hifr)\n",
    "# fobs_cents = holo.utils.nyquist_freqs(pta_dur, pta_cad)\n",
    "# fobs_edges = holo.utils.nyquist_freqs_edges(pta_dur, pta_cad)\n",
    "\n",
    "# print(space.param_dict(pnum))\n",
    "\n",
    "# sam, hard = space(pnum)\n",
    "# gwb = sam.gwb(fobs_edges, realize=args.nreals, hard=hard)\n",
    "# print(f\"{utils.stats(gwb)=}\")\n"
   ]
  },
  {
   "cell_type": "code",
   "execution_count": null,
   "metadata": {},
   "outputs": [],
   "source": [
    "rv, sim_fname = holo.librarian.gen_lib.run_sam_at_pspace_num(args, space, pnum)\n",
    "print(sim_fname)"
   ]
  },
  {
   "cell_type": "code",
   "execution_count": null,
   "metadata": {},
   "outputs": [],
   "source": [
    "data = np.load(sim_fname)\n",
    "print(list(data.keys()))\n",
    "bg = data['hc_bg']\n",
    "ss = data['hc_ss']\n",
    "gwb = data['gwb']\n",
    "print(bg.shape, ss.shape, gwb.shape)\n",
    "test = np.sum(ss**2, axis=-1)\n",
    "test = np.sqrt(bg**2 + test)\n",
    "print(test.shape, gwb.shape)\n",
    "print(utils.stats(gwb))\n",
    "print(utils.stats(test))"
   ]
  },
  {
   "cell_type": "code",
   "execution_count": null,
   "metadata": {},
   "outputs": [],
   "source": [
    "plaw_nbins, fit_plaw, fit_plaw_med = holo.librarian.fit_spectra_plaw(fobs_cents, gwb, holo.librarian.FITS_NBINS_PLAW)\n",
    "turn_nbins, fit_turn, fit_turn_med = holo.librarian.fit_spectra_turn(fobs_cents, gwb, holo.librarian.FITS_NBINS_TURN)\n",
    "\n",
    "fit_data = dict(\n",
    "    fit_plaw_nbins=plaw_nbins, fit_plaw=fit_plaw, fit_plaw_med=fit_plaw_med,\n",
    "    fit_turn_nbins=turn_nbins, fit_turn=fit_turn, fit_turn_med=fit_turn_med,\n",
    ")\n"
   ]
  },
  {
   "cell_type": "code",
   "execution_count": null,
   "metadata": {},
   "outputs": [],
   "source": [
    "fig = holo.librarian.make_gwb_plot(fobs_cents, gwb, fit_data)"
   ]
  },
  {
   "attachments": {},
   "cell_type": "markdown",
   "metadata": {},
   "source": [
    "## run all sample points"
   ]
  },
  {
   "cell_type": "code",
   "execution_count": null,
   "metadata": {},
   "outputs": [],
   "source": [
    "args = _setup_argparse(\n",
    "    [\"PS_Uniform_07_GW\", \"../output/uniform-07_gw_test\"],\n",
    "    namespace=argparse.Namespace(nsamples=10, nreals=4, sam_shape=11),\n",
    "    )\n",
    "args.log = log\n",
    "print(args)\n",
    "\n",
    "space = getattr(holo.param_spaces, args.param_space)\n",
    "space = space(args.log, args.nsamples, args.sam_shape, args.seed)\n",
    "space_fname = space.save(args.output)\n",
    "log.info(f\"saved parameter space {space} to {space_fname}\")\n",
    "\n",
    "for pnum in tqdm.trange(args.nsamples):\n",
    "    holo.librarian.run_sam_at_pspace_num(args, space, pnum)"
   ]
  },
  {
   "cell_type": "code",
   "execution_count": null,
   "metadata": {},
   "outputs": [],
   "source": [
    "log.setLevel(log.DEBUG)\n",
    "lib_fname = holo.librarian.sam_lib_combine(args.output, log, path_sims=args.output_sims)"
   ]
  },
  {
   "cell_type": "code",
   "execution_count": null,
   "metadata": {},
   "outputs": [],
   "source": [
    "with h5py.File(lib_fname, 'r') as data:\n",
    "    keys = list(data.keys())\n",
    "\n",
    "    print(\"datasets:\")\n",
    "    for kk in keys:\n",
    "        print(\"\\t\", kk, data[kk].shape)\n",
    "        print(\"\\t\\t\", utils.stats(data[kk]))\n",
    "\n",
    "    print(\"attributes:\")\n",
    "    keys = list(data.attrs.keys())\n",
    "    for kk in keys:\n",
    "        print(\"\\t\", kk, data.attrs[kk])"
   ]
  },
  {
   "cell_type": "code",
   "execution_count": null,
   "metadata": {},
   "outputs": [],
   "source": [
    "with h5py.File(lib_fname, 'r') as data:\n",
    "    xx = data['fobs'][()] * YR\n",
    "    gwb = data['gwb'][()]\n",
    "    hc_bg = data['hc_bg'][()]\n",
    "    hc_ss = data['hc_ss'][()]\n",
    "    print(gwb.shape, hc_bg.shape, hc_ss.shape)\n",
    "\n",
    "    hc_gwb = np.sqrt(hc_bg **2 + np.sum(hc_ss**2, axis=-1))\n",
    "    diff = (gwb - hc_gwb)/hc_gwb\n",
    "    print(utils.stats(diff))\n",
    "\n",
    "    for ii in range(10):\n",
    "        fig, ax = plot.figax()\n",
    "        aa = gwb[ii]\n",
    "        bb = hc_gwb[ii]\n",
    "        ax.plot(xx, np.median(aa, axis=-1))\n",
    "        ax.plot(xx, np.median(bb, axis=-1))\n"
   ]
  },
  {
   "cell_type": "code",
   "execution_count": null,
   "metadata": {},
   "outputs": [],
   "source": [
    "breaker()"
   ]
  },
  {
   "attachments": {},
   "cell_type": "markdown",
   "metadata": {},
   "source": [
    "# Param_Space Class"
   ]
  },
  {
   "cell_type": "code",
   "execution_count": null,
   "metadata": {},
   "outputs": [],
   "source": [
    "class PS_Test(holo.librarian._Param_Space):\n",
    "\n",
    "    def __init__(self, log, nsamples, sam_shape, seed):\n",
    "        super().__init__(\n",
    "            log, nsamples, sam_shape, seed,\n",
    "            gsmf_phi0=holo.librarian.PD_Normal(-2.77, 0.3),\n",
    "        )\n",
    "        return\n",
    "\n",
    "    def model_for_number(self, num):\n",
    "        params = self.param_dict(num)\n",
    "        gsmf = holo.sam.GSMF_Schechter(phi0=params['gsmf_phi0'])\n",
    "        # CONSTRUCT SAM and HARD models here\n",
    "        sam = holo.sam.Semi_Analytic_Model(\n",
    "            ZERO_DYNAMIC_STALLED_SYSTEMS = False,\n",
    "            ZERO_GMT_STALLED_SYSTEMS = True,\n",
    "        )\n",
    "        hard = holo.hardening.Hard_GW\n",
    "        return sam, hard\n",
    "\n",
    "test = PS_Test(log, 4, 10, 12345)\n",
    "fobs_edges = utils.nyquist_freqs_edges()\n",
    "fobs_cents = utils.midpoints(fobs_edges, log=False)\n",
    "sam, hard = test.model_for_number(0)\n",
    "gwb = sam.gwb(fobs_edges, hard=hard, realize=20)\n",
    "plot.plot_gwb(fobs_cents, gwb)\n",
    "plt.show()"
   ]
  },
  {
   "cell_type": "code",
   "execution_count": null,
   "metadata": {},
   "outputs": [],
   "source": [
    "class PS_Test(holo.librarian._Param_Space):\n",
    "\n",
    "    def __init__(self, log, nsamples, sam_shape, seed):\n",
    "        super().__init__(\n",
    "            log, nsamples, sam_shape, seed,\n",
    "            gsmf_phi0=holo.librarian.PD_Normal(-2.77, 0.3),\n",
    "        )\n",
    "        return\n",
    "\n",
    "    def model_for_number(self, num):\n",
    "        params = self.param_dict(num)\n",
    "        gsmf = holo.sam.GSMF_Schechter(phi0=params['gsmf_phi0'])\n",
    "\n",
    "        sam = holo.sam.Semi_Analytic_Model(\n",
    "            ZERO_DYNAMIC_STALLED_SYSTEMS = True,\n",
    "            ZERO_GMT_STALLED_SYSTEMS = False,\n",
    "            shape=self.sam_shape\n",
    "        )\n",
    "        # hard = holo.hardening.Hard_GW\n",
    "        hard = holo.hardening.Fixed_Time.from_sam(sam, 0.01*GYR)\n",
    "        return sam, hard\n",
    "\n",
    "test = PS_Test(log, 4, 10, 12345)\n",
    "fobs_edges = utils.nyquist_freqs_edges()\n",
    "fobs_cents = utils.midpoints(fobs_edges, log=False)\n",
    "sam, hard = test.model_for_number(0)\n",
    "gwb = sam.gwb(fobs_edges, hard=hard, realize=20)\n",
    "plot.plot_gwb(fobs_cents, gwb)\n",
    "plt.show()"
   ]
  },
  {
   "cell_type": "code",
   "execution_count": null,
   "metadata": {},
   "outputs": [],
   "source": [
    "class PS_Test(holo.librarian._Param_Space):\n",
    "\n",
    "    def __init__(self, log, nsamples, sam_shape, seed):\n",
    "        super().__init__(\n",
    "            log, nsamples, sam_shape, seed,\n",
    "            par1=holo.librarian.PD_Uniform(-1.0, 1.0),\n",
    "            par2=holo.librarian.PD_Uniform_Log(10.0, 1000.0),\n",
    "            par3=holo.librarian.PD_Normal(-3.0, 0.4),\n",
    "        )\n",
    "        return\n",
    "\n",
    "    def model_for_number(self, num):\n",
    "        # CONSTRUCT SAM and HARD models here\n",
    "        sam = None\n",
    "        hard = None\n",
    "        return sam, hard\n",
    "\n",
    "nsamps = 1000\n",
    "test = PS_Test(log, nsamps, 50, 12345)\n",
    "\n",
    "for ii in np.random.choice(nsamps, 4, replace=False):\n",
    "    print(f\"\\ntest sample {ii:4d} :: {test.params(ii)}  \\n    {test.param_dict(ii)}\")\n",
    "\n",
    "fig, axes = plt.subplots(figsize=[10, 5], ncols=test.ndims)\n",
    "for ii, ax in enumerate(axes):\n",
    "    ax.grid(True, alpha=0.25)\n",
    "    kale.dist1d(test._params[:, ii], ax=ax, density=False)\n",
    "\n",
    "plt.show()\n"
   ]
  },
  {
   "attachments": {},
   "cell_type": "markdown",
   "metadata": {},
   "source": [
    "## Saving a _Param_Space class"
   ]
  },
  {
   "cell_type": "code",
   "execution_count": null,
   "metadata": {},
   "outputs": [],
   "source": [
    "space = holo.param_spaces.PS_Broad_Uniform_02B(log, 100, (11, 12, 13), None)\n",
    "output = Path('.').resolve()\n",
    "print(output)\n",
    "fname = space.save(output)"
   ]
  },
  {
   "cell_type": "code",
   "execution_count": null,
   "metadata": {},
   "outputs": [],
   "source": [
    "check = holo.param_spaces.PS_Broad_Uniform_02B.from_save(fname, log)"
   ]
  },
  {
   "cell_type": "code",
   "execution_count": null,
   "metadata": {},
   "outputs": [],
   "source": [
    "for kk in dir(space):\n",
    "    if kk.startswith(\"__\") or kk in ['_random_state']:\n",
    "        continue\n",
    "    v1 = getattr(space, kk)\n",
    "    v2 = getattr(check, kk)\n",
    "    print(kk, type(v1), type(v2))\n",
    "    if callable(v1):\n",
    "        continue\n",
    "    test = (v1 == v2)\n",
    "    print(\"\\t\", np.all(test))\n",
    "    assert np.all(test)\n",
    "    print(np.all(test))"
   ]
  },
  {
   "attachments": {},
   "cell_type": "markdown",
   "metadata": {},
   "source": [
    "## Generate new SAMs from existing PSpace"
   ]
  },
  {
   "cell_type": "code",
   "execution_count": null,
   "metadata": {},
   "outputs": [],
   "source": []
  },
  {
   "attachments": {},
   "cell_type": "markdown",
   "metadata": {},
   "source": [
    "# Param_Dist Classes"
   ]
  },
  {
   "attachments": {},
   "cell_type": "markdown",
   "metadata": {},
   "source": [
    "## Normal"
   ]
  },
  {
   "cell_type": "code",
   "execution_count": null,
   "metadata": {},
   "outputs": [],
   "source": [
    "PD_Normal = holo.librarian.PD_Normal"
   ]
  },
  {
   "attachments": {},
   "cell_type": "markdown",
   "metadata": {},
   "source": [
    "## LinLog"
   ]
  },
  {
   "cell_type": "code",
   "execution_count": null,
   "metadata": {},
   "outputs": [],
   "source": [
    "test = holo.librarian.PD_Lin_Log(0.01, 100.0, 0.1, 0.5)\n",
    "xx = np.linspace(0.0, 1.0, 10000)\n",
    "yy = test(xx)\n",
    "print(utils.minmax(yy))\n",
    "plt.loglog(xx, yy)\n",
    "ax = plt.gca()\n",
    "ax.axhline(test._crit, color='r', ls=':')\n",
    "ax.axvline(test._lofrac, color='r', ls=':')\n",
    "plt.show()"
   ]
  },
  {
   "attachments": {},
   "cell_type": "markdown",
   "metadata": {},
   "source": [
    "### Change the fraction of population below/above cutoff"
   ]
  },
  {
   "cell_type": "code",
   "execution_count": null,
   "metadata": {},
   "outputs": [],
   "source": [
    "NUM = int(1e4)\n",
    "crit = 0.1\n",
    "\n",
    "BINS = 20\n",
    "e1 = np.linspace(0.01, crit, BINS, endpoint=False)\n",
    "e2 = np.logspace(*np.log10([crit, 100.0]), BINS)\n",
    "edges = np.concatenate([e1, e2])\n",
    "\n",
    "fig, ax = plot.figax(scale='log')\n",
    "for frac in [0.2, 0.5, 0.8]:\n",
    "    test = holo.librarian.PD_Lin_Log(0.01, 100.0, crit, frac)\n",
    "    xx = test(np.random.uniform(0.0, 1.0, size=NUM))\n",
    "    kale.dist1d(xx, ax=ax, edges=edges, density=True, probability=False)\n",
    "    obs_frac = np.count_nonzero(xx < crit) / xx.size\n",
    "    print(f\"target:{frac:.2f}, result:{obs_frac:.4f}\", 1.0/np.sqrt(NUM))\n",
    "    assert np.isclose(frac, obs_frac, atol=2.0/np.sqrt(NUM))\n",
    "\n",
    "plt.show()"
   ]
  },
  {
   "attachments": {},
   "cell_type": "markdown",
   "metadata": {},
   "source": [
    "### Change the location of the cutoff"
   ]
  },
  {
   "cell_type": "code",
   "execution_count": null,
   "metadata": {},
   "outputs": [],
   "source": [
    "NUM = int(1e4)\n",
    "frac = 0.5\n",
    "\n",
    "BINS = 20\n",
    "edges = np.logspace(*np.log10([0.01, 100.0]), 2*BINS)\n",
    "\n",
    "fig, ax = plot.figax(scale='log')\n",
    "for crit in [0.1, 1.0, 10.0]:\n",
    "    test = holo.librarian.PD_Lin_Log(0.01, 100.0, crit, frac)\n",
    "    xx = test(np.random.uniform(0.0, 1.0, size=NUM))\n",
    "    kale.dist1d(xx, ax=ax, edges=edges, density=True, probability=False)\n",
    "    obs_frac = np.count_nonzero(xx < crit) / xx.size\n",
    "    print(f\"target:{frac:.2f}, result:{obs_frac:.4f}\", 1.0/np.sqrt(NUM))\n",
    "    assert np.isclose(frac, obs_frac, atol=2.0/np.sqrt(NUM))\n",
    "\n",
    "plt.show()"
   ]
  },
  {
   "attachments": {},
   "cell_type": "markdown",
   "metadata": {},
   "source": [
    "## LogLin"
   ]
  },
  {
   "cell_type": "code",
   "execution_count": null,
   "metadata": {},
   "outputs": [],
   "source": [
    "test = holo.librarian.PD_Log_Lin(0.01, 100.0, 0.1, 0.5)\n",
    "xx = np.linspace(0.0, 1.0, 10000)\n",
    "yy = test(xx)\n",
    "print(utils.minmax(yy))\n",
    "plt.loglog(xx, yy)\n",
    "ax = plt.gca()\n",
    "ax.axhline(test._crit, color='r', ls=':')\n",
    "ax.axvline(test._lofrac, color='r', ls=':')\n",
    "plt.show()"
   ]
  },
  {
   "attachments": {},
   "cell_type": "markdown",
   "metadata": {},
   "source": [
    "### Change the fraction of population below/above cutoff"
   ]
  },
  {
   "cell_type": "code",
   "execution_count": null,
   "metadata": {},
   "outputs": [],
   "source": [
    "NUM = int(2e4)\n",
    "crit = 0.1\n",
    "\n",
    "BINS = 30\n",
    "edges = np.logspace(*np.log10([0.01, 100.0]), BINS)\n",
    "\n",
    "fig, ax = plot.figax(scale='log')\n",
    "for frac in [0.2, 0.5, 0.8]:\n",
    "    test = holo.librarian.PD_Log_Lin(0.01, 100.0, crit, frac)\n",
    "    xx = test(np.random.uniform(0.0, 1.0, size=NUM))\n",
    "    kale.dist1d(xx, ax=ax, edges=edges, density=True, probability=False)\n",
    "    obs_frac = np.count_nonzero(xx < crit) / xx.size\n",
    "    print(f\"target:{frac:.2f}, result:{obs_frac:.4f}\", 1.0/np.sqrt(NUM))\n",
    "    assert np.isclose(frac, obs_frac, atol=2.0/np.sqrt(NUM))\n",
    "\n",
    "plt.show()"
   ]
  },
  {
   "attachments": {},
   "cell_type": "markdown",
   "metadata": {},
   "source": [
    "### Change the location of the cutoff"
   ]
  },
  {
   "cell_type": "code",
   "execution_count": null,
   "metadata": {},
   "outputs": [],
   "source": [
    "NUM = int(2e4)\n",
    "frac = 0.5\n",
    "\n",
    "BINS = 20\n",
    "\n",
    "edges = np.logspace(*np.log10([0.01, 100.0]), 2*BINS)\n",
    "\n",
    "fig, ax = plot.figax(scale='log')\n",
    "for crit in [0.1, 1.0, 10.0]:\n",
    "    test = holo.librarian.PD_Log_Lin(0.01, 100.0, crit, frac)\n",
    "    xx = test(np.random.uniform(0.0, 1.0, size=NUM))\n",
    "    kale.dist1d(xx, ax=ax, edges=edges, density=True, probability=False)\n",
    "    obs_frac = np.count_nonzero(xx < crit) / xx.size\n",
    "    print(f\"target:{frac:.2f}, result:{obs_frac:.4f}\", 1.0/np.sqrt(NUM))\n",
    "    assert np.isclose(frac, obs_frac, atol=2.0/np.sqrt(NUM))\n",
    "\n",
    "plt.show()"
   ]
  },
  {
   "attachments": {},
   "cell_type": "markdown",
   "metadata": {},
   "source": [
    "## Piecewise Uniform"
   ]
  },
  {
   "cell_type": "code",
   "execution_count": null,
   "metadata": {},
   "outputs": [],
   "source": [
    "edges = [-1.0, 5.0, 6.0, 7.0]\n",
    "test = holodeck.librarian.PD_Piecewise_Uniform_Mass(edges, [1.0, 2.0, 1.0])\n",
    "\n",
    "xx = np.random.uniform(size=1000)\n",
    "xx = np.sort(xx)\n",
    "yy = test(xx)\n",
    "print(utils.minmax(yy))\n",
    "x, y, _ = plt.hist(yy, histtype='step', density=True, bins=edges)\n",
    "ax = plt.gca()\n",
    "plt.show()"
   ]
  },
  {
   "cell_type": "code",
   "execution_count": null,
   "metadata": {},
   "outputs": [],
   "source": [
    "edges = [-1.0, 5.0, 6.0, 7.0]\n",
    "test = holodeck.librarian.PD_Piecewise_Uniform_Density(edges, [1.0, 2.0, 1.0])\n",
    "\n",
    "xx = np.random.uniform(size=1000)\n",
    "xx = np.sort(xx)\n",
    "yy = test(xx)\n",
    "print(utils.minmax(yy))\n",
    "x, y, _ = plt.hist(yy, histtype='step', density=True, bins=edges)\n",
    "ax = plt.gca()\n",
    "plt.show()"
   ]
  },
  {
   "cell_type": "code",
   "execution_count": null,
   "metadata": {},
   "outputs": [],
   "source": [
    "edges = [0.1, 1.0, 2.0, 9.0, 11.0]\n",
    "test = holodeck.librarian.PD_Piecewise_Uniform_Density(edges, [2.5, 1.5, 1.0, 1.5])\n",
    "\n",
    "xx = np.random.uniform(size=2000)\n",
    "xx = np.sort(xx)\n",
    "yy = test(xx)\n",
    "print(utils.minmax(yy))\n",
    "ax = plt.gca()\n",
    "scale = 'log'\n",
    "scale = 'linear'\n",
    "ax.set(xscale=scale)\n",
    "xx = kale.utils.spacing(edges, scale, num=20)\n",
    "ax.hist(yy, histtype='step', density=True, bins=xx)\n",
    "# tw = ax.twinx()\n",
    "# tw.hist(yy, histtype='step', density=True, bins=30)\n",
    "plt.show()"
   ]
  },
  {
   "cell_type": "code",
   "execution_count": null,
   "metadata": {},
   "outputs": [],
   "source": [
    "# test = holodeck.librarian.PD_Piecewise_Uniform_Density([-3.5, -3.0, -2.0, -1.5], [2.0, 1.0, 2.0])   # gsmf_phi0\n",
    "# test = holodeck.librarian.PD_Piecewise_Uniform_Density([10.5, 11.0, 12.0, 12.5], [2.0, 1.0, 2.0])   # gsmf_mchar0_log10\n",
    "test = holodeck.librarian.PD_Piecewise_Uniform_Density([7.5, 8.0, 9.0, 9.5], [1.5, 1.0, 2.0])   # mmb_mamp_log10\n",
    "\n",
    "xx = np.random.uniform(size=2000)\n",
    "xx = np.sort(xx)\n",
    "yy = test(xx)\n",
    "print(utils.minmax(yy))\n",
    "ax = plt.gca()\n",
    "scale = 'log'\n",
    "scale = 'linear'\n",
    "ax.set(xscale=scale)\n",
    "xx = kale.utils.spacing(yy, scale, num=20)\n",
    "print(xx)\n",
    "ax.hist(yy, histtype='step', density=True, bins=xx)\n",
    "# tw = ax.twinx()\n",
    "# tw.hist(yy, histtype='step', density=True, bins=30)\n",
    "plt.show()"
   ]
  },
  {
   "attachments": {},
   "cell_type": "markdown",
   "metadata": {},
   "source": [
    "# Fit Spectra"
   ]
  },
  {
   "cell_type": "code",
   "execution_count": null,
   "metadata": {},
   "outputs": [],
   "source": [
    "lib_path = (\n",
    "    \"/Users/lzkelley/Programs/nanograv/15yr_astro_libraries/\"\n",
    "    # \"uniform-05a_2023-05-02_n1000_r100_f40\"\n",
    "    # \"uniform-07a_new_n500_r100_f40\"\n",
    "    \"uniform-07a_new_n500_r100_f40\"\n",
    "    \"/sam_lib.hdf5\"\n",
    ")\n",
    "lib_path = Path(lib_path)\n",
    "assert lib_path.exists()\n",
    "print(lib_path.parent)\n",
    "\n",
    "library = h5py.File(lib_path, 'r')\n",
    "print(list(library.keys()))\n",
    "gwb = library['gwb'][()]\n",
    "fobs = library['fobs'][()]\n",
    "print(f\"{gwb.shape=} {utils.stats(gwb)=}\")\n",
    "params = library['sample_params'][()]\n",
    "param_names = library.attrs['param_names'].astype('str')\n",
    "print(param_names)\n",
    "for ii, name in enumerate(param_names):\n",
    "    print(f\"{ii=}, {name=}, {params[ii].shape=}, {utils.minmax(params[ii])=}\")"
   ]
  },
  {
   "cell_type": "code",
   "execution_count": null,
   "metadata": {},
   "outputs": [],
   "source": [
    "nsamps, nfreqs, nreals = gwb.shape\n",
    "print(f\"{nsamps=} {nfreqs=} {nreals=}\")\n",
    "# seed = np.random.randint(0, 999999)\n",
    "# seed = 419587\n",
    "# print(f\"{seed=}\")\n",
    "# np.random.seed(seed)\n",
    "# ss = np.random.choice(nsamps)\n",
    "# rr = np.random.choice(nreals)\n",
    "ss = 129\n",
    "rr = 51\n",
    "print(f\"{ss=}, {rr=}\")\n",
    "\n",
    "xx = fobs\n",
    "hc = gwb[ss, :, rr]\n",
    "\n",
    "fig, ax = plot.figax()\n",
    "\n",
    "plot.draw_gwb(ax, xx, gwb[ss, :, :])\n",
    "ax.plot(xx, hc, 'k-', alpha=0.5)\n",
    "\n",
    "plt.show()\n"
   ]
  },
  {
   "cell_type": "code",
   "execution_count": null,
   "metadata": {},
   "outputs": [],
   "source": [
    "rho = utils.char_strain_to_rho(fobs, hc, 1/fobs[0])\n",
    "psd = utils.char_strain_to_psd(fobs, hc)\n",
    "\n",
    "fig, axes = plot.figax(figsize=[12, 4], ncols=3, xscale='log')\n",
    "values = [hc, rho, psd]\n",
    "names = [\"hc\", \"rho\", \"psd\"]\n",
    "\n",
    "for ii, ax in enumerate(axes):\n",
    "    yy = values[ii]\n",
    "    ax.plot(xx, yy, alpha=0.75)\n",
    "    ax.set_title(names[ii], fontsize=10)\n",
    "\n",
    "    fits, func = utils.fit_powerlaw_psd(xx, yy, 1.0/YR)\n",
    "    zz = func(xx, *fits)\n",
    "    ax.plot(xx, zz, ls='--', alpha=0.5)\n",
    "\n",
    "    fits, func = utils.fit_turnover_psd(xx, yy, 1.0/YR)\n",
    "    zz = func(xx, *fits)\n",
    "    ax.plot(xx, zz, ls='--', alpha=0.5)\n",
    "\n",
    "\n",
    "plt.show()"
   ]
  },
  {
   "cell_type": "code",
   "execution_count": null,
   "metadata": {},
   "outputs": [],
   "source": [
    "psd = utils.char_strain_to_psd(fobs[np.newaxis, :, np.newaxis], library['gwb'][()])\n",
    "nbins_list, fits_plaw = holo.librarian.fit_spectra_plaw(fobs, psd)"
   ]
  },
  {
   "cell_type": "code",
   "execution_count": null,
   "metadata": {},
   "outputs": [],
   "source": []
  },
  {
   "cell_type": "code",
   "execution_count": null,
   "metadata": {},
   "outputs": [],
   "source": [
    "kale.plot.dist2d?"
   ]
  },
  {
   "cell_type": "code",
   "execution_count": null,
   "metadata": {},
   "outputs": [],
   "source": [
    "fits_plaw_med = np.median(fits_plaw, axis=1)\n",
    "\n",
    "fig, axes = plt.subplots(figsize=[12, 4], ncols=5)\n",
    "for ii in range(5):\n",
    "    ax = axes[ii]\n",
    "    temp = fits_plaw_med[:, ii, :].T\n",
    "    ax.set_title(f\"nbins={nbins_list[ii]}\", fontsize=10)\n",
    "    kale.plot.dist2d(temp, ax=ax)\n",
    "\n",
    "plt.show()"
   ]
  },
  {
   "cell_type": "code",
   "execution_count": null,
   "metadata": {},
   "outputs": [],
   "source": [
    "fits_plaw_med = np.median(fits_plaw, axis=1)\n",
    "\n",
    "fig, ax = plt.subplots(figsize=[6, 6])\n",
    "ax.axhline(-13/3, ls='--', color='0.5')\n",
    "ax.axvline(-15, ls='--', color='0.5')\n",
    "for ii in range(5):\n",
    "    temp = fits_plaw_med[:, ii, :].T\n",
    "    kale.plot.dist2d(temp, ax=ax, hist=False, scatter=False, sigmas=[1, 2, 3], median=False)\n",
    "\n",
    "plt.show()"
   ]
  }
 ],
 "metadata": {
  "kernelspec": {
   "display_name": "py310",
   "language": "python",
   "name": "python3"
  },
  "language_info": {
   "codemirror_mode": {
    "name": "ipython",
    "version": 3
   },
   "file_extension": ".py",
   "mimetype": "text/x-python",
   "name": "python",
   "nbconvert_exporter": "python",
   "pygments_lexer": "ipython3",
   "version": "3.11.7"
  },
  "vscode": {
   "interpreter": {
    "hash": "1f0c7602c82e39efa19a01e5e068584db7a6d17aff8711ab06660aac81377393"
   }
  }
 },
 "nbformat": 4,
 "nbformat_minor": 2
}
