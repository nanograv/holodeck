{
 "cells": [
  {
   "cell_type": "code",
   "execution_count": null,
   "metadata": {},
   "outputs": [],
   "source": [
    "import matplotlib.pyplot as plt\n",
    "import numpy as np\n",
    "\n",
    "import holodeck as holo\n",
    "from holodeck import librarian\n",
    "from holodeck.constants import MSOL, GYR, YR"
   ]
  },
  {
   "cell_type": "code",
   "execution_count": null,
   "metadata": {},
   "outputs": [],
   "source": [
    "SAM_SHAPE = None\n",
    "pspace_class = librarian.param_spaces_dict['PS_Astro_Strong_Hard_Only']\n",
    "pspace = pspace_class(holo.log, sam_shape=SAM_SHAPE)\n",
    "print(pspace)\n",
    "sam, hard = pspace.model_for_params(pspace.default_params())\n",
    "\n"
   ]
  },
  {
   "cell_type": "code",
   "execution_count": null,
   "metadata": {},
   "outputs": [],
   "source": [
    "data = librarian.lib_tools.run_model(sam, hard)"
   ]
  },
  {
   "cell_type": "code",
   "execution_count": null,
   "metadata": {},
   "outputs": [],
   "source": [
    "fig, ax = holo.plot.figax()\n",
    "xx = data['fobs_cents'] * YR\n",
    "ss = data['hc_ss']\n",
    "ss = ss.reshape((ss.shape[0], -1,))\n",
    "bg = data['hc_bg']\n",
    "print(ss.shape, bg.shape)\n",
    "\n",
    "bg_med = np.median(bg, axis=-1)\n",
    "ax.plot(xx, bg_med)\n",
    "ax.fill_between(xx, *np.percentile(bg, [25, 75], axis=-1), alpha=0.2)\n",
    "\n",
    "\n",
    "ss_med = np.median(ss, axis=-1)\n",
    "ax.plot(xx, ss_med)\n",
    "ax.fill_between(xx, *np.percentile(ss, [25, 75], axis=-1), alpha=0.2)\n",
    "\n",
    "plt.show()"
   ]
  }
 ],
 "metadata": {
  "kernelspec": {
   "display_name": "py311",
   "language": "python",
   "name": "python3"
  },
  "language_info": {
   "codemirror_mode": {
    "name": "ipython",
    "version": 3
   },
   "file_extension": ".py",
   "mimetype": "text/x-python",
   "name": "python",
   "nbconvert_exporter": "python",
   "pygments_lexer": "ipython3",
   "version": "3.11.7"
  }
 },
 "nbformat": 4,
 "nbformat_minor": 2
}
