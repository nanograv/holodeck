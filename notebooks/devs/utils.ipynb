{
 "cells": [
  {
   "cell_type": "code",
   "execution_count": null,
   "id": "f7839147",
   "metadata": {},
   "outputs": [],
   "source": [
    "%reload_ext autoreload\n",
    "%autoreload 2\n",
    "\n",
    "# Builtin packages\n",
    "from importlib import reload\n",
    "import warnings\n",
    "\n",
    "# standard secondary packages\n",
    "import matplotlib as mpl\n",
    "import matplotlib.pyplot as plt\n",
    "import numpy as np\n",
    "import tqdm.notebook as tqdm\n",
    "\n",
    "\n",
    "# --- Holodeck ----\n",
    "import holodeck as holo\n",
    "from holodeck import utils\n",
    "\n",
    "# Silence annoying numpy errors\n",
    "np.seterr(divide='ignore', invalid='ignore', over='ignore')\n",
    "warnings.filterwarnings(\"ignore\", category=UserWarning)\n",
    "\n",
    "# Plotting settings\n",
    "mpl.rc('font', **{'family': 'serif', 'sans-serif': ['Times'], 'size': 15})\n",
    "mpl.rc('lines', solid_capstyle='round')\n",
    "mpl.rc('mathtext', fontset='cm')\n",
    "mpl.style.use('default')   # avoid dark backgrounds from dark theme vscode\n",
    "plt.rcParams.update({'grid.alpha': 0.5})\n",
    "\n",
    "# Load log and set logging level\n",
    "log = holo.log"
   ]
  },
  {
   "cell_type": "code",
   "execution_count": null,
   "id": "062b72f3",
   "metadata": {},
   "outputs": [],
   "source": [
    "amp = 10.0\n",
    "xref = 1.0\n",
    "g1 = 0.57\n",
    "g2 = -0.23\n",
    "x0 = 1e-3\n",
    "\n",
    "def func(xx):\n",
    "    lo = (xx < xref)\n",
    "    hi = ~lo\n",
    "    yy = np.zeros_like(xx)\n",
    "    yy[lo] = amp * np.power(xx[lo]/xref, g1)\n",
    "    yy[hi] = amp * np.power(xx[hi]/xref, g2)\n",
    "    return yy\n",
    "\n",
    "def integral(xx):\n",
    "    lo = (xx < xref)\n",
    "    hi = ~lo\n",
    "    \n",
    "    yy = np.zeros_like(xx)\n",
    "    yy[lo] = (amp / (g1+1)) * ((xx[lo] * (xx[lo]/xref)**g1) - (x0 * (x0/xref)**g1))    \n",
    "    \n",
    "    floor = (amp / (g1+1)) * (xref - x0 * (x0/xref)**g1)\n",
    "    yy[hi] = floor + (amp / (g2+1)) * ((xx[hi] * (xx[hi]/xref)**g2) - xref)\n",
    "    return yy    \n",
    "\n",
    "xx = np.logspace(np.log10(x0), 3, 1000)\n",
    "yy = func(xx)\n",
    "zz = integral(xx)\n",
    "print(f\"{zz[-1]:.4e}\")\n",
    "\n",
    "fig, ax = plt.subplots(figsize=[15, 10])\n",
    "ax.set(xscale='log', yscale='log')\n",
    "ax.grid(True)\n",
    "tw = ax.twinx()\n",
    "tw.set(yscale='log')\n",
    "cc, = ax.plot(xx, yy)\n",
    "tw.plot(xx, zz, color=cc.get_color(), ls='--')\n",
    "\n",
    "\n",
    "NUM = 7\n",
    "aa = np.logspace(np.log10(x0), 3, NUM)\n",
    "bb = func(aa)\n",
    "da = np.diff(aa)\n",
    "b1l = np.cumsum(bb[:-1]*da)\n",
    "b1r = np.cumsum(bb[1:]*da)\n",
    "b1 = 0.5 * (b1l + b1r)\n",
    "tw.plot([], [])\n",
    "cc, = tw.plot(aa[1:], b1)\n",
    "\n",
    "b2 = utils.trapz_loglog(bb, aa)\n",
    "print(aa.shape, bb.shape, b2.shape)\n",
    "tw.plot(aa[1:], b2)\n",
    "\n",
    "plt.show()\n",
    "    "
   ]
  },
  {
   "cell_type": "code",
   "execution_count": null,
   "id": "5c53ddac",
   "metadata": {},
   "outputs": [],
   "source": [
    "ztrue = 10.0 ** np.interp(np.log10(aa[1:]), np.log10(xx), np.log10(zz))\n",
    "d1 = (b1 - ztrue) / ztrue\n",
    "d2 = (b2 - ztrue) / ztrue\n",
    "\n",
    "fig, ax = plt.subplots(figsize=[10, 6])\n",
    "ax.set(xscale='log', yscale='log')\n",
    "\n",
    "for dd in [d1, d2]:\n",
    "    plt.plot(aa[1:], np.fabs(dd))\n",
    "    \n",
    "plt.show()"
   ]
  },
  {
   "cell_type": "code",
   "execution_count": null,
   "id": "dd7c8de9",
   "metadata": {},
   "outputs": [],
   "source": []
  },
  {
   "cell_type": "code",
   "execution_count": null,
   "id": "956f101b",
   "metadata": {},
   "outputs": [],
   "source": []
  },
  {
   "attachments": {},
   "cell_type": "markdown",
   "id": "b0168fcf",
   "metadata": {},
   "source": [
    "# Mathematical & Numerical Functions"
   ]
  },
  {
   "attachments": {},
   "cell_type": "markdown",
   "id": "550a5da7",
   "metadata": {},
   "source": [
    "# Generate values for testing GW Methods"
   ]
  }
 ],
 "metadata": {
  "kernelspec": {
   "display_name": "Python 3.10.2 ('py310')",
   "language": "python",
   "name": "python3"
  },
  "language_info": {
   "codemirror_mode": {
    "name": "ipython",
    "version": 3
   },
   "file_extension": ".py",
   "mimetype": "text/x-python",
   "name": "python",
   "nbconvert_exporter": "python",
   "pygments_lexer": "ipython3",
   "version": "3.10.11"
  },
  "toc": {
   "base_numbering": 1,
   "nav_menu": {},
   "number_sections": true,
   "sideBar": true,
   "skip_h1_title": false,
   "title_cell": "Table of Contents",
   "title_sidebar": "Contents",
   "toc_cell": false,
   "toc_position": {},
   "toc_section_display": true,
   "toc_window_display": false
  },
  "varInspector": {
   "cols": {
    "lenName": 16,
    "lenType": 16,
    "lenVar": 40
   },
   "kernels_config": {
    "python": {
     "delete_cmd_postfix": "",
     "delete_cmd_prefix": "del ",
     "library": "var_list.py",
     "varRefreshCmd": "print(var_dic_list())"
    },
    "r": {
     "delete_cmd_postfix": ") ",
     "delete_cmd_prefix": "rm(",
     "library": "var_list.r",
     "varRefreshCmd": "cat(var_dic_list()) "
    }
   },
   "types_to_exclude": [
    "module",
    "function",
    "builtin_function_or_method",
    "instance",
    "_Feature"
   ],
   "window_display": false
  },
  "vscode": {
   "interpreter": {
    "hash": "1f0c7602c82e39efa19a01e5e068584db7a6d17aff8711ab06660aac81377393"
   }
  }
 },
 "nbformat": 4,
 "nbformat_minor": 5
}
