{
 "cells": [
  {
   "cell_type": "code",
   "execution_count": null,
   "id": "0",
   "metadata": {
    "tags": []
   },
   "outputs": [],
   "source": [
    "import h5py\n",
    "import numpy as np\n",
    "import illustris_python as il\n",
    "import matplotlib.pyplot as plt"
   ]
  },
  {
   "cell_type": "code",
   "execution_count": null,
   "id": "1",
   "metadata": {
    "tags": []
   },
   "outputs": [],
   "source": [
    "f = h5py.File('../holodeck/data/illustris-galaxy-mergers_L75n1820FP_gas-100_dm-100_star-100_bh-000.hdf5','r')"
   ]
  },
  {
   "cell_type": "code",
   "execution_count": null,
   "id": "2",
   "metadata": {
    "tags": []
   },
   "outputs": [],
   "source": [
    "fn = h5py.File('/orange/lblecha/Illustris/Illustris-1/output/galaxy-mergers_Illustris-1_gas-100_dm-100_star-100_bh-001.hdf5')"
   ]
  },
  {
   "cell_type": "code",
   "execution_count": null,
   "id": "3",
   "metadata": {
    "tags": []
   },
   "outputs": [],
   "source": [
    "f.keys(), fn.keys()"
   ]
  },
  {
   "cell_type": "code",
   "execution_count": null,
   "id": "4",
   "metadata": {
    "tags": []
   },
   "outputs": [],
   "source": [
    "for kk in f.attrs.keys():\n",
    "    print(kk,f.attrs[kk])"
   ]
  },
  {
   "cell_type": "code",
   "execution_count": null,
   "id": "5",
   "metadata": {
    "tags": []
   },
   "outputs": [],
   "source": [
    "for kk in fn.attrs.keys():\n",
    "    print(kk,fn.attrs[kk])"
   ]
  },
  {
   "cell_type": "code",
   "execution_count": null,
   "id": "6",
   "metadata": {
    "tags": []
   },
   "outputs": [],
   "source": [
    "ndm_new = fn['SubhaloLenType'][:,:,1]\n",
    "ndm_old = f['SubhaloLenType'][:,1,:]\n",
    "ngas_new = fn['SubhaloLenType'][:,:,0]\n",
    "ngas_old = f['SubhaloLenType'][:,0,:]\n",
    "nstar_new = fn['SubhaloLenType'][:,:,4]\n",
    "nstar_old = f['SubhaloLenType'][:,2,:]\n",
    "nbh_new = fn['SubhaloLenType'][:,:,5]\n",
    "nbh_old = f['SubhaloLenType'][:,3,:]\n",
    "\n",
    "h = fn.attrs['HubbleParam']\n",
    "mbh_old = np.array(f['SubhaloBHMass'])/1.989e33\n",
    "mbh_new = np.array(fn['SubhaloBHMass'])/h*1.0e10\n",
    "print(mbh_old.shape, mbh_new.shape, h)\n",
    "print(nbh_old.shape, nbh_new.shape)"
   ]
  },
  {
   "cell_type": "code",
   "execution_count": null,
   "id": "7",
   "metadata": {},
   "outputs": [],
   "source": [
    "mpt0_old = f['SubhaloMassInRadType'][:,0,:]/1.989e33\n",
    "mpt0_new = fn['SubhaloMassInRadType'][:,:,0]/h*1.0e10\n",
    "mpt1_old = f['SubhaloMassInRadType'][:,1,:]/1.989e33\n",
    "mpt1_new = fn['SubhaloMassInRadType'][:,:,1]/h*1.0e10\n",
    "mpt4_old = f['SubhaloMassInRadType'][:,2,:]/1.989e33\n",
    "mpt4_new = fn['SubhaloMassInRadType'][:,:,4]/h*1.0e10\n",
    "mpt5_old = f['SubhaloMassInRadType'][:,3,:]/1.989e33\n",
    "mpt5_new = fn['SubhaloMassInRadType'][:,:,5]/h*1.0e10"
   ]
  },
  {
   "cell_type": "code",
   "execution_count": null,
   "id": "8",
   "metadata": {
    "tags": []
   },
   "outputs": [],
   "source": [
    "qpt0_old = f['SubhaloMassInRadType'][:,0,0]/f['SubhaloMassInRadType'][:,0,1]\n",
    "qpt0_old[qpt0_old>1.0] = 1.0/qpt0_old[qpt0_old>1.0]\n",
    "qpt0_new = fn['SubhaloMassInRadType'][:,0,0]/fn['SubhaloMassInRadType'][:,1,0]\n",
    "qpt0_new[qpt0_new>1.0] = 1.0/qpt0_new[qpt0_new>1.0]\n",
    "qpt1_old = f['SubhaloMassInRadType'][:,1,0]/f['SubhaloMassInRadType'][:,1,1]\n",
    "qpt1_old[qpt1_old>1.0] = 1.0/qpt1_old[qpt1_old>1.0]\n",
    "qpt1_new = fn['SubhaloMassInRadType'][:,0,1]/fn['SubhaloMassInRadType'][:,1,1]\n",
    "qpt1_new[qpt1_new>1.0] = 1.0/qpt1_new[qpt1_new>1.0]\n",
    "qpt4_old = f['SubhaloMassInRadType'][:,2,0]/f['SubhaloMassInRadType'][:,2,1]\n",
    "qpt4_old[qpt4_old>1.0] = 1.0/qpt4_old[qpt4_old>1.0]\n",
    "qpt4_new = fn['SubhaloMassInRadType'][:,0,4]/fn['SubhaloMassInRadType'][:,1,4]\n",
    "qpt4_new[qpt4_new>1.0] = 1.0/qpt4_new[qpt4_new>1.0]\n",
    "qpt5_old = f['SubhaloMassInRadType'][:,3,0]/f['SubhaloMassInRadType'][:,3,1]\n",
    "qpt5_old[qpt5_old>1.0] = 1.0/qpt5_old[qpt5_old>1.0]\n",
    "qpt5_new = fn['SubhaloMassInRadType'][:,0,5]/fn['SubhaloMassInRadType'][:,1,5]\n",
    "qpt5_new[qpt5_new>1.0] = 1.0/qpt5_new[qpt5_new>1.0]\n"
   ]
  },
  {
   "cell_type": "code",
   "execution_count": null,
   "id": "9",
   "metadata": {
    "tags": []
   },
   "outputs": [],
   "source": [
    "rpt0_old = f['SubhaloHalfmassRadType'][:,0,:]/3.09e21\n",
    "rpt0_new = fn['SubhaloHalfmassRadType'][:,:,0]/h\n",
    "rpt1_old = f['SubhaloHalfmassRadType'][:,1,:]/3.09e21\n",
    "rpt1_new = fn['SubhaloHalfmassRadType'][:,:,1]/h\n",
    "rpt4_old = f['SubhaloHalfmassRadType'][:,2,:]/3.09e21\n",
    "rpt4_new = fn['SubhaloHalfmassRadType'][:,:,4]/h\n",
    "rpt5_old = f['SubhaloHalfmassRadType'][:,3,:]/3.09e21\n",
    "rpt5_new = fn['SubhaloHalfmassRadType'][:,:,5]/h"
   ]
  },
  {
   "cell_type": "code",
   "execution_count": null,
   "id": "10",
   "metadata": {
    "tags": []
   },
   "outputs": [],
   "source": [
    "for i in range(2):\n",
    "    print(\"nbh_old:\", nbh_old[:,i].min(),nbh_old[:,i].max())\n",
    "    print(\"mbh_old:\", mbh_old[:,i].min(),mbh_old[:,i].max())\n",
    "    print(\"mpt5_old:\", mpt5_old[:,i].min(),mpt5_old[:,i].max())\n",
    "for i in range(3):\n",
    "    print(\"nbh_new:\", nbh_new[:,i].min(),nbh_new[:,i].max())\n",
    "    print(\"mbh_new:\", mbh_new[:,i].min(),mbh_new[:,i].max())\n",
    "    print(\"mpt5_new:\", mpt5_new[:,i].min(),mpt5_new[:,i].max())\n",
    "dens = True\n",
    "plt.hist(np.log10(mpt5_old[:,0]),histtype='step',density=dens,bins=np.arange(5,10.5,0.5))\n",
    "plt.hist(np.log10(mpt5_new[:,0]),histtype='step',density=dens,bins=np.arange(5,10.5,0.5))\n",
    "#plt.hist(np.log10(mpt0_old[:,0]),histtype='step',density=dens) #,bins=np.arange(5,10.5,0.5))\n",
    "#plt.hist(np.log10(mpt0_new[:,0]),histtype='step',density=dens) #,bins=np.arange(5,10.5,0.5))\n",
    "#plt.hist(np.log10(mpt1_old[:,0]),histtype='step',density=dens) #,bins=np.arange(5,10.5,0.5))\n",
    "#plt.hist(np.log10(mpt1_new[:,0]),histtype='step',density=dens) #,bins=np.arange(5,10.5,0.5))\n",
    "#plt.hist(np.log10(mpt4_old[:,0]),histtype='step',density=dens) #,bins=np.arange(5,10.5,0.5))\n",
    "#plt.hist(np.log10(mpt4_new[:,0]),histtype='step',density=dens) #,bins=np.arange(5,10.5,0.5))"
   ]
  },
  {
   "cell_type": "code",
   "execution_count": null,
   "id": "11",
   "metadata": {
    "tags": []
   },
   "outputs": [],
   "source": [
    "plt.scatter(np.log10(mpt1_new[:,1]),np.log10(mpt4_new[:,1]),alpha=0.1,color='r')\n",
    "plt.scatter(np.log10(mpt1_old[:,1]),np.log10(mpt4_old[:,1]),alpha=0.1,color='b')\n"
   ]
  },
  {
   "cell_type": "code",
   "execution_count": null,
   "id": "12",
   "metadata": {
    "tags": []
   },
   "outputs": [],
   "source": [
    "plt.scatter(np.log10(rpt0_new[:,1]),np.log10(rpt4_new[:,1]),alpha=0.1,color='r')\n",
    "plt.scatter(np.log10(rpt0_old[:,1]),np.log10(rpt4_old[:,1]),alpha=0.1,color='b')\n"
   ]
  },
  {
   "cell_type": "code",
   "execution_count": null,
   "id": "13",
   "metadata": {
    "tags": []
   },
   "outputs": [],
   "source": [
    "plt.scatter(np.log10(qpt0_new),np.log10(qpt5_new),alpha=0.1,color='r')\n",
    "plt.scatter(np.log10(qpt0_old),np.log10(qpt5_old),alpha=0.1,color='b')\n"
   ]
  },
  {
   "cell_type": "code",
   "execution_count": null,
   "id": "14",
   "metadata": {
    "tags": []
   },
   "outputs": [],
   "source": [
    "plt.yscale('log')\n",
    "plt.hist(np.log10(qpt5_old),histtype='step',bins=np.arange(-3.5,0,0.25),lw=2,density=True)\n",
    "plt.hist(np.log10(qpt5_new),histtype='step',bins=np.arange(-3.5,0,0.25),density=True)"
   ]
  },
  {
   "cell_type": "code",
   "execution_count": null,
   "id": "15",
   "metadata": {
    "tags": []
   },
   "outputs": [],
   "source": [
    "def compare_old_new(key,density=True,bins=None):\n",
    "    val_old = np.array(f[key])\n",
    "    val_new = np.array(fn[key])\n",
    "    print(val_old.shape, val_new.shape)\n",
    "    for i in range(2):\n",
    "        print(val_old[:,i].min(),val_old[:,i].max())\n",
    "    for i in range(3):\n",
    "        print(val_new[:,i].min(),val_new[:,i].max())\n",
    "    #plt.hist(np.log10(val_old[:,1]),histtype='step',density=True)\n",
    "    #plt.hist(np.log10(val_new[:,1]),histtype='step',density=True)\n",
    "    plt.hist(val_old[:,1],histtype='step',density=density,bins=bins)\n",
    "    plt.hist(val_new[:,1],histtype='step',density=density,bins=bins)"
   ]
  },
  {
   "cell_type": "code",
   "execution_count": null,
   "id": "16",
   "metadata": {
    "tags": []
   },
   "outputs": [],
   "source": [
    "compare_old_new('snaps',density=True)"
   ]
  },
  {
   "cell_type": "code",
   "execution_count": null,
   "id": "17",
   "metadata": {
    "tags": []
   },
   "outputs": [],
   "source": [
    "plt.xscale('log'),plt.yscale('log')\n",
    "compare_old_new('SubhaloGrNr',density=True,bins=10**np.arange(0,5,0.25))"
   ]
  },
  {
   "cell_type": "code",
   "execution_count": null,
   "id": "18",
   "metadata": {
    "tags": []
   },
   "outputs": [],
   "source": [
    "plt.xscale('log') #,plt.yscale('log')\n",
    "compare_old_new('SubhaloSFR',density=False,bins=10**np.arange(-3.5,3.5,0.25))"
   ]
  },
  {
   "cell_type": "code",
   "execution_count": null,
   "id": "19",
   "metadata": {
    "tags": []
   },
   "outputs": [],
   "source": [
    "plt.xscale('log')\n",
    "compare_old_new('shids_subf',density=False,bins=10**np.arange(2,18,0.5))"
   ]
  },
  {
   "cell_type": "code",
   "execution_count": null,
   "id": "20",
   "metadata": {
    "tags": []
   },
   "outputs": [],
   "source": [
    "print(fn['SubhaloMassType'][(nbh_new[:,2]==0.0),2,5].size)"
   ]
  },
  {
   "cell_type": "code",
   "execution_count": null,
   "id": "21",
   "metadata": {
    "tags": []
   },
   "outputs": [],
   "source": [
    "print(np.where(fn['SubhaloLenType'][:,2,4]<101)[0].size)"
   ]
  },
  {
   "cell_type": "code",
   "execution_count": null,
   "id": "22",
   "metadata": {
    "tags": []
   },
   "outputs": [],
   "source": [
    "fn['shids_subf'][(nbh_new[:,2]==0.0),:][:10],fn['snaps'][(nbh_new[:,2]==0.0),:][:10] #, nbh_new[nbh_new[:,2]==0,:][:10]"
   ]
  },
  {
   "cell_type": "code",
   "execution_count": null,
   "id": "23",
   "metadata": {
    "tags": []
   },
   "outputs": [],
   "source": [
    "for i in range(2):\n",
    "    print(i,np.where(f['snaps'][:,i]==51)[0].shape)\n",
    "    print(i,np.where(f['snaps'][:,i]==52)[0].shape)\n",
    "    print(i,np.where(f['snaps'][:,i]==53)[0].shape)\n",
    "    print(i,np.where(f['snaps'][:,i]==54)[0].shape)\n",
    "print('new')\n",
    "for i in range(3):\n",
    "    print(i,np.where(fn['snaps'][:,i]==51)[0].shape)\n",
    "    print(i,np.where(fn['snaps'][:,i]==52)[0].shape)\n",
    "    print(i,np.where(fn['snaps'][:,i]==53)[0].shape)\n",
    "    print(i,np.where(fn['snaps'][:,i]==54)[0].shape)"
   ]
  },
  {
   "cell_type": "code",
   "execution_count": null,
   "id": "24",
   "metadata": {
    "tags": []
   },
   "outputs": [],
   "source": [
    "fn['SubhaloLenType'][(nbh_new[:,2]>0.0)&(mbh_new[:,2]==0),:,0][1],fn['SubhaloMassType'][(nbh_new[:,2]>0.0)&(mbh_new[:,2]==0),:,0][1]"
   ]
  },
  {
   "cell_type": "code",
   "execution_count": null,
   "id": "25",
   "metadata": {
    "tags": []
   },
   "outputs": [],
   "source": [
    "f['SubhaloLenType'].shape, fn['SubhaloLenType'].shape"
   ]
  },
  {
   "cell_type": "code",
   "execution_count": null,
   "id": "26",
   "metadata": {
    "tags": []
   },
   "outputs": [],
   "source": [
    "print(ndm_new.min(), ndm_new.max())\n",
    "print(ndm_old.min(), ndm_old.max())\n",
    "print(ngas_new.min(), ngas_new.max())\n",
    "print(ngas_old.min(), ngas_old.max())\n",
    "print(nstar_new.min(), nstar_new.max())\n",
    "print(nstar_old.min(), nstar_old.max())\n",
    "print(nbh_new.min(), nbh_new.max())\n",
    "print(nbh_old.min(), nbh_old.max())"
   ]
  },
  {
   "cell_type": "code",
   "execution_count": null,
   "id": "27",
   "metadata": {
    "tags": []
   },
   "outputs": [],
   "source": [
    "sublentype = f['SubhaloLenType']\n",
    "print(sublentype.shape)\n",
    "print(f['SubhaloMassInRadType'].shape)\n",
    "#for at in sublentype.attrs:\n",
    "#    print(at)\n",
    "shids_subf = f['shids_subf']\n",
    "print(shids_subf.shape)\n",
    "print(shids_subf)\n"
   ]
  },
  {
   "cell_type": "code",
   "execution_count": null,
   "id": "28",
   "metadata": {
    "tags": []
   },
   "outputs": [],
   "source": [
    "print(sublentype[:,0,:].min())\n",
    "print(sublentype[:,1,:].min())\n",
    "print(sublentype[:,2,:].min())\n",
    "print(sublentype[:,3,:].min())"
   ]
  },
  {
   "cell_type": "code",
   "execution_count": null,
   "id": "29",
   "metadata": {
    "tags": []
   },
   "outputs": [],
   "source": [
    "sublentype_new = fn['SubhaloLenType']\n",
    "print(sublentype_new.shape)\n",
    "print(sublentype_new[:,:,0].min())\n",
    "print(sublentype_new[:,:,1].min())\n",
    "print(sublentype_new[:,:,4].min())\n",
    "print(sublentype_new[:,:,5].min())"
   ]
  },
  {
   "cell_type": "code",
   "execution_count": null,
   "id": "30",
   "metadata": {
    "tags": []
   },
   "outputs": [],
   "source": [
    "subids_old = np.array(f['shids_tree']).astype('uint64')\n",
    "subids_new = np.array(fn['shids_tree']).astype('uint64')\n",
    "combined = np.append(subids_old[:,:2],subids_new[:,:2])\n",
    "print(combined.shape)\n",
    "x=np.unique(combined)\n",
    "print(x.shape)"
   ]
  },
  {
   "cell_type": "code",
   "execution_count": null,
   "id": "31",
   "metadata": {
    "tags": []
   },
   "outputs": [],
   "source": [
    "subids_old[:100], subids_new[:10]"
   ]
  },
  {
   "cell_type": "code",
   "execution_count": null,
   "id": "32",
   "metadata": {
    "tags": []
   },
   "outputs": [],
   "source": [
    "snaps_old = np.array(f['snaps'])\n",
    "snaps_new = np.array(fn['snaps'])\n",
    "print(snaps_old.shape, snaps_new.shape)\n",
    "print(snaps_old.dtype, snaps_new.dtype)\n",
    "print(snaps_old.min(), snaps_new.min())\n",
    "print(subids_old[snaps_old[:,1]==98,0])\n",
    "print(subids_new[snaps_new[:,1]==98,0])\n",
    "print(np.where(snaps_old[:,0]==snaps_old[:,1])[0].size)\n",
    "print(np.where(snaps_new[:,0]<snaps_new[:,1])[0].size)\n",
    "print(np.where(snaps_new[:,1]==snaps_new[:,2])[0].size)"
   ]
  },
  {
   "cell_type": "code",
   "execution_count": null,
   "id": "33",
   "metadata": {
    "tags": []
   },
   "outputs": [],
   "source": [
    "mismatched_ids = np.array([]).astype('uint64')\n",
    "count=0\n",
    "print(subids_old.shape, subids_new.shape)\n",
    "print(subids_old.dtype, subids_new.dtype)\n",
    "for id in subids_old[:,1]:\n",
    "    if np.any(subids_new[:,1] == id):\n",
    "        print(id)\n",
    "        continue\n",
    "    else:\n",
    "        count +=1\n",
    "        mismatched_ids = np.append(id, mismatched_ids)\n",
    "print(f\"count={count}\")\n",
    "print(mismatched_ids)\n"
   ]
  },
  {
   "cell_type": "code",
   "execution_count": null,
   "id": "34",
   "metadata": {
    "tags": []
   },
   "outputs": [],
   "source": [
    "print(snaps[snaps[:,0]==snaps[:,1]].shape)\n",
    "print(snaps[snaps[:,0]==1+snaps[:,1]].shape)\n",
    "print(snaps[snaps[:,0]==snaps[:,1]-1].shape)"
   ]
  },
  {
   "cell_type": "code",
   "execution_count": null,
   "id": "35",
   "metadata": {},
   "outputs": [],
   "source": [
    "ill_hdr = il.groupcat.loadHeader('/orange/lblecha/Illustris/Illustris-1/output', 134)\n",
    "for k in ill_hdr.keys():\n",
    "    print(k, ill_hdr[k])"
   ]
  }
 ],
 "metadata": {
  "kernelspec": {
   "display_name": "holodeck python-3.10",
   "language": "python",
   "name": "holo310-jupy-kern"
  },
  "language_info": {
   "codemirror_mode": {
    "name": "ipython",
    "version": 3
   },
   "file_extension": ".py",
   "mimetype": "text/x-python",
   "name": "python",
   "nbconvert_exporter": "python",
   "pygments_lexer": "ipython3",
   "version": "3.10.11"
  }
 },
 "nbformat": 4,
 "nbformat_minor": 5
}
