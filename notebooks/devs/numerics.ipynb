{
 "cells": [
  {
   "attachments": {},
   "cell_type": "markdown",
   "metadata": {},
   "source": [
    "# Integration of da/dt"
   ]
  },
  {
   "cell_type": "code",
   "execution_count": null,
   "metadata": {},
   "outputs": [],
   "source": [
    "import numpy as np\n",
    "import holodeck as holo\n",
    "from holodeck.constants import YR, GYR, MSOL, PC\n",
    "from holodeck import utils, cosmo\n",
    "\n",
    "import tqdm\n",
    "\n",
    "SEPA_INIT = 1e4 * PC\n",
    "\n",
    "RCHAR = 10.0*PC\n",
    "GAMMA_INNER = -1.0\n",
    "GAMMA_OUTER = +1.5\n",
    "\n",
    "\n",
    "def integrate(hard_func, mtot, mrat, sepa_init, nsteps):\n",
    "    risco = 3.0 * utils.schwarzschild_radius(mtot)\n",
    "    sepa_log10 = np.log10(sepa_init)\n",
    "    dx_log10 = (sepa_log10 - np.log10(risco)) / nsteps\n",
    "    sepa_left = 10.0 ** sepa_log10\n",
    "    dadt_left = hard_func(mtot, mrat, sepa_left)\n",
    "    time_euler_left = 0.0\n",
    "    time_euler_right = 0.0\n",
    "    time_euler_ave = 0.0\n",
    "    time_trapz_loglog = 0.0\n",
    "    time_trapz = 0.0\n",
    "    for ii in range(nsteps):\n",
    "        sepa_log10 -= dx_log10\n",
    "        sepa_right = 10.0 ** sepa_log10\n",
    "        dx = (sepa_right - sepa_left)\n",
    "\n",
    "        time_euler_left += dx / dadt_left\n",
    "\n",
    "        dadt_right = hard_func(mtot, mrat, sepa_right)\n",
    "        time_euler_right += dx / dadt_right\n",
    "\n",
    "        dadt = 0.5 * (dadt_left + dadt_right)\n",
    "        time_euler_ave += dx / dadt        \n",
    "\n",
    "        dt1 = utils.trapz_loglog([-1.0/dadt_left, -1.0/dadt_right], [sepa_right, sepa_left])[0]\n",
    "        time_trapz_loglog += dt1\n",
    "\n",
    "        dt2 = utils.trapz([-1.0/dadt_left, -1.0/dadt_right], [sepa_right, sepa_left])[0]\n",
    "        time_trapz += dt2\n",
    "\n",
    "        sepa_left = sepa_right\n",
    "        dadt_left = dadt_right\n",
    "\n",
    "    names = ['euler_left', 'euler_right', 'euler_ave', 'trapz_loglog', 'trapz']\n",
    "    times = [time_euler_left, time_euler_right, time_euler_ave, time_trapz_loglog, time_trapz]\n",
    "\n",
    "    return times, names\n",
    "\n",
    "\n",
    "def run_integration_test(mtot, mrat, norm):\n",
    "\n",
    "    def hard_func(_mtot, _mrat, _sepa):\n",
    "        dadt = holo.hardening.Fixed_Time_2PL._dadt_dedt(_mtot, _mrat, _sepa, norm, RCHAR, GAMMA_INNER, GAMMA_OUTER)[0]\n",
    "        return dadt\n",
    "\n",
    "    steps_list = [10, 20, 30, 50, 100, 200, 500, 1000, 2000, 5000, 10000]\n",
    "\n",
    "    all_times = []\n",
    "    for steps in tqdm.tqdm(steps_list):\n",
    "        tt, names = integrate(hard_func, mtot, mrat, SEPA_INIT, steps)\n",
    "        all_times.append(tt)\n",
    "        \n",
    "    all_times = np.asarray(all_times)\n",
    "    all_times = all_times.T\n",
    "    return steps_list, all_times, names\n"
   ]
  },
  {
   "cell_type": "code",
   "execution_count": null,
   "metadata": {},
   "outputs": [],
   "source": [
    "def plot_test(mtot, mrat, norm, steps, times, names):\n",
    "    truth = times[:, -1].mean()\n",
    "    print(f\"{truth/GYR=:.4e}\")\n",
    "\n",
    "    fig, ax = plt.subplots()\n",
    "    title = f\"M={np.log10(mtot/MSOL):.4f}, q={mrat:.4f}, A={norm:.4e}\"\n",
    "    ax.set(xscale='log', xlabel='steps', yscale='linear', ylabel='time', title=title)\n",
    "    ax.grid(True, alpha=0.25)\n",
    "    tw = ax.twinx()\n",
    "    tw.set(yscale='log')\n",
    "\n",
    "    for ii, time in enumerate(times):\n",
    "        if ii % 3 == 0:\n",
    "            ls = '-'\n",
    "            lw = 1.5\n",
    "        elif ii % 3 == 1: \n",
    "            ls = '--'\n",
    "            lw = 2.0\n",
    "        else:\n",
    "            ls = ':'\n",
    "            lw = 3.0\n",
    "\n",
    "        # yy = time/GYR\n",
    "        yy = (time - truth)/truth\n",
    "        ax.plot(steps, yy, label=names[ii], alpha=0.5, ls=ls, lw=lw)\n",
    "        tw.plot(steps, np.fabs(yy), alpha=0.25, ls=ls, lw=lw)\n",
    "\n",
    "    ax.legend()    \n",
    "    return fig"
   ]
  },
  {
   "cell_type": "code",
   "execution_count": null,
   "metadata": {},
   "outputs": [],
   "source": [
    "MTOT = 1e12 * MSOL\n",
    "MRAT = 0.3\n",
    "NORM = 1e6\n",
    "\n",
    "steps, times, names = run_integration_test(MTOT, MRAT, NORM)\n",
    "plot_test(MTOT, MRAT, NORM, steps, times, names)\n",
    "plt.show()"
   ]
  },
  {
   "cell_type": "code",
   "execution_count": null,
   "metadata": {},
   "outputs": [],
   "source": [
    "MTOT = 1e12 * MSOL\n",
    "MRAT = 0.3\n",
    "NORM = 1e8\n",
    "\n",
    "steps, times, names = run_integration_test(MTOT, MRAT, NORM)\n",
    "plot_test(MTOT, MRAT, NORM, steps, times, names)\n",
    "plt.show()"
   ]
  },
  {
   "cell_type": "code",
   "execution_count": null,
   "metadata": {},
   "outputs": [],
   "source": [
    "MTOT = 1e6 * MSOL\n",
    "MRAT = 0.3\n",
    "NORM = 1e8\n",
    "\n",
    "steps, times, names = run_integration_test(MTOT, MRAT, NORM)\n",
    "plot_test(MTOT, MRAT, NORM, steps, times, names)\n",
    "plt.show()"
   ]
  },
  {
   "cell_type": "code",
   "execution_count": null,
   "metadata": {},
   "outputs": [],
   "source": [
    "MTOT = 1e6 * MSOL\n",
    "MRAT = 0.3\n",
    "NORM = 1e6\n",
    "\n",
    "steps, times, names = run_integration_test(MTOT, MRAT, NORM)\n",
    "plot_test(MTOT, MRAT, NORM, steps, times, names)\n",
    "plt.show()"
   ]
  },
  {
   "cell_type": "code",
   "execution_count": null,
   "metadata": {},
   "outputs": [],
   "source": []
  },
  {
   "cell_type": "code",
   "execution_count": null,
   "metadata": {},
   "outputs": [],
   "source": []
  }
 ],
 "metadata": {
  "kernelspec": {
   "display_name": "py310",
   "language": "python",
   "name": "python3"
  },
  "language_info": {
   "codemirror_mode": {
    "name": "ipython",
    "version": 3
   },
   "file_extension": ".py",
   "mimetype": "text/x-python",
   "name": "python",
   "nbconvert_exporter": "python",
   "pygments_lexer": "ipython3",
   "version": "3.10.10"
  }
 },
 "nbformat": 4,
 "nbformat_minor": 2
}
