{
 "cells": [
  {
   "cell_type": "code",
   "execution_count": 1,
   "id": "96f5e645",
   "metadata": {
    "tags": []
   },
   "outputs": [],
   "source": [
    "import illustris_python as il\n",
    "import numpy as np\n",
    "import astropy as ap\n",
    "import scipy as sp\n",
    "import scipy.stats\n",
    "import matplotlib as mpl\n",
    "import matplotlib.pyplot as plt\n",
    "\n",
    "import h5py\n",
    "import tqdm.notebook as tqdm\n",
    "\n",
    "from holodeck import utils,cosmo\n",
    "from holodeck.constants import MSOL, PC, YR, MPC, GYR, SPLC\n",
    "from holodeck import _PATH_DATA\n",
    "import os\n",
    "\n",
    "from holodeck.discrete import population, evolution\n",
    "from holodeck import hardening\n",
    "import holodeck as holo"
   ]
  },
  {
   "cell_type": "code",
   "execution_count": 2,
   "id": "0a84d588",
   "metadata": {
    "tags": []
   },
   "outputs": [],
   "source": [
    "from holodeck import triples"
   ]
  },
  {
   "cell_type": "markdown",
   "id": "443a6138",
   "metadata": {},
   "source": [
    "## Comparing Illustris TNG galaxy merger and BH merger file"
   ]
  },
  {
   "cell_type": "code",
   "execution_count": 3,
   "id": "98979585",
   "metadata": {
    "tags": []
   },
   "outputs": [
    {
     "name": "stdout",
     "output_type": "stream",
     "text": [
      "<KeysViewHDF5 ['blackhole-mergers', 'metadata', 'params', 'subhalos']>\n",
      "blackhole-merger keys: <KeysViewHDF5 ['bh_mass', 'bhid', 'bhid_next_snap', 'fuzz_flag', 'pt_mass', 'scafa', 'snap', 'tree_next', 'tree_prev']>\n",
      "subhalo keys: <KeysViewHDF5 ['SubhaloBHMass', 'SubhaloBHMdot', 'SubhaloCM', 'SubhaloGasMetallicity', 'SubhaloHalfmassRadType', 'SubhaloLenType', 'SubhaloMassInHalfRadType', 'SubhaloMassType', 'SubhaloParent', 'SubhaloPos', 'SubhaloSFR', 'SubhaloSFRinHalfRad', 'SubhaloStarMetallicity', 'SubhaloStellarPhotometrics', 'SubhaloVelDisp', 'SubhaloVmax', 'SubhaloVmaxRad']>\n",
      "param keys: <KeysViewHDF5 ['AGB_MassTransferOn', 'ActivePartFracForNewDomainDecomp', 'AdaptiveHydroSofteningSpacing', 'BlackHoleAccretionFactor', 'BlackHoleCenteringMassMultiplier', 'BlackHoleEddingtonFactor', 'BlackHoleFeedbackFactor', 'BlackHoleMaxAccretionRadius', 'BlackHoleRadiativeEfficiency', 'BoxSize', 'CellMaxAngleFactor', 'CellShapingSpeed', 'ComovingIntegrationOn', 'CoolingOn', 'CoolingTablePath', 'CourantFac', 'CpuTimeBetRestartFile', 'CritOverDensity', 'CritPhysDensity', 'DerefinementCriterion', 'DesLinkNgb', 'DesNumNgb', 'DesNumNgbBlackHole', 'DesNumNgbEnrichment', 'ErrTolForceAcc', 'ErrTolIntAccuracy', 'ErrTolTheta', 'ErrTolThetaSubfind', 'FactorEVP', 'FactorForSofterEQS', 'FlushCpuTimeDiff', 'GasSoftFactor', 'GravityConstantInternal', 'HubbleParam', 'ICFormat', 'IMF_MaxMass_Msun', 'IMF_MinMass_Msun', 'InitCondFile', 'InitGasTemp', 'LimitUBelowCertainDensityToThisValue', 'LimitUBelowThisDensity', 'MHDSeedDir', 'MHDSeedValue', 'MaxMemSize', 'MaxNumNgbDeviation', 'MaxNumNgbDeviationEnrichment', 'MaxSfrTimescale', 'MaxSizeTimestep', 'MinEgySpec', 'MinFoFMassForNewSeed', 'MinGasTemp', 'MinMetalTemp', 'MinSizeTimestep', 'MinWindVel', 'MinimumComovingHydroSoftening', 'MinimumDensityOnStartUp', 'MultipleDomains', 'NSNS_MassPerEvent', 'NSNS_MassTransferOn', 'NSNS_Rate_TAU', 'NSNS_per_SNIa', 'NumFilesPerSnapshot', 'NumFilesWrittenInParallel', 'ObscurationFactor', 'ObscurationSlope', 'Omega0', 'OmegaBaryon', 'OmegaLambda', 'OutputDir', 'OutputListFilename', 'OutputListOn', 'PeriodicBoundariesOn', 'PhotometricsTablePath', 'PreEnrichAbundanceFile', 'PreEnrichTime', 'QuasarThreshold', 'RadioFeedbackFactor', 'RadioFeedbackMinDensityFactor', 'RadioFeedbackReiorientationFactor', 'ReferenceGasPartMass', 'RefinementCriterion', 'ResubmitCommand', 'ResubmitOn', 'SNII_MassTransferOn', 'SNII_MaxMass_Msun', 'SNII_MinMass_Msun', 'SNIa_MassTransferOn', 'SNIa_Rate_Norm', 'SNIa_Rate_TAU', 'SeedBlackHoleMass', 'SelfShieldingDensity', 'SelfShieldingFile', 'SnapFormat', 'SnapshotFileBase', 'SofteningComovingType0', 'SofteningComovingType1', 'SofteningComovingType2', 'SofteningComovingType3', 'SofteningComovingType4', 'SofteningComovingType5', 'SofteningMaxPhysType0', 'SofteningMaxPhysType1', 'SofteningMaxPhysType2', 'SofteningMaxPhysType3', 'SofteningMaxPhysType4', 'SofteningMaxPhysType5', 'SofteningTypeOfPartType0', 'SofteningTypeOfPartType1', 'SofteningTypeOfPartType2', 'SofteningTypeOfPartType3', 'SofteningTypeOfPartType4', 'SofteningTypeOfPartType5', 'StarformationOn', 'SubboxCoordinatesPath', 'SubboxMaxTime', 'SubboxMinTime', 'SubboxNumFilesPerSnapshot', 'SubboxSyncModulo', 'SubbxNumFilesWrittenInParallel', 'TargetGasMassFactor', 'TempClouds', 'TempForSofterEQS', 'TempSupernova', 'TemperatureThresh', 'ThermalWindFraction', 'TimeBegin', 'TimeBetOnTheFlyFoF', 'TimeBetSnapshot', 'TimeBetStatistics', 'TimeLimitCPU', 'TimeMax', 'TimeOfFirstSnapshot', 'TopNodeFactor', 'TracerMCPerCell', 'TreecoolFile', 'TreecoolFileAGN', 'TypeOfOpeningCriterion', 'TypeOfTimestepCriterion', 'UnitLength_in_cm', 'UnitMass_in_g', 'UnitVelocity_in_cm_per_s', 'VariableWindSpecMomentum', 'VariableWindVelFactor', 'WindDumpFactor', 'WindEnergyIn1e51erg', 'WindEnergyReductionExponent', 'WindEnergyReductionFactor', 'WindEnergyReductionMetallicity', 'WindFreeTravelDensFac', 'WindFreeTravelMaxTimeFactor', 'YieldTablePath']>\n",
      "(24048, 2)\n"
     ]
    }
   ],
   "source": [
    "TNG100_merger_file_path = '/orange/lblecha/pranavsatheesh/illustris-mbh-data/L75n1820TNG/'\n",
    "merger_file = h5py.File(TNG100_merger_file_path+'L75n1820TNG_blackhole-mergers.hdf5', 'r')\n",
    "print(merger_file.keys())\n",
    "print('blackhole-merger keys:',merger_file['blackhole-mergers'].keys())\n",
    "print('subhalo keys:',merger_file['subhalos'].keys())\n",
    "print('param keys:',merger_file['params'].keys())\n",
    "print(merger_file['blackhole-mergers/bh_mass'].shape)"
   ]
  },
  {
   "cell_type": "code",
   "execution_count": 4,
   "id": "06b3b009",
   "metadata": {},
   "outputs": [
    {
     "name": "stdout",
     "output_type": "stream",
     "text": [
      "<KeysViewHDF5 ['ProgMassRatio', 'SubhaloBHMass', 'SubhaloBHMdot', 'SubhaloCM', 'SubhaloGrNr', 'SubhaloHalfmassRadType', 'SubhaloLenType', 'SubhaloMassInHalfRadType', 'SubhaloMassInRadType', 'SubhaloMassType', 'SubhaloPos', 'SubhaloSFR', 'SubhaloVel', 'SubhaloVelDisp', 'fpMass', 'npMass', 'shids_subf', 'shids_tree', 'snaps', 'time']>\n",
      "<KeysViewHDF5 ['HubbleParam', 'Omega0', 'OmegaLambda', 'box_volume_mpc', 'created', 'merger_components_in_data_arrays', 'min_parts', 'num_mergers', 'part_names', 'part_types', 'snaptimes']>\n"
     ]
    }
   ],
   "source": [
    "TNG100_galaxy_merger_file ='galaxy-mergers_TNG100-1_gas-100_dm-100_star-100_bh-001.hdf5'\n",
    "fname = os.path.join(_PATH_DATA,TNG100_galaxy_merger_file)\n",
    "galaxy_merger_file = h5py.File(fname, 'r')\n",
    "print(galaxy_merger_file.keys())\n",
    "print(galaxy_merger_file.attrs.keys())"
   ]
  },
  {
   "cell_type": "markdown",
   "id": "9407623f",
   "metadata": {},
   "source": [
    "### Find co-existing binaries"
   ]
  },
  {
   "cell_type": "code",
   "execution_count": 5,
   "id": "a0763716",
   "metadata": {},
   "outputs": [
    {
     "name": "stdout",
     "output_type": "stream",
     "text": [
      "Filtering black holes with mass > 5.0e+06 Msun...\n",
      "Applying particle cuts: N(DM) > 300, N(gas) > 100, N(star) > 100\n",
      "Number of valid mergers:6291\n"
     ]
    }
   ],
   "source": [
    "TNG100_merger_file_path = '/orange/lblecha/pranavsatheesh/illustris-mbh-data/L75n1820TNG/'\n",
    "TNG100_merger_file_name = 'L75n1820TNG_blackhole-mergers.hdf5'\n",
    "\n",
    "#creating a population object for TNG using the BH merger data\n",
    "pop_TNG_bh = population.Pop_Illustris(basepath=TNG100_merger_file_path,fname=TNG100_merger_file_name,bh_merger_data_flag=True,min_BH_mass=5*1e6,min_DM=300,min_gas=100,min_star=100)"
   ]
  },
  {
   "cell_type": "code",
   "execution_count": 6,
   "id": "95f54003",
   "metadata": {},
   "outputs": [
    {
     "data": {
      "application/vnd.jupyter.widget-view+json": {
       "model_id": "4b1de36306ab4f5ea4abd1f13415afc2",
       "version_major": 2,
       "version_minor": 0
      },
      "text/plain": [
       "evolving binaries:   0%|          | 0/99 [00:00<?, ?it/s]"
      ]
     },
     "metadata": {},
     "output_type": "display_data"
    }
   ],
   "source": [
    "fix_time = 3.0 * GYR\n",
    "\n",
    "fixed_TNG_bh = hardening.Fixed_Time_2PL.from_pop(pop_TNG_bh, fix_time)\n",
    "evo_TNG_bh = evolution.Evolution(pop_TNG_bh, fixed_TNG_bh)\n",
    "evo_TNG_bh.evolve(progress=True)"
   ]
  },
  {
   "cell_type": "code",
   "execution_count": 7,
   "id": "9b16382a",
   "metadata": {},
   "outputs": [
    {
     "name": "stdout",
     "output_type": "stream",
     "text": [
      "fraction of triple interactions 0.325862343029725\n"
     ]
    },
    {
     "data": {
      "text/plain": [
       "<holodeck.triples.Triples at 0x1474f899b580>"
      ]
     },
     "execution_count": 7,
     "metadata": {},
     "output_type": "execute_result"
    }
   ],
   "source": [
    "triples.Triples(pop_TNG_bh,evo_TNG_bh)"
   ]
  },
  {
   "cell_type": "code",
   "execution_count": null,
   "id": "a23eeb50",
   "metadata": {},
   "outputs": [],
   "source": []
  },
  {
   "cell_type": "code",
   "execution_count": 9,
   "id": "3eebadc1",
   "metadata": {},
   "outputs": [
    {
     "data": {
      "application/vnd.jupyter.widget-view+json": {
       "model_id": "be3fbc671f7147e08ffce71076aa7788",
       "version_major": 2,
       "version_minor": 0
      },
      "text/plain": [
       "evolving binaries:   0%|          | 0/99 [00:00<?, ?it/s]"
      ]
     },
     "metadata": {},
     "output_type": "display_data"
    }
   ],
   "source": [
    "fix_time = 3.0 * GYR\n",
    "\n",
    "fixed_TNG_bh = hardening.Fixed_Time_2PL.from_pop(pop_TNG_bh, fix_time)\n",
    "evo_TNG_bh = evolution.Evolution(pop_TNG_bh, fixed_TNG_bh)\n",
    "evo_TNG_bh.evolve(progress=True)"
   ]
  },
  {
   "cell_type": "code",
   "execution_count": null,
   "id": "c7907711",
   "metadata": {},
   "outputs": [
    {
     "name": "stdout",
     "output_type": "stream",
     "text": [
      "fraction of triple interactions 0.325862343029725\n"
     ]
    }
   ],
   "source": [
    "overlap_counter=0\n",
    "trip_idx_data = []\n",
    "\n",
    "for i in range(len(TNG_trip.repeated_ids)):\n",
    "    repeated_id_idxs = np.argwhere(TNG_trip.bhids == TNG_trip.repeated_ids[i])[:,0]\n",
    "    for i in range(len(repeated_id_idxs)-1):\n",
    "        first_binary_idx = repeated_id_idxs[i]\n",
    "        second_binary_idx = repeated_id_idxs[i+1]\n",
    "\n",
    "        first_binary_zform = TNG_trip.z_binary_form[first_binary_idx]\n",
    "        second_binary_zform = TNG_trip.z_binary_form[second_binary_idx]\n",
    "\n",
    "        first_binary_tlook_form = evo_TNG_bh.tlook[first_binary_idx][0]\n",
    "        first_binary_tlook_merger = evo_TNG_bh.tlook[first_binary_idx][-1]\n",
    "\n",
    "        second_binary_tlook_form = evo_TNG_bh.tlook[second_binary_idx][0]\n",
    "        second_binary_tlook_merger = evo_TNG_bh.tlook[second_binary_idx][-1]\n",
    "\n",
    "        if(first_binary_tlook_merger<second_binary_tlook_form):\n",
    "            overlap_counter = overlap_counter + 1\n",
    "            trip_idx_data.append([first_binary_idx,second_binary_idx])\n",
    "        \n",
    "            \n",
    "\n",
    "print('fraction of triple interactions',overlap_counter/TNG_trip.N_binaries)"
   ]
  },
  {
   "cell_type": "code",
   "execution_count": 44,
   "id": "1bef79ea",
   "metadata": {},
   "outputs": [],
   "source": [
    "for i in range(len(TNG_trip.repeated_ids)):\n",
    "    common_elements = np.intersect1d(TNG_trip.bhids[trip_idx_data[0][0]], TNG_trip.bhids[trip_idx_data[0][1]])\n",
    "\n",
    "    if common_elements.size == 0:\n",
    "        raise ValueError(\"No common elements found between the two arrays.\")"
   ]
  },
  {
   "cell_type": "code",
   "execution_count": 37,
   "id": "85a12326",
   "metadata": {},
   "outputs": [
    {
     "data": {
      "text/plain": [
       "array([101364043651, 101888649851], dtype=uint64)"
      ]
     },
     "execution_count": 37,
     "metadata": {},
     "output_type": "execute_result"
    }
   ],
   "source": [
    "TNG_trip.bhids[trip_idx_data[0][0]]"
   ]
  },
  {
   "cell_type": "code",
   "execution_count": 38,
   "id": "a8fe5027",
   "metadata": {},
   "outputs": [
    {
     "data": {
      "text/plain": [
       "array([101888649851, 107458968134], dtype=uint64)"
      ]
     },
     "execution_count": 38,
     "metadata": {},
     "output_type": "execute_result"
    }
   ],
   "source": [
    "TNG_trip.bhids[trip_idx_data[0][1]]"
   ]
  },
  {
   "cell_type": "code",
   "execution_count": 25,
   "id": "d5a33956",
   "metadata": {},
   "outputs": [
    {
     "data": {
      "text/plain": [
       "32.5862343029725"
      ]
     },
     "execution_count": 25,
     "metadata": {},
     "output_type": "execute_result"
    }
   ],
   "source": [
    "overlap_counter/TNG_trip.N_binaries * 100"
   ]
  },
  {
   "cell_type": "code",
   "execution_count": 32,
   "id": "3d2c379d",
   "metadata": {},
   "outputs": [
    {
     "name": "stdout",
     "output_type": "stream",
     "text": [
      "first binary: 1\n",
      "second binary: 108\n",
      "first binary merger tlook: 3.025165970605022e+17\n",
      "second binary formation tlook: 3.7040214284979923e+17\n",
      "overlap\n",
      "first binary: 108\n",
      "second binary: 129\n",
      "first binary merger tlook: 2.755567394669094e+17\n",
      "second binary formation tlook: 3.6824438143007014e+17\n",
      "overlap\n",
      "first binary: 129\n",
      "second binary: 182\n",
      "first binary merger tlook: 2.733585287589266e+17\n",
      "second binary formation tlook: 3.6314710573186656e+17\n",
      "overlap\n"
     ]
    }
   ],
   "source": [
    "for i in range(len(repeated_id_idxs)-1):\n",
    "    first_binary_idx = repeated_id_idxs[i]\n",
    "    second_binary_idx = repeated_id_idxs[i+1]\n",
    "\n",
    "    first_binary_zform = TNG_trip.z_binary_form[first_binary_idx]\n",
    "    second_binary_zform = TNG_trip.z_binary_form[second_binary_idx]\n",
    "\n",
    "    first_binary_tlook_form = evo_TNG_bh.tlook[first_binary_idx][0]\n",
    "    first_binary_tlook_merger = evo_TNG_bh.tlook[first_binary_idx][-1]\n",
    "\n",
    "    second_binary_tlook_form = evo_TNG_bh.tlook[second_binary_idx][0]\n",
    "    second_binary_tlook_merger = evo_TNG_bh.tlook[second_binary_idx][-1]\n",
    "\n",
    "    if(first_binary_tlook_merger<second_binary_tlook_form):\n",
    "        print('first binary:',first_binary_idx)\n",
    "        print('second binary:',second_binary_idx)\n",
    "        print('first binary merger tlook:',first_binary_tlook_merger)\n",
    "        print('second binary formation tlook:',second_binary_tlook_form)\n",
    "        print('overlap')"
   ]
  },
  {
   "cell_type": "code",
   "execution_count": null,
   "id": "f5be7951",
   "metadata": {},
   "outputs": [
    {
     "name": "stdout",
     "output_type": "stream",
     "text": [
      "[[3932    1]\n",
      " [5709    0]]\n",
      "repeated_id_idxs: [3991 4561]\n"
     ]
    }
   ],
   "source": []
  },
  {
   "cell_type": "code",
   "execution_count": null,
   "id": "0798f4f2",
   "metadata": {},
   "outputs": [
    {
     "name": "stdout",
     "output_type": "stream",
     "text": [
      "first_binary_zform: 0.4684956290227602\n",
      "second_binary_zform: 0.3432645358013582\n"
     ]
    }
   ],
   "source": []
  },
  {
   "cell_type": "code",
   "execution_count": 33,
   "id": "b20418e4",
   "metadata": {},
   "outputs": [
    {
     "name": "stdout",
     "output_type": "stream",
     "text": [
      "first_binary_zform: 5.037808758445386\n",
      "second_binary_zform: 4.136924728641951\n"
     ]
    }
   ],
   "source": [
    "first_binary_idx = repeated_id_idxs[0]\n",
    "second_binary_idx = repeated_id_idxs[1]\n",
    "\n",
    "first_binary_zform = z_binary_form[first_binary_idx]\n",
    "second_binary_zform = z_binary_form[second_binary_idx]\n",
    "print('first_binary_zform:',first_binary_zform)\n",
    "print('second_binary_zform:',second_binary_zform)"
   ]
  },
  {
   "cell_type": "code",
   "execution_count": null,
   "id": "e3e9876f",
   "metadata": {},
   "outputs": [],
   "source": []
  },
  {
   "cell_type": "code",
   "execution_count": 37,
   "id": "ee630831",
   "metadata": {},
   "outputs": [
    {
     "ename": "AttributeError",
     "evalue": "module 'holodeck' has no attribute 'triples'",
     "output_type": "error",
     "traceback": [
      "\u001b[0;31m---------------------------------------------------------------------------\u001b[0m",
      "\u001b[0;31mAttributeError\u001b[0m                            Traceback (most recent call last)",
      "Cell \u001b[0;32mIn[37], line 1\u001b[0m\n\u001b[0;32m----> 1\u001b[0m \u001b[43mholo\u001b[49m\u001b[38;5;241;43m.\u001b[39;49m\u001b[43mtriples\u001b[49m\n",
      "\u001b[0;31mAttributeError\u001b[0m: module 'holodeck' has no attribute 'triples'"
     ]
    }
   ],
   "source": [
    "holo.triples"
   ]
  },
  {
   "cell_type": "code",
   "execution_count": null,
   "id": "efa14115",
   "metadata": {},
   "outputs": [
    {
     "name": "stdout",
     "output_type": "stream",
     "text": [
      "0\n",
      "1\n"
     ]
    }
   ],
   "source": [
    "#for each pair of overlapping binaries the first one that formed (higher z-form) is the first binary and the second one is the second binary\n",
    "\n",
    "for i in range(len(repeated_id_idxs)):\n",
    "    first_binary_idx = repeated_id_idxs[i]\n",
    "    second_binary_idx = repeated_id_idxs[i+1]"
   ]
  },
  {
   "cell_type": "code",
   "execution_count": 59,
   "id": "2ede794f",
   "metadata": {},
   "outputs": [
    {
     "data": {
      "text/plain": [
       "array([5.03780876, 4.13692473, 3.82157752])"
      ]
     },
     "execution_count": 59,
     "metadata": {},
     "output_type": "execute_result"
    }
   ],
   "source": [
    "z_binary_form[np.argwhere(bhids == repeated_ids[1])[:,0]]"
   ]
  },
  {
   "cell_type": "code",
   "execution_count": 60,
   "id": "c9b9a5b9",
   "metadata": {},
   "outputs": [
    {
     "data": {
      "text/plain": [
       "array([17, 21, 22])"
      ]
     },
     "execution_count": 60,
     "metadata": {},
     "output_type": "execute_result"
    }
   ],
   "source": [
    "snap_binary[np.argwhere(bhids == repeated_ids[1])[:,0]]"
   ]
  },
  {
   "cell_type": "code",
   "execution_count": 40,
   "id": "dfc4df75",
   "metadata": {},
   "outputs": [
    {
     "name": "stdout",
     "output_type": "stream",
     "text": [
      "[106045114669 106066328519] 7.235943303766296\n"
     ]
    }
   ],
   "source": [
    "print(bhids[0],z_binary_form[0])"
   ]
  },
  {
   "cell_type": "code",
   "execution_count": 20,
   "id": "cce9cba4",
   "metadata": {},
   "outputs": [
    {
     "name": "stdout",
     "output_type": "stream",
     "text": [
      "Percentage of repeated IDs: 28.62%\n"
     ]
    }
   ],
   "source": [
    "unique_ids, counts = np.unique(merger_file['blackhole-mergers/bhid'][valid_merger_flag], return_counts=True)\n",
    "repeated_ids = unique_ids[counts > 1]\n",
    "percentage_repeated = (len(repeated_ids) / len(unique_ids)) * 100\n",
    "print(f\"Percentage of repeated IDs: {percentage_repeated:.2f}%\")"
   ]
  },
  {
   "cell_type": "code",
   "execution_count": 35,
   "id": "2f0636a8",
   "metadata": {},
   "outputs": [
    {
     "data": {
      "text/plain": [
       "array([[ 3389,     1],\n",
       "       [13786,     0]])"
      ]
     },
     "execution_count": 35,
     "metadata": {},
     "output_type": "execute_result"
    }
   ],
   "source": [
    "np.argwhere(merger_file['blackhole-mergers/bhid'][valid_merger_flag]==repeated_ids[0])"
   ]
  },
  {
   "cell_type": "code",
   "execution_count": 26,
   "id": "fbbea24a",
   "metadata": {},
   "outputs": [
    {
     "data": {
      "text/plain": [
       "array([100014872824, 100018008124], dtype=uint64)"
      ]
     },
     "execution_count": 26,
     "metadata": {},
     "output_type": "execute_result"
    }
   ],
   "source": [
    "merger_file['blackhole-mergers/bhid'][valid_merger_flag][3389]"
   ]
  },
  {
   "cell_type": "code",
   "execution_count": 28,
   "id": "85f0e474",
   "metadata": {},
   "outputs": [
    {
     "data": {
      "text/plain": [
       "array([100018008124, 116499017021], dtype=uint64)"
      ]
     },
     "execution_count": 28,
     "metadata": {},
     "output_type": "execute_result"
    }
   ],
   "source": [
    "merger_file['blackhole-mergers/bhid'][valid_merger_flag][13786]"
   ]
  },
  {
   "cell_type": "code",
   "execution_count": 32,
   "id": "c1370b2d",
   "metadata": {},
   "outputs": [
    {
     "name": "stdout",
     "output_type": "stream",
     "text": [
      "[100018008124 100134256609 100260425143 ... 122274990870 122304857114\n",
      " 122391728950] [2 3 2 ... 4 4 2]\n"
     ]
    }
   ],
   "source": [
    "print(repeated_ids,counts[counts > 1])"
   ]
  },
  {
   "cell_type": "markdown",
   "id": "36de29f0",
   "metadata": {},
   "source": [
    "#### Trying with galaxy merger files"
   ]
  },
  {
   "cell_type": "code",
   "execution_count": 2,
   "id": "62b9f4f9",
   "metadata": {},
   "outputs": [],
   "source": [
    "merger_file_path = '/home/pranavsatheesh/mbhb_evolution/holodeck/holodeck/data/'\n",
    "#merger_file_path = '/home/pranavsatheesh/host_galaxies/data/merger_files/'\n",
    "merger_file_name = 'galaxy-mergers_TNG100-1_gas-100_dm-100_star-100_bh-001.hdf5'\n",
    "#merger_file_name = 'galaxy-mergers_TNG50-1_gas-100_dm-100_star-100_bh-001.hdf5'"
   ]
  },
  {
   "cell_type": "code",
   "execution_count": 3,
   "id": "57f858bf",
   "metadata": {},
   "outputs": [
    {
     "name": "stdout",
     "output_type": "stream",
     "text": [
      "<KeysViewHDF5 ['ProgMassRatio', 'SubhaloBHMass', 'SubhaloBHMdot', 'SubhaloCM', 'SubhaloGrNr', 'SubhaloHalfmassRadType', 'SubhaloLenType', 'SubhaloMassInHalfRadType', 'SubhaloMassInRadType', 'SubhaloMassType', 'SubhaloPos', 'SubhaloSFR', 'SubhaloVel', 'SubhaloVelDisp', 'fpMass', 'npMass', 'shids_subf', 'shids_tree', 'snaps', 'time']>\n"
     ]
    }
   ],
   "source": [
    "merger_file = h5py.File(merger_file_path+merger_file_name, 'r')\n",
    "print(merger_file.keys())"
   ]
  },
  {
   "cell_type": "code",
   "execution_count": 4,
   "id": "8232e990",
   "metadata": {},
   "outputs": [
    {
     "name": "stdout",
     "output_type": "stream",
     "text": [
      "3284\n"
     ]
    }
   ],
   "source": [
    "Nmergers = merger_file['shids_subf'][:,0].shape[0]\n",
    "print(Nmergers)"
   ]
  },
  {
   "cell_type": "code",
   "execution_count": 5,
   "id": "a298872b",
   "metadata": {},
   "outputs": [],
   "source": [
    "id_prog_1 = merger_file['shids_subf'][:,0]\n",
    "id_prog_2 = merger_file['shids_subf'][:,1]\n",
    "id_desc = merger_file['shids_subf'][:,2]\n",
    "\n",
    "snap_prog_1 = merger_file['snaps'][:,0]\n",
    "snap_prog_2 = merger_file['snaps'][:,1]\n",
    "snap_desc = merger_file['snaps'][:,2]"
   ]
  },
  {
   "cell_type": "markdown",
   "id": "2727c664",
   "metadata": {},
   "source": [
    "## Trying with BH merger file"
   ]
  },
  {
   "cell_type": "code",
   "execution_count": 3,
   "id": "7d643c51",
   "metadata": {},
   "outputs": [],
   "source": [
    "bh_merger_file_path = '/orange/lblecha/IllustrisTNG/Runs/TNG100-1/postprocessing/blackholes/'\n",
    "bh_merger_file_name = 'blackhole_mergers.hdf5'\n",
    "bh_details_file_name = 'blackhole_details.hdf5'"
   ]
  },
  {
   "cell_type": "code",
   "execution_count": 4,
   "id": "a848ddc8",
   "metadata": {},
   "outputs": [],
   "source": [
    "bh_merger_file = h5py.File(bh_merger_file_path+bh_merger_file_name, 'r')\n",
    "bh_details_file = h5py.File(bh_merger_file_path+bh_details_file_name, 'r')"
   ]
  },
  {
   "cell_type": "code",
   "execution_count": 5,
   "id": "e5d0f2eb",
   "metadata": {},
   "outputs": [
    {
     "name": "stdout",
     "output_type": "stream",
     "text": [
      "<KeysViewHDF5 ['Header', 'details', 'id_in', 'id_out', 'mass_in', 'mass_out', 'snapshot', 'time', 'tree']>\n",
      "<KeysViewHDF5 ['Header', 'cs', 'id', 'mass', 'mdot', 'rho', 'time', 'unique']>\n"
     ]
    }
   ],
   "source": [
    "print(bh_merger_file.keys())\n",
    "print(bh_details_file.keys())"
   ]
  },
  {
   "cell_type": "code",
   "execution_count": 6,
   "id": "58eaf114",
   "metadata": {},
   "outputs": [
    {
     "name": "stdout",
     "output_type": "stream",
     "text": [
      "[106045114669 102169506266 106065016166 ... 116402391015 107629987793\n",
      " 108320880313] [106066328519 106037958296 106066328519 ... 120020142194 112530943142\n",
      " 114209919489]\n",
      "[11 11 12 ... 99 99 99]\n",
      "(18374,)\n"
     ]
    }
   ],
   "source": [
    "print(bh_merger_file['id_in'][:],bh_merger_file['id_out'][:])\n",
    "print(bh_merger_file['snapshot'][:])\n",
    "print(np.shape(bh_merger_file['id_out']))"
   ]
  },
  {
   "cell_type": "markdown",
   "id": "d3ca858d",
   "metadata": {},
   "source": [
    "##### Files from Luke"
   ]
  },
  {
   "cell_type": "code",
   "execution_count": 70,
   "id": "f6ad6906",
   "metadata": {},
   "outputs": [
    {
     "data": {
      "text/plain": [
       "array([106045114669, 102169506266, 106065016166, ..., 116402391015,\n",
       "       107629987793, 108320880313], dtype=uint64)"
      ]
     },
     "execution_count": 70,
     "metadata": {},
     "output_type": "execute_result"
    }
   ],
   "source": [
    "bh_merger_file['id_in'][:]"
   ]
  },
  {
   "cell_type": "code",
   "execution_count": 71,
   "id": "53a87356",
   "metadata": {},
   "outputs": [
    {
     "data": {
      "text/plain": [
       "array([106045114669, 102169506266, 106065016166, ..., 107629987793,\n",
       "       107713844288, 108320880313], dtype=uint64)"
      ]
     },
     "execution_count": 71,
     "metadata": {},
     "output_type": "execute_result"
    }
   ],
   "source": [
    "merger_file['blackhole-mergers/bhid'][:,0]"
   ]
  },
  {
   "cell_type": "code",
   "execution_count": 74,
   "id": "69bd9fa7",
   "metadata": {},
   "outputs": [
    {
     "name": "stdout",
     "output_type": "stream",
     "text": [
      "IDs only in 'id_in': []\n",
      "IDs only in 'bhid': [100010834623 100011375978 100031148013 ... 121656137827 121816908248\n",
      " 121943202827]\n"
     ]
    }
   ],
   "source": [
    "# Assuming bh_merger_file['id_in'][:] and merger_file['blackhole-mergers/bhid'][:,0] are loaded as arrays\n",
    "id_in = bh_merger_file['id_in'][:]\n",
    "bhid = merger_file['blackhole-mergers/bhid'][:, 0]\n",
    "\n",
    "# Find IDs in id_in but not in bhid\n",
    "only_in_id_in = np.setdiff1d(id_in, bhid)\n",
    "\n",
    "# Find IDs in bhid but not in id_in\n",
    "only_in_bhid = np.setdiff1d(bhid, id_in)\n",
    "\n",
    "# Find common IDs\n",
    "common_ids = np.intersect1d(id_in, bhid)\n",
    "\n",
    "# Print results\n",
    "print(f\"IDs only in 'id_in': {only_in_id_in}\")\n",
    "print(f\"IDs only in 'bhid': {only_in_bhid}\")"
   ]
  },
  {
   "cell_type": "code",
   "execution_count": 77,
   "id": "c11c45ad",
   "metadata": {},
   "outputs": [
    {
     "name": "stdout",
     "output_type": "stream",
     "text": [
      "Number of BHs that appear in both arrays: 7076\n",
      "Percentage of unique BHs that appear in both arrays: 22.85%\n"
     ]
    }
   ],
   "source": [
    "# Assuming bhid is already loaded as merger_file['blackhole-mergers/bhid'][:, 0]\n",
    "bhid1 = merger_file['blackhole-mergers/bhid'][:, 0]\n",
    "bhid2 = merger_file['blackhole-mergers/bhid'][:, 1]\n",
    "\n",
    "# Find black holes that appear in both bhid1 and bhid2 arrays\n",
    "common_bhs = np.intersect1d(bhid1, bhid2)\n",
    "\n",
    "# Calculate statistics\n",
    "total_unique_bhid1 = np.unique(bhid1).size\n",
    "total_unique_bhid2 = np.unique(bhid2).size\n",
    "percentage_in_both = (len(common_bhs) / np.unique(np.concatenate((bhid1, bhid2))).size) * 100\n",
    "\n",
    "print(f\"Number of BHs that appear in both arrays: {len(common_bhs)}\")\n",
    "print(f\"Percentage of unique BHs that appear in both arrays: {percentage_in_both:.2f}%\")"
   ]
  },
  {
   "cell_type": "markdown",
   "id": "a112b301",
   "metadata": {},
   "source": [
    "#### Linking BH merger file to subhalo data\n",
    "\n",
    "We have the linked files but they lack progenitor data. Future work should need to link them - BRAHMA sims ? "
   ]
  },
  {
   "cell_type": "code",
   "execution_count": 29,
   "id": "05f1f78b",
   "metadata": {},
   "outputs": [],
   "source": [
    "snapnum=11\n",
    "offset_path = '/orange/lblecha/IllustrisTNG/Runs/TNG100-1/postprocessing/offsets/'\n",
    "offset_number = 'offsets_0%d.hdf5'%(snapnum)"
   ]
  },
  {
   "cell_type": "code",
   "execution_count": 31,
   "id": "ff83257a",
   "metadata": {},
   "outputs": [
    {
     "name": "stdout",
     "output_type": "stream",
     "text": [
      "<KeysViewHDF5 ['FileOffsets', 'Group', 'Subhalo']>\n"
     ]
    }
   ],
   "source": [
    "offset_file = h5py.File(offset_path+offset_number, 'r')\n",
    "print(offset_file.keys())"
   ]
  },
  {
   "cell_type": "code",
   "execution_count": 2,
   "id": "eb7ff5ac",
   "metadata": {},
   "outputs": [],
   "source": [
    "# # Specify the field you want to load\n",
    "# fields = ['ParticleIDs']\n",
    "\n",
    "# # Load the ParticleIDs\n",
    "# data = il.snapshot.loadSubset(basePath, snapNum=11, partType=5, fields=fields)"
   ]
  },
  {
   "cell_type": "markdown",
   "id": "4d78169f",
   "metadata": {},
   "source": [
    "### Checking the illustris MBHB file"
   ]
  },
  {
   "cell_type": "code",
   "execution_count": 12,
   "id": "2302c81b",
   "metadata": {},
   "outputs": [
    {
     "name": "stdout",
     "output_type": "stream",
     "text": [
      "['ontop', 'run', 'scales', 'masses', 'created', 'ids', 'num', 'filename', 'version', 's2m', 'm2s']\n"
     ]
    }
   ],
   "source": [
    "mbhb_merger_file_ill = '/orange/lblecha/pranavsatheesh/mbhb_data/ill-1_blackhole_mergers_fixed.npz'\n",
    "mbhb_mergers_ill = np.load(mbhb_merger_file_ill)\n",
    "print(list(mbhb_mergers_ill.keys()))"
   ]
  },
  {
   "cell_type": "code",
   "execution_count": 13,
   "id": "33eefbcd",
   "metadata": {},
   "outputs": [
    {
     "name": "stdout",
     "output_type": "stream",
     "text": [
      "Percentage of repeated IDs: 33.01%\n"
     ]
    }
   ],
   "source": [
    "ids = mbhb_mergers_ill['ids']\n",
    "unique_ids, counts = np.unique(ids, return_counts=True)\n",
    "repeated_ids = unique_ids[counts > 1]\n",
    "percentage_repeated = (len(repeated_ids) / len(unique_ids)) * 100\n",
    "print(f\"Percentage of repeated IDs: {percentage_repeated:.2f}%\")"
   ]
  },
  {
   "cell_type": "markdown",
   "id": "35353bf9",
   "metadata": {},
   "source": [
    "### The fiducial model file"
   ]
  },
  {
   "cell_type": "code",
   "execution_count": 14,
   "id": "f84b76cf",
   "metadata": {},
   "outputs": [
    {
     "name": "stdout",
     "output_type": "stream",
     "text": [
      "<KeysViewHDF5 ['evolution', 'meta']>\n",
      "meta: <KeysViewHDF5 ['SubhaloMassInHalfRadType', 'SubhaloSFRinHalfRad', 'snapshot', 'subhalo_id']>\n",
      "evolution: <KeysViewHDF5 ['dadt', 'dadt_df', 'dadt_gw', 'dadt_lc', 'dadt_vd', 'dedt', 'eccen', 'masses', 'mdot_eff', 'scales', 'sep', 'times']>\n"
     ]
    }
   ],
   "source": [
    "mbhb_data_dir = '/orange/lblecha/pranavsatheesh/mbhb_data/'\n",
    "fid_e6_file = mbhb_data_dir+'mbhb-evolution_fiducial_ecc-evo-0.6_lc-shm06.hdf5'\n",
    "fid_e6 = h5py.File(fid_e6_file, 'r')\n",
    "print(fid_e6.keys())\n",
    "print(\"meta:\",fid_e6['meta'].keys())\n",
    "print(\"evolution:\",fid_e6['evolution'].keys())"
   ]
  },
  {
   "cell_type": "code",
   "execution_count": null,
   "id": "0221809d",
   "metadata": {},
   "outputs": [],
   "source": []
  }
 ],
 "metadata": {
  "kernelspec": {
   "display_name": "Python (hfrl)",
   "language": "python",
   "name": "hfrl"
  },
  "language_info": {
   "codemirror_mode": {
    "name": "ipython",
    "version": 3
   },
   "file_extension": ".py",
   "mimetype": "text/x-python",
   "name": "python",
   "nbconvert_exporter": "python",
   "pygments_lexer": "ipython3",
   "version": "3.10.15"
  }
 },
 "nbformat": 4,
 "nbformat_minor": 5
}
