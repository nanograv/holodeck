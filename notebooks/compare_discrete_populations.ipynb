{
 "cells": [
  {
   "cell_type": "code",
   "execution_count": 36,
   "id": "e7f847a6-e493-4327-8e06-7b247f8fc00a",
   "metadata": {},
   "outputs": [],
   "source": [
    "# %load ./init.ipy\n",
    "%reload_ext autoreload\n",
    "%autoreload 2\n",
    "from importlib import reload\n",
    "\n",
    "import os\n",
    "import sys\n",
    "import logging\n",
    "import warnings\n",
    "import numpy as np\n",
    "import astropy as ap\n",
    "import scipy as sp\n",
    "import scipy.stats\n",
    "import matplotlib as mpl\n",
    "import matplotlib.pyplot as plt\n",
    "\n",
    "import h5py\n",
    "import tqdm.notebook as tqdm\n",
    "\n",
    "import kalepy as kale\n",
    "import kalepy.utils\n",
    "import kalepy.plot\n",
    "\n",
    "import holodeck as holo\n",
    "import holodeck.sam\n",
    "import holodeck.gravwaves\n",
    "from holodeck import cosmo, utils, plot\n",
    "from holodeck.constants import MSOL, PC, YR, MPC, GYR, SPLC\n",
    "\n",
    "# Silence annoying numpy errors\n",
    "np.seterr(divide='ignore', invalid='ignore', over='ignore')\n",
    "warnings.filterwarnings(\"ignore\", category=UserWarning)\n",
    "\n",
    "# Plotting settings\n",
    "mpl.rc('font', **{'family': 'serif', 'sans-serif': ['Times'], 'size': 15})\n",
    "mpl.rc('lines', solid_capstyle='round')\n",
    "mpl.rc('mathtext', fontset='cm')\n",
    "plt.rcParams.update({'grid.alpha': 0.5})\n",
    "mpl.style.use('default')   # avoid dark backgrounds from dark theme vscode\n",
    "\n",
    "log = holo.log\n",
    "log.setLevel(logging.INFO)"
   ]
  },
  {
   "cell_type": "code",
   "execution_count": 41,
   "id": "31f6bf0e-d196-4516-a1cd-323f2a8e5cf3",
   "metadata": {
    "tags": []
   },
   "outputs": [],
   "source": [
    "def plot_bin_pop(pop):\n",
    "    mt, mr = utils.mtmr_from_m1m2(pop.mass)\n",
    "    redz = cosmo.a_to_z(pop.scafa)\n",
    "    data = [mt/MSOL, mr, pop.sepa/PC, 1+redz]\n",
    "    data = [np.log10(dd) for dd in data]\n",
    "    reflect = [None, [None, 0], None, [0, None]]\n",
    "    labels = [r'M/M_\\odot', 'q', r'a/\\mathrm{{pc}}', '1+z']\n",
    "    labels = [r'${{\\log_{{10}}}} \\left({}\\right)$'.format(ll) for ll in labels]\n",
    "\n",
    "    if pop.eccen is not None:\n",
    "        data.append(pop.eccen)\n",
    "        reflect.append([0.0, 1.0])\n",
    "        labels.append('e')\n",
    "\n",
    "    kde = kale.KDE(data, reflect=reflect)\n",
    "    corner = kale.Corner(kde, labels=labels, figsize=[8, 8])\n",
    "    corner.plot_data(kde)\n",
    "    return corner\n",
    "\n",
    "def compare_bin_pops(pops, labels=None, var='mass', colors=None, lws=None, \n",
    "                     density=True, hist=False, confidence=False):\n",
    "    assert isinstance(pops, list), '`pops` must be a list of binary populations'\n",
    "    assert var in ['mass','mrat','sepa','redz'], \"`var` must be 'mass','mrat','sepa', or 'redz'.\"\n",
    "    if (labels is not None):\n",
    "        if (len(labels) != len(pops)) and (not isinstance(labels,str)):\n",
    "            print(\"Warning: `labels` must be a str or a list of length len(pops). Setting to None.\")\n",
    "            labels = None\n",
    "   \n",
    "    fig, ax = plt.subplots(figsize=[10, 5])\n",
    "    ax.set(ylabel='Probability Density')\n",
    "    ax.grid(alpha=0.01)\n",
    "    \n",
    "    if (colors is not None) and (lws is None):\n",
    "        lws = [1.0]*len(pops)\n",
    "\n",
    "    if (var == 'mass') or (var == 'mrat'):\n",
    "        for i,pop in enumerate(pops):\n",
    "            mt, mr = utils.mtmr_from_m1m2(pop.mass)\n",
    "            data = np.log10(mt/MSOL) if var=='mass' else mr\n",
    "            #print(data.min(),data.max())\n",
    "            xlab = r'$\\log_{10}(M_{tot})$' if var=='mass' else r'$q$'\n",
    "            ax.set(xlabel=xlab)\n",
    "            if colors is None:\n",
    "                kale.dist1d(data, density=density, hist=hist, confidence=confidence, label=labels[i])\n",
    "            else: \n",
    "                kale.dist1d(data, density=density, hist=hist, confidence=confidence, \n",
    "                            label=labels[i], color=colors[i], lw=lws[i])\n",
    "\n",
    "    elif var == 'sepa':\n",
    "        for i,pop in enumerate(pops):\n",
    "            data = np.log10(pop.sepa/PC)\n",
    "            #print(data.min(),data.max())\n",
    "            ax.set(xlabel=r'$\\log_{10}(a) [pc]$')\n",
    "            if colors is None:\n",
    "                kale.dist1d(data, density=density, hist=hist, confidence=confidence, label=labels[i])\n",
    "            else: \n",
    "                kale.dist1d(data, density=density, hist=hist, confidence=confidence, \n",
    "                            label=labels[i], color=colors[i], lw=lws[i])\n",
    "\n",
    "    else:\n",
    "        for i,pop in enumerate(pops):\n",
    "            redz = cosmo.a_to_z(pop.scafa)\n",
    "            data = 1+redz\n",
    "            #print(data.min(),data.max())\n",
    "            ax.set(xlabel=r'$\\log_{10}(1+z)$')\n",
    "            if colors is None:\n",
    "                kale.dist1d(data, density=density, hist=hist, confidence=confidence, label=labels[i])\n",
    "            else: \n",
    "                kale.dist1d(data, density=density, hist=hist, confidence=confidence, \n",
    "                            label=labels[i], color=colors[i], lw=lws[i])\n",
    "\n",
    "def compare_bhmfs(dpops, colors=None, lws=None, labels=None):\n",
    "    \n",
    "    assert isinstance(dpops, list), '`dpops` must be a list of binary populations'\n",
    "\n",
    "    fig, ax = plt.subplots(figsize=[10, 5])\n",
    "    ax.set(ylabel='Probability Density')\n",
    "    ax.grid(alpha=0.01)\n",
    "    ax.set(yscale='log')\n",
    "    \n",
    "    if (colors is not None) and (lws is None):\n",
    "        lws = [1.0]*len(dpops)\n",
    "\n",
    "    for i,dp in enumerate(dpops):\n",
    "        mt, mr = utils.mtmr_from_m1m2(dp.pop.mass)\n",
    "        data = np.log10(mt/MSOL)\n",
    "        #mbinsize = 0.5\n",
    "        #mbins = np.arange(4.75, 11.25, mbinsize)\n",
    "        mhist, mbin_edges = np.histogram(data, range=(5.25,11.25), bins=12) #bins=mbins)\n",
    "        mbinsize = mbin_edges[1]-mbin_edges[0]\n",
    "        mbins = mbin_edges[:-1]+mbinsize\n",
    "        \n",
    "        xlab = r'$\\log_{10}(M_{tot})$' \n",
    "        ax.set(xlabel=xlab)\n",
    "        ax.set(ylabel=r'BHMF [$(\\log_{10} M)^{-1} Mpc^{-3}$]')\n",
    "        #print(mhist.size, mbin_edges.size) #, mbins.size)\n",
    "        #print(mbin_edges)\n",
    "        #print(mhist)\n",
    "        box_vol_mpc = dp.evo._sample_volume / (1.0e6*PC)**3\n",
    "        print(box_vol_mpc)\n",
    "        plt.plot(mbins, mhist/mbinsize/box_vol_mpc, color=colors[i], lw=lws[i], label=labels[i])\n",
    "\n",
    "def compare_gsmfs(dpops, colors=None, lws=None, labels=None):\n",
    "    \n",
    "    assert isinstance(dpops, list), '`dpops` must be a list of binary populations'\n",
    "\n",
    "    fig, ax = plt.subplots(figsize=[10, 5])\n",
    "    ax.set(ylabel='Probability Density')\n",
    "    ax.grid(alpha=0.01)\n",
    "    ax.set(yscale='log')\n",
    "    \n",
    "    if (colors is not None) and (lws is None):\n",
    "        lws = [1.0]*len(dpops)\n",
    "\n",
    "    for i,dp in enumerate(dpops):\n",
    "        #mt, mr = utils.mtmr_from_m1m2(dp.pop.mass)\n",
    "        data = np.log10(dp.pop.mbulge/MSOL)\n",
    "        #mbinsize = 0.5\n",
    "        #mbins = np.arange(4.75, 11.25, mbinsize)\n",
    "        mhist, mbin_edges = np.histogram(data, range=(7.25,14.25), bins=20) #bins=mbins)\n",
    "        mbinsize = mbin_edges[1]-mbin_edges[0]\n",
    "        mbins = mbin_edges[:-1]+mbinsize\n",
    "        \n",
    "        xlab = r'$\\log_{10}(M_{*})$' \n",
    "        ax.set(xlabel=xlab)\n",
    "        ax.set(ylabel=r'GSMF [$(\\log_{10} M)^{-1} Mpc^{-3}$]')\n",
    "        #print(mhist.size, mbin_edges.size) #, mbins.size)\n",
    "        #print(mbin_edges)\n",
    "        #print(mhist)\n",
    "        box_vol_mpc = dp.evo._sample_volume / (1.0e6*PC)**3\n",
    "        plt.plot(mbins, mhist/mbinsize/box_vol_mpc, color=colors[i], lw=lws[i], label=labels[i])\n",
    "\n",
    "def compare_gal_merger_rate(dpops, colors=None, lws=None, labels=None, sam_compare=None):\n",
    "\n",
    "    fig = plt.figure(figsize=(12,3))\n",
    "    ax1 = fig.add_subplot(131) \n",
    "    ax1.set_xlabel('redshift')\n",
    "    ax1.set_ylabel(r'$d\\eta_{gal-gal}$ / $dz$ [Mpc$^{-3}$]')\n",
    "    ax2 = fig.add_subplot(132) \n",
    "    ax2.set_xlabel(r'$\\log_{10}(m_{*1})$')\n",
    "    ax2.set_ylabel(r'$\\frac{d\\eta_{gal-gal}}{d\\log_{10}m_{*1}}$ [$(\\log_{10}m_{*1})^{-1}$ Mpc$^{-3}$]')\n",
    "    ax3 = fig.add_subplot(133) \n",
    "    ax3.set_xlabel(r'$q_*$')\n",
    "    ax3.set_ylabel(r'$d\\eta_{gal-gal}$ / $dq_{*1}$ [Mpc$^{-3}$]')\n",
    "\n",
    "    if sam_compare is not None:\n",
    "        mstar_pri, mstar_sec = sam.mass_stellar()\n",
    "        mstar_rat = mstar_sec / mstar_pri\n",
    "        \n",
    "        integ = utils.trapz(sam._dens_gal_gal, mstar_pri, axis=0, cumsum=False)\n",
    "        sam_dngalgal_dz = utils.trapz(integ, mstar_rat, axis=1, cumsum=False)\n",
    "\n",
    "        integ = utils.trapz(integ, mstar_rat, axis=1, cumsum=False)\n",
    "        sam_dngalgal_dmstar_pri = utils.trapz(integ, sam.redz, axis=2, cumsum=False)\n",
    "\n",
    "        integ = utils.trapz(integ, mstar_pri, axis=0, cumsum=False)\n",
    "        sam_dngalgal_dmstar_rat = utils.trapz(integ, sam.redz, axis=2, cumsum=False)\n",
    "\n",
    "    for i,dp in enumerate(dpops):\n",
    "        box_vol_mpc = dp.evo._sample_volume / (1.0e6*PC)**3\n",
    "\n",
    "        mstar = dp.pop.mbulge\n",
    "        mstar1 = np.max(mstar,axis=1)\n",
    "        mstar2 = np.min(mstar,axis=1)\n",
    "        qstar = mstar2 / mstar1\n",
    "        print(mstar.shape, mstar.min(), mstar.max())\n",
    "        print(mstar1.shape, mstar1.min(), mstar1.max())\n",
    "        print(mstar2.shape, mstar2.min(), mstar2.max())\n",
    "        print(qstar.shape, qstar.min(), qstar.max())\n",
    "        \n",
    "        redz = 1.0/dp.pop.scafa - 1\n",
    "        dngalgal_tot = redz.size / box_vol_mpc # total galaxy merger number density in cMpc^-3\n",
    "        print(f'dngalgal_tot = {dngalgal_tot}')\n",
    "        z_hist,z_bin_edges = np.histogram(redz, bins=20)\n",
    "        dngalgal_dz = z_hist / box_vol_mpc\n",
    "        lgm1_hist, lgm1_bin_edges = np.histogram(np.log10(mstar1/MSOL), bins=20)\n",
    "        dngalgal_dlog10m1 = lgm1_hist / box_vol_mpc\n",
    "        qstar_hist, qstar_bin_edges = np.histogram(qstar, bins=20)\n",
    "        dngalgal_dqstar = qstar_hist / box_vol_mpc\n",
    "        \n",
    "        ax1.plot(z_bin_edges[:-1], dngalgal_dz)\n",
    "        ax2.plot(lgm1_bin_edges[:-1], dngalgal_dlog10m1)\n",
    "        ax3.plot(qstar_bin_edges[:-1], dngalgal_dqstar)\n",
    "        if sam_compare is not None:\n",
    "            ax1.plot(sam.redz, sam_dngalgal_dz)\n",
    "            ax2.plot(mstar_pri, sam_dngalgal_dmstar_pri)\n",
    "            ax3.plot(mstar_rat, sam_dngalgal_dmstar_rat)\n",
    "\n",
    "    fig.subplots_adjust(wspace=0.5)\n",
    "                        \n",
    "def plot_mbh_scaling_relations(pop, fname=None, color='r', compare_pops=None, ncols=1, nrows=1,\n",
    "                               xlim=None, ylim=None):\n",
    "    units = r\"$[\\log_{10}(M/M_\\odot)]$\"\n",
    "\n",
    "    if compare_pops == None:\n",
    "        fig, axes = plt.subplots(figsize=[12, 6])\n",
    "        pops = [pop]\n",
    "    else:\n",
    "        fig, axes = plt.subplots(figsize=[12,5], ncols=ncols, nrows=nrows)\n",
    "        pops = [pop] + compare_pops\n",
    "        if len(pops) > ncols*nrows:\n",
    "            raise ValueError(f\"len(pops)>ncols*nrows. ({len(pops)} > {ncols}*{nrows}).\")\n",
    "\n",
    "    i = 0\n",
    "    for idx, ax in np.ndenumerate(axes):\n",
    "        if i > len(pops): break\n",
    "\n",
    "        print(f\"idx: {idx}, i: {i}\")\n",
    "        ax.set(xlabel=f'Stellar Mass {units}', ylabel=f'BH Mass {units}')\n",
    "        if xlim is not None: ax.set(xlim=xlim)\n",
    "        if ylim is not None: ax.set(ylim=ylim)\n",
    "\n",
    "        #   ====    Plot McConnell+Ma-2013 Data    ====\n",
    "        handles = []\n",
    "        names = []\n",
    "        if fname is not None:\n",
    "            hh = _draw_MM2013_data(ax, fname)\n",
    "            handles.append(hh)\n",
    "            names.append('McConnell+Ma')\n",
    "\n",
    "        #   ====    Plot MBH Merger Data    ====\n",
    "        hh, nn = _draw_pop_masses(ax, pops[i], color, nplot=1e6)\n",
    "        handles = handles + hh\n",
    "        names = names + nn\n",
    "        ax.legend(handles, names)\n",
    "        \n",
    "        i += 1\n",
    "\n",
    "    return fig\n",
    "\n",
    "def _draw_MM2013_data(ax):\n",
    "    data = holo.observations.load_mcconnell_ma_2013()\n",
    "    data = {kk: data[kk] if kk == 'name' else np.log10(data[kk]) for kk in data.keys()}\n",
    "    key = 'mbulge'\n",
    "    mass = data['mass']\n",
    "    yy = mass[:, 1]\n",
    "    yerr = np.array([yy - mass[:, 0], mass[:, 2] - yy])\n",
    "    vals = data[key]\n",
    "    if np.ndim(vals) == 1:\n",
    "        xx = vals\n",
    "        xerr = None\n",
    "    elif vals.shape[1] == 2:\n",
    "        xx = vals[:, 0]\n",
    "        xerr = vals[:, 1]\n",
    "    elif vals.shape[1] == 3:\n",
    "        xx = vals[:, 1]\n",
    "        xerr = np.array([xx-vals[:, 0], vals[:, 2]-xx])\n",
    "    else:\n",
    "        raise ValueError()\n",
    "\n",
    "    idx = (xx > 0.0) & (yy > 0.0)\n",
    "    if xerr is not None:\n",
    "        xerr = xerr[:, idx]\n",
    "    ax.errorbar(xx[idx], yy[idx], xerr=xerr, yerr=yerr[:, idx], fmt='none', zorder=10)\n",
    "    handle = ax.scatter(xx[idx], yy[idx], zorder=10)\n",
    "    ax.set(ylabel='MBH Mass', xlabel=key)\n",
    "\n",
    "    return handle\n",
    "\n",
    "def _draw_pop_masses(ax, pop, color='r', nplot=3e3):\n",
    "    print(pop.mbulge.shape, pop.mass.shape)\n",
    "    #xx = pop.mbulge.flatten() / MSOL\n",
    "    xx = pop.mbulge[:,:2].flatten() / MSOL\n",
    "    yy_list = [pop.mass]\n",
    "    names = ['new']\n",
    "    if hasattr(pop, '_mass'):\n",
    "        yy_list.append(pop._mass)\n",
    "        names.append('old')\n",
    "\n",
    "    colors = [color, '0.5']\n",
    "    handles = []\n",
    "    if xx.size > nplot:\n",
    "        cut = np.random.choice(xx.size, int(nplot), replace=False)\n",
    "        print(\"Plotting {:.1e}/{:.1e} data-points\".format(nplot, xx.size))\n",
    "    else:\n",
    "        cut = slice(None)\n",
    "\n",
    "    for ii, yy in enumerate(yy_list):\n",
    "        yy = yy.flatten() / MSOL\n",
    "        data = np.log10([xx[cut], yy[cut]])\n",
    "        kale.plot.dist2d(\n",
    "            data, ax=ax, color=colors[ii], hist=False, contour=True,\n",
    "            median=True, mask_dense=True,\n",
    "        )\n",
    "        hh, = plt.plot([], [], color=colors[ii])\n",
    "        handles.append(hh)\n",
    "\n",
    "    return handles, names\n",
    "\n",
    "def plot_evo(evo, freqs=None, sepa=None, ax=None, label=None, color=None, **kwargs):\n",
    "    if (freqs is None) and (sepa is None):\n",
    "        err = \"Either `freqs` or `sepa` must be provided!\"\n",
    "        log.exception(err)\n",
    "        raise ValueError(err)\n",
    "\n",
    "    if freqs is not None:\n",
    "        data = evo.at('fobs', freqs)\n",
    "        xx = freqs * YR\n",
    "        xlabel = 'GW Frequency [1/yr]'\n",
    "    else:\n",
    "        data = evo.at('sepa', sepa)\n",
    "        xx = sepa / PC\n",
    "        xlabel = 'Binary Separation [pc]'\n",
    "\n",
    "    if ax is None:\n",
    "        fig, ax = plot.figax(xlabel=xlabel)\n",
    "    else:\n",
    "        fig = ax.get_figure()\n",
    "\n",
    "    def _draw_vals_conf(ax, xx, vals, color=color, label=label):\n",
    "        if color is None:\n",
    "            color = ax._get_lines.get_next_color()\n",
    "        if label is not None:\n",
    "            ax.set_ylabel(label, color=color)\n",
    "            ax.tick_params(axis='y', which='both', colors=color)\n",
    "        # vals = np.percentile(vals, [25, 50, 75], axis=0) / units\n",
    "        vals = utils.quantiles(vals, [0.25, 0.50, 0.75], axis=0).T\n",
    "        h1 = ax.fill_between(xx, vals[0], vals[-1], alpha=0.2, color=color)\n",
    "        h2, = ax.plot(xx, vals[1], alpha=0.5, lw=2.0, color=color)\n",
    "        return (h1, h2)\n",
    "\n",
    "    # handles = []\n",
    "    # labels = []\n",
    "\n",
    "    name = 'Hardening Time [yr]'\n",
    "    vals = np.fabs(data['sepa'] / data['dadt']) / YR\n",
    "    _draw_vals_conf(ax, xx, vals, label=name)\n",
    "    # handles.append(hh)\n",
    "    # labels.append(name)\n",
    "\n",
    "    # name = 'eccen'\n",
    "    # tw = ax.twinx()\n",
    "    # hh, nn = _draw_vals_conf(tw, freqs*YR, name, 'green')\n",
    "    # if hh is not None:\n",
    "    #     handles.append(hh)\n",
    "    #     labels.append(nn)\n",
    "\n",
    "    # ax.legend(handles, labels)\n",
    "    return ax"
   ]
  },
  {
   "cell_type": "code",
   "execution_count": 38,
   "id": "a09d81aa-19cf-41b8-bede-c0b9af4a0be9",
   "metadata": {
    "tags": []
   },
   "outputs": [],
   "source": [
    "class Discrete:\n",
    "    \n",
    "    def __init__(self, freqs, freqs_edges, fname=None, lbl=None, fixed_sepa=None, \n",
    "                 tau=2.0*YR, nreals=500, mod_mmbulge=False, rescale_mbulge=False):\n",
    "        self.freqs = freqs\n",
    "        self.freqs_edges = freqs_edges\n",
    "        self.lbl = lbl\n",
    "        self.fname = fname\n",
    "        self.fixed_sepa = fixed_sepa\n",
    "        self.tau = tau\n",
    "        self.nreals = nreals\n",
    "        self.mod_mmbulge = mod_mmbulge\n",
    "        \n",
    "        print(f\"\\nCreating Discrete_Pop class instance '{self.lbl}' with tau={self.tau}, fixed_sepa={self.fixed_sepa}\")\n",
    "        print(f\" fname={self.fname}\")\n",
    "        self.pop = holo.population.Pop_Illustris(fname=self.fname, fixed_sepa=self.fixed_sepa)\n",
    "\n",
    "        # apply modifiers if requested\n",
    "        if self.mod_mmbulge == True:\n",
    "            self.mmbulge = holo.relations.MMBulge_KH2013()\n",
    "            self.mod_KH2013 = holo.population.PM_Mass_Reset(self.mmbulge, scatter=True, \n",
    "                                                            rescale_mbulge=rescale_mbulge)\n",
    "            self.pop.modify(self.mod_KH2013)\n",
    "\n",
    "        # create a fixed-total-time hardening mechanism\n",
    "        print(f\"modeling fixed-total-time hardening...\")\n",
    "        self.fixed = holo.hardening.Fixed_Time_2PL.from_pop(self.pop, self.tau)\n",
    "\n",
    "        # Create an evolution instance using population and hardening mechanism\n",
    "        print(f\"creating evolution instance and evolving it...\")\n",
    "        self.evo = holo.evolution.Evolution(self.pop, self.fixed)\n",
    "        # evolve binary population\n",
    "        self.evo.evolve()\n",
    "        print(\"vol:\",self.evo._sample_volume)\n",
    "\n",
    "        ## create GWB\n",
    "        self.gwb = holo.gravwaves.GW_Discrete(self.evo, self.freqs, nreals=self.nreals)\n",
    "        self.gwb.emit()\n",
    "\n",
    "    def get_amplitudes_at_freqs(self, select_freqs=None):\n",
    "        if (select_freqs is not None):\n",
    "            print(\"sorry this function sucks, you cannot select freqs yet. choosing 1/yr, 1/3yr, 1/10yr.\")\n",
    "        \n",
    "        # ---- find frequency bins closest to 1/yr, 1/(3yr), 1/(10yr)\n",
    "        self.idx_ayr = np.where(np.abs(self.freqs-1/YR)==np.abs(self.freqs-1/YR).min())[0]\n",
    "        self.idx_a3yr = np.where(np.abs(self.freqs-1/(3*YR))==np.abs(self.freqs-1/(3*YR)).min())[0]\n",
    "        self.idx_a10yr = np.where(np.abs(self.freqs-1/(10*YR))==np.abs(self.freqs-1/(10*YR)).min())[0]\n",
    "        print(self.idx_ayr,self.idx_a3yr,self.idx_a10yr)\n",
    "\n",
    "        self.ayr = self.gwb.back[self.idx_ayr,:].flatten()\n",
    "        self.a3yr = self.gwb.back[self.idx_a3yr,:].flatten()\n",
    "        self.a10yr = self.gwb.back[self.idx_a10yr,:].flatten()\n",
    "\n",
    "\n"
   ]
  },
  {
   "cell_type": "markdown",
   "id": "c0b6d155-39bb-4c0a-8ae9-c9d073f31edd",
   "metadata": {},
   "source": [
    "Create an Illustris-Based Population, and a simple binary-evolution model"
   ]
  },
  {
   "cell_type": "code",
   "execution_count": 4,
   "id": "5fabfcfd-a57a-437e-ae9e-7ff739a01a2e",
   "metadata": {
    "tags": []
   },
   "outputs": [
    {
     "name": "stdout",
     "output_type": "stream",
     "text": [
      "40\n"
     ]
    }
   ],
   "source": [
    "# ---- Set the fixed binary lifetime\n",
    "#tau = 2.0 * GYR \n",
    "tau = 1.0 * GYR \n",
    "####################################\n",
    "\n",
    "fixed_sepa = 1.0e4 * PC\n",
    "\n",
    "# construct sampling frequencies\n",
    "freqs = holo.utils.nyquist_freqs(dur=20.0*YR, cad=0.25*YR, lgspace=True)\n",
    "freqs_edges = holo.utils.nyquist_freqs_edges(dur=20.0*YR, cad=0.25*YR, lgspace=True)\n",
    "### freqs, freq_edges = holo.librarian.get_freqs(None) ## doesn't work for Discrete_GW\n",
    "#print(freqs)\n",
    "#print(np.log10(freqs))\n",
    "print(freqs.size)\n",
    "\n",
    "colors = ['r', 'orange', 'y', 'blue', 'c', 'm', 'orchid', 'k', 'k', 'k', 'k'] #, 'c']\n",
    "lws = [3.5, 2.5, 1.5, 2.5, 1.5, 2.5, 1.0, 1.0, 1.0, 1.0]"
   ]
  },
  {
   "cell_type": "code",
   "execution_count": null,
   "id": "77c39bf5-24b6-4551-bedc-5d75674139d3",
   "metadata": {},
   "outputs": [],
   "source": []
  },
  {
   "cell_type": "code",
   "execution_count": null,
   "id": "9b567b86-6db5-41c2-b4e2-0bcd9ca1dc90",
   "metadata": {
    "tags": []
   },
   "outputs": [],
   "source": [
    "dpop_old_ill = Discrete(freqs, freqs_edges, fname=None, lbl=\"oldIll\", tau=tau, fixed_sepa=None)\n",
    "dpop_fsa_old_ill = Discrete(freqs, freqs_edges, fname=None, lbl=\"fsaOldIll\", tau=tau, \n",
    "                            fixed_sepa=fixed_sepa, mod_mmbulge=True)\n",
    "\n",
    "dpop_new_ill = Discrete(freqs, freqs_edges, lbl=\"newIll\", tau=tau, fixed_sepa=None, \n",
    "                        fname='galaxy-mergers_Illustris-1_gas-100_dm-100_star-100_bh-001.hdf5')\n",
    "dpop_fsa_new_ill = Discrete(freqs, freqs_edges, lbl=\"fsaNewIll\", tau=tau, fixed_sepa=fixed_sepa, mod_mmbulge=True,\n",
    "                            fname='galaxy-mergers_Illustris-1_gas-100_dm-100_star-100_bh-001.hdf5')\n"
   ]
  },
  {
   "cell_type": "code",
   "execution_count": 5,
   "id": "4c1c32f6-c57b-41b3-8dfd-f9c49ea4ee2e",
   "metadata": {
    "tags": []
   },
   "outputs": [
    {
     "name": "stdout",
     "output_type": "stream",
     "text": [
      "\n",
      "Creating Discrete_Pop class instance 'TNG100-1' with tau=3.15576e+16, fixed_sepa=None\n",
      " fname=galaxy-mergers_TNG100-1_gas-100_dm-100_star-100_bh-001.hdf5\n",
      "fname = /home/lblecha/nanograv/holodeck/holodeck/data/galaxy-mergers_TNG100-1_gas-100_dm-100_star-100_bh-001.hdf5\n",
      "Warning: manually adding missing factor of h^-2 in new data files.\n",
      "sample volume = 3.987492221854748e+79 [cgs] = 1357213.6324803103 [Mpc^3]; vol^(1/3) = 110.71744906997306 [Mpc]\n",
      "Read 3284 mergers from file.\n",
      "modeling fixed-total-time hardening...\n",
      "14:19:05 INFO : calculating normalization exactly [hardening.py:__init__]\n",
      "creating evolution instance and evolving it...\n",
      "vol: 3.987492221854748e+79\n"
     ]
    },
    {
     "data": {
      "application/vnd.jupyter.widget-view+json": {
       "model_id": "e2e55505f1684d84a3d25f7aa68f86eb",
       "version_major": 2,
       "version_minor": 0
      },
      "text/plain": [
       "GW frequencies:   0%|          | 0/40 [00:00<?, ?it/s]"
      ]
     },
     "metadata": {},
     "output_type": "display_data"
    },
    {
     "name": "stdout",
     "output_type": "stream",
     "text": [
      "\n",
      "Creating Discrete_Pop class instance 'fsaTNG100-1' with tau=3.15576e+16, fixed_sepa=3.0856775814913676e+22\n",
      " fname=galaxy-mergers_TNG100-1_gas-100_dm-100_star-100_bh-001.hdf5\n",
      "fname = /home/lblecha/nanograv/holodeck/holodeck/data/galaxy-mergers_TNG100-1_gas-100_dm-100_star-100_bh-001.hdf5\n",
      "Warning: manually adding missing factor of h^-2 in new data files.\n",
      "sample volume = 3.987492221854748e+79 [cgs] = 1357213.6324803103 [Mpc^3]; vol^(1/3) = 110.71744906997306 [Mpc]\n",
      "Read 3284 mergers from file.\n",
      "modeling fixed-total-time hardening...\n",
      "14:19:30 INFO : calculating normalization exactly [hardening.py:__init__]\n",
      "creating evolution instance and evolving it...\n",
      "vol: 3.987492221854748e+79\n"
     ]
    },
    {
     "data": {
      "application/vnd.jupyter.widget-view+json": {
       "model_id": "1aecaefd7b8a428e97e93e0d0f71c936",
       "version_major": 2,
       "version_minor": 0
      },
      "text/plain": [
       "GW frequencies:   0%|          | 0/40 [00:00<?, ?it/s]"
      ]
     },
     "metadata": {},
     "output_type": "display_data"
    },
    {
     "name": "stdout",
     "output_type": "stream",
     "text": [
      "\n",
      "Creating Discrete_Pop class instance 'TNG100-2' with tau=3.15576e+16, fixed_sepa=None\n",
      " fname=galaxy-mergers_TNG100-2_gas-012_dm-012_star-012_bh-001.hdf5\n",
      "fname = /home/lblecha/nanograv/holodeck/holodeck/data/galaxy-mergers_TNG100-2_gas-012_dm-012_star-012_bh-001.hdf5\n",
      "Warning: manually adding missing factor of h^-2 in new data files.\n",
      "sample volume = 3.987492221854748e+79 [cgs] = 1357213.6324803103 [Mpc^3]; vol^(1/3) = 110.71744906997306 [Mpc]\n",
      "Read 3075 mergers from file.\n",
      "modeling fixed-total-time hardening...\n",
      "14:20:12 INFO : calculating normalization exactly [hardening.py:__init__]\n",
      "creating evolution instance and evolving it...\n",
      "vol: 3.987492221854748e+79\n"
     ]
    },
    {
     "data": {
      "application/vnd.jupyter.widget-view+json": {
       "model_id": "ef0d5a755bb347f3a9e06e19e6877481",
       "version_major": 2,
       "version_minor": 0
      },
      "text/plain": [
       "GW frequencies:   0%|          | 0/40 [00:00<?, ?it/s]"
      ]
     },
     "metadata": {},
     "output_type": "display_data"
    },
    {
     "name": "stdout",
     "output_type": "stream",
     "text": [
      "\n",
      "Creating Discrete_Pop class instance 'fsaTNG100-2' with tau=3.15576e+16, fixed_sepa=3.0856775814913676e+22\n",
      " fname=galaxy-mergers_TNG100-2_gas-012_dm-012_star-012_bh-001.hdf5\n",
      "fname = /home/lblecha/nanograv/holodeck/holodeck/data/galaxy-mergers_TNG100-2_gas-012_dm-012_star-012_bh-001.hdf5\n",
      "Warning: manually adding missing factor of h^-2 in new data files.\n",
      "sample volume = 3.987492221854748e+79 [cgs] = 1357213.6324803103 [Mpc^3]; vol^(1/3) = 110.71744906997306 [Mpc]\n",
      "Read 3075 mergers from file.\n",
      "modeling fixed-total-time hardening...\n",
      "14:20:51 INFO : calculating normalization exactly [hardening.py:__init__]\n",
      "creating evolution instance and evolving it...\n",
      "vol: 3.987492221854748e+79\n"
     ]
    },
    {
     "data": {
      "application/vnd.jupyter.widget-view+json": {
       "model_id": "4239dd462ee140a3b9d4f72602c0485b",
       "version_major": 2,
       "version_minor": 0
      },
      "text/plain": [
       "GW frequencies:   0%|          | 0/40 [00:00<?, ?it/s]"
      ]
     },
     "metadata": {},
     "output_type": "display_data"
    }
   ],
   "source": [
    "#### TNG100 ####\n",
    "\n",
    "dpop_tng100_1 = Discrete(freqs, freqs_edges, lbl=\"TNG100-1\", tau=tau, fixed_sepa=None, \n",
    "                         fname='galaxy-mergers_TNG100-1_gas-100_dm-100_star-100_bh-001.hdf5')\n",
    "dpop_fsa_tng100_1 = Discrete(freqs, freqs_edges, lbl=\"fsaTNG100-1\", tau=tau, fixed_sepa=fixed_sepa, mod_mmbulge=True,\n",
    "                             fname='galaxy-mergers_TNG100-1_gas-100_dm-100_star-100_bh-001.hdf5')\n",
    "\n",
    "dpop_tng100_2 = Discrete(freqs, freqs_edges, lbl=\"TNG100-2\", tau=tau, fixed_sepa=None, \n",
    "                         fname='galaxy-mergers_TNG100-2_gas-012_dm-012_star-012_bh-001.hdf5')\n",
    "dpop_fsa_tng100_2 = Discrete(freqs, freqs_edges, lbl=\"fsaTNG100-2\", tau=tau, fixed_sepa=fixed_sepa, mod_mmbulge=True,\n",
    "                             fname='galaxy-mergers_TNG100-2_gas-012_dm-012_star-012_bh-001.hdf5')\n"
   ]
  },
  {
   "cell_type": "code",
   "execution_count": null,
   "id": "d8ce106c-22d5-4792-a5a4-22f59e6b5382",
   "metadata": {
    "tags": []
   },
   "outputs": [],
   "source": [
    "#### TNG300 ####\n",
    "\n",
    "dpop_tng300_1 = Discrete(freqs, freqs_edges, lbl=\"TNG300-1\", tau=tau, fixed_sepa=None, \n",
    "                          fname='galaxy-mergers_TNG300-1_gas-012_dm-012_star-012_bh-001.hdf5')\n",
    "dpop_fsa_tng300_1 = Discrete(freqs, freqs_edges, lbl=\"fsaTNG300-1\", tau=tau, fixed_sepa=fixed_sepa, mod_mmbulge=True,\n",
    "                             fname='galaxy-mergers_TNG300-1_gas-012_dm-012_star-012_bh-001.hdf5')\n"
   ]
  },
  {
   "cell_type": "code",
   "execution_count": null,
   "id": "b6f79db7-152b-4c29-af22-9f796a0c8ad9",
   "metadata": {
    "tags": []
   },
   "outputs": [],
   "source": [
    "rescale_dpop_fsa_tng300_1 = Discrete(freqs, freqs_edges, lbl=\"rescale_fsaTNG300-1\", tau=tau, \n",
    "                                     fixed_sepa=fixed_sepa, mod_mmbulge=True, rescale_mbulge=True,\n",
    "                                     fname='galaxy-mergers_TNG300-1_gas-012_dm-012_star-012_bh-001.hdf5')"
   ]
  },
  {
   "cell_type": "code",
   "execution_count": null,
   "id": "588c5a36-9ebc-44e6-8669-7ce0f4b2a2d0",
   "metadata": {
    "tags": []
   },
   "outputs": [],
   "source": [
    "#### TNG50 ####\n",
    "\n",
    "dpop_tng50_1 = Discrete(freqs, freqs_edges, lbl=\"TNG50-1\", tau=tau, fixed_sepa=None, \n",
    "                        fname='galaxy-mergers_TNG50-1_gas-800_dm-800_star-800_bh-001.hdf5')\n",
    "dpop_fsa_tng50_1 = Discrete(freqs, freqs_edges, lbl=\"fsaTNG50-1\", tau=tau, fixed_sepa=fixed_sepa, mod_mmbulge=True,\n",
    "                            fname='galaxy-mergers_TNG50-1_gas-800_dm-800_star-800_bh-001.hdf5')\n",
    "\n",
    "dpop_tng50_2 = Discrete(freqs, freqs_edges, lbl=\"TNG50-2\", tau=tau, fixed_sepa=None, \n",
    "                        fname='galaxy-mergers_TNG50-2_gas-100_dm-100_star-100_bh-001.hdf5')\n",
    "dpop_fsa_tng50_2 = Discrete(freqs, freqs_edges, lbl=\"fsaTNG50-2\", tau=tau, fixed_sepa=fixed_sepa, mod_mmbulge=True,\n",
    "                            fname='galaxy-mergers_TNG50-2_gas-100_dm-100_star-100_bh-001.hdf5')\n",
    "\n",
    "dpop_tng50_3 = Discrete(freqs, freqs_edges, lbl=\"TNG50-3\", tau=tau, fixed_sepa=None, \n",
    "                        fname='galaxy-mergers_TNG50-3_gas-012_dm-012_star-012_bh-001.hdf5')\n",
    "dpop_fsa_tng50_3 = Discrete(freqs, freqs_edges, lbl=\"fsaTNG50-3\", tau=tau, fixed_sepa=fixed_sepa, mod_mmbulge=True,\n",
    "                            fname='galaxy-mergers_TNG50-3_gas-012_dm-012_star-012_bh-001.hdf5')\n"
   ]
  },
  {
   "cell_type": "code",
   "execution_count": null,
   "id": "185b5515-faf2-4a1b-933b-a718cdbde3f8",
   "metadata": {
    "tags": []
   },
   "outputs": [],
   "source": [
    "all_sim_dpops = [dpop_old_ill, dpop_new_ill, dpop_tng50_1, dpop_tng50_2, \n",
    "                 dpop_tng50_3, dpop_tng100_1, dpop_tng100_2, dpop_tng300_1]\n",
    "all_fsa_dpops = [dpop_fsa_old_ill, dpop_fsa_new_ill, dpop_fsa_tng50_1, dpop_fsa_tng50_2, \n",
    "                 dpop_fsa_tng50_3, dpop_fsa_tng100_1, dpop_fsa_tng100_2, dpop_fsa_tng300_1]\n",
    "\n",
    "tng_dpops = [dpop_tng50_1, dpop_tng50_2, dpop_tng50_3, dpop_tng100_1, dpop_tng100_2, dpop_tng300_1]\n",
    "tng_fsa_dpops = [dpop_fsa_tng50_1, dpop_fsa_tng50_2, dpop_fsa_tng50_3, \n",
    "                 dpop_fsa_tng100_1, dpop_fsa_tng100_2, \n",
    "                 dpop_fsa_tng300_1, rescale_dpop_fsa_tng300_1]\n"
   ]
  },
  {
   "cell_type": "code",
   "execution_count": null,
   "id": "4aa53f80-842d-4f7d-aa16-29b9e602c2bd",
   "metadata": {
    "tags": []
   },
   "outputs": [],
   "source": [
    "### ---- rescaled TNG300-1 file (masses increased by factor of 1.4)\n",
    "#rescale_fsa_pop_tng300_1 = holo.population.Pop_Illustris(fname='galaxy-mergers_TNG300-1_gas-012_dm-012_star-012_bh-001.hdf5',\n",
    "#                                                         fixed_sepa=fixed_sepa)\n",
    "#mmbulge = holo.relations.MMBulge_KH2013()\n",
    "#print(f'min/max mbulge in fsa_pop_tng300_1: {rescale_fsa_pop_tng300_1.mbulge.min()/MSOL:.6g}, {rescale_fsa_pop_tng300_1.mbulge.max()/MSOL:.6g}')\n",
    "#mod_KH2013_rTNG300 = holo.population.PM_Mass_Reset(mmbulge, scatter=True, rescale_mbulge=True)\n",
    "#rescale_fsa_pop_tng300_1.modify(mod_KH2013_rTNG300)\n",
    "#print(\"after rescaling,\")\n",
    "#print(f'min/max mbulge in fsa_pop_tng300_1: {rescale_fsa_pop_tng300_1.mbulge.min()/MSOL:.6g}, {rescale_fsa_pop_tng300_1.mbulge.max()/MSOL:.6g}')\n"
   ]
  },
  {
   "cell_type": "code",
   "execution_count": null,
   "id": "819d5e8c-7410-4e16-9bf5-1d42ac06159b",
   "metadata": {
    "tags": []
   },
   "outputs": [],
   "source": [
    "### create a fixed-total-time hardening mechanism\n",
    "#rescale_fsa_fixed_tng300_1 = holo.hardening.Fixed_Time_2PL.from_pop(rescale_fsa_pop_tng300_1, tau)\n",
    "### Create an evolution instance using population and hardening mechanism\n",
    "#rescale_fsa_evo_tng300_1 = holo.evolution.Evolution(rescale_fsa_pop_tng300_1, rescale_fsa_fixed_tng300_1)\n",
    "### evolve binary population\n",
    "#rescale_fsa_evo_tng300_1.evolve()\n",
    "#print(\"vol:\",rescale_fsa_evo_tng300_1._sample_volume)"
   ]
  },
  {
   "cell_type": "code",
   "execution_count": null,
   "id": "6afbb3b0-3a97-4850-90a9-b0d9ead18c52",
   "metadata": {
    "tags": []
   },
   "outputs": [],
   "source": [
    "print(\"coalescing fractions:\")\n",
    "print(\"\\nsim data:\")\n",
    "\n",
    "for dpop in all_sim_dpops:\n",
    "    frac = np.where(dpop.evo.coal)[0].size / dpop.evo.sepa[:,0].size \n",
    "    print(f\"{dpop.lbl}: coalescing frac = {frac:.4g}\")\n",
    "\n",
    "print(\"\\nfixed ainit and rescaled mmbulge:\")\n",
    "for dpop in all_fsa_dpops:\n",
    "    frac = np.where(dpop.evo.coal)[0].size / dpop.evo.sepa[:,0].size \n",
    "    print(f\"{dpop.lbl}: coalescing frac = {frac:.4g}\")\n"
   ]
  },
  {
   "cell_type": "code",
   "execution_count": null,
   "id": "7250c03c-bcab-4bd3-8166-79cd6526c5f9",
   "metadata": {
    "tags": []
   },
   "outputs": [],
   "source": [
    "print(\"Number and fraction of binaries with log(Mtot)>9 and q>0.1:\\n\")\n",
    "for d in all_sim_dpops:\n",
    "    mt, mr = utils.mtmr_from_m1m2(d.pop.mass)\n",
    "    lgmt = np.log10(mt/MSOL)\n",
    "    print(f\"{d.lbl}: {lgmt[(lgmt>9)&(mr>0.1)].size}, {lgmt[(lgmt>9)&(mr>0.1)].size/lgmt.size:.4g}\")\n",
    "    #print(lgmt[lgmt>9].size/lgmt.size)\n",
    "\n",
    "##for pop in fsa_pop_list:\n",
    "##for pop in fsa_pop_list+[rescale_fsa_pop_tng300_1]:\n",
    "print('')\n",
    "for d in all_fsa_dpops:\n",
    "    mt, mr = utils.mtmr_from_m1m2(d.pop.mass)\n",
    "    lgmt = np.log10(mt/MSOL)\n",
    "    print(f\"{d.lbl}: {lgmt[(lgmt>9)&(mr>0.1)].size}, {lgmt[(lgmt>9)&(mr>0.1)].size/lgmt.size:.4g}\")\n",
    "#    #print(lgmt[lgmt>9].size, lgmt[lgmt>9].size/lgmt.size)\n",
    "#    #print(lgmt[lgmt>9].size/lgmt.size)\n",
    "\n",
    "#pop_tng300_1[pop_tng300_1.mass.sum(axis=1)\n",
    "#pop_tng300_1[pop_tng300_1.mass[:2].sum"
   ]
  },
  {
   "cell_type": "code",
   "execution_count": null,
   "id": "b0c770ea-2549-4444-9db2-6d6b87f66b81",
   "metadata": {
    "tags": []
   },
   "outputs": [],
   "source": [
    "for v in ['mass','mrat','sepa','redz']:\n",
    "    compare_bin_pops([d.pop for d in tng_dpops], colors=colors, lws=lws,\n",
    "                     labels=[d.lbl for d in tng_dpops], var=v)\n",
    "    #compare_bin_pops([d.pop for d in all_sim_dpops], colors=colors, lws=lws,\n",
    "    #                 labels=[d.lbl for d in all_sim_dpops], var=v)\n",
    "    plt.legend()\n",
    "    plt.show()"
   ]
  },
  {
   "cell_type": "code",
   "execution_count": null,
   "id": "472e72cc-5454-434b-8fb1-6ee8b0bd396e",
   "metadata": {
    "tags": []
   },
   "outputs": [],
   "source": [
    "for v in ['mass','mrat','redz']:\n",
    "    compare_bin_pops([d.pop for d in tng_fsa_dpops], colors=colors, lws=lws,\n",
    "                     labels=[d.lbl for d in tng_fsa_dpops], var=v)\n",
    "    #compare_bin_pops([d.pop for d in all_fsa_dpops], colors=colors, lws=lws,\n",
    "    #                 labels=[d.lbl for d in all_fsa_dpops], var=v)\n",
    "    plt.legend()\n",
    "    plt.show()\n"
   ]
  },
  {
   "cell_type": "code",
   "execution_count": null,
   "id": "3641bcfb-1609-4e9b-8dc9-b3e3fe821409",
   "metadata": {
    "tags": []
   },
   "outputs": [],
   "source": [
    "compare_bhmfs([d for d in tng_dpops], colors=colors, lws=lws,\n",
    "              labels=[d.lbl for d in tng_dpops])\n",
    "plt.legend()\n",
    "plt.show()"
   ]
  },
  {
   "cell_type": "code",
   "execution_count": null,
   "id": "23bbb5ac-9071-4b85-b2e2-a7221eb810de",
   "metadata": {
    "tags": []
   },
   "outputs": [],
   "source": [
    "compare_bhmfs([d for d in tng_fsa_dpops], colors=colors, lws=lws,\n",
    "              labels=[d.lbl for d in tng_fsa_dpops])\n",
    "plt.legend()\n",
    "plt.show()"
   ]
  },
  {
   "cell_type": "code",
   "execution_count": null,
   "id": "9ab0a4fd-8ba3-495b-926e-4f6632064827",
   "metadata": {
    "tags": []
   },
   "outputs": [],
   "source": []
  },
  {
   "cell_type": "code",
   "execution_count": null,
   "id": "d65a63b7-98c3-484e-bdd0-e7a19bf7359b",
   "metadata": {
    "tags": []
   },
   "outputs": [],
   "source": [
    "compare_gsmfs([d for d in tng_fsa_dpops], colors=colors, lws=lws,\n",
    "              labels=[d.lbl for d in tng_fsa_dpops])\n",
    "plt.legend()\n",
    "plt.show()"
   ]
  },
  {
   "cell_type": "code",
   "execution_count": null,
   "id": "2a91a254-17e4-4af7-918b-1410c05d5c2f",
   "metadata": {
    "tags": []
   },
   "outputs": [],
   "source": [
    "#rescale_fsa_gwb_tng300_1 = holo.gravwaves.GW_Discrete(rescale_fsa_evo_tng300_1, freqs, nreals=500)\n",
    "#rescale_fsa_gwb_tng300_1.emit()"
   ]
  },
  {
   "cell_type": "markdown",
   "id": "f6829263-bcf1-40ad-b879-11eacb44a1b7",
   "metadata": {},
   "source": [
    "### Create SAM for comparison"
   ]
  },
  {
   "cell_type": "code",
   "execution_count": 39,
   "id": "60b5dea0-7bf9-4d82-8d7e-034474369b47",
   "metadata": {
    "tags": []
   },
   "outputs": [
    {
     "name": "stdout",
     "output_type": "stream",
     "text": [
      "creating sam\n",
      "calculating hardening\n",
      "creating gwb\n",
      "15:55:57 INFO : Stalled SAM bins based on GMT: 2.95e+05/7.44e+05 = 3.96e-01 [sam.py:static_binary_density]\n",
      "15:55:57 INFO : Adding MMbulge scatter (3.4000e-01) [sam.py:static_binary_density]\n",
      "15:55:57 INFO : \tdens bef: (0.00e+00, 0.00e+00, 3.14e-61, 8.57e-04, 1.48e-02, 2.79e-02, 4.47e-02) [sam.py:static_binary_density]\n",
      "15:56:31 INFO : Scatter added after 33.826209 sec [sam.py:static_binary_density]\n",
      "15:56:31 INFO : \tdens aft: (6.70e-29, 2.54e-15, 3.78e-09, 1.03e-03, 1.50e-02, 2.80e-02, 4.26e-02) [sam.py:static_binary_density]\n",
      "15:56:31 INFO : \tmass: 8.56e-02 ==> 8.54e-02 || change = -1.7930e-03 [sam.py:static_binary_density]\n",
      "15:56:31 INFO : zeroing out 2.95e+05/7.44e+05 = 3.96e-01 systems stalled from GMT [sam.py:static_binary_density]\n"
     ]
    }
   ],
   "source": [
    "print(\"creating sam\")\n",
    "sam = holo.sam.Semi_Analytic_Model()\n",
    "print(\"calculating hardening\")\n",
    "hard = holo.hardening.Fixed_Time_2PL_SAM(sam, tau, sepa_init=1.0e4*PC)\n",
    "print(\"creating gwb\")\n",
    "#gwb_sam = sam.new_gwb(freqs_edges, hard, realize=500)    # calculate many different realizations\n",
    "gwb_sam, redz_final_sam, number_sam = sam.new_gwb(freqs_edges, hard, realize=100)"
   ]
  },
  {
   "cell_type": "code",
   "execution_count": null,
   "id": "070ce9f1-a2bd-4918-b44c-3ff6fa0bd347",
   "metadata": {
    "tags": []
   },
   "outputs": [],
   "source": [
    "import illustris_python as il\n",
    "def calc_gsmf_from_snap(basePath,snapNum):\n",
    "    subs = il.groupcat.loadSubhalos(basePath,snapNum,fields=['SubhaloLenType','SubhaloMassType',\n",
    "                                                             'SubhaloMassInHalfRadType','SubhaloMassInRadType'])\n",
    "    mstar = subs['SubhaloMassType'][:,4]*1.0e10/0.704\n",
    "    Ngas = subs['SubhaloLenType'][:,0]\n",
    "    Ndm = subs['SubhaloLenType'][:,1]\n",
    "    Nstar = subs['SubhaloLenType'][:,4]\n",
    "    Nbh = subs['SubhaloLenType'][:,5]\n",
    "    \n",
    "    mstar = mstar[(Ngas>100)&(Ndm>100)&(Nstar>100)&(Nbh>0)]\n",
    "    lgmstar = np.log10(mstar)\n",
    "    print(lgmstar.min(),lgmstar.max())\n",
    "    mstar_hist, bin_edges = np.histogram(lgmstar, bins=20)\n",
    "    binsize = bin_edges[1:] - bin_edges[:-1]\n",
    "    box_vol_mpc = 1357213.6324803103 # TNG100\n",
    "    gsmf = mstar_hist / binsize / box_vol_mpc\n",
    "    print(gsmf)\n",
    "    print(bin_edges)\n",
    "    return gsmf, bin_edges"
   ]
  },
  {
   "cell_type": "code",
   "execution_count": null,
   "id": "05a3b577-3c51-4aa3-9d3e-155a602087c2",
   "metadata": {},
   "outputs": [],
   "source": [
    "def schech_yourself(mstar, phi0, phiz, mchar, alpha0, alphaz):\n",
    "    \"\"\"\n",
    "    Before you wrech yourself.\n",
    "    \n",
    "    Still havent figured out why the values from the sam are lower than Chen et al. Units?? Sad.\n",
    "    \"\"\"\n",
    "    phi = #self._phi_func(redz)\n",
    "    mchar = #self._mchar_func(redz)\n",
    "    alpha = #self._alpha_func(redz)\n",
    "    xx = mstar / mchar\n",
    "    # [Chen2019]_ Eq.8\n",
    "    sf = np.log(10.0) * phi * np.power(xx, 1.0 + alpha) * np.exp(-xx)\n",
    "    return sf"
   ]
  },
  {
   "cell_type": "code",
   "execution_count": null,
   "id": "9b3526ab-6fd7-4bf5-a7d0-d9327e4e72b6",
   "metadata": {
    "tags": []
   },
   "outputs": [],
   "source": [
    "basePath = '/orange/lblecha/IllustrisTNG/Runs/TNG100-1/output/'\n",
    "snapNum = 99\n",
    "gsmf_snap99, bin_edges_snap99 = calc_gsmf_from_snap(basePath,snapNum)"
   ]
  },
  {
   "cell_type": "code",
   "execution_count": null,
   "id": "268840fe-7ca0-4c55-b998-b0426500af0b",
   "metadata": {
    "tags": []
   },
   "outputs": [],
   "source": [
    "#z = 5\n",
    "gsmf_snap17, bin_edges_snap17 = calc_gsmf_from_snap(basePath,17)"
   ]
  },
  {
   "cell_type": "code",
   "execution_count": null,
   "id": "aade6bd7-e019-4465-8c17-7cccb3294c47",
   "metadata": {
    "tags": []
   },
   "outputs": [],
   "source": [
    "print(sam.mtot.shape, sam.mrat.shape, hard._sepa_init, hard._norm.shape)\n",
    "mstar = sam.mass_stellar().flatten() \n",
    "print(mstar.shape)\n",
    "print(mstar.min()/MSOL, mstar.max()/MSOL)\n",
    "#sam_dadt_vals = hard.dadt(sam.mtot, sam.mrat, np.repeat(hard._sepa_init,sam.mtot.size))\n",
    "#print(\"mtot [msun]:\",sam.mtot/MSOL)\n",
    "mstar_arr = 10**np.arange(8.0,12.1,0.1) * MSOL\n",
    "print(mstar_arr.min()/MSOL, mstar_arr.max()/MSOL)\n",
    "\n",
    "gsmf_func_z0 = sam._gsmf(mstar_arr, 0.0)  \n",
    "gsmf_func_z0pt4 = sam._gsmf(mstar_arr, 0.4)\n",
    "gsmf_func_z5 = sam._gsmf(mstar_arr, 5.0) \n",
    "#print(sam._gsmf(mstar_arr, 0.0))\n",
    "print(f\"phi0={sam._gsmf._phi0}, phiz={sam._gsmf._phiz}\")\n",
    "print(f\"log10(mchar0/msun)={np.log10(sam._gsmf._mchar0/MSOL):g}, log10(mcharz/msun)={np.log10(sam._gsmf._mcharz/MSOL):g}\")\n",
    "print(f\"alpha0={sam._gsmf._alpha0}, alphaz={sam._gsmf._alphaz}\")\n",
    "plt.xscale('log')\n",
    "plt.yscale('log')\n",
    "plt.xlim(5.0e7,2.0e12)\n",
    "plt.ylim(1.0e-6,0.01)\n",
    "plt.plot(mstar_arr/MSOL, gsmf_func_z0, lw=3)\n",
    "plt.plot(mstar_arr/MSOL, gsmf_func_z0pt4, lw=3)\n",
    "plt.plot(mstar_arr/MSOL, gsmf_func_z5, lw=3)\n",
    "plt.plot(mstar/MSOL, sam._gsmf(mstar, 0.0),'.',lw=0,ms=0.1,alpha=0.2)\n",
    "plt.plot(mstar/MSOL, sam._gsmf(mstar, 5.0),'.',lw=0,ms=0.1,alpha=0.2)\n",
    "phi_check_z0 = np.power(10.0, sam._gsmf._phi0 + sam._gsmf._phiz * 0.0)\n",
    "m0_check = sam._gsmf._mchar0 / MSOL\n",
    "plt.plot([1.0e8,1.0e12], [phi_check_z0, phi_check_z0])\n",
    "plt.plot([m0_check,m0_check],[1.0e-6,1.0e-2],)"
   ]
  },
  {
   "cell_type": "code",
   "execution_count": null,
   "id": "88e09c2f-784f-4228-baba-0555434b650b",
   "metadata": {
    "tags": []
   },
   "outputs": [],
   "source": [
    "#compare_gsmfs([d for d in tng_dpops], colors=colors, lws=lws,\n",
    "#              labels=[d.lbl for d in tng_dpops])\n",
    "compare_gsmfs([d for d in [dpop_tng100_1,dpop_tng100_2]], colors=colors, lws=lws,\n",
    "              labels=[d.lbl for d in [dpop_tng100_1,dpop_tng100_2]])\n",
    "box_vol_mpc = dpop_tng100_1.evo._sample_volume / (1.0e6*PC)**3\n",
    "print(\"box_vol_mpc = \", box_vol_mpc)\n",
    "plt.plot(np.log10(mstar_arr/MSOL), gsmf_func_z0)\n",
    "plt.plot(np.log10(mstar_arr/MSOL), gsmf_func_z5)\n",
    "plt.plot(bin_edges_snap99[:-1],gsmf_snap99)\n",
    "plt.plot(bin_edges_snap17[:-1],gsmf_snap17)\n",
    "plt.legend()\n",
    "plt.show()"
   ]
  },
  {
   "cell_type": "code",
   "execution_count": 40,
   "id": "f618e39d-27b7-4383-a169-598ca46ba748",
   "metadata": {
    "tags": []
   },
   "outputs": [
    {
     "name": "stdout",
     "output_type": "stream",
     "text": [
      "(91, 81, 101)\n"
     ]
    }
   ],
   "source": [
    "print(sam._dens_gal_gal.shape)"
   ]
  },
  {
   "cell_type": "code",
   "execution_count": 44,
   "id": "29b0ee5b-faf3-4515-a6f5-be9ccd222211",
   "metadata": {
    "tags": []
   },
   "outputs": [
    {
     "name": "stdout",
     "output_type": "stream",
     "text": [
      "16:18:32 ERROR : Bad shape for `xx` (xx.shape=(91, 81), yy.shape=(91, 81, 101))! [utils.py:trapz]\n"
     ]
    },
    {
     "ename": "ValueError",
     "evalue": "Bad shape for `xx` (xx.shape=(91, 81), yy.shape=(91, 81, 101))!",
     "output_type": "error",
     "traceback": [
      "\u001b[0;31m---------------------------------------------------------------------------\u001b[0m",
      "\u001b[0;31mValueError\u001b[0m                                Traceback (most recent call last)",
      "Cell \u001b[0;32mIn[44], line 1\u001b[0m\n\u001b[0;32m----> 1\u001b[0m \u001b[43mcompare_gal_merger_rate\u001b[49m\u001b[43m(\u001b[49m\u001b[43m[\u001b[49m\u001b[43md\u001b[49m\u001b[43m \u001b[49m\u001b[38;5;28;43;01mfor\u001b[39;49;00m\u001b[43m \u001b[49m\u001b[43md\u001b[49m\u001b[43m \u001b[49m\u001b[38;5;129;43;01min\u001b[39;49;00m\u001b[43m \u001b[49m\u001b[43m[\u001b[49m\u001b[43mdpop_tng100_1\u001b[49m\u001b[43m,\u001b[49m\u001b[43mdpop_tng100_2\u001b[49m\u001b[43m]\u001b[49m\u001b[43m]\u001b[49m\u001b[43m,\u001b[49m\u001b[43msam_compare\u001b[49m\u001b[38;5;241;43m=\u001b[39;49m\u001b[43msam\u001b[49m\u001b[43m)\u001b[49m\n",
      "Cell \u001b[0;32mIn[41], line 150\u001b[0m, in \u001b[0;36mcompare_gal_merger_rate\u001b[0;34m(dpops, colors, lws, labels, sam_compare)\u001b[0m\n\u001b[1;32m    147\u001b[0m mstar_pri, mstar_sec \u001b[38;5;241m=\u001b[39m sam\u001b[38;5;241m.\u001b[39mmass_stellar()\n\u001b[1;32m    148\u001b[0m mstar_rat \u001b[38;5;241m=\u001b[39m mstar_sec \u001b[38;5;241m/\u001b[39m mstar_pri\n\u001b[0;32m--> 150\u001b[0m integ \u001b[38;5;241m=\u001b[39m \u001b[43mutils\u001b[49m\u001b[38;5;241;43m.\u001b[39;49m\u001b[43mtrapz\u001b[49m\u001b[43m(\u001b[49m\u001b[43msam\u001b[49m\u001b[38;5;241;43m.\u001b[39;49m\u001b[43m_dens_gal_gal\u001b[49m\u001b[43m,\u001b[49m\u001b[43m \u001b[49m\u001b[43mmstar_pri\u001b[49m\u001b[43m,\u001b[49m\u001b[43m \u001b[49m\u001b[43maxis\u001b[49m\u001b[38;5;241;43m=\u001b[39;49m\u001b[38;5;241;43m0\u001b[39;49m\u001b[43m,\u001b[49m\u001b[43m \u001b[49m\u001b[43mcumsum\u001b[49m\u001b[38;5;241;43m=\u001b[39;49m\u001b[38;5;28;43;01mFalse\u001b[39;49;00m\u001b[43m)\u001b[49m\n\u001b[1;32m    151\u001b[0m sam_dngalgal_dz \u001b[38;5;241m=\u001b[39m utils\u001b[38;5;241m.\u001b[39mtrapz(integ, mstar_rat, axis\u001b[38;5;241m=\u001b[39m\u001b[38;5;241m1\u001b[39m, cumsum\u001b[38;5;241m=\u001b[39m\u001b[38;5;28;01mFalse\u001b[39;00m)\n\u001b[1;32m    153\u001b[0m integ \u001b[38;5;241m=\u001b[39m utils\u001b[38;5;241m.\u001b[39mtrapz(integ, mstar_rat, axis\u001b[38;5;241m=\u001b[39m\u001b[38;5;241m1\u001b[39m, cumsum\u001b[38;5;241m=\u001b[39m\u001b[38;5;28;01mFalse\u001b[39;00m)\n",
      "File \u001b[0;32m~/nanograv/holodeck/holodeck/utils.py:1076\u001b[0m, in \u001b[0;36mtrapz\u001b[0;34m(yy, xx, axis, cumsum)\u001b[0m\n\u001b[1;32m   1074\u001b[0m     err \u001b[38;5;241m=\u001b[39m \u001b[38;5;124mf\u001b[39m\u001b[38;5;124m\"\u001b[39m\u001b[38;5;124mBad shape for `xx` (xx.shape=\u001b[39m\u001b[38;5;132;01m{\u001b[39;00mnp\u001b[38;5;241m.\u001b[39mshape(xx)\u001b[38;5;132;01m}\u001b[39;00m\u001b[38;5;124m, yy.shape=\u001b[39m\u001b[38;5;132;01m{\u001b[39;00mnp\u001b[38;5;241m.\u001b[39mshape(yy)\u001b[38;5;132;01m}\u001b[39;00m\u001b[38;5;124m)!\u001b[39m\u001b[38;5;124m\"\u001b[39m\n\u001b[1;32m   1075\u001b[0m     log\u001b[38;5;241m.\u001b[39merror(err)\n\u001b[0;32m-> 1076\u001b[0m     \u001b[38;5;28;01mraise\u001b[39;00m \u001b[38;5;167;01mValueError\u001b[39;00m(err)\n\u001b[1;32m   1077\u001b[0m ct \u001b[38;5;241m=\u001b[39m np\u001b[38;5;241m.\u001b[39mmoveaxis(yy, axis, \u001b[38;5;241m0\u001b[39m)   \u001b[38;5;66;03m# type: ignore\u001b[39;00m\n\u001b[1;32m   1078\u001b[0m ct \u001b[38;5;241m=\u001b[39m \u001b[38;5;241m0.5\u001b[39m \u001b[38;5;241m*\u001b[39m (ct[\u001b[38;5;241m1\u001b[39m:] \u001b[38;5;241m+\u001b[39m ct[:\u001b[38;5;241m-\u001b[39m\u001b[38;5;241m1\u001b[39m])\n",
      "\u001b[0;31mValueError\u001b[0m: Bad shape for `xx` (xx.shape=(91, 81), yy.shape=(91, 81, 101))!"
     ]
    },
    {
     "data": {
      "image/png": "[encoded data removed]",
      "text/plain": [
       "<Figure size 1200x300 with 3 Axes>"
      ]
     },
     "metadata": {},
     "output_type": "display_data"
    }
   ],
   "source": [
    "#ran out of time to fix this today. womp womp.\n",
    "compare_gal_merger_rate([d for d in [dpop_tng100_1,dpop_tng100_2]],sam_compare=sam)"
   ]
  },
  {
   "cell_type": "code",
   "execution_count": null,
   "id": "e9a09dc2-2294-4d96-ba9b-1b9bcad783c7",
   "metadata": {
    "tags": []
   },
   "outputs": [],
   "source": [
    "sepa_arr = np.logspace(1.0e-6*PC, hard._sepa_init, 101)\n",
    "mt, mr, sepa, norm = np.broadcast_arrays(\n",
    "            sam.mtot[:, np.newaxis, np.newaxis],\n",
    "            sam.mrat[np.newaxis, :, np.newaxis],\n",
    "            sepa_arr[np.newaxis, np.newaxis, :],\n",
    "            hard._norm[:, :, np.newaxis],\n",
    "        )\n",
    "print(mt.shape, mr.shape, sepa.shape)\n",
    "dadt_sam = hard.dadt(mt, mr, sepa, norm)\n",
    "print(dadt_sam.shape)"
   ]
  },
  {
   "cell_type": "markdown",
   "id": "9f7361dc-7059-4733-83c4-5deeba512439",
   "metadata": {},
   "source": [
    "### Plot amplitudes at 1/yr, 1/3yr, and 1/10yr"
   ]
  },
  {
   "cell_type": "code",
   "execution_count": null,
   "id": "27c7b909-d406-4b63-87ea-6efb67ac12d4",
   "metadata": {
    "tags": []
   },
   "outputs": [],
   "source": [
    "for d in all_sim_dpops + all_fsa_dpops:\n",
    "    d.get_amplitudes_at_freqs()\n",
    "\n",
    "## this is sketch. only works if freqs is same for all dpops and for sam\n",
    "ayr_sam = gwb_sam[d.idx_ayr,:].flatten()\n",
    "a3yr_sam = gwb_sam[d.idx_a3yr,:].flatten()\n",
    "a10yr_sam = gwb_sam[d.idx_a10yr,:].flatten()\n"
   ]
  },
  {
   "cell_type": "code",
   "execution_count": null,
   "id": "958c5dbd-1278-4154-972c-ea726c4f3f42",
   "metadata": {
    "tags": []
   },
   "outputs": [],
   "source": [
    "fig, ax = plt.subplots(figsize=[12, 6])\n",
    "ax.set(xlabel=r'$\\log_{10}(A_\\mathrm{yr})$', ylabel='Probability Density')\n",
    "ax.grid(alpha=0.2)\n",
    "\n",
    "kale.dist1d(np.log10(ayr_sam), density=True, hist=False, confidence=True, carpet=False, \n",
    "            lw=5, color='k', label='SAM')\n",
    "for i in np.arange(len(tng_dpops)):\n",
    "    kale.dist1d(np.log10(tng_dpops[i].ayr), density=True, hist=False, confidence=False, carpet=False, \n",
    "                label=tng_dpops[i].lbl, lw=lws[i], color=colors[i],alpha=0.5)\n",
    "    kale.dist1d(np.log10(tng_fsa_dpops[i].ayr), density=True, hist=False, confidence=False, carpet=False, \n",
    "                label=tng_fsa_dpops[i].lbl, lw=lws[i], color=colors[i],ls='--')\n",
    "\n",
    "plt.title(\"Comparison of GWB amplitudes at 1/yr\")\n",
    "plt.legend()\n",
    "fig.savefig(f'compare_dpops_tau{tau/(1e9*YR):.1f}_A1yr.png')\n",
    "plt.show()"
   ]
  },
  {
   "cell_type": "code",
   "execution_count": null,
   "id": "7e5a5bbc-8149-4417-94aa-d77cb010177e",
   "metadata": {
    "tags": []
   },
   "outputs": [],
   "source": [
    "fig, ax = plt.subplots(figsize=[12, 6])\n",
    "ax.set(xlabel=r'$\\log_{10}(A_\\mathrm{3yr})$', ylabel='Probability Density')\n",
    "ax.grid(alpha=0.2)\n",
    "\n",
    "kale.dist1d(np.log10(a3yr_sam), density=True, hist=False, confidence=True, carpet=False, \n",
    "            lw=4, color='k', label='SAM')\n",
    "for i in np.arange(len(tng_dpops)):\n",
    "    kale.dist1d(np.log10(tng_dpops[i].a3yr), density=True, hist=False, confidence=False, carpet=False, \n",
    "                label=tng_dpops[i].lbl, lw=lws[i], color=colors[i],alpha=0.5)\n",
    "    kale.dist1d(np.log10(tng_fsa_dpops[i].a3yr), density=True, hist=False, confidence=False, carpet=False, \n",
    "                label=tng_fsa_dpops[i].lbl, lw=lws[i], color=colors[i],ls='--')\n",
    "\n",
    "plt.title(\"Comparison of GWB amplitudes at 1/3yr\")\n",
    "plt.legend()\n",
    "fig.savefig(f'compare_dpops_tau{tau/(1e9*YR):.1f}_A0.33yr.png')\n",
    "plt.show()"
   ]
  },
  {
   "cell_type": "code",
   "execution_count": null,
   "id": "68bce581-d26a-4982-b907-76ee28b7f13b",
   "metadata": {
    "tags": []
   },
   "outputs": [],
   "source": [
    "fig, ax = plt.subplots(figsize=[12, 6])\n",
    "ax.set(xlabel=r'$\\log_{10}(A_\\mathrm{10yr})$', ylabel='Probability Density')\n",
    "ax.grid(alpha=0.2)\n",
    "\n",
    "kale.dist1d(np.log10(a10yr_sam), density=True, hist=False, confidence=True, carpet=False, \n",
    "            lw=4, color='k', label='SAM')\n",
    "for i in np.arange(len(tng_dpops)):    \n",
    "    kale.dist1d(np.log10(tng_dpops[i].a10yr), density=True, hist=False, confidence=False,  carpet=False, \n",
    "                label=tng_dpops[i].lbl, lw=lws[i], color=colors[i],alpha=0.5)\n",
    "    kale.dist1d(np.log10(tng_fsa_dpops[i].a10yr), density=True, hist=False, confidence=False,  carpet=False, \n",
    "                label=tng_fsa_dpops[i].lbl, lw=lws[i], color=colors[i], ls='--')\n",
    "    \n",
    "#kale.dist1d(np.log10(a10yr_fsa_new_ill), density=True, confidence=False, label='a10yr_fsa_new_ill',color='m')\n",
    "#kale.dist1d(np.log10(a10yr_sam), density=True, confidence=True, label='a10yr_sam')\n",
    "plt.title(\"Comparison of GWB amplitudes at 1/10yr\")\n",
    "plt.legend()\n",
    "fig.savefig(f'compare_dpops_tau{tau/(1e9*YR):.1f}_A0.1yr.png')\n",
    "plt.show()"
   ]
  },
  {
   "cell_type": "code",
   "execution_count": null,
   "id": "a5f9f893-82b8-44d4-ad02-cf19d9c7e422",
   "metadata": {
    "tags": []
   },
   "outputs": [],
   "source": [
    "#print(gwb_old_ill.back.shape, gwb_old_ill.fore.shape, gwb_old_ill.loudest.shape)\n",
    "##plot.plot_gwb(freqs, gwb_new_ill_nst.back)\n",
    "#print(freqs)\n",
    "#print(gwb_old_ill.back)\n",
    "for d in all_sim_dpops:\n",
    "    plot.plot_gwb(d.freqs, d.gwb.back, ylim=(5.0e-17,2.0e-14))\n",
    "    plt.title(d.lbl)\n",
    "#plot.plot_gwb(freqs, gwb_tng50_3.back, ylim=(5.0e-17,2.0e-14))\n",
    "##plot.plot_gwb(freqs, gwb_sam, ylim=(5.0e-17,2.0e-14))\n",
    "\n",
    "plt.show()"
   ]
  },
  {
   "cell_type": "code",
   "execution_count": null,
   "id": "ba098ec3-d4dc-4ab4-8a15-3165a0c10e4f",
   "metadata": {},
   "outputs": [],
   "source": [
    "sepa = np.logspace(-4.5, 5, 100) * PC\n",
    "fig, ax = plot.figax(figsize=(8,5))\n",
    "for d in tng_dpops:\n",
    "    plot_evo(d.evo, freqs=None, sepa=sepa, ax=ax)\n",
    "    plt.title(d.lbl)\n",
    "    #plot_evo(evo_tng50_3, freqs=None, sepa=sepa, ax=ax)\n",
    "plt.legend()\n",
    "plt.show()"
   ]
  },
  {
   "cell_type": "code",
   "execution_count": null,
   "id": "d1cb074f-b6d9-4bd2-bf5d-443891db0c2a",
   "metadata": {
    "tags": []
   },
   "outputs": [],
   "source": [
    "sepa = np.logspace(-4.5, 5, 100) * PC\n",
    "fig, ax = plot.figax(figsize=(8,5))\n",
    "for d in tng_fsa_dpops:\n",
    "    plot_evo(d.evo, freqs=None, sepa=sepa, ax=ax)\n",
    "    plt.title(d.lbl)\n",
    "#plt.legend()\n",
    "plt.show()"
   ]
  },
  {
   "cell_type": "code",
   "execution_count": null,
   "id": "00a0de0e-a6f4-4eeb-9a95-23c3e8ba358b",
   "metadata": {},
   "outputs": [],
   "source": []
  },
  {
   "cell_type": "code",
   "execution_count": null,
   "id": "0d852d36-69fa-4ce9-8735-03763ef4404e",
   "metadata": {
    "tags": []
   },
   "outputs": [],
   "source": [
    "# Calculate the total lifetime of each binary\n",
    "ncols = 2\n",
    "nrows = 3\n",
    "fig, axes = plot.figax(scale='lin', xlabel='Time: actual/specified', ylabel='density',figsize=(8,5),\n",
    "                       ncols=ncols, nrows=nrows, wspace=0.3,hspace=0.3)\n",
    "#times = [evo_old_ill.tlook, evo_new_ill.tlook, evo_tng100_1.tlook, evo_tng300_1.tlook, hard.tlook]\n",
    "times = [evo_tng100_1.tlook, evo_tng300_1.tlook, hard.tlook]\n",
    "\n",
    "i = 0\n",
    "for idx,ax in np.ndenumerate(axes):\n",
    "    i = idx[0]*ncols + idx[1]\n",
    "    print(f\"idx: {idx}, i: {i}\")\n",
    "    dt = times[i][:, 0] - times[i][:, -1]\n",
    "    # Create figure\n",
    "    # use kalepy to plot distribution\n",
    "    kale.dist1d(dt/tau, density=True, ax=ax, label=sim_names[i])\n",
    "    ax.legend()\n",
    "    \n",
    "plt.show()"
   ]
  },
  {
   "cell_type": "code",
   "execution_count": null,
   "id": "42807b0c-38b6-4db1-9b1b-9c402021f9c1",
   "metadata": {
    "tags": []
   },
   "outputs": [],
   "source": [
    "for d in tng_pops:\n",
    "    plot_bin_pop(d)\n",
    "plt.show()"
   ]
  },
  {
   "cell_type": "code",
   "execution_count": null,
   "id": "c28ba4fc-5327-49b8-82ba-0a68b791d932",
   "metadata": {},
   "outputs": [],
   "source": [
    "#plot_mbh_scaling_relations(fsa_pop_old_ill)\n",
    "#plot_mbh_scaling_relations(pop_new_ill)\n",
    "#plot_mbh_scaling_relations(pop_tng100_1)\n",
    "#plot_mbh_scaling_relations(pop_tng300_1)\n",
    "#plot_mbh_scaling_relations(pop_old_ill,compare_pops=[pop_new_ill,pop_tng100_1,pop_tng300_1], ncols=2, nrows=2)\n",
    "plot_mbh_scaling_relations(dpop_new_ill.pop, compare_pops=[d.pop for d in tng_fsa_dpops], \n",
    "                           ncols=4, nrows=2,\n",
    "                           xlim=(6.5,13.2), ylim=(4.5,11.1))\n",
    "plt.savefig('mmbulge_relations.png')\n",
    "plt.show()"
   ]
  },
  {
   "cell_type": "code",
   "execution_count": null,
   "id": "1537dee0-6106-4c77-94dd-16ba5a180c1b",
   "metadata": {},
   "outputs": [],
   "source": [
    "print(MSOL)"
   ]
  },
  {
   "cell_type": "code",
   "execution_count": null,
   "id": "f4250ace-c3bf-453f-8506-fb754c95bb55",
   "metadata": {},
   "outputs": [],
   "source": [
    "print(PC, YR)"
   ]
  },
  {
   "cell_type": "code",
   "execution_count": null,
   "id": "45787688-28d8-47aa-8669-a8d2f45f77b9",
   "metadata": {},
   "outputs": [],
   "source": [
    "# ---- Old Illustris file, N=100\n",
    "# Create initial population & fixed-sep population for old illustris file\n",
    "#pop_old_ill = holo.population.Pop_Illustris()\n",
    "#fsa_pop_old_ill = holo.population.Pop_Illustris(fixed_sepa=fixed_sepa)\n",
    "\n",
    "# ---- New Illustris file, N=100\n",
    "# Create initial population & fixed-sep population for new illustris file\n",
    "#pop_new_ill = holo.population.Pop_Illustris(fname='galaxy-mergers_Illustris-1_gas-100_dm-100_star-100_bh-001.hdf5')\n",
    "#fsa_pop_new_ill = holo.population.Pop_Illustris(fname='galaxy-mergers_Illustris-1_gas-100_dm-100_star-100_bh-001.hdf5',\n",
    "#                                                fixed_sepa=fixed_sepa)\n",
    "\n",
    "# ---- TNG100-1 file, N=100\n",
    "#Create initial population & fixed-sep population for new illustris file\n",
    "#pop_tng100_1 = holo.population.Pop_Illustris(fname='galaxy-mergers_TNG100-1_gas-100_dm-100_star-100_bh-001.hdf5')\n",
    "#fsa_pop_tng100_1 = holo.population.Pop_Illustris(fname='galaxy-mergers_TNG100-1_gas-100_dm-100_star-100_bh-001.hdf5',\n",
    "#                                                 fixed_sepa=fixed_sepa)\n",
    "\n",
    "# ---- TNG300-1 file, N=12\n",
    "# Create initial population & fixed-sep population for new illustris file\n",
    "#pop_tng300_1 = holo.population.Pop_Illustris(fname='galaxy-mergers_TNG300-1_gas-012_dm-012_star-012_bh-001.hdf5')\n",
    "#fsa_pop_tng300_1 = holo.population.Pop_Illustris(fname='galaxy-mergers_TNG300-1_gas-012_dm-012_star-012_bh-001.hdf5',\n",
    "#                                                 fixed_sepa=fixed_sepa)\n",
    "\n",
    "# ---- TNG50-1 file, N=800\n",
    "#pop_tng50_1 = holo.population.Pop_Illustris(fname='galaxy-mergers_TNG50-1_gas-800_dm-800_star-800_bh-001.hdf5')\n",
    "#fsa_pop_tng50_1 = holo.population.Pop_Illustris(fname='galaxy-mergers_TNG50-1_gas-800_dm-800_star-800_bh-001.hdf5',\n",
    "#                                                fixed_sepa=fixed_sepa)\n",
    "\n",
    "# ---- TNG50-2 file, N=100 (TNG50-2 res same as TNG100-1)\n",
    "#pop_tng50_2 = holo.population.Pop_Illustris(fname='galaxy-mergers_TNG50-2_gas-100_dm-100_star-100_bh-001.hdf5')\n",
    "#fsa_pop_tng50_2 = holo.population.Pop_Illustris(fname='galaxy-mergers_TNG50-2_gas-100_dm-100_star-100_bh-001.hdf5',\n",
    "#                                                fixed_sepa=fixed_sepa)\n",
    "\n",
    "# ---- TNG50-3 file, N=12 (TNG50-3 res same as TNG300-1)\n",
    "#pop_tng50_3 = holo.population.Pop_Illustris(fname='galaxy-mergers_TNG50-3_gas-012_dm-012_star-012_bh-001.hdf5')\n",
    "#fsa_pop_tng50_3 = holo.population.Pop_Illustris(fname='galaxy-mergers_TNG50-3_gas-012_dm-012_star-012_bh-001.hdf5',\n",
    "#                                                fixed_sepa=fixed_sepa)\n"
   ]
  },
  {
   "cell_type": "code",
   "execution_count": null,
   "id": "48cf710b-c2af-449b-a3ce-40e25b7818bb",
   "metadata": {},
   "outputs": [],
   "source": [
    "#mmbulge = holo.relations.MMBulge_KH2013()\n",
    "#mod_KH2013 = holo.population.PM_Mass_Reset(mmbulge, scatter=True)\n",
    "#fsa_pop_old_ill.modify(mod_KH2013)\n",
    "#fsa_pop_new_ill.modify(mod_KH2013)\n",
    "#fsa_pop_tng100_1.modify(mod_KH2013)\n",
    "#fsa_pop_tng300_1.modify(mod_KH2013)\n",
    "#fsa_pop_tng50_1.modify(mod_KH2013)\n",
    "#fsa_pop_tng50_2.modify(mod_KH2013)\n",
    "#fsa_pop_tng50_3.modify(mod_KH2013)\n"
   ]
  },
  {
   "cell_type": "code",
   "execution_count": null,
   "id": "2084b9bc-b99a-4cbe-92e9-9ba6f4c30c95",
   "metadata": {},
   "outputs": [],
   "source": [
    "## create a fixed-total-time hardening mechanism\n",
    "#fsa_fixed_old_ill = holo.hardening.Fixed_Time_2PL.from_pop(fsa_pop_old_ill, tau)\n",
    "## Create an evolution instance using population and hardening mechanism, and evolve it\n",
    "#fsa_evo_old_ill = holo.evolution.Evolution(fsa_pop_old_ill, fsa_fixed_old_ill)\n",
    "#fsa_evo_old_ill.evolve()\n",
    "#print(\"vol:\",fsa_evo_old_ill._sample_volume)\n",
    "\n",
    "## create a fixed-total-time hardening mechanism\n",
    "#fsa_fixed_new_ill = holo.hardening.Fixed_Time_2PL.from_pop(fsa_pop_new_ill, tau)\n",
    "## Create an evolution instance using population and hardening mechanism, and evolve it\n",
    "#fsa_evo_new_ill = holo.evolution.Evolution(fsa_pop_new_ill, fsa_fixed_new_ill)\n",
    "#fsa_evo_new_ill.evolve()\n",
    "#print(\"vol:\",fsa_evo_new_ill._sample_volume)\n",
    "\n",
    "## create a fixed-total-time hardening mechanism\n",
    "#fsa_fixed_tng100_1 = holo.hardening.Fixed_Time_2PL.from_pop(fsa_pop_tng100_1, tau)\n",
    "## Create an evolution instance using population and hardening mechanism\n",
    "#fsa_evo_tng100_1 = holo.evolution.Evolution(fsa_pop_tng100_1, fsa_fixed_tng100_1)\n",
    "## evolve binary population\n",
    "#fsa_evo_tng100_1.evolve()\n",
    "#print(\"vol:\",fsa_evo_tng100_1._sample_volume)\n",
    "\n",
    "## create a fixed-total-time hardening mechanism\n",
    "#fsa_fixed_tng300_1 = holo.hardening.Fixed_Time_2PL.from_pop(fsa_pop_tng300_1, tau)\n",
    "## Create an evolution instance using population and hardening mechanism\n",
    "#fsa_evo_tng300_1 = holo.evolution.Evolution(fsa_pop_tng300_1, fsa_fixed_tng300_1)\n",
    "## evolve binary population\n",
    "#fsa_evo_tng300_1.evolve()\n",
    "#print(\"vol:\",fsa_evo_tng300_1._sample_volume)\n",
    "\n",
    "## create a fixed-total-time hardening mechanism\n",
    "#fsa_fixed_tng50_1 = holo.hardening.Fixed_Time_2PL.from_pop(fsa_pop_tng50_1, tau)\n",
    "## Create an evolution instance using population and hardening mechanism\n",
    "#fsa_evo_tng50_1 = holo.evolution.Evolution(fsa_pop_tng50_1, fsa_fixed_tng50_1)\n",
    "## evolve binary population\n",
    "#fsa_evo_tng50_1.evolve()\n",
    "#print(\"vol:\",fsa_evo_tng50_1._sample_volume)\n",
    "\n",
    "## create a fixed-total-time hardening mechanism\n",
    "#fsa_fixed_tng50_2 = holo.hardening.Fixed_Time_2PL.from_pop(fsa_pop_tng50_2, tau)\n",
    "## Create an evolution instance using population and hardening mechanism\n",
    "#fsa_evo_tng50_2 = holo.evolution.Evolution(fsa_pop_tng50_2, fsa_fixed_tng50_2)\n",
    "## evolve binary population\n",
    "#fsa_evo_tng50_2.evolve()\n",
    "#print(\"vol:\",fsa_evo_tng50_2._sample_volume)\n",
    "\n",
    "## create a fixed-total-time hardening mechanism\n",
    "#fsa_fixed_tng50_3 = holo.hardening.Fixed_Time_2PL.from_pop(fsa_pop_tng50_3, tau)\n",
    "## Create an evolution instance using population and hardening mechanism\n",
    "#fsa_evo_tng50_3 = holo.evolution.Evolution(fsa_pop_tng50_3, fsa_fixed_tng50_3)\n",
    "## evolve binary population\n",
    "#fsa_evo_tng50_3.evolve()\n",
    "#print(\"vol:\",fsa_evo_tng50_3._sample_volume)\n"
   ]
  },
  {
   "cell_type": "code",
   "execution_count": null,
   "id": "aff6b4b7-fc77-40fc-a9fa-96eeb20e2246",
   "metadata": {},
   "outputs": [],
   "source": [
    "# ---- Evolve binary populations\n",
    "\n",
    "# ---- Old Illustris file\n",
    "\n",
    "# create a fixed-total-time hardening mechanism\n",
    "#fixed_old_ill = holo.hardening.Fixed_Time_2PL.from_pop(pop_old_ill, tau)\n",
    "# Create an evolution instance using population and hardening mechanism, and evolve it\n",
    "#evo_old_ill = holo.evolution.Evolution(pop_old_ill, fixed_old_ill)\n",
    "#evo_old_ill.evolve()\n",
    "#print(\"vol:\",evo_old_ill._sample_volume)\n",
    "\n",
    "\n",
    "## ---- New illustris file (no subtrees - like old file)\n",
    "\n",
    "## Create initial population for new illustris file (no subtrees - like old file)\n",
    "##pop_new_ill_nst = holo.population.Pop_Illustris(fname='nosubtrees-galaxy-mergers_Illustris-1_gas-100_dm-100_star-100_bh-001.hdf5')\n",
    "\n",
    "# Evolve new illustris (no subtrees) binary population\n",
    "# create a fixed-total-time hardening mechanism\n",
    "#fixed_new_ill_nst = holo.hardening.Fixed_Time_2PL.from_pop(pop_new_ill_nst, tau)\n",
    "# Create an evolution instance using population and hardening mechanism\n",
    "#evo_new_ill_nst = holo.evolution.Evolution(pop_new_ill_nst, fixed_new_ill_nst)\n",
    "# evolve binary population\n",
    "#evo_new_ill_nst.evolve()\n",
    "\n",
    "# ---- New Illustris file\n",
    "\n",
    "# create a fixed-total-time hardening mechanism\n",
    "#fixed_new_ill = holo.hardening.Fixed_Time_2PL.from_pop(pop_new_ill, tau)\n",
    "# Create an evolution instance using population and hardening mechanism, and evolve it\n",
    "#evo_new_ill = holo.evolution.Evolution(pop_new_ill, fixed_new_ill)\n",
    "#evo_new_ill.evolve()\n",
    "#print(\"vol:\",evo_new_ill._sample_volume)\n",
    "\n",
    "\n",
    "# ---- TNG100-1 file\n",
    "\n",
    "# create a fixed-total-time hardening mechanism\n",
    "#fixed_tng100_1 = holo.hardening.Fixed_Time_2PL.from_pop(pop_tng100_1, tau)\n",
    "# Create an evolution instance using population and hardening mechanism\n",
    "#evo_tng100_1 = holo.evolution.Evolution(pop_tng100_1, fixed_tng100_1)\n",
    "# evolve binary population\n",
    "#evo_tng100_1.evolve()\n",
    "#print(\"vol:\",evo_tng100_1._sample_volume)\n",
    "\n",
    "\n",
    "# ---- TNG300-1 file\n",
    "\n",
    "# create a fixed-total-time hardening mechanism\n",
    "#fixed_tng300_1 = holo.hardening.Fixed_Time_2PL.from_pop(pop_tng300_1, tau)\n",
    "# Create an evolution instance using population and hardening mechanism\n",
    "#evo_tng300_1 = holo.evolution.Evolution(pop_tng300_1, fixed_tng300_1)\n",
    "# evolve binary population\n",
    "#evo_tng300_1.evolve()\n",
    "#print(\"vol:\",evo_tng300_1._sample_volume)\n",
    "\n",
    "# ---- TNG50-1 file\n",
    "\n",
    "# create a fixed-total-time hardening mechanism\n",
    "#fixed_tng50_1 = holo.hardening.Fixed_Time_2PL.from_pop(pop_tng50_1, tau)\n",
    "# Create an evolution instance using population and hardening mechanism\n",
    "#evo_tng50_1 = holo.evolution.Evolution(pop_tng50_1, fixed_tng50_1)\n",
    "# evolve binary population\n",
    "#evo_tng50_1.evolve()\n",
    "#print(\"vol:\",evo_tng50_1._sample_volume)\n",
    "\n",
    "# ---- TNG50-2 file\n",
    "\n",
    "# create a fixed-total-time hardening mechanism\n",
    "#fixed_tng50_2 = holo.hardening.Fixed_Time_2PL.from_pop(pop_tng50_2, tau)\n",
    "# Create an evolution instance using population and hardening mechanism\n",
    "#evo_tng50_2 = holo.evolution.Evolution(pop_tng50_2, fixed_tng50_2)\n",
    "# evolve binary population\n",
    "#evo_tng50_2.evolve()\n",
    "#print(\"vol:\",evo_tng50_2._sample_volume)\n",
    "\n",
    "# ---- TNG50-1 file\n",
    "\n",
    "# create a fixed-total-time hardening mechanism\n",
    "#fixed_tng50_3 = holo.hardening.Fixed_Time_2PL.from_pop(pop_tng50_3, tau)\n",
    "# Create an evolution instance using population and hardening mechanism\n",
    "#evo_tng50_3 = holo.evolution.Evolution(pop_tng50_3, fixed_tng50_3)\n",
    "# evolve binary population\n",
    "#evo_tng50_3.evolve()\n",
    "#print(\"vol:\",evo_tng50_3._sample_volume)\n",
    "\n"
   ]
  },
  {
   "cell_type": "code",
   "execution_count": null,
   "id": "775bb39f-9900-4594-bd90-1a8b02460ed3",
   "metadata": {},
   "outputs": [],
   "source": [
    "# ---- Create GWB for each discrete population\n",
    "\n",
    "# old illustris file\n",
    "#gwb_old_ill = holo.gravwaves.GW_Discrete(evo_old_ill, freqs, nreals=500)\n",
    "#gwb_old_ill.emit()\n",
    "\n",
    "# new illustris file (no subtrees - like old file)\n",
    "##gwb_new_ill_nst = holo.gravwaves.GW_Discrete(evo_new_ill_nst, freqs, nreals=1000)\n",
    "##gwb_new_ill_nst.emit()\n",
    "\n",
    "## new illustris file\n",
    "#gwb_new_ill = holo.gravwaves.GW_Discrete(evo_new_ill, freqs, nreals=500)\n",
    "#gwb_new_ill.emit()\n",
    "\n",
    "## TNG100-1 file\n",
    "#gwb_tng100_1 = holo.gravwaves.GW_Discrete(evo_tng100_1, freqs, nreals=500)\n",
    "#gwb_tng100_1.emit()\n",
    "\n",
    "## TNG300-1 file\n",
    "#gwb_tng300_1 = holo.gravwaves.GW_Discrete(evo_tng300_1, freqs, nreals=500)\n",
    "#gwb_tng300_1.emit()\n",
    "\n",
    "## TNG50-1 file\n",
    "#gwb_tng50_1 = holo.gravwaves.GW_Discrete(evo_tng50_1, freqs, nreals=500)\n",
    "#gwb_tng50_1.emit()\n",
    "\n",
    "## TNG50-2 file\n",
    "#gwb_tng50_2 = holo.gravwaves.GW_Discrete(evo_tng50_2, freqs, nreals=500)\n",
    "#gwb_tng50_2.emit()\n",
    "\n",
    "## TNG50-3 file\n",
    "#gwb_tng50_3 = holo.gravwaves.GW_Discrete(evo_tng50_3, freqs, nreals=500)\n",
    "#gwb_tng50_3.emit()\n"
   ]
  },
  {
   "cell_type": "code",
   "execution_count": null,
   "id": "ee6b8c88-3ce2-45e6-91be-5b16e4691d06",
   "metadata": {},
   "outputs": [],
   "source": [
    "#fsa_gwb_old_ill = holo.gravwaves.GW_Discrete(fsa_evo_old_ill, freqs, nreals=500)\n",
    "#fsa_gwb_old_ill.emit()\n",
    "\n",
    "#fsa_gwb_new_ill = holo.gravwaves.GW_Discrete(fsa_evo_new_ill, freqs, nreals=500)\n",
    "#fsa_gwb_new_ill.emit()\n",
    "\n",
    "#fsa_gwb_tng100_1 = holo.gravwaves.GW_Discrete(fsa_evo_tng100_1, freqs, nreals=500)\n",
    "#fsa_gwb_tng100_1.emit()\n",
    "\n",
    "#fsa_gwb_tng300_1 = holo.gravwaves.GW_Discrete(fsa_evo_tng300_1, freqs, nreals=500)\n",
    "#fsa_gwb_tng300_1.emit()\n",
    "\n",
    "#fsa_gwb_tng50_1 = holo.gravwaves.GW_Discrete(fsa_evo_tng50_1, freqs, nreals=500)\n",
    "#fsa_gwb_tng50_1.emit()\n",
    "\n",
    "#fsa_gwb_tng50_2 = holo.gravwaves.GW_Discrete(fsa_evo_tng50_2, freqs, nreals=500)\n",
    "#fsa_gwb_tng50_2.emit()\n",
    "\n",
    "#fsa_gwb_tng50_3 = holo.gravwaves.GW_Discrete(fsa_evo_tng50_3, freqs, nreals=500)\n",
    "#fsa_gwb_tng50_3.emit()"
   ]
  },
  {
   "cell_type": "code",
   "execution_count": null,
   "id": "a824226e-8a7a-4984-8b93-7c5f1ea6f722",
   "metadata": {},
   "outputs": [],
   "source": [
    "\n",
    "# ---- amplitudes at ~ 1 / yr\n",
    "#ayr_old_ill = gwb_old_ill.back[idx_ayr,:].flatten()\n",
    "#ayr_new_ill = gwb_new_ill.back[idx_ayr,:].flatten()\n",
    "#ayr_tng100_1 = gwb_tng100_1.back[idx_ayr,:].flatten()\n",
    "#ayr_tng300_1 = gwb_tng300_1.back[idx_ayr,:].flatten()\n",
    "#ayr_tng50_1 = gwb_tng50_1.back[idx_ayr,:].flatten()\n",
    "#ayr_tng50_2 = gwb_tng50_2.back[idx_ayr,:].flatten()\n",
    "#ayr_tng50_3 = gwb_tng50_3.back[idx_ayr,:].flatten()\n",
    "#ayr_mod_tng300_1 = mod_gwb_tng300_1.back[idx_ayr,:].flatten()\n",
    "#ayr_sam = gwb_sam[idx_ayr,:].flatten()\n",
    "\n",
    "#ayr_fsa_old_ill = fsa_gwb_old_ill.back[idx_ayr,:].flatten()\n",
    "#ayr_fsa_new_ill = fsa_gwb_new_ill.back[idx_ayr,:].flatten()\n",
    "#ayr_fsa_tng100_1 = fsa_gwb_tng100_1.back[idx_ayr,:].flatten()\n",
    "#ayr_fsa_tng300_1 = fsa_gwb_tng300_1.back[idx_ayr,:].flatten()\n",
    "#ayr_fsa_tng50_1 = fsa_gwb_tng50_1.back[idx_ayr,:].flatten()\n",
    "#ayr_fsa_tng50_2 = fsa_gwb_tng50_2.back[idx_ayr,:].flatten()\n",
    "#ayr_fsa_tng50_3 = fsa_gwb_tng50_3.back[idx_ayr,:].flatten()\n",
    "#ayr_rescale_fsa_tng300_1 = rescale_fsa_gwb_tng300_1.back[idx_ayr,:].flatten()\n",
    "\n",
    "# ---- amplitudes at ~ 1 / 3yr\n",
    "#a3yr_old_ill = gwb_old_ill.back[idx_a3yr,:].flatten()\n",
    "#a3yr_new_ill = gwb_new_ill.back[idx_a3yr,:].flatten()\n",
    "#a3yr_tng100_1 = gwb_tng100_1.back[idx_a3yr,:].flatten()\n",
    "#a3yr_tng300_1 = gwb_tng300_1.back[idx_a3yr,:].flatten()\n",
    "#a3yr_tng50_1 = gwb_tng50_1.back[idx_a3yr,:].flatten()\n",
    "#a3yr_tng50_2 = gwb_tng50_2.back[idx_a3yr,:].flatten()\n",
    "#a3yr_tng50_3 = gwb_tng50_3.back[idx_a3yr,:].flatten()\n",
    "#a3yr_mod_tng300_1 = mod_gwb_tng300_1.back[idx_a3yr,:].flatten()\n",
    "#a3yr_sam = gwb_sam[idx_a3yr,:].flatten()\n",
    "\n",
    "#a3yr_fsa_old_ill = fsa_gwb_old_ill.back[idx_a3yr,:].flatten()\n",
    "#a3yr_fsa_new_ill = fsa_gwb_new_ill.back[idx_a3yr,:].flatten()\n",
    "#a3yr_fsa_tng100_1 = fsa_gwb_tng100_1.back[idx_a3yr,:].flatten()\n",
    "#a3yr_fsa_tng300_1 = fsa_gwb_tng300_1.back[idx_a3yr,:].flatten()\n",
    "#a3yr_fsa_tng50_1 = fsa_gwb_tng50_1.back[idx_a3yr,:].flatten()\n",
    "#a3yr_fsa_tng50_2 = fsa_gwb_tng50_2.back[idx_a3yr,:].flatten()\n",
    "#a3yr_fsa_tng50_3 = fsa_gwb_tng50_3.back[idx_a3yr,:].flatten()\n",
    "#a3yr_rescale_fsa_tng300_1 = rescale_fsa_gwb_tng300_1.back[idx_a3yr,:].flatten()\n",
    "\n",
    "# ---- amplitudes at ~ 1 / 10yr\n",
    "#a10yr_old_ill = gwb_old_ill.back[idx_a10yr,:].flatten()\n",
    "#a10yr_new_ill = gwb_new_ill.back[idx_a10yr,:].flatten()\n",
    "#a10yr_tng100_1 = gwb_tng100_1.back[idx_a10yr,:].flatten()\n",
    "#a10yr_tng300_1 = gwb_tng300_1.back[idx_a10yr,:].flatten()\n",
    "#a10yr_tng50_1 = gwb_tng50_1.back[idx_a10yr,:].flatten()\n",
    "#a10yr_tng50_2 = gwb_tng50_2.back[idx_a10yr,:].flatten()\n",
    "#a10yr_tng50_3 = gwb_tng50_3.back[idx_a10yr,:].flatten()\n",
    "#a10yr_mod_tng300_1 = mod_gwb_tng300_1.back[idx_a10yr,:].flatten()\n",
    "#a10yr_sam = gwb_sam[idx_a10yr,:].flatten()\n",
    "\n",
    "#a10yr_fsa_old_ill = fsa_gwb_old_ill.back[idx_a10yr,:].flatten()\n",
    "#a10yr_fsa_new_ill = fsa_gwb_new_ill.back[idx_a10yr,:].flatten()\n",
    "#a10yr_fsa_tng100_1 = fsa_gwb_tng100_1.back[idx_a10yr,:].flatten()\n",
    "#a10yr_fsa_tng300_1 = fsa_gwb_tng300_1.back[idx_a10yr,:].flatten()\n",
    "#a10yr_fsa_tng50_1 = fsa_gwb_tng50_1.back[idx_a10yr,:].flatten()\n",
    "#a10yr_fsa_tng50_2 = fsa_gwb_tng50_2.back[idx_a10yr,:].flatten()\n",
    "#a10yr_fsa_tng50_3 = fsa_gwb_tng50_3.back[idx_a10yr,:].flatten()\n",
    "#a10yr_rescale_fsa_tng300_1 = rescale_fsa_gwb_tng300_1.back[idx_a10yr,:].flatten()\n",
    "\n",
    "#print(ayr_old_ill.shape)"
   ]
  }
 ],
 "metadata": {
  "kernelspec": {
   "display_name": "holodeck python-3.10",
   "language": "python",
   "name": "holo310-jupy-kern"
  },
  "language_info": {
   "codemirror_mode": {
    "name": "ipython",
    "version": 3
   },
   "file_extension": ".py",
   "mimetype": "text/x-python",
   "name": "python",
   "nbconvert_exporter": "python",
   "pygments_lexer": "ipython3",
   "version": "3.10.11"
  }
 },
 "nbformat": 4,
 "nbformat_minor": 5
}
