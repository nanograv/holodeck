{
 "cells": [
  {
   "cell_type": "code",
   "execution_count": null,
   "metadata": {},
   "outputs": [],
   "source": [
    "# %load ./init.ipy\n",
    "%reload_ext autoreload\n",
    "%autoreload 2\n",
    "from importlib import reload\n",
    "\n",
    "import os\n",
    "import sys\n",
    "import logging\n",
    "import warnings\n",
    "import numpy as np\n",
    "import astropy as ap\n",
    "import scipy as sp\n",
    "import scipy.stats\n",
    "import matplotlib as mpl\n",
    "import matplotlib.pyplot as plt\n",
    "\n",
    "import h5py\n",
    "import tqdm.notebook as tqdm\n",
    "\n",
    "import kalepy as kale\n",
    "import kalepy.utils\n",
    "import kalepy.plot\n",
    "\n",
    "import holodeck as holo\n",
    "import holodeck.sam\n",
    "from holodeck import cosmo, utils, plot\n",
    "from holodeck.constants import MSOL, PC, YR, MPC, GYR\n",
    "\n",
    "# Silence annoying numpy errors\n",
    "np.seterr(divide='ignore', invalid='ignore', over='ignore')\n",
    "warnings.filterwarnings(\"ignore\", category=UserWarning)\n",
    "\n",
    "# Plotting settings\n",
    "mpl.rc('font', **{'family': 'serif', 'sans-serif': ['Times'], 'size': 15})\n",
    "mpl.rc('lines', solid_capstyle='round')\n",
    "mpl.rc('mathtext', fontset='cm')\n",
    "plt.rcParams.update({'grid.alpha': 0.5})\n",
    "mpl.style.use('default')   # avoid dark backgrounds from dark theme vscode\n",
    "\n",
    "log = holo.log\n",
    "log.setLevel(logging.INFO)"
   ]
  },
  {
   "cell_type": "markdown",
   "metadata": {},
   "source": [
    "## Plot Scaling Relation"
   ]
  },
  {
   "cell_type": "code",
   "execution_count": null,
   "metadata": {},
   "outputs": [],
   "source": [
    "mmbulge = holo.relations.MMBulge_Standard()\n",
    "\n",
    "mbulge = np.logspace(8, 13, 100) * MSOL\n",
    "\n",
    "class host:\n",
    "    pass\n",
    "\n",
    "host.mbulge = mbulge\n",
    "mbh = mmbulge.mbh_from_host(host, True)\n",
    "\n",
    "fig, ax = plot.figax()\n",
    "ax.plot(mbulge/MSOL, mbh/MSOL)\n",
    "\n",
    "plt.show()"
   ]
  },
  {
   "cell_type": "code",
   "execution_count": null,
   "metadata": {},
   "outputs": [],
   "source": [
    "relation = holo.relations.MMBulge_Redshift_MM2013(zplaw=1.0)\n",
    "NUM = 1e3\n",
    "\n",
    "class host:\n",
    "    mbulge = np.logspace(8, 13, int(NUM)) * MSOL\n",
    "    redz = 10.0 ** np.random.uniform(-2, 1, mbulge.size)\n",
    "\n",
    "mbh = relation.mbh_from_host(host, True)\n",
    "\n",
    "smap = plot.smap(host.redz, cmap='bwr', log=True)\n",
    "colors = smap.to_rgba(host.redz)\n",
    "\n",
    "fig, ax = plot.figax()\n",
    "ax.scatter(host.mbulge/MSOL, mbh/MSOL, color=colors)\n",
    "\n",
    "plt.colorbar(smap)\n",
    "\n",
    "plt.show()"
   ]
  },
  {
   "cell_type": "markdown",
   "metadata": {},
   "source": [
    "## Reset Masses of Illustris-Based Binary Population"
   ]
  },
  {
   "cell_type": "code",
   "execution_count": null,
   "metadata": {},
   "outputs": [],
   "source": [
    "pop = holo.population.Pop_Illustris()\n",
    "ill_name = os.path.basename(pop._fname).split('_')[1]\n",
    "print(\"Loaded\", pop.size, \"binaries from Illustris\", ill_name)\n",
    "\n",
    "mod_resamp = holo.population.PM_Resample(resample=2.0)\n",
    "pop.modify(mod_resamp)\n",
    "print(\"Population now has\", pop.size, \"elements\")"
   ]
  },
  {
   "cell_type": "code",
   "execution_count": null,
   "metadata": {},
   "outputs": [],
   "source": [
    "mmbulge = holo.relations.MMBulge_MM2013()\n",
    "mod_MM2013 = holo.population.PM_Mass_Reset(mmbulge, scatter=True)\n",
    "pop.modify(mod_MM2013)\n",
    "plot.plot_mbh_scaling_relations(pop)\n",
    "plt.show()"
   ]
  },
  {
   "cell_type": "markdown",
   "metadata": {},
   "source": [
    "## Redshift dependent mass evolution"
   ]
  },
  {
   "cell_type": "code",
   "execution_count": null,
   "metadata": {},
   "outputs": [],
   "source": [
    "mbulge = pop.mbulge\n",
    "redz = pop.redz[:, np.newaxis] * np.ones_like(mbulge)\n",
    "mbef = pop.mass.copy()\n",
    "\n",
    "mmbulge = holo.relations.MMBulge_Redshift_MM2013(zplaw=2.0)\n",
    "mod_MM2013 = holo.population.PM_Mass_Reset(mmbulge, scatter=True)\n",
    "pop.modify(mod_MM2013)\n",
    "maft = pop.mass.copy()\n",
    "\n",
    "\n",
    "mbulge, mbef, maft, redz = [vv.flatten() for vv in [mbulge, mbef, maft, redz]]\n",
    "cmap = plot.smap(redz, cmap='bwr', log=True)\n",
    "colors = cmap.to_rgba(redz)\n",
    "\n",
    "fig, axes = plot.figax(figsize=[8, 6], nrows=2)\n",
    "\n",
    "for ax, mval in zip(axes, [mbef, maft]):\n",
    "    ax.scatter(mbulge/MSOL, mval/MSOL, color=colors, alpha=0.1, s=10)\n",
    "\n",
    "plt.show()"
   ]
  }
 ],
 "metadata": {
  "interpreter": {
   "hash": "61b4062b24dfb1010f420dad5aa3bd73a4d2af47d0ec44eafec465a35a9d7239"
  },
  "kernelspec": {
   "display_name": "Python 3 (ipykernel)",
   "language": "python",
   "name": "python3"
  },
  "language_info": {
   "codemirror_mode": {
    "name": "ipython",
    "version": 3
   },
   "file_extension": ".py",
   "mimetype": "text/x-python",
   "name": "python",
   "nbconvert_exporter": "python",
   "pygments_lexer": "ipython3",
   "version": "3.9.12"
  },
  "toc": {
   "base_numbering": 1,
   "nav_menu": {},
   "number_sections": true,
   "sideBar": true,
   "skip_h1_title": false,
   "title_cell": "Table of Contents",
   "title_sidebar": "Contents",
   "toc_cell": false,
   "toc_position": {},
   "toc_section_display": true,
   "toc_window_display": true
  },
  "varInspector": {
   "cols": {
    "lenName": 16,
    "lenType": 16,
    "lenVar": 40
   },
   "kernels_config": {
    "python": {
     "delete_cmd_postfix": "",
     "delete_cmd_prefix": "del ",
     "library": "var_list.py",
     "varRefreshCmd": "print(var_dic_list())"
    },
    "r": {
     "delete_cmd_postfix": ") ",
     "delete_cmd_prefix": "rm(",
     "library": "var_list.r",
     "varRefreshCmd": "cat(var_dic_list()) "
    }
   },
   "types_to_exclude": [
    "module",
    "function",
    "builtin_function_or_method",
    "instance",
    "_Feature"
   ],
   "window_display": false
  }
 },
 "nbformat": 4,
 "nbformat_minor": 4
}
