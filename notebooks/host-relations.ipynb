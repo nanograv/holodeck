{
 "cells": [
  {
   "cell_type": "code",
   "execution_count": null,
   "metadata": {},
   "outputs": [],
   "source": [
    "%reload_ext autoreload\n",
    "%autoreload 2\n",
    "\n",
    "import os\n",
    "import numpy as np\n",
    "import scipy as sp\n",
    "import scipy.stats\n",
    "import matplotlib.pyplot as plt\n",
    "\n",
    "import holodeck as holo\n",
    "from holodeck import plot, host_relations\n",
    "from holodeck.discrete import population\n",
    "from holodeck.constants import MSOL\n",
    "\n",
    "log = holo.log\n",
    "log.setLevel(log.WARNING)"
   ]
  },
  {
   "attachments": {},
   "cell_type": "markdown",
   "metadata": {},
   "source": [
    "## Plot Scaling Relation"
   ]
  },
  {
   "cell_type": "code",
   "execution_count": null,
   "metadata": {},
   "outputs": [],
   "source": [
    "mmbulge = host_relations.MMBulge_Standard()\n",
    "\n",
    "mbulge = np.logspace(8, 13, 100) * MSOL\n",
    "\n",
    "class host:\n",
    "    pass\n",
    "\n",
    "host.mbulge = mbulge\n",
    "mbh = mmbulge.mbh_from_host(host, True)\n",
    "\n",
    "fig, ax = plot.figax()\n",
    "ax.plot(mbulge/MSOL, mbh/MSOL)\n",
    "\n",
    "plt.show()"
   ]
  },
  {
   "cell_type": "code",
   "execution_count": null,
   "metadata": {},
   "outputs": [],
   "source": [
    "relation = host_relations.MMBulge_Redshift_MM2013(zplaw=1.0)\n",
    "NUM = 1e3\n",
    "\n",
    "class host:\n",
    "    mbulge = np.logspace(8, 13, int(NUM)) * MSOL\n",
    "    redz = 10.0 ** np.random.uniform(-2, 1, mbulge.size)\n",
    "\n",
    "mbh = relation.mbh_from_host(host, scatter=True)\n",
    "\n",
    "smap = plot.smap(host.redz, cmap='bwr', log=True)\n",
    "colors = smap.to_rgba(host.redz)\n",
    "\n",
    "fig, ax = plot.figax()\n",
    "ax.scatter(host.mbulge/MSOL, mbh/MSOL, color=colors)\n",
    "\n",
    "plt.colorbar(smap, ax=ax)\n",
    "\n",
    "plt.show()"
   ]
  },
  {
   "cell_type": "markdown",
   "metadata": {},
   "source": [
    "## Discrete / Illustris Populations"
   ]
  },
  {
   "attachments": {},
   "cell_type": "markdown",
   "metadata": {},
   "source": [
    "### Reset Masses of Illustris-Based Binary Population"
   ]
  },
  {
   "cell_type": "code",
   "execution_count": null,
   "metadata": {},
   "outputs": [],
   "source": [
    "pop = population.Pop_Illustris()\n",
    "ill_name = os.path.basename(pop._fname).split('_')[1]\n",
    "print(\"Loaded\", pop.size, \"binaries from Illustris\", ill_name)\n",
    "\n",
    "mod_resamp = population.PM_Resample(resample=2.0)\n",
    "pop.modify(mod_resamp)\n",
    "print(\"Population now has\", pop.size, \"elements\")"
   ]
  },
  {
   "cell_type": "code",
   "execution_count": null,
   "metadata": {},
   "outputs": [],
   "source": [
    "mmbulge = host_relations.MMBulge_MM2013()\n",
    "mod_MM2013 = population.PM_Mass_Reset(mmbulge, scatter=True)\n",
    "pop.modify(mod_MM2013)\n",
    "# plot.plot_mbh_scaling_relations(pop)\n",
    "plt.show()"
   ]
  },
  {
   "attachments": {},
   "cell_type": "markdown",
   "metadata": {},
   "source": [
    "### Redshift dependent mass evolution"
   ]
  },
  {
   "cell_type": "code",
   "execution_count": null,
   "metadata": {},
   "outputs": [],
   "source": [
    "mbulge = pop.mbulge\n",
    "redz = pop.redz[:, np.newaxis] * np.ones_like(mbulge)\n",
    "mbef = pop.mass.copy()\n",
    "\n",
    "mmbulge = host_relations.MMBulge_Redshift_MM2013(zplaw=2.0)\n",
    "mod_MM2013 = population.PM_Mass_Reset(mmbulge, scatter=True)\n",
    "pop.modify(mod_MM2013)\n",
    "maft = pop.mass.copy()\n",
    "\n",
    "\n",
    "mbulge, mbef, maft, redz = [vv.flatten() for vv in [mbulge, mbef, maft, redz]]\n",
    "cmap = plot.smap(redz, cmap='bwr', log=True)\n",
    "colors = cmap.to_rgba(redz)\n",
    "\n",
    "fig, axes = plot.figax(figsize=[8, 6], nrows=2)\n",
    "\n",
    "for ax, mval in zip(axes, [mbef, maft]):\n",
    "    ax.scatter(mbulge/MSOL, mval/MSOL, color=colors, alpha=0.1, s=10)\n",
    "\n",
    "plt.show()"
   ]
  },
  {
   "cell_type": "markdown",
   "metadata": {},
   "source": [
    "## Bulge Fractions"
   ]
  },
  {
   "cell_type": "code",
   "execution_count": null,
   "metadata": {},
   "outputs": [],
   "source": [
    "bulge_frac = host_relations.BF_Sigmoid(0.3, 1.0, width_dex=1.0)\n",
    "mmbulge = host_relations.MMBulge_KH2013(bulge_frac=bulge_frac)"
   ]
  },
  {
   "cell_type": "code",
   "execution_count": null,
   "metadata": {},
   "outputs": [],
   "source": [
    "NUM = 1e5\n",
    "SCATTER = True\n",
    "bulge_frac_const = host_relations.BF_Constant(0.5)\n",
    "mmbulge_const = host_relations.MMBulge_KH2013(bulge_frac=bulge_frac_const)\n",
    "\n",
    "bulge_frac_sigma = host_relations.BF_Sigmoid(0.3, 1.0)\n",
    "mmbulge_sigma = host_relations.MMBulge_KH2013(bulge_frac=bulge_frac_sigma)\n",
    "\n",
    "extr = [8.0, 12.0]\n",
    "# mstar = np.random.uniform(8, 12, size=int(NUM))\n",
    "mstar = np.random.uniform(0.0, 1.0, size=int(NUM))\n",
    "mstar = np.power(mstar, 5.0)\n",
    "mstar = np.diff(extr) * mstar + extr[0]\n",
    "mstar = 10.0 ** mstar\n",
    "mbhs_const = mmbulge_const.mbh_from_mstar(mstar*MSOL, scatter=SCATTER)/MSOL\n",
    "mbhs_sigma = mmbulge_sigma.mbh_from_mstar(mstar*MSOL, scatter=SCATTER)/MSOL\n",
    "\n",
    "fig, ax = plot.figax(xlabel='Stellar Mass [$M_\\odot$]', ylabel='Black-Hole Mass [$M_\\odot$]')\n",
    "# ax.scatter(mstar, mbhs_const, s=2, alpha=0.5)\n",
    "# ax.scatter(mstar, mbhs_sigma, s=2, alpha=0.5)\n",
    "\n",
    "bins = np.logspace(*extr, 31)\n",
    "hist, *_ = np.histogram(mbhs_const, bins=bins)\n",
    "print(hist.shape)\n",
    "\n",
    "qq = sp.stats.norm.cdf([-2, -1, 0, +1, +2])\n",
    "bin_cents = holo.utils.midpoints(bins, log=True)\n",
    "labels = [\n",
    "    f'constant [{bulge_frac_const._bulge_mass_frac}]',\n",
    "    f'sigmoid [{bulge_frac_sigma._bulge_frac_lo:.2f}, {bulge_frac_sigma._bulge_frac_hi:.2f}]'\n",
    "]\n",
    "for jj, (mbhs, lab) in enumerate(zip([mbhs_const, mbhs_sigma], labels)):\n",
    "    conf = np.zeros((bins.size-1, 5))\n",
    "    for ii in range(bins.size-1):\n",
    "        lo = bins[ii]\n",
    "        hi = bins[ii+1]\n",
    "        sel = (lo < mstar) & (mstar < hi)\n",
    "        conf[ii, :] = np.percentile(mbhs[sel], 100 * qq)\n",
    "\n",
    "    cc, = ax.plot(bin_cents, conf[:, 2], label=lab)\n",
    "    cc = cc.get_color()\n",
    "    ax.fill_between(bin_cents, conf[:, 1], conf[:, -2], color=cc, alpha=0.25, lw=2.0)\n",
    "    ax.fill_between(bin_cents, conf[:, 0], conf[:, -1], color=cc, alpha=0.25, lw=2.0)\n",
    "\n",
    "ax.legend(title='bulge fraction')\n",
    "plt.show()"
   ]
  },
  {
   "cell_type": "code",
   "execution_count": null,
   "metadata": {},
   "outputs": [],
   "source": []
  }
 ],
 "metadata": {
  "interpreter": {
   "hash": "61b4062b24dfb1010f420dad5aa3bd73a4d2af47d0ec44eafec465a35a9d7239"
  },
  "kernelspec": {
   "display_name": "Python 3 (ipykernel)",
   "language": "python",
   "name": "python3"
  },
  "language_info": {
   "codemirror_mode": {
    "name": "ipython",
    "version": 3
   },
   "file_extension": ".py",
   "mimetype": "text/x-python",
   "name": "python",
   "nbconvert_exporter": "python",
   "pygments_lexer": "ipython3",
   "version": "3.11.7"
  },
  "toc": {
   "base_numbering": 1,
   "nav_menu": {},
   "number_sections": true,
   "sideBar": true,
   "skip_h1_title": false,
   "title_cell": "Table of Contents",
   "title_sidebar": "Contents",
   "toc_cell": false,
   "toc_position": {},
   "toc_section_display": true,
   "toc_window_display": true
  },
  "varInspector": {
   "cols": {
    "lenName": 16,
    "lenType": 16,
    "lenVar": 40
   },
   "kernels_config": {
    "python": {
     "delete_cmd_postfix": "",
     "delete_cmd_prefix": "del ",
     "library": "var_list.py",
     "varRefreshCmd": "print(var_dic_list())"
    },
    "r": {
     "delete_cmd_postfix": ") ",
     "delete_cmd_prefix": "rm(",
     "library": "var_list.r",
     "varRefreshCmd": "cat(var_dic_list()) "
    }
   },
   "types_to_exclude": [
    "module",
    "function",
    "builtin_function_or_method",
    "instance",
    "_Feature"
   ],
   "window_display": false
  }
 },
 "nbformat": 4,
 "nbformat_minor": 4
}
