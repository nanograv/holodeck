{
 "cells": [
  {
   "cell_type": "code",
   "execution_count": null,
   "id": "9055127a",
   "metadata": {},
   "outputs": [],
   "source": [
    "%reload_ext autoreload\n",
    "%autoreload 2\n",
    "\n",
    "import matplotlib as mpl\n",
    "import matplotlib.pyplot as plt\n",
    "import numpy as np\n",
    "\n",
    "import holodeck as holo\n",
    "from holodeck import utils, plot, host_relations, galaxy_profiles\n",
    "from holodeck.constants import MSOL, PC, GYR\n",
    "\n",
    "# Load log and set logging level\n",
    "log = holo.log\n",
    "log.setLevel(log.WARNING)"
   ]
  },
  {
   "attachments": {},
   "cell_type": "markdown",
   "id": "50f01731",
   "metadata": {},
   "source": [
    "# Mbh - Mbulge Relations"
   ]
  },
  {
   "cell_type": "code",
   "execution_count": null,
   "id": "5bc56d24",
   "metadata": {},
   "outputs": [],
   "source": [
    "mbulge = np.logspace(4, 12, 100)\n",
    "generic = host_relations.MMBulge_Standard(mamp=1e8*MSOL, mplaw=1.0)\n",
    "MM2013 = host_relations.MMBulge_MM2013()\n",
    "KH2013 = host_relations.MMBulge_KH2013()\n",
    "\n",
    "fig, ax = plot.figax()\n",
    "\n",
    "xx = mbulge\n",
    "yy = MM2013.mbh_from_mbulge(mbulge*MSOL, scatter=False)/MSOL\n",
    "hh, = ax.plot(xx, yy, label='MM2013 (bulge)')\n",
    "\n",
    "yy = MM2013.mbh_from_mstar(mbulge*MSOL, scatter=False)/MSOL\n",
    "ax.plot(xx, yy, label='MM2013 (stellar)', color=hh.get_color(), ls='--')\n",
    "\n",
    "yy = KH2013.mbh_from_mbulge(mbulge*MSOL, scatter=False)/MSOL\n",
    "ax.plot(xx, yy, label='KH2013')\n",
    "\n",
    "plt.legend()\n",
    "plt.show()"
   ]
  },
  {
   "cell_type": "code",
   "execution_count": null,
   "id": "bcaadf8c",
   "metadata": {},
   "outputs": [],
   "source": [
    "MM2013 = host_relations.MMBulge_MM2013()\n",
    "KH2013 = host_relations.MMBulge_KH2013()\n",
    "\n",
    "fig, ax = plot.figax()\n",
    "\n",
    "NUM = 1e2\n",
    "\n",
    "xx = 10.0**np.random.uniform(*np.log10([mbulge.min(), mbulge.max()]), int(NUM))\n",
    "yy = MM2013.mbh_from_mbulge(xx*MSOL, scatter=True)/MSOL\n",
    "ax.scatter(xx, yy, label='MM2013', alpha=0.4)\n",
    "\n",
    "xx = 10.0**np.random.uniform(*np.log10([mbulge.min(), mbulge.max()]), int(NUM))\n",
    "yy = KH2013.mbh_from_mbulge(xx*MSOL, scatter=True)/MSOL\n",
    "ax.scatter(xx, yy, label='KH2013', alpha=0.4)\n",
    "\n",
    "plt.legend()\n",
    "plt.show()"
   ]
  },
  {
   "attachments": {},
   "cell_type": "markdown",
   "id": "34273131",
   "metadata": {},
   "source": [
    "# Stellar-Mass vs. Halo-Mass Relation"
   ]
  },
  {
   "cell_type": "code",
   "execution_count": null,
   "id": "f5c1ac23",
   "metadata": {},
   "outputs": [],
   "source": [
    "mhalo = np.logspace(10, 15, 100)"
   ]
  },
  {
   "attachments": {},
   "cell_type": "markdown",
   "id": "05edbba4",
   "metadata": {},
   "source": [
    "## Guo et al. 2010"
   ]
  },
  {
   "cell_type": "code",
   "execution_count": null,
   "id": "e1bda140",
   "metadata": {},
   "outputs": [],
   "source": [
    "guo = host_relations.Guo_2010()\n",
    "mstar = guo.stellar_mass(mhalo * MSOL) / MSOL\n",
    "\n",
    "fig, ax = plt.subplots(figsize=[10, 6])\n",
    "ax.set(xscale='log', yscale='log')\n",
    "ax.grid(True)\n",
    "\n",
    "ax.plot(mhalo, mstar)\n",
    "\n",
    "plt.plot"
   ]
  },
  {
   "attachments": {},
   "cell_type": "markdown",
   "id": "9990adab",
   "metadata": {},
   "source": [
    "<b>plot from the paper:</b>\n",
    "<div>\n",
    "<img src=\"attachment:Screen%20Shot%202021-08-19%20at%2012.16.41%20PM.png\" width=\"50%\"/>\n",
    "</div>"
   ]
  },
  {
   "attachments": {},
   "cell_type": "markdown",
   "id": "df1b7deb",
   "metadata": {},
   "source": []
  },
  {
   "attachments": {},
   "cell_type": "markdown",
   "id": "3abd927e",
   "metadata": {},
   "source": [
    "## Behroozi et al. 2013"
   ]
  },
  {
   "cell_type": "code",
   "execution_count": null,
   "id": "7465468f",
   "metadata": {},
   "outputs": [],
   "source": [
    "rooz = host_relations.Behroozi_2013()"
   ]
  },
  {
   "cell_type": "code",
   "execution_count": null,
   "id": "fec64491",
   "metadata": {},
   "outputs": [],
   "source": [
    "NOTE = \"\"\"This doesn't match the paper plot well (Behroozi+2013, Fig.7, left-panel)\n",
    "but I think that's because what they plot is the mean, marginalized over parameter uncertainties,\n",
    "while this plot is using the mean values of each parameter.  Those aren't the same thing!\n",
    "\"\"\"\n",
    "print(NOTE)\n",
    "\n",
    "zlist = [0.1,] + np.arange(1, 9).tolist()\n",
    "colors = ['k', 'r', 'orange', 'yellow', 'green', 'cyan', 'dodgerblue', 'navy', 'violet']\n",
    "print(zlist)\n",
    "limits = [\n",
    "    [1e10, 1e15],   # k\n",
    "    [8e10, 6e14],   # r\n",
    "    [2e11, 1.5e14], # ora\n",
    "    [3e11, 5e13],   # yel\n",
    "    [3e11, 3e13],   # grn\n",
    "    [2e11, 8e12],   # cyan\n",
    "    [1.5e11, 4e12], # light blue\n",
    "    [1e10, 4e11],   # dark blue\n",
    "    [1.5e10, 8e10]  # violet\n",
    "]\n",
    "\n",
    "\n",
    "fig, ax = plt.subplots(figsize=[10, 8])\n",
    "ax.set(xscale='log', yscale='log')\n",
    "ax.grid(True)\n",
    "\n",
    "for zz, cc, lim in zip(zlist, colors, limits):\n",
    "    mstar = rooz.stellar_mass(mhalo * MSOL, zz) / MSOL\n",
    "    idx = (lim[0] < mhalo) & (mhalo < lim[1])\n",
    "    # idx = slice(None)\n",
    "    yy = mstar\n",
    "    # yy = mstar / mhalo\n",
    "    ax.plot(mhalo[idx], yy[idx], color=cc, lw=2.0)\n",
    "\n",
    "plt.show()\n"
   ]
  },
  {
   "attachments": {},
   "cell_type": "markdown",
   "id": "4b9f4699",
   "metadata": {},
   "source": [
    "<b>plot from the paper (Behroozi+2013, Fig.7):</b>\n",
    "<div>\n",
    "<img src=\"attachment:Screen%20Shot%202021-08-19%20at%2012.21.39%20PM.png\" width=\"100%\"/>\n",
    "</div>"
   ]
  },
  {
   "cell_type": "code",
   "execution_count": null,
   "id": "a48040ac",
   "metadata": {},
   "outputs": [],
   "source": [
    "redz = np.linspace(0.0, 6.0, 40)\n",
    "\n",
    "mstar = rooz.stellar_mass(mhalo[:, np.newaxis] * MSOL, redz[np.newaxis, :]) / MSOL"
   ]
  },
  {
   "attachments": {},
   "cell_type": "markdown",
   "id": "e2b7e934",
   "metadata": {},
   "source": [
    "### Test/Check interpolation from mstar ==> mhalo"
   ]
  },
  {
   "cell_type": "code",
   "execution_count": null,
   "id": "342e36b5",
   "metadata": {},
   "outputs": [],
   "source": [
    "rooz = host_relations.Behroozi_2013()\n",
    "\n",
    "# breaker()\n",
    "\n",
    "mhalo = rooz._mhalo_grid\n",
    "redz = rooz._redz_grid\n",
    "mstar = rooz._mstar\n",
    "\n",
    "NUM = 30\n",
    "\n",
    "fig, ax = plt.subplots(figsize=[10, 8])\n",
    "pcm = ax.pcolormesh(np.log10(mhalo/MSOL), redz, np.log10(mstar/MSOL).T)\n",
    "cbar = plt.colorbar(pcm, ax=ax)\n",
    "\n",
    "ss = MSOL * 10.0 ** np.random.uniform(5, 13, NUM)\n",
    "zz = np.random.uniform(0.0, 9.0, NUM)\n",
    "\n",
    "hh = rooz.halo_mass(ss, zz)\n",
    "\n",
    "ss = np.log10(ss/MSOL)\n",
    "hh = np.log10(hh/MSOL)\n",
    "cc = cbar.cmap(cbar.norm(ss))\n",
    "\n",
    "ax.scatter(hh, zz, c=cc, edgecolor='r', lw=1.0, s=100)\n",
    "\n",
    "\n",
    "plt.show()"
   ]
  },
  {
   "cell_type": "code",
   "execution_count": null,
   "id": "760046ba",
   "metadata": {},
   "outputs": [],
   "source": [
    "fig, axes = plot.figax(figsize=[12, 15], scale='lin', nrows=2, sharex=True, sharey=True)\n",
    "\n",
    "aa = rooz._aa\n",
    "bb = rooz._bb\n",
    "cc = rooz._cc\n",
    "print(utils.stats(cc), cc.shape)\n",
    "\n",
    "norm = mpl.colors.Normalize(cc.min(), cc.max())\n",
    "smap = mpl.cm.ScalarMappable(norm, cmap='viridis')\n",
    "colors = smap.to_rgba(cc)\n",
    "ax = axes[0]\n",
    "ax.scatter(aa, bb, c=colors)\n",
    "\n",
    "\n",
    "ax = axes[1]\n",
    "xx = np.log10(rooz._mstar_grid/MSOL)\n",
    "yy = rooz._redz_grid\n",
    "ax.pcolormesh(xx, yy, rooz._grid.T, norm=smap.norm, cmap=smap.cmap)\n",
    "\n",
    "zz = [5.01]\n",
    "mm = [11.5]\n",
    "hh = rooz._mhalo_from_mstar_redz(np.atleast_2d([mm, zz]).T)[0]\n",
    "print(f\"hh={hh:.4e}\")\n",
    "ax.scatter(mm, zz, c=smap.to_rgba(hh), edgecolor='r', lw=2.0)\n",
    "\n",
    "plt.show()"
   ]
  },
  {
   "attachments": {},
   "cell_type": "markdown",
   "id": "073c8c1c",
   "metadata": {},
   "source": [
    "## Check reversing relation for consistency"
   ]
  },
  {
   "cell_type": "code",
   "execution_count": null,
   "id": "94bd5805",
   "metadata": {},
   "outputs": [],
   "source": [
    "NUM = 1000\n",
    "behr = host_relations.Behroozi_2013()\n",
    "\n",
    "# mbh = np.random.uniform(5, 11, NUM)\n",
    "# mbh = np.linspace(5, 11, NUM)\n",
    "mbh = np.linspace(5, 10, NUM)\n",
    "mbh = MSOL * (10.0 ** mbh)\n",
    "# redz = np.random.uniform(0.0, 6.0, NUM)\n",
    "redz = np.zeros_like(mbh)\n",
    "\n",
    "mmb = host_relations.get_mmbulge_relation()\n",
    "mstar = mmb.mstar_from_mbh(mbh, scatter=False)\n",
    "print(f\"{mstar.max()/MSOL=:.4e}\")\n",
    "\n",
    "mhalo = behr.halo_mass(mstar, redz)\n",
    "print(f\"{mhalo.max()/MSOL=:.4e}\")\n",
    "\n",
    "mstar_check = behr.stellar_mass(mhalo, redz)\n",
    "mhalo_check = behr.halo_mass(mstar, redz)\n",
    "print(f\"{mstar_check.max()/MSOL=:.4e}\")\n",
    "print(f\"{mhalo_check.max()/MSOL=:.4e}\")\n",
    "\n",
    "print(f\"mstar  input: {holo.utils.stats(mstar/MSOL)}\")\n",
    "print(f\"mstar output: {holo.utils.stats(mstar_check/MSOL)}\")\n",
    "# bads = ~np.isclose(mstar, mstar_check, rtol=0.1)\n",
    "# if np.any(bads):\n",
    "#     print(f\"bad mstar input  : {mstar[bads]/MSOL}\")\n",
    "#     print(f\"bad mstar output : {mstar_check[bads]/MSOL}\")\n",
    "# assert not np.any(bads)\n",
    "\n",
    "print(f\"mhalo  input: {holo.utils.stats(mhalo/MSOL)}\")\n",
    "print(f\"mhalo output: {holo.utils.stats(mhalo_check/MSOL)}\")\n",
    "# bads = ~np.isclose(mhalo, mhalo_check, rtol=0.1)\n",
    "# if np.any(bads):\n",
    "#     print(f\"bad mhalo input  : {mhalo[bads]/MSOL}\")\n",
    "#     print(f\"bad mhalo output : {mhalo_check[bads]/MSOL}\")\n",
    "# assert not np.any(bads)"
   ]
  },
  {
   "cell_type": "code",
   "execution_count": null,
   "id": "b10d14ed",
   "metadata": {},
   "outputs": [],
   "source": [
    "fig, ax = plot.figax()\n",
    "ax.scatter(mhalo/MSOL, mstar/MSOL, color='r', marker='.', alpha=0.5)\n",
    "ax.scatter(mhalo/MSOL, mstar_check/MSOL, color='b', marker='x', alpha=0.2)\n",
    "\n",
    "plt.show()"
   ]
  },
  {
   "attachments": {},
   "cell_type": "markdown",
   "id": "54657c39",
   "metadata": {},
   "source": [
    "# Density Profiles"
   ]
  },
  {
   "attachments": {},
   "cell_type": "markdown",
   "id": "91c1caf9",
   "metadata": {},
   "source": [
    "## NFW"
   ]
  },
  {
   "cell_type": "code",
   "execution_count": null,
   "id": "f1fa7d51",
   "metadata": {},
   "outputs": [],
   "source": [
    "mstar = 1e11 * MSOL\n",
    "zz = 1.5\n",
    "\n",
    "DENS_UNITS = MSOL / PC ** 3\n",
    "\n",
    "nfw = galaxy_profiles.NFW\n",
    "smhm = host_relations.Behroozi_2013()\n",
    "mhalo = smhm.halo_mass(mstar, zz)\n",
    "\n",
    "fig, axes = plot.figax(figsize=[10, 4], ncols=2, nrows=2)\n",
    "axes = axes.flatten()\n",
    "\n",
    "# ---- Density\n",
    "ax_dens = axes[0]\n",
    "mstar_str = f\"10^{{{np.log10(mstar/MSOL):.1f}}} \\, M_\\odot\"\n",
    "mhalo_str = f\"10^{{{np.log10(mhalo/MSOL):.1f}}} \\, M_\\odot\"\n",
    "ax_dens.set_title(fr\"$M_\\star = {mstar_str}, \\, z = {zz:.2f} \\;\\;\\; \\rightarrow \\;\\;\\; M_h = {mhalo_str}$\")\n",
    "\n",
    "ax_dens.set(xlabel='Radius $[\\mathrm{pc}]$', ylabel='Density $[M_\\odot \\mathrm{\\, pc}^{-3}]$')\n",
    "ax_dens.grid(True)\n",
    "\n",
    "rscale = nfw.radius_scale(mhalo, zz)\n",
    "\n",
    "rads = np.logspace(-3, 1.5, 100) * rscale\n",
    "dens = nfw.density(rads, mhalo, zz)\n",
    "\n",
    "hh, = ax_dens.plot(rads/PC, dens/DENS_UNITS, color='k')\n",
    "ax_dens.axvline(rscale/PC, color='k', ls=':')\n",
    "\n",
    "\n",
    "# ---- Mass\n",
    "col = 'b'\n",
    "# ax_mass = ax_dens.twinx()\n",
    "ax_mass = axes[1]\n",
    "ax_mass.set(yscale='log', ylabel='Mass Enclosed $[M_\\odot]$')\n",
    "# plot.set_axis_color(ax_mass, color=col, side='right')\n",
    "\n",
    "mass = nfw.mass(rads, mhalo, zz)\n",
    "ax_mass.plot(rads/PC, mass/MSOL, ls='-', color=col)\n",
    "ax_mass.axhline(mhalo/MSOL, ls=':', color=col)\n",
    "\n",
    "\n",
    "# ---- Velocity\n",
    "col = 'r'\n",
    "# ax_velo = ax_dens.twinx()\n",
    "ax_velo = axes[2]\n",
    "VELS_UNITS = 1e5\n",
    "ax_velo.set(yscale='linear', ylabel='Velocity $[\\mathrm{km \\, s}^{-1}]$')\n",
    "# plot.set_axis_color(ax_velo, color=col, side='right')\n",
    "# plot.set_axis_pos(ax_velo, 'y', pos=1.1, side='right')\n",
    "\n",
    "velo = nfw.velocity_circular(rads, mhalo, zz)\n",
    "ax_velo.plot(rads/PC, velo/VELS_UNITS, color=col, ls='-')\n",
    "idx = np.argmax(velo)\n",
    "vmax_rad = rads[idx]\n",
    "ax_velo.axvline(vmax_rad/PC, ls=':', color=col)\n",
    "\n",
    "# ---- Dynamical Time\n",
    "col = 'g'\n",
    "# ax_time = ax_dens.twinx()\n",
    "ax_time = axes[3]\n",
    "TIME_UNITS = GYR\n",
    "ax_time.set(yscale='log', ylabel='Dynamical TIme $[\\mathrm{Gyr}]$')\n",
    "# plot.set_axis_color(ax, color=col, side='right')\n",
    "# plot.set_axis_pos(ax, 'y', pos=1.2, side='right')\n",
    "\n",
    "tdyn = nfw.time_dynamical(rads, mhalo, zz)\n",
    "ax_time.plot(rads/PC, tdyn/TIME_UNITS, color=col, ls='-')\n",
    "# idx = np.argmax(velo)\n",
    "# vmax_rad = rads[idx]\n",
    "# ax_velo.axvline(vmax_rad/PC, ls=':', color=col)\n",
    "\n",
    "# ax.legend()\n",
    "plt.show()\n"
   ]
  },
  {
   "cell_type": "code",
   "execution_count": null,
   "id": "08457bfd",
   "metadata": {},
   "outputs": [],
   "source": [
    "MTOT = 1e9 * MSOL\n",
    "MRAT = 1.0\n",
    "REDZ = 1.5\n",
    "RMAX = 1.0e4 * PC\n",
    "\n",
    "NPER_DEX = 2.3\n",
    "# NPER_DEX = 1.0\n",
    "\n",
    "print(f\"{MTOT/MSOL=:.2e}, {MRAT=:.2f}, {REDZ=:.2f}, {RMAX/PC=:.2e}\")\n",
    "\n",
    "risco = utils.rad_isco(MTOT)\n",
    "print(f\"{risco/PC=:.2e}\")\n",
    "\n",
    "rads = np.logspace(*np.log10([RMAX, risco]), 101)\n",
    "print(rads.size, rads/PC)\n",
    "\n",
    "mmbulge = host_relations.MMBulge_KH2013()\n",
    "mstar = mmbulge.mstar_from_mbh(MTOT, scatter=False)\n",
    "\n",
    "smhm = host_relations.Guo_2010()\n",
    "mhalo = smhm.halo_mass(mstar)\n",
    "# smhm = holo.host_relations.Behroozi_2013()\n",
    "# mhalo = smhm.halo_mass(mstar, REDZ)\n",
    "\n",
    "print(f\"{MTOT/MSOL=:.2e}, {mstar/MSOL=:.2e}, {mhalo/MSOL=:.2e}\")\n",
    "\n",
    "nfw = galaxy_profiles.NFW\n",
    "times = nfw.time_dynamical(rads, mhalo, REDZ)\n",
    "\n",
    "plt.loglog(rads/PC, times/GYR)\n",
    "\n",
    "print(times.sum()/GYR)\n"
   ]
  }
 ],
 "metadata": {
  "kernelspec": {
   "display_name": "Python 3.10.2 ('py310')",
   "language": "python",
   "name": "python3"
  },
  "language_info": {
   "codemirror_mode": {
    "name": "ipython",
    "version": 3
   },
   "file_extension": ".py",
   "mimetype": "text/x-python",
   "name": "python",
   "nbconvert_exporter": "python",
   "pygments_lexer": "ipython3",
   "version": "3.11.7"
  },
  "toc": {
   "base_numbering": 1,
   "nav_menu": {},
   "number_sections": true,
   "sideBar": true,
   "skip_h1_title": false,
   "title_cell": "Table of Contents",
   "title_sidebar": "Contents",
   "toc_cell": false,
   "toc_position": {},
   "toc_section_display": true,
   "toc_window_display": false
  },
  "varInspector": {
   "cols": {
    "lenName": 16,
    "lenType": 16,
    "lenVar": 40
   },
   "kernels_config": {
    "python": {
     "delete_cmd_postfix": "",
     "delete_cmd_prefix": "del ",
     "library": "var_list.py",
     "varRefreshCmd": "print(var_dic_list())"
    },
    "r": {
     "delete_cmd_postfix": ") ",
     "delete_cmd_prefix": "rm(",
     "library": "var_list.r",
     "varRefreshCmd": "cat(var_dic_list()) "
    }
   },
   "types_to_exclude": [
    "module",
    "function",
    "builtin_function_or_method",
    "instance",
    "_Feature"
   ],
   "window_display": false
  },
  "vscode": {
   "interpreter": {
    "hash": "1f0c7602c82e39efa19a01e5e068584db7a6d17aff8711ab06660aac81377393"
   }
  }
 },
 "nbformat": 4,
 "nbformat_minor": 5
}
