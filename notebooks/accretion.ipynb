{
 "cells": [
  {
   "cell_type": "code",
   "execution_count": 1,
   "metadata": {
    "scrolled": false
   },
   "outputs": [
    {
     "name": "stdout",
     "output_type": "stream",
     "text": [
      "1.2.1\n",
      "np.shape(dedt[:]) =  (2749,)\n",
      "np.shape(dedt[:]) =  (2749,)\n",
      "np.shape(dedt[:]) =  (2749,)\n"
     ]
    },
    {
     "data": {
      "application/vnd.jupyter.widget-view+json": {
       "model_id": "f0bb6aa0a4304d7ea4ad28b15c1ed8e0",
       "version_major": 2,
       "version_minor": 0
      },
      "text/plain": [
       "evolving binaries:   0%|          | 0/99 [00:00<?, ?it/s]"
      ]
     },
     "metadata": {},
     "output_type": "display_data"
    },
    {
     "name": "stderr",
     "output_type": "stream",
     "text": [
      "invalid `dadt` for hard=<holodeck.evolution.Dynamical_Friction_NFW object at 0x7ff43e3405f8>!\n"
     ]
    },
    {
     "ename": "ValueError",
     "evalue": "invalid `dadt` for hard=<holodeck.evolution.Dynamical_Friction_NFW object at 0x7ff43e3405f8>!",
     "output_type": "error",
     "traceback": [
      "\u001b[0;31m---------------------------------------------------------------------------\u001b[0m",
      "\u001b[0;31mValueError\u001b[0m                                Traceback (most recent call last)",
      "\u001b[0;32m<ipython-input-1-5baa95440cf7>\u001b[0m in \u001b[0;36m<module>\u001b[0;34m\u001b[0m\n\u001b[1;32m     74\u001b[0m \u001b[0macc_instance\u001b[0m \u001b[0;34m=\u001b[0m \u001b[0mholo\u001b[0m\u001b[0;34m.\u001b[0m\u001b[0maccretion\u001b[0m\u001b[0;34m.\u001b[0m\u001b[0mAccretion\u001b[0m\u001b[0;34m(\u001b[0m\u001b[0maccmod\u001b[0m\u001b[0;34m=\u001b[0m\u001b[0;34m'Siwek22'\u001b[0m\u001b[0;34m)\u001b[0m\u001b[0;34m\u001b[0m\u001b[0;34m\u001b[0m\u001b[0m\n\u001b[1;32m     75\u001b[0m \u001b[0mevo\u001b[0m \u001b[0;34m=\u001b[0m \u001b[0mholo\u001b[0m\u001b[0;34m.\u001b[0m\u001b[0mevolution\u001b[0m\u001b[0;34m.\u001b[0m\u001b[0mEvolution\u001b[0m\u001b[0;34m(\u001b[0m\u001b[0mpop\u001b[0m\u001b[0;34m,\u001b[0m \u001b[0mhards\u001b[0m\u001b[0;34m,\u001b[0m \u001b[0mdebug\u001b[0m\u001b[0;34m=\u001b[0m\u001b[0;32mTrue\u001b[0m\u001b[0;34m,\u001b[0m \u001b[0macc\u001b[0m\u001b[0;34m=\u001b[0m\u001b[0macc_instance\u001b[0m\u001b[0;34m)\u001b[0m\u001b[0;34m\u001b[0m\u001b[0;34m\u001b[0m\u001b[0m\n\u001b[0;32m---> 76\u001b[0;31m \u001b[0mevo\u001b[0m\u001b[0;34m.\u001b[0m\u001b[0mevolve\u001b[0m\u001b[0;34m(\u001b[0m\u001b[0;34m)\u001b[0m\u001b[0;34m\u001b[0m\u001b[0;34m\u001b[0m\u001b[0m\n\u001b[0m",
      "\u001b[0;32m~/gradschool/nanograv/holodeck/holodeck/evolution.py\u001b[0m in \u001b[0;36mevolve\u001b[0;34m(self)\u001b[0m\n\u001b[1;32m    144\u001b[0m         \u001b[0msteps_list\u001b[0m \u001b[0;34m=\u001b[0m \u001b[0mrange\u001b[0m\u001b[0;34m(\u001b[0m\u001b[0;36m1\u001b[0m\u001b[0;34m,\u001b[0m \u001b[0mnsteps\u001b[0m\u001b[0;34m)\u001b[0m\u001b[0;34m\u001b[0m\u001b[0;34m\u001b[0m\u001b[0m\n\u001b[1;32m    145\u001b[0m         \u001b[0;32mfor\u001b[0m \u001b[0mstep\u001b[0m \u001b[0;32min\u001b[0m \u001b[0mutils\u001b[0m\u001b[0;34m.\u001b[0m\u001b[0mtqdm\u001b[0m\u001b[0;34m(\u001b[0m\u001b[0msteps_list\u001b[0m\u001b[0;34m,\u001b[0m \u001b[0mdesc\u001b[0m\u001b[0;34m=\u001b[0m\u001b[0;34m\"evolving binaries\"\u001b[0m\u001b[0;34m)\u001b[0m\u001b[0;34m:\u001b[0m\u001b[0;34m\u001b[0m\u001b[0;34m\u001b[0m\u001b[0m\n\u001b[0;32m--> 146\u001b[0;31m             \u001b[0mrv\u001b[0m \u001b[0;34m=\u001b[0m \u001b[0mself\u001b[0m\u001b[0;34m.\u001b[0m\u001b[0m_take_next_step\u001b[0m\u001b[0;34m(\u001b[0m\u001b[0mstep\u001b[0m\u001b[0;34m)\u001b[0m\u001b[0;34m\u001b[0m\u001b[0;34m\u001b[0m\u001b[0m\n\u001b[0m\u001b[1;32m    147\u001b[0m             \u001b[0;32mif\u001b[0m \u001b[0mrv\u001b[0m \u001b[0;32mis\u001b[0m \u001b[0m_EVO\u001b[0m\u001b[0;34m.\u001b[0m\u001b[0mEND\u001b[0m\u001b[0;34m:\u001b[0m\u001b[0;34m\u001b[0m\u001b[0;34m\u001b[0m\u001b[0m\n\u001b[1;32m    148\u001b[0m                 \u001b[0;32mbreak\u001b[0m\u001b[0;34m\u001b[0m\u001b[0;34m\u001b[0m\u001b[0m\n",
      "\u001b[0;32m~/gradschool/nanograv/holodeck/holodeck/evolution.py\u001b[0m in \u001b[0;36m_take_next_step\u001b[0;34m(self, step)\u001b[0m\n\u001b[1;32m    246\u001b[0m                 \u001b[0;31m# Raise error on invalid entries\u001b[0m\u001b[0;34m\u001b[0m\u001b[0;34m\u001b[0m\u001b[0;34m\u001b[0m\u001b[0m\n\u001b[1;32m    247\u001b[0m                 \u001b[0;32mif\u001b[0m \u001b[0;32mnot\u001b[0m \u001b[0mnp\u001b[0m\u001b[0;34m.\u001b[0m\u001b[0mall\u001b[0m\u001b[0;34m(\u001b[0m\u001b[0mnp\u001b[0m\u001b[0;34m.\u001b[0m\u001b[0misfinite\u001b[0m\u001b[0;34m(\u001b[0m\u001b[0m_ar\u001b[0m\u001b[0;34m)\u001b[0m\u001b[0;34m)\u001b[0m \u001b[0;32mor\u001b[0m \u001b[0mnp\u001b[0m\u001b[0;34m.\u001b[0m\u001b[0many\u001b[0m\u001b[0;34m(\u001b[0m\u001b[0m_ar\u001b[0m \u001b[0;34m>\u001b[0m \u001b[0;36m0.0\u001b[0m\u001b[0;34m)\u001b[0m\u001b[0;34m:\u001b[0m\u001b[0;34m\u001b[0m\u001b[0;34m\u001b[0m\u001b[0m\n\u001b[0;32m--> 248\u001b[0;31m                     \u001b[0mutils\u001b[0m\u001b[0;34m.\u001b[0m\u001b[0merror\u001b[0m\u001b[0;34m(\u001b[0m\u001b[0;34mf\"invalid `dadt` for hard={hard}!\"\u001b[0m\u001b[0;34m)\u001b[0m\u001b[0;34m\u001b[0m\u001b[0;34m\u001b[0m\u001b[0m\n\u001b[0m\u001b[1;32m    249\u001b[0m \u001b[0;34m\u001b[0m\u001b[0m\n\u001b[1;32m    250\u001b[0m             \u001b[0mdadt_r\u001b[0m\u001b[0;34m[\u001b[0m\u001b[0;34m:\u001b[0m\u001b[0;34m]\u001b[0m \u001b[0;34m+=\u001b[0m \u001b[0m_ar\u001b[0m\u001b[0;34m\u001b[0m\u001b[0;34m\u001b[0m\u001b[0m\n",
      "\u001b[0;32m~/gradschool/nanograv/holodeck/holodeck/utils.py\u001b[0m in \u001b[0;36merror\u001b[0;34m(msg, etype)\u001b[0m\n\u001b[1;32m     44\u001b[0m \u001b[0;32mdef\u001b[0m \u001b[0merror\u001b[0m\u001b[0;34m(\u001b[0m\u001b[0mmsg\u001b[0m\u001b[0;34m,\u001b[0m \u001b[0metype\u001b[0m\u001b[0;34m=\u001b[0m\u001b[0mValueError\u001b[0m\u001b[0;34m)\u001b[0m\u001b[0;34m:\u001b[0m\u001b[0;34m\u001b[0m\u001b[0;34m\u001b[0m\u001b[0m\n\u001b[1;32m     45\u001b[0m     \u001b[0mlog\u001b[0m\u001b[0;34m.\u001b[0m\u001b[0merror\u001b[0m\u001b[0;34m(\u001b[0m\u001b[0mmsg\u001b[0m\u001b[0;34m)\u001b[0m\u001b[0;34m\u001b[0m\u001b[0;34m\u001b[0m\u001b[0m\n\u001b[0;32m---> 46\u001b[0;31m     \u001b[0;32mraise\u001b[0m \u001b[0metype\u001b[0m\u001b[0;34m(\u001b[0m\u001b[0mmsg\u001b[0m\u001b[0;34m)\u001b[0m\u001b[0;34m\u001b[0m\u001b[0;34m\u001b[0m\u001b[0m\n\u001b[0m\u001b[1;32m     47\u001b[0m \u001b[0;34m\u001b[0m\u001b[0m\n\u001b[1;32m     48\u001b[0m \u001b[0;34m\u001b[0m\u001b[0m\n",
      "\u001b[0;31mValueError\u001b[0m: invalid `dadt` for hard=<holodeck.evolution.Dynamical_Friction_NFW object at 0x7ff43e3405f8>!"
     ]
    }
   ],
   "source": [
    "# %load ./init.ipy\n",
    "%reload_ext autoreload\n",
    "%autoreload 2\n",
    "from importlib import reload\n",
    "\n",
    "import os\n",
    "import sys\n",
    "import logging\n",
    "import warnings\n",
    "import numpy as np\n",
    "import astropy as ap\n",
    "import scipy as sp\n",
    "import scipy.stats\n",
    "import matplotlib as mpl\n",
    "import matplotlib.pyplot as plt\n",
    "\n",
    "import h5py\n",
    "import tqdm.notebook as tqdm\n",
    "\n",
    "import kalepy as kale\n",
    "import kalepy.utils\n",
    "import kalepy.plot\n",
    "print(kale.__version__)\n",
    "\n",
    "import holodeck as holo\n",
    "import holodeck.sam\n",
    "from holodeck import cosmo, utils, plot\n",
    "from holodeck.constants import MSOL, PC, YR, MPC, GYR\n",
    "\n",
    "# Silence annoying numpy errors\n",
    "np.seterr(divide='ignore', invalid='ignore', over='ignore')\n",
    "warnings.filterwarnings(\"ignore\", category=UserWarning)\n",
    "\n",
    "# Plotting settings\n",
    "mpl.rc('font', **{'family': 'serif', 'sans-serif': ['Times'], 'size': 15})\n",
    "mpl.rc('lines', solid_capstyle='round')\n",
    "mpl.rc('mathtext', fontset='cm')\n",
    "plt.rcParams.update({'grid.alpha': 0.5})\n",
    "\n",
    "log = holo.log\n",
    "log.setLevel(logging.INFO)\n",
    "\n",
    "# ---- Create initial population\n",
    "\n",
    "pop = holo.population.Pop_Illustris()\n",
    "\n",
    "# ---- Apply population modifiers\n",
    "redz = cosmo.a_to_z(pop.scafa)\n",
    "\n",
    "# resample to increase the number of binaries\n",
    "#mod_resamp = holo.PM_Resample(resample=5.0)\n",
    "# modify population (in-place)\n",
    "#pop.modify(mod_resamp)\n",
    "# get eccentricity\n",
    "#mod_eccen = holo.PM_Eccentricity()\n",
    "# modify population with eccentricity\n",
    "#pop.modify(mod_eccen)\n",
    "\n",
    "redz = cosmo.a_to_z(pop.scafa)\n",
    "\n",
    "#print(pop.mass)\n",
    "\n",
    "hards = [\n",
    "    holo.evolution.Hard_GW,\n",
    "    holo.evolution.Sesana_Scattering(),\n",
    "    holo.evolution.Dynamical_Friction_NFW(),\n",
    "]\n",
    "\n",
    "\"\"\" TO DO: pass acc=acc_instance to evolution,\n",
    "    acc_instance is an instance of \n",
    "    acc_instance = accretion.Accretion(self, step)\n",
    "    which ONLY contains the prescription to calculate the preferential accretion.\n",
    "    \"\"\"\n",
    "acc_instance = holo.accretion.Accretion(accmod='Siwek22')\n",
    "evo = holo.evolution.Evolution(pop, hards, debug=True, acc=acc_instance)\n",
    "evo.evolve()"
   ]
  },
  {
   "cell_type": "code",
   "execution_count": null,
   "metadata": {
    "scrolled": false
   },
   "outputs": [],
   "source": [
    "#Take a few random numbers and plot their mass evolutions as a function of time\n",
    "import random\n",
    "fs = 20\n",
    "\n",
    "n_mbhb = evo.shape[0]\n",
    "\n",
    "n_mbhb_to_plot = 4\n",
    "inds_random_mbhb = []\n",
    "\n",
    "p = 0\n",
    "while p < n_mbhb_to_plot:\n",
    "    x = random.randint(0,n_mbhb)\n",
    "#     inds_random_mbhb.append(x)\n",
    "#     p+=1\n",
    "    inds_t_pos = evo.tlbk[x] > 0\n",
    "    if len(evo.tlbk[x][inds_t_pos]) > 5:\n",
    "        inds_random_mbhb.append(x)\n",
    "        p += 1\n",
    "\n",
    "\n",
    "fig, axs = plt.subplots(int(n_mbhb_to_plot/2),int(n_mbhb_to_plot/2),figsize=(15,15))\n",
    "fig.suptitle('Mass evolution of MBHBs', fontsize=fs)\n",
    "k = 0\n",
    "for i in range(0,int(n_mbhb_to_plot/2)):\n",
    "    for j in range(0,int(n_mbhb_to_plot/2)):\n",
    "        inds_t_pos = evo.tlbk[inds_random_mbhb[k]] > 0\n",
    "        time = (evo.tlbk[inds_random_mbhb[k]][inds_t_pos])\n",
    "        masses = (evo.mass[inds_random_mbhb[k]][inds_t_pos])\n",
    "        axs[i][j].loglog(time/GYR, masses.T[0]/MSOL, '*-', label = 'Primary')\n",
    "        axs[i][j].loglog(time/GYR, masses.T[1]/MSOL, '*-', label = 'Secondary')\n",
    "        axs[i][j].set_xlabel(\"lookback time [GYR]\", fontsize=fs)\n",
    "        axs[i][j].set_ylabel(r'$M_{\\rm{MBHB}}/M_{\\odot}$', fontsize=fs)\n",
    "        k+=1\n",
    "        axs[i][j].invert_xaxis()\n",
    "        axs[i][j].legend(fontsize=fs)\n",
    "        plt.setp(axs[i][j].get_xticklabels(which='both'), Fontsize=fs, rotation=45)\n",
    "        plt.setp(axs[i][j].get_yticklabels(which='both'), Fontsize=fs)\n",
    "        \n",
    "plt.tight_layout()\n",
    "fig.tight_layout(rect=[0, 0.03, 1, 0.95])\n"
   ]
  },
  {
   "cell_type": "code",
   "execution_count": null,
   "metadata": {
    "scrolled": false
   },
   "outputs": [],
   "source": [
    "fig, axs = plt.subplots(int(n_mbhb_to_plot/2),int(n_mbhb_to_plot/2),figsize=(15,15))\n",
    "fontsize = 20\n",
    "fig.suptitle('Accretion rates of MBHBs', fontsize=fontsize)\n",
    "\n",
    "def mdot_eddington(mass):\n",
    "    from holodeck.constants import SIGMA_T, MPRT, NWTG, MSOL, SPLC\n",
    "    #choose radiative efficiency epsilon = 0.1\n",
    "    eps = 0.1\n",
    "    medd = (4.*np.pi*NWTG*MPRT)/(eps*SPLC*SIGMA_T) * mass\n",
    "    return(medd)\n",
    "\n",
    "k = 0\n",
    "default_colors = plt.rcParams['axes.prop_cycle'].by_key()['color']\n",
    "for i in range(0,int(n_mbhb_to_plot/2)):\n",
    "    for j in range(0,int(n_mbhb_to_plot/2)):\n",
    "        inds_t_pos = evo.tlbk[inds_random_mbhb[k]] > 0\n",
    "        #print(\"evo.tlbk[inds_random_mbhb[k]][inds_t_pos] = \", evo.tlbk[inds_random_mbhb[k]][inds_t_pos])\n",
    "        time = (evo.tlbk[inds_random_mbhb[k]][inds_t_pos])\n",
    "        mdots = (evo.mdot[inds_random_mbhb[k]][inds_t_pos])\n",
    "        masses = (evo.mass[inds_random_mbhb[k]][inds_t_pos])\n",
    "        axs[i][j].loglog(time/GYR, mdots.T[0]/MSOL * GYR, '-', color = default_colors[0], label = r'$\\dot{M}_1$')\n",
    "        axs[i][j].loglog(time/GYR, mdots.T[1]/MSOL * GYR, '-', color = default_colors[1], label = r'$\\dot{M}_2$')\n",
    "        axs[i][j].loglog(time/GYR, mdot_eddington(masses.T[0])/MSOL * GYR, '--', color = default_colors[0], label = r'$\\dot{M}_{1,\\rm{Eddington}}$')\n",
    "        axs[i][j].loglog(time/GYR, mdot_eddington(masses.T[1])/MSOL * GYR, '--', color = default_colors[1], label = r'$\\dot{M}_{2,\\rm{Eddington}}$')\n",
    "        axs[i][j].set_xlabel(\"lookback time [GYR]\", fontsize=fontsize)\n",
    "        axs[i][j].set_ylabel(r'$ \\dot{M} \\, [M_{\\odot}/\\rm{GYR}]$', fontsize=fontsize)\n",
    "        k+=1\n",
    "        axs[i][j].invert_xaxis()\n",
    "        axs[i][j].legend(fontsize=fontsize)\n",
    "        plt.setp(axs[i][j].get_xticklabels(which='both'), Fontsize=fontsize, rotation=45)\n",
    "        plt.setp(axs[i][j].get_yticklabels(which='both'), Fontsize=fontsize)\n",
    "        \n",
    "plt.tight_layout()\n",
    "fig.tight_layout(rect=[0, 0.03, 1, 0.95])\n"
   ]
  },
  {
   "cell_type": "code",
   "execution_count": null,
   "metadata": {},
   "outputs": [],
   "source": []
  }
 ],
 "metadata": {
  "kernelspec": {
   "display_name": "Python 3",
   "language": "python",
   "name": "python3"
  },
  "language_info": {
   "codemirror_mode": {
    "name": "ipython",
    "version": 3
   },
   "file_extension": ".py",
   "mimetype": "text/x-python",
   "name": "python",
   "nbconvert_exporter": "python",
   "pygments_lexer": "ipython3",
   "version": "3.7.3"
  }
 },
 "nbformat": 4,
 "nbformat_minor": 5
}
