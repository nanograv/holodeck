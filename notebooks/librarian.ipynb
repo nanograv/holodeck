{
 "cells": [
  {
   "cell_type": "markdown",
   "metadata": {},
   "source": [
    "# `holodeck` - librarian\n",
    "\n",
    "Module for generating and managing simulation libraries.  Holodeck libraries are groups of simulations in which certain parameters are varied, for example parameters concerning the masses of black holes (e.g. through the M-Mbulge relationship), or parameters dictating the rate of binary evolution.  For more information, see the [holodeck getting started guide](https://holodeck-gw.readthedocs.io/en/main/getting_started/index.html), and specifically the page on [holodeck libraries](https://holodeck-gw.readthedocs.io/en/main/getting_started/libraries.html).\n",
    "\n",
    "Currently, libraries are only implemented from semi-analytic models (SAMs), which use the [`holodeck.sams.sam.Semi_Analytic_Model`](https://holodeck-gw.readthedocs.io/en/main/api_ref/holodeck.sams.html) class.  And binary evolution ('hardening') models implemented as subclasses of [`holodeck.hardening._Hardening`](https://holodeck-gw.readthedocs.io/en/main/api_ref/holodeck.hardening.html)."
   ]
  },
  {
   "cell_type": "code",
   "execution_count": null,
   "metadata": {},
   "outputs": [],
   "source": [
    "%reload_ext autoreload\n",
    "%autoreload 2\n",
    "\n",
    "from pathlib import Path\n",
    "\n",
    "import matplotlib.pyplot as plt\n",
    "import numpy as np\n",
    "\n",
    "import kalepy as kale\n",
    "\n",
    "# --- Holodeck ----\n",
    "import holodeck as holo\n",
    "import holodeck.librarian\n",
    "import holodeck.librarian.param_spaces\n",
    "from holodeck import cosmo, utils, plot\n",
    "\n",
    "log = holo.log\n",
    "log.setLevel(log.WARNING)"
   ]
  },
  {
   "cell_type": "markdown",
   "metadata": {},
   "source": [
    "## Parameter spaces – `_Param_Space` subclasses"
   ]
  },
  {
   "cell_type": "markdown",
   "metadata": {},
   "source": [
    "Holodeck libraries are build around their parameter-spaces, which are implemented as subclasses of the [`holodeck.librarian.lib_tools._Param_Space`](https://holodeck-gw.readthedocs.io/en/main/api_ref/holodeck.librarian.lib_tools.html#holodeck.librarian.lib_tools._Param_Space) base class.  These subclasses should be named with `PS_` prefixes to denote that they are parameter spaces."
   ]
  },
  {
   "cell_type": "code",
   "execution_count": null,
   "metadata": {},
   "outputs": [],
   "source": [
    "PSPACE_CLASS = holo.librarian.param_spaces_dict['PS_Test']   #: Choose which parameter-space class to use\n",
    "NSAMPLES = 10    #: Number of samples to draw\n",
    "SAM_SHAPE = (20, 21, 22)   #: Shape of the semi-analytic model grid (in the `Semi_Analytic_Model` class)"
   ]
  },
  {
   "cell_type": "code",
   "execution_count": null,
   "metadata": {},
   "outputs": [],
   "source": [
    "# construct an instance of the parameter-space class, which draws samples from the parameter space\n",
    "# using a latin hypercube\n",
    "pspace = PSPACE_CLASS(holo.log, nsamples=NSAMPLES, sam_shape=SAM_SHAPE)\n",
    "print(f\"pspace '{pspace.name}'\")\n",
    "print(f\"\\tlibrary shape={pspace.lib_shape} (samples, parameters)\")\n",
    "print(f\"\\tSAM grid shape={pspace.sam_shape}\")\n",
    "print(f\"\\tparameters ({pspace.nparameters}):\")\n",
    "for pp, dist, extr in zip(pspace.param_names, pspace._parameters, pspace.extrema):\n",
    "    print(f\"\\t\\t{pp} (distribution:{dist.__class__.__name__}): {extr}\")"
   ]
  },
  {
   "cell_type": "markdown",
   "metadata": {},
   "source": [
    "Create a corner plot showing where the samples are in each 1D and 2D slice of the parameter space."
   ]
  },
  {
   "cell_type": "code",
   "execution_count": null,
   "metadata": {},
   "outputs": [],
   "source": [
    "kale.corner(\n",
    "    pspace.param_samples.T, labels=pspace.param_names,\n",
    "    dist2d=dict(scatter=True, hist=False, contour=False),\n",
    "    dist1d=dict(carpet=True, hist=True, density=False),\n",
    ")\n",
    "plt.show()"
   ]
  },
  {
   "cell_type": "markdown",
   "metadata": {},
   "source": [
    "Build model instances (`sam` instance of `Semi_Analytic_Model` and `hard` instance of `_Hardening`)"
   ]
  },
  {
   "cell_type": "code",
   "execution_count": null,
   "metadata": {},
   "outputs": [],
   "source": [
    "# The sample parameters are stored as an array `param_samples`, which has a shape of `(S, P)` for\n",
    "# `S` random samples and `P` parameters\n",
    "SAMP = 4\n",
    "print(f\"Parameters for sample {SAMP}: {pspace.param_samples[SAMP]}\")\n",
    "# We can also obtain a dictionary of these parameters, with the parameter names as keys:\n",
    "params = pspace.param_dict(SAMP)\n",
    "for kk, vv in params.items():\n",
    "    print(f\"\\t{kk:20s}: {vv:+.2e}\")\n",
    "\n",
    "# We can load `Semi_Analytic_Model` and `_Hardening` class instances for this in two ways:\n",
    "# (1) by passing in this dictionary of parameters:\n",
    "sam, hard = pspace.model_for_params(params)\n",
    "# (2) by passing in the sample number\n",
    "sam, hard = pspace.model_for_sample_number(SAMP)"
   ]
  },
  {
   "cell_type": "markdown",
   "metadata": {},
   "source": [
    "Run the model"
   ]
  },
  {
   "cell_type": "code",
   "execution_count": null,
   "metadata": {},
   "outputs": [],
   "source": [
    "data = holo.librarian.lib_tools.run_model(sam, hard, details_flag=True)\n",
    "print(data.keys())\n",
    "data['gwb']"
   ]
  },
  {
   "attachments": {},
   "cell_type": "markdown",
   "metadata": {},
   "source": [
    "### Custom class"
   ]
  },
  {
   "cell_type": "code",
   "execution_count": null,
   "metadata": {},
   "outputs": [],
   "source": [
    "class PS_Lib_Test(holo.librarian.lib_tools._Param_Space):\n",
    "\n",
    "    DEFAULTS = {'gsmf_phi0_log10': -2.77}\n",
    "\n",
    "    def __init__(self, log, nsamples, sam_shape):\n",
    "        parameters = [\n",
    "            holo.librarian.lib_tools.PD_Normal(\"gsmf_phi0_log10\", -2.77, 0.3),\n",
    "        ]\n",
    "        super().__init__(\n",
    "            parameters,\n",
    "            log=log, nsamples=nsamples, sam_shape=sam_shape,\n",
    "        )\n",
    "        return\n",
    "\n",
    "    @classmethod\n",
    "    def _init_sam(cls, sam_shape, params):\n",
    "        gsmf = holo.sams.components.GSMF_Schechter(phi0=params['gsmf_phi0_log10'])\n",
    "        sam = holo.sams.sam.Semi_Analytic_Model(gsmf=gsmf, shape=sam_shape)\n",
    "        return sam\n",
    "\n",
    "    @classmethod\n",
    "    def _init_hard(cls, sam, params):\n",
    "        hard = holo.hardening.Hard_GW()\n",
    "        return hard\n",
    "\n",
    "test = PS_Lib_Test(log, 4, 10)\n",
    "fobs_cents, fobs_edges = utils.pta_freqs()\n",
    "sam, hard = test.model_for_sample_number(0)\n",
    "hc_ss, hc_bg = sam.gwb(fobs_edges, hard=hard, realize=20)\n",
    "plot.plot_gwb(fobs_cents, hc_bg)\n",
    "plt.show()"
   ]
  },
  {
   "attachments": {},
   "cell_type": "markdown",
   "metadata": {},
   "source": [
    "## Parameter distributions – `_Param_Dist` subclasses"
   ]
  },
  {
   "cell_type": "markdown",
   "metadata": {},
   "source": [
    "### Uniform (`PD_Uniform`)"
   ]
  },
  {
   "cell_type": "code",
   "execution_count": null,
   "metadata": {},
   "outputs": [],
   "source": [
    "test = holo.librarian.lib_tools.PD_Uniform(\"test\", -10.0, 10.0)\n",
    "assert test(0.5) == 0.0\n",
    "assert test(0.0) == -10.0\n",
    "assert test(1.0) == +10.0\n",
    "\n",
    "xx = np.linspace(0.0, 1.0, 100)\n",
    "yy = test(xx)\n",
    "plt.plot(xx, yy, 'k-')\n",
    "plt.show()"
   ]
  },
  {
   "attachments": {},
   "cell_type": "markdown",
   "metadata": {},
   "source": [
    "### Normal (`PD_Normal`)"
   ]
  },
  {
   "cell_type": "code",
   "execution_count": null,
   "metadata": {},
   "outputs": [],
   "source": [
    "test = holo.librarian.lib_tools.PD_Normal(\"test\", 0.0, 1.0)\n",
    "val = test(0.5)\n",
    "print(val)\n",
    "assert test(0.5) == 0.0\n",
    "\n",
    "xx = np.linspace(0.0, 1.0, 100)\n",
    "yy = test(xx)\n",
    "plt.plot(xx, yy, 'k-')\n",
    "plt.show()"
   ]
  },
  {
   "attachments": {},
   "cell_type": "markdown",
   "metadata": {},
   "source": [
    "### LinLog (`PD_Lin_Log`)"
   ]
  },
  {
   "cell_type": "code",
   "execution_count": null,
   "metadata": {},
   "outputs": [],
   "source": [
    "test = holo.librarian.lib_tools.PD_Lin_Log(\"test\", 0.01, 100.0, 0.1, 0.5)\n",
    "xx = np.linspace(0.0, 1.0, 10000)\n",
    "yy = test(xx)\n",
    "print(utils.minmax(yy))\n",
    "plt.loglog(xx, yy)\n",
    "ax = plt.gca()\n",
    "ax.axhline(test._crit, color='r', ls=':')\n",
    "ax.axvline(test._lofrac, color='r', ls=':')\n",
    "plt.show()"
   ]
  },
  {
   "attachments": {},
   "cell_type": "markdown",
   "metadata": {},
   "source": [
    "Change the fraction of population below/above cutoff"
   ]
  },
  {
   "cell_type": "code",
   "execution_count": null,
   "metadata": {},
   "outputs": [],
   "source": [
    "NUM = int(1e4)\n",
    "crit = 0.1\n",
    "\n",
    "BINS = 20\n",
    "e1 = np.linspace(0.01, crit, BINS, endpoint=False)\n",
    "e2 = np.logspace(*np.log10([crit, 100.0]), BINS)\n",
    "edges = np.concatenate([e1, e2])\n",
    "\n",
    "fig, ax = plot.figax(scale='log')\n",
    "for frac in [0.2, 0.5, 0.8]:\n",
    "    test = holo.librarian.lib_tools.PD_Lin_Log(\"test\", 0.01, 100.0, crit, frac)\n",
    "    xx = test(np.random.uniform(0.0, 1.0, size=NUM))\n",
    "    kale.dist1d(xx, ax=ax, edges=edges, density=True, probability=False)\n",
    "    obs_frac = np.count_nonzero(xx < crit) / xx.size\n",
    "    print(f\"target:{frac:.2f}, result:{obs_frac:.4f}\", 1.0/np.sqrt(NUM))\n",
    "    assert np.isclose(frac, obs_frac, atol=2.0/np.sqrt(NUM))\n",
    "\n",
    "plt.show()"
   ]
  },
  {
   "attachments": {},
   "cell_type": "markdown",
   "metadata": {},
   "source": [
    "Change the location of the cutoff"
   ]
  },
  {
   "cell_type": "code",
   "execution_count": null,
   "metadata": {},
   "outputs": [],
   "source": [
    "NUM = int(1e4)\n",
    "frac = 0.5\n",
    "\n",
    "BINS = 20\n",
    "edges = np.logspace(*np.log10([0.01, 100.0]), 2*BINS)\n",
    "\n",
    "fig, ax = plot.figax(scale='log')\n",
    "for crit in [0.1, 1.0, 10.0]:\n",
    "    test = holo.librarian.lib_tools.PD_Lin_Log(\"test\", 0.01, 100.0, crit, frac)\n",
    "    xx = test(np.random.uniform(0.0, 1.0, size=NUM))\n",
    "    kale.dist1d(xx, ax=ax, edges=edges, density=True, probability=False)\n",
    "    obs_frac = np.count_nonzero(xx < crit) / xx.size\n",
    "    print(f\"target:{frac:.2f}, result:{obs_frac:.4f}\", 1.0/np.sqrt(NUM))\n",
    "    assert np.isclose(frac, obs_frac, atol=2.0/np.sqrt(NUM))\n",
    "\n",
    "plt.show()"
   ]
  },
  {
   "attachments": {},
   "cell_type": "markdown",
   "metadata": {},
   "source": [
    "### LogLin (`PD_Log_Lin`)"
   ]
  },
  {
   "cell_type": "code",
   "execution_count": null,
   "metadata": {},
   "outputs": [],
   "source": [
    "test = holo.librarian.lib_tools.PD_Log_Lin(\"test\", 0.01, 100.0, 0.1, 0.5)\n",
    "xx = np.linspace(0.0, 1.0, 10000)\n",
    "yy = test(xx)\n",
    "print(utils.minmax(yy))\n",
    "plt.loglog(xx, yy)\n",
    "ax = plt.gca()\n",
    "ax.axhline(test._crit, color='r', ls=':')\n",
    "ax.axvline(test._lofrac, color='r', ls=':')\n",
    "plt.show()"
   ]
  },
  {
   "attachments": {},
   "cell_type": "markdown",
   "metadata": {},
   "source": [
    "Change the fraction of population below/above cutoff"
   ]
  },
  {
   "cell_type": "code",
   "execution_count": null,
   "metadata": {},
   "outputs": [],
   "source": [
    "NUM = int(2e4)\n",
    "crit = 0.1\n",
    "\n",
    "BINS = 30\n",
    "edges = np.logspace(*np.log10([0.01, 100.0]), BINS)\n",
    "\n",
    "fig, ax = plot.figax(scale='log')\n",
    "for frac in [0.2, 0.5, 0.8]:\n",
    "    test = holo.librarian.lib_tools.PD_Log_Lin(\"test\", 0.01, 100.0, crit, frac)\n",
    "    xx = test(np.random.uniform(0.0, 1.0, size=NUM))\n",
    "    kale.dist1d(xx, ax=ax, edges=edges, density=True, probability=False)\n",
    "    obs_frac = np.count_nonzero(xx < crit) / xx.size\n",
    "    print(f\"target:{frac:.2f}, result:{obs_frac:.4f}\", 1.0/np.sqrt(NUM))\n",
    "    assert np.isclose(frac, obs_frac, atol=2.0/np.sqrt(NUM))\n",
    "\n",
    "plt.show()"
   ]
  },
  {
   "attachments": {},
   "cell_type": "markdown",
   "metadata": {},
   "source": [
    "Change the location of the cutoff"
   ]
  },
  {
   "cell_type": "code",
   "execution_count": null,
   "metadata": {},
   "outputs": [],
   "source": [
    "NUM = int(2e4)\n",
    "frac = 0.5\n",
    "\n",
    "BINS = 20\n",
    "\n",
    "edges = np.logspace(*np.log10([0.01, 100.0]), 2*BINS)\n",
    "\n",
    "fig, ax = plot.figax(scale='log')\n",
    "for crit in [0.1, 1.0, 10.0]:\n",
    "    test = holo.librarian.lib_tools.PD_Log_Lin(\"test\", 0.01, 100.0, crit, frac)\n",
    "    xx = test(np.random.uniform(0.0, 1.0, size=NUM))\n",
    "    kale.dist1d(xx, ax=ax, edges=edges, density=True, probability=False)\n",
    "    obs_frac = np.count_nonzero(xx < crit) / xx.size\n",
    "    print(f\"target:{frac:.2f}, result:{obs_frac:.4f}\", 1.0/np.sqrt(NUM))\n",
    "    assert np.isclose(frac, obs_frac, atol=2.0/np.sqrt(NUM))\n",
    "\n",
    "plt.show()"
   ]
  },
  {
   "attachments": {},
   "cell_type": "markdown",
   "metadata": {},
   "source": [
    "### Piecewise Uniform in Mass (`PD_Piecewise_Uniform_Mass`)"
   ]
  },
  {
   "cell_type": "code",
   "execution_count": null,
   "metadata": {},
   "outputs": [],
   "source": [
    "edges = [-1.0, 5.0, 6.0, 7.0]\n",
    "amps = [1.0, 2.0, 1.0]\n",
    "test = holodeck.librarian.lib_tools.PD_Piecewise_Uniform_Mass(\"test\", edges, amps)\n",
    "\n",
    "xx = np.random.uniform(size=1000)\n",
    "xx = np.sort(xx)\n",
    "yy = test(xx)\n",
    "print(utils.minmax(yy))\n",
    "x, y, _ = plt.hist(yy, histtype='step', density=True, bins=edges)\n",
    "ax = plt.gca()\n",
    "plt.show()"
   ]
  },
  {
   "cell_type": "code",
   "execution_count": null,
   "metadata": {},
   "outputs": [],
   "source": [
    "edges = [-1.0, 4.0, 6.0, 7.5]\n",
    "test = holodeck.librarian.lib_tools.PD_Piecewise_Uniform_Density(\"test\", edges, [1.0, 2.0, 1.0])\n",
    "\n",
    "xx = np.random.uniform(size=1000)\n",
    "xx = np.sort(xx)\n",
    "yy = test(xx)\n",
    "print(utils.minmax(yy))\n",
    "x, y, _ = plt.hist(yy, histtype='step', density=True, bins=edges)\n",
    "ax = plt.gca()\n",
    "plt.show()"
   ]
  },
  {
   "cell_type": "markdown",
   "metadata": {},
   "source": [
    "### Piecewise Uniform in Density (`PD_Piecewise_Uniform_Density`)"
   ]
  },
  {
   "cell_type": "code",
   "execution_count": null,
   "metadata": {},
   "outputs": [],
   "source": [
    "edges = [0.1, 1.0, 9.0, 11.0]\n",
    "test = holodeck.librarian.lib_tools.PD_Piecewise_Uniform_Density(\"test\", edges, [2.5, 0.5, 1.5])\n",
    "\n",
    "xx = np.random.uniform(size=2000)\n",
    "xx = np.sort(xx)\n",
    "yy = test(xx)\n",
    "print(utils.minmax(yy))\n",
    "ax = plt.gca()\n",
    "scale = 'log'\n",
    "scale = 'linear'\n",
    "ax.set(xscale=scale)\n",
    "xx = kale.utils.spacing(edges, scale, num=20)\n",
    "ax.hist(yy, histtype='step', density=True, bins=xx)\n",
    "# tw = ax.twinx()\n",
    "# tw.hist(yy, histtype='step', density=True, bins=30)\n",
    "plt.show()"
   ]
  },
  {
   "cell_type": "code",
   "execution_count": null,
   "metadata": {},
   "outputs": [],
   "source": [
    "test = holodeck.librarian.lib_tools.PD_Piecewise_Uniform_Density(\n",
    "    \"test\", [7.5, 8.0, 9.0, 9.5], [1.5, 1.0, 2.0]\n",
    ")\n",
    "\n",
    "xx = np.random.uniform(size=2000)\n",
    "xx = np.sort(xx)\n",
    "yy = test(xx)\n",
    "print(utils.minmax(yy))\n",
    "ax = plt.gca()\n",
    "scale = 'log'\n",
    "scale = 'linear'\n",
    "ax.set(xscale=scale)\n",
    "xx = kale.utils.spacing(yy, scale, num=20)\n",
    "print(xx)\n",
    "ax.hist(yy, histtype='step', density=True, bins=xx)\n",
    "# tw = ax.twinx()\n",
    "# tw.hist(yy, histtype='step', density=True, bins=30)\n",
    "plt.show()"
   ]
  }
 ],
 "metadata": {
  "kernelspec": {
   "display_name": "py310",
   "language": "python",
   "name": "python3"
  },
  "language_info": {
   "codemirror_mode": {
    "name": "ipython",
    "version": 3
   },
   "file_extension": ".py",
   "mimetype": "text/x-python",
   "name": "python",
   "nbconvert_exporter": "python",
   "pygments_lexer": "ipython3",
   "version": "3.11.7"
  },
  "vscode": {
   "interpreter": {
    "hash": "1f0c7602c82e39efa19a01e5e068584db7a6d17aff8711ab06660aac81377393"
   }
  }
 },
 "nbformat": 4,
 "nbformat_minor": 2
}
