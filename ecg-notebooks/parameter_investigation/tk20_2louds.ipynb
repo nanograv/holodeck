{
 "cells": [
  {
   "cell_type": "code",
   "execution_count": null,
   "metadata": {},
   "outputs": [],
   "source": [
    "%reload_ext autoreload\n",
    "%autoreload 2\n",
    "from importlib import reload\n",
    "\n",
    "import numpy as np\n",
    "import matplotlib.pyplot as plt\n",
    "import matplotlib.cm as cm\n",
    "import h5py\n",
    "from tqdm import tqdm\n",
    "import os\n",
    "\n",
    "\n",
    "from holodeck import plot, detstats, utils\n",
    "import holodeck.single_sources as sings\n",
    "from holodeck.constants import YR, MSOL, MPC, GYR, PC\n",
    "import holodeck as holo\n",
    "from holodeck.sams import sam\n",
    "\n",
    "import hasasia.sim as hsim"
   ]
  },
  {
   "cell_type": "code",
   "execution_count": null,
   "metadata": {},
   "outputs": [],
   "source": [
    "target = 'hard_time'\n",
    "data, params, dsdat = detstats.get_data(target,\n",
    "        gw_only=False, red2white=None, red_gamma=None,\n",
    "        nloudest=10, bgl=1, nexcl=0,\n",
    "        )\n"
   ]
  },
  {
   "cell_type": "code",
   "execution_count": null,
   "metadata": {},
   "outputs": [],
   "source": [
    "PP = 10\n",
    "dp_ss = dsdat[PP]['dp_ss']\n",
    "fobs = data[PP]['fobs_cents']"
   ]
  },
  {
   "cell_type": "code",
   "execution_count": null,
   "metadata": {},
   "outputs": [],
   "source": [
    "print(dp_ss.shape)\n",
    "print(np.unravel_index(np.argmax(dp_ss), shape=dp_ss.shape))"
   ]
  },
  {
   "cell_type": "markdown",
   "metadata": {},
   "source": [
    "### find a realization that can have high dp_ss"
   ]
  },
  {
   "cell_type": "code",
   "execution_count": null,
   "metadata": {},
   "outputs": [],
   "source": [
    "RR, ss = np.unravel_index(np.argmax(dp_ss), shape=dp_ss.shape)\n",
    "print(f\"{RR=}, {ss=}, {dp_ss[RR,ss]=}\")"
   ]
  },
  {
   "cell_type": "markdown",
   "metadata": {},
   "source": [
    "check the individual gamma_ssi"
   ]
  },
  {
   "cell_type": "code",
   "execution_count": null,
   "metadata": {},
   "outputs": [],
   "source": [
    "gamma_ssi = dsdat[PP]['gamma_ssi'][:,RR,ss]\n",
    "ev_ss = dsdat[PP]['ev_ss'][RR]\n",
    "print(gamma_ssi.shape)\n",
    "fig, ax = plot.figax(xlabel='fobs', ylabel='DP_i')\n",
    "ax.scatter(np.repeat(fobs, gamma_ssi[0].size).reshape(gamma_ssi.shape), gamma_ssi)\n"
   ]
  },
  {
   "cell_type": "markdown",
   "metadata": {},
   "source": [
    "check other sky realizations, many have high dp_ss. nice"
   ]
  },
  {
   "cell_type": "code",
   "execution_count": null,
   "metadata": {},
   "outputs": [],
   "source": [
    "print(np.sum(dp_ss[RR]))\n",
    "fig, ax = plot.figax(xlabel='sky realizations', ylabel='dp_ss', xscale='linear')\n",
    "ax.scatter(np.arange(len(dp_ss[RR])), dp_ss[RR], alpha=0.5)\n",
    "fig\n",
    "fig, ax = plot.figax(xlabel='sky realizations', ylabel='ev_ss', xscale='linear')\n",
    "ax.scatter(np.arange(len(ev_ss)), ev_ss, alpha=0.5, color='orange')"
   ]
  },
  {
   "cell_type": "markdown",
   "metadata": {},
   "source": [
    "use the hc_ss and hc_bg from this realization"
   ]
  },
  {
   "cell_type": "code",
   "execution_count": null,
   "metadata": {},
   "outputs": [],
   "source": [
    "fig, ax = plot.figax(xlabel='fobs', ylabel='hc')\n",
    "hc_bg, hc_ss = data[PP]['hc_bg'][:,RR], data[PP]['hc_ss'][:,RR]\n",
    "ax.plot(fobs, hc_bg)\n",
    "ax.scatter(np.repeat(fobs, hc_ss[0].size).reshape(hc_ss.shape), hc_ss,\n",
    "           alpha=0.25)"
   ]
  },
  {
   "cell_type": "markdown",
   "metadata": {},
   "source": [
    "# make a pta for fresh detstats"
   ]
  },
  {
   "cell_type": "code",
   "execution_count": null,
   "metadata": {},
   "outputs": [],
   "source": [
    "\n",
    "def check_detstats(seed, hc_ss, hc_bg):\n",
    "    # seed = None\n",
    "    if seed is None:\n",
    "        seed = np.random.randint(99999) # get a random number\n",
    "    # print(f\"{seed=}\")\n",
    "    np.random.seed(seed)\n",
    "\n",
    "\n",
    "    # thetas = None\n",
    "    thetas = np.repeat(np.pi/2, 40)\n",
    "    psrs, red_amp, sigma, _, _ = detstats.calibrate_one_pta(hc_bg, hc_ss, fobs, npsrs=40, seed=seed,\n",
    "                                                            ret_sig=True, thetas=thetas)\n",
    "\n",
    "    # print(f\"{red_amp=}, {sigma=}\")\n",
    "\n",
    "    # check distinction/matching w random seed\n",
    "    max_phi, max_theta = 0, 0\n",
    "    am_phi, am_theta = None, None\n",
    "    for ii, psr in enumerate(psrs):\n",
    "        if psr.phi > max_phi:\n",
    "            max_phi = psr.phi\n",
    "            am_phi = ii\n",
    "        if psr.theta > max_theta:\n",
    "            max_theta = psr.theta\n",
    "            am_theta = ii\n",
    "        \n",
    "\n",
    "    _dp_bg, _snr_bg = detstats.detect_bg_pta(psrs, fobs, hc_bg[:,np.newaxis], ret_snr=True)\n",
    "    print(f\"{_dp_bg[0]=:.2f}, {_snr_bg[0]=:.2f}, {am_theta=}, {am_phi=}\")\n",
    "\n",
    "    # get single source detstats\n",
    "    _dp_ss, _snr_ss, _gamma_ssi = detstats.detect_ss_pta(\n",
    "            psrs, fobs, hc_ss[:,np.newaxis], hc_bg[:,np.newaxis], \n",
    "            nskies=1, ret_snr=True,)\n",
    "    # print(f\"sum(DP_ssi)={np.sum(_gamma_ssi)}\")\n",
    "    print(f\"<N_SS> ={detstats.expval_of_ss(_gamma_ssi)[0,0]:.3f}, N_SS = {detstats.count_n_ss(_gamma_ssi)[0,0]}\")\n",
    "\n",
    "hc_bg, hc_ss = data[PP]['hc_bg'][:,RR], data[PP]['hc_ss'][:,RR]\n",
    "check_detstats(seed=None, hc_ss=hc_ss, hc_bg=hc_bg)"
   ]
  },
  {
   "cell_type": "markdown",
   "metadata": {},
   "source": [
    "# Artificially inject a second equally loud source"
   ]
  },
  {
   "cell_type": "code",
   "execution_count": null,
   "metadata": {},
   "outputs": [],
   "source": [
    "hc_ss2 = np.copy(hc_ss)\n",
    "hc_ss2[0,1] = hc_ss2[0,0]\n",
    "fig, ax = plot.figax(xlabel='fobs', ylabel='hc')\n",
    "ax.plot(fobs, hc_bg)\n",
    "ax.scatter(np.repeat(fobs, hc_ss2[0].size).reshape(hc_ss.shape), hc_ss,\n",
    "           alpha=0.25)\n",
    "\n"
   ]
  },
  {
   "cell_type": "markdown",
   "metadata": {},
   "source": [
    "### check detstats for 2 equally loud"
   ]
  },
  {
   "cell_type": "code",
   "execution_count": null,
   "metadata": {},
   "outputs": [],
   "source": [
    "for i in range(10):\n",
    "    check_detstats(seed=None, hc_ss=hc_ss2, hc_bg=hc_bg)"
   ]
  },
  {
   "cell_type": "markdown",
   "metadata": {},
   "source": [
    "# Conclusion 1\n",
    "When I have 1 detectable, very loud source, and I make the second source equally loud, i get two detections!"
   ]
  },
  {
   "cell_type": "code",
   "execution_count": null,
   "metadata": {},
   "outputs": [],
   "source": [
    "hc_ss3 = np.copy(hc_ss)\n",
    "hc_ss3[0,0] = 6*10**-15\n",
    "hc_ss3[0,1] = 6*10**-15\n",
    "fig, ax = plot.figax(xlabel='fobs', ylabel='hc')\n",
    "ax.plot(fobs, hc_bg)\n",
    "ax.scatter(np.repeat(fobs, hc_ss3[0].size).reshape(hc_ss3.shape), hc_ss3,\n",
    "           alpha=0.25)\n",
    "for ii in range(10):\n",
    "    check_detstats(seed=None, hc_ss=hc_ss3, hc_bg=hc_bg)"
   ]
  },
  {
   "cell_type": "markdown",
   "metadata": {},
   "source": [
    "# Try different arbritrarily assigned loudest"
   ]
  },
  {
   "cell_type": "markdown",
   "metadata": {},
   "source": [
    "# Check for a pspace library how often we get two very loud sources, like the reproduced ones here"
   ]
  },
  {
   "cell_type": "code",
   "execution_count": null,
   "metadata": {},
   "outputs": [],
   "source": [
    "print(f\"{params[0]['hard_time']}\")"
   ]
  },
  {
   "cell_type": "code",
   "execution_count": null,
   "metadata": {},
   "outputs": [],
   "source": [
    "\n",
    "fig, ax = plot.figax(xlabel='1st hc_ss', ylabel='2nd hc_ss',\n",
    "                    figsize=(6,6))\n",
    "ax.axvline(4e-15, color='k', ls='--', alpha=0.25)\n",
    "ax.axhline(4e-15, color='k', ls='--', alpha=0.25)\n",
    "handles = []\n",
    "for pp in np.arange(0,21,5):\n",
    "    print(pp)\n",
    "    ssall = data[pp]['hc_ss']\n",
    "    label=f\"$\\\\tau_f$={params[pp]['hard_time']}\"\n",
    "    hh = ax.scatter(ssall[0,:,0], ssall[0,:,1], alpha=0.5, label=label)\n",
    "    handles.append(hh)\n",
    "ax.legend(handles=handles)"
   ]
  },
  {
   "cell_type": "code",
   "execution_count": null,
   "metadata": {},
   "outputs": [],
   "source": [
    "for pp in np.arange(0,21,5):\n",
    "    print(pp)\n",
    "    ssall = data[pp]['hc_ss']\n",
    "    fig, ax = plot.figax(xlabel='1st hc_ss', ylabel='2nd hc_ss',\n",
    "                        figsize=(5,5))\n",
    "    ax.scatter(ssall[0,:,0], ssall[0,:,1], alpha=0.5)\n",
    "    ax.axvline(4e-15, color='k', ls='--', alpha=0.25)\n",
    "    ax.axhline(4e-15, color='k', ls='--', alpha=0.25)\n",
    "    ax.set_title(f\"$\\\\tau_f$={params[pp]['hard_time']}\")"
   ]
  },
  {
   "cell_type": "markdown",
   "metadata": {},
   "source": []
  }
 ],
 "metadata": {
  "kernelspec": {
   "display_name": "holo310",
   "language": "python",
   "name": "python3"
  },
  "language_info": {
   "codemirror_mode": {
    "name": "ipython",
    "version": 3
   },
   "file_extension": ".py",
   "mimetype": "text/x-python",
   "name": "python",
   "nbconvert_exporter": "python",
   "pygments_lexer": "ipython3",
   "version": "3.1.-1"
  }
 },
 "nbformat": 4,
 "nbformat_minor": 2
}
