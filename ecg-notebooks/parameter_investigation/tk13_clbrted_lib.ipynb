{
 "cells": [
  {
   "cell_type": "code",
   "execution_count": null,
   "metadata": {},
   "outputs": [],
   "source": [
    "%reload_ext autoreload\n",
    "%autoreload 2\n",
    "from importlib import reload\n",
    "\n",
    "import numpy as np\n",
    "import matplotlib.pyplot as plt\n",
    "import matplotlib.cm as cm\n",
    "import matplotlib as mpl\n",
    "import h5py\n",
    "import tqdm\n",
    "\n",
    "\n",
    "from holodeck import plot, detstats\n",
    "import holodeck.single_sources as sings\n",
    "from holodeck.constants import YR, MSOL, MPC, GYR, PC\n",
    "import holodeck as holo\n",
    "from holodeck.sams import sam\n",
    "\n",
    "import hasasia.sim as hsim\n",
    "\n",
    "import sys\n",
    "sys.path.append('/Users/emigardiner/GWs/holodeck/ecg-notebooks/parameter_investigation')\n",
    "import anatomy as anat"
   ]
  },
  {
   "cell_type": "code",
   "execution_count": null,
   "metadata": {},
   "outputs": [],
   "source": [
    "file_path = '/Users/emigardiner/GWs/holodeck/output/brc_output/ss63_09Bparams_2023-06-22_uniform-09b_n500_r100_f40_l10'\n",
    "hdf = h5py.File(file_path+'/sam_lib.hdf5', 'r')\n",
    "\n",
    "print(hdf.keys())\n",
    "sample_params = hdf['sample_params'][...]\n",
    "hc_ss = hdf['hc_ss'][...]\n",
    "hc_bg = hdf['hc_bg'][...]\n",
    "sspar = hdf['sspar'][...]\n",
    "bgpar = hdf['bgpar'][...]\n",
    "fobs_gw_cents = hdf['fobs'][:]\n",
    "hdf.close()\n",
    "\n",
    "dur = 1/fobs_gw_cents[0]\n",
    "fobs_gw_cents, fobs_gw_edges = holo.utils.pta_freqs(dur, num=len(fobs_gw_cents))\n",
    "nsamps, nfreqs, nreals, nloudest = [*hc_ss.shape]\n"
   ]
  },
  {
   "cell_type": "code",
   "execution_count": null,
   "metadata": {},
   "outputs": [],
   "source": [
    "npz = np.load(file_path+'/PS_Uniform_09B.pspace.npz', allow_pickle=True)\n",
    "print(npz.files)\n",
    "param_names = npz['param_names']\n",
    "print(param_names)\n",
    "print(npz['class_name'])\n",
    "lib_name = '%s v%s, %d samples' % (npz['class_name'], npz['librarian_version'], nsamps)\n",
    "print(lib_name)\n",
    "# print(npz['sam_shape'])\n",
    "npz.close()"
   ]
  },
  {
   "cell_type": "markdown",
   "metadata": {},
   "source": [
    "# Load detstats"
   ]
  },
  {
   "cell_type": "code",
   "execution_count": null,
   "metadata": {},
   "outputs": [],
   "source": [
    "npz = np.load('/Users/emigardiner/GWs/holodeck/output/brc_output/ss63_09Bparams_2023-06-22_uniform-09b_n500_r100_f40_l10/detstats/clbrt_psrs40/detstats_lib.npz')\n",
    "print(npz.files)\n",
    "# print(npz['snr_ss'].shape)\n",
    "dp_ss = npz['dp_ss']\n",
    "dp_bg = npz['dp_bg']\n",
    "df_ss = npz['df_ss']\n",
    "df_bg = npz['df_bg']\n",
    "ev_ss = npz['ev_ss']\n",
    "nskies = dp_ss.shape[-1]\n",
    "print(f\"{ev_ss.shape=}, {dp_ss.shape=}\")\n",
    "npz.close()"
   ]
  },
  {
   "attachments": {},
   "cell_type": "markdown",
   "metadata": {},
   "source": [
    "## Make plot shapes (N,R,S)"
   ]
  },
  {
   "cell_type": "code",
   "execution_count": null,
   "metadata": {},
   "outputs": [],
   "source": [
    "ratio = dp_ss/dp_bg[:,:,np.newaxis]\n",
    "print(f\"{ratio.shape=}\")"
   ]
  },
  {
   "cell_type": "code",
   "execution_count": null,
   "metadata": {},
   "outputs": [],
   "source": [
    "thard = np.repeat(sample_params[:,0], nreals*nskies).reshape(nsamps, nreals, nskies)"
   ]
  },
  {
   "cell_type": "code",
   "execution_count": null,
   "metadata": {},
   "outputs": [],
   "source": [
    "fig, ax = plot.figax(xlabel='hard_time', ylabel='ev_ss/dp_bg', xscale='linear')\n",
    "ax.scatter(thard, ratio, s=0.5, alpha=0.1)"
   ]
  },
  {
   "cell_type": "code",
   "execution_count": null,
   "metadata": {},
   "outputs": [],
   "source": [
    "ht_edges - "
   ]
  },
  {
   "cell_type": "code",
   "execution_count": null,
   "metadata": {},
   "outputs": [],
   "source": [
    "mchar = sample_params[:,2]"
   ]
  },
  {
   "cell_type": "code",
   "execution_count": null,
   "metadata": {},
   "outputs": [],
   "source": [
    "def normalize(xx, log=True, diverging=False, center=None):\n",
    "    xmin = np.min(xx)\n",
    "    xmax = np.max(xx)\n",
    "    if log:\n",
    "        xmin = np.log10(xmin)\n",
    "        xmax = np.log10(xmax)\n",
    "    print(f\"{xmin=}, {xmax=}\")\n",
    "    if diverging:\n",
    "        norm = mpl.colors.TwoSlopeNorm(vmin=xmin, vmax=xmax, center=center)\n",
    "    else:\n",
    "        norm = mpl.colors.Normalize(vmin=xmin, vmax=xmax)\n",
    "    return norm\n"
   ]
  },
  {
   "cell_type": "code",
   "execution_count": null,
   "metadata": {},
   "outputs": [],
   "source": [
    "\n",
    "mchar = np.repeat(sample_params[:,2], nreals*nskies)\n",
    "thard = np.repeat(sample_params[:,0], nreals*nskies)"
   ]
  },
  {
   "cell_type": "code",
   "execution_count": null,
   "metadata": {},
   "outputs": [],
   "source": [
    "cmap='PiYG'\n",
    "def scatter_with_color(xx, yy, cc, norm, xlabel=None, ylabel=None, clabel=None,\n",
    "                       xscale='log', yscale='log', ccent=0, cmap='PiYG', alpha=0.5):\n",
    "    fig, ax = plot.figax(xlabel=xlabel, ylabel=ylabel, yscale=yscale, xscale=xscale)\n",
    "    sax = ax.scatter(xx.flatten(), yy.flatten(), c=cc.flatten(), cmap=cmap, norm=norm, alpha=alpha)\n",
    "    cbar = plt.colorbar(sax, ax=ax, label=clabel)\n",
    "    return fig\n",
    "# create the colorbar\n",
    "# # Create the colorbar\n",
    "# smap = plt.cm.ScalarMappable(cmap='PiYG', norm=norm)\n",
    "# cbar = fig.colorbar(smap, ax=ax, fraction=0.1, shrink = 0.8)"
   ]
  },
  {
   "cell_type": "code",
   "execution_count": null,
   "metadata": {},
   "outputs": [],
   "source": [
    "xx = thard\n",
    "yy = mchar\n",
    "cc = np.log10(ratio.flatten())\n",
    "xlabel = 'hard_time'\n",
    "ylabel = 'GSMF mchar0 log10'\n",
    "clabel = 'SS/BG Detprob'\n",
    "yscale='linear'\n",
    "xscale='linear'\n",
    "norm = normalize(cc, center=0)\n",
    "print(f\"{xx.shape=}, {yy.shape=}, {cc.shape=}\")\n",
    "\n",
    "fig = scatter_with_color(\n",
    "    xx, yy, cc, norm, xlabel, ylabel, clabel, \n",
    "    xscale=xscale, yscale=yscale, ccent=0, cmap='PiYG')"
   ]
  },
  {
   "cell_type": "code",
   "execution_count": null,
   "metadata": {},
   "outputs": [],
   "source": [
    "xx = thard\n",
    "yy = np.repeat(sample_params[:,1], nreals*nskies)\n",
    "cc = np.log10(ratio.flatten())\n",
    "xlabel = 'hard_time'\n",
    "ylabel = 'GSMF Phi0'\n",
    "clabel = 'SS/BG Detprob'\n",
    "yscale='linear'\n",
    "xscale='linear'\n",
    "norm = normalize(cc, center=0)\n",
    "print(f\"{xx.shape=}, {yy.shape=}, {cc.shape=}\")\n",
    "\n",
    "fig = scatter_with_color(\n",
    "    xx, yy, cc, norm, xlabel, ylabel, clabel, \n",
    "    xscale=xscale, yscale=yscale, ccent=0, cmap='PiYG')"
   ]
  },
  {
   "cell_type": "markdown",
   "metadata": {},
   "source": []
  },
  {
   "cell_type": "code",
   "execution_count": null,
   "metadata": {},
   "outputs": [],
   "source": []
  }
 ],
 "metadata": {
  "kernelspec": {
   "display_name": "holo310",
   "language": "python",
   "name": "python3"
  },
  "language_info": {
   "codemirror_mode": {
    "name": "ipython",
    "version": 3
   },
   "file_extension": ".py",
   "mimetype": "text/x-python",
   "name": "python",
   "nbconvert_exporter": "python",
   "pygments_lexer": "ipython3",
   "version": "3.1.-1"
  }
 },
 "nbformat": 4,
 "nbformat_minor": 2
}
