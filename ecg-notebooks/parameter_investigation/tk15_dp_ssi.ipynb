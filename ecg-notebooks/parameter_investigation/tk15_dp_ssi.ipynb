{
 "cells": [
  {
   "cell_type": "code",
   "execution_count": null,
   "metadata": {},
   "outputs": [],
   "source": [
    "%reload_ext autoreload\n",
    "%autoreload 2\n",
    "from importlib import reload\n",
    "\n",
    "import numpy as np\n",
    "import matplotlib.pyplot as plt\n",
    "import matplotlib.cm as cm\n",
    "import h5py\n",
    "import matplotlib as mpl\n",
    "import os\n",
    "\n",
    "\n",
    "from holodeck import plot, detstats\n",
    "import holodeck.single_sources as sings\n",
    "from holodeck.constants import YR, MSOL, MPC\n",
    "import holodeck as holo\n",
    "\n",
    "import hasasia.sim as hsim\n"
   ]
  },
  {
   "cell_type": "code",
   "execution_count": null,
   "metadata": {},
   "outputs": [],
   "source": [
    "SHAPE = None\n",
    "NREALS = 50\n",
    "NLOUDEST = 10\n",
    "PARAM_SPACE = 'PS_Uniform_07_GW'\n",
    "PTA_DUR = 100\n",
    "\n",
    "CONSTRUCT = False\n",
    "JUST_DETSTATS = False\n",
    "SAVEFIG = False\n",
    "TOL=0.01\n",
    "MAXBADS=5\n",
    "\n",
    "NVARS = 6\n",
    "RED2WHITE = None\n",
    "RED_GAMMA = None\n",
    "\n",
    "NPSRS = 40\n",
    "NSKIES =25\n",
    "TARGET = 'gsmf_phi0' # EDIT AS NEEDED\n",
    "TITLE = '$\\\\tau_\\mathrm{hard}$'   # EDIT AS NEEDED\n",
    "\n",
    "\n",
    "# TARGET = 'gsmf_mchar0_log10' # EDIT AS NEEDED\n",
    "# TITLE = 'GSMF: log($M_\\mathrm{char,0} / \\mathrm{M}_\\odot$)'   # EDIT AS NEEDED"
   ]
  },
  {
   "cell_type": "code",
   "execution_count": null,
   "metadata": {},
   "outputs": [],
   "source": [
    "path = f'/Users/emigardiner/GWs/holodeck/output/anatomy_7GW/{TARGET}_v{NVARS}_r{NREALS}_shapeNone'\n",
    "\n",
    "# path = f'/Users/emigardiner/GWs/holodeck/output/anatomy/{PARAM_SPACE}_{TARGET}_v{NVARS}_r{NREALS}_d{PTA_DUR}'\n",
    "load_data_from_file = path+f'/data_params.npz' \n",
    "load_dets_from_file = path+f'/detstats_s{NSKIES}'\n",
    "if RED2WHITE is not None and RED_GAMMA is not None:\n",
    "    load_dets_from_file += f'_r2w{RED2WHITE:>.2f}_rg{RED_GAMMA:.2e}'\n",
    "else:\n",
    "    load_dets_from_file += '_white.npz'\n",
    "\n",
    "# save_data_to_file = path+f'/{TARGET}_v{NVARS}vars_clbrt_pta.npz' \n",
    "# load_data_from_file='/Users/emigardiner/GWs/holodeck/output/anatomy/PS_Uniform_07_GW_gsmf_phi0_v6_r100_d100/data_params.npz'\n",
    "if os.path.exists(load_data_from_file) is False:\n",
    "    print(load_data_from_file)\n",
    "    err = 'load data file does not exist, you need to construct it.'\n",
    "    raise Exception(err)\n",
    "if os.path.exists(load_dets_from_file) is False:\n",
    "    print(load_dets_from_file)\n",
    "    err = 'load data file does not exist, you need to construct it.'\n",
    "    raise Exception(err)"
   ]
  },
  {
   "attachments": {},
   "cell_type": "markdown",
   "metadata": {},
   "source": [
    "Load Data"
   ]
  },
  {
   "cell_type": "code",
   "execution_count": null,
   "metadata": {},
   "outputs": [],
   "source": [
    "file = np.load(load_data_from_file, allow_pickle=True)\n",
    "print(file.files)\n",
    "data = file['data']\n",
    "params = file['params']\n",
    "file.close()\n",
    "\n",
    "file = np.load(load_dets_from_file, allow_pickle=True)\n",
    "dsdat = file['dsdat']\n",
    "file.close()\n"
   ]
  },
  {
   "attachments": {},
   "cell_type": "markdown",
   "metadata": {},
   "source": [
    "Parameter Space"
   ]
  },
  {
   "cell_type": "code",
   "execution_count": null,
   "metadata": {},
   "outputs": [],
   "source": [
    "# pspace = holo.param_spaces.PS_Uniform_07_GW(holo.log, nsamples=1, sam_shape=SHAPE, seed=None)\n",
    "# param_names = pspace.param_names\n",
    "# print(param_names)"
   ]
  },
  {
   "cell_type": "code",
   "execution_count": null,
   "metadata": {},
   "outputs": [],
   "source": [
    "fobs_cents = data[3]['fobs_cents'] # F\n",
    "NFREQS = len(fobs_cents)\n",
    "print(NFREQS)"
   ]
  },
  {
   "attachments": {},
   "cell_type": "markdown",
   "metadata": {},
   "source": [
    "Scatter of All"
   ]
  },
  {
   "cell_type": "code",
   "execution_count": null,
   "metadata": {},
   "outputs": [],
   "source": [
    "# xlabel = plot.LABEL_GW_FREQUENCY_YR\n",
    "# ylabel = 'Individual Single Source Detection Probability, $\\gamma_\\mathrm{ssi}$'\n",
    "\n",
    "# fig, ax = plot.figax(xlabel=xlabel, ylabel=ylabel)\n",
    "# colors = cm.rainbow(np.linspace(0,1,NVARS))\n",
    "# alpha=0.1\n",
    "\n",
    "# for ii, dat in enumerate(data):\n",
    "#     xx = np.repeat(fobs_cents, NREALS*NSKIES*NLOUDEST).reshape(NFREQS, NREALS, NSKIES, NLOUDEST)\n",
    "#     yy = dsdat[ii]['gamma_ssi'] # (F,S,R,L)\n",
    "#     ax.scatter(xx[:,:,:,0], yy[:,:,:,0], color=colors[ii], edgecolor='k', alpha=alpha)\n",
    "#     ax.scatter(xx[:,:,:,1:], yy[:,:,:,1:], color=colors[ii], alpha=alpha)"
   ]
  },
  {
   "attachments": {},
   "cell_type": "markdown",
   "metadata": {},
   "source": [
    "Just The Single Loudest"
   ]
  },
  {
   "cell_type": "code",
   "execution_count": null,
   "metadata": {},
   "outputs": [],
   "source": [
    "print(holo.utils.stats(dsdat[5]['dp_ss']))"
   ]
  },
  {
   "cell_type": "code",
   "execution_count": null,
   "metadata": {},
   "outputs": [],
   "source": []
  },
  {
   "cell_type": "code",
   "execution_count": null,
   "metadata": {},
   "outputs": [],
   "source": [
    "xlabel = plot.LABEL_GW_FREQUENCY_YR\n",
    "ylabel = 'Detection Probability, $\\gamma_\\mathrm{ss,i}$'\n",
    "\n",
    "fig, ax = plot.figax(xlabel=xlabel, ylabel=ylabel)\n",
    "colors = cm.rainbow(np.linspace(0,1,NVARS))\n",
    "alpha=0.1\n",
    "\n",
    "# tt = param_names.index(TARGET)\n",
    "\n",
    "handles = []\n",
    "labels = []\n",
    "for ii, dat in enumerate(data):\n",
    "    if ii%3==0:\n",
    "        print(ii)\n",
    "        xx = fobs_cents #np.repeat(fobs_cents, NREALS*NSKIES*NLOUDEST).reshape(NFREQS, NREALS*NSKIES*NLOUDEST)\n",
    "        yy = dsdat[ii]['gamma_ssi'][...] # (F,S,R)\n",
    "        print(f\"{xx.shape=}, {yy.shape=}\")\n",
    "        yy = yy.reshape(NFREQS, NSKIES * NREALS * NLOUDEST)\n",
    "        hh = plot.draw_med_conf_color(ax, xx, yy, color=colors[ii],)\n",
    "        handles.append(hh)\n",
    "        labels.append(f\"{params[ii][TARGET]:.2f}\")\n",
    "    # ax.scatter(xx[:,:,:,0], yy[:,:,:,0], color=colors[ii], edgecolor='k', alpha=0.1)\n",
    "    # ax.scatter(xx[:,:,:,1:], yy[:,:,:,1:], color=colors[ii], alpha=0.1)\n",
    "\n",
    "ax.legend(handles=handles, labels=labels, title=TARGET)\n"
   ]
  },
  {
   "cell_type": "code",
   "execution_count": null,
   "metadata": {},
   "outputs": [],
   "source": [
    "fig, ax = plot.figax()\n",
    "\n",
    "ax.set_title('Title in big text for $\\large{\\\\tau}$ or normal size $\\\\tau$')"
   ]
  },
  {
   "cell_type": "code",
   "execution_count": null,
   "metadata": {},
   "outputs": [],
   "source": []
  }
 ],
 "metadata": {
  "kernelspec": {
   "display_name": "holo310",
   "language": "python",
   "name": "python3"
  },
  "language_info": {
   "codemirror_mode": {
    "name": "ipython",
    "version": 3
   },
   "file_extension": ".py",
   "mimetype": "text/x-python",
   "name": "python",
   "nbconvert_exporter": "python",
   "pygments_lexer": "ipython3",
   "version": "3.1.-1"
  }
 },
 "nbformat": 4,
 "nbformat_minor": 2
}
