{
 "cells": [
  {
   "cell_type": "code",
   "execution_count": null,
   "metadata": {},
   "outputs": [],
   "source": [
    "%reload_ext autoreload\n",
    "%autoreload 2\n",
    "from importlib import reload\n",
    "\n",
    "import numpy as np\n",
    "import matplotlib.pyplot as plt\n",
    "import matplotlib.cm as cm\n",
    "import h5py\n",
    "import tqdm\n",
    "\n",
    "\n",
    "from holodeck import plot, detstats\n",
    "import holodeck.single_sources as sings\n",
    "from holodeck.constants import YR, MSOL, MPC, GYR, PC\n",
    "import holodeck as holo\n",
    "from holodeck.sams import sam\n",
    "\n",
    "import hasasia.sim as hsim\n",
    "\n",
    "import sys\n",
    "sys.path.append('/Users/emigardiner/GWs/holodeck/ecg-notebooks/parameter_investigation')\n",
    "import anatomy as anat"
   ]
  },
  {
   "cell_type": "code",
   "execution_count": null,
   "metadata": {},
   "outputs": [],
   "source": [
    "file_path = '/Users/emigardiner/GWs/holodeck/output/brc_output/ss63_09Bparams_2023-06-22_uniform-09b_n500_r100_f40_l10'\n",
    "hdf = h5py.File(file_path+'/sam_lib.hdf5', 'r')\n",
    "\n",
    "print(hdf.keys())\n",
    "sample_params = hdf['sample_params'][...]\n",
    "hc_ss = hdf['hc_ss'][...]\n",
    "hc_bg = hdf['hc_bg'][...]\n",
    "sspar = hdf['sspar'][...]\n",
    "bgpar = hdf['bgpar'][...]\n",
    "fobs_gw_cents = hdf['fobs'][:]\n",
    "hdf.close()\n",
    "\n",
    "dur = 1/fobs_gw_cents[0]\n",
    "fobs_gw_cents, fobs_gw_edges = holo.utils.pta_freqs(dur, num=len(fobs_gw_cents))\n",
    "nsamps, nfreqs, nreals, nloudest = [*hc_ss.shape]\n"
   ]
  },
  {
   "cell_type": "code",
   "execution_count": null,
   "metadata": {},
   "outputs": [],
   "source": [
    "npz = np.load(file_path+'/PS_Uniform_09B.pspace.npz', allow_pickle=True)\n",
    "print(npz.files)\n",
    "param_names = npz['param_names']\n",
    "print(param_names)\n",
    "print(npz['class_name'])\n",
    "lib_name = '%s v%s, %d samples' % (npz['class_name'], npz['librarian_version'], nsamps)\n",
    "print(lib_name)\n",
    "# print(npz['sam_shape'])\n",
    "npz.close()"
   ]
  },
  {
   "cell_type": "code",
   "execution_count": null,
   "metadata": {},
   "outputs": [],
   "source": [
    "print(sample_params[0])"
   ]
  },
  {
   "cell_type": "code",
   "execution_count": null,
   "metadata": {},
   "outputs": [],
   "source": [
    "ssfrq = np.repeat(fobs_gw_cents, nsamps*nreals*nloudest).reshape(nsamps, nfreqs, nreals, nloudest)\n",
    "bgfrq = np.repeat(fobs_gw_cents, nsamps*nreals).reshape(nsamps, nfreqs, nreals)\n",
    "print(f\"{ssfrq.shape=}, {sspar[:,0].shape=}\")"
   ]
  },
  {
   "attachments": {},
   "cell_type": "markdown",
   "metadata": {},
   "source": [
    "# Mass vs Frequency Marginalized Over Library"
   ]
  },
  {
   "cell_type": "code",
   "execution_count": null,
   "metadata": {},
   "outputs": [],
   "source": [
    "sam = holo.sams.Semi_Analytic_Model()\n",
    "mt_edges = sam.mtot/MSOL\n",
    "ff_edges = fobs_gw_edges /10**9\n",
    "\n",
    "ssmtt = sspar[:,0,...].flatten()/MSOL\n",
    "ssfrq = np.repeat(fobs_gw_cents, nsamps*nreals*nloudest)/10**9\n",
    "print(f\"{ssmtt.shape=}, {ssfrq.shape=}\")\n",
    "\n",
    "hist, ffe, mte, = np.histogram2d(ssfrq, ssmtt, bins=(ff_edges, mt_edges))\n",
    "print(f\"{ffe.shape=}, {mte.shape=}\")\n",
    "\n",
    "cmap = 'inferno'\n",
    "fig, ax = plot.figax(xlabel='$M$ [M$_\\odot$]', ylabel = '$f$ [nHz]')\n",
    "mtgrid, ffgrid = np.meshgrid(mt_edges, ff_edges)\n",
    "print(f\"{mtgrid.shape=}, {ffgrid.shape=}\")\n",
    "ax.pcolormesh(mtgrid, ffgrid, np.log10(hist), cmap=cmap)\n",
    "\n",
    "ax.set_title('All Uniform 09B')"
   ]
  },
  {
   "attachments": {},
   "cell_type": "markdown",
   "metadata": {},
   "source": [
    "# For a single sample"
   ]
  },
  {
   "cell_type": "code",
   "execution_count": null,
   "metadata": {},
   "outputs": [],
   "source": [
    "nsort = holo.detstats.rank_samples(hc_ss, hc_bg, fobs_gw_cents, fidx=1,\n",
    "                                   )\n",
    "print(nsort[:5])"
   ]
  },
  {
   "cell_type": "code",
   "execution_count": null,
   "metadata": {},
   "outputs": [],
   "source": [
    "def plot_best_index(best):\n",
    "    if best is None:\n",
    "        ssmtt = sspar[:,0,...].flatten()/MSOL\n",
    "        ssfrq = np.repeat(fobs_gw_cents, nsamps*nreals*nloudest)/10**9\n",
    "\n",
    "        bgmtt = bgpar[:,0,...].flatten()/MSOL\n",
    "        bgfrq = np.repeat(fobs_gw_cents, nsamps*nreals)/10**9\n",
    "    else:\n",
    "        ssmtt = sspar[best,0,...].flatten()/MSOL\n",
    "        ssfrq = np.repeat(fobs_gw_cents, nreals*nloudest)/10**9\n",
    "\n",
    "        bgmtt = bgpar[best,0,...].flatten()/MSOL\n",
    "        bgfrq = np.repeat(fobs_gw_cents, nreals)/10**9\n",
    "    # print(f\"{ssmtt.shape=}, {ssfrq.shape=}\")\n",
    "\n",
    "    hist_ss, ffe, mte, = np.histogram2d(ssfrq, ssmtt, bins=(ff_edges, mt_edges))\n",
    "    hist_bg, ffe, mte, = np.histogram2d(bgfrq, bgmtt, bins=(ff_edges, mt_edges))\n",
    "    \n",
    "    # print(f\"{ffe.shape=}, {mte.shape=}\")\n",
    "\n",
    "    fig, axs = plot.figax(ncols=2, xlabel='$M$ [M$_\\odot$]', ylabel = '$f$ [nHz]', figsize=(8,4))\n",
    "    mtgrid, ffgrid = np.meshgrid(mte, ffe)\n",
    "    # print(f\"{mtgrid.shape=}, {ffgrid.shape=}\")\n",
    "\n",
    "    ax = axs[0]\n",
    "    ax.set_title('$h_c^2$-weighted Background')\n",
    "    ax.set_facecolor('k')\n",
    "    im = ax.pcolormesh(mtgrid, ffgrid, np.log10(hist_bg), cmap='viridis')\n",
    "    cbar = plt.colorbar(im, ax=ax, label='$\\log N$', orientation='horizontal', pad=0.2)\n",
    "\n",
    "    ax = axs[1]\n",
    "    ax.set_title('Single Sources')\n",
    "    ax.set_facecolor('k')\n",
    "    ax.set_ylabel(None)\n",
    "    im = ax.pcolormesh(mtgrid, ffgrid, np.log10(hist_ss), cmap='inferno')\n",
    "    cbar = plt.colorbar(im, ax=ax, label='$\\log N$', orientation='horizontal', pad=0.2)\n",
    "\n",
    "    if best is None:\n",
    "        fig.suptitle(lib_name)\n",
    "    else:\n",
    "        fig.suptitle(\n",
    "            'sample %d:, $t_\\mathrm{hard}$=%.1fGyr, $\\gamma_\\mathrm{inner}$=%.1f, $\\Phi_0$=%.1f, '\n",
    "            % (best, sample_params[best,0], sample_params[best,-1], sample_params[best,1], ) \n",
    "            + '$\\log M_\\mathrm{char,0}={%.1f}$, $\\log \\mu_\\mathrm{MMB}=%.1f$, $\\sigma_\\mathrm{MMB,dex}$=%.1f' \n",
    "            % (sample_params[best,2], sample_params[best,3], sample_params[best,4]))\n",
    "        fig.tight_layout()"
   ]
  },
  {
   "attachments": {},
   "cell_type": "markdown",
   "metadata": {},
   "source": [
    "## plot best"
   ]
  },
  {
   "cell_type": "code",
   "execution_count": null,
   "metadata": {},
   "outputs": [],
   "source": [
    "for best in nsort[:5]:\n",
    "    plot_best_index(best)"
   ]
  },
  {
   "attachments": {},
   "cell_type": "markdown",
   "metadata": {},
   "source": [
    "## plot worst"
   ]
  },
  {
   "cell_type": "code",
   "execution_count": null,
   "metadata": {},
   "outputs": [],
   "source": [
    "for best in nsort[-5:]:\n",
    "    plot_best_index(best)"
   ]
  },
  {
   "attachments": {},
   "cell_type": "markdown",
   "metadata": {},
   "source": [
    "# Marginalized"
   ]
  },
  {
   "cell_type": "code",
   "execution_count": null,
   "metadata": {},
   "outputs": [],
   "source": [
    "plot_best_index(None)"
   ]
  }
 ],
 "metadata": {
  "kernelspec": {
   "display_name": "holo310",
   "language": "python",
   "name": "python3"
  },
  "language_info": {
   "codemirror_mode": {
    "name": "ipython",
    "version": 3
   },
   "file_extension": ".py",
   "mimetype": "text/x-python",
   "name": "python",
   "nbconvert_exporter": "python",
   "pygments_lexer": "ipython3",
   "version": "3.10.12"
  }
 },
 "nbformat": 4,
 "nbformat_minor": 2
}
