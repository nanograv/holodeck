{
 "cells": [
  {
   "cell_type": "code",
   "execution_count": null,
   "metadata": {},
   "outputs": [],
   "source": [
    "%reload_ext autoreload\n",
    "%autoreload 2\n",
    "from importlib import reload\n",
    "\n",
    "import numpy as np\n",
    "import matplotlib.pyplot as plt\n",
    "import matplotlib.cm as cm\n",
    "import h5py\n",
    "import tqdm\n",
    "\n",
    "\n",
    "from holodeck import plot, detstats\n",
    "import holodeck.single_sources as sings\n",
    "from holodeck.constants import YR, MSOL, MPC, GYR, PC\n",
    "import holodeck as holo\n",
    "from holodeck.sams import sam\n",
    "\n",
    "import hasasia.sim as hsim\n",
    "\n",
    "import sys\n",
    "sys.path.append('/Users/emigardiner/GWs/holodeck/ecg-notebooks/parameter_investigation')\n",
    "import anatomy as anat"
   ]
  },
  {
   "cell_type": "code",
   "execution_count": null,
   "metadata": {},
   "outputs": [],
   "source": [
    "RECONSTRUCT_FLAG = False"
   ]
  },
  {
   "attachments": {},
   "cell_type": "markdown",
   "metadata": {},
   "source": [
    "# Try again"
   ]
  },
  {
   "cell_type": "code",
   "execution_count": null,
   "metadata": {},
   "outputs": [],
   "source": [
    "sam = holo.sams.Semi_Analytic_Model(shape=10)"
   ]
  },
  {
   "attachments": {},
   "cell_type": "markdown",
   "metadata": {},
   "source": [
    "# Get PSpace Info"
   ]
  },
  {
   "cell_type": "code",
   "execution_count": null,
   "metadata": {},
   "outputs": [],
   "source": [
    "# use one file to get the shape\n",
    "npz = np.load('/Users/emigardiner/GWs/holodeck/ecg-notebooks/parameter_investigation/anatomy_uniform09A_fullshape/hard_time_p0.5_0.5_0.5_0.5_0.5_0.5_s91_81_101.npz',\n",
    "                        allow_pickle=True)             \n",
    "print(npz.files)\n",
    "hc_ss = npz['data'][0]['hc_ss']\n",
    "NFREQS, NREALS, NLOUDEST = [*hc_ss.shape]\n",
    "# params = npz['params']\n",
    "# hard_name = npz['hard_name']\n",
    "shape = npz['shape']\n",
    "# target_param = npz['target_param']\n",
    "fobs_gw_cents = npz['data'][0]['fobs_cents']\n",
    "fobs_gw_edges = npz['data'][0]['fobs_edges']\n",
    "\n",
    "npz.close()\n",
    "\n",
    "# get param names\n",
    "pspace = holo.param_spaces.PS_Uniform_09A(holo.log, nsamples=1, sam_shape=shape, seed=None)\n",
    "param_names = pspace.param_names\n",
    "print(param_names)\n",
    "print(f\"{shape=}\")\n",
    "print(f\"{NFREQS=}, {NREALS=}, {NLOUDEST=},\")\n",
    "# print(f\"{data[0]['hc_ss'].shape}\")\n",
    "# print(f\"{data[0].keys()=}\")\n",
    "\n",
    "# # set directory path\n",
    "# sam_loc = '/Users/emigardiner/GWs/holodeck/ecg-notebooks/parameter_investigation/anatomy_uniform09A_fullshape/'\n",
    "# save_dir=sam_loc+'/figures'       "
   ]
  },
  {
   "attachments": {},
   "cell_type": "markdown",
   "metadata": {},
   "source": [
    "# Plot Hardening Time vs. Separation"
   ]
  },
  {
   "cell_type": "code",
   "execution_count": null,
   "metadata": {},
   "outputs": [],
   "source": [
    "# print(sings.par_names)"
   ]
  },
  {
   "cell_type": "code",
   "execution_count": null,
   "metadata": {},
   "outputs": [],
   "source": [
    "# print(f\"{sepa.shape=}, {tau.shape=}\")\n",
    "# print(holo.utils.stats(sepa))\n",
    "# print(holo.utils.stats(tau))"
   ]
  },
  {
   "cell_type": "code",
   "execution_count": null,
   "metadata": {},
   "outputs": [],
   "source": [
    "# mm=-1\n",
    "# qq=-1\n",
    "# zz=-1\n",
    "# for mm in [5,50,80]:\n",
    "#     for qq in [5,50, 80]:\n",
    "#         for zz in [5,50,80]:\n",
    "#             plt.plot(fobs_gw_cents, sepa[mm,qq,zz])"
   ]
  },
  {
   "cell_type": "code",
   "execution_count": null,
   "metadata": {},
   "outputs": [],
   "source": [
    "# print(sepa.shape)"
   ]
  },
  {
   "cell_type": "code",
   "execution_count": null,
   "metadata": {},
   "outputs": [],
   "source": [
    "# xlabels = ['Binary Separation [pc]', 'GW Frequency [nHz]']\n",
    "# ylabels = ['Hardening Time [Gyr]', 'GW Characteristic Strain']\n",
    "\n",
    "# fig, axs = plot.figax(nrows=2, figsize=(5,6)\n",
    "#                      )\n",
    "# for ii,ax in enumerate(axs):\n",
    "#     ax.set_xlabel(xlabels[ii])\n",
    "#     ax.set_ylabel(ylabels[ii])\n",
    "\n",
    "# fig.tight_layout()\n",
    "\n",
    "# x1 = sepa/PC\n",
    "# y1 = dets['tau']/GYR\n",
    "\n",
    "# for mm in np.arange(0, 90, 10):\n",
    "#     for qq in np.arange(0,80,10):\n",
    "#         for zz in np.arange(0,100,10):\n",
    "#             axs[0].plot(x1[mm,qq,zz], y1[mm,qq,zz], alpha=0.5)\n",
    "# # axs[0].set_xlim(10**3, 10**-3)\n",
    "\n",
    "\n",
    "# # x2_bg = fobs_gw_cents\n",
    "\n",
    "\n",
    "\n"
   ]
  },
  {
   "attachments": {},
   "cell_type": "markdown",
   "metadata": {},
   "source": [
    "# Let's just copy Luke's notebook"
   ]
  },
  {
   "attachments": {},
   "cell_type": "markdown",
   "metadata": {},
   "source": [
    "### function to construct evolution data"
   ]
  },
  {
   "cell_type": "code",
   "execution_count": null,
   "metadata": {},
   "outputs": [],
   "source": [
    "def construct_evolution(target_param, params, NSTEPS):\n",
    "    mtot_range = [3e8*MSOL, 3e9*MSOL]\n",
    "    mtot_hirng = [3e9*MSOL, 3e10*MSOL]\n",
    "    mrat_range = [0.2, 1.0]\n",
    "    redz_range = [0, np.inf]\n",
    "\n",
    "    space = pspace # from above\n",
    "\n",
    "    # Whatever param we're varying\n",
    "    target_param_list =  []\n",
    "    # range of binary separations to plot\n",
    "    sepa = np.logspace(-3, 3, NSTEPS)[::-1] * PC\n",
    "\n",
    "    hcss = []\n",
    "    hcbg = []\n",
    "    taus = []\n",
    "    taus_high = []\n",
    "\n",
    "    # Iterate over target lifetimes\n",
    "    for tt in tqdm.tqdm(range(len(params))):\n",
    "\n",
    "        # using my parameters from above\n",
    "        _params = params[tt] # midpoints\n",
    "        target_param_list.append(_params[target_param])\n",
    "\n",
    "        sam, hard = pspace.model_for_params(_params)\n",
    "\n",
    "        # calculate hc_bg and hc_ss at bin centers, between the given bin edges\n",
    "        _hcss_step, _hcbg_step, = sam.gwb(fobs_gw_edges, hard, \n",
    "                                    loudest = NLOUDEST, realize=NREALS)\n",
    "        hcss.append(_hcss_step)\n",
    "        hcbg.append(_hcbg_step)\n",
    "\n",
    "        # _hcss.append(data[tt]['hc_ss'])\n",
    "        # _hcbg.append(data[tt]['hc_bg'])\n",
    "\n",
    "        # calculate binary properties at target separations\n",
    "        _edges, _dnum, _redz_final, _details = sam._dynamic_binary_number_at_sepa_consistent(\n",
    "            hard, sepa, details=True) # it would be better if I saved these details when I first calculated them!\n",
    "        \n",
    "        # select the bins with target binary parameters\n",
    "        # I could update this to select out my single source bins\n",
    "        sel_mtot = (mtot_range[0] < sam.mtot) & (sam.mtot <= mtot_range[1])\n",
    "        sel_himt = (mtot_hirng[0] < sam.mtot) & (sam.mtot <= mtot_hirng[1])\n",
    "        sel_mrat = (mrat_range[0] < sam.mrat) & (sam.mrat <= mrat_range[1])\n",
    "        sel_redz = (redz_range[0] < sam.redz) & (sam.redz <= redz_range[1])\n",
    "        sel = (\n",
    "            sel_mtot[:, np.newaxis, np.newaxis] *\n",
    "            sel_mrat[np.newaxis, :, np.newaxis] * \n",
    "            sel_redz[np.newaxis, np.newaxis, :]\n",
    "        )\n",
    "\n",
    "        sel_high = (\n",
    "            sel_himt[:, np.newaxis, np.newaxis] *\n",
    "            sel_mrat[np.newaxis, :, np.newaxis] * \n",
    "            sel_redz[np.newaxis, np.newaxis, :]\n",
    "        )\n",
    "\n",
    "        _tau = _details['tau'][sel].T\n",
    "        _tau_high = _details['tau'][sel_high].T\n",
    "        taus.append(_tau)\n",
    "        taus_high.append(_tau_high)\n",
    "\n",
    "    # save results\n",
    "    fileloc = '/Users/emigardiner/GWs/holodeck/ecg-notebooks/parameter_investigation/anatomy_uniform09A_fullshape/'\n",
    "    filename = fileloc+'evol_%s_%dsteps.npz' % (target_param, NSTEPS)\n",
    "    print(f\"{filename=}\")\n",
    "    np.savez(filename, taus=taus, taus_high=taus_high, target_param_list=target_param_list,\n",
    "            hcss=hcss, hcbg=hcbg, nsteps=NSTEPS, sepa=sepa,\n",
    "            mtot_range=mtot_range, mtot_hirng=mtot_hirng, mrat_range=mrat_range, redz_range=redz_range)\n"
   ]
  },
  {
   "attachments": {},
   "cell_type": "markdown",
   "metadata": {},
   "source": [
    "# Plot current function"
   ]
  },
  {
   "cell_type": "code",
   "execution_count": null,
   "metadata": {},
   "outputs": [],
   "source": [
    "def plot_current():\n",
    "    fig, axs = plot.figax_double(height=7, nrows=2,  ncols=2, hspace=0.35, bottom=0.1)\n",
    "\n",
    "    xx = sepa/PC\n",
    "    YR_LABEL_PAD = -4\n",
    "    colors = ['tab:green', 'tab:blue', 'tab:orange']\n",
    "\n",
    "    # ------------------------   Ax Row 0   ----------------------------\n",
    "    ax = axs[0,0]\n",
    "    ax1 = axs[0,1]\n",
    "\n",
    "    ax.set_title(f'Mass Range: {mtot_range/MSOL}')\n",
    "    ax1.set_title(f\"Mass Range: {mtot_hirng/MSOL}\")\n",
    "    ax1.sharex(ax)\n",
    "    ax1.sharey(ax)\n",
    "\n",
    "    for axis in [ax, ax1]:\n",
    "        axis.set(xlabel=plot.LABEL_SEPARATION_PC, ylabel=plot.LABEL_HARDENING_TIME, xscale='log', yscale='log')\n",
    "    axis.invert_xaxis()\n",
    "\n",
    "        # axis.axhline(times_list[1], color='k', alpha=0.65)\n",
    "        # axis.axhline(times_list[0], color='k', ls='--', alpha=0.25)\n",
    "\n",
    "\n",
    "    labels = []\n",
    "    handles = []\n",
    "    for ii, tau in enumerate(taus):\n",
    "        print(ii)\n",
    "        yy = tau / GYR\n",
    "        hh = plot.draw_med_conf_color(ax, xx, yy, fracs=[0.5], filter=True, color=colors[ii])\n",
    "        # colors.append(hh[0].get_color())\n",
    "        handles.append(hh[0])\n",
    "        labels.append(f\"${target_param_list[ii]:.1f}$\")\n",
    "\n",
    "        y1 = taus_high[ii]/GYR   \n",
    "        plot.draw_med_conf_color(ax1, xx, y1, fracs=[0.5], filter=True, color=colors[ii])\n",
    "\n",
    "\n",
    "\n",
    "    leg = ax.legend(handles, labels, loc='lower left', \n",
    "                    ncol=len(handles), title=target_param, title_fontsize=14)\n",
    "\n",
    "    # ----------------------------- Ax Row 1 --------------------------------\n",
    "\n",
    "    ax = axs[1,0]\n",
    "    ax1 = axs[1,1]\n",
    "\n",
    "    ax1.sharex(ax)\n",
    "    ax1.sharey(ax)\n",
    "\n",
    "    for axis in [ax, ax1]:\n",
    "        axis.set(xlabel=plot.LABEL_GW_FREQUENCY_NHZ, ylabel=plot.LABEL_CHARACTERISTIC_STRAIN, xscale='log', yscale='log')\n",
    "\n",
    "    xx = fobs_gw_cents*1e9 # nHz\n",
    "\n",
    "    labels=[]\n",
    "    handles=[]\n",
    "    # colors = []\n",
    "\n",
    "    for ii, yy in enumerate(hcbg):\n",
    "        # yy = np.median(yy, axis=-1)\n",
    "        hh = plot.draw_med_conf_color(ax, xx, yy, fracs=[0.5], filter=False, color=colors[ii])\n",
    "        # colors.append(hh[0].get_color())\n",
    "        ss = hcss[ii]\n",
    "        for rr in range(len(ss[0])):\n",
    "            ax.scatter(xx, ss[:,rr,0], color = colors[ii], alpha=0.5, s=5) # only single include loudest of each realization\n",
    "\n",
    "    return fig"
   ]
  },
  {
   "attachments": {},
   "cell_type": "markdown",
   "metadata": {},
   "source": [
    "# hard_time"
   ]
  },
  {
   "cell_type": "code",
   "execution_count": null,
   "metadata": {},
   "outputs": [],
   "source": [
    "target_param='hard_time'\n",
    "nsteps=20\n",
    "\n",
    "npz = np.load('/Users/emigardiner/GWs/holodeck/ecg-notebooks/parameter_investigation/anatomy_uniform09A_fullshape/%s_p0.5_0.5_0.5_0.5_0.5_0.5_s91_81_101.npz'\n",
    "              % target_param, allow_pickle=True)      \n",
    "params = npz['params']\n",
    "npz.close()\n",
    "if RECONSTRUCT_FLAG:\n",
    "    construct_evolution(target_param=target_param, params=params, NSTEPS=nsteps)"
   ]
  },
  {
   "attachments": {},
   "cell_type": "markdown",
   "metadata": {},
   "source": [
    "## load hard time results"
   ]
  },
  {
   "cell_type": "code",
   "execution_count": null,
   "metadata": {},
   "outputs": [],
   "source": [
    "target_param='hard_time'\n",
    "fileloc = '/Users/emigardiner/GWs/holodeck/ecg-notebooks/parameter_investigation/anatomy_uniform09A_fullshape'\n",
    "filename = fileloc+'/evol_%s_%dsteps.npz' % (target_param, nsteps)\n",
    "file = np.load(filename)\n",
    "taus=file['taus']\n",
    "taus_high=file['taus_high'] \n",
    "target_param_list=file['target_param_list']\n",
    "hcss=file['hcss']\n",
    "hcbg=file['hcbg']\n",
    "nsteps=file['nsteps']\n",
    "sepa=file['sepa']\n",
    "mtot_range=file['mtot_range'] \n",
    "mtot_hirng=file['mtot_hirng']\n",
    "mrat_range=file['mrat_range']\n",
    "redz_range=file['redz_range']\n",
    "file.close()"
   ]
  },
  {
   "attachments": {},
   "cell_type": "markdown",
   "metadata": {},
   "source": [
    "## Plot Results"
   ]
  },
  {
   "cell_type": "code",
   "execution_count": null,
   "metadata": {},
   "outputs": [],
   "source": [
    "fig = plot_current()"
   ]
  },
  {
   "cell_type": "markdown",
   "metadata": {},
   "source": []
  },
  {
   "attachments": {},
   "cell_type": "markdown",
   "metadata": {},
   "source": [
    "# gamma_inner"
   ]
  },
  {
   "cell_type": "code",
   "execution_count": null,
   "metadata": {},
   "outputs": [],
   "source": [
    "target_param = 'hard_gamma_inner'\n",
    "nsteps = 20\n",
    "npz = np.load('/Users/emigardiner/GWs/holodeck/ecg-notebooks/parameter_investigation/anatomy_uniform09A_fullshape/%s_p0.5_0.5_0.5_0.5_0.5_0.5_s91_81_101.npz'\n",
    "              % target_param,\n",
    "                        allow_pickle=True)       \n",
    "params = npz['params']\n",
    "npz.close()\n",
    "\n",
    "if False: #RECONSTRUCT_FLAG:\n",
    "    NSTEPS = 20\n",
    "    construct_evolution(target_param, params, nsteps)"
   ]
  },
  {
   "attachments": {},
   "cell_type": "markdown",
   "metadata": {},
   "source": [
    "## load gamma_inner results"
   ]
  },
  {
   "cell_type": "code",
   "execution_count": null,
   "metadata": {},
   "outputs": [],
   "source": [
    "fileloc = '/Users/emigardiner/GWs/holodeck/ecg-notebooks/parameter_investigation/anatomy_uniform09A_fullshape/'\n",
    "filename = fileloc+'evol_%s_%dsteps.npz' % (target_param, nsteps)\n",
    "file = np.load(filename)\n",
    "taus=file['taus']\n",
    "taus_high=file['taus_high'] \n",
    "target_param_list=file['target_param_list']\n",
    "hcss=file['hcss']\n",
    "hcbg=file['hcbg']\n",
    "nsteps=file['nsteps']\n",
    "sepa=file['sepa']\n",
    "mtot_range=file['mtot_range'] \n",
    "mtot_hirng=file['mtot_hirng']\n",
    "mrat_range=file['mrat_range']\n",
    "redz_range=file['redz_range']\n",
    "file.close()"
   ]
  },
  {
   "attachments": {},
   "cell_type": "markdown",
   "metadata": {},
   "source": [
    "## plot results"
   ]
  },
  {
   "cell_type": "code",
   "execution_count": null,
   "metadata": {},
   "outputs": [],
   "source": [
    "fig = plot_current()"
   ]
  },
  {
   "attachments": {},
   "cell_type": "markdown",
   "metadata": {},
   "source": [
    "# mmb_mamp_log10"
   ]
  },
  {
   "cell_type": "code",
   "execution_count": null,
   "metadata": {},
   "outputs": [],
   "source": [
    "target_param = 'mmb_mamp_log10'\n",
    "nsteps = 20\n",
    "npz = np.load('/Users/emigardiner/GWs/holodeck/ecg-notebooks/parameter_investigation/anatomy_uniform09A_fullshape/%s_p0.5_0.5_0.5_0.5_0.5_0.5_s91_81_101.npz'\n",
    "              % target_param,\n",
    "                        allow_pickle=True)       \n",
    "params = npz['params']\n",
    "npz.close()\n",
    "if RECONSTRUCT_FLAG:\n",
    "    construct_evolution(target_param=target_param, params=params, NSTEPS=nsteps)"
   ]
  },
  {
   "attachments": {},
   "cell_type": "markdown",
   "metadata": {},
   "source": [
    "## load mmb_mamp_log10 results"
   ]
  },
  {
   "cell_type": "code",
   "execution_count": null,
   "metadata": {},
   "outputs": [],
   "source": [
    "fileloc = '/Users/emigardiner/GWs/holodeck/ecg-notebooks/parameter_investigation/anatomy_uniform09A_fullshape'\n",
    "filename = fileloc+'/evol_%s_%dsteps.npz' % (target_param, nsteps)\n",
    "file = np.load(filename)\n",
    "taus=file['taus']\n",
    "taus_high=file['taus_high'] \n",
    "target_param_list=file['target_param_list']\n",
    "hcss=file['hcss']\n",
    "hcbg=file['hcbg']\n",
    "nsteps=file['nsteps']\n",
    "sepa=file['sepa']\n",
    "mtot_range=file['mtot_range'] \n",
    "mtot_hirng=file['mtot_hirng']\n",
    "mrat_range=file['mrat_range']\n",
    "redz_range=file['redz_range']\n",
    "file.close()"
   ]
  },
  {
   "cell_type": "markdown",
   "metadata": {},
   "source": [
    "## plot results"
   ]
  },
  {
   "cell_type": "code",
   "execution_count": null,
   "metadata": {},
   "outputs": [],
   "source": [
    "fig = plot_current()"
   ]
  },
  {
   "attachments": {},
   "cell_type": "markdown",
   "metadata": {},
   "source": [
    "# mmb_scatter_dex"
   ]
  },
  {
   "cell_type": "code",
   "execution_count": null,
   "metadata": {},
   "outputs": [],
   "source": [
    "target_param = 'mmb_scatter_dex'\n",
    "nsteps=20\n",
    "npz = np.load('/Users/emigardiner/GWs/holodeck/ecg-notebooks/parameter_investigation/anatomy_uniform09A_fullshape/%s_p0.5_0.5_0.5_0.5_0.5_0.5_s91_81_101.npz'\n",
    "              % target_param, allow_pickle=True)       \n",
    "params = npz['params']\n",
    "npz.close()\n",
    "if RECONSTRUCT_FLAG:\n",
    "    construct_evolution(target_param, params, nsteps)"
   ]
  },
  {
   "attachments": {},
   "cell_type": "markdown",
   "metadata": {},
   "source": [
    "## load mmb_scatter_dex results"
   ]
  },
  {
   "cell_type": "code",
   "execution_count": null,
   "metadata": {},
   "outputs": [],
   "source": [
    "fileloc = '/Users/emigardiner/GWs/holodeck/ecg-notebooks/parameter_investigation/anatomy_uniform09A_fullshape'\n",
    "filename = fileloc+'/evol_%s_%dsteps.npz' % (target_param, nsteps)\n",
    "file = np.load(filename)\n",
    "taus=file['taus']\n",
    "taus_high=file['taus_high'] \n",
    "target_param_list=file['target_param_list']\n",
    "hcss=file['hcss']\n",
    "hcbg=file['hcbg']\n",
    "nsteps=file['nsteps']\n",
    "sepa=file['sepa']\n",
    "mtot_range=file['mtot_range'] \n",
    "mtot_hirng=file['mtot_hirng']\n",
    "mrat_range=file['mrat_range']\n",
    "redz_range=file['redz_range']\n",
    "file.close()"
   ]
  },
  {
   "attachments": {},
   "cell_type": "markdown",
   "metadata": {},
   "source": [
    "## plot results"
   ]
  },
  {
   "cell_type": "code",
   "execution_count": null,
   "metadata": {},
   "outputs": [],
   "source": [
    "fig = plot_current()"
   ]
  },
  {
   "attachments": {},
   "cell_type": "markdown",
   "metadata": {},
   "source": [
    "# gsmf_phi0"
   ]
  },
  {
   "cell_type": "code",
   "execution_count": null,
   "metadata": {},
   "outputs": [],
   "source": [
    "target_param = 'gsmf_phi0'\n",
    "nsteps = 20\n",
    "npz = np.load('/Users/emigardiner/GWs/holodeck/ecg-notebooks/parameter_investigation/anatomy_uniform09A_fullshape/%s_p0.5_0.5_0.5_0.5_0.5_0.5_s91_81_101.npz'\n",
    "              % target_param,\n",
    "                        allow_pickle=True)       \n",
    "params = npz['params']\n",
    "npz.close()\n",
    "if RECONSTRUCT_FLAG:\n",
    "    construct_evolution(target_param=target_param, params=params, NSTEPS=nsteps)"
   ]
  },
  {
   "attachments": {},
   "cell_type": "markdown",
   "metadata": {},
   "source": [
    "## load gsmf_phi0 results"
   ]
  },
  {
   "cell_type": "code",
   "execution_count": null,
   "metadata": {},
   "outputs": [],
   "source": [
    "fileloc = '/Users/emigardiner/GWs/holodeck/ecg-notebooks/parameter_investigation/anatomy_uniform09A_fullshape'\n",
    "filename = fileloc+'/evol_%s_%dsteps.npz' % (target_param, nsteps)\n",
    "file = np.load(filename)\n",
    "taus=file['taus']\n",
    "taus_high=file['taus_high'] \n",
    "target_param_list=file['target_param_list']\n",
    "hcss=file['hcss']\n",
    "hcbg=file['hcbg']\n",
    "nsteps=file['nsteps']\n",
    "sepa=file['sepa']\n",
    "mtot_range=file['mtot_range'] \n",
    "mtot_hirng=file['mtot_hirng']\n",
    "mrat_range=file['mrat_range']\n",
    "redz_range=file['redz_range']\n",
    "file.close()"
   ]
  },
  {
   "cell_type": "markdown",
   "metadata": {},
   "source": [
    "## plot results"
   ]
  },
  {
   "cell_type": "code",
   "execution_count": null,
   "metadata": {},
   "outputs": [],
   "source": [
    "fig = plot_current()"
   ]
  },
  {
   "attachments": {},
   "cell_type": "markdown",
   "metadata": {},
   "source": [
    "# gsmf_mchar0_log10"
   ]
  },
  {
   "cell_type": "code",
   "execution_count": null,
   "metadata": {},
   "outputs": [],
   "source": [
    "target_param = 'gsmf_mchar0_log10'\n",
    "nsteps = 20\n",
    "npz = np.load('/Users/emigardiner/GWs/holodeck/ecg-notebooks/parameter_investigation/anatomy_uniform09A_fullshape/%s_p0.5_0.5_0.5_0.5_0.5_0.5_s91_81_101.npz'\n",
    "              % target_param, allow_pickle=True)       \n",
    "params = npz['params']\n",
    "npz.close()\n",
    "if RECONSTRUCT_FLAG:\n",
    "    construct_evolution(target_param=target_param, params=params, NSTEPS=nsteps)"
   ]
  },
  {
   "cell_type": "markdown",
   "metadata": {},
   "source": [
    "## load gsmf_phi0 results"
   ]
  },
  {
   "cell_type": "code",
   "execution_count": null,
   "metadata": {},
   "outputs": [],
   "source": [
    "fileloc = '/Users/emigardiner/GWs/holodeck/ecg-notebooks/parameter_investigation/anatomy_uniform09A_fullshape'\n",
    "filename = fileloc+'/evol_%s_%dsteps.npz' % (target_param, nsteps)\n",
    "file = np.load(filename)\n",
    "taus=file['taus']\n",
    "taus_high=file['taus_high'] \n",
    "target_param_list=file['target_param_list']\n",
    "hcss=file['hcss']\n",
    "hcbg=file['hcbg']\n",
    "nsteps=file['nsteps']\n",
    "sepa=file['sepa']\n",
    "mtot_range=file['mtot_range'] \n",
    "mtot_hirng=file['mtot_hirng']\n",
    "mrat_range=file['mrat_range']\n",
    "redz_range=file['redz_range']\n",
    "file.close()"
   ]
  },
  {
   "cell_type": "markdown",
   "metadata": {},
   "source": [
    "## plot results"
   ]
  },
  {
   "cell_type": "code",
   "execution_count": null,
   "metadata": {},
   "outputs": [],
   "source": [
    "fig = plot_current()"
   ]
  },
  {
   "cell_type": "markdown",
   "metadata": {},
   "source": []
  }
 ],
 "metadata": {
  "kernelspec": {
   "display_name": "holo310",
   "language": "python",
   "name": "python3"
  },
  "language_info": {
   "codemirror_mode": {
    "name": "ipython",
    "version": 3
   },
   "file_extension": ".py",
   "mimetype": "text/x-python",
   "name": "python",
   "nbconvert_exporter": "python",
   "pygments_lexer": "ipython3",
   "version": "3.1.-1"
  }
 },
 "nbformat": 4,
 "nbformat_minor": 2
}
