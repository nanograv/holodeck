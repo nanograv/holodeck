{
 "cells": [
  {
   "cell_type": "code",
   "execution_count": null,
   "metadata": {},
   "outputs": [],
   "source": [
    "%reload_ext autoreload\n",
    "%autoreload 2\n",
    "from importlib import reload\n",
    "\n",
    "import numpy as np\n",
    "import matplotlib.pyplot as plt\n",
    "import matplotlib.cm as cm\n",
    "import h5py\n",
    "import tqdm\n",
    "\n",
    "\n",
    "from holodeck import plot, detstats\n",
    "import holodeck.single_sources as sings\n",
    "from holodeck.constants import YR, MSOL, MPC, GYR, PC\n",
    "import holodeck as holo\n",
    "from holodeck.sams import sam\n",
    "\n",
    "import hasasia.sim as hsim\n",
    "\n",
    "import sys\n",
    "sys.path.append('/Users/emigardiner/GWs/holodeck/ecg-notebooks/parameter_investigation')\n",
    "import anatomy as anat"
   ]
  },
  {
   "attachments": {},
   "cell_type": "markdown",
   "metadata": {},
   "source": [
    "# Load Data"
   ]
  },
  {
   "cell_type": "code",
   "execution_count": null,
   "metadata": {},
   "outputs": [],
   "source": [
    "# use one file to get the shape\n",
    "npz = np.load('/Users/emigardiner/GWs/holodeck/ecg-notebooks/parameter_investigation/anatomy_uniform09A_fullshape/hard_time_p0.5_0.5_0.5_0.5_0.5_0.5_s91_81_101.npz',\n",
    "                        allow_pickle=True)             \n",
    "print(f\"{npz.files=}\")\n",
    "data = npz['data']\n",
    "print(f\"{data[0].keys()=}\")\n",
    "\n",
    "# params = npz['params']\n",
    "# hard_name = npz['hard_name']\n",
    "shape = npz['shape']\n",
    "print(f\"{shape=}\")\n",
    "# target_param = npz['target_param']\n",
    "fobs_gw_cents = npz['data'][0]['fobs_cents']\n",
    "fobs_gw_edges = npz['data'][0]['fobs_edges']\n",
    "\n",
    "npz.close()\n",
    "\n",
    "# get param names\n",
    "pspace = holo.param_spaces.PS_Uniform_09A(holo.log, nsamples=1, sam_shape=shape, seed=None)\n",
    "param_names = pspace.param_names\n",
    "print(f\"{param_names=}\")\n",
    "\n",
    "\n",
    "hc_ss = data[1]['hc_ss']\n",
    "hc_bg = data[1]['hc_bg']\n",
    "bgpar = data[1]['bgpar']\n",
    "sspar = data[1]['sspar']\n",
    "sspar = sings.all_sspars(fobs_gw_cents=fobs_gw_cents, sspar=sspar)\n",
    "print(f\"{sings.par_names=}\")\n",
    "nfreqs, nreals, nloudest = [*hc_ss.shape]\n",
    "print(f\"{nfreqs=}, {nreals=}, {nloudest=},\")\n",
    "\n",
    "# # set directory path\n",
    "# sam_loc = '/Users/emigardiner/GWs/holodeck/ecg-notebooks/parameter_investigation/anatomy_uniform09A_fullshape/'\n",
    "# save_dir=sam_loc+'/figures'       "
   ]
  },
  {
   "attachments": {},
   "cell_type": "markdown",
   "metadata": {},
   "source": [
    "# Dev"
   ]
  },
  {
   "cell_type": "code",
   "execution_count": null,
   "metadata": {},
   "outputs": [],
   "source": [
    "mtot = bgpar[0].flatten()/MSOL\n",
    "dcom = bgpar[np.where(sings.par_names=='dcom_final')].flatten()/MPC\n",
    "\n",
    "nbins=30\n",
    "mt_edges = np.logspace(np.log10(np.nanmin(mtot)), np.log10(np.nanmax(mtot)), nbins)\n",
    "print(np.min(mtot), np.max(mtot))\n",
    "print(mt_edges)\n",
    "dc_edges = np.logspace(np.log10(np.min(dcom)), np.log10(np.max(dcom)), nbins)\n",
    "hist, mtbins, dcbins = np.histogram2d(mtot, dcom, bins=(mt_edges, dc_edges))\n",
    "\n",
    "MT, DC = np.meshgrid(mtbins, dcbins)\n",
    "\n",
    "fig, ax = plot.figax(xlabel=sings.par_labels[0],\n",
    "                     ylabel=sings.par_labels[4])\n",
    "ax.pcolormesh(MT, DC, hist)\n",
    "fig.tight_layout()"
   ]
  },
  {
   "attachments": {},
   "cell_type": "markdown",
   "metadata": {},
   "source": [
    "# Plotting function"
   ]
  },
  {
   "cell_type": "code",
   "execution_count": null,
   "metadata": {},
   "outputs": [],
   "source": [
    "def _append_freqs_to_pars(data=data[1], debug=False, short_labels=True):\n",
    "    hc_ss=data['hc_ss']\n",
    "    hc_bg=data['hc_bg']\n",
    "\n",
    "    sspar = data['sspar']\n",
    "    sspar = sings.all_sspars(fobs_gw_cents, sspar)\n",
    "    # sspar[sspar<0]=0\n",
    "    bgpar = data['bgpar']\n",
    "\n",
    "\n",
    "    # Add frequency to pars\n",
    "    _freqs = np.repeat(fobs_gw_cents, hc_ss[0].size).reshape(hc_ss.shape)\n",
    "    sspar = np.append(sspar, _freqs).reshape([8,]+[*sspar.shape[1:]])\n",
    "    _freqs = np.repeat(fobs_gw_cents, hc_bg[0].size).reshape(hc_bg.shape)\n",
    "    bgpar = np.append(bgpar, _freqs).reshape([8,]+[*bgpar.shape[1:]])\n",
    "\n",
    "    par_names = np.append(sings.par_names, 'freqs')\n",
    "    par_units = np.append(sings.par_units, YR)\n",
    "    par_labels = np.append(sings.par_labels, 'GW Frequency $f_\\mathrm{obs}\\ \\mathrm{yr}^{-1}$')\n",
    "\n",
    "    if short_labels:\n",
    "        par_labels[4] = '$d_\\mathrm{com}$ (Mpc)'\n",
    "        par_labels[7] =  'GW$ f_\\mathrm{obs}$ (nHz)'\n",
    "\n",
    "    if debug: print(f\"{par_names=}\\n{par_units=}\\n{par_labels=}\")\n",
    "\n",
    "    pardat= dict(sspar=sspar, bgpar=bgpar, par_names=par_names, par_units=par_units, par_labels=par_labels)\n",
    "\n",
    "    return pardat"
   ]
  },
  {
   "cell_type": "code",
   "execution_count": null,
   "metadata": {},
   "outputs": [],
   "source": [
    "print(sspar.shape)"
   ]
  },
  {
   "attachments": {},
   "cell_type": "markdown",
   "metadata": {},
   "source": [
    "# Get Edges"
   ]
  },
  {
   "cell_type": "code",
   "execution_count": null,
   "metadata": {},
   "outputs": [],
   "source": [
    "mtot_edges = holo.sams.Semi_Analytic_Model().mtot /MSOL\n",
    "freq_edges = fobs_gw_edges*10**9\n",
    "print(freq_edges)\n",
    "\n",
    "dcom_min = np.min([np.nanmin(bgpar[4]), np.nanmin(sspar[4])])\n",
    "dcom_max = np.max([np.nanmax(bgpar[4]), np.nanmax(sspar[4])])\n",
    "print(f\"{dcom_min/MPC=}, {dcom_max/MPC=}\")\n",
    "dcom_edges = np.geomspace(dcom_min, dcom_max, 30)/MPC"
   ]
  },
  {
   "cell_type": "code",
   "execution_count": null,
   "metadata": {},
   "outputs": [],
   "source": [
    "def draw_2D_hist(ax, xx, yy, xx_edges, yy_edges, cmap='viridis'):\n",
    "    # xx_edges = np.logspace(np.log10(np.nanmin(xx)), np.log10(np.nanmax(xx)), nbins)\n",
    "    # yy_edges = np.logspace(np.log10(np.nanmin(yy)), np.log10(np.nanmax(yy)), nbins)\n",
    "    # print(f\"{holo.utils.stats(yy_edges)=}\")\n",
    "    hist, yy_edges, xx_edges,  = np.histogram2d(yy.flatten(), xx.flatten(), bins = (yy_edges, xx_edges))\n",
    "    # print(f\"{holo.utils.stats(xx_edges)=}, {holo.utils.stats(yy_edges)=}\")\n",
    "\n",
    "    xgrid, ygrid = np.meshgrid(xx_edges, yy_edges)\n",
    "    # print(f\"{holo.utils.stats(xgrid)=}, {holo.utils.stats(ygrid)=}\")\n",
    "    im = ax.pcolormesh(xgrid, ygrid, np.log10(hist), cmap=cmap)\n",
    "    cbar = plt.colorbar(im, ax=ax)\n",
    "\n",
    "def plot_number_densities(data, xx_idx = [0], yy_idx=[4,7], nbins=25, \n",
    "                          ylim0=None, ylim1=None, xlim=None):\n",
    "                        # ylim0=(5*10**1, 5*10**3), ylim1=(5*10**-2, 4E0),\n",
    "                        # xlim = (2*10**7, 10**11)):\n",
    "    \n",
    "    # add frequencies to par arrays\n",
    "    pardat = _append_freqs_to_pars(data)\n",
    "    par_names=pardat['par_names']\n",
    "    par_units=pardat['par_units']\n",
    "    par_labels=pardat['par_labels']\n",
    "    sspar=pardat['sspar']\n",
    "    bgpar=pardat['bgpar']\n",
    "\n",
    "    ncols = 2\n",
    "    nrows = len(yy_idx)\n",
    "\n",
    "    xlabel = par_labels[xx_idx]\n",
    "    ylabel = par_labels[yy_idx]\n",
    "\n",
    "    xx_edges = mtot_edges\n",
    "    yy_edges = [dcom_edges, freq_edges]\n",
    "\n",
    "    fig, axs = plot.figax_double(nrows=nrows, ncols=ncols, \n",
    "                                 sharex=True, figsize=(7,6))\n",
    "    axs[0,0].set_title('$h_c^2$-weighted background', fontsize=10)\n",
    "    axs[0,1].set_title('single sources', fontsize=10)\n",
    "    axs[0,0].set_ylabel(ylabel[0], fontsize=10)\n",
    "    axs[1,0].set_ylabel(ylabel[1], fontsize=10)\n",
    "    if ylim0 is not None: axs[0,0].set_ylim(ylim0)\n",
    "    if ylim1 is not None: axs[1,0].set_ylim(ylim1)\n",
    "    for ii,ax in enumerate(axs[1,:]):\n",
    "        ax.set_xlabel(xlabel[0], fontsize=10)\n",
    "        if xlim is not None: ax.set_xlim(xlim)\n",
    "    for ii,ax in enumerate(axs[:,1]):\n",
    "        ax.sharey(axs[ii,0])\n",
    "\n",
    "    # draw background\n",
    "    xx = (bgpar[xx_idx]*par_units[xx_idx])\n",
    "    for ii, yy in enumerate(bgpar[yy_idx]):\n",
    "        yy = yy*par_units[yy_idx[ii]]\n",
    "        draw_2D_hist(axs[ii,0], xx, yy, xx_edges = xx_edges, yy_edges=yy_edges[ii])\n",
    "\n",
    "    # draw single sources\n",
    "    xx = (sspar[xx_idx]*par_units[xx_idx])\n",
    "    for ii, yy in enumerate(sspar[yy_idx]):\n",
    "        yy = yy*par_units[yy_idx[ii]]\n",
    "        yy[yy<0] = np.min(yy[yy>0]) # patch\n",
    "        draw_2D_hist(axs[ii,1], xx, yy, \n",
    "                     xx_edges = xx_edges, yy_edges=yy_edges[ii], cmap='inferno')\n",
    "\n",
    "    fig.tight_layout()\n",
    "    return fig\n",
    "\n",
    "fig = plot_number_densities(data[1])"
   ]
  },
  {
   "attachments": {},
   "cell_type": "markdown",
   "metadata": {},
   "source": [
    "# Problem with negative final comoving distances and redshifts"
   ]
  },
  {
   "cell_type": "code",
   "execution_count": null,
   "metadata": {},
   "outputs": [],
   "source": [
    "\n",
    "\n",
    "idx = np.where(sings.par_names=='redz_final')\n",
    "print(np.sum(sspar[idx]<0), 'out of %d sources have z_final<0' % sspar[0].size)\n",
    "print((sspar[idx])[sspar[idx]<0])\n",
    "\n",
    "idx = np.where(sings.par_names=='dcom_final')\n",
    "print(np.sum(sspar[idx]<0), 'out of %d sources have dcom_final<0' % sspar[0].size)\n",
    "print((sspar[idx])[sspar[idx]<0]/MPC)"
   ]
  },
  {
   "cell_type": "code",
   "execution_count": null,
   "metadata": {},
   "outputs": [],
   "source": [
    "print(holo.utils.stats(sspar[idx]/MPC))"
   ]
  },
  {
   "cell_type": "code",
   "execution_count": null,
   "metadata": {},
   "outputs": [],
   "source": [
    "idx = np.where(sings.par_names=='mtot')\n",
    "print(np.sum(sspar[idx]<0), 'out of %d sources have mtot<0' % sspar[0].size)\n",
    "print((sspar[idx])[sspar[idx]<0]/MPC)"
   ]
  },
  {
   "attachments": {},
   "cell_type": "markdown",
   "metadata": {},
   "source": [
    "# Plots"
   ]
  },
  {
   "attachments": {},
   "cell_type": "markdown",
   "metadata": {},
   "source": [
    "# hard_time"
   ]
  },
  {
   "cell_type": "code",
   "execution_count": null,
   "metadata": {},
   "outputs": [],
   "source": [
    "TARGET='hard_time'\n",
    "npz = np.load('/Users/emigardiner/GWs/holodeck/ecg-notebooks/parameter_investigation/anatomy_uniform09A_fullshape/%s_p0.5_0.5_0.5_0.5_0.5_0.5_s91_81_101.npz' \n",
    "              % TARGET, allow_pickle=True)             \n",
    "data = npz['data']\n",
    "params = npz['params']\n",
    "npz.close()\n",
    "\n",
    "\n",
    "for ii in range(len(data)):\n",
    "    plot_mass_freq(data[ii])\n",
    "    fig = plot_number_densities(data[ii])\n",
    "    fig.suptitle('%s = %.2e' % (TARGET, params[ii][TARGET]), fontsize=10)\n",
    "    fig.tight_layout()\n",
    "# # set directory path\n",
    "# sam_loc = '/Users/emigardiner/GWs/holodeck/ecg-notebooks/parameter_investigation/anatomy_uniform09A_fullshape/'\n",
    "# save_dir=sam_loc+'/figures'       "
   ]
  },
  {
   "attachments": {},
   "cell_type": "markdown",
   "metadata": {},
   "source": [
    "# gsmf_phi0"
   ]
  },
  {
   "cell_type": "code",
   "execution_count": null,
   "metadata": {},
   "outputs": [],
   "source": [
    "TARGET='gsmf_phi0'\n",
    "npz = np.load('/Users/emigardiner/GWs/holodeck/ecg-notebooks/parameter_investigation/anatomy_uniform09A_fullshape/%s_p0.5_0.5_0.5_0.5_0.5_0.5_s91_81_101.npz' \n",
    "              % TARGET, allow_pickle=True)             \n",
    "data = npz['data']\n",
    "params = npz['params']\n",
    "npz.close()\n",
    "\n",
    "\n",
    "for ii in range(len(data)):\n",
    "    fig = plot_number_densities(data[ii])\n",
    "    fig.suptitle('%s = %.2e' % (TARGET, params[ii][TARGET]), fontsize=10)\n",
    "    fig.tight_layout()"
   ]
  },
  {
   "attachments": {},
   "cell_type": "markdown",
   "metadata": {},
   "source": [
    "# gsmf_mchar0_log10"
   ]
  },
  {
   "cell_type": "code",
   "execution_count": null,
   "metadata": {},
   "outputs": [],
   "source": [
    "TARGET='gsmf_mchar0_log10'\n",
    "npz = np.load('/Users/emigardiner/GWs/holodeck/ecg-notebooks/parameter_investigation/anatomy_uniform09A_fullshape/%s_p0.5_0.5_0.5_0.5_0.5_0.5_s91_81_101.npz' \n",
    "              % TARGET, allow_pickle=True)             \n",
    "data = npz['data']\n",
    "params = npz['params']\n",
    "npz.close()\n",
    "\n",
    "\n",
    "for ii in range(len(data)):\n",
    "    fig = plot_number_densities(data[ii])\n",
    "    fig.suptitle('%s = %.2e' % (TARGET, params[ii][TARGET]), fontsize=10)\n",
    "    fig.tight_layout()"
   ]
  },
  {
   "attachments": {},
   "cell_type": "markdown",
   "metadata": {},
   "source": [
    "## mmbulge_mamp_log10"
   ]
  },
  {
   "cell_type": "code",
   "execution_count": null,
   "metadata": {},
   "outputs": [],
   "source": [
    "TARGET='mmb_mamp_log10'\n",
    "npz = np.load('/Users/emigardiner/GWs/holodeck/ecg-notebooks/parameter_investigation/anatomy_uniform09A_fullshape/%s_p0.5_0.5_0.5_0.5_0.5_0.5_s91_81_101.npz' \n",
    "              % TARGET, allow_pickle=True)             \n",
    "data = npz['data']\n",
    "params = npz['params']\n",
    "npz.close()\n",
    "\n",
    "\n",
    "for ii in range(len(data)):\n",
    "    fig = plot_number_densities(data[ii])\n",
    "    fig.suptitle('%s = %.2e' % (TARGET, params[ii][TARGET]), fontsize=10)\n",
    "    fig.tight_layout()"
   ]
  },
  {
   "attachments": {},
   "cell_type": "markdown",
   "metadata": {},
   "source": [
    "# mmb_scatter_dex"
   ]
  },
  {
   "cell_type": "code",
   "execution_count": null,
   "metadata": {},
   "outputs": [],
   "source": [
    "TARGET='mmb_scatter_dex'\n",
    "npz = np.load('/Users/emigardiner/GWs/holodeck/ecg-notebooks/parameter_investigation/anatomy_uniform09A_fullshape/%s_p0.5_0.5_0.5_0.5_0.5_0.5_s91_81_101.npz' \n",
    "              % TARGET, allow_pickle=True)             \n",
    "data = npz['data']\n",
    "params = npz['params']\n",
    "npz.close()\n",
    "\n",
    "\n",
    "for ii in range(len(data)):\n",
    "    fig = plot_number_densities(data[ii])\n",
    "    fig.suptitle('%s = %.2e' % (TARGET, params[ii][TARGET]), fontsize=10)\n",
    "    fig.tight_layout()"
   ]
  },
  {
   "attachments": {},
   "cell_type": "markdown",
   "metadata": {},
   "source": [
    "# hard_gamma_inner"
   ]
  },
  {
   "cell_type": "code",
   "execution_count": null,
   "metadata": {},
   "outputs": [],
   "source": [
    "TARGET='hard_gamma_inner'\n",
    "npz = np.load('/Users/emigardiner/GWs/holodeck/ecg-notebooks/parameter_investigation/anatomy_uniform09A_fullshape/%s_p0.5_0.5_0.5_0.5_0.5_0.5_s91_81_101.npz' \n",
    "              % TARGET, allow_pickle=True)             \n",
    "data = npz['data']\n",
    "params = npz['params']\n",
    "npz.close()\n",
    "\n",
    "\n",
    "for ii in range(len(data)):\n",
    "    fig = plot_number_densities(data[ii])\n",
    "    fig.suptitle('%s = %.2e' % (TARGET, params[ii][TARGET]), fontsize=10)\n",
    "    fig.tight_layout()"
   ]
  },
  {
   "attachments": {},
   "cell_type": "markdown",
   "metadata": {},
   "source": [
    "# Just the Mass vs Frequency"
   ]
  },
  {
   "cell_type": "code",
   "execution_count": null,
   "metadata": {},
   "outputs": [],
   "source": []
  },
  {
   "cell_type": "code",
   "execution_count": null,
   "metadata": {},
   "outputs": [],
   "source": [
    "TARGET='hard_time'\n",
    "npz = np.load('/Users/emigardiner/GWs/holodeck/ecg-notebooks/parameter_investigation/anatomy_uniform09A_fullshape/%s_p0.5_0.5_0.5_0.5_0.5_0.5_s91_81_101.npz' \n",
    "              % TARGET, allow_pickle=True)             \n",
    "data = npz['data']\n",
    "params = npz['params']\n",
    "npz.close()\n",
    "\n",
    "def plot_mass_freq(data=data[1]):\n",
    "    # get edges\n",
    "    ff_edges=data['fobs_edges']/10**9\n",
    "    mt_edges=holo.sams.Semi_Analytic_Model().mtot /MSOL\n",
    "\n",
    "    # get masses and frequencies\n",
    "    sspar = data['sspar']\n",
    "    bgpar = data['bgpar']\n",
    "    sspar = sings.all_sspars(fobs_gw_cents, sspar)\n",
    "    print(np.sum(sspar[3]<0))\n",
    "\n",
    "    ssmtt = sspar[0,...].flatten()/MSOL\n",
    "    ssfrq = np.repeat(fobs_gw_cents, nreals*nloudest)/10**9\n",
    "\n",
    "    bgmtt = bgpar[0,...].flatten()/MSOL\n",
    "    bgfrq = np.repeat(fobs_gw_cents, nreals)/10**9\n",
    "\n",
    "    # calculate histograms\n",
    "    hist_ss, ffe, mte, = np.histogram2d(ssfrq, ssmtt, bins=(ff_edges, mt_edges))\n",
    "    hist_bg, ffe, mte, = np.histogram2d(bgfrq, bgmtt, bins=(ff_edges, mt_edges))\n",
    "\n",
    "    # plot\n",
    "    fig, axs = plot.figax(ncols=2, xlabel='$M$ [M$_\\odot$]', ylabel = '$f$ [nHz]', figsize=(8,4))\n",
    "    mtgrid, ffgrid = np.meshgrid(mte, ffe)\n",
    "\n",
    "    ax = axs[0]\n",
    "    ax.set_title('$h_c^2$-weighted Background')\n",
    "    im = ax.pcolormesh(mtgrid, ffgrid, np.log10(hist_bg), cmap='viridis')\n",
    "    cbar = plt.colorbar(im, ax=ax, label='$\\log N$', orientation='horizontal', pad=0.2)\n",
    "\n",
    "    ax = axs[1]\n",
    "    ax.set_title('Single Sources')\n",
    "    ax.set_ylabel(None)\n",
    "    im = ax.pcolormesh(mtgrid, ffgrid, np.log10(hist_ss), cmap='inferno')\n",
    "    cbar = plt.colorbar(im, ax=ax, label='$\\log N$', orientation='horizontal', pad=0.2)\n",
    "\n",
    "plot_mass_freq(data[1])\n",
    "\n",
    "# if best is None:\n",
    "#     fig.suptitle(lib_name)\n",
    "# else:\n",
    "#     fig.suptitle(\n",
    "#         'sample %d:, $t_\\mathrm{hard}$=%.1fGyr, $\\gamma_\\mathrm{inner}$=%.1f, $\\Phi_0$=%.1f, '\n",
    "#         % (best, sample_params[best,0], sample_params[best,-1], sample_params[best,1], ) \n",
    "#         + '$\\log M_\\mathrm{char,0}={%.1f}$, $\\log \\mu_\\mathrm{MMB}=%.1f$, $\\sigma_\\mathrm{MMB,dex}$=%.1f' \n",
    "#         % (sample_params[best,2], sample_params[best,3], sample_params[best,4]))\n",
    "#     fig.tight_layout()"
   ]
  },
  {
   "cell_type": "code",
   "execution_count": null,
   "metadata": {},
   "outputs": [],
   "source": []
  }
 ],
 "metadata": {
  "kernelspec": {
   "display_name": "holo310",
   "language": "python",
   "name": "python3"
  },
  "language_info": {
   "codemirror_mode": {
    "name": "ipython",
    "version": 3
   },
   "file_extension": ".py",
   "mimetype": "text/x-python",
   "name": "python",
   "nbconvert_exporter": "python",
   "pygments_lexer": "ipython3",
   "version": "3.1.-1"
  }
 },
 "nbformat": 4,
 "nbformat_minor": 2
}
