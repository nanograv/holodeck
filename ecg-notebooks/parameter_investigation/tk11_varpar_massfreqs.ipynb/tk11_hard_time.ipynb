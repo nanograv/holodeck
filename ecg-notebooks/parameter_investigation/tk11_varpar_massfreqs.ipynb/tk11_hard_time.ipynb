{
 "cells": [
  {
   "cell_type": "code",
   "execution_count": null,
   "metadata": {},
   "outputs": [],
   "source": [
    "%reload_ext autoreload\n",
    "%autoreload 2\n",
    "from importlib import reload\n",
    "\n",
    "import numpy as np\n",
    "import matplotlib.pyplot as plt\n",
    "import matplotlib.cm as cm\n",
    "import h5py\n",
    "import matplotlib as mpl\n",
    "import os\n",
    "\n",
    "from holodeck import plot, detstats\n",
    "import holodeck.single_sources as sings\n",
    "from holodeck.constants import YR, MSOL, MPC\n",
    "import holodeck as holo\n",
    "\n",
    "import hasasia.sim as hsim\n"
   ]
  },
  {
   "cell_type": "code",
   "execution_count": null,
   "metadata": {},
   "outputs": [],
   "source": [
    "TARGET = 'hard_time' # EDIT AS NEEDED\n",
    "TITLE = '$\\\\tau_\\mathrm{hard}$'   # EDIT AS NEEDED\n",
    "NVARS = 21"
   ]
  },
  {
   "cell_type": "code",
   "execution_count": null,
   "metadata": {},
   "outputs": [],
   "source": [
    "path = '/Users/emigardiner/GWs/holodeck/ecg-notebooks/parameter_investigation/anatomy_09B'\n",
    "load_data_from_file = path+f'/{TARGET}_{NVARS}vars_clbrt_reals.npz' \n",
    "\n",
    "if os.path.exists(load_data_from_file) is False:\n",
    "    err = 'load data file does not exist, you need to construct it.'\n",
    "    raise Exception(err)\n",
    "print(load_data_from_file)\n",
    "# print(save_data_to_file)"
   ]
  },
  {
   "attachments": {},
   "cell_type": "markdown",
   "metadata": {},
   "source": [
    "# Load Data from File"
   ]
  },
  {
   "cell_type": "code",
   "execution_count": null,
   "metadata": {},
   "outputs": [],
   "source": [
    "file = np.load(load_data_from_file, allow_pickle=True)\n",
    "print(file.files)\n",
    "data = file['data']\n",
    "params = file['params']\n",
    "dsdat = file['dsdat']\n",
    "file.close()"
   ]
  },
  {
   "attachments": {},
   "cell_type": "markdown",
   "metadata": {},
   "source": [
    "# Get Shapes, Edges, Frequency Info"
   ]
  },
  {
   "cell_type": "code",
   "execution_count": null,
   "metadata": {},
   "outputs": [],
   "source": [
    "nfreqs, nreals, nloudest = [*data[0]['hc_ss'].shape]\n",
    "fobs_cents = data[0]['fobs_cents']"
   ]
  },
  {
   "cell_type": "code",
   "execution_count": null,
   "metadata": {},
   "outputs": [],
   "source": [
    "# mass edges\n",
    "sam = holo.sams.Semi_Analytic_Model()\n",
    "mm_edges = sam.mtot/MSOL\n",
    "\n",
    "# frequency bin edges\n",
    "ff_edges = data[0]['fobs_edges']/10**9\n",
    "\n",
    "# get frequencies\n",
    "ssfrq = np.repeat(fobs_cents, nreals*nloudest)/10**9 # nHz\n",
    "bgfrq = np.repeat(fobs_cents, nreals)/10**9 # nHz"
   ]
  },
  {
   "cell_type": "code",
   "execution_count": null,
   "metadata": {},
   "outputs": [],
   "source": [
    "print(np.log10(28))"
   ]
  },
  {
   "attachments": {},
   "cell_type": "markdown",
   "metadata": {},
   "source": [
    "# Plot Mass vs Frequency"
   ]
  },
  {
   "cell_type": "code",
   "execution_count": null,
   "metadata": {},
   "outputs": [],
   "source": [
    "saveloc = '/Users/emigardiner/GWs/holodeck/output/figures/params/mass_vs_freq_hard_time_21vars'\n",
    "vmin = 0\n",
    "vmax_bg = 0\n",
    "vmax_ss = 0\n",
    "# find maxes\n",
    "for ii, dat in enumerate(data):\n",
    "    parm = params[ii]\n",
    "    # get masses\n",
    "    ssmtt = dat['sspar'][0].flatten() /MSOL # msol\n",
    "    bgmtt = dat['bgpar'][0].flatten() /MSOL # msol\n",
    "\n",
    "    # get histograms\n",
    "    hist_ss, mme, ffe = np.histogram2d(ssmtt, ssfrq, bins=(mm_edges, ff_edges))\n",
    "    hist_bg, mme, ffe = np.histogram2d(bgmtt, bgfrq, bins=(mm_edges, ff_edges))\n",
    "\n",
    "    print(f\"{np.max(hist_ss)=}, {np.max(hist_bg)=}\")\n",
    "    if np.max(np.log10(hist_ss)) > vmax_ss:\n",
    "        vmax_ss = np.max(np.log10(hist_ss))\n",
    "    if np.max(np.log10(hist_bg)) > vmax_bg:\n",
    "        vmax_bg = np.max(np.log10(hist_bg))\n",
    "\n",
    "# plot\n",
    "for ii, dat in enumerate(data):\n",
    "    parm = params[ii]\n",
    "    # get masses\n",
    "    ssmtt = dat['sspar'][0].flatten() /MSOL # msol\n",
    "    bgmtt = dat['bgpar'][0].flatten() /MSOL # msol\n",
    "\n",
    "    # get histograms\n",
    "    hist_ss, mme, ffe = np.histogram2d(ssmtt, ssfrq, bins=(mm_edges, ff_edges))\n",
    "    hist_bg, mme, ffe = np.histogram2d(bgmtt, bgfrq, bins=(mm_edges, ff_edges))\n",
    "\n",
    "    fig, axs = plot.figax(ncols=2, ylabel='$M$ [M$_\\odot$]', xlabel = '$f$ [nHz]', figsize=(8,4))\n",
    "    ffgrid, mtgrid, = np.meshgrid(ffe, mme)\n",
    "    # print(f\"{mtgrid.shape=}, {ffgrid.shape=}\")\n",
    "\n",
    "    ax = axs[0]\n",
    "    ax.set_title('$h_c^2$-weighted Background')\n",
    "    ax.set_facecolor('k')\n",
    "    im = ax.pcolormesh(ffgrid, mtgrid, np.log10(hist_bg), cmap='viridis', vmin=vmin, vmax=vmax_ss)\n",
    "    cbar = plt.colorbar(im, ax=ax, label='$\\log N$', orientation='horizontal', pad=0.2)\n",
    "\n",
    "    ax = axs[1]\n",
    "    ax.set_title('Single Sources')\n",
    "    ax.set_facecolor('k')\n",
    "    ax.set_ylabel(None)\n",
    "    im = ax.pcolormesh(ffgrid, mtgrid, np.log10(hist_ss), cmap='inferno', vmin=vmin, vmax=vmax_ss)\n",
    "    cbar = plt.colorbar(im, ax=ax, label='$\\log N$', orientation='horizontal', pad=0.2)\n",
    "\n",
    "    fig.suptitle((f\"{TARGET}={parm[TARGET]:.2f}\"))\n",
    "    fig.tight_layout()\n",
    "    fig.savefig(saveloc+f'/hard_time_mvsf_{ii:02d}.png')"
   ]
  },
  {
   "attachments": {},
   "cell_type": "markdown",
   "metadata": {},
   "source": [
    "# Plot Detection Probability for masses"
   ]
  },
  {
   "cell_type": "code",
   "execution_count": null,
   "metadata": {},
   "outputs": [],
   "source": [
    "dat = data[-1]\n",
    "parm = params[-1]\n",
    "dsd = dsdat[-1]\n",
    "\n",
    "ssmtt = dat['sspar'][0]/MSOL\n",
    "ssfrq = np.repeat(fobs_cents, nreals*nloudest).reshape(nfreqs, nreals, nloudest)/10**9\n",
    "\n",
    "\n",
    "# gamma_ssi = dsd['gamma_ssi']\n",
    "gamma_ssi = np.mean(dsd['gamma_ssi'], axis=2)\n",
    "print(gamma_ssi.shape)\n",
    "dp_bg = dsd['dp_bg']\n",
    "print(dp_bg.shape)\n",
    "\n",
    "ratio = gamma_ssi/dp_bg[np.newaxis,:,np.newaxis]\n",
    "print(ratio.shape, ssmtt.shape, ssfrq.shape)"
   ]
  },
  {
   "cell_type": "code",
   "execution_count": null,
   "metadata": {},
   "outputs": [],
   "source": []
  },
  {
   "attachments": {},
   "cell_type": "markdown",
   "metadata": {},
   "source": [
    "## Normalize for detstats"
   ]
  },
  {
   "attachments": {},
   "cell_type": "markdown",
   "metadata": {},
   "source": [
    "Individual detection probability of each single source"
   ]
  },
  {
   "cell_type": "code",
   "execution_count": null,
   "metadata": {},
   "outputs": [],
   "source": [
    "colval = np.log10(ratio)\n",
    "\n",
    "vmin=np.min(colval)\n",
    "# vmax=np.max(colval)\n",
    "vmax=np.max(colval)\n",
    "# vmax=-5\n",
    "norm = mpl.colors.TwoSlopeNorm(vmin=vmin,  vcenter=0, vmax=vmax,)\n",
    "\n",
    "cmap = cm.rainbow\n",
    "fig, ax = plot.figax(xlabel = '$f$ [nHz]', ylabel = '$M$ [M$_\\odot$]')\n",
    "# for ff in range(30,40):\n",
    "#     for rr in range(10):\n",
    "#         for ll in range(5):\n",
    "#             im = ax.scatter(ssfrq[ff,rr,ll], ssmtt[ff,rr,ll], color=cmap(norm(ratio[ff,rr,ll])), alpha=0.5)\n",
    "#             print(ratio[ff,rr,ll], norm(ratio[ff,rr,ll]))\n",
    "# im = ax.scatter(ssfrq.flatten(), ssmtt.flatten(), color=cmap(norm(colval.flatten())), alpha=0.01)\n",
    "im = ax.pcolormesh(ssfrq, ssmtt, colval)\n",
    "cbar = plt.colorbar(im) #, vmin=vmin, vmax=vmax)"
   ]
  },
  {
   "cell_type": "code",
   "execution_count": null,
   "metadata": {},
   "outputs": [],
   "source": [
    "print(holo.utils.stats(colval))\n",
    "print(vmin, vmax)"
   ]
  },
  {
   "cell_type": "code",
   "execution_count": null,
   "metadata": {},
   "outputs": [],
   "source": [
    "print(norm(ratio.flatten()\n",
    "           ))"
   ]
  },
  {
   "cell_type": "code",
   "execution_count": null,
   "metadata": {},
   "outputs": [],
   "source": []
  }
 ],
 "metadata": {
  "kernelspec": {
   "display_name": "holo310",
   "language": "python",
   "name": "python3"
  },
  "language_info": {
   "codemirror_mode": {
    "name": "ipython",
    "version": 3
   },
   "file_extension": ".py",
   "mimetype": "text/x-python",
   "name": "python",
   "nbconvert_exporter": "python",
   "pygments_lexer": "ipython3",
   "version": "3.1.-1"
  }
 },
 "nbformat": 4,
 "nbformat_minor": 2
}
