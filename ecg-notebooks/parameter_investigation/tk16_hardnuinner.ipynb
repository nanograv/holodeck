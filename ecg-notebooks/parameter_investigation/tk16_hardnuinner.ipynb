{
 "cells": [
  {
   "cell_type": "code",
   "execution_count": null,
   "metadata": {},
   "outputs": [],
   "source": [
    "%reload_ext autoreload\n",
    "%autoreload 2\n",
    "from importlib import reload\n",
    "\n",
    "import numpy as np\n",
    "import matplotlib.pyplot as plt\n",
    "import matplotlib.cm as cm\n",
    "import h5py\n",
    "import matplotlib as mpl\n",
    "from tqdm import tqdm\n",
    "\n",
    "from holodeck import plot, detstats\n",
    "import holodeck.single_sources as sings\n",
    "from holodeck.constants import YR, MSOL, MPC\n",
    "import holodeck as holo\n",
    "\n",
    "import hasasia.sim as hsim\n",
    "import os\n",
    "\n"
   ]
  },
  {
   "cell_type": "code",
   "execution_count": null,
   "metadata": {},
   "outputs": [],
   "source": [
    "SHAPE = None\n",
    "NREALS = 500\n",
    "# NREALS = 20\n",
    "NFREQS = 40\n",
    "NLOUDEST = 10\n",
    "\n",
    "BUILD_ARRAYS = False\n",
    "SAVEFIG = False\n",
    "TOL=0.01\n",
    "MAXBADS=5\n",
    "\n",
    "NVARS = 21\n",
    "# NVARS = 6\n",
    "\n",
    "NPSRS = 40\n",
    "NSKIES = 100\n",
    "# NSKIES = 15\n",
    "\n",
    "PARAM_NAMES = ['gsmf_phi0', 'gsmf_mchar0_log10',\n",
    "               'mmb_mamp_log10', 'mmb_scatter_dex', \n",
    "               'hard_time', 'hard_gamma_inner']"
   ]
  },
  {
   "cell_type": "code",
   "execution_count": null,
   "metadata": {},
   "outputs": [],
   "source": [
    "def get_data(\n",
    "        target, nvars=NVARS, nreals=NREALS, nskies=NSKIES, shape=SHAPE, red_gamma = None, red2white=None,\n",
    "    path = '/Users/emigardiner/GWs/holodeck/output/anatomy_redz'     \n",
    "):\n",
    "\n",
    "    if path == '/Users/emigardiner/GWs/holodeck/output/anatomy_09B':\n",
    "        load_data_from_file = path+f'/{target}_v{nvars}_r{nreals}_s{nskies}_shape{str(shape)}.npz' \n",
    "    else:\n",
    "        load_data_from_file = path+f'/{target}_v{nvars}_r{nreals}_shape{str(shape)}/data_params.npz' \n",
    "\n",
    "    if os.path.exists(load_data_from_file) is False:\n",
    "        err = f\"load data file '{load_data_from_file}' does not exist, you need to construct it.\"\n",
    "        raise Exception(err)\n",
    "    # if os.path.exists(load_dets_from_file) is False:\n",
    "    #     err = f\"load dets file '{load_dets_from_file}' does not exist, you need to construct it.\"\n",
    "    #     raise Exception(err)\n",
    "    file = np.load(load_data_from_file, allow_pickle=True)\n",
    "    data = file['data']\n",
    "    params = file['params']\n",
    "    file.close()\n",
    "\n",
    "    # file = np.load(load_dets_from_file, allow_pickle=True)\n",
    "    # dsdat = file['dsdat']\n",
    "    # file.close()\n",
    "\n",
    "    return data, params"
   ]
  },
  {
   "cell_type": "code",
   "execution_count": null,
   "metadata": {},
   "outputs": [],
   "source": []
  },
  {
   "cell_type": "markdown",
   "metadata": {},
   "source": [
    "# Plot hc_total for all variations"
   ]
  },
  {
   "cell_type": "code",
   "execution_count": null,
   "metadata": {},
   "outputs": [],
   "source": [
    "def plot_char_strains(target, data, params):\n",
    "\n",
    "    colors = cm.rainbow(np.linspace(0,1,NVARS))\n",
    "    xlabel = plot.LABEL_GW_FREQUENCY_YR\n",
    "    ylabel = plot.LABEL_CHARACTERISTIC_STRAIN\n",
    "\n",
    "    xx = data[0]['fobs_cents'] * YR\n",
    "    parvars = []\n",
    "\n",
    "    fig,axs = plot.figax_single(ncols=3, figsize=(12, 4), sharey=True, sharex=True)\n",
    "    fig.text(0.5, 0.02, xlabel, va='center', ha='center')\n",
    "    axs[0].set_ylabel(ylabel)\n",
    "\n",
    "    lw_ss = np.ones(NLOUDEST)\n",
    "    lw_ss[0] = 2\n",
    "\n",
    "    ls_ss = np.repeat('--', NLOUDEST)\n",
    "    ls_ss[0] = '-'\n",
    "\n",
    "    for vv in range(NVARS):\n",
    "        hc_ss = data[vv]['hc_ss']\n",
    "        hc_bg = data[vv]['hc_bg']\n",
    "        hc_tot = np.sqrt(hc_bg**2 + np.sum(hc_ss**2, axis=-1))\n",
    "        parvars.append(params[vv][target])\n",
    "\n",
    "        for ii, yy in enumerate([hc_tot, [], hc_bg]):\n",
    "            axs[ii].plot(np.median(yy, axis=(-1)), color=colors[vv], alpha=0.5, lw=1)\n",
    "            # axs[1].plot(np.median(hc_ss, axis=(-2,-1)), color=colors[vv], alpha=0.5, lw=0.5)\n",
    "            # axs[2].plot(np.median(hc_bg, axis=(-1)), color=colors[vv], alpha=0.5, lw=0.5)\n",
    "        \n",
    "        # plot first loudest\n",
    "        ii=0\n",
    "        axs[1].plot(np.median(hc_ss[...,ii], axis=-1), color=colors[vv], alpha=0.5, lw=lw_ss[ii], ls=ls_ss[ii])\n",
    "\n",
    "        # plot rest of loudest\n",
    "        for ii in range(1, NLOUDEST):\n",
    "            axs[1].plot(np.median(hc_ss[...,ii], axis=-1), color=colors[vv], alpha=0.25, lw=lw_ss[ii], ls=ls_ss[ii])\n",
    "        \n",
    "        \n",
    "    fig.subplots_adjust(wspace=0)\n",
    "    fig.text(0.365, 0.92, 'hc_tot', ha='left', va='top')\n",
    "    fig.text(0.635, 0.92, 'hc_ss', ha='left', va='top')\n",
    "    fig.text(0.9, 0.92, 'hc_bg', ha='left', va='top')\n",
    "\n",
    "    norm = mpl.colors.Normalize(vmin=parvars[0], vmax=parvars[-1])\n",
    "    cax = fig.add_axes([0.25,-0.04,0.5,0.02])\n",
    "    # cmap = mpl.colors.LinearSegmentedColormap.from_list(parvars, colors)\n",
    "    cb = mpl.colorbar.ColorbarBase(cax, cmap=mpl.cm.rainbow, norm=norm, orientation='horizontal', \n",
    "                                label=plot.PARAM_KEYS[target])\n",
    "    # fig.suptitle(target)\n",
    "    # im = axs[2].scatter([], [], [], cmap=cmap)\n",
    "    # plt.colorbar(im, ax=axs[2], cmap=colors)\n",
    "    return fig\n"
   ]
  },
  {
   "cell_type": "code",
   "execution_count": null,
   "metadata": {},
   "outputs": [],
   "source": [
    "def plot_masses(target, data, params):\n",
    "\n",
    "    colors = cm.rainbow(np.linspace(0,1,NVARS))\n",
    "    xlabel = plot.LABEL_GW_FREQUENCY_YR\n",
    "    ylabel = \"Mass [$\\mathrm{M}_\\odot$]\"\n",
    "\n",
    "    xx = data[0]['fobs_cents'] * YR\n",
    "    parvars = []\n",
    "\n",
    "    fig,axs = plot.figax_single(ncols=2, figsize=(8, 4), sharey=True, sharex=True)\n",
    "    fig.text(0.5, 0.02, xlabel, va='center', ha='center')\n",
    "    axs[0].set_ylabel(ylabel)\n",
    "\n",
    "    lw_ss = np.ones(NLOUDEST)\n",
    "    lw_ss[0] = 2\n",
    "\n",
    "    ls_ss = np.repeat('--', NLOUDEST)\n",
    "    ls_ss[0] = '-'\n",
    "\n",
    "    for vv in range(NVARS):\n",
    "        mt_ss = data[vv]['sspar'][0]/MSOL\n",
    "        mt_bg = data[vv]['bgpar'][0]/MSOL\n",
    "        # mt_tot = np.sqrt(hc_bg**2 + np.sum(hc_ss**2, axis=-1))\n",
    "        parvars.append(params[vv][target])\n",
    "\n",
    "        axs[1].plot(np.median(mt_bg, axis=(-1)), color=colors[vv], alpha=0.5, lw=1)\n",
    "            # axs[1].plot(np.median(hc_ss, axis=(-2,-1)), color=colors[vv], alpha=0.5, lw=0.5)\n",
    "            # axs[2].plot(np.median(hc_bg, axis=(-1)), color=colors[vv], alpha=0.5, lw=0.5)\n",
    "        \n",
    "        # plot first loudest\n",
    "        ii=0\n",
    "        axs[0].plot(np.median(mt_ss[...,ii], axis=-1), color=colors[vv], alpha=0.5, lw=lw_ss[ii], ls=ls_ss[ii])\n",
    "\n",
    "        # plot rest of loudest\n",
    "        for ii in range(1, NLOUDEST):\n",
    "            axs[0].plot(np.median(mt_ss[...,ii], axis=-1), color=colors[vv], alpha=0.25, lw=lw_ss[ii], ls=ls_ss[ii])\n",
    "        \n",
    "        \n",
    "    fig.subplots_adjust(wspace=0)\n",
    "    # fig.text(0.365, 0.92, 'hc_tot', ha='left', va='top')\n",
    "    fig.text(0.48, 0.92, '$M_\\mathrm{SS}$', ha='left', va='top', fontsize=14)\n",
    "    fig.text(0.86, 0.92, '$\\langle M \\\\rangle_\\mathrm{BG}$', ha='left', va='top', fontsize=14)\n",
    "\n",
    "    norm = mpl.colors.Normalize(vmin=parvars[0], vmax=parvars[-1])\n",
    "    cax = fig.add_axes([0.25,-0.04,0.5,0.02])\n",
    "    # cmap = mpl.colors.LinearSegmentedColormap.from_list(parvars, colors)\n",
    "    cb = mpl.colorbar.ColorbarBase(cax, cmap=mpl.cm.rainbow, norm=norm, orientation='horizontal', \n",
    "                                label=plot.PARAM_KEYS[target])\n",
    "    # fig.suptitle(target)\n",
    "    # im = axs[2].scatter([], [], [], cmap=cmap)\n",
    "    # plt.colorbar(im, ax=axs[2], cmap=colors)\n",
    "    return fig\n"
   ]
  },
  {
   "cell_type": "code",
   "execution_count": null,
   "metadata": {},
   "outputs": [],
   "source": [
    "target='gsmf_phi0'\n",
    "# data1, params1 = get_data(target)\n",
    "fig = plot_char_strains(target, data1, params1)\n",
    "fig = plot_masses(target, data1, params1)"
   ]
  },
  {
   "cell_type": "code",
   "execution_count": null,
   "metadata": {},
   "outputs": [],
   "source": [
    "target='gsmf_mchar0_log10'\n",
    "# data2, params2 = get_data(target)\n",
    "fig = plot_char_strains(target, data2, params2)\n",
    "fig = plot_masses(target, data2, params2)"
   ]
  },
  {
   "cell_type": "code",
   "execution_count": null,
   "metadata": {},
   "outputs": [],
   "source": [
    "target='mmb_mamp_log10'\n",
    "# data3, params3 = get_data(target)\n",
    "fig = plot_char_strains(target, data3, params3)\n",
    "fig = plot_masses(target, data3, params3)"
   ]
  },
  {
   "cell_type": "code",
   "execution_count": null,
   "metadata": {},
   "outputs": [],
   "source": [
    "target='mmb_scatter_dex'\n",
    "data4, params4 = get_data(target)\n",
    "fig = plot_char_strains(target, data4, params4)\n",
    "fig = plot_masses(target, data4, params4)"
   ]
  },
  {
   "cell_type": "code",
   "execution_count": null,
   "metadata": {},
   "outputs": [],
   "source": [
    "target='hard_time'\n",
    "data5, params5 = get_data(target)\n",
    "fig = plot_char_strains(target, data5, params5)\n",
    "fig = plot_masses(target, data5, params5)"
   ]
  },
  {
   "cell_type": "code",
   "execution_count": null,
   "metadata": {},
   "outputs": [],
   "source": [
    "target='hard_gamma_inner'\n",
    "data6, params6 = get_data(target)\n",
    "fig = plot_char_strains(target, data6, params6)\n",
    "fig = plot_masses(target, data6, params6)"
   ]
  },
  {
   "cell_type": "code",
   "execution_count": null,
   "metadata": {},
   "outputs": [],
   "source": []
  }
 ],
 "metadata": {
  "kernelspec": {
   "display_name": "holo310",
   "language": "python",
   "name": "python3"
  },
  "language_info": {
   "codemirror_mode": {
    "name": "ipython",
    "version": 3
   },
   "file_extension": ".py",
   "mimetype": "text/x-python",
   "name": "python",
   "nbconvert_exporter": "python",
   "pygments_lexer": "ipython3",
   "version": "3.1.-1"
  }
 },
 "nbformat": 4,
 "nbformat_minor": 2
}
