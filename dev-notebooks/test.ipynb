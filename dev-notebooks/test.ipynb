{
 "cells": [
  {
   "cell_type": "code",
   "execution_count": null,
   "metadata": {},
   "outputs": [],
   "source": [
    "# %load ../notebooks/init.ipy\n",
    "%reload_ext autoreload\n",
    "%autoreload 2\n",
    "\n",
    "# Builtin packages\n",
    "from importlib import reload\n",
    "import logging\n",
    "import os\n",
    "from pathlib import Path\n",
    "import sys\n",
    "import warnings\n",
    "\n",
    "# standard secondary packages\n",
    "import astropy as ap\n",
    "import h5py\n",
    "import matplotlib as mpl\n",
    "import matplotlib.pyplot as plt\n",
    "import numpy as np\n",
    "import scipy as sp\n",
    "import scipy.stats\n",
    "import tqdm.notebook as tqdm\n",
    "\n",
    "# development packages\n",
    "import kalepy as kale\n",
    "import kalepy.utils\n",
    "import kalepy.plot\n",
    "\n",
    "# --- Holodeck ----\n",
    "import holodeck as holo\n",
    "import holodeck.sam\n",
    "from holodeck import cosmo, utils, plot\n",
    "from holodeck.constants import MSOL, PC, YR, MPC, GYR, SPLC, NWTG\n",
    "import holodeck.gravwaves\n",
    "import holodeck.evolution\n",
    "import holodeck.population\n",
    "\n",
    "# Silence annoying numpy errors\n",
    "np.seterr(divide='ignore', invalid='ignore', over='ignore')\n",
    "warnings.filterwarnings(\"ignore\", category=UserWarning)\n",
    "\n",
    "# Plotting settings\n",
    "mpl.rc('font', **{'family': 'serif', 'sans-serif': ['Times'], 'size': 15})\n",
    "mpl.rc('lines', solid_capstyle='round')\n",
    "mpl.rc('mathtext', fontset='cm')\n",
    "mpl.style.use('default')   # avoid dark backgrounds from dark theme vscode\n",
    "plt.rcParams.update({'grid.alpha': 0.5})\n",
    "\n",
    "# Load log and set logging level\n",
    "log = holo.log\n",
    "log.setLevel(logging.INFO)"
   ]
  },
  {
   "cell_type": "code",
   "execution_count": null,
   "metadata": {},
   "outputs": [],
   "source": [
    "def gwb_sa_gw_only(sam, fobs_gw):\n",
    "    ndens = sam.static_binary_density   # This is ``d^3 n / [dlog10(M) dq dz]``\n",
    "    mt, mr, rz = [vv[..., np.newaxis] for vv in sam.grid]\n",
    "    mc = utils.chirp_mass_mtmr(mt, mr)\n",
    "    fogw = np.asarray(fobs_gw)[np.newaxis, np.newaxis, np.newaxis, :]\n",
    "\n",
    "    pref = 4 * np.pi * np.power(np.pi * fogw, -4.0/3.0) / SPLC**2\n",
    "    integ = (ndens[..., np.newaxis] / MPC**3) * np.power(NWTG*mc, 5.0/3.0) / np.power(1+rz, 1.0/3.0)\n",
    "    hc = pref * utils._integrate_grid_differential_number(sam.edges, integ, freq=False)\n",
    "    hc = np.sum(hc, axis=(0, 1, 2))\n",
    "    hc = np.sqrt(hc)\n",
    "    return hc"
   ]
  },
  {
   "cell_type": "code",
   "execution_count": null,
   "metadata": {},
   "outputs": [],
   "source": [
    "NREALS = 30\n",
    "SHAPE = 100\n",
    "hard = holo.evolution.Hard_GW()\n",
    "sam = holo.sam.Semi_Analytic_Model(shape=SHAPE)"
   ]
  },
  {
   "cell_type": "code",
   "execution_count": null,
   "metadata": {},
   "outputs": [],
   "source": [
    "ff = utils.nyquist_freqs(20*YR, 0.2*YR)\n",
    "# ff = fobs_gw_edges\n",
    "gwb_sa = gwb_sa_gw_only(sam, ff)\n",
    "fig, ax = plot.figax()\n",
    "xx = ff * YR\n",
    "plot._draw_plaw(ax, xx, f0=1)\n",
    "ax.plot(xx, gwb_sa, 'b+-')"
   ]
  },
  {
   "cell_type": "code",
   "execution_count": null,
   "metadata": {},
   "outputs": [],
   "source": [
    "DUR = 100.0 * YR\n",
    "FBIN = 0\n",
    "FMIN = 1 / DUR\n",
    "DF = FMIN / 2.0\n",
    "fobs_gw = FMIN\n",
    "fobs_gw_edges = FMIN * (FBIN + 1) + np.array([-DF, +DF])\n",
    "fobs_gw_all = [fobs_gw_edges[0], fobs_gw, fobs_gw_edges[1]]\n",
    "print(fobs_gw_edges*YR, \"1/yr\")"
   ]
  },
  {
   "cell_type": "code",
   "execution_count": null,
   "metadata": {},
   "outputs": [],
   "source": [
    "gwb_test = sam.gwb(fobs_gw_edges, realize=NREALS, hard=hard)\n",
    "\n",
    "gff = np.zeros(NREALS)\n",
    "gwf = np.zeros(NREALS)\n",
    "gwb = np.zeros(NREALS)\n",
    "\n",
    "for ii in range(NREALS):\n",
    "    fobs_orb_edges = fobs_gw_edges / 2.0\n",
    "    # `fobs_orb` is returned in `edges[3]`, and vals[3] is also observer-frame orbital frequencies\n",
    "    vals, weights, edges, dens, mass = holo.sam.sample_sam_with_hardening(sam, hard, fobs_orb=fobs_orb_edges, sample_threshold=1e2, poisson_inside=True, poisson_outside=True)\n",
    "    gff[ii], gwf[ii], gwb[ii] = holo.gravwaves._gws_from_samples(vals, weights, fobs_gw_edges)"
   ]
  },
  {
   "cell_type": "code",
   "execution_count": null,
   "metadata": {},
   "outputs": [],
   "source": [
    "fobs_gw_all, gwb_sa_ref"
   ]
  },
  {
   "cell_type": "code",
   "execution_count": null,
   "metadata": {},
   "outputs": [],
   "source": [
    "gwb_sa_ref = gwb_sa_gw_only(sam, fobs_gw_all)\n",
    "\n",
    "kw = dict(density=True, hist=True, carpet=True, confidence=True, quantiles=[0.5])\n",
    "kale.dist1d(gwb_test, color='r', **kw)\n",
    "gwb_mc = np.sqrt(gwb**2 + gwf**2)\n",
    "kale.dist1d(gwb_mc, color='k', **kw)\n",
    "ax = plt.gca()\n",
    "# ax.set(xlim=[4.0e-14, 4.1e-14])\n",
    "for sa in gwb_sa_ref:\n",
    "    ax.axvline(sa, color='b', ls=':', alpha=0.5)\n",
    "\n",
    "plt.show()"
   ]
  },
  {
   "cell_type": "code",
   "execution_count": null,
   "metadata": {},
   "outputs": [],
   "source": [
    "ratio = gwb_test[:, np.newaxis] / gwb_mc[np.newaxis, :]\n",
    "np.mean(ratio), np.median(ratio), np.std(ratio)"
   ]
  },
  {
   "cell_type": "markdown",
   "metadata": {},
   "source": [
    "# Try different SAM grid sizes"
   ]
  },
  {
   "cell_type": "code",
   "execution_count": null,
   "metadata": {},
   "outputs": [],
   "source": [
    "NREALS = 30\n",
    "SHAPE = 10\n",
    "hard = holo.evolution.Hard_GW()\n",
    "sam = holo.sam.Semi_Analytic_Model(shape=SHAPE)\n",
    "\n",
    "gwb_test = sam.gwb(fobs_gw_edges, realize=NREALS, hard=hard)\n",
    "\n",
    "gff = np.zeros(NREALS)\n",
    "gwf = np.zeros(NREALS)\n",
    "gwb = np.zeros(NREALS)\n",
    "\n",
    "for ii in range(NREALS):\n",
    "    fobs_orb_edges = fobs_gw_edges / 2.0\n",
    "    # `fobs_orb` is returned in `edges[3]`\n",
    "    vals, weights, edges, dens, mass = holo.sam.sample_sam_with_hardening(sam, hard, fobs_orb=fobs_orb_edges, sample_threshold=1e2, poisson_inside=True, poisson_outside=True)\n",
    "    gff[ii], gwf[ii], gwb[ii] = holo.gravwaves._gws_from_samples(vals, weights, fobs_gw_edges)\n",
    "    \n",
    "sa = gwb_test\n",
    "mc = np.sqrt(gwf**2 + gwb**2)\n",
    "data_100 = dict(gwb_sa=sa, gwb_mc=mc)\n",
    "\n",
    "kw = dict(density=True, hist=True, carpet=True, confidence=True, quantiles=[0.5])\n",
    "kale.dist1d(sa, color='r', **kw)\n",
    "kale.dist1d(mc, color='k', **kw)"
   ]
  },
  {
   "cell_type": "code",
   "execution_count": null,
   "metadata": {},
   "outputs": [],
   "source": [
    "data = [data_20, data_30, data_40, data_50, data_60, data_80, data_100]\n",
    "nums = [20, 30, 40, 50, 60, 80, 100]\n",
    "nd = len(data)\n",
    "mc = np.zeros((nd, NREALS))\n",
    "sa = np.zeros((nd, NREALS))\n",
    "\n",
    "for ii, dd in enumerate(data):\n",
    "    mc[ii, :] = dd['gwb_mc'][:]\n",
    "    sa[ii, :] = dd['gwb_sa'][:]\n"
   ]
  },
  {
   "cell_type": "code",
   "execution_count": null,
   "metadata": {},
   "outputs": [],
   "source": [
    "fig, ax = plot.figax()\n",
    "\n",
    "xx = nums\n",
    "ax.plot(xx, np.median(mc, axis=1), color='k')\n",
    "ax.fill_between(xx, *np.percentile(mc, [25, 75], axis=1), color='k', alpha=0.1)\n",
    "\n",
    "ax.plot(xx, np.median(sa, axis=1), color='r')\n",
    "ax.fill_between(xx, *np.percentile(sa, [25, 75], axis=1), color='r', alpha=0.1)\n",
    "\n",
    "ratio = sa/mc\n",
    "tw = ax.twinx()\n",
    "tw.plot(xx, np.median(ratio, axis=1), 'b-')\n",
    "tw.fill_between(xx, *np.percentile(ratio, [25, 75], axis=1), color='b', alpha=0.1)\n",
    "\n",
    "plt.show()"
   ]
  },
  {
   "cell_type": "markdown",
   "metadata": {},
   "source": [
    "# Try different tweaks to calculation (e.g. bin edges vs. cents...)"
   ]
  },
  {
   "cell_type": "code",
   "execution_count": null,
   "metadata": {},
   "outputs": [],
   "source": [
    "fobs_orb_edges = fobs_edges / 2.0\n",
    "edges, dnum = sam.dynamic_binary_number(hard, fobs=fobs_orb_edges)\n",
    "number_0 = holo.utils._integrate_grid_differential_number(edges, dnum, freq=True)\n",
    "number_1 = holo.utils._integrate_grid_differential_number(edges, dnum, freq=False)\n",
    "number_1 = holo.utils.trapz(number_1/edges[3], edges[3], axis=3, cumsum=False)\n",
    "\n",
    "ratio = np.nan_to_num(number_1/number_0)\n",
    "print(kale.utils.stats_str(ratio))"
   ]
  },
  {
   "cell_type": "code",
   "execution_count": null,
   "metadata": {},
   "outputs": [],
   "source": [
    "cents = [kale.utils.midpoints(ee, log=False) for ee in edges]\n",
    "cgrid = np.meshgrid(*cents, indexing='ij')\n",
    "egrid = np.meshgrid(*edges, indexing='ij')\n",
    "df = kale.utils.midpoints(np.diff(egrid[-1], axis=-1), axis=(0, 1, 2))\n",
    "dlnf = kale.utils.midpoints(np.diff(np.log(egrid[-1]), axis=-1), axis=(0, 1, 2))\n",
    "print(np.shape(cgrid), np.shape(egrid), df.shape, dlnf.shape)"
   ]
  },
  {
   "cell_type": "code",
   "execution_count": null,
   "metadata": {},
   "outputs": [],
   "source": [
    "def hs_from_grid(grid):\n",
    "    mc = utils.chirp_mass(*utils.m1m2_from_mtmr(grid[0], grid[1]))\n",
    "    dc = cosmo.comoving_distance(grid[2]).cgs.value\n",
    "    # These should be *orbital*-frequencies\n",
    "    fr = utils.frst_from_fobs(grid[3], grid[2])\n",
    "    hs = utils.gw_strain_source(mc, dc, fr)\n",
    "    return hs\n",
    "\n",
    "hs_cents = hs_from_grid(cgrid)\n",
    "hs_edges = hs_from_grid(egrid)\n",
    "hs_edge_cents = kale.utils.midpoints(hs_edges, axis=None)\n",
    "\n",
    "ratio = hs_cents/hs_edge_cents\n",
    "print(kale.utils.stats_str(ratio))"
   ]
  },
  {
   "cell_type": "code",
   "execution_count": null,
   "metadata": {},
   "outputs": [],
   "source": [
    "hs_weight = dnum * (hs_edges ** 2)\n",
    "print(utils.stats(hs_weight))\n",
    "hs_weight = np.sqrt(utils._integrate_grid_differential_number(edges, hs_weight, freq=True) / number_0)\n",
    "hs_weight = np.nan_to_num(hs_weight)\n",
    "ratio = hs_weight / hs_edge_cents\n",
    "print(kale.utils.stats_str(ratio))"
   ]
  },
  {
   "cell_type": "code",
   "execution_count": null,
   "metadata": {},
   "outputs": [],
   "source": [
    "hc_0 = np.sqrt(np.sum(number_0 * (hs_cents**2) * cgrid[-1] / df, axis=(0, 1, 2)))\n",
    "hc_1 = np.sqrt(np.sum(number_0 * (hs_cents**2) / dlnf, axis=(0, 1, 2)))\n",
    "print(hc_0, hc_1)\n",
    "ratio = hc_1/hc_0\n",
    "print(ratio)"
   ]
  },
  {
   "cell_type": "code",
   "execution_count": null,
   "metadata": {},
   "outputs": [],
   "source": [
    "# gwb_ref = sam.gwb(fobs_edges, realize=NREALS, hard=hard)\n",
    "gwb_test = sam.gwb(fobs_edges, realize=NREALS, hard=hard)"
   ]
  },
  {
   "cell_type": "code",
   "execution_count": null,
   "metadata": {},
   "outputs": [],
   "source": [
    "# gwb_ref = sam.gwb(fobs_edges, realize=NREALS, hard=hard)\n",
    "gwb_test = sam.gwb(fobs_edges, realize=NREALS, hard=hard)\n",
    "\n",
    "gff = np.zeros(NREALS)\n",
    "gwf = np.zeros(NREALS)\n",
    "gwb = np.zeros(NREALS)\n",
    "\n",
    "for ii in range(NREALS):\n",
    "    vals, weights, edges, dens, mass = holo.sam.sample_sam_with_hardening(sam, hard, fobs=fobs_edges, sample_threshold=1e2, poisson_inside=True, poisson_outside=True)\n",
    "    gff[ii], gwf[ii], gwb[ii] = holo.gravwaves._gws_from_samples(vals, weights, 2*fobs_edges)"
   ]
  },
  {
   "cell_type": "code",
   "execution_count": null,
   "metadata": {},
   "outputs": [],
   "source": [
    "tot = np.sqrt(gwb**2 + gwf**2)\n",
    "aves = []\n",
    "meds = []\n",
    "for val in [gwb_ref, tot]:\n",
    "    sel = np.percentile(val, [25, 75])\n",
    "    sel = (sel[0] < val) & (val < sel[1])\n",
    "    ave = np.mean(val[sel])\n",
    "    med = np.median(val[sel])\n",
    "    std = np.std(val[sel])\n",
    "    aves.append(ave)\n",
    "    meds.append(med)\n",
    "\n",
    "for vals in [aves, meds]:\n",
    "    diff = (vals[1] - vals[0]) / vals[0]\n",
    "    print(f\"{diff:.4f}\")"
   ]
  },
  {
   "cell_type": "code",
   "execution_count": null,
   "metadata": {},
   "outputs": [],
   "source": [
    "kw = dict(density=True, hist=True, carpet=True, confidence=True, quantiles=[0.5])\n",
    "kale.dist1d(gwb_ref, **kw)\n",
    "kale.dist1d(gwb_test, color='r', **kw)\n",
    "kale.dist1d(np.sqrt(gwf**2 + gwb**2), color='k', **kw)"
   ]
  },
  {
   "cell_type": "markdown",
   "metadata": {},
   "source": [
    "# Where to calculate strains relative to bins?  Centers?  Edges?  Weighted?"
   ]
  },
  {
   "cell_type": "code",
   "execution_count": null,
   "metadata": {},
   "outputs": [],
   "source": [
    "import zcode.math as zmath"
   ]
  },
  {
   "cell_type": "code",
   "execution_count": null,
   "metadata": {},
   "outputs": [],
   "source": [
    "NUM = 1e3\n",
    "masses = zmath.random_power([1e6, 1e10], -2, int(NUM))\n",
    "bin_edges = zmath.spacing(masses, 'log', 20)\n",
    "bin_cents = zmath.midpoints(bin_edges)\n",
    "\n",
    "fig, ax = plot.figax()\n",
    "ax.hist(masses, bins=bin_edges, weights=0.6*np.ones_like(masses), alpha=0.2)\n",
    "plt.show()"
   ]
  },
  {
   "cell_type": "code",
   "execution_count": null,
   "metadata": {},
   "outputs": [],
   "source": [
    "mrat = 0.2\n",
    "redz = 0.1\n",
    "dcom = cosmo.comoving_distance(redz).cgs.value\n",
    "fobs = 1.0 / YR\n",
    "frst_orb = (fobs / 2.0) * (1.0 + redz)\n",
    "mchirp = utils.chirp_mass(*utils.m1m2_from_mtmr(masses * MSOL, mrat))\n",
    "print(utils.stats(mchirp))\n",
    "hs = utils.gw_strain_source(mchirp, dcom, frst_orb)\n",
    "print(utils.stats(hs))\n",
    "\n",
    "hs_bins, *_ = sp.stats.binned_statistic(masses, hs**2, statistic='mean', bins=bin_edges)\n",
    "hs_bins = np.sqrt(hs_bins)\n",
    "\n",
    "mchirp_edges = utils.chirp_mass(*utils.m1m2_from_mtmr(bin_edges * MSOL, mrat))\n",
    "hs_edges = utils.gw_strain_source(mchirp_edges, dcom, frst_orb)\n",
    "hs_edges_cent_lin = zmath.midpoints(hs_edges, log=False)\n",
    "hs_edges_cent_log = zmath.midpoints(hs_edges, log=True)\n",
    "\n",
    "mchirp_cents = utils.chirp_mass(*utils.m1m2_from_mtmr(bin_cents * MSOL, mrat))\n",
    "hs_cents = utils.gw_strain_source(mchirp_cents, dcom, frst_orb)\n",
    "\n",
    "fig, axes = plot.figax(ncols=2)\n",
    "\n",
    "ax = axes[0]\n",
    "plot.draw_hist_steps(ax, bin_edges, hs_bins)\n",
    "ax.scatter(bin_edges, hs_edges, color='r', marker='+', alpha=0.2)\n",
    "ax.scatter(bin_cents, hs_cents, color='b', marker='x', alpha=0.2)\n",
    "ax.scatter(bin_cents, hs_edges_cent_lin, color='g', marker='|', alpha=0.2)\n",
    "ax.scatter(bin_cents, hs_edges_cent_log, color='yellow', marker='.', alpha=0.5)\n",
    "# ax.set(xlim=[3e8, 3e9], ylim=[3e-17, 1e-15])\n",
    "\n",
    "plt.show()"
   ]
  }
 ],
 "metadata": {
  "kernelspec": {
   "display_name": "Python 3.9.13 ('py39')",
   "language": "python",
   "name": "python3"
  },
  "language_info": {
   "codemirror_mode": {
    "name": "ipython",
    "version": 3
   },
   "file_extension": ".py",
   "mimetype": "text/x-python",
   "name": "python",
   "nbconvert_exporter": "python",
   "pygments_lexer": "ipython3",
   "version": "3.9.13"
  },
  "vscode": {
   "interpreter": {
    "hash": "61b4062b24dfb1010f420dad5aa3bd73a4d2af47d0ec44eafec465a35a9d7239"
   }
  }
 },
 "nbformat": 4,
 "nbformat_minor": 2
}
