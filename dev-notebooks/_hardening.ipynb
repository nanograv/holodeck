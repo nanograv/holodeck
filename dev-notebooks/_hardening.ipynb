{
 "cells": [
  {
   "cell_type": "code",
   "execution_count": null,
   "id": "05f9f080",
   "metadata": {},
   "outputs": [],
   "source": [
    "# %load ./init.ipy\n",
    "%reload_ext autoreload\n",
    "%autoreload 2\n",
    "from importlib import reload\n",
    "\n",
    "import os\n",
    "import sys\n",
    "import logging\n",
    "import warnings\n",
    "import numpy as np\n",
    "import astropy as ap\n",
    "import scipy as sp\n",
    "import scipy.stats\n",
    "import matplotlib as mpl\n",
    "import matplotlib.pyplot as plt\n",
    "\n",
    "import h5py\n",
    "import tqdm.notebook as tqdm\n",
    "\n",
    "import kalepy as kale\n",
    "import kalepy.utils\n",
    "import kalepy.plot\n",
    "\n",
    "import holodeck as holo\n",
    "import holodeck.sam\n",
    "from holodeck import cosmo, utils, plot\n",
    "from holodeck.constants import MSOL, PC, YR, MPC, GYR\n",
    "\n",
    "# Silence annoying numpy errors\n",
    "np.seterr(divide='ignore', invalid='ignore', over='ignore')\n",
    "warnings.filterwarnings(\"ignore\", category=UserWarning)\n",
    "\n",
    "# Plotting settings\n",
    "mpl.rc('font', **{'family': 'serif', 'sans-serif': ['Times'], 'size': 15})\n",
    "mpl.rc('lines', solid_capstyle='round')\n",
    "mpl.rc('mathtext', fontset='cm')\n",
    "plt.rcParams.update({'grid.alpha': 0.5})\n",
    "\n",
    "log = holo.log\n",
    "log.setLevel(logging.INFO)"
   ]
  },
  {
   "cell_type": "code",
   "execution_count": null,
   "id": "f1c6642d",
   "metadata": {},
   "outputs": [],
   "source": [
    "# ---- Create initial population\n",
    "\n",
    "pop = holo.population.Pop_Illustris()\n",
    "\n",
    "# ---- Apply population modifiers\n",
    "\n",
    "# resample to increase the number of binaries\n",
    "mod_resamp = holo.population.PM_Resample(resample=5.0)\n",
    "# modify population (in-place)\n",
    "pop.modify(mod_resamp)"
   ]
  },
  {
   "cell_type": "markdown",
   "id": "0835821e",
   "metadata": {},
   "source": [
    "# Magic Power-Law Evolution"
   ]
  },
  {
   "cell_type": "markdown",
   "id": "a3de4a76",
   "metadata": {},
   "source": [
    "## Demonstrate functional form"
   ]
  },
  {
   "cell_type": "code",
   "execution_count": null,
   "id": "512edeac",
   "metadata": {},
   "outputs": [],
   "source": [
    "Fixed_Time = holo.evolution.Fixed_Time"
   ]
  },
  {
   "cell_type": "code",
   "execution_count": null,
   "id": "226c7b5b",
   "metadata": {},
   "outputs": [],
   "source": [
    "rads = np.logspace(-4, 4, 100)\n",
    "mtot = 1.0e9 * MSOL\n",
    "mrat = 0.2\n",
    "g1 = -1.0\n",
    "g2 = +2.5\n",
    "\n",
    "fig, ax = plot.figax()\n",
    "\n",
    "rchar = 300.0 * PC\n",
    "\n",
    "for norm in [1e7, 1e8, 1e9]:\n",
    "    yy, _ = Fixed_Time._dadt_dedt(mtot, mrat, rads*PC, norm, rchar, g1, g2)\n",
    "    yy = np.fabs(yy)\n",
    "    yy = rads / yy\n",
    "    ax.plot(rads, yy, label=f\"$10^{{{np.log10(norm):.1f}}}$\")\n",
    "\n",
    "ax.axvline(rchar/PC, ls='--')\n",
    "\n",
    "plt.legend()\n",
    "plt.show()\n",
    "    "
   ]
  },
  {
   "cell_type": "markdown",
   "id": "fa58b1b7",
   "metadata": {},
   "source": [
    "## Uniform merger-time"
   ]
  },
  {
   "cell_type": "code",
   "execution_count": null,
   "id": "8222991b",
   "metadata": {},
   "outputs": [],
   "source": [
    "fix_time = 2.0 * GYR\n",
    "fixed = holo.evolution.Fixed_Time.from_pop(pop, fix_time)\n",
    "evo = holo.evolution.Evolution(pop, fixed)\n",
    "evo.evolve()"
   ]
  },
  {
   "cell_type": "code",
   "execution_count": null,
   "id": "57716c23",
   "metadata": {},
   "outputs": [],
   "source": [
    "time = evo.tlook\n",
    "dt = time[:, 0] - time[:, -1]\n",
    "\n",
    "fig, ax = plot.figax(scale='lin', xlabel='Time: actual/specified', ylabel='density')\n",
    "kale.dist1d(dt/fix_time, density=True)\n",
    "plt.show()"
   ]
  },
  {
   "cell_type": "code",
   "execution_count": null,
   "id": "45ab0b82",
   "metadata": {},
   "outputs": [],
   "source": [
    "sepa = np.logspace(-4, 4, 100) * PC\n",
    "plot.plot_evo(evo, sepa=sepa)\n",
    "plt.show()"
   ]
  },
  {
   "cell_type": "code",
   "execution_count": null,
   "id": "d62a6b6b",
   "metadata": {},
   "outputs": [],
   "source": [
    "freqs = holo.utils.nyquist_freqs(20.0, 0.3) / YR\n",
    "gwb = holo.gravwaves.GW_Discrete(evo, freqs, nreals=10)\n",
    "gwb.emit()"
   ]
  },
  {
   "cell_type": "code",
   "execution_count": null,
   "id": "2fbb0289",
   "metadata": {},
   "outputs": [],
   "source": [
    "plot.plot_gwb(gwb)\n",
    "plt.show()"
   ]
  },
  {
   "cell_type": "markdown",
   "id": "26717b86",
   "metadata": {},
   "source": [
    "## Callable Merger Time"
   ]
  },
  {
   "cell_type": "code",
   "execution_count": null,
   "id": "c8483a98",
   "metadata": {},
   "outputs": [],
   "source": [
    "fix_time = holo.sam.GMT_Power_Law()\n",
    "fixed = holo.evolution.Fixed_Time.from_pop(pop, fix_time)\n",
    "evo = holo.evolution.Evolution(pop, fixed)\n",
    "evo.evolve()"
   ]
  },
  {
   "cell_type": "code",
   "execution_count": null,
   "id": "3eade084",
   "metadata": {},
   "outputs": [],
   "source": [
    "time = evo.tlook\n",
    "dt = time[:, 0] - time[:, -1]\n",
    "dt = dt / GYR\n",
    "print(utils.stats(dt))\n",
    "\n",
    "fig, ax = plot.figax(scale='lin', xlabel='Time: actual/specified', ylabel='density')\n",
    "kale.dist1d(dt, density=True)\n",
    "plt.show()"
   ]
  },
  {
   "cell_type": "markdown",
   "id": "e9284cf8",
   "metadata": {},
   "source": [
    "# Diagnostics"
   ]
  },
  {
   "cell_type": "markdown",
   "id": "cf03a627",
   "metadata": {},
   "source": [
    "Calculate normalization to get particular integrated time"
   ]
  },
  {
   "cell_type": "code",
   "execution_count": null,
   "id": "d4dd8f7b",
   "metadata": {},
   "outputs": [],
   "source": [
    "time = 2.5 * GYR\n",
    "\n",
    "args = [mtot, mrat, rchar, g1, g2, 1e4*PC]\n",
    "\n",
    "norm = Fixed_Time._get_norm(time, *args)[0]\n",
    "print(f\"{norm=:.2e}\")\n",
    "tot = Fixed_Time._time_total(norm, *args)[0]\n",
    "print(f\"{tot/GYR=:.2e} {tot/time=:.2e}\")\n"
   ]
  },
  {
   "cell_type": "code",
   "execution_count": null,
   "id": "4bb56d0d",
   "metadata": {},
   "outputs": [],
   "source": [
    "NUM = int(2e3)\n",
    "# NUM = 3\n",
    "mtot = MSOL * 10 ** np.random.uniform(6, 10, NUM)\n",
    "mrat = 10 ** np.random.uniform(-4, 0, NUM)\n",
    "time = np.random.uniform(0.0, 10.0, NUM) * GYR\n",
    "rchar = PC * 10.0 ** np.random.uniform(-1, 2)\n",
    "# print(f\"{mtot=}\")\n",
    "# print(f\"{mrat=}\")\n",
    "# print(f\"{time=}\")\n",
    "\n",
    "args = [mtot, mrat, rchar, g1, g2, 1e4*PC]\n",
    "\n",
    "print(f\"{time/GYR=:}\")\n",
    "# norm = timed._get_norm(time, *args)\n",
    "norm = Fixed_Time._get_norm_chunk(time, *args)\n",
    "\n",
    "print(f\"{norm=:}\")\n",
    "tot = Fixed_Time._time_total(norm, *args)\n",
    "print(f\"{tot/GYR=:} {tot/time=:}\")"
   ]
  },
  {
   "cell_type": "code",
   "execution_count": null,
   "id": "acfca511",
   "metadata": {},
   "outputs": [],
   "source": [
    "NUM = int(1e4)\n",
    "mt = 10.0 ** np.random.uniform(6, 11, NUM) * MSOL\n",
    "mr = 10.0 ** np.random.uniform(-5, 0, NUM)\n",
    "td = np.random.uniform(0.0, 20.0, NUM+1)[1:] * GYR\n",
    "rm = 10.0 ** np.random.uniform(3, 5, NUM) * PC\n",
    "# rm = 1e4 * PC\n",
    "\n",
    "norm = Fixed_Time._get_norm_chunk(td, mt, mr, 10*PC, -1.0, +2.5, rm)\n",
    "\n",
    "print(td/GYR)\n",
    "\n",
    "valid = np.isfinite(norm) & (norm > 0.0)\n",
    "print(\"valid = \", utils.frac_str(valid, 4), np.all(valid))"
   ]
  },
  {
   "cell_type": "code",
   "execution_count": null,
   "id": "7af8c526",
   "metadata": {},
   "outputs": [],
   "source": [
    "points = [mt, mr, td, rm]\n",
    "units = [MSOL, 1.0, GYR, PC]\n",
    "points = [pp/uu for pp, uu in zip(points, units)]\n",
    "points = np.log10(points).T\n",
    "interp = sp.interpolate.LinearNDInterpolator(points, np.log10(norm))\n",
    "backup = sp.interpolate.NearestNDInterpolator(points, np.log10(norm))"
   ]
  },
  {
   "cell_type": "code",
   "execution_count": null,
   "id": "10837e4d",
   "metadata": {},
   "outputs": [],
   "source": [
    "def test_and_check(interp, backup, rchar, gamma_one, gamma_two, num=1e2, debug=True):\n",
    "    NUM = int(1e2)\n",
    "    _mt = 10.0 ** np.random.uniform(6, 11, NUM) * MSOL\n",
    "    _mr = 10.0 ** np.random.uniform(-4, 0, NUM)\n",
    "    _td = np.random.uniform(0.0, 20.0, NUM+1)[1:] * GYR\n",
    "    _rm = 10.0 ** np.random.uniform(3, 5, NUM) * PC\n",
    "\n",
    "    test_points = [_mt, _mr, _td, _rm]\n",
    "    test_points = [pp/uu for pp, uu in zip(test_points, units)]\n",
    "    test_points = np.log10(test_points).T\n",
    "    tests = 10.0 ** interp(test_points)\n",
    "    \n",
    "    bads = ~np.isfinite(tests)\n",
    "    num_bad = np.count_nonzero(bads)\n",
    "    if (num_bad > 0) and debug:\n",
    "        print(f\"WARNING: found non-finite test values {utils.frac_str(bads)}\")\n",
    "        for tt in test_points.T:\n",
    "            print(f\"\\t{tt[bads]:}\")\n",
    "\n",
    "    backup_points = [tt[bads] for tt in test_points.T]\n",
    "    tests[bads] = 10.0 ** backup(np.array(backup_points).T)\n",
    "    bads = ~np.isfinite(tests)\n",
    "    if np.any(bads):\n",
    "        print(f\"WARNING: non-finite test values after backup {utils.frac_str(bads)}\")\n",
    "        raise\n",
    "            \n",
    "    checks = Fixed_Time._get_norm_chunk(_td, _mt, _mr, rchar, gamma_one, gamma_two, _rm)\n",
    "    bads = ~np.isfinite(checks)\n",
    "    if np.any(bads):\n",
    "        print(f\"WARNING: found non-finite check values {utils.frac_str(bads)}\")\n",
    "        for tt in test_points.T:\n",
    "            print(f\"\\t{tt[bads]:}\")\n",
    "            \n",
    "    return tests, checks, test_points, num_bad\n",
    "    "
   ]
  },
  {
   "cell_type": "code",
   "execution_count": null,
   "id": "45ed9b72",
   "metadata": {},
   "outputs": [],
   "source": [
    "tests, checks, test_points, num_bad = test_and_check(interp, backup, 10.0*PC, -1.0, +2.5, debug=False)\n",
    "frac = tests/checks\n",
    "print(f\"{num_bad=} = {num_bad/tests.size:.2e} ::: {utils.stats(frac, prec=4)}\")"
   ]
  },
  {
   "cell_type": "code",
   "execution_count": null,
   "id": "03927a84",
   "metadata": {},
   "outputs": [],
   "source": [
    "nums_list = [1e3, 3e3, 1e4, 3e4, 1e5]\n",
    "nums_bad = np.zeros_like(nums_list)\n",
    "errors = np.zeros((nums_bad.size, 3))\n",
    "\n",
    "for ii, num in enumerate(utils.tqdm(nums_list)):\n",
    "    interp, backup = Fixed_Time._calculate_interpolant(10.0*PC, -1.0, +2.5, num_points=num)\n",
    "    tests, checks, test_points, nbad = \\\n",
    "        test_and_check(interp, backup, 10.0*PC, -1.0, +2.5, debug=False)\n",
    "    fracs = tests / checks\n",
    "    nums_bad[ii] = nbad\n",
    "    errors[ii, :] = utils.quantiles(fracs, sigmas=[-1, 0, 1])\n",
    "    "
   ]
  },
  {
   "cell_type": "code",
   "execution_count": null,
   "id": "7c8b09a6",
   "metadata": {},
   "outputs": [],
   "source": [
    "fig, ax = plot.figax(yscale='lin')\n",
    "ax.plot(nums_list, nums_bad)\n",
    "plt.show()\n",
    "\n",
    "\n",
    "fig, ax = utils.figax(yscale='lin')\n",
    "ax.plot(nums_list, errors[:, 1])\n",
    "ax.fill_between(nums_list, errors[:, 0], errors[:, -1], alpha=0.2)\n",
    "plt.show()"
   ]
  }
 ],
 "metadata": {
  "kernelspec": {
   "display_name": "Python 3.10.2 ('py310')",
   "language": "python",
   "name": "python3"
  },
  "language_info": {
   "codemirror_mode": {
    "name": "ipython",
    "version": 3
   },
   "file_extension": ".py",
   "mimetype": "text/x-python",
   "name": "python",
   "nbconvert_exporter": "python",
   "pygments_lexer": "ipython3",
   "version": "3.10.2"
  },
  "toc": {
   "base_numbering": 1,
   "nav_menu": {},
   "number_sections": true,
   "sideBar": true,
   "skip_h1_title": false,
   "title_cell": "Table of Contents",
   "title_sidebar": "Contents",
   "toc_cell": false,
   "toc_position": {
    "height": "calc(100% - 180px)",
    "left": "10px",
    "top": "150px",
    "width": "165px"
   },
   "toc_section_display": true,
   "toc_window_display": true
  },
  "varInspector": {
   "cols": {
    "lenName": 16,
    "lenType": 16,
    "lenVar": 40
   },
   "kernels_config": {
    "python": {
     "delete_cmd_postfix": "",
     "delete_cmd_prefix": "del ",
     "library": "var_list.py",
     "varRefreshCmd": "print(var_dic_list())"
    },
    "r": {
     "delete_cmd_postfix": ") ",
     "delete_cmd_prefix": "rm(",
     "library": "var_list.r",
     "varRefreshCmd": "cat(var_dic_list()) "
    }
   },
   "types_to_exclude": [
    "module",
    "function",
    "builtin_function_or_method",
    "instance",
    "_Feature"
   ],
   "window_display": false
  },
  "vscode": {
   "interpreter": {
    "hash": "1f0c7602c82e39efa19a01e5e068584db7a6d17aff8711ab06660aac81377393"
   }
  }
 },
 "nbformat": 4,
 "nbformat_minor": 5
}
