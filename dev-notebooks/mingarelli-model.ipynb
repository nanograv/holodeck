{
 "cells": [
  {
   "cell_type": "code",
   "execution_count": null,
   "id": "present-semester",
   "metadata": {},
   "outputs": [],
   "source": [
    "# %load ./init.ipy\n",
    "%reload_ext autoreload\n",
    "%autoreload 2\n",
    "from importlib import reload\n",
    "\n",
    "import os\n",
    "import sys\n",
    "import logging\n",
    "import warnings\n",
    "import numpy as np\n",
    "import scipy as sp\n",
    "import scipy.stats\n",
    "import matplotlib as mpl\n",
    "import matplotlib.pyplot as plt\n",
    "\n",
    "import h5py\n",
    "\n",
    "import kalepy as kale\n",
    "\n",
    "import holodeck as holo\n",
    "from holodeck.constants import MSOL, PC, YR, MPC\n",
    "\n",
    "# Silence annoying numpy errors\n",
    "np.seterr(divide='ignore', invalid='ignore', over='ignore')\n",
    "warnings.filterwarnings(\"ignore\", category=UserWarning)\n",
    "\n",
    "# Plotting settings\n",
    "mpl.rc('font', **{'family': 'serif', 'sans-serif': ['Times'], 'size': 15})\n",
    "mpl.rc('lines', solid_capstyle='round')\n",
    "mpl.rc('mathtext', fontset='cm')\n",
    "plt.rcParams.update({'grid.alpha': 0.5})"
   ]
  },
  {
   "cell_type": "code",
   "execution_count": null,
   "id": "floral-bibliography",
   "metadata": {},
   "outputs": [],
   "source": [
    "import holodeck.pop_observational\n",
    "reload(holodeck.pop_observational)"
   ]
  },
  {
   "cell_type": "code",
   "execution_count": null,
   "id": "funny-partition",
   "metadata": {},
   "outputs": [],
   "source": [
    "FNAME = \"observational_2mass_galaxy-catalog_extended.npz\"\n",
    "fname = os.path.join(holo._PATH_DATA, FNAME)\n",
    "# _pop, pop = holodeck.pop_observational.pipeline()\n",
    "pop = holo.pop_observational.BP_Observational(fname)"
   ]
  },
  {
   "cell_type": "code",
   "execution_count": null,
   "id": "7dca83f9",
   "metadata": {},
   "outputs": [],
   "source": [
    "pop.mtot, pop.mrat = holo.utils.mtmr_from_m1m2(pop.mass)\n",
    "pop.redz = holo.cosmo.a_to_z(pop.scafa)"
   ]
  },
  {
   "cell_type": "code",
   "execution_count": null,
   "id": "ce155cb4",
   "metadata": {},
   "outputs": [],
   "source": []
  },
  {
   "cell_type": "code",
   "execution_count": null,
   "id": "brief-spank",
   "metadata": {},
   "outputs": [],
   "source": [
    "data = [np.log10(pop.mtot/MSOL), np.log10(pop.mrat), pop.redz]\n",
    "weight = pop.weight\n",
    "idx = (weight > 0.0)\n",
    "data = [dd[idx] for dd in data]\n",
    "weight = weight[idx]\n",
    "reflect = [None, True, [0, None]]\n",
    "print(weight.size)\n",
    "\n",
    "# bad = ~np.isfinite(data[-1])\n",
    "# data[-1][bad] = np.inf\n",
    "# print(data[-1])\n",
    "# print(np.percentile(data[-1], [0, 25, 50, 75, 100]))\n",
    "# breaker()\n",
    "\n",
    "# for dd in data:\n",
    "#     print(dd)\n",
    "#     print(np.percentile(dd, [0, 25, 50, 75, 100]))\n",
    "    \n",
    "kde = kale.KDE(data, weights=weight, reflect=reflect)\n",
    "corner = kale.Corner(kde, rotate=False, labels=['mtot', 'mrat', 'redz'])\n",
    "corner.plot()\n",
    "plt.show()"
   ]
  },
  {
   "cell_type": "code",
   "execution_count": null,
   "id": "dress-grave",
   "metadata": {},
   "outputs": [],
   "source": []
  },
  {
   "cell_type": "code",
   "execution_count": null,
   "id": "incredible-sewing",
   "metadata": {},
   "outputs": [],
   "source": []
  },
  {
   "cell_type": "code",
   "execution_count": null,
   "id": "typical-seafood",
   "metadata": {},
   "outputs": [],
   "source": [
    "def create_extended_single_catalog(out_fname):\n",
    "    fname = \"2mass_galaxies.lst\"\n",
    "    fname = os.path.join(holo._PATH_DATA, fname)\n",
    "    catalog = np.loadtxt(fname, usecols=(1, 2, 3, 4))\n",
    "\n",
    "    fname = \"added_Mks.lst\"\n",
    "    fname = os.path.join(holo._PATH_DATA, fname)\n",
    "    ext_catalog = np.loadtxt(fname, usecols=(1, 2, 3, 4, 5), skiprows=2)\n",
    "\n",
    "    k_mag = catalog[:, 3]\n",
    "    k_mag = np.hstack((k_mag, ext_catalog[:, 4]))\n",
    "\n",
    "    fname = os.path.join(holo._PATH_DATA, out_fname)\n",
    "    np.savez(fname, k_mag=k_mag)\n",
    "    print(f\"saved to {fname}\")\n",
    "    return\n",
    "\n",
    "create_extended_single_catalog()"
   ]
  }
 ],
 "metadata": {
  "kernelspec": {
   "display_name": "py38",
   "language": "python",
   "name": "py38"
  },
  "language_info": {
   "codemirror_mode": {
    "name": "ipython",
    "version": 3
   },
   "file_extension": ".py",
   "mimetype": "text/x-python",
   "name": "python",
   "nbconvert_exporter": "python",
   "pygments_lexer": "ipython3",
   "version": "3.8.11"
  },
  "toc": {
   "base_numbering": 1,
   "nav_menu": {},
   "number_sections": true,
   "sideBar": true,
   "skip_h1_title": false,
   "title_cell": "Table of Contents",
   "title_sidebar": "Contents",
   "toc_cell": false,
   "toc_position": {
    "height": "calc(100% - 180px)",
    "left": "10px",
    "top": "150px",
    "width": "165px"
   },
   "toc_section_display": true,
   "toc_window_display": false
  },
  "varInspector": {
   "cols": {
    "lenName": 16,
    "lenType": 16,
    "lenVar": 40
   },
   "kernels_config": {
    "python": {
     "delete_cmd_postfix": "",
     "delete_cmd_prefix": "del ",
     "library": "var_list.py",
     "varRefreshCmd": "print(var_dic_list())"
    },
    "r": {
     "delete_cmd_postfix": ") ",
     "delete_cmd_prefix": "rm(",
     "library": "var_list.r",
     "varRefreshCmd": "cat(var_dic_list()) "
    }
   },
   "types_to_exclude": [
    "module",
    "function",
    "builtin_function_or_method",
    "instance",
    "_Feature"
   ],
   "window_display": false
  }
 },
 "nbformat": 4,
 "nbformat_minor": 5
}
