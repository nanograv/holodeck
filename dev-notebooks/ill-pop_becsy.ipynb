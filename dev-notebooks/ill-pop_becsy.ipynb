{
 "cells": [
  {
   "cell_type": "code",
   "execution_count": null,
   "metadata": {},
   "outputs": [],
   "source": [
    "# %load ../notebooks/init.ipy\n",
    "%reload_ext autoreload\n",
    "%autoreload 2\n",
    "\n",
    "# Builtin packages\n",
    "from importlib import reload\n",
    "import logging\n",
    "import os\n",
    "from pathlib import Path\n",
    "import sys\n",
    "import warnings\n",
    "\n",
    "# standard secondary packages\n",
    "import astropy as ap\n",
    "import h5py\n",
    "import matplotlib as mpl\n",
    "import matplotlib.pyplot as plt\n",
    "import numpy as np\n",
    "import scipy as sp\n",
    "import scipy.stats\n",
    "import tqdm.notebook as tqdm\n",
    "\n",
    "# development packages\n",
    "import kalepy as kale\n",
    "import kalepy.utils\n",
    "import kalepy.plot\n",
    "\n",
    "# --- Holodeck ----\n",
    "import holodeck as holo\n",
    "import holodeck.sam\n",
    "from holodeck import cosmo, utils, plot\n",
    "from holodeck.constants import MSOL, PC, YR, MPC, GYR\n",
    "import holodeck.gravwaves\n",
    "import holodeck.evolution\n",
    "import holodeck.population\n",
    "\n",
    "# Silence annoying numpy errors\n",
    "np.seterr(divide='ignore', invalid='ignore', over='ignore')\n",
    "warnings.filterwarnings(\"ignore\", category=UserWarning)\n",
    "\n",
    "# Plotting settings\n",
    "mpl.rc('font', **{'family': 'serif', 'sans-serif': ['Times'], 'size': 15})\n",
    "mpl.rc('lines', solid_capstyle='round')\n",
    "mpl.rc('mathtext', fontset='cm')\n",
    "mpl.style.use('default')   # avoid dark backgrounds from dark theme vscode\n",
    "plt.rcParams.update({'grid.alpha': 0.5})\n",
    "\n",
    "# Load log and set logging level\n",
    "log = holo.log\n",
    "log.setLevel(logging.INFO)"
   ]
  },
  {
   "cell_type": "markdown",
   "metadata": {},
   "source": [
    "Initialize Parameters and Population"
   ]
  },
  {
   "cell_type": "code",
   "execution_count": null,
   "metadata": {},
   "outputs": [],
   "source": [
    "import holodeck.extensions\n",
    "\n",
    "# Choose observational parameters (frequency sampling)\n",
    "DUR = 3.0 * YR\n",
    "CAD = 0.3 * YR\n",
    "fobs = holo.utils.nyquist_freqs(DUR, CAD)\n",
    "\n",
    "# Choose binary population parameters\n",
    "RESAMP = 2.0       # resample initial population for smoother statistics\n",
    "TIME = 3.0 * GYR   # lifetime of systems between formation and coalescence\n",
    "DENS = 2.0         # change the density of binaries in the universe by this factor\n",
    "MAMP = 1e9 * MSOL  # normalization of the MBH-Galaxy mass relation\n",
    "\n",
    "# Initialize `Realizer` instance that creates binary population, and generates multiple realizations from it\n",
    "fobs_orb = fobs / 2.0   # convert from GW-frequencies to orbital-frequencies (assuming circular)\n",
    "realizer = holo.extensions.Realizer(fobs_orb, resample=RESAMP, lifetime=TIME, mamp=MAMP, dens=DENS)"
   ]
  },
  {
   "cell_type": "markdown",
   "metadata": {},
   "source": [
    "Generate Realizations"
   ]
  },
  {
   "cell_type": "code",
   "execution_count": null,
   "metadata": {},
   "outputs": [],
   "source": [
    "NREALS = 30     # number of realizations\n",
    "# DOWN = None\n",
    "DOWN = 3.0      # factor by which to down-sample population: speeds up calculation, but shouldn't change bulk properties\n",
    "\n",
    "num_freq_bins = fobs.size - 1\n",
    "gff = np.zeros((NREALS, num_freq_bins))     # frequency of loudest source in each frequency bin\n",
    "gwf = np.zeros_like(gff)                    # strain of loudest source in each frequency bin\n",
    "gwb = np.zeros_like(gff)                    # strain of GWB in each frequency bin\n",
    "\n",
    "for rr in tqdm.trange(NREALS):\n",
    "    names, samples = realizer(down_sample=DOWN)\n",
    "\n",
    "    num_samp = samples[0].size\n",
    "    weights = np.ones(num_samp)\n",
    "    if DOWN is not None:\n",
    "        weights *= DOWN\n",
    "        \n",
    "    hs, fo = holo.gravwaves._strains_from_samples(samples)\n",
    "    gff[rr, :], gwf[rr, :], gwb[rr, :] = holo.gravwaves.gws_from_sampled_strains(fobs, fo, hs, weights)"
   ]
  },
  {
   "cell_type": "markdown",
   "metadata": {},
   "source": [
    "Plot realizations"
   ]
  },
  {
   "cell_type": "code",
   "execution_count": null,
   "metadata": {},
   "outputs": [],
   "source": [
    "xx = fobs*YR\n",
    "cc = kale.utils.midpoints(xx)\n",
    "fig, ax = plot.figax()\n",
    "\n",
    "med, *conf = np.percentile(gwb, [50, 25, 75], axis=0)\n",
    "conf = [plot._get_hist_steps(xx, cc)[1] for cc in conf]\n",
    "\n",
    "aa, bb = plot._get_hist_steps(xx, med)\n",
    "ax.plot(aa, bb, alpha=0.65)\n",
    "\n",
    "ax.fill_between(aa, *conf, alpha=0.2)\n",
    "\n",
    "for yy in gwb:\n",
    "    # aa, bb = plot._get_hist_steps(xx, yy)\n",
    "    aa = cc; bb = yy\n",
    "    ax.plot(aa, bb, 'k-', lw=0.5, alpha=0.5)\n",
    "\n",
    "plt.show()"
   ]
  }
 ],
 "metadata": {
  "kernelspec": {
   "display_name": "Python 3.9.13 ('py39')",
   "language": "python",
   "name": "python3"
  },
  "language_info": {
   "codemirror_mode": {
    "name": "ipython",
    "version": 3
   },
   "file_extension": ".py",
   "mimetype": "text/x-python",
   "name": "python",
   "nbconvert_exporter": "python",
   "pygments_lexer": "ipython3",
   "version": "3.9.13"
  },
  "vscode": {
   "interpreter": {
    "hash": "61b4062b24dfb1010f420dad5aa3bd73a4d2af47d0ec44eafec465a35a9d7239"
   }
  }
 },
 "nbformat": 4,
 "nbformat_minor": 2
}
