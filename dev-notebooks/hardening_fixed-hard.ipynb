{
 "cells": [
  {
   "cell_type": "code",
   "execution_count": null,
   "metadata": {},
   "outputs": [],
   "source": [
    "# %load ../notebooks/init.ipy\n",
    "%reload_ext autoreload\n",
    "%autoreload 2\n",
    "\n",
    "# Builtin packages\n",
    "from importlib import reload\n",
    "import logging\n",
    "import os\n",
    "from pathlib import Path\n",
    "import sys\n",
    "import warnings\n",
    "\n",
    "# standard secondary packages\n",
    "import astropy as ap\n",
    "import h5py\n",
    "import matplotlib as mpl\n",
    "import matplotlib.pyplot as plt\n",
    "import numpy as np\n",
    "import scipy as sp\n",
    "import scipy.stats\n",
    "import tqdm.notebook as tqdm\n",
    "\n",
    "# development packages\n",
    "import kalepy as kale\n",
    "import kalepy.utils\n",
    "import kalepy.plot\n",
    "\n",
    "# --- Holodeck ----\n",
    "import holodeck as holo\n",
    "import holodeck.sam\n",
    "from holodeck import cosmo, utils, plot\n",
    "from holodeck.constants import MSOL, PC, YR, MPC, GYR\n",
    "import holodeck.gravwaves\n",
    "import holodeck.evolution\n",
    "import holodeck.population\n",
    "\n",
    "# Silence annoying numpy errors\n",
    "np.seterr(divide='ignore', invalid='ignore', over='ignore')\n",
    "warnings.filterwarnings(\"ignore\", category=UserWarning)\n",
    "\n",
    "# Plotting settings\n",
    "mpl.rc('font', **{'family': 'serif', 'sans-serif': ['Times'], 'size': 15})\n",
    "mpl.rc('lines', solid_capstyle='round')\n",
    "mpl.rc('mathtext', fontset='cm')\n",
    "mpl.style.use('default')   # avoid dark backgrounds from dark theme vscode\n",
    "plt.rcParams.update({'grid.alpha': 0.5})\n",
    "\n",
    "# Load log and set logging level\n",
    "log = holo.log\n",
    "log.setLevel(logging.INFO)"
   ]
  },
  {
   "cell_type": "code",
   "execution_count": null,
   "metadata": {},
   "outputs": [],
   "source": [
    "log.setLevel(logging.DEBUG)"
   ]
  },
  {
   "cell_type": "code",
   "execution_count": null,
   "metadata": {},
   "outputs": [],
   "source": [
    "def plot_gwb(fobs, gwb, ax=None):\n",
    "    if ax is None:\n",
    "        fig, ax = plot.figax(xlabel='Frequency $f_\\mathrm{obs}$ [1/yr]', ylabel='Characteristic Strain $h_c$')\n",
    "    else:\n",
    "        fig = ax.figure\n",
    "\n",
    "    xx = (fobs[1:] + fobs[:-1]) * 0.5\n",
    "    ax.plot(xx, np.median(gwb, axis=1))\n",
    "\n",
    "    ax.fill_between(xx, *np.percentile(gwb, [25, 75], axis=1), alpha=0.2)\n",
    "\n",
    "    return fig, ax"
   ]
  },
  {
   "cell_type": "markdown",
   "metadata": {},
   "source": [
    "# Basics"
   ]
  },
  {
   "cell_type": "code",
   "execution_count": null,
   "metadata": {},
   "outputs": [],
   "source": [
    "NUM = 1e2\n",
    "TIME = 1.0 * GYR\n",
    "RMAX = 3.0e3 * PC\n",
    "mtot = [6, 10]\n",
    "mrat = [-4, 0]\n",
    "redz = [-2, 1]\n",
    "\n",
    "NUM = int(NUM)\n",
    "units = [MSOL, 1.0, 1.0]\n",
    "mtot, mrat, redz = [\n",
    "    10.0**np.random.uniform(*xx, NUM) * un\n",
    "    for xx, un in zip([mtot, mrat, redz], units)\n",
    "]\n",
    "sepa = RMAX * np.ones_like(mtot)\n",
    "\n",
    "fixed = holo.evolution.Fixed_Time(TIME, mtot, mrat, redz, sepa)\n",
    "norm = fixed._norm\n",
    "print(f\"{utils.stats(norm)=}\")\n",
    "\n",
    "result_time = fixed._time_total(\n",
    "    norm, mtot, mrat,\n",
    "    fixed._rchar, fixed._gamma_sc, fixed._gamma_df, sepa\n",
    ")\n",
    "print(f\"{utils.stats(result_time/GYR)=}\")\n",
    "error = (TIME - result_time) / TIME\n",
    "print(f\"{utils.stats(error)=}\")\n",
    "\n",
    "fig, axes = plt.subplots(figsize=[12, 5], ncols=2)\n",
    "\n",
    "ax = axes[0]\n",
    "ax.set(title='Hardening Normalization', xlabel='$\\log_{10}(A)$')\n",
    "kale.plot.dist1d(np.log10(norm), ax=ax, density=False)\n",
    "\n",
    "ax = axes[1]\n",
    "ax.set(title='Time Error', xlabel='$\\Delta t / t$')\n",
    "kale.plot.dist1d(error, ax=ax, density=False)\n",
    "\n",
    "plt.show()"
   ]
  },
  {
   "cell_type": "code",
   "execution_count": null,
   "metadata": {},
   "outputs": [],
   "source": [
    "select = 30\n",
    "rads = np.logspace(*np.log10([fixed._TIME_TOTAL_RMIN, RMAX]), 200)\n",
    "\n",
    "dadt = fixed.dadt(mtot[np.newaxis, :], mrat[np.newaxis, :], rads[:, np.newaxis])\n",
    "tau = rads[:, np.newaxis] / -dadt\n",
    "\n",
    "tau = tau / GYR\n",
    "xx = rads / PC\n",
    "\n",
    "select = np.min([mtot.size, select])\n",
    "fig, ax = plot.figax(ylim=[1e-6, 1e1])\n",
    "ax.plot(xx, tau.T[np.random.choice(mtot.size, select, replace=False)].T, 'k-', alpha=0.25, lw=0.5)\n",
    "ax.plot(xx, np.median(tau, axis=1))\n",
    "ax.fill_between(xx, *np.percentile(tau, [25, 75], axis=1), alpha=0.2)\n",
    "\n",
    "plt.show()"
   ]
  },
  {
   "cell_type": "markdown",
   "metadata": {},
   "source": [
    "## Test Interpolants"
   ]
  },
  {
   "cell_type": "code",
   "execution_count": null,
   "metadata": {},
   "outputs": [],
   "source": [
    "norm_true = fixed._norm\n",
    "interp, backup = fixed._calculate_norm_interpolant(fixed._rchar, fixed._gamma_sc, fixed._gamma_df)"
   ]
  },
  {
   "cell_type": "code",
   "execution_count": null,
   "metadata": {},
   "outputs": [],
   "source": [
    "vals = [np.log10(mtot/MSOL), np.log10(mrat), TIME/GYR, np.log10(sepa/PC)]\n",
    "vals = np.broadcast_arrays(*vals)\n",
    "vals = np.array(vals)"
   ]
  },
  {
   "cell_type": "code",
   "execution_count": null,
   "metadata": {},
   "outputs": [],
   "source": [
    "print(f\"{utils.stats(norm_true)=}\")\n",
    "norm_interp = 10.0 ** interp(vals.T)\n",
    "norm_backup = 10.0 ** backup(vals.T)\n",
    "print(f\"{utils.stats(norm_interp)=}\")\n",
    "print(f\"{utils.stats(norm_backup)=}\")\n",
    "error_interp = (norm_interp - norm_true) / norm_true\n",
    "error_backup = (norm_backup - norm_true) / norm_true\n",
    "print(f\"{utils.stats(error_interp)=}\")\n",
    "print(f\"{utils.stats(error_backup)=}\")"
   ]
  },
  {
   "cell_type": "markdown",
   "metadata": {},
   "source": [
    "# SAM"
   ]
  },
  {
   "cell_type": "code",
   "execution_count": null,
   "metadata": {},
   "outputs": [],
   "source": [
    "fobs = utils.nyquist_freqs(10.0*YR, 0.2*YR)"
   ]
  },
  {
   "cell_type": "code",
   "execution_count": null,
   "metadata": {},
   "outputs": [],
   "source": [
    "gsmf = holo.sam.GSMF_Schechter()               # Galaxy Stellar-Mass Function (GSMF)\n",
    "gpf = holo.sam.GPF_Power_Law()                 # Galaxy Pair Fraction         (GPF)\n",
    "gmt = holo.sam.GMT_Power_Law()                 # Galaxy Merger Time           (GMT)\n",
    "mmbulge = holo.relations.MMBulge_Standard()    # M-MBulge Relation            (MMB)\n",
    "\n",
    "sam = holo.sam.Semi_Analytic_Model(gsmf=gsmf, gpf=gpf, gmt=gmt, mmbulge=mmbulge)  # , shape=10)"
   ]
  },
  {
   "cell_type": "code",
   "execution_count": null,
   "metadata": {},
   "outputs": [],
   "source": [
    "fc = utils.nyquist_freqs(10, 0.2)\n",
    "print(fc)\n",
    "df = fc[0]/2\n",
    "fe = fc - df\n",
    "fe = np.concatenate([fe, [fc[-1] + df]])\n",
    "print(fe)\n",
    "print(fc.size, fe.size)"
   ]
  },
  {
   "cell_type": "code",
   "execution_count": null,
   "metadata": {},
   "outputs": [],
   "source": [
    "TIME = 1e-2 * GYR\n",
    "sepa_init = 1e4 * PC\n",
    "\n",
    "sam_small = holo.sam.Semi_Analytic_Model(gsmf=gsmf, gpf=gpf, gmt=gmt, mmbulge=mmbulge)\n",
    "fixed_small = holo.evolution.Fixed_Time.from_sam(sam_small, TIME, sepa_init=sepa_init)\n",
    "gwb_small = sam_small.gwb(fobs, realize=3, hard=fixed_small)    # calculate many different realizations\n",
    "fig, ax = plot_gwb(fobs, gwb_small)"
   ]
  },
  {
   "cell_type": "code",
   "execution_count": null,
   "metadata": {},
   "outputs": [],
   "source": [
    "mt, mr, rz = [gg.ravel() for gg in sam_small.grid]\n",
    "# norm = fixed._get_norm_chunk(\n",
    "#     TIME, mt, mr, fixed._rchar, fixed._gamma_sc, fixed._gamma_df, sepa_init\n",
    "# )\n",
    "tot_time = fixed_small._time_total(\n",
    "    fixed_small._norm, mt, mr,\n",
    "    fixed_small._rchar, fixed_small._gamma_sc, fixed_small._gamma_df,\n",
    "    sepa_init\n",
    ")\n",
    "print(f\"{TIME/GYR=}\")\n",
    "print(f\"{utils.stats(tot_time/GYR)=}\")"
   ]
  },
  {
   "cell_type": "code",
   "execution_count": null,
   "metadata": {},
   "outputs": [],
   "source": []
  },
  {
   "cell_type": "code",
   "execution_count": null,
   "metadata": {},
   "outputs": [],
   "source": []
  },
  {
   "cell_type": "code",
   "execution_count": null,
   "metadata": {},
   "outputs": [],
   "source": []
  },
  {
   "cell_type": "code",
   "execution_count": null,
   "metadata": {},
   "outputs": [],
   "source": [
    "fixed = holo.evolution.from_sam(sam, 1e2 * GYR)"
   ]
  },
  {
   "cell_type": "code",
   "execution_count": null,
   "metadata": {},
   "outputs": [],
   "source": [
    "gwb = sam.gwb(fobs, realize=3, hard=fixed)    # calculate many different realizations"
   ]
  },
  {
   "cell_type": "code",
   "execution_count": null,
   "metadata": {},
   "outputs": [],
   "source": [
    "fig, ax = plot.figax(xlabel='Frequency $f_\\mathrm{obs}$ [1/yr]', ylabel='Characteristic Strain $h_c$')\n",
    "\n",
    "xx = (fobs[1:] + fobs[:-1]) * 0.5\n",
    "ax.plot(xx, np.median(gwb, axis=1))\n",
    "\n",
    "ax.fill_between(xx, *np.percentile(gwb, [25, 75], axis=1), alpha=0.2)\n",
    "\n",
    "plt.show()"
   ]
  }
 ],
 "metadata": {
  "kernelspec": {
   "display_name": "Python 3.9.13 ('py39')",
   "language": "python",
   "name": "python3"
  },
  "language_info": {
   "codemirror_mode": {
    "name": "ipython",
    "version": 3
   },
   "file_extension": ".py",
   "mimetype": "text/x-python",
   "name": "python",
   "nbconvert_exporter": "python",
   "pygments_lexer": "ipython3",
   "version": "3.9.13"
  },
  "vscode": {
   "interpreter": {
    "hash": "61b4062b24dfb1010f420dad5aa3bd73a4d2af47d0ec44eafec465a35a9d7239"
   }
  }
 },
 "nbformat": 4,
 "nbformat_minor": 2
}
